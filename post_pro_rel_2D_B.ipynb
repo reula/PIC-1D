{
 "cells": [
  {
   "attachments": {},
   "cell_type": "markdown",
   "metadata": {},
   "source": [
    "## Clean version of post_pro_landau_rel for D=2\n",
    "\n",
    "We use it and then move the results to Notes_log."
   ]
  },
  {
   "cell_type": "code",
   "execution_count": null,
   "metadata": {},
   "outputs": [],
   "source": [
    "#using DifferentialEquations\n",
    "using Plots\n",
    "using Statistics\n",
    "using FFTW\n",
    "#FFTW.set_provider!(\"mkl\")\n",
    "#import Pkg; Pkg.add(\"FileIO\")\n",
    "using FileIO\n",
    "using JLD2\n",
    "using Base.Threads\n",
    "using Distributions\n",
    "import Pkg; Pkg.add(\"LaTeXStrings\")\n",
    "using LaTeXStrings\n",
    "using Printf\n",
    "using LsqFit\n",
    "using LinearAlgebra\n",
    "using Revise"
   ]
  },
  {
   "cell_type": "code",
   "execution_count": null,
   "metadata": {},
   "outputs": [],
   "source": [
    "const D = 2"
   ]
  },
  {
   "cell_type": "code",
   "execution_count": null,
   "metadata": {},
   "outputs": [],
   "source": [
    "includet(\"aux_functions/aux_functions.jl\")"
   ]
  },
  {
   "cell_type": "code",
   "execution_count": null,
   "metadata": {},
   "outputs": [],
   "source": [
    "outputs = false # detailed output (no longer used)\n",
    "average_outputs =false\n",
    "full_outputs = false\n",
    "animation = false # to run animations\n",
    "phase_space_show = false #show phase space diagrams\n",
    "phase_space_show = true\n",
    "remote_server = false # if run in remote as a script avoid all plots \n",
    "save_plots = true # put true is you want so save your plots.\n",
    "plots = true\n",
    "average_outputs = true"
   ]
  },
  {
   "attachments": {},
   "cell_type": "markdown",
   "metadata": {},
   "source": [
    "We first introduce the name of the file with the data and retrieve the metadata."
   ]
  },
  {
   "cell_type": "code",
   "execution_count": null,
   "metadata": {},
   "outputs": [],
   "source": [
    "#file_name = \"Results/weibel_I2_Box_15.0x15.0_J_64x64_Ax_25_Th3_alp8tf_100_N6_M101_o5_B0_0_full.jld2\"\n",
    "#file_name = \"Results/damped_I2_Box_7.455x1.0_J_930x100_Th3_alp2tf_100_N6_M10001_o5_B0_0_full.jld2\"\n",
    "#file_name = \"Results/weibel_I2_Box_15.0x15.0_J_64x64_Ax_25_Th3_alp8tf_100_N6_M1001_o5_B0_0_full.jld2\"\n",
    "#file_name = \"Results/weibel_I2_Box_15.0x15.0_J_64x64_Ax_25_Th3_alp8tf_1000_N6_M1001_o5_B0_0_full.jld2\"\n",
    "#file_name = \"Results/weibel_I2_Box_15.0x15.0_J_64x64_Ax_25_Th3_alp8tf_10000_N6_M10001_o5_B0_0_full.jld2\"\n",
    "#file_name = \"Results/weibel_I2_Box_15.0x15.0_J_64x64_Ax_25_Th3_alp8tf_4000_N6_M10001_o5_B0_0_full.jld2\"\n",
    "#file_name = \"Results/weibel_I2_Box_15.0x15.0_J_64x64_Ax_25_Th3_alp8tf_4000_N7_M10001_o5_B0_0_full.jld2\"\n",
    "#file_name = \"Results/weibel_I2Box_15.0x15.0_J_64x64_Ax_25_Th3_alp8tf_40_N7_M201_o5_B0_0_ave.jld2\"\n",
    "#file_name = \"Results/weibel_I2Box_15.0x15.0_J_64x64_Ax_25_Th3_alp8tf_40_N5_M201_o5_B0_0_ave.jld2\"\n",
    "file_name = \"Results/weibel_I2Box_15.0x15.0_J_64x64_Ax_25_Th3_alp8tf_40_N5_M201_o5_sbp_B0_0_ave.jld2\""
   ]
  },
  {
   "cell_type": "code",
   "execution_count": null,
   "metadata": {},
   "outputs": [],
   "source": [
    "\n",
    "data, run_name, par_grid, par_evolv, par_f, n0, xs, t_series = retrieve_meta_data_D(file_name)\n",
    "@show run_name\n",
    "@show par_grid\n",
    "@show par_evolv\n",
    "@show par_f\n",
    "@show (N, J, Box_x, order) = par_grid\n",
    "@show (t_i, t_f, M, M_g, dt) = par_evolv\n",
    "#@show (θ, nm, k) = par_f\n",
    "\n",
    "dT = dt*(M-1)/(M_g-1)\n",
    "\n",
    "\n",
    "#freqs_space = L*rfftfreq(J, 1/dx)\n",
    "\n",
    "M_last = M_g  # number of last data point saved. Otherwise use M_g\n",
    "#freqs_time = fftshift(rfftfreq(M_last, 1/dT))\n",
    "#freqs_time = rfftfreq(M_last, 1/dT)*2*π;\n",
    "\n",
    "dx = differentials(Box_x,J)\n",
    "x_p = [dx[1]*(i-1) for i in 1:J[1]] ;\n",
    "y_p = [dx[2]*(i-1) for i in 1:J[2]] ;"
   ]
  },
  {
   "cell_type": "code",
   "execution_count": null,
   "metadata": {},
   "outputs": [],
   "source": [
    "if false\n",
    "f_test(t) = sin(2*π*5*t)\n",
    "F_test = rfft(f_test.(t_series))\n",
    "freqs_time_test = (rfftfreq(M_g, 1/dT));\n",
    "Plots.scatter(freqs_time_test, (abs.(F_test)))\n",
    "end"
   ]
  },
  {
   "attachments": {},
   "cell_type": "markdown",
   "metadata": {},
   "source": [
    "We can have data written out in full o in averaged format: In each case we use different functions. Data written in full has a `\"full.jld2\"` at the end, otherwise a `\"ave.jld2\"` is used.\n",
    "\n",
    "For the full case we use:\n",
    "\n",
    "```\n",
    "v = retrieve_data_D(data, par_grid, par_evolv);\n",
    "```\n",
    "```\n",
    "Energy_K, Energy_E, EField_T, p_T, Q_T, S_T, T = get_averages_threads_D(v,par_grid,par_evolv, par_f);\n",
    "```\n",
    "\n",
    "For the averaged case we use:\n",
    "\n",
    "```\n",
    "M_last = 1601 # number of iterations already completed. \n",
    "\n",
    "n_t, S_t, Efield_t, averages = retrieve_average_data_D(data, par_grid, par_evolv;M_last=M_last);\n",
    "\n",
    "Energy_E,  Energy_K, EField_T, p_T, Q_T, S_T, T = averages;\n",
    "```\n",
    "\n"
   ]
  },
  {
   "cell_type": "code",
   "execution_count": null,
   "metadata": {},
   "outputs": [],
   "source": [
    "data[\"S_00001\"]"
   ]
  },
  {
   "cell_type": "code",
   "execution_count": null,
   "metadata": {},
   "outputs": [],
   "source": [
    "includet(\"aux_functions/aux_functions_IO.jl\")\n",
    "Step = 1\n",
    "M_last = M_g  # number of last data point saved. Otherwise use M_g\n",
    "\n",
    "if average_outputs\n",
    "n_t, S_t, E_field_t, B_field_t, averages = retrieve_average_data_D(data, par_grid, par_evolv;M_last=M_last);\n",
    "\n",
    "Energy_E,  Energy_K, EField_T, p_T, Q_T, S_T, T = averages;\n",
    "\n",
    "elseif full_outputs\n",
    "    v = retrieve_data_D(data, par_grid, par_evolv; M_last=M_last, Step=Step);\n",
    "end"
   ]
  },
  {
   "cell_type": "code",
   "execution_count": null,
   "metadata": {},
   "outputs": [],
   "source": [
    "j = M_last÷Step\n",
    "j = 1\n",
    "if full_outputs\n",
    "    u = v[:,j]\n",
    "    N = length(u)÷4\n",
    "Fuj = view(v[:,j],4N+1:4N+3*prod(J))\n",
    "\n",
    "Fj = reshape(Fuj,3,J...)\n",
    "\n",
    "u = n_t[:,j]\n",
    "N = length(u)÷4\n",
    "\n",
    "#F = view(u[4N+1:end],3,J...)\n",
    "Ej = Fj[1:2,:,:]\n",
    "Bj = Fj[3,:,:];\n",
    "\n",
    "elseif average_outputs\n",
    "Ej = E_field_t[:,:,:,j]\n",
    "Bj = B_field_t[:,:,j]\n",
    "end\n",
    "\n",
    "#surface(y_p,x_p,Ej[2,:,:])\n",
    "surface(y_p,x_p,Bj[:,:].-0.0)\n",
    "\n",
    "#norm(Bj)"
   ]
  },
  {
   "cell_type": "code",
   "execution_count": null,
   "metadata": {},
   "outputs": [],
   "source": [
    "heatmap(y_p,x_p,Bj[:,:].-0.0)\n",
    "#png(\"Notes/Weibel/heat_map_B_f_250_100\")"
   ]
  },
  {
   "cell_type": "code",
   "execution_count": null,
   "metadata": {},
   "outputs": [],
   "source": [
    "if full_outputs\n",
    "    include(\"aux_functions/aux_functions.jl\")\n",
    "    M_r = (M_last-1)÷Step+1\n",
    "    Energy_E = zeros(M_r)\n",
    "    Energy_K = zeros(M_r)\n",
    "    for j in 1:M_r\n",
    "        E_K[j], E_E[j]  = get_energy_rel(v[:,j],(Box_x, N, J))\n",
    "    end\n",
    "end"
   ]
  },
  {
   "cell_type": "code",
   "execution_count": null,
   "metadata": {},
   "outputs": [],
   "source": [
    "\n",
    "factor = 10\n",
    "A = 1.\n",
    "plot(title=\"energy vs time\")\n",
    "plot!(t_series[1:Step:M_last],A*(Energy_E .-Energy_E[1]),label=\"E_E\")\n",
    "plot!(t_series[1:Step:M_last],Energy_K .-Energy_K[1],label=\"E_K\")\n",
    "plot!(t_series[1:Step:M_last],factor*(A*Energy_E + Energy_K .- (A*Energy_E[1]+Energy_K[1])), ls=:dash, label=\"E_T*$(factor)\")\n",
    "#png(\"Notes/Weibel/energy_vs_time_I2_N6_LL_64^2_15^2_101\")\n",
    "#png(\"Notes/Landau/energy_vs_time_I2_N6-damped-15\")"
   ]
  },
  {
   "cell_type": "code",
   "execution_count": null,
   "metadata": {},
   "outputs": [],
   "source": [
    "A = -(Energy_K[end] - Energy_K[1])/(Energy_E[end] - Energy_E[1]) "
   ]
  },
  {
   "cell_type": "code",
   "execution_count": null,
   "metadata": {},
   "outputs": [],
   "source": [
    "@. EE_model(t,p) = p[1] + p[2]*cos(p[3]*t + p[4])^2*exp(-p[5]*t)\n",
    "EE_fit = curve_fit(EE_model, t_series[1:Step:M_last], Energy_E, [0, 1e-5, 0.15, 0.0, 0.0])"
   ]
  },
  {
   "cell_type": "code",
   "execution_count": null,
   "metadata": {},
   "outputs": [],
   "source": [
    "Plots.scatter(t_series[1:Step:M_last],Energy_E,label=\"E_E\", markersize=1)\n",
    "plot!(t_series[1:Step:M_last],EE_model(t_series[1:Step:M_last],EE_fit.param),label=\"fit\", marker_size=1)"
   ]
  },
  {
   "cell_type": "code",
   "execution_count": null,
   "metadata": {},
   "outputs": [],
   "source": [
    "EE_fit.param"
   ]
  },
  {
   "cell_type": "code",
   "execution_count": null,
   "metadata": {},
   "outputs": [],
   "source": [
    "M_r = (M_last-1)÷Step+1\n",
    "j = M_r\n",
    "l = 1\n",
    "P = 20\n",
    "plot(legend=false)\n",
    "#plot()\n",
    "if full_outputs\n",
    "    \n",
    "    for j in 1:M_r\n",
    "        Fuj = view(v[:,j],4N+1:4N+3*prod(J))\n",
    "        Fj = reshape(Fuj,3,J...)\n",
    "        Ej = Fj[1:2,:,:]\n",
    "        Bj = Fj[3,:,:]\n",
    "    plot!(y_p,Ej[l,:,P], label=\"E($l)\")\n",
    "    plot!(y_p,Bj[:,P].-0.0, label=\"B-1\")\n",
    "    end\n",
    "elseif average_outputs\n",
    "    for j in 1:M_r\n",
    "        Ej = E_field_t[:,:,:,j]\n",
    "        Bj = B_field_t[:,:,j]\n",
    "        plot!(y_p,Ej[l,:,P], label=\"E($l)\")\n",
    "        plot!(y_p,Bj[:,P].-0.0, label=\"B-1\")\n",
    "    end\n",
    "end\n",
    "\n",
    "plot!()"
   ]
  },
  {
   "cell_type": "code",
   "execution_count": null,
   "metadata": {},
   "outputs": [],
   "source": [
    "l = 1\n",
    "P = 25\n",
    "#plot(legend=false)\n",
    "plot()\n",
    "j = M_r\n",
    "if full_outputs\n",
    "    Fuj = view(v[:,j],4N+1:4N+3*prod(J))\n",
    "    Fj = reshape(Fuj,3,J...)\n",
    "    Ej = Fj[1:2,:,:]\n",
    "    Bj = Fj[3,:,:]\n",
    "end\n",
    "    plot!(y_p,Ej[l,:,P], label=\"E($l)\")\n",
    "    plot!(y_p,Bj[:,P].-0.0, label=\"B\")\n",
    "\n",
    "#png(\"Notes/Weibel/E_B_field_M_g_N6_long\")\n",
    "    "
   ]
  },
  {
   "cell_type": "code",
   "execution_count": null,
   "metadata": {},
   "outputs": [],
   "source": [
    "if full_outputs\n",
    "    \n",
    "get_density_2D_trans = Density2DTrans(N, J)\n",
    "get_current_2D_trans = Current2DTrans(N, J)\n",
    "nf = get_density_2D_trans(Val(order), Box_x, v[1:2D*N,M_r])\n",
    "ρf = nf .-1.0;\n",
    "S = get_current_2D_trans(Val(order), Box_x, v[1:2D*N,M_r] )\n",
    "end"
   ]
  },
  {
   "cell_type": "code",
   "execution_count": null,
   "metadata": {},
   "outputs": [],
   "source": [
    "@show sum(n_t[:,:,M_g])/prod(J)\n",
    "@show sum(S_t[:,:,1,M_g]/prod(J))"
   ]
  },
  {
   "attachments": {},
   "cell_type": "markdown",
   "metadata": {},
   "source": [
    "### Constraint check"
   ]
  },
  {
   "cell_type": "code",
   "execution_count": null,
   "metadata": {},
   "outputs": [],
   "source": [
    "if full_outputs\n",
    "    Fuj = view(v[:,M_r],4N+1:4N+3*prod(J))\n",
    "    Fj = reshape(Fuj,3,J...)\n",
    "    Ej = Fj[1:2,:,:]\n",
    "end\n",
    "    Err = 0.0\n",
    "    Max = 0.0\n",
    "    r0 = 0.2\n",
    "    M_test = 1000\n",
    "    x0=zeros(M_test,D)\n",
    "    err = zeros(M_test)\n",
    "    rho = zeros(M_test)\n",
    "    erab = zeros(M_test)\n",
    "    diV = zeros(M_test)\n",
    "for i in 1:M_test\n",
    "    x0[i,:]=[Box_x[1] + (Box_x[2]-Box_x[1])*rand(), Box_x[3] + (Box_x[4]-Box_x[3])*rand()]\n",
    "    diV[i], rho[i], err[i], erab[i] = constraint_test(Ej, n_t[:,:,M_r], J, Box_x, ϕ_test, ∇ϕ_test, (x0[i,:], r0, 6))\n",
    "    global Err = Err + abs(err[i])\n",
    "    if err[i] > Max\n",
    "        @show Max = err[i]\n",
    "        @show x0[i,:]\n",
    "    end\n",
    "end\n",
    "println(\"error = $(Err/M_test)\")\n",
    "println(\"Max = $(Max)\")"
   ]
  },
  {
   "cell_type": "code",
   "execution_count": null,
   "metadata": {},
   "outputs": [],
   "source": [
    "\n",
    "p1 = Plots.scatter(x0[:,1],x0[:,2],marker_z=-err[:], markersize=10, alpha=0.1, label=\"-err\", aspectratio=1)\n",
    "p2 = Plots.scatter(x0[:,1],x0[:,2],marker_z=-1.0./abs.(rho[:])./100, markersize=3, alpha=1, label=\"rho\", aspectratio=1)\n",
    "p3 = Plots.scatter(x0[:,1],x0[:,2],marker_z=-erab[:], markersize=10, alpha=0.1, label=\"erab\", aspectratio=1)\n",
    "plot(p1,p2,p3, layout = (2, 2))\n",
    "\n",
    "#png(\"Notes/Weibel/div_error_test_L_$(M_test)_$(r0)_$(order)_$(N)_$(J[1])_$(J[2])_$(M_last)\")"
   ]
  },
  {
   "cell_type": "code",
   "execution_count": null,
   "metadata": {},
   "outputs": [],
   "source": [
    "println(\"error = $(Err/M_test)\")\n",
    "println(\"Max = $(Max)\")"
   ]
  },
  {
   "cell_type": "code",
   "execution_count": null,
   "metadata": {},
   "outputs": [],
   "source": [
    "Err/M_test"
   ]
  },
  {
   "cell_type": "code",
   "execution_count": null,
   "metadata": {},
   "outputs": [],
   "source": [
    "Max"
   ]
  },
  {
   "cell_type": "code",
   "execution_count": null,
   "metadata": {},
   "outputs": [],
   "source": [
    "histogram(err)\n",
    "#png(\"Notes/Weibel/error-histogram_N6_$(M_test)_$(r0)_$(order)_$(N)_$(J[1])_$(J[2])_$(M_last)\")"
   ]
  },
  {
   "attachments": {},
   "cell_type": "markdown",
   "metadata": {},
   "source": [
    "## Temperature"
   ]
  },
  {
   "cell_type": "code",
   "execution_count": null,
   "metadata": {},
   "outputs": [],
   "source": [
    "if full_outputs\n",
    "T = [get_temperature_rel_D(v[1:2D*N,j],N,D) for j in 1:M_last]\n",
    "end\n",
    "plot(t_series[1:M_last],T, label=\"T\")\n",
    "#png(\"Notes/Weibel/Temperature_N6_T100_$(M_test)_$(r0)_$(order)_$(N)_$(J[1])_$(J[2])_$(M_last)\")"
   ]
  },
  {
   "cell_type": "code",
   "execution_count": null,
   "metadata": {},
   "outputs": [],
   "source": [
    "if full_outputs\n",
    "    plot(histogram2d(v[1:2D:2D*N-3,j],v[2:2D:2D*N-2,j], title=\"space distribution\" ))\n",
    "elseif average_outputs\n",
    "    plot(histogram2d(S_t[:,:,1,j],S_t[:,:,2,j], title=\"space distribution\" ))\n",
    "end\n",
    "\n",
    "#png(\"Notes/Weibel/final_space_distribution_N6_short_$(M_test)_$(r0)_$(order)_$(J[1])_$(J[2])_$(M_last)\")\n",
    "#png(\"Notes/Landau/final_space_distribution_N6-damped-15\")"
   ]
  },
  {
   "cell_type": "code",
   "execution_count": null,
   "metadata": {},
   "outputs": [],
   "source": [
    "j = M_last\n",
    "if full_outputs\n",
    "    plot(histogram2d(v[3:4:2D*N-1,j],v[4:4:2D*N,j] )\n",
    ",aspectratio=1\n",
    ",title = \"momentum histogram at j = $j, t = $(t_series[j])\"\n",
    ")\n",
    "elseif average_outputs\n",
    "    plot(histogram2d(S_t[:,:,1,j],S_t[:,:,2,j] )\n",
    ",aspectratio=1\n",
    ",title = \"momentum histogram at j = $j, t = $(t_series[j])\"\n",
    ")\n",
    "end\n",
    "#png(\"Notes/Weibel/momentum_histogram-N6_short_$(order)_$(J[1])_$(J[2])_$(M_last) \")\n",
    "#png(\"Notes/Landau/momentum_histogram-j-$(j)_N6-damped-15\")"
   ]
  },
  {
   "attachments": {},
   "cell_type": "markdown",
   "metadata": {},
   "source": [
    "### Momentum Rotation\n",
    "\n",
    "To meassure the momentum rotation we look at \n",
    "\n",
    "$$\n",
    "\\theta_m = \\frac{<|p_x|>}{\\sqrt{<|p_x|>^2+<|p_y|>^2}}\n",
    "$$"
   ]
  },
  {
   "cell_type": "code",
   "execution_count": null,
   "metadata": {},
   "outputs": [],
   "source": [
    "θ_m = zeros(M_last)\n",
    "B0=1\n",
    "\n",
    "\n",
    "\n",
    "for j in 1:M_last\n",
    "    θ_m[j] = get_theta_x(N, v[1:4N,j], Val(2))\n",
    "end\n"
   ]
  },
  {
   "cell_type": "code",
   "execution_count": null,
   "metadata": {},
   "outputs": [],
   "source": [
    "\n",
    "#@. θ_mod(t,p) = p[1] + (p[2] + p[4]*t)*cos(p[3]*t)^2\n",
    "@. θ_mod(t,p) = p[1] + (p[2] + p[4]*t)*cos(p[3]*t)^2  \n",
    "#@. θ_mod(t,p) = 0.705 + 0.021*cos(1.9795*t) + p[4]*cos(p[5]*t+p[6])\n",
    "\n",
    "Nmax = M_last\n",
    "θ_fit = curve_fit(θ_mod, t_series[1:Nmax], θ_m[1:Nmax], [0.68, 0.03, 0.0, 0.01,2.30,0.0]) \n",
    "Plots.scatter(t_series[1:M_last],θ_m, markersize=1.0)\n",
    "plot!(t_series[1:M_last],θ_mod(t_series[1:M_last],θ_fit.param))\n",
    "#png(\"Notes/Weibel/theta_fit_N6.png\",)\n"
   ]
  },
  {
   "cell_type": "code",
   "execution_count": null,
   "metadata": {},
   "outputs": [],
   "source": [
    "θ_fit.param"
   ]
  },
  {
   "attachments": {},
   "cell_type": "markdown",
   "metadata": {},
   "source": [
    "### Current"
   ]
  },
  {
   "cell_type": "code",
   "execution_count": null,
   "metadata": {},
   "outputs": [],
   "source": [
    "plot_matrix(S_t[:,:,2,M_last])"
   ]
  },
  {
   "cell_type": "code",
   "execution_count": null,
   "metadata": {},
   "outputs": [],
   "source": [
    "#plot of y,p_y\n",
    "plot(histogram2d(v[2:2D:2D*N-2,j],v[4:2D:2D*N,j], title=\"phase space in y distribution\" ))\n",
    "#png(\"Notes/Weibel/final_y_py_distribution_N7\")\n",
    "#png(\"Notes/Landau/final_y_py_distribution_N6-damped-15\")"
   ]
  },
  {
   "cell_type": "code",
   "execution_count": null,
   "metadata": {},
   "outputs": [],
   "source": [
    "#plot of x,p_x\n",
    "plot(histogram2d(v[1:2D:2D*N-3,j],v[3:2D:2D*N-1,j], title=\"phase space in x distribution\" ))\n",
    "#png(\"Notes/Weibel/final_x_px_distribution_N7\")\n",
    "#png(\"Notes/Landau/final_x_px_distribution_N6-damped-15\")"
   ]
  },
  {
   "cell_type": "code",
   "execution_count": null,
   "metadata": {},
   "outputs": [],
   "source": [
    "j=M_last\n",
    "Plots.scatter(v[2:2D:2D*N-2,j],v[4:2D:2D*N,j], markersize=0.1)\n",
    "png(\"Notes/Weibel/y_phase_space_N6_T400_$(order)_$(J[1])_$(J[2])_$(M_last)\")\n",
    "#png(\"Notes/Landau/y_phase_space_N6-damped-15\")"
   ]
  },
  {
   "cell_type": "code",
   "execution_count": null,
   "metadata": {},
   "outputs": [],
   "source": [
    "@show vxmp = sum(abs.(v[3:2D:2D*N-1,j]))/N\n"
   ]
  },
  {
   "cell_type": "code",
   "execution_count": null,
   "metadata": {},
   "outputs": [],
   "source": [
    "yy = []\n",
    "vy = []\n",
    "for i in 1:N\n",
    "    if v[i*2D-D+1,j] > vxmp\n",
    "        push!(yy, v[i*2D-D+2,j])\n",
    "        push!(vy, v[(i-1)*2D+2,j])\n",
    "    end\n",
    "end\n",
    "plot(title=\"y phase space\", legend=false)\n",
    "Plots.scatter(yy,vy, markersize=0.1)\n",
    "\n",
    "png(\"Notes/Weibel/y_phase_space_large_vx_N6_T400_$(order)_$(J[1])_$(J[2])_$(M_last)\")\n",
    "#png(\"Notes/Landau/y_phase_space_large_vx\")"
   ]
  },
  {
   "attachments": {},
   "cell_type": "markdown",
   "metadata": {},
   "source": [
    "## Averaged section"
   ]
  },
  {
   "cell_type": "code",
   "execution_count": null,
   "metadata": {},
   "outputs": [],
   "source": [
    "\n",
    "plot_averages(averages, t_series[1:M_last], N, run_name, save_plots)"
   ]
  },
  {
   "cell_type": "code",
   "execution_count": null,
   "metadata": {},
   "outputs": [],
   "source": [
    "C_i = 0.060145630933730654 + 0.31190415932386045im\n",
    "\n",
    "Plots.scatter(t_series[1:M_last],E_mode[1:M_last], markersize=1)\n",
    "@. model_mode(x,p) = abs(real((p[1]+im*p[2])*exp(im*(p[3]+im*p[4])*x)))\n",
    "N_i = 10\n",
    "N_f = M_last\n",
    "pm = [real.(C_i); imag.(C_i);1.1; 0.10]\n",
    "#model_mode(2,pm)\n",
    "fit_E_mode = curve_fit(model_mode, t_series[N_i:N_f], E_mode[N_i:N_f], pm);\n",
    "plot!(t_series[N_i:N_f], model_mode(t_series[N_i:N_f],fit_E_mode.param))\n",
    "#fit_E_mode.param\n",
    "if save_plots\n",
    "    png(\"Images/\" * run_name * \"_single_mode_fit.png\")\n",
    "end"
   ]
  },
  {
   "cell_type": "code",
   "execution_count": null,
   "metadata": {},
   "outputs": [],
   "source": [
    "fit_E_mode.param"
   ]
  },
  {
   "attachments": {},
   "cell_type": "markdown",
   "metadata": {},
   "source": [
    "#### Energy fit "
   ]
  },
  {
   "cell_type": "code",
   "execution_count": null,
   "metadata": {},
   "outputs": [],
   "source": [
    "plot_energies(Energy_K, Energy_E, t_series[1:M_last], run_name, save_plots)"
   ]
  },
  {
   "cell_type": "code",
   "execution_count": null,
   "metadata": {},
   "outputs": [],
   "source": [
    "@. model_e1(x,p) =  p[1] + p[2]*cos(p[3]*x + p[4])*exp(-p[5]*x) + p[6]*cos(p[7]*x + p[8])*exp(-p[9]*x)\n",
    "@. model_e2(x,p) = p[1] + p[2]*(cos(p[3]*x + p[4])^2 - p[6])*exp(-p[5]*x)\n",
    "@. model_e3(x,p) = p[1] + (p[2]*cos(p[3]*x + p[4])*exp(-p[5]*x) + p[6]*cos(p[7]*x + p[8])*exp(-p[9]*x))^2\n",
    "\n",
    "pe_1 = [0.00001; 0.0001; 2; 0; 0.002; 0.00001; 2; 0; 0.0]\n",
    "pe_2 = [0.0001; 0.1; 1; 0; 0.000; 0.5]\n",
    "\n",
    "#pe = [0.001; 0.001; 2.03; 2; 0.002; 0.001; 3.0; 0.0; 0.0]\n",
    "#pe = [0.01; -0.01; 1; 0; 0.002; 0.0]\n",
    "pe_3 = [0.00001; 0.001; 1.0; 2; 0.000; 0.001; 1.002; 0.0; 0.000]\n",
    "#pe_3 = fit_e.param\n",
    "fit_e, plt = energy_fit(t_series, Energy_E, model_e2, pe_2, 10, M_last, run_name, save_plots, yscale=:identity)\n",
    "plt "
   ]
  },
  {
   "cell_type": "code",
   "execution_count": null,
   "metadata": {},
   "outputs": [],
   "source": [
    "fit_e.param"
   ]
  },
  {
   "attachments": {},
   "cell_type": "markdown",
   "metadata": {},
   "source": [
    "#### Temperature Fit"
   ]
  },
  {
   "cell_type": "code",
   "execution_count": null,
   "metadata": {},
   "outputs": [],
   "source": [
    "N_i = 1\n",
    "N_f = M_last\n",
    "p_tl001 = [0.001; 0.001; 2.02; 0; 0.0; 0.; 2.0; 0; 0]\n",
    "fit_T_1, plt = temperature_fit(t_series, T, p_tl001, N_i, N_f, run_name, save_plots)\n",
    "plt"
   ]
  },
  {
   "cell_type": "code",
   "execution_count": null,
   "metadata": {},
   "outputs": [],
   "source": [
    "#model_tl001(x,p) = p[1] + p[2]*cos(p[3]*x + p[4])*exp(-p[5]*x) + p[6]*cos(p[7]*x + p[8])*exp(-p[9]*x)\n",
    "fit_T_1.param"
   ]
  },
  {
   "cell_type": "code",
   "execution_count": null,
   "metadata": {},
   "outputs": [],
   "source": [
    "ΔT = T .- sum(T)/length(T)\n",
    "T_F = rfft(ΔT)\n",
    "Plots.scatter(freqs_time,abs.((T_F)), title = \" Temperature Spectrum\", label=\"abs.(T_F)\",legend=:topleft\n",
    ", xticks=1.9:0.05:2.3, xlim=(1.9,2.3)\n",
    ")\n",
    "#=\n",
    "Plots.scatter(abs.((T_F)), title = \"Spectrum\", label=\"abs.(T_F)\",legend=:topleft\n",
    "    , xticks=100:1:200, xlim=(120,140)\n",
    "    )\n",
    "    =#\n",
    "\n",
    "    if save_plots\n",
    "        png(\"Images/\" * run_name * \"_temperature_spectrum.png\")\n",
    "    end"
   ]
  },
  {
   "cell_type": "code",
   "execution_count": null,
   "metadata": {},
   "outputs": [],
   "source": [
    "plot(ΔT)"
   ]
  },
  {
   "cell_type": "code",
   "execution_count": null,
   "metadata": {},
   "outputs": [],
   "source": [
    "N_i = 1\n",
    "N_f = M_last\n",
    "p_tl001 = [0.00; 0.001; 2.02; 0; 0.0; 0.; 2.0; 0; 0]\n",
    "fit_ΔT_1, plt = temperature_fit(t_series, T, p_tl001, N_i, N_f, run_name, save_plots)\n",
    "plt"
   ]
  },
  {
   "cell_type": "code",
   "execution_count": null,
   "metadata": {},
   "outputs": [],
   "source": [
    "fit_ΔT_1.param"
   ]
  },
  {
   "attachments": {},
   "cell_type": "markdown",
   "metadata": {},
   "source": [
    "#### Density study"
   ]
  },
  {
   "cell_type": "code",
   "execution_count": null,
   "metadata": {},
   "outputs": [],
   "source": [
    "plot(n_t[:,:,M_last])"
   ]
  },
  {
   "cell_type": "code",
   "execution_count": null,
   "metadata": {},
   "outputs": [],
   "source": [
    "n_F = rfft(n_t[:,M_last].-1); # we take out the background\n",
    "#n_F = rfft(n_t[:,1].-1); # we take out the background"
   ]
  },
  {
   "cell_type": "code",
   "execution_count": null,
   "metadata": {},
   "outputs": [],
   "source": [
    "Plots.scatter(freqs_space,abs.((n_F)), title = \"Density Spectrum\", label=\"abs.(n_F)\",legend=:topleft\n",
    "    , xticks=0:0.2:6\n",
    "    , xlim=(0,6)\n",
    "    )\n",
    "    #recall that it is shifted one position to the right, so the frequency is 20."
   ]
  },
  {
   "cell_type": "code",
   "execution_count": null,
   "metadata": {},
   "outputs": [],
   "source": [
    "3/2*0.1^2"
   ]
  },
  {
   "cell_type": "code",
   "execution_count": null,
   "metadata": {},
   "outputs": [],
   "source": [
    "2.012904971545909/2"
   ]
  },
  {
   "cell_type": "code",
   "execution_count": null,
   "metadata": {},
   "outputs": [],
   "source": [
    "2.0033087748744984/2\n",
    "\n"
   ]
  },
  {
   "cell_type": "code",
   "execution_count": null,
   "metadata": {},
   "outputs": [],
   "source": []
  }
 ],
 "metadata": {
  "kernelspec": {
   "display_name": "Julia 1.10.4",
   "language": "julia",
   "name": "julia-1.10"
  },
  "language_info": {
   "file_extension": ".jl",
   "mimetype": "application/julia",
   "name": "julia",
   "version": "1.10.4"
  },
  "orig_nbformat": 4
 },
 "nbformat": 4,
 "nbformat_minor": 2
}
