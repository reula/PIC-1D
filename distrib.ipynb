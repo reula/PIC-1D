{
 "cells": [
  {
   "cell_type": "code",
   "execution_count": 14,
   "metadata": {},
   "outputs": [],
   "source": [
    "using Plots\n",
    "#using Pkg; Pkg.add(\"DistributedArrays\")\n",
    "#using Transducers\n",
    "using FileIO\n",
    "using Distributed\n",
    "using DistributedArrays\n",
    "using DistributedArrays.SPMD\n",
    "#@everywhere using SharedArrays\n",
    "@everywhere using Distributed\n",
    "@everywhere using DistributedArrays\n",
    "@everywhere using DistributedArrays.SPMD\n",
    "using BenchmarkTools"
   ]
  },
  {
   "cell_type": "code",
   "execution_count": 2,
   "metadata": {},
   "outputs": [
    {
     "data": {
      "text/plain": [
       "4-element Vector{Int64}:\n",
       " 2\n",
       " 3\n",
       " 4\n",
       " 5"
      ]
     },
     "metadata": {},
     "output_type": "display_data"
    }
   ],
   "source": [
    "const N_workers = 4\n",
    "addprocs(N_workers)"
   ]
  },
  {
   "cell_type": "code",
   "execution_count": 3,
   "metadata": {},
   "outputs": [
    {
     "data": {
      "text/plain": [
       "5-element Vector{Int64}:\n",
       " 1\n",
       " 2\n",
       " 3\n",
       " 4\n",
       " 5"
      ]
     },
     "metadata": {},
     "output_type": "display_data"
    }
   ],
   "source": [
    "nprocs()\n",
    "procs()"
   ]
  },
  {
   "cell_type": "code",
   "execution_count": 10,
   "metadata": {},
   "outputs": [
    {
     "data": {
      "text/plain": [
       "4-element Vector{Int64}:\n",
       " 2\n",
       " 3\n",
       " 4\n",
       " 5"
      ]
     },
     "metadata": {},
     "output_type": "display_data"
    }
   ],
   "source": [
    "#rmprocs(6,7,8,9)\n",
    "workers()\n",
    "#nworkers()"
   ]
  },
  {
   "cell_type": "code",
   "execution_count": 4,
   "metadata": {},
   "outputs": [],
   "source": [
    "@everywhere include_string(Main, $(read(\"aux_functions.jl\", String)), \"aux_functions.jl\")"
   ]
  },
  {
   "cell_type": "code",
   "execution_count": 5,
   "metadata": {},
   "outputs": [
    {
     "data": {
      "text/plain": [
       "(5, 20000, 50, 1.2566370614359172, 0.1, 1)"
      ]
     },
     "metadata": {},
     "output_type": "display_data"
    }
   ],
   "source": [
    "order = 1\n",
    "const L = 5\n",
    "#N = 80000\n",
    "const N = 20000\n",
    "const J = 50\n",
    "const κ = 2π/L # for Fourier Transform\n",
    "dx = L/J\n",
    "x = [dx*(i-1) for i in 1:J] ;\n",
    "p = (L, N, J, κ, dx, order)"
   ]
  },
  {
   "cell_type": "code",
   "execution_count": 11,
   "metadata": {},
   "outputs": [],
   "source": [
    "d_closeall()\n"
   ]
  },
  {
   "cell_type": "code",
   "execution_count": 15,
   "metadata": {},
   "outputs": [
    {
     "data": {
      "text/plain": [
       "50×4 DArray{Float64, 2, Matrix{Float64}}:\n",
       " 0.0  0.0  0.0  0.0\n",
       " 0.0  0.0  0.0  0.0\n",
       " 0.0  0.0  0.0  0.0\n",
       " 0.0  0.0  0.0  0.0\n",
       " 0.0  0.0  0.0  0.0\n",
       " 0.0  0.0  0.0  0.0\n",
       " 0.0  0.0  0.0  0.0\n",
       " 0.0  0.0  0.0  0.0\n",
       " 0.0  0.0  0.0  0.0\n",
       " 0.0  0.0  0.0  0.0\n",
       " ⋮              \n",
       " 0.0  0.0  0.0  0.0\n",
       " 0.0  0.0  0.0  0.0\n",
       " 0.0  0.0  0.0  0.0\n",
       " 0.0  0.0  0.0  0.0\n",
       " 0.0  0.0  0.0  0.0\n",
       " 0.0  0.0  0.0  0.0\n",
       " 0.0  0.0  0.0  0.0\n",
       " 0.0  0.0  0.0  0.0\n",
       " 0.0  0.0  0.0  0.0"
      ]
     },
     "metadata": {},
     "output_type": "display_data"
    }
   ],
   "source": [
    "#DS = dzeros((J,4), workers(), [1,4])\n",
    "DS = dzeros((J,nworkers()), workers(), [1,nworkers()]);\n",
    "#pars = dzeros((N), workers(), [nworkers()] )"
   ]
  },
  {
   "cell_type": "code",
   "execution_count": 16,
   "metadata": {},
   "outputs": [],
   "source": [
    "#pars = dzeros((20), workers()[1:nprocs()-1], [nprocs()-1])\n",
    "pars = zeros(2N)\n",
    "#pars = dones((N,), workers(), [nworkers()] );\n",
    "par_dis = load(\"Initial_Distributions/par_dis_L5_N2_5_theta001.jld2\", \"par_dis\");\n",
    "reorder_particles!(par_dis,pars)"
   ]
  },
  {
   "cell_type": "code",
   "execution_count": 17,
   "metadata": {},
   "outputs": [],
   "source": [
    "Dpars = distribute(pars);"
   ]
  },
  {
   "cell_type": "code",
   "execution_count": 63,
   "metadata": {},
   "outputs": [
    {
     "name": "stdout",
     "output_type": "stream",
     "text": [
      "1(1:0, 1:0)(1:0,)\n",
      "Matrix{Float64}(undef, 0, 0)\n",
      "      From worker 3:\t3(1:50, 2:2)(5001:10000,)\n",
      "      From worker 3:\t[0.0; 0.0; 0.0; 0.0; 0.0; 0.0; 0.0; 0.0; 0.0; 0.0; 0.0; 0.0; 0.0; 0.0; 0.0; 0.0; 0.0; 0.0; 0.0; 0.0; 0.0; 0.0; 0.0; 0.0; 0.0; 0.0; 0.0; 0.0; 0.0; 0.0; 0.0; 0.0; 0.0; 0.0; 0.0; 0.0; 0.0; 0.0; 0.0; 0.0; 0.0; 0.0; 0.0; 0.0; 0.0; 0.0; 0.0; 0.0; 0.0; 0.0;;]\n",
      "      From worker 5:\t5(1:50, 4:4)(15001:20000,)\n",
      "      From worker 4:\t4(1:50, 3:3)(10001:15000,)\n",
      "      From worker 5:\t[0.0; 0.0; 0.0; 0.0; 0.0; 0.0; 0.0; 0.0; 0.0; 0.0; 0.0; 0.0; 0.0; 0.0; 0.0; 0.0; 0.0; 0.0; 0.0; 0.0; 0.0; 0.0; 0.0; 0.0; 0.0; 0.0; 0.0; 0.0; 0.0; 0.0; 0.0; 0.0; 0.0; 0.0; 0.0; 0.0; 0.0; 0.0; 0.0; 0.0; 0.0; 0.0; 0.0; 0.0; 0.0; 0.0; 0.0; 0.0; 0.0; 0.0;;]\n",
      "      From worker 4:\t[0.0; 0.0; 0.0; 0.0; 0.0; 0.0; 0.0; 0.0; 0.0; 0.0; 0.0; 0.0; 0.0; 0.0; 0.0; 0.0; 0.0; 0.0; 0.0; 0.0; 0.0; 0.0; 0.0; 0.0; 0.0; 0.0; 0.0; 0.0; 0.0; 0.0; 0.0; 0.0; 0.0; 0.0; 0.0; 0.0; 0.0; 0.0; 0.0; 0.0; 0.0; 0.0; 0.0; 0.0; 0.0; 0.0; 0.0; 0.0; 0.0; 0.0;;]\n",
      "      From worker 2:\t2(1:50, 1:1)(1:5000,)\n",
      "      From worker 2:\t[0.0; 0.0; 0.0; 0.0; 0.0; 0.0; 0.0; 0.0; 0.0; 0.0; 0.0; 0.0; 0.0; 0.0; 0.0; 0.0; 0.0; 0.0; 0.0; 0.0; 0.0; 0.0; 0.0; 0.0; 0.0; 0.0; 0.0; 0.0; 0.0; 0.0; 0.0; 0.0; 0.0; 0.0; 0.0; 0.0; 0.0; 0.0; 0.0; 0.0; 0.0; 0.0; 0.0; 0.0; 0.0; 0.0; 0.0; 0.0; 0.0; 0.0;;]\n"
     ]
    }
   ],
   "source": [
    "@everywhere function impri(u,S)\n",
    "    println(myid(), localindices(S), localindices(u))\n",
    "    println(S[:L])\n",
    "end\n",
    "\n",
    "spmd(impri, pars, S)"
   ]
  },
  {
   "cell_type": "code",
   "execution_count": 86,
   "metadata": {},
   "outputs": [],
   "source": [
    "@everywhere function trys(u,S)\n",
    "    ran_1, ran_2 = localindices(S)\n",
    "    LS = S[:L]\n",
    "        for j in ran_1\n",
    "        LS[j,:] .= j*myid()\n",
    "        end\n",
    "    #return S[:,:]\n",
    "end\n",
    "\n",
    "    "
   ]
  },
  {
   "cell_type": "code",
   "execution_count": 87,
   "metadata": {},
   "outputs": [],
   "source": [
    "spmd(trys, pars, S; pids=workers()) "
   ]
  },
  {
   "cell_type": "code",
   "execution_count": 91,
   "metadata": {},
   "outputs": [],
   "source": [
    "S;"
   ]
  },
  {
   "cell_type": "code",
   "execution_count": 90,
   "metadata": {},
   "outputs": [],
   "source": [
    "Sf = zeros(J)\n",
    "for j in 1:J\n",
    "    for i in 1:nworkers()\n",
    "        Sf[j] += S[j,i]\n",
    "    end\n",
    "end\n",
    " "
   ]
  },
  {
   "cell_type": "code",
   "execution_count": 44,
   "metadata": {},
   "outputs": [
    {
     "name": "stdout",
     "output_type": "stream",
     "text": [
      "(ran_S1, ran_S2) = localindices(DS) = (1:0, 1:0)\n",
      "ran_pars = localindices(Dpars) = (1:0,)\n",
      "      From worker 4:\t(ran_S1, ran_S2) = localindices(DS) = (1:50, 3:3)\n",
      "      From worker 3:\t(ran_S1, ran_S2) = localindices(DS) = (1:50, 2:2)\n",
      "      From worker 3:\tran_pars = localindices(Dpars) = (10001:20000,)\n",
      "      From worker 4:\tran_pars = localindices(Dpars) = (20001:30000,)\n",
      "      From worker 2:\t(ran_S1, ran_S2) = localindices(DS) = (1:50, 1:1)\n",
      "      From worker 2:\tran_pars = localindices(Dpars) = (1:10000,)\n",
      "      From worker 5:\t(ran_S1, ran_S2) = localindices(DS) = (1:50, 4:4)\n",
      "      From worker 5:\tran_pars = localindices(Dpars) = (30001:40000,)\n"
     ]
    }
   ],
   "source": [
    "@everywhere function get_current_ro_range(Dpars::DArray, DS::DArray, p)\n",
    "    L, N, J, κ, dx, order = p\n",
    "    #LN = floor(Int,N ÷ nworkers())\n",
    "    Lu = Dpars[:L]\n",
    "    @show ran_S1, ran_S2 = localindices(DS)\n",
    "    @show ran_pars = localindices(Dpars)\n",
    "    #assuming ran_pars[1] is odd\n",
    "    #ran_init, ran_end = ran_pars\n",
    "    @show odd_range = first(ran_pars):2:last(ran_pars)\n",
    "    #even_range = (ran_init + 1):2:ran_end\n",
    "    LS = DS[:L]\n",
    "    #r = view(Lu,odd_range)\n",
    "    #v = view(Lu,even_range)\n",
    "    fill!(LS,0.0)\n",
    "    #for i in odd_range\n",
    "      #@show(range)\n",
    "      #j, y = get_index_and_y(Lu[i],J,L)\n",
    "      #for l in (-order):order \n",
    "        #LS[mod1(j + l, J),:] += W(order, -y + l) * Lu[i+1] / dx;\n",
    "      #end\n",
    "    #end\n",
    "  end"
   ]
  },
  {
   "cell_type": "code",
   "execution_count": 45,
   "metadata": {},
   "outputs": [
    {
     "ename": "CompositeException",
     "evalue": "TaskFailedException\n\n    nested task error: MethodError: no method matching +(::UnitRange{Int64}, ::Int64)\n    For element-wise addition, use broadcasting with dot syntax: array .+ scalar\n    Closest candidates are:\n      +(::Any, ::Any, !Matched::Any, !Matched::Any...) at /Applications/Julia-1.7.app/Contents/Resources/julia/share/julia/base/operators.jl:655\n      +(!Matched::T, ::T) where T<:Union{Int128, Int16, Int32, Int64, Int8, UInt128, UInt16, UInt32, UInt64, UInt8} at /Applications/Julia-1.7.app/Contents/Resources/julia/share/julia/base/int.jl:87\n      +(::OrdinalRange, !Matched::OrdinalRange) at /Applications/Julia-1.7.app/Contents/Resources/julia/share/julia/base/range.jl:1347\n      ...\n    Stacktrace:\n      [1] _colon(start::UnitRange{Int64}, step::Int64, stop::UnitRange{Int64})\n        @ Base ./range.jl:45\n      [2] (::Colon)(start::UnitRange{Int64}, step::Int64, stop::UnitRange{Int64})\n        @ Base ./range.jl:40\n      [3] macro expansion\n        @ ./show.jl:1047 [inlined]\n      [4] get_current_ro_range(Dpars::DArray{Float64, 1, Vector{Float64}}, DS::DArray{Float64, 2, Matrix{Float64}}, p::Tuple{Int64, Int64, Int64, Float64, Float64, Int64})\n        @ Main ~/Julia/PIC/PIC-1D/distrib.ipynb:9\n      [5] (::DistributedArrays.SPMD.var\"#25#27\"{typeof(get_current_ro_range), Tuple{DArray{Float64, 1, Vector{Float64}}, DArray{Float64, 2, Matrix{Float64}}, Tuple{Int64, Int64, Int64, Float64, Float64, Int64}}})()\n        @ DistributedArrays.SPMD ~/.julia/packages/DistributedArrays/fEM6l/src/spmd.jl:236\n      [6] spmd_local(f::DistributedArrays.SPMD.var\"#25#27\"{typeof(get_current_ro_range), Tuple{DArray{Float64, 1, Vector{Float64}}, DArray{Float64, 2, Matrix{Float64}}, Tuple{Int64, Int64, Int64, Float64, Float64, Int64}}}, ctxt_id::Tuple{Int64, Int64}, clear_ctxt::Bool)\n        @ DistributedArrays.SPMD ~/.julia/packages/DistributedArrays/fEM6l/src/spmd.jl:230\n      [7] (::Distributed.var\"#149#150\"{typeof(DistributedArrays.SPMD.spmd_local), Tuple{DistributedArrays.SPMD.var\"#25#27\"{typeof(get_current_ro_range), Tuple{DArray{Float64, 1, Vector{Float64}}, DArray{Float64, 2, Matrix{Float64}}, Tuple{Int64, Int64, Int64, Float64, Float64, Int64}}}, Tuple{Int64, Int64}, Bool}, Base.Pairs{Symbol, Union{}, Tuple{}, NamedTuple{(), Tuple{}}}})()\n        @ Distributed /Applications/Julia-1.7.app/Contents/Resources/julia/share/julia/stdlib/v1.7/Distributed/src/remotecall.jl:412\n      [8] run_work_thunk(thunk::Distributed.var\"#149#150\"{typeof(DistributedArrays.SPMD.spmd_local), Tuple{DistributedArrays.SPMD.var\"#25#27\"{typeof(get_current_ro_range), Tuple{DArray{Float64, 1, Vector{Float64}}, DArray{Float64, 2, Matrix{Float64}}, Tuple{Int64, Int64, Int64, Float64, Float64, Int64}}}, Tuple{Int64, Int64}, Bool}, Base.Pairs{Symbol, Union{}, Tuple{}, NamedTuple{(), Tuple{}}}}, print_error::Bool)\n        @ Distributed /Applications/Julia-1.7.app/Contents/Resources/julia/share/julia/stdlib/v1.7/Distributed/src/process_messages.jl:63\n      [9] remotecall_fetch(::Function, ::Distributed.LocalProcess, ::Function, ::Vararg{Any}; kwargs::Base.Pairs{Symbol, Union{}, Tuple{}, NamedTuple{(), Tuple{}}})\n        @ Distributed /Applications/Julia-1.7.app/Contents/Resources/julia/share/julia/stdlib/v1.7/Distributed/src/remotecall.jl:437\n     [10] remotecall_fetch(::Function, ::Distributed.LocalProcess, ::Function, ::Vararg{Any})\n        @ Distributed /Applications/Julia-1.7.app/Contents/Resources/julia/share/julia/stdlib/v1.7/Distributed/src/remotecall.jl:437\n     [11] remotecall_fetch(::Function, ::Int64, ::Function, ::Vararg{Any}; kwargs::Base.Pairs{Symbol, Union{}, Tuple{}, NamedTuple{(), Tuple{}}})\n        @ Distributed /Applications/Julia-1.7.app/Contents/Resources/julia/share/julia/stdlib/v1.7/Distributed/src/remotecall.jl:479\n     [12] remotecall_fetch\n        @ /Applications/Julia-1.7.app/Contents/Resources/julia/share/julia/stdlib/v1.7/Distributed/src/remotecall.jl:479 [inlined]\n     [13] (::DistributedArrays.SPMD.var\"#26#28\"{DistributedArrays.SPMD.var\"#25#27\"{typeof(get_current_ro_range), Tuple{DArray{Float64, 1, Vector{Float64}}, DArray{Float64, 2, Matrix{Float64}}, Tuple{Int64, Int64, Int64, Float64, Float64, Int64}}}, Int64})()\n        @ DistributedArrays.SPMD ./task.jl:423\n    Stacktrace:\n     [1] remotecall_fetch(::Function, ::Distributed.LocalProcess, ::Function, ::Vararg{Any}; kwargs::Base.Pairs{Symbol, Union{}, Tuple{}, NamedTuple{(), Tuple{}}})\n       @ Distributed /Applications/Julia-1.7.app/Contents/Resources/julia/share/julia/stdlib/v1.7/Distributed/src/remotecall.jl:438\n     [2] remotecall_fetch(::Function, ::Distributed.LocalProcess, ::Function, ::Vararg{Any})\n       @ Distributed /Applications/Julia-1.7.app/Contents/Resources/julia/share/julia/stdlib/v1.7/Distributed/src/remotecall.jl:437\n     [3] remotecall_fetch(::Function, ::Int64, ::Function, ::Vararg{Any}; kwargs::Base.Pairs{Symbol, Union{}, Tuple{}, NamedTuple{(), Tuple{}}})\n       @ Distributed /Applications/Julia-1.7.app/Contents/Resources/julia/share/julia/stdlib/v1.7/Distributed/src/remotecall.jl:479\n     [4] remotecall_fetch\n       @ /Applications/Julia-1.7.app/Contents/Resources/julia/share/julia/stdlib/v1.7/Distributed/src/remotecall.jl:479 [inlined]\n     [5] (::DistributedArrays.SPMD.var\"#26#28\"{DistributedArrays.SPMD.var\"#25#27\"{typeof(get_current_ro_range), Tuple{DArray{Float64, 1, Vector{Float64}}, DArray{Float64, 2, Matrix{Float64}}, Tuple{Int64, Int64, Int64, Float64, Float64, Int64}}}, Int64})()\n       @ DistributedArrays.SPMD ./task.jl:423\n\n...and 4 more exceptions.\n",
     "output_type": "error",
     "traceback": [
      "TaskFailedException\n",
      "\n",
      "    nested task error: MethodError: no method matching +(::UnitRange{Int64}, ::Int64)\n",
      "    For element-wise addition, use broadcasting with dot syntax: array .+ scalar\n",
      "    Closest candidates are:\n",
      "      +(::Any, ::Any, !Matched::Any, !Matched::Any...) at /Applications/Julia-1.7.app/Contents/Resources/julia/share/julia/base/operators.jl:655\n",
      "      +(!Matched::T, ::T) where T<:Union{Int128, Int16, Int32, Int64, Int8, UInt128, UInt16, UInt32, UInt64, UInt8} at /Applications/Julia-1.7.app/Contents/Resources/julia/share/julia/base/int.jl:87\n",
      "      +(::OrdinalRange, !Matched::OrdinalRange) at /Applications/Julia-1.7.app/Contents/Resources/julia/share/julia/base/range.jl:1347\n",
      "      ...\n",
      "    Stacktrace:\n",
      "      [1] _colon(start::UnitRange{Int64}, step::Int64, stop::UnitRange{Int64})\n",
      "        @ Base ./range.jl:45\n",
      "      [2] (::Colon)(start::UnitRange{Int64}, step::Int64, stop::UnitRange{Int64})\n",
      "        @ Base ./range.jl:40\n",
      "      [3] macro expansion\n",
      "        @ ./show.jl:1047 [inlined]\n",
      "      [4] get_current_ro_range(Dpars::DArray{Float64, 1, Vector{Float64}}, DS::DArray{Float64, 2, Matrix{Float64}}, p::Tuple{Int64, Int64, Int64, Float64, Float64, Int64})\n",
      "        @ Main ~/Julia/PIC/PIC-1D/distrib.ipynb:9\n",
      "      [5] (::DistributedArrays.SPMD.var\"#25#27\"{typeof(get_current_ro_range), Tuple{DArray{Float64, 1, Vector{Float64}}, DArray{Float64, 2, Matrix{Float64}}, Tuple{Int64, Int64, Int64, Float64, Float64, Int64}}})()\n",
      "        @ DistributedArrays.SPMD ~/.julia/packages/DistributedArrays/fEM6l/src/spmd.jl:236\n",
      "      [6] spmd_local(f::DistributedArrays.SPMD.var\"#25#27\"{typeof(get_current_ro_range), Tuple{DArray{Float64, 1, Vector{Float64}}, DArray{Float64, 2, Matrix{Float64}}, Tuple{Int64, Int64, Int64, Float64, Float64, Int64}}}, ctxt_id::Tuple{Int64, Int64}, clear_ctxt::Bool)\n",
      "        @ DistributedArrays.SPMD ~/.julia/packages/DistributedArrays/fEM6l/src/spmd.jl:230\n",
      "      [7] (::Distributed.var\"#149#150\"{typeof(DistributedArrays.SPMD.spmd_local), Tuple{DistributedArrays.SPMD.var\"#25#27\"{typeof(get_current_ro_range), Tuple{DArray{Float64, 1, Vector{Float64}}, DArray{Float64, 2, Matrix{Float64}}, Tuple{Int64, Int64, Int64, Float64, Float64, Int64}}}, Tuple{Int64, Int64}, Bool}, Base.Pairs{Symbol, Union{}, Tuple{}, NamedTuple{(), Tuple{}}}})()\n",
      "        @ Distributed /Applications/Julia-1.7.app/Contents/Resources/julia/share/julia/stdlib/v1.7/Distributed/src/remotecall.jl:412\n",
      "      [8] run_work_thunk(thunk::Distributed.var\"#149#150\"{typeof(DistributedArrays.SPMD.spmd_local), Tuple{DistributedArrays.SPMD.var\"#25#27\"{typeof(get_current_ro_range), Tuple{DArray{Float64, 1, Vector{Float64}}, DArray{Float64, 2, Matrix{Float64}}, Tuple{Int64, Int64, Int64, Float64, Float64, Int64}}}, Tuple{Int64, Int64}, Bool}, Base.Pairs{Symbol, Union{}, Tuple{}, NamedTuple{(), Tuple{}}}}, print_error::Bool)\n",
      "        @ Distributed /Applications/Julia-1.7.app/Contents/Resources/julia/share/julia/stdlib/v1.7/Distributed/src/process_messages.jl:63\n",
      "      [9] remotecall_fetch(::Function, ::Distributed.LocalProcess, ::Function, ::Vararg{Any}; kwargs::Base.Pairs{Symbol, Union{}, Tuple{}, NamedTuple{(), Tuple{}}})\n",
      "        @ Distributed /Applications/Julia-1.7.app/Contents/Resources/julia/share/julia/stdlib/v1.7/Distributed/src/remotecall.jl:437\n",
      "     [10] remotecall_fetch(::Function, ::Distributed.LocalProcess, ::Function, ::Vararg{Any})\n",
      "        @ Distributed /Applications/Julia-1.7.app/Contents/Resources/julia/share/julia/stdlib/v1.7/Distributed/src/remotecall.jl:437\n",
      "     [11] remotecall_fetch(::Function, ::Int64, ::Function, ::Vararg{Any}; kwargs::Base.Pairs{Symbol, Union{}, Tuple{}, NamedTuple{(), Tuple{}}})\n",
      "        @ Distributed /Applications/Julia-1.7.app/Contents/Resources/julia/share/julia/stdlib/v1.7/Distributed/src/remotecall.jl:479\n",
      "     [12] remotecall_fetch\n",
      "        @ /Applications/Julia-1.7.app/Contents/Resources/julia/share/julia/stdlib/v1.7/Distributed/src/remotecall.jl:479 [inlined]\n",
      "     [13] (::DistributedArrays.SPMD.var\"#26#28\"{DistributedArrays.SPMD.var\"#25#27\"{typeof(get_current_ro_range), Tuple{DArray{Float64, 1, Vector{Float64}}, DArray{Float64, 2, Matrix{Float64}}, Tuple{Int64, Int64, Int64, Float64, Float64, Int64}}}, Int64})()\n",
      "        @ DistributedArrays.SPMD ./task.jl:423\n",
      "    Stacktrace:\n",
      "     [1] remotecall_fetch(::Function, ::Distributed.LocalProcess, ::Function, ::Vararg{Any}; kwargs::Base.Pairs{Symbol, Union{}, Tuple{}, NamedTuple{(), Tuple{}}})\n",
      "       @ Distributed /Applications/Julia-1.7.app/Contents/Resources/julia/share/julia/stdlib/v1.7/Distributed/src/remotecall.jl:438\n",
      "     [2] remotecall_fetch(::Function, ::Distributed.LocalProcess, ::Function, ::Vararg{Any})\n",
      "       @ Distributed /Applications/Julia-1.7.app/Contents/Resources/julia/share/julia/stdlib/v1.7/Distributed/src/remotecall.jl:437\n",
      "     [3] remotecall_fetch(::Function, ::Int64, ::Function, ::Vararg{Any}; kwargs::Base.Pairs{Symbol, Union{}, Tuple{}, NamedTuple{(), Tuple{}}})\n",
      "       @ Distributed /Applications/Julia-1.7.app/Contents/Resources/julia/share/julia/stdlib/v1.7/Distributed/src/remotecall.jl:479\n",
      "     [4] remotecall_fetch\n",
      "       @ /Applications/Julia-1.7.app/Contents/Resources/julia/share/julia/stdlib/v1.7/Distributed/src/remotecall.jl:479 [inlined]\n",
      "     [5] (::DistributedArrays.SPMD.var\"#26#28\"{DistributedArrays.SPMD.var\"#25#27\"{typeof(get_current_ro_range), Tuple{DArray{Float64, 1, Vector{Float64}}, DArray{Float64, 2, Matrix{Float64}}, Tuple{Int64, Int64, Int64, Float64, Float64, Int64}}}, Int64})()\n",
      "       @ DistributedArrays.SPMD ./task.jl:423\n",
      "\n",
      "...and 4 more exceptions.\n",
      "\n",
      "\n",
      "Stacktrace:\n",
      "  [1] sync_end(c::Channel{Any})\n",
      "    @ Base ./task.jl:381\n",
      "  [2] macro expansion\n",
      "    @ ./task.jl:400 [inlined]\n",
      "  [3] spmd(::Function, ::DArray{Float64, 1, Vector{Float64}}, ::Vararg{Any}; pids::Vector{Int64}, context::Nothing)\n",
      "    @ DistributedArrays.SPMD ~/.julia/packages/DistributedArrays/fEM6l/src/spmd.jl:245\n",
      "  [4] spmd(::Function, ::DArray{Float64, 1, Vector{Float64}}, ::Vararg{Any})\n",
      "    @ DistributedArrays.SPMD ~/.julia/packages/DistributedArrays/fEM6l/src/spmd.jl:236\n",
      "  [5] top-level scope\n",
      "    @ ~/Julia/PIC/PIC-1D/distrib.ipynb:1\n",
      "  [6] eval\n",
      "    @ ./boot.jl:373 [inlined]\n",
      "  [7] include_string(mapexpr::typeof(REPL.softscope), mod::Module, code::String, filename::String)\n",
      "    @ Base ./loading.jl:1196\n",
      "  [8] #invokelatest#2\n",
      "    @ ./essentials.jl:716 [inlined]\n",
      "  [9] invokelatest\n",
      "    @ ./essentials.jl:714 [inlined]\n",
      " [10] (::VSCodeServer.var\"#150#151\"{VSCodeServer.NotebookRunCellArguments, String})()\n",
      "    @ VSCodeServer ~/.vscode/extensions/julialang.language-julia-1.5.10/scripts/packages/VSCodeServer/src/serve_notebook.jl:18\n",
      " [11] withpath(f::VSCodeServer.var\"#150#151\"{VSCodeServer.NotebookRunCellArguments, String}, path::String)\n",
      "    @ VSCodeServer ~/.vscode/extensions/julialang.language-julia-1.5.10/scripts/packages/VSCodeServer/src/repl.jl:185\n",
      " [12] notebook_runcell_request(conn::VSCodeServer.JSONRPC.JSONRPCEndpoint{Base.PipeEndpoint, Base.PipeEndpoint}, params::VSCodeServer.NotebookRunCellArguments)\n",
      "    @ VSCodeServer ~/.vscode/extensions/julialang.language-julia-1.5.10/scripts/packages/VSCodeServer/src/serve_notebook.jl:14\n",
      " [13] dispatch_msg(x::VSCodeServer.JSONRPC.JSONRPCEndpoint{Base.PipeEndpoint, Base.PipeEndpoint}, dispatcher::VSCodeServer.JSONRPC.MsgDispatcher, msg::Dict{String, Any})\n",
      "    @ VSCodeServer.JSONRPC ~/.vscode/extensions/julialang.language-julia-1.5.10/scripts/packages/JSONRPC/src/typed.jl:67\n",
      " [14] serve_notebook(pipename::String; crashreporting_pipename::String)\n",
      "    @ VSCodeServer ~/.vscode/extensions/julialang.language-julia-1.5.10/scripts/packages/VSCodeServer/src/serve_notebook.jl:94\n",
      " [15] top-level scope\n",
      "    @ ~/.vscode/extensions/julialang.language-julia-1.5.10/scripts/notebook/notebook.jl:12\n",
      " [16] include(mod::Module, _path::String)\n",
      "    @ Base ./Base.jl:418\n",
      " [17] exec_options(opts::Base.JLOptions)\n",
      "    @ Base ./client.jl:292\n",
      " [18] _start()\n",
      "    @ Base ./client.jl:495"
     ]
    }
   ],
   "source": [
    "spmd(get_current_ro_range, Dpars, DS, p)"
   ]
  },
  {
   "cell_type": "code",
   "execution_count": 111,
   "metadata": {},
   "outputs": [
    {
     "data": {
      "text/plain": [
       "4"
      ]
     },
     "metadata": {},
     "output_type": "display_data"
    }
   ],
   "source": [
    "ran = 3:4\n",
    "ran_i, ran_e = ran\n",
    "ran_e"
   ]
  },
  {
   "cell_type": "code",
   "execution_count": 47,
   "metadata": {},
   "outputs": [
    {
     "data": {
      "text/plain": [
       "5:2:9"
      ]
     },
     "metadata": {},
     "output_type": "display_data"
    }
   ],
   "source": [
    "ran = 5:10\n",
    "last(ran)\n",
    "first(ran)\n",
    "first(ran):2:last(ran)"
   ]
  },
  {
   "cell_type": "code",
   "execution_count": null,
   "metadata": {},
   "outputs": [],
   "source": []
  }
 ],
 "metadata": {
  "kernelspec": {
   "display_name": "Julia 1.7.0",
   "language": "julia",
   "name": "julia-1.7"
  },
  "language_info": {
   "file_extension": ".jl",
   "mimetype": "application/julia",
   "name": "julia",
   "version": "1.7.0"
  },
  "orig_nbformat": 4
 },
 "nbformat": 4,
 "nbformat_minor": 2
}
