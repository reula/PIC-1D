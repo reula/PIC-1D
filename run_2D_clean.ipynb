{
 "cells": [
  {
   "cell_type": "code",
   "execution_count": null,
   "metadata": {},
   "outputs": [],
   "source": [
    "#using DifferentialEquations\n",
    "using Plots\n",
    "using Statistics\n",
    "using FFTW\n",
    "FFTW.set_provider!(\"mkl\")\n",
    "#import Pkg; Pkg.add(\"FileIO\")\n",
    "using FileIO\n",
    "using JLD2\n",
    "using Base.Threads\n",
    "using Distributions\n",
    "#Pkg; Pkg.add(\"DistributedArrays\")\n",
    "println(\"nthreads = $(nthreads())\")\n",
    "using Printf\n",
    "#import Pkg; Pkg.add(\"IJuliaBell\")\n",
    "using IJuliaBell\n",
    "using ArraysOfArrays\n",
    "using SummationByPartsOperators\n",
    "using LinearAlgebra"
   ]
  },
  {
   "attachments": {},
   "cell_type": "markdown",
   "metadata": {},
   "source": [
    "## 2D PIC Escheleton \n",
    "\n",
    "Here we run the 2D version of PIC. "
   ]
  },
  {
   "cell_type": "code",
   "execution_count": null,
   "metadata": {},
   "outputs": [],
   "source": [
    "include(\"aux_functions/aux_functions.jl\")\n",
    "include(\"aux_functions/inidat_aux_functions.jl\")\n"
   ]
  },
  {
   "attachments": {},
   "cell_type": "markdown",
   "metadata": {},
   "source": [
    "### Initial Distribution"
   ]
  },
  {
   "attachments": {},
   "cell_type": "markdown",
   "metadata": {},
   "source": [
    "## Initial data configurations (Particles first)"
   ]
  },
  {
   "cell_type": "code",
   "execution_count": null,
   "metadata": {},
   "outputs": [],
   "source": [
    "## initial data configurations\n",
    "\n",
    "trys = false\n",
    "thermal = false\n",
    "weibel = false\n",
    "weibel_norel = false\n",
    "damped = false\n",
    "#trys = true\n",
    "#thermal = true\n",
    "#weibel = true\n",
    "#weibel_norel = true\n",
    "damped = true\n",
    "\n",
    "\n"
   ]
  },
  {
   "cell_type": "code",
   "execution_count": null,
   "metadata": {},
   "outputs": [],
   "source": [
    "const order = 5\n",
    "const D = 2\n",
    "\n",
    "\n",
    "# Particle numbers\n",
    "const N_exp = 6 #7 #6 #7 #7#6#5 #6\n",
    "N = 10^(N_exp)\n",
    "\n",
    "if  thermal\n",
    "    #run_name = \"thermal_norel_\"\n",
    "    run_name = \"thermal_rel_\"\n",
    "    #data_name = \"par_dis_norel_thermal_\"\n",
    "    data_name = \"par_dis_rel_thermal_\"\n",
    "    J = (50,50)\n",
    "    Box_x = (0.0,1.0,0.0,1.0) \n",
    "    nm = [1,1]\n",
    "    Box_array = [i for i in Box_x]\n",
    "    k = 2π*nm./(Box_array[2:2:end]-Box_array[1:2:end-1]) # this here is k, not \\hat{k}\n",
    "    alpha_exp = 1 # 2 3 8\n",
    "    α = 10.0^(-alpha_exp) # 0.1 0.001\n",
    "    par_f_x = (α, nm, Box_x)\n",
    "    exp_Theta = 3\n",
    "    θ = 10.0^(-exp_Theta)\n",
    "    p_max = sqrt((1+10*θ)^2-1)\n",
    "    Box_p = (-p_max,p_max,-p_max,p_max)\n",
    "    par_f_p = (θ,D)\n",
    "    #par_f_p_1 = (θ,1,D) #to compute the norm of f_p\n",
    "    #norm = int_mid_point_f(f_p_rel, par_f_p_1, [20_000,20_000], Box_p)\n",
    "    #par_f_p_rel = (θ,norm,D)\n",
    "    par_init = (α, nm)\n",
    "    data_name = data_name * \"nm_[$(nm[1]),$(nm[2])]_\"\n",
    "    data_name = data_name * \"alp$(alpha_exp)_N$(N_exp)_Th$(exp_Theta)\"\n",
    "    run_name = run_name * \"Box_$(Box_x[2]-Box_x[1])x$(Box_x[4]-Box_x[3])_J_$(J[1])x$(J[2])_nm_[$(nm[1]),$(nm[2])]__Th$(exp_Theta)_alp$(alpha_exp)\"\n",
    "elseif weibel_norel\n",
    "    run_name = \"weibel_norel_\"\n",
    "    data_name = \"par_dis_norel_weibel_\"\n",
    "    J = (100,100)\n",
    "    Box_x = (0.0,1.0,0.0,1.0) \n",
    "    Ax = 1/2 # velocity anisotropy in the x direction\n",
    "    alpha_exp = 8 # 8 so that is extremely small i.e. zero\n",
    "    α = 10.0^(-alpha_exp) # 0.1 0.001\n",
    "    par_f_x = (α, [0.0,0.0], Box_x)\n",
    "    exp_Theta = 3\n",
    "    θ = 10.0^(-exp_Theta)\n",
    "    p_max = sqrt((1+10*θ)^2-1)\n",
    "    Box_p = (-p_max,p_max,-p_max,p_max)\n",
    "    par_f_p = (θ,D,Ax)\n",
    "    par_init = (α, Ax)\n",
    "    data_name = data_name * \"Ax_(1d2)_\"\n",
    "    data_name = data_name * \"alp$(alpha_exp)_N$(N_exp)_Th$(exp_Theta)\"\n",
    "    run_name = run_name * \"Box_$(Box_x[2]-Box_x[1])x$(Box_x[4]-Box_x[3])_J_$(J[1])x$(J[2])_Ax_(1d2)_Th$(exp_Theta)_alp$(alpha_exp)\"\n",
    "elseif weibel \n",
    "    run_name = \"weibel_I2_\"\n",
    "    data_name = \"par_dis_rel_weibel_\"\n",
    "    J = (64,64)::NTuple{2,Int64} #no parece funcionar el dar el tipo NTuple, al menos no así.\n",
    "    Box_x = (0.0,15.0,0.0,15.0) \n",
    "    Ax = 25 # velocity anisotropy in the x direction\n",
    "    alpha_exp = 8 # 8 so that is extremely small i.e. zero\n",
    "    α = 10.0^(-alpha_exp) # 0.1 0.001\n",
    "    par_f_x = (α, [0.0,0.0], Box_x)\n",
    "    exp_Theta = 3\n",
    "    θ1 = 10.0^(-exp_Theta)\n",
    "    θ2 = Ax * θ1\n",
    "    p_max = 10*θ2\n",
    "    Box_p = (-p_max,p_max,-p_max,p_max)\n",
    "    par_init = (α, Ax)\n",
    "    @show pars_f = (θ1,θ2,Ax)\n",
    "    data_name = data_name * \"Ax_$(Ax)_\"\n",
    "    data_name = data_name * \"alp$(alpha_exp)_N$(N_exp)_Th$(exp_Theta)\"\n",
    "    run_name = run_name * \"Box_$(Box_x[2]-Box_x[1])x$(Box_x[4]-Box_x[3])_J_$(J[1])x$(J[2])_Ax_$(Ax)_Th$(exp_Theta)_alp$(alpha_exp)\"\n",
    "elseif damped\n",
    "    run_name = \"damped_I2_\"\n",
    "    data_name = \"par_dis_rel_damped_\"\n",
    "    J = (930,100)::NTuple{2,Int64}\n",
    "    Box_x = (0.0,7.455,0.0,1.0) # corner box coordinates\n",
    "    Box_array = [i for i in Box_x]\n",
    "    nm = [15,0] # wave numbers\n",
    "    k = 2π*nm./(Box_array[2:2:end]-Box_array[1:2:end-1]) # this here is k, not \\hat{k}\n",
    "    alpha_exp = 2 # 3 8\n",
    "    α = 10.0^(-alpha_exp) # 0.1, 0.01 0.001\n",
    "    par_f_x = (α, nm, Box_x)\n",
    "    exp_Theta = 3\n",
    "    θ = 10.0^(-exp_Theta)\n",
    "    p_max = sqrt((1+10*θ)^2-1) #maximum of the momentum box\n",
    "    Box_p = (-p_max,p_max,-p_max,p_max)\n",
    "    par_f_p = (θ,D)\n",
    "    #par_f_p_1 = (θ,1,D) #to compute the norm of f_p\n",
    "    #norm = int_mid_point_f(f_p_rel, par_f_p_1, [20_000,20_000], Box_p)\n",
    "    #par_f_p_rel = (θ,norm,D)\n",
    "    data_name = data_name * \"nm_[$(nm[1]),$(nm[2])]_\"\n",
    "    data_name = data_name * \"alp$(alpha_exp)_N$(N_exp)_Th$(exp_Theta)\"\n",
    "    run_name = run_name * \"Box_$(Box_x[2]-Box_x[1])x$(Box_x[4]-Box_x[3])_J_$(J[1])x$(J[2])_Th$(exp_Theta)_alp$(alpha_exp)\"\n",
    "end\n",
    "\n",
    "\n",
    "\n",
    "@show data_name \n",
    "\n",
    "# Evolution parameters\n",
    "exp_t = 1 #0# 1 #2\n",
    "t = 0.0\n",
    "t_i = 0.0\n",
    "t_f = 1.0*10.0^(exp_t)\n",
    "M = 101 #1001 #11 #16001# 4001 # 81 # 2001 # time steps \n",
    "M_g = 101 #8001 #400 + 1 #number of outputs, starting from the initial data\n",
    "dx = differentials(Box_x,J)\n",
    "@show dx_min = minimum(dx)\n",
    "@show dt = (t_f-t_i)/(M-1)\n",
    "@show CFL = dt/dx_min\n",
    "\n",
    "\n",
    "# for plotting and other things\n",
    "x_p = [dx[1]*(i-1) for i in 1:J[1]] ;\n",
    "y_p = [dx[2]*(i-1) for i in 1:J[2]] ;\n",
    "\n",
    "Dx = periodic_derivative_operator(derivative_order=1, accuracy_order=6, xmin=Box_x[1], xmax=Box_x[2], N=J[1])\n",
    "Dy = periodic_derivative_operator(derivative_order=1, accuracy_order=6, xmin=Box_x[3], xmax=Box_x[4], N=J[2])\n",
    "Δx = dissipation_operator(Dx;\n",
    "                     #mode=D.coefficients.mode\n",
    "                     #,mode=ThreadedMode()\n",
    "                     )\n",
    "Δy = dissipation_operator(Dy;\n",
    "                     #mode=D.coefficients.mode\n",
    "                     #,mode=ThreadedMode()\n",
    "                     )\n",
    "const σx = 0.0 #1.0 #dissipation strength\n",
    "const σy = 0.0 #1.0 #dissipation strength\n",
    "dissipation = false\n",
    "maxwell = true \n",
    "\n",
    "@show par_evolv = (t_i, t_f, M, M_g, dt)\n",
    "@show par_grid = (N, J, Box_x, order)\n",
    "#@show pars_f = (θ1,θ2,)\n",
    "\n",
    "\n",
    "\n",
    "println(\"t_f = $(t_f), M = $M, dt = $(dt), exp_Theta = $(exp_Theta)\")\n",
    "\n",
    "\n",
    "\n",
    "run_name = run_name * \"tf_$(convert(Int,10*t_f))_N$(N_exp)_M$(M)_o$(order)\"\n",
    "println(run_name)\n",
    "println(data_name)\n"
   ]
  },
  {
   "cell_type": "code",
   "execution_count": null,
   "metadata": {},
   "outputs": [],
   "source": [
    "par_dis, data_name, pars, par_f_x, Box_x, par_f_p, Box_p = retrieve_initial_data_D(\"Initial_Distributions/\" * data_name * \".jld2\")\n",
    "#@show data_name_from_inidat, pars, par_f_x, Box_x, par_f_p, Box_p"
   ]
  },
  {
   "attachments": {},
   "cell_type": "markdown",
   "metadata": {},
   "source": [
    "### Check Density"
   ]
  },
  {
   "cell_type": "code",
   "execution_count": null,
   "metadata": {},
   "outputs": [],
   "source": [
    "plot(histogram2d(par_dis[1:2D:end],par_dis[2:2D:end], title=\"space distribution\", bins=50 ))"
   ]
  },
  {
   "cell_type": "code",
   "execution_count": null,
   "metadata": {},
   "outputs": [],
   "source": [
    "plot(histogram2d(par_dis[3:4:end],par_dis[4:4:end] )\n",
    ",aspectratio=1\n",
    ",title = \"momentum histogram\"\n",
    ")"
   ]
  },
  {
   "attachments": {},
   "cell_type": "markdown",
   "metadata": {},
   "source": [
    "### Check Temperature"
   ]
  },
  {
   "cell_type": "code",
   "execution_count": null,
   "metadata": {},
   "outputs": [],
   "source": [
    "T = get_temperature_rel_D(par_dis,N,D)"
   ]
  },
  {
   "cell_type": "code",
   "execution_count": null,
   "metadata": {},
   "outputs": [],
   "source": [
    "#include(\"aux_functions/aux_functions.jl\")\n",
    "#par_grid = (N, Box_x, J, 5)\n",
    "#n = zeros(J)\n",
    "#get_density_2D!(par_dis, n, par_grid)\n",
    "\n",
    "get_density_2D_trans = Density2DTrans(N, J)\n",
    "n = get_density_2D_trans(Val(order), Box_x, par_dis);\n"
   ]
  },
  {
   "cell_type": "code",
   "execution_count": null,
   "metadata": {},
   "outputs": [],
   "source": [
    "plot_matrix(n)"
   ]
  },
  {
   "cell_type": "code",
   "execution_count": null,
   "metadata": {},
   "outputs": [],
   "source": [
    "plot(n[:,2])"
   ]
  },
  {
   "attachments": {},
   "cell_type": "markdown",
   "metadata": {},
   "source": [
    "### Check Normalization"
   ]
  },
  {
   "cell_type": "code",
   "execution_count": null,
   "metadata": {},
   "outputs": [],
   "source": [
    "sum(n)/prod(J)"
   ]
  },
  {
   "attachments": {},
   "cell_type": "markdown",
   "metadata": {},
   "source": [
    "### Check Current"
   ]
  },
  {
   "cell_type": "code",
   "execution_count": null,
   "metadata": {},
   "outputs": [],
   "source": [
    "par_grid = (N, J, Box_x, 5)\n",
    "#S = [0.0::Float64 for l in 1:2, i in 1:J[1], j in 1:J[2]]\n",
    "#S_new  = [0.0::Float64 for i in 1:J[1], j in 1:J[2], l in 1:2]\n",
    "#TS = zeros(Float64,(2,J...,nthreads()))\n",
    "\n",
    "#par_current_threads_S = (par_grid, TS)\n",
    "\n",
    "#get_current_threads_2D!(par_dis, S, par_current_threads_S)\n",
    "#S_new = get_current_2D_trans(Val(order), N, J, Box_x, par_dis)\n",
    "\n",
    "\n",
    "get_current_2D_trans = Current2DTrans(N, J)\n",
    "S = get_current_2D_trans(Val(order), Box_x, par_dis)\n",
    "@show sum(S[:,:,1])"
   ]
  },
  {
   "cell_type": "code",
   "execution_count": null,
   "metadata": {},
   "outputs": [],
   "source": [
    "surface(y_p,x_p, S[:,:,1])"
   ]
  },
  {
   "attachments": {},
   "cell_type": "markdown",
   "metadata": {},
   "source": [
    "## Electric and Magnetic initial data"
   ]
  },
  {
   "cell_type": "code",
   "execution_count": null,
   "metadata": {},
   "outputs": [],
   "source": [
    "# We prescrive a constant magnetic field and the E is just a solution from Poisson's equations. \n",
    "\n",
    "B0 = 0.0 #initial magnetic field\n",
    "\n",
    "B = [B0 for i in 1:J[1], j in 1:J[2]]\n",
    "\n",
    "run_name = run_name * \"_B0_$(convert(Int,trunc(B0)))\""
   ]
  },
  {
   "cell_type": "code",
   "execution_count": null,
   "metadata": {},
   "outputs": [],
   "source": [
    "E = Array{Float64,3}(undef,(2,J...))\n",
    "#ρ = n.-1.0/prod(J)\n",
    "ρ = n.-1.0\n",
    "@show sum(ρ)\n",
    "get_E!(E,ρ,Box_x);"
   ]
  },
  {
   "cell_type": "code",
   "execution_count": null,
   "metadata": {},
   "outputs": [],
   "source": [
    "surface(y_p,x_p, E[2,:,:])"
   ]
  },
  {
   "cell_type": "code",
   "execution_count": null,
   "metadata": {},
   "outputs": [],
   "source": [
    "plot(x_p, E[1,:,5])"
   ]
  },
  {
   "cell_type": "code",
   "execution_count": null,
   "metadata": {},
   "outputs": [],
   "source": [
    "average_outputs = false # detailed output (for runs which are too long)\n",
    "full_outputs = false\n",
    "animation = false # to run animations\n",
    "phase_space_show = false #show phase space diagrams\n",
    "#phase_space_show = true\n",
    "remote_server = false # if run in remote_server as a script avoid all plots \n",
    "save_plots = false # put true is you want so save your plots.\n",
    "full_outputs = true\n",
    "animation = true"
   ]
  },
  {
   "attachments": {},
   "cell_type": "markdown",
   "metadata": {},
   "source": [
    "We build the initial data:"
   ]
  },
  {
   "cell_type": "code",
   "execution_count": null,
   "metadata": {},
   "outputs": [],
   "source": [
    "u = Vector{Float64}(undef, 4N + 3*prod(J)); # contains r, v and E and B\n",
    "\n",
    "du = Vector{Float64}(undef, 4N + 3*prod(J)); # contains r, v and E\n",
    "\n",
    "u[1:4N] = par_dis \n",
    "\n",
    "Fu = view(u,4N+1:4N+3*prod(J))\n",
    "\n",
    "F = reshape(Fu,3,J...)\n",
    "\n",
    "#F = view(u[4N+1:end],3,J...)\n",
    "F[1:2,:,:] = E\n",
    "F[3,:,:] = B;\n",
    "\n",
    "# the total electric energy is:\n",
    "\n",
    "(norm(E)^2 + norm(B)^2)*prod(dx)\n",
    "#u\n",
    "#F[3,:,:]\n",
    "\n"
   ]
  },
  {
   "cell_type": "code",
   "execution_count": null,
   "metadata": {},
   "outputs": [],
   "source": [
    "#surface(y_p,x_p,F[1,:,:])"
   ]
  },
  {
   "cell_type": "code",
   "execution_count": null,
   "metadata": {},
   "outputs": [],
   "source": [
    "Energy_Ks, Energy_Es = get_energy_rel(u,(Box_x, N, J))"
   ]
  },
  {
   "cell_type": "code",
   "execution_count": null,
   "metadata": {},
   "outputs": [],
   "source": [
    "#surface(y_p,x_p,F[3,:,:])"
   ]
  },
  {
   "cell_type": "code",
   "execution_count": null,
   "metadata": {},
   "outputs": [],
   "source": [
    "u[4N+2*prod(J)+1:end]\n",
    "#u[4N+1:end-prod(J)]"
   ]
  },
  {
   "attachments": {},
   "cell_type": "markdown",
   "metadata": {},
   "source": [
    "With the particle distribution we construct the initial data for the electric field. For that first we compute de density, using different types of particles (order)."
   ]
  },
  {
   "attachments": {},
   "cell_type": "markdown",
   "metadata": {},
   "source": [
    "### What follows are characterizations of the initial data properties."
   ]
  },
  {
   "cell_type": "code",
   "execution_count": null,
   "metadata": {},
   "outputs": [],
   "source": [
    "\n",
    "Coordinate_test(u,Box_x,N)\n",
    "\n",
    "#println(\"n_total = $(sum(n .- 1.0))\")\n",
    "#println(\"v_total = $(sum(u[N+1:2N]))\")\n",
    "#println(\"E_total = $(sum(E_i))\")\n",
    "\n",
    "#println(\"S_total = $(sum(S))\")"
   ]
  },
  {
   "attachments": {},
   "cell_type": "markdown",
   "metadata": {},
   "source": [
    "## TIME Evolution: \n",
    "\n",
    "Now we make the time evolution:\n",
    "\n",
    "1. we define parameters and vectors where to upload data to study the time evolution: Kinetic Energy, Electric field Energy, Total Electric field, total velocity (momentum), total density, total charge current.\n",
    "\n",
    "2. we save a vector with the particle phase space, this can be a lot of memory!"
   ]
  },
  {
   "cell_type": "code",
   "execution_count": null,
   "metadata": {},
   "outputs": [],
   "source": [
    "\n",
    "if nthreads() > 1\n",
    "#TS = zeros(Float64, (2,J...,nthreads()))\n",
    "#p_RHS_D = (N, J, Box_x, order, n, S, du, get_density_2D!, get_current_threads_2D!, Interpolate_EBv_1, TS, Dx, Δx, σx, Dy, Δy, σy) ;\n",
    "p_RHS_D_slim = (order, N, J, Box_x, order, n, S, du, get_density_2D!, get_current_slim, Interpolate_All_EBv_2_slim, Dx, Δx, σx, Dy, Δy, σy, maxwell, dissipation) ;\n",
    "else\n",
    "p_RHS_D = (N, J, Box_x, order, n, S, du, get_density_2D!, get_current_rel_2D!, Interpolate_EBv_1, Dx, Δx, σx, Dy, Δy, σy, maxwell, dissipation) ;\n",
    "end\n"
   ]
  },
  {
   "cell_type": "code",
   "execution_count": null,
   "metadata": {},
   "outputs": [],
   "source": [
    "t = 0.0\n",
    "j = 1\n",
    "\n",
    "run_pars = Dict(\"run_name\" => run_name, \"par_grid\" => par_grid, \"par_evolv\" => par_evolv, \"p_Ini\" => (par_f_x, par_f_p))\n",
    "\n",
    "if full_outputs\n",
    "    run_name = run_name * \"_full\"\n",
    "elseif average_outputs\n",
    "    run_name = run_name * \"_ave\"\n",
    "end\n",
    "\n",
    "file_name = \"Results/\"* run_name * \".jld2\"\n",
    "#rm(file_name)\n",
    "\n",
    "\n",
    "\n",
    "\n",
    "save(file_name, run_pars)\n",
    "\n",
    "if false # solo para testear\n",
    "file = jldopen(file_name, \"r+\")\n",
    "close(file)\n",
    "end\n",
    "\n",
    "if full_outputs\n",
    "    field_name = \"u\"\n",
    "    tiempo = @sprintf(\"%05d\", j)\n",
    "    jldopen(file_name, \"a+\") do file\n",
    "        file[field_name * \"/u_$(tiempo)\"] = u;\n",
    "    end\n",
    "end\n",
    "\n",
    "if average_outputs\n",
    "    load_averages(file_name, j, par_grid, pars_f)\n",
    "end\n",
    "\n",
    "if animation\n",
    "    par = Array{Float64,2}(undef,M_g,length(u));\n",
    "    par[1,:] = u[:]\n",
    "end"
   ]
  },
  {
   "cell_type": "code",
   "execution_count": null,
   "metadata": {},
   "outputs": [],
   "source": [
    "#RHS_D(u,t,p_RHS_D)"
   ]
  },
  {
   "cell_type": "code",
   "execution_count": null,
   "metadata": {},
   "outputs": [],
   "source": [
    "include(\"aux_functions/aux_functions.jl\")\n",
    "for k in 2:M\n",
    "  RK4_Step!(RHS_D_slim!,u,t,dt,p_RHS_D_slim)\n",
    "  #global u = [make_periodic!(u[1:4N],Box_x); u[4N+1:end]]\n",
    "  # make_periodic!(u,Box_x,N) # done inside the RHS_D function at every RK step\n",
    "  #filter_constant!(u[2N+1:end])\n",
    "  global t = t + dt\n",
    "  if (k-1) % (M÷(M_g-1)) == 0\n",
    "    local j = (k-1)÷(M÷(M_g-1))+1\n",
    "    make_periodic!(u,Box_x,N) # just to save the correct data\n",
    "    global Energy_Ks, Energy_Es = get_energy_rel(u,(Box_x, N, J))\n",
    "\n",
    "    if average_outputs\n",
    "      load_averages(file_name, j, par_grid, pars_f)\n",
    "    end\n",
    "\n",
    "    if full_outputs\n",
    "        local tiempo = @sprintf(\"%05d\", j)\n",
    "        jldopen(file_name, \"a+\") do file\n",
    "            file[field_name * \"/u_$(tiempo)\"] = u\n",
    "      end\n",
    "    end\n",
    "\n",
    "    println(\"j = $j , t = $t, k = $k, nthreads = $(nthreads()), Total_Energy = $(Energy_Ks + Energy_Es), E_Energy = $(Energy_Es)\")\n",
    "\n",
    "    if animation\n",
    "      par[j,:] = u[:]\n",
    "    end\n",
    "  end\n",
    "end"
   ]
  },
  {
   "cell_type": "code",
   "execution_count": null,
   "metadata": {},
   "outputs": [],
   "source": [
    "j = 11\n",
    "\n",
    "Plots.scatter(par[j,1:2D:4N], par[j,2:2D:4N], ts=0.2\n",
    ", thickness_scaling = 0.3\n",
    ", markersize = 0.3\n",
    ", title = \"space\", legend =:false)\n",
    "\n",
    "#png(\"weibel_space_t=10\")"
   ]
  },
  {
   "cell_type": "code",
   "execution_count": null,
   "metadata": {},
   "outputs": [],
   "source": [
    "#include(\"aux_functions/aux_functions.jl\")\n",
    "\n",
    "\n",
    "#make_periodic!(par[M_g,:],Box_x,N)\n",
    "Coordinate_test(par[M_g,:],Box_x,N)"
   ]
  },
  {
   "cell_type": "code",
   "execution_count": null,
   "metadata": {},
   "outputs": [],
   "source": [
    "j = 11\n",
    "\n",
    "histogram2d(par[j,1:2D:4N], par[j,2:2D:4N], ts=0.2\n",
    ", thickness_scaling = 0.3\n",
    ", markersize = 0.3\n",
    ", title = \"space\", legend =:false)"
   ]
  },
  {
   "cell_type": "code",
   "execution_count": null,
   "metadata": {},
   "outputs": [],
   "source": [
    "j = 11\n",
    "Plots.scatter(par[j,3:2D:4N], par[j,4:2D:4N], ts=0.2\n",
    ", thickness_scaling = 0.3\n",
    ", markersize = 0.3\n",
    ", title = \"momentum\", legend =:false)\n",
    "\n",
    "#png(\"weibel_momentum_t=10\")"
   ]
  },
  {
   "cell_type": "code",
   "execution_count": null,
   "metadata": {},
   "outputs": [],
   "source": [
    "j = M_g\n",
    "Fuj = view(par[j,:],4N+1:4N+3*prod(J))\n",
    "\n",
    "Fj = reshape(Fuj,3,J...)\n",
    "\n",
    "#F = view(u[4N+1:end],3,J...)\n",
    "Ej = Fj[1:2,:,:]\n",
    "Bj = Fj[3,:,:];\n",
    "\n",
    "#surface(y_p,x_p,Ej[2,:,:])\n",
    "#surface(y_p,x_p,Bj[:,:])\n",
    "\n",
    "#norm(Bj)"
   ]
  },
  {
   "cell_type": "code",
   "execution_count": null,
   "metadata": {},
   "outputs": [],
   "source": [
    "plot(Ej[1,:,50])\n",
    "plot!(Bj[:,50])"
   ]
  },
  {
   "cell_type": "code",
   "execution_count": null,
   "metadata": {},
   "outputs": [],
   "source": [
    "l = 1\n",
    "P = 5\n",
    "plot()\n",
    "for j in 1:M_g\n",
    "    Fuj = view(par[j,:],4N+1:4N+3*prod(J))\n",
    "    Fj = reshape(Fuj,3,J...)\n",
    "    Ej = Fj[1:2,:,:]\n",
    "    Bj = Fj[3,:,:];\n",
    "    plot!(Ej[l,:,P])\n",
    "    plot!(Bj[:,P])\n",
    "end\n",
    "plot!(legend=false)"
   ]
  },
  {
   "cell_type": "code",
   "execution_count": null,
   "metadata": {},
   "outputs": [],
   "source": [
    "norm(par[1,4N+1:4N+3*prod(J)] - par[11,4N+1:4N+3*prod(J)])/norm(par[1,4N+1:4N+3*prod(J)])"
   ]
  },
  {
   "attachments": {},
   "cell_type": "markdown",
   "metadata": {},
   "source": [
    "### Momentum rotation"
   ]
  },
  {
   "cell_type": "code",
   "execution_count": null,
   "metadata": {},
   "outputs": [],
   "source": []
  },
  {
   "attachments": {},
   "cell_type": "markdown",
   "metadata": {},
   "source": [
    "### Constraint cheking"
   ]
  },
  {
   "cell_type": "code",
   "execution_count": null,
   "metadata": {},
   "outputs": [],
   "source": [
    "j = M_g\n",
    "par_grid = (N, Box_x, J, 5)\n",
    "\n",
    "#nf = get_density_2D_trans(Val(order), Box_x, par[j,1:4N])\n",
    "\n",
    "#Ef = Array{Float64,3}(undef,(2,J...))\n",
    "#ρf = nf.-1.0/prod(J)\n",
    "#ρf = nf .-1.0\n",
    "#@show sum(ρf)\n",
    "#get_E!(Ef,ρf,Box_x);\n",
    "\n",
    "Fuj = view(par[j,:],4N+1:4N+3*prod(J))\n",
    "Fj = reshape(Fuj,3,J...)\n",
    "#F = view(u[4N+1:end],3,J...)\n",
    "Ej = Fj[1:2,:,:]\n",
    "@show(norm(Ej))"
   ]
  },
  {
   "attachments": {},
   "cell_type": "markdown",
   "metadata": {},
   "source": [
    "#### They do not coincide because there are waves starting. But the weak form of the constraints is satisfied, as we shall see below."
   ]
  },
  {
   "cell_type": "code",
   "execution_count": null,
   "metadata": {},
   "outputs": [],
   "source": [
    "nf = get_density_2D_trans(Val(order), Box_x, par[M_g,1:4N])\n",
    "ρf = nf .-1.0;"
   ]
  },
  {
   "cell_type": "code",
   "execution_count": null,
   "metadata": {},
   "outputs": [],
   "source": [
    "#include(\"aux_functions/aux_functions_E-B.jl\")\n",
    "x0=[Box_x[1] + (Box_x[2]-Box_x[1])*rand(), Box_x[3] + (Box_x[4]-Box_x[3])*rand()]\n",
    "@show x0\n",
    "pars = (x0, 0.2, 6)\n",
    "constraint_test(Ej, ρf, J, Box_x, ϕ_test, ∇ϕ_test, pars)"
   ]
  },
  {
   "cell_type": "code",
   "execution_count": null,
   "metadata": {},
   "outputs": [],
   "source": [
    "Err = 0.0\n",
    "Max = 0.0\n",
    "M = 100\n",
    "for i in 1:M\n",
    "    x0=[Box_x[1] + (Box_x[2]-Box_x[1])*rand(), Box_x[3] + (Box_x[4]-Box_x[3])*rand()]\n",
    "    pars = (x0, 0.2, 6)\n",
    "    div, rho, err = constraint_test(Ej, ρf, J, Box_x, ϕ_test, ∇ϕ_test, pars)\n",
    "    Err = Err + abs(err)\n",
    "    if err > Max\n",
    "        @show Max = err\n",
    "        @show x0\n",
    "    end\n",
    "    \n",
    "end\n",
    "@show Err/M\n",
    "@show Max;"
   ]
  }
 ],
 "metadata": {
  "kernelspec": {
   "display_name": "Julia 1.9.0",
   "language": "julia",
   "name": "julia-1.9"
  },
  "language_info": {
   "file_extension": ".jl",
   "mimetype": "application/julia",
   "name": "julia",
   "version": "1.9.0"
  }
 },
 "nbformat": 4,
 "nbformat_minor": 4
}
