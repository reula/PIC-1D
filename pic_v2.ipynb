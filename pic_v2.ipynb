{
 "cells": [
  {
   "cell_type": "markdown",
   "metadata": {},
   "source": [
    "## 1D PIC (evolution_version) \n",
    "\n",
    "Here we compute the 1D version of PIC. The distribution we use corresponds to a particle current going in both directions with the same mean density and opposite velocities. This configuration generates an instibility and we observe it. \n",
    "\n",
    "The Electric field is computed from Maxwell's equations (the time derivative of E is used), starting with an initial data for E using $\\nabla \\cdot \\vec{E} = \\rho$ (computing the potential and taking the derivative). "
   ]
  },
  {
   "cell_type": "code",
   "execution_count": 243,
   "metadata": {},
   "outputs": [],
   "source": [
    "using DifferentialEquations\n",
    "using Plots\n",
    "using Statistics\n",
    "using FFTW\n",
    "FFTW.set_provider!(\"mkl\")\n",
    "#import Pkg; Pkg.add(\"Distributions\")\n",
    "using Distributions\n"
   ]
  },
  {
   "cell_type": "markdown",
   "metadata": {},
   "source": [
    "Helper functions are defined in this file."
   ]
  },
  {
   "cell_type": "code",
   "execution_count": 244,
   "metadata": {},
   "outputs": [
    {
     "data": {
      "text/plain": [
       "get_index_and_distance (generic function with 1 method)"
      ]
     },
     "metadata": {},
     "output_type": "display_data"
    }
   ],
   "source": [
    "include(\"aux_functions.jl\")"
   ]
  },
  {
   "cell_type": "markdown",
   "metadata": {},
   "source": [
    "### Parameters\n",
    "\n",
    "    L;            // Domain of solution 0 <= x <= L (in Debye lengths)\n",
    "    N;            // Number of electrons\n",
    "    J;            // Number of grid points\n",
    "    vb;    // Beam velocity\n",
    "    dt;    // Time-step (in inverse plasma frequencies)\n",
    "    t_f;  // Simulation run from t = 0. to t = t_f\n"
   ]
  },
  {
   "cell_type": "code",
   "execution_count": 245,
   "metadata": {},
   "outputs": [
    {
     "data": {
      "text/plain": [
       "(100, 200000, 512, 0.06283185307179587, 0.1953125)"
      ]
     },
     "metadata": {},
     "output_type": "display_data"
    }
   ],
   "source": [
    "\n",
    "L = 100\n",
    "#N = 200000\n",
    "#N = 20000\n",
    "#J = 2048\n",
    "#J = 1024\n",
    "J = 512\n",
    "vb = 3\n",
    "dt = 0.1\n",
    "t_f = 20.0\n",
    "t = 0.0\n",
    "M = convert(Int64,t_f/dt)\n",
    "#M=1\n",
    "κ = 2π/L\n",
    "dx = L/J\n",
    "x = [dx*(i-1) for i in 1:J] ;\n",
    "p = (L, N, J, κ, dx)"
   ]
  },
  {
   "cell_type": "markdown",
   "metadata": {},
   "source": [
    "### Produce the intial data"
   ]
  },
  {
   "cell_type": "markdown",
   "metadata": {},
   "source": [
    "The 1D distribution for $\\frac{m}{kT} = 1$ is just the normal distribution centered at both $\\pm v_p$. With $\\sigma = 1$.\n",
    "\n",
    "**Important** the velocity distribution must be symmetrical, otherwise the resulting $v_{total}$ and $S_{total}$ are no null and we get\n",
    "different solutions. I think the one that uses the potential is the incorrect one.... because assumes $S_{total} =0$ to compute the potential and then it does not add the constant term needed from the time evolution of $\\vec{E}$.\n"
   ]
  },
  {
   "cell_type": "code",
   "execution_count": 246,
   "metadata": {},
   "outputs": [
    {
     "ename": "BoundsError",
     "evalue": "BoundsError: attempt to access 80512-element Vector{Float64} at index [1:200000]",
     "output_type": "error",
     "traceback": [
      "BoundsError: attempt to access 80512-element Vector{Float64} at index [1:200000]\n",
      "\n",
      "Stacktrace:\n",
      "  [1] throw_boundserror(A::Vector{Float64}, I::Tuple{UnitRange{Int64}})\n",
      "    @ Base ./abstractarray.jl:691\n",
      "  [2] checkbounds\n",
      "    @ ./abstractarray.jl:656 [inlined]\n",
      "  [3] view\n",
      "    @ ./subarray.jl:177 [inlined]\n",
      "  [4] get_density!(u::Vector{Float64}, n::Vector{Float64}, p::Tuple{Int64, Int64, Int64, Float64, Float64})\n",
      "    @ Main ~/Julia/PIC/PIC-1D/aux_functions.jl:74\n",
      "  [5] top-level scope\n",
      "    @ ~/Julia/PIC/PIC-1D/pic_v2.ipynb:9\n",
      "  [6] eval\n",
      "    @ ./boot.jl:373 [inlined]\n",
      "  [7] include_string(mapexpr::typeof(REPL.softscope), mod::Module, code::String, filename::String)\n",
      "    @ Base ./loading.jl:1196\n",
      "  [8] #invokelatest#2\n",
      "    @ ./essentials.jl:716 [inlined]\n",
      "  [9] invokelatest\n",
      "    @ ./essentials.jl:714 [inlined]\n",
      " [10] (::VSCodeServer.var\"#150#151\"{VSCodeServer.NotebookRunCellArguments, String})()\n",
      "    @ VSCodeServer ~/.vscode/extensions/julialang.language-julia-1.5.8/scripts/packages/VSCodeServer/src/serve_notebook.jl:18\n",
      " [11] withpath(f::VSCodeServer.var\"#150#151\"{VSCodeServer.NotebookRunCellArguments, String}, path::String)\n",
      "    @ VSCodeServer ~/.vscode/extensions/julialang.language-julia-1.5.8/scripts/packages/VSCodeServer/src/repl.jl:185\n",
      " [12] notebook_runcell_request(conn::VSCodeServer.JSONRPC.JSONRPCEndpoint{Base.PipeEndpoint, Base.PipeEndpoint}, params::VSCodeServer.NotebookRunCellArguments)\n",
      "    @ VSCodeServer ~/.vscode/extensions/julialang.language-julia-1.5.8/scripts/packages/VSCodeServer/src/serve_notebook.jl:14\n",
      " [13] dispatch_msg(x::VSCodeServer.JSONRPC.JSONRPCEndpoint{Base.PipeEndpoint, Base.PipeEndpoint}, dispatcher::VSCodeServer.JSONRPC.MsgDispatcher, msg::Dict{String, Any})\n",
      "    @ VSCodeServer.JSONRPC ~/.vscode/extensions/julialang.language-julia-1.5.8/scripts/packages/JSONRPC/src/typed.jl:67\n",
      " [14] serve_notebook(pipename::String; crashreporting_pipename::String)\n",
      "    @ VSCodeServer ~/.vscode/extensions/julialang.language-julia-1.5.8/scripts/packages/VSCodeServer/src/serve_notebook.jl:94\n",
      " [15] top-level scope\n",
      "    @ ~/.vscode/extensions/julialang.language-julia-1.5.8/scripts/notebook/notebook.jl:12\n",
      " [16] include(mod::Module, _path::String)\n",
      "    @ Base ./Base.jl:418\n",
      " [17] exec_options(opts::Base.JLOptions)\n",
      "    @ Base ./client.jl:292\n",
      " [18] _start()\n",
      "    @ Base ./client.jl:495"
     ]
    }
   ],
   "source": [
    "E = zeros(J)\n",
    "ϕ = zeros(J)\n",
    "n = zeros(J) #charge density\n",
    "S = zeros(J) #carge current\n",
    "du = zeros(2*N+J); # contains r, v and E\n",
    "\n",
    "r = L*rand(N);\n",
    "vp = rand(Normal(vb,1),N÷2);\n",
    "get_density!(u, n, p)\n",
    "n0 = N/L\n",
    "get_ϕ!(ϕ, -n/n0 .+ 1., κ) # chenge the sign here to make it consistent with charge conservation and the time derivative of E\n",
    "get_E_from_ϕ!(ϕ,E,dx)\n",
    "\n",
    "u = [r; -vp; vp; E];"
   ]
  },
  {
   "cell_type": "code",
   "execution_count": 247,
   "metadata": {},
   "outputs": [
    {
     "ename": "BoundsError",
     "evalue": "BoundsError: attempt to access 80512-element Vector{Float64} at index [1:200000]",
     "output_type": "error",
     "traceback": [
      "BoundsError: attempt to access 80512-element Vector{Float64} at index [1:200000]\n",
      "\n",
      "Stacktrace:\n",
      "  [1] throw_boundserror(A::Vector{Float64}, I::Tuple{UnitRange{Int64}})\n",
      "    @ Base ./abstractarray.jl:691\n",
      "  [2] checkbounds\n",
      "    @ ./abstractarray.jl:656 [inlined]\n",
      "  [3] view\n",
      "    @ ./subarray.jl:177 [inlined]\n",
      "  [4] get_current!(u::Vector{Float64}, S::Vector{Float64}, p::Tuple{Int64, Int64, Int64, Float64, Float64})\n",
      "    @ Main ~/Julia/PIC/PIC-1D/aux_functions.jl:99\n",
      "  [5] top-level scope\n",
      "    @ ~/Julia/PIC/PIC-1D/pic_v2.ipynb:3\n",
      "  [6] eval\n",
      "    @ ./boot.jl:373 [inlined]\n",
      "  [7] include_string(mapexpr::typeof(REPL.softscope), mod::Module, code::String, filename::String)\n",
      "    @ Base ./loading.jl:1196\n",
      "  [8] #invokelatest#2\n",
      "    @ ./essentials.jl:716 [inlined]\n",
      "  [9] invokelatest\n",
      "    @ ./essentials.jl:714 [inlined]\n",
      " [10] (::VSCodeServer.var\"#150#151\"{VSCodeServer.NotebookRunCellArguments, String})()\n",
      "    @ VSCodeServer ~/.vscode/extensions/julialang.language-julia-1.5.8/scripts/packages/VSCodeServer/src/serve_notebook.jl:18\n",
      " [11] withpath(f::VSCodeServer.var\"#150#151\"{VSCodeServer.NotebookRunCellArguments, String}, path::String)\n",
      "    @ VSCodeServer ~/.vscode/extensions/julialang.language-julia-1.5.8/scripts/packages/VSCodeServer/src/repl.jl:185\n",
      " [12] notebook_runcell_request(conn::VSCodeServer.JSONRPC.JSONRPCEndpoint{Base.PipeEndpoint, Base.PipeEndpoint}, params::VSCodeServer.NotebookRunCellArguments)\n",
      "    @ VSCodeServer ~/.vscode/extensions/julialang.language-julia-1.5.8/scripts/packages/VSCodeServer/src/serve_notebook.jl:14\n",
      " [13] dispatch_msg(x::VSCodeServer.JSONRPC.JSONRPCEndpoint{Base.PipeEndpoint, Base.PipeEndpoint}, dispatcher::VSCodeServer.JSONRPC.MsgDispatcher, msg::Dict{String, Any})\n",
      "    @ VSCodeServer.JSONRPC ~/.vscode/extensions/julialang.language-julia-1.5.8/scripts/packages/JSONRPC/src/typed.jl:67\n",
      " [14] serve_notebook(pipename::String; crashreporting_pipename::String)\n",
      "    @ VSCodeServer ~/.vscode/extensions/julialang.language-julia-1.5.8/scripts/packages/VSCodeServer/src/serve_notebook.jl:94\n",
      " [15] top-level scope\n",
      "    @ ~/.vscode/extensions/julialang.language-julia-1.5.8/scripts/notebook/notebook.jl:12\n",
      " [16] include(mod::Module, _path::String)\n",
      "    @ Base ./Base.jl:418\n",
      " [17] exec_options(opts::Base.JLOptions)\n",
      "    @ Base ./client.jl:292\n",
      " [18] _start()\n",
      "    @ Base ./client.jl:495"
     ]
    }
   ],
   "source": [
    "\n",
    "\n",
    "get_current!(u, S, p)\n",
    "\n",
    "Coordinate_test(r,L)\n",
    "\n",
    "println(\"n_total = $(sum(n/n0 .- 1))\")\n",
    "println(\"v_total = $(sum([-vp;vp]))\")\n",
    "println(\"E_total = $(sum(E))\")\n",
    "\n",
    "println(\"S_total = $(sum(S))\")\n"
   ]
  },
  {
   "cell_type": "code",
   "execution_count": 248,
   "metadata": {},
   "outputs": [
    {
     "ename": "BoundsError",
     "evalue": "BoundsError: attempt to access 80512-element Vector{Float64} at index [1:200000]",
     "output_type": "error",
     "traceback": [
      "BoundsError: attempt to access 80512-element Vector{Float64} at index [1:200000]\n",
      "\n",
      "Stacktrace:\n",
      "  [1] throw_boundserror(A::Vector{Float64}, I::Tuple{UnitRange{Int64}})\n",
      "    @ Base ./abstractarray.jl:691\n",
      "  [2] checkbounds\n",
      "    @ ./abstractarray.jl:656 [inlined]\n",
      "  [3] getindex(A::Vector{Float64}, I::UnitRange{Int64})\n",
      "    @ Base ./array.jl:867\n",
      "  [4] top-level scope\n",
      "    @ ~/Julia/PIC/PIC-1D/pic_v2.ipynb:1\n",
      "  [5] eval\n",
      "    @ ./boot.jl:373 [inlined]\n",
      "  [6] include_string(mapexpr::typeof(REPL.softscope), mod::Module, code::String, filename::String)\n",
      "    @ Base ./loading.jl:1196\n",
      "  [7] #invokelatest#2\n",
      "    @ ./essentials.jl:716 [inlined]\n",
      "  [8] invokelatest\n",
      "    @ ./essentials.jl:714 [inlined]\n",
      "  [9] (::VSCodeServer.var\"#150#151\"{VSCodeServer.NotebookRunCellArguments, String})()\n",
      "    @ VSCodeServer ~/.vscode/extensions/julialang.language-julia-1.5.8/scripts/packages/VSCodeServer/src/serve_notebook.jl:18\n",
      " [10] withpath(f::VSCodeServer.var\"#150#151\"{VSCodeServer.NotebookRunCellArguments, String}, path::String)\n",
      "    @ VSCodeServer ~/.vscode/extensions/julialang.language-julia-1.5.8/scripts/packages/VSCodeServer/src/repl.jl:185\n",
      " [11] notebook_runcell_request(conn::VSCodeServer.JSONRPC.JSONRPCEndpoint{Base.PipeEndpoint, Base.PipeEndpoint}, params::VSCodeServer.NotebookRunCellArguments)\n",
      "    @ VSCodeServer ~/.vscode/extensions/julialang.language-julia-1.5.8/scripts/packages/VSCodeServer/src/serve_notebook.jl:14\n",
      " [12] dispatch_msg(x::VSCodeServer.JSONRPC.JSONRPCEndpoint{Base.PipeEndpoint, Base.PipeEndpoint}, dispatcher::VSCodeServer.JSONRPC.MsgDispatcher, msg::Dict{String, Any})\n",
      "    @ VSCodeServer.JSONRPC ~/.vscode/extensions/julialang.language-julia-1.5.8/scripts/packages/JSONRPC/src/typed.jl:67\n",
      " [13] serve_notebook(pipename::String; crashreporting_pipename::String)\n",
      "    @ VSCodeServer ~/.vscode/extensions/julialang.language-julia-1.5.8/scripts/packages/VSCodeServer/src/serve_notebook.jl:94\n",
      " [14] top-level scope\n",
      "    @ ~/.vscode/extensions/julialang.language-julia-1.5.8/scripts/notebook/notebook.jl:12\n",
      " [15] include(mod::Module, _path::String)\n",
      "    @ Base ./Base.jl:418\n",
      " [16] exec_options(opts::Base.JLOptions)\n",
      "    @ Base ./client.jl:292\n",
      " [17] _start()\n",
      "    @ Base ./client.jl:495"
     ]
    }
   ],
   "source": [
    "plt = scatter(u[1:N],u[N+1:2N]\n",
    ", thickness_scaling = 0.3\n",
    "#, markersize = 0.3\n",
    ", title = \"phase-space\", legend =:false)\n",
    "#png(\"t00_1024_2_4\")"
   ]
  },
  {
   "cell_type": "markdown",
   "metadata": {},
   "source": [
    "Initialize some of the intermediate fields we need."
   ]
  },
  {
   "cell_type": "markdown",
   "metadata": {},
   "source": [
    "Compute the initial density, potential and electric field."
   ]
  },
  {
   "cell_type": "code",
   "execution_count": 249,
   "metadata": {},
   "outputs": [],
   "source": [
    "#plot(x,n/n0 .- 1)\n",
    "plot(x,n/n0, title = \"density\", legend = :false)"
   ]
  },
  {
   "cell_type": "markdown",
   "metadata": {},
   "source": [
    "Find the correspondig potential"
   ]
  },
  {
   "cell_type": "code",
   "execution_count": null,
   "metadata": {},
   "outputs": [],
   "source": [
    "plot(x,ϕ, title = \"potential\", legend = :false)"
   ]
  },
  {
   "cell_type": "code",
   "execution_count": null,
   "metadata": {},
   "outputs": [],
   "source": [
    "plot(x,E, title = \"Electric Field\", legend = :false)"
   ]
  },
  {
   "cell_type": "markdown",
   "metadata": {},
   "source": [
    "Check the histograms for the initial positions and velocities."
   ]
  },
  {
   "cell_type": "code",
   "execution_count": null,
   "metadata": {},
   "outputs": [],
   "source": [
    "histogram(u[1:N], title = \"density\", legend = :false)"
   ]
  },
  {
   "cell_type": "code",
   "execution_count": null,
   "metadata": {},
   "outputs": [],
   "source": [
    "histogram(u[N+1:2*N], title = \"velocity\", legend = :false)"
   ]
  },
  {
   "cell_type": "code",
   "execution_count": null,
   "metadata": {},
   "outputs": [],
   "source": [
    "get_current!(u, S, p)\n",
    "histogram(S, title = \"current\", legend = :false)"
   ]
  },
  {
   "cell_type": "markdown",
   "metadata": {},
   "source": [
    "Now we make the time evolution:"
   ]
  },
  {
   "cell_type": "code",
   "execution_count": null,
   "metadata": {},
   "outputs": [],
   "source": [
    "p_RHSC = N, J, L, dx, n, S, du, get_density!, get_current! ;\n",
    "\n",
    "for k in 1:M\n",
    "  RK4_Step!(RHSC,u,t,dt,p_RHSC)\n",
    "  u = [make_periodic!(u[1:N],L); u[N+1:end]]\n",
    "  if k % (M÷10) == 0\n",
    "    #scatter(plt, u[1:N], u[N+1:2*N])\n",
    "  end\n",
    "  t = t + dt\n",
    "end"
   ]
  },
  {
   "cell_type": "markdown",
   "metadata": {},
   "source": [
    "Plot the final values"
   ]
  },
  {
   "cell_type": "markdown",
   "metadata": {},
   "source": [
    "The density:"
   ]
  },
  {
   "cell_type": "code",
   "execution_count": null,
   "metadata": {},
   "outputs": [],
   "source": [
    "get_density!(u,n,p)\n",
    "plot(x,n*L/N .- 1, title = \"density\", legend =:false)"
   ]
  },
  {
   "cell_type": "code",
   "execution_count": null,
   "metadata": {},
   "outputs": [],
   "source": [
    "histogram(u[1:N], title = \"density\", legend =:false)"
   ]
  },
  {
   "cell_type": "code",
   "execution_count": null,
   "metadata": {},
   "outputs": [],
   "source": [
    "histogram(u[N+1:2N], title = \"velocity\", legend =:false)"
   ]
  },
  {
   "cell_type": "code",
   "execution_count": null,
   "metadata": {},
   "outputs": [],
   "source": [
    "scatter(u[1:N],u[N+1:2N]\n",
    "#, thickness_scaling = 0.3\n",
    ", markersize = 0.3\n",
    ", title = \"phase-space\", legend =:false)\n",
    "#png(\"t20_1024_2_4_E\")"
   ]
  },
  {
   "cell_type": "code",
   "execution_count": null,
   "metadata": {},
   "outputs": [],
   "source": [
    "plot(x,u[2N+1:end], title=\"Electric Field\")"
   ]
  },
  {
   "cell_type": "code",
   "execution_count": null,
   "metadata": {},
   "outputs": [],
   "source": [
    "E_F = zeros(J)\n",
    "ϕ_F = zeros(J)\n",
    "n_F = zeros(J)\n",
    "get_density!(u, n_F, p)\n",
    "n0 = N/L\n",
    "get_ϕ!(ϕ_F, n_F/n0 .- 1., κ)\n",
    "get_E_from_ϕ!(ϕ_F,E_F,dx)\n",
    "plot(x,E_F)"
   ]
  },
  {
   "cell_type": "code",
   "execution_count": null,
   "metadata": {},
   "outputs": [],
   "source": [
    "println(\"averaged total E field = $(sum(E_F))\")\n",
    "println(\"E_total = $(sum(u[2N+1:end]))\")\n",
    "println(\"Total velocity = $(sum(u[N+1:2N]))\")\n",
    "println(\"Total Charge = $(sum(n_F/n0 .- 1.))\")"
   ]
  }
 ],
 "metadata": {
  "kernelspec": {
   "display_name": "Julia 1.7.0",
   "language": "julia",
   "name": "julia-1.7"
  },
  "language_info": {
   "file_extension": ".jl",
   "mimetype": "application/julia",
   "name": "julia",
   "version": "1.7.0"
  },
  "orig_nbformat": 4
 },
 "nbformat": 4,
 "nbformat_minor": 2
}
