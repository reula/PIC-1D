{
 "cells": [
  {
   "cell_type": "code",
   "execution_count": 1,
   "metadata": {},
   "outputs": [],
   "source": [
    "#using DifferentialEquations\n",
    "using Plots\n",
    "using Statistics\n",
    "using FFTW\n",
    "FFTW.set_provider!(\"mkl\")\n",
    "#import Pkg; Pkg.add(\"FileIO\")\n",
    "using FileIO\n",
    "using JLD2\n",
    "using Base.Threads\n",
    "using Distributions\n",
    "using LaTeXStrings\n",
    "using Printf\n",
    "using LsqFit\n",
    "using BenchmarkTools\n",
    "using LinearAlgebra\n",
    "using StaticArrays"
   ]
  },
  {
   "cell_type": "code",
   "execution_count": 2,
   "metadata": {},
   "outputs": [
    {
     "data": {
      "text/plain": [
       "differentials"
      ]
     },
     "metadata": {},
     "output_type": "display_data"
    }
   ],
   "source": [
    "\n",
    "include(\"../aux_functions.jl\")"
   ]
  },
  {
   "cell_type": "code",
   "execution_count": null,
   "metadata": {},
   "outputs": [],
   "source": [
    "SVector(1,1)"
   ]
  },
  {
   "cell_type": "code",
   "execution_count": null,
   "metadata": {},
   "outputs": [],
   "source": [
    "J = 200\n",
    "N = 8_000\n",
    "M_g = 11\n",
    "L = 200\n",
    "dx = L/J\n",
    "order = 5\n",
    "par_grid = (N, L, J, dx, order)\n",
    "v = rand(2N+J,M_g);\n",
    "κ = 2π/L\n",
    "\n",
    "t_i = 0.0\n",
    "t_f = 2.0\n",
    "M = 2001\n",
    "dt = (t_f - t_i)/(M_g - 1)\n",
    "par_evolv = (t_i, t_f, M, M_g, dt)\n",
    "\n",
    "θ = 0.001\n",
    "nm = 2\n",
    "par_f = (θ, nm, κ)"
   ]
  },
  {
   "cell_type": "code",
   "execution_count": null,
   "metadata": {},
   "outputs": [],
   "source": [
    "n = zeros(J)\n",
    "ϕ = zeros(J)\n",
    "Tn = zeros(J, nthreads())\n",
    "par_density = (par_grid, Tn)\n",
    "E_f = zeros(J)\n",
    "get_density!(v[:,end], n, par_grid)\n",
    "get_ϕ!(ϕ, n .- 1.0, κ)\n",
    "get_E_from_ϕ!(ϕ,E_f,dx)\n",
    "E_f_t = zeros(J)\n",
    "get_density_threads!(v[:,end], n, par_density)\n",
    "get_ϕ!(ϕ, n .- 1.0, κ)\n",
    "get_E_from_ϕ!(ϕ,E_f_t,dx)\n",
    "(E_f - E_f_t)'*(E_f - E_f_t)"
   ]
  },
  {
   "cell_type": "code",
   "execution_count": null,
   "metadata": {},
   "outputs": [],
   "source": [
    "@time Energy_K, Energy_E, EField_T, p_T, Q_T, S_T, T = get_averages(v,par_grid,par_evolv, par_f);\n"
   ]
  },
  {
   "cell_type": "code",
   "execution_count": null,
   "metadata": {},
   "outputs": [],
   "source": [
    "@time Energy_K_t, Energy_E_t, EField_T_t, p_T_t, Q_T_t, S_T_t, T_t = get_averages_threads(v,par_grid,par_evolv, par_f);"
   ]
  },
  {
   "attachments": {},
   "cell_type": "markdown",
   "metadata": {},
   "source": [
    "### Testing v2p and p2v\n",
    "\n"
   ]
  },
  {
   "cell_type": "code",
   "execution_count": null,
   "metadata": {},
   "outputs": [],
   "source": [
    "p = rand(10)\n",
    "m=2\n",
    "v = p2v.(p;m=m)\n",
    "p - v2p.(v;m=m)"
   ]
  },
  {
   "cell_type": "code",
   "execution_count": null,
   "metadata": {},
   "outputs": [],
   "source": [
    "v = p2v.(p)\n",
    "p - v2p.(v)"
   ]
  },
  {
   "cell_type": "code",
   "execution_count": null,
   "metadata": {},
   "outputs": [],
   "source": [
    "v = [[0.2,0.3],[0.1,0.05]] # it works ok with lists of vectors too.\n",
    "v2p.(v)"
   ]
  },
  {
   "attachments": {},
   "cell_type": "markdown",
   "metadata": {},
   "source": [
    "### Testing particles positions and momenta"
   ]
  },
  {
   "cell_type": "code",
   "execution_count": null,
   "metadata": {},
   "outputs": [],
   "source": [
    "include(\"../aux_functions.jl\")\n",
    "\n",
    "D = 2\n",
    "x = zeros(D)\n",
    "p = zeros(D)\n",
    "\n",
    "@show par_dis = [i for i in 1:4D]\n",
    "\n",
    "\n",
    "\n",
    "i = 2\n",
    "get_positions!(x,i,par_dis)\n",
    "\n",
    "  \n",
    "get_momenta!(p,i,par_dis)\n",
    "\n",
    "@show x, p"
   ]
  },
  {
   "attachments": {},
   "cell_type": "markdown",
   "metadata": {},
   "source": [
    "## Testing index and y functions"
   ]
  },
  {
   "cell_type": "code",
   "execution_count": null,
   "metadata": {},
   "outputs": [],
   "source": [
    "J=1000\n",
    "L=100\n",
    "s = 28.74\n",
    "get_index_and_y(s,J,L)"
   ]
  },
  {
   "cell_type": "code",
   "execution_count": null,
   "metadata": {},
   "outputs": [],
   "source": [
    "Jt = (100, 200, 200)\n",
    "Box = (0.0, 10, 0.0, 20, -20.0, 0.0)\n",
    "ss = [8.74, 8.74, -11.26]\n",
    "j=[1,1,1]\n",
    "y=zeros(3)\n",
    "get_index_and_y!(j,y,ss,Jt,Box)"
   ]
  },
  {
   "cell_type": "code",
   "execution_count": null,
   "metadata": {},
   "outputs": [],
   "source": [
    "Jt = (100, 200, 200)\n",
    "Box = (0.0, 10, 0.0, 20, -20.0, 0.0)\n",
    "ss = [8.74, 8.74, -11.26]\n",
    "j=[1,1,1]\n",
    "y=zeros(3)\n",
    "r = view(ss,1:3)\n",
    "get_index_and_y!(j,y,r,Jt,Box)"
   ]
  },
  {
   "attachments": {},
   "cell_type": "markdown",
   "metadata": {},
   "source": [
    "## Testing Shape Functions"
   ]
  },
  {
   "cell_type": "code",
   "execution_count": null,
   "metadata": {},
   "outputs": [],
   "source": [
    "const cinco = 5\n",
    "@btime W(5,$0.4)"
   ]
  },
  {
   "cell_type": "code",
   "execution_count": null,
   "metadata": {},
   "outputs": [],
   "source": [
    "v = [0.5,0.5]\n",
    "@show s = norm(v)\n",
    "\n",
    "@btime W(5,0.7071067811865476)\n",
    "@btime W(5,s)"
   ]
  },
  {
   "cell_type": "code",
   "execution_count": null,
   "metadata": {},
   "outputs": [],
   "source": [
    "v = SVector(0.5,0.5)\n",
    "@btime W(5,v)"
   ]
  },
  {
   "cell_type": "code",
   "execution_count": null,
   "metadata": {},
   "outputs": [],
   "source": [
    "@btime norm([0.5,0.5],2)"
   ]
  },
  {
   "cell_type": "code",
   "execution_count": null,
   "metadata": {},
   "outputs": [],
   "source": [
    "@btime sqrt($(0.5)^2+$(0.5)^2)"
   ]
  },
  {
   "cell_type": "code",
   "execution_count": null,
   "metadata": {},
   "outputs": [],
   "source": [
    "@btime sqrt(v'*v)"
   ]
  },
  {
   "cell_type": "code",
   "execution_count": null,
   "metadata": {},
   "outputs": [],
   "source": [
    "order = 5\n",
    "x = -4:0.1:4\n",
    "y = -4:0.1:4\n",
    "\n",
    "\n",
    "f(order,x) = Shape(order,x[1])*Shape(order,x[2])\n",
    "\n",
    "default(size=(600,600), fc=:heat)\n",
    "\n",
    "z = Surface((x,y)->f(order,[x,y]), x, y)\n",
    "surface(x,y,z, linealpha = 0.3)\n",
    "\n"
   ]
  },
  {
   "attachments": {},
   "cell_type": "markdown",
   "metadata": {},
   "source": [
    "## Density test"
   ]
  },
  {
   "cell_type": "code",
   "execution_count": null,
   "metadata": {},
   "outputs": [],
   "source": [
    "N = 1\n",
    "J = 20\n",
    "L = 10\n",
    "order = 5\n",
    "par_grid = (N, L, J, L/J, order)\n",
    "n = zeros(20)\n",
    "u = [3.0]\n",
    "get_density!(u,n,par_grid,0)\n",
    "x = 0:L/J:(L-L/J)\n",
    "plot(x,n)\n",
    "scatter!(x,n)\n",
    "#sum(n)/J"
   ]
  },
  {
   "cell_type": "code",
   "execution_count": null,
   "metadata": {},
   "outputs": [],
   "source": [
    "N = 1\n",
    "J = 20\n",
    "L = 10\n",
    "order = 5\n",
    "par_grid = (N, L, J, L/J, order)\n",
    "n = zeros(20)\n",
    "u = [5.1]\n",
    "get_density!(u,n,par_grid,0.5)\n",
    "x = 0:L/J:(L-L/J)\n",
    "plot(x,n)\n",
    "scatter!(x,n)\n",
    "#sum(n)/J"
   ]
  },
  {
   "cell_type": "code",
   "execution_count": 14,
   "metadata": {},
   "outputs": [
    {
     "data": {
      "text/plain": [
       "100×200 Matrix{Float64}:\n",
       " 2.12283e-6   2.88716e-5   0.000140283  …  0.000172783  6.27305e-5\n",
       " 2.08566e-7   3.20579e-6   3.24212e-5      3.60802e-5   1.27672e-5\n",
       " 2.82648e-6   2.13052e-5   5.84948e-5      1.14299e-7   4.10693e-8\n",
       " 2.05343e-5   0.000151546  0.000129282     1.20562e-13  1.16999e-7\n",
       " 9.00503e-5   0.000257286  0.000204708     3.27969e-7   6.88054e-6\n",
       " 0.000266999  0.00035919   0.000167835  …  8.77596e-6   3.11026e-5\n",
       " 0.000200278  0.000222974  0.000180356     2.92924e-5   0.000121592\n",
       " 9.88022e-5   6.04676e-5   9.36372e-5      3.21294e-5   0.000137815\n",
       " 3.3153e-5    2.72553e-6   3.82141e-6      6.72322e-5   0.000111269\n",
       " 3.8663e-5    2.14789e-7   2.52492e-9      8.10927e-5   0.000164097\n",
       " ⋮                                      ⋱               \n",
       " 5.518e-5     1.13628e-6   1.31139e-5      0.000121036  0.000222677\n",
       " 1.38187e-5   1.3572e-6    7.08041e-5      6.61836e-5   9.0694e-5\n",
       " 2.18616e-5   2.2938e-6    4.67972e-5      8.9131e-6    2.86019e-5\n",
       " 0.000121818  1.10969e-5   7.56308e-6      1.64984e-5   0.000138495\n",
       " 0.000155018  6.39256e-5   4.48491e-5   …  5.01479e-5   0.0001151\n",
       " 0.000166534  0.00010397   5.58584e-5      0.000192926  0.000162843\n",
       " 8.88702e-5   2.04851e-5   6.86874e-6      0.000170867  0.000253852\n",
       " 0.000117553  7.07652e-6   9.42331e-6      6.60153e-5   0.000230173\n",
       " 4.60842e-5   2.75771e-5   0.000123199     9.93747e-5   0.000102202"
      ]
     },
     "metadata": {},
     "output_type": "display_data"
    }
   ],
   "source": [
    "include(\"../aux_functions.jl\")\n",
    "const N = 2_000\n",
    "const J = (100,200)\n",
    "const Box = (0.0,1.0,0.0,1.0)\n",
    "const order = 5\n",
    "const par_grid = (N, Box, J, order)\n",
    "n1 = zeros(J)\n",
    "u = rand(4*N)\n",
    "j = [0,0]\n",
    "y = [0.0,0.0]\n",
    "#@show r = view(u,1:2)\n",
    "#@show get_index_and_y!(j,y,r,J,Box)\n",
    "#@show j, y\n",
    "\n",
    "#@btime get_density_2D!($u,$n1,$par_grid,$0)\n",
    "get_density_2D!(u,n1,par_grid,0)\n",
    "#plot_matrix(n)\n",
    "#sum(n)"
   ]
  },
  {
   "cell_type": "code",
   "execution_count": 4,
   "metadata": {},
   "outputs": [
    {
     "name": "stdout",
     "output_type": "stream",
     "text": [
      "y[2] = [0.09999999999999432, 0.6000000000000227]\n"
     ]
    },
    {
     "data": {
      "text/plain": [
       "2-element Vector{Float64}:\n",
       " 0.09999999999999432\n",
       " 0.6000000000000227"
      ]
     },
     "metadata": {},
     "output_type": "display_data"
    }
   ],
   "source": [
    "include(\"../aux_functions.jl\")\n",
    "#const N = 2_000_000\n",
    "#const N = 2_0\n",
    "#const J = (200,100)\n",
    "#const Box = (0.0,1.0,0.0,1.0)\n",
    "#const order = 5\n",
    "#const par_grid = (N, Box, J, order)\n",
    "\n",
    "#u = rand(4*N)\n",
    "u_r = [0.501,0.403]\n",
    "n2 = zeros(J)\n",
    "Tn = zeros(J...,nthreads())\n",
    "j = fill([1,1],nthreads()) \n",
    "y = fill([1.0,1.0],nthreads())\n",
    "\n",
    "get_index_and_y!(j[1], y[1], u_r, J, Box)\n",
    "@show y[2]\n",
    "#@show j[1]"
   ]
  },
  {
   "cell_type": "code",
   "execution_count": 11,
   "metadata": {},
   "outputs": [
    {
     "data": {
      "text/plain": [
       "100×200 Matrix{Float64}:\n",
       " 0.0  0.0  0.0  0.0  0.0  0.0  0.0  0.0  …  0.0  0.0  0.0  0.0  0.0  0.0  0.0\n",
       " 0.0  0.0  0.0  0.0  0.0  0.0  0.0  0.0     0.0  0.0  0.0  0.0  0.0  0.0  0.0\n",
       " 0.0  0.0  0.0  0.0  0.0  0.0  0.0  0.0     0.0  0.0  0.0  0.0  0.0  0.0  0.0\n",
       " 0.0  0.0  0.0  0.0  0.0  0.0  0.0  0.0     0.0  0.0  0.0  0.0  0.0  0.0  0.0\n",
       " 0.0  0.0  0.0  0.0  0.0  0.0  0.0  0.0     0.0  0.0  0.0  0.0  0.0  0.0  0.0\n",
       " 0.0  0.0  0.0  0.0  0.0  0.0  0.0  0.0  …  0.0  0.0  0.0  0.0  0.0  0.0  0.0\n",
       " 0.0  0.0  0.0  0.0  0.0  0.0  0.0  0.0     0.0  0.0  0.0  0.0  0.0  0.0  0.0\n",
       " 0.0  0.0  0.0  0.0  0.0  0.0  0.0  0.0     0.0  0.0  0.0  0.0  0.0  0.0  0.0\n",
       " 0.0  0.0  0.0  0.0  0.0  0.0  0.0  0.0     0.0  0.0  0.0  0.0  0.0  0.0  0.0\n",
       " 0.0  0.0  0.0  0.0  0.0  0.0  0.0  0.0     0.0  0.0  0.0  0.0  0.0  0.0  0.0\n",
       " ⋮                        ⋮              ⋱            ⋮                   \n",
       " 0.0  0.0  0.0  0.0  0.0  0.0  0.0  0.0     0.0  0.0  0.0  0.0  0.0  0.0  0.0\n",
       " 0.0  0.0  0.0  0.0  0.0  0.0  0.0  0.0     0.0  0.0  0.0  0.0  0.0  0.0  0.0\n",
       " 0.0  0.0  0.0  0.0  0.0  0.0  0.0  0.0     0.0  0.0  0.0  0.0  0.0  0.0  0.0\n",
       " 0.0  0.0  0.0  0.0  0.0  0.0  0.0  0.0     0.0  0.0  0.0  0.0  0.0  0.0  0.0\n",
       " 0.0  0.0  0.0  0.0  0.0  0.0  0.0  0.0  …  0.0  0.0  0.0  0.0  0.0  0.0  0.0\n",
       " 0.0  0.0  0.0  0.0  0.0  0.0  0.0  0.0     0.0  0.0  0.0  0.0  0.0  0.0  0.0\n",
       " 0.0  0.0  0.0  0.0  0.0  0.0  0.0  0.0     0.0  0.0  0.0  0.0  0.0  0.0  0.0\n",
       " 0.0  0.0  0.0  0.0  0.0  0.0  0.0  0.0     0.0  0.0  0.0  0.0  0.0  0.0  0.0\n",
       " 0.0  0.0  0.0  0.0  0.0  0.0  0.0  0.0     0.0  0.0  0.0  0.0  0.0  0.0  0.0"
      ]
     },
     "metadata": {},
     "output_type": "display_data"
    }
   ],
   "source": [
    "include(\"../aux_functions.jl\")\n",
    "#@btime get_density_threads_2D!($u,$n2,$(par_grid,Tn),$0)\n",
    "get_density_threads_2D!(u,n2,(par_grid,Tn),0)"
   ]
  },
  {
   "cell_type": "code",
   "execution_count": 12,
   "metadata": {},
   "outputs": [
    {
     "name": "stdout",
     "output_type": "stream",
     "text": [
      "sum(n1) = 1.0\n",
      "sum(n2) = 1.0\n",
      "norm(n1 - n2) = 0.04208072479582461\n"
     ]
    },
    {
     "data": {
      "text/plain": [
       "0.04208072479582461"
      ]
     },
     "metadata": {},
     "output_type": "display_data"
    }
   ],
   "source": [
    "@show sum(n1) sum(n2) norm(n1-n2)"
   ]
  },
  {
   "cell_type": "code",
   "execution_count": 16,
   "metadata": {},
   "outputs": [
    {
     "data": {
      "image/png": "[encoded data removed]",
      "image/svg+xml": "<?xml version=\"1.0\" encoding=\"utf-8\"?>\n<svg xmlns=\"http://www.w3.org/2000/svg\" xmlns:xlink=\"http://www.w3.org/1999/xlink\" width=\"600\" height=\"400\" viewBox=\"0 0 2400 1600\">\n<defs>\n  <clipPath id=\"clip220\">\n    <rect x=\"0\" y=\"0\" width=\"2400\" height=\"1600\"/>\n  </clipPath>\n</defs>\n<path clip-path=\"url(#clip220)\" d=\"\nM0 1600 L2400 1600 L2400 0 L0 0  Z\n  \" fill=\"#ffffff\" fill-rule=\"evenodd\" fill-opacity=\"1\"/>\n<defs>\n  <clipPath id=\"clip221\">\n    <rect x=\"480\" y=\"0\" width=\"1681\" height=\"1600\"/>\n  </clipPath>\n</defs>\n<path clip-path=\"url(#clip220)\" d=\"\nM232.389 1423.18 L2112.76 1423.18 L2112.76 123.472 L232.389 123.472  Z\n  \" fill=\"#ffffff\" fill-rule=\"evenodd\" fill-opacity=\"1\"/>\n<defs>\n  <clipPath id=\"clip222\">\n    <rect x=\"232\" y=\"123\" width=\"1881\" height=\"1301\"/>\n  </clipPath>\n</defs>\n<polyline clip-path=\"url(#clip222)\" style=\"stroke:#000000; stroke-linecap:round; stroke-linejoin:round; stroke-width:2; stroke-opacity:0.1; fill:none\" points=\"\n  697.78,1423.18 697.78,123.472 \n  \"/>\n<polyline clip-path=\"url(#clip222)\" style=\"stroke:#000000; stroke-linecap:round; stroke-linejoin:round; stroke-width:2; stroke-opacity:0.1; fill:none\" points=\"\n  1167.87,1423.18 1167.87,123.472 \n  \"/>\n<polyline clip-path=\"url(#clip222)\" style=\"stroke:#000000; stroke-linecap:round; stroke-linejoin:round; stroke-width:2; stroke-opacity:0.1; fill:none\" points=\"\n  1637.96,1423.18 1637.96,123.472 \n  \"/>\n<polyline clip-path=\"url(#clip222)\" style=\"stroke:#000000; stroke-linecap:round; stroke-linejoin:round; stroke-width:2; stroke-opacity:0.1; fill:none\" points=\"\n  2108.05,1423.18 2108.05,123.472 \n  \"/>\n<polyline clip-path=\"url(#clip220)\" style=\"stroke:#000000; stroke-linecap:round; stroke-linejoin:round; stroke-width:4; stroke-opacity:1; fill:none\" points=\"\n  232.389,1423.18 2112.76,1423.18 \n  \"/>\n<polyline clip-path=\"url(#clip220)\" style=\"stroke:#000000; stroke-linecap:round; stroke-linejoin:round; stroke-width:4; stroke-opacity:1; fill:none\" points=\"\n  697.78,1423.18 697.78,1404.28 \n  \"/>\n<polyline clip-path=\"url(#clip220)\" style=\"stroke:#000000; stroke-linecap:round; stroke-linejoin:round; stroke-width:4; stroke-opacity:1; fill:none\" points=\"\n  1167.87,1423.18 1167.87,1404.28 \n  \"/>\n<polyline clip-path=\"url(#clip220)\" style=\"stroke:#000000; stroke-linecap:round; stroke-linejoin:round; stroke-width:4; stroke-opacity:1; fill:none\" points=\"\n  1637.96,1423.18 1637.96,1404.28 \n  \"/>\n<polyline clip-path=\"url(#clip220)\" style=\"stroke:#000000; stroke-linecap:round; stroke-linejoin:round; stroke-width:4; stroke-opacity:1; fill:none\" points=\"\n  2108.05,1423.18 2108.05,1404.28 \n  \"/>\n<path clip-path=\"url(#clip220)\" d=\"M672.479 1451.02 L690.836 1451.02 L690.836 1454.96 L676.762 1454.96 L676.762 1463.43 Q677.78 1463.08 678.799 1462.92 Q679.817 1462.73 680.836 1462.73 Q686.623 1462.73 690.002 1465.9 Q693.382 1469.08 693.382 1474.49 Q693.382 1480.07 689.91 1483.17 Q686.438 1486.25 680.118 1486.25 Q677.942 1486.25 675.674 1485.88 Q673.428 1485.51 671.021 1484.77 L671.021 1480.07 Q673.104 1481.2 675.326 1481.76 Q677.549 1482.32 680.026 1482.32 Q684.03 1482.32 686.368 1480.21 Q688.706 1478.1 688.706 1474.49 Q688.706 1470.88 686.368 1468.77 Q684.03 1466.67 680.026 1466.67 Q678.151 1466.67 676.276 1467.08 Q674.424 1467.5 672.479 1468.38 L672.479 1451.02 Z\" fill=\"#000000\" fill-rule=\"evenodd\" fill-opacity=\"1\" /><path clip-path=\"url(#clip220)\" d=\"M712.595 1454.1 Q708.984 1454.1 707.155 1457.66 Q705.349 1461.2 705.349 1468.33 Q705.349 1475.44 707.155 1479.01 Q708.984 1482.55 712.595 1482.55 Q716.229 1482.55 718.035 1479.01 Q719.863 1475.44 719.863 1468.33 Q719.863 1461.2 718.035 1457.66 Q716.229 1454.1 712.595 1454.1 M712.595 1450.39 Q718.405 1450.39 721.46 1455 Q724.539 1459.58 724.539 1468.33 Q724.539 1477.06 721.46 1481.67 Q718.405 1486.25 712.595 1486.25 Q706.785 1486.25 703.706 1481.67 Q700.65 1477.06 700.65 1468.33 Q700.65 1459.58 703.706 1455 Q706.785 1450.39 712.595 1450.39 Z\" fill=\"#000000\" fill-rule=\"evenodd\" fill-opacity=\"1\" /><path clip-path=\"url(#clip220)\" d=\"M1127.48 1481.64 L1135.12 1481.64 L1135.12 1455.28 L1126.81 1456.95 L1126.81 1452.69 L1135.07 1451.02 L1139.75 1451.02 L1139.75 1481.64 L1147.39 1481.64 L1147.39 1485.58 L1127.48 1485.58 L1127.48 1481.64 Z\" fill=\"#000000\" fill-rule=\"evenodd\" fill-opacity=\"1\" /><path clip-path=\"url(#clip220)\" d=\"M1166.83 1454.1 Q1163.22 1454.1 1161.39 1457.66 Q1159.58 1461.2 1159.58 1468.33 Q1159.58 1475.44 1161.39 1479.01 Q1163.22 1482.55 1166.83 1482.55 Q1170.46 1482.55 1172.27 1479.01 Q1174.1 1475.44 1174.1 1468.33 Q1174.1 1461.2 1172.27 1457.66 Q1170.46 1454.1 1166.83 1454.1 M1166.83 1450.39 Q1172.64 1450.39 1175.7 1455 Q1178.77 1459.58 1178.77 1468.33 Q1178.77 1477.06 1175.7 1481.67 Q1172.64 1486.25 1166.83 1486.25 Q1161.02 1486.25 1157.94 1481.67 Q1154.89 1477.06 1154.89 1468.33 Q1154.89 1459.58 1157.94 1455 Q1161.02 1450.39 1166.83 1450.39 Z\" fill=\"#000000\" fill-rule=\"evenodd\" fill-opacity=\"1\" /><path clip-path=\"url(#clip220)\" d=\"M1196.99 1454.1 Q1193.38 1454.1 1191.55 1457.66 Q1189.75 1461.2 1189.75 1468.33 Q1189.75 1475.44 1191.55 1479.01 Q1193.38 1482.55 1196.99 1482.55 Q1200.63 1482.55 1202.43 1479.01 Q1204.26 1475.44 1204.26 1468.33 Q1204.26 1461.2 1202.43 1457.66 Q1200.63 1454.1 1196.99 1454.1 M1196.99 1450.39 Q1202.8 1450.39 1205.86 1455 Q1208.94 1459.58 1208.94 1468.33 Q1208.94 1477.06 1205.86 1481.67 Q1202.8 1486.25 1196.99 1486.25 Q1191.18 1486.25 1188.1 1481.67 Q1185.05 1477.06 1185.05 1468.33 Q1185.05 1459.58 1188.1 1455 Q1191.18 1450.39 1196.99 1450.39 Z\" fill=\"#000000\" fill-rule=\"evenodd\" fill-opacity=\"1\" /><path clip-path=\"url(#clip220)\" d=\"M1597.57 1481.64 L1605.21 1481.64 L1605.21 1455.28 L1596.9 1456.95 L1596.9 1452.69 L1605.16 1451.02 L1609.84 1451.02 L1609.84 1481.64 L1617.48 1481.64 L1617.48 1485.58 L1597.57 1485.58 L1597.57 1481.64 Z\" fill=\"#000000\" fill-rule=\"evenodd\" fill-opacity=\"1\" /><path clip-path=\"url(#clip220)\" d=\"M1626.97 1451.02 L1645.32 1451.02 L1645.32 1454.96 L1631.25 1454.96 L1631.25 1463.43 Q1632.27 1463.08 1633.29 1462.92 Q1634.31 1462.73 1635.32 1462.73 Q1641.11 1462.73 1644.49 1465.9 Q1647.87 1469.08 1647.87 1474.49 Q1647.87 1480.07 1644.4 1483.17 Q1640.93 1486.25 1634.61 1486.25 Q1632.43 1486.25 1630.16 1485.88 Q1627.92 1485.51 1625.51 1484.77 L1625.51 1480.07 Q1627.59 1481.2 1629.82 1481.76 Q1632.04 1482.32 1634.51 1482.32 Q1638.52 1482.32 1640.86 1480.21 Q1643.19 1478.1 1643.19 1474.49 Q1643.19 1470.88 1640.86 1468.77 Q1638.52 1466.67 1634.51 1466.67 Q1632.64 1466.67 1630.76 1467.08 Q1628.91 1467.5 1626.97 1468.38 L1626.97 1451.02 Z\" fill=\"#000000\" fill-rule=\"evenodd\" fill-opacity=\"1\" /><path clip-path=\"url(#clip220)\" d=\"M1667.08 1454.1 Q1663.47 1454.1 1661.64 1457.66 Q1659.84 1461.2 1659.84 1468.33 Q1659.84 1475.44 1661.64 1479.01 Q1663.47 1482.55 1667.08 1482.55 Q1670.72 1482.55 1672.52 1479.01 Q1674.35 1475.44 1674.35 1468.33 Q1674.35 1461.2 1672.52 1457.66 Q1670.72 1454.1 1667.08 1454.1 M1667.08 1450.39 Q1672.89 1450.39 1675.95 1455 Q1679.03 1459.58 1679.03 1468.33 Q1679.03 1477.06 1675.95 1481.67 Q1672.89 1486.25 1667.08 1486.25 Q1661.27 1486.25 1658.19 1481.67 Q1655.14 1477.06 1655.14 1468.33 Q1655.14 1459.58 1658.19 1455 Q1661.27 1450.39 1667.08 1450.39 Z\" fill=\"#000000\" fill-rule=\"evenodd\" fill-opacity=\"1\" /><path clip-path=\"url(#clip220)\" d=\"M2071.75 1481.64 L2088.07 1481.64 L2088.07 1485.58 L2066.12 1485.58 L2066.12 1481.64 Q2068.78 1478.89 2073.37 1474.26 Q2077.97 1469.61 2079.15 1468.27 Q2081.4 1465.74 2082.28 1464.01 Q2083.18 1462.25 2083.18 1460.56 Q2083.18 1457.8 2081.24 1456.07 Q2079.32 1454.33 2076.21 1454.33 Q2074.02 1454.33 2071.56 1455.09 Q2069.13 1455.86 2066.35 1457.41 L2066.35 1452.69 Q2069.18 1451.55 2071.63 1450.97 Q2074.09 1450.39 2076.12 1450.39 Q2081.49 1450.39 2084.69 1453.08 Q2087.88 1455.77 2087.88 1460.26 Q2087.88 1462.39 2087.07 1464.31 Q2086.28 1466.2 2084.18 1468.8 Q2083.6 1469.47 2080.5 1472.69 Q2077.4 1475.88 2071.75 1481.64 Z\" fill=\"#000000\" fill-rule=\"evenodd\" fill-opacity=\"1\" /><path clip-path=\"url(#clip220)\" d=\"M2107.88 1454.1 Q2104.27 1454.1 2102.44 1457.66 Q2100.64 1461.2 2100.64 1468.33 Q2100.64 1475.44 2102.44 1479.01 Q2104.27 1482.55 2107.88 1482.55 Q2111.52 1482.55 2113.32 1479.01 Q2115.15 1475.44 2115.15 1468.33 Q2115.15 1461.2 2113.32 1457.66 Q2111.52 1454.1 2107.88 1454.1 M2107.88 1450.39 Q2113.69 1450.39 2116.75 1455 Q2119.83 1459.58 2119.83 1468.33 Q2119.83 1477.06 2116.75 1481.67 Q2113.69 1486.25 2107.88 1486.25 Q2102.07 1486.25 2098.99 1481.67 Q2095.94 1477.06 2095.94 1468.33 Q2095.94 1459.58 2098.99 1455 Q2102.07 1450.39 2107.88 1450.39 Z\" fill=\"#000000\" fill-rule=\"evenodd\" fill-opacity=\"1\" /><path clip-path=\"url(#clip220)\" d=\"M2138.04 1454.1 Q2134.43 1454.1 2132.6 1457.66 Q2130.8 1461.2 2130.8 1468.33 Q2130.8 1475.44 2132.6 1479.01 Q2134.43 1482.55 2138.04 1482.55 Q2141.68 1482.55 2143.48 1479.01 Q2145.31 1475.44 2145.31 1468.33 Q2145.31 1461.2 2143.48 1457.66 Q2141.68 1454.1 2138.04 1454.1 M2138.04 1450.39 Q2143.85 1450.39 2146.91 1455 Q2149.99 1459.58 2149.99 1468.33 Q2149.99 1477.06 2146.91 1481.67 Q2143.85 1486.25 2138.04 1486.25 Q2132.23 1486.25 2129.15 1481.67 Q2126.1 1477.06 2126.1 1468.33 Q2126.1 1459.58 2129.15 1455 Q2132.23 1450.39 2138.04 1450.39 Z\" fill=\"#000000\" fill-rule=\"evenodd\" fill-opacity=\"1\" /><path clip-path=\"url(#clip220)\" d=\"M1189.19 1532.4 L1176.3 1549.74 L1189.86 1568.04 L1182.95 1568.04 L1172.57 1554.04 L1162.2 1568.04 L1155.29 1568.04 L1169.14 1549.39 L1156.47 1532.4 L1163.37 1532.4 L1172.83 1545.1 L1182.28 1532.4 L1189.19 1532.4 Z\" fill=\"#000000\" fill-rule=\"evenodd\" fill-opacity=\"1\" /><polyline clip-path=\"url(#clip222)\" style=\"stroke:#000000; stroke-linecap:round; stroke-linejoin:round; stroke-width:2; stroke-opacity:0.1; fill:none\" points=\"\n  232.389,1169.74 2112.76,1169.74 \n  \"/>\n<polyline clip-path=\"url(#clip222)\" style=\"stroke:#000000; stroke-linecap:round; stroke-linejoin:round; stroke-width:2; stroke-opacity:0.1; fill:none\" points=\"\n  232.389,909.795 2112.76,909.795 \n  \"/>\n<polyline clip-path=\"url(#clip222)\" style=\"stroke:#000000; stroke-linecap:round; stroke-linejoin:round; stroke-width:2; stroke-opacity:0.1; fill:none\" points=\"\n  232.389,649.854 2112.76,649.854 \n  \"/>\n<polyline clip-path=\"url(#clip222)\" style=\"stroke:#000000; stroke-linecap:round; stroke-linejoin:round; stroke-width:2; stroke-opacity:0.1; fill:none\" points=\"\n  232.389,389.912 2112.76,389.912 \n  \"/>\n<polyline clip-path=\"url(#clip222)\" style=\"stroke:#000000; stroke-linecap:round; stroke-linejoin:round; stroke-width:2; stroke-opacity:0.1; fill:none\" points=\"\n  232.389,129.971 2112.76,129.971 \n  \"/>\n<polyline clip-path=\"url(#clip220)\" style=\"stroke:#000000; stroke-linecap:round; stroke-linejoin:round; stroke-width:4; stroke-opacity:1; fill:none\" points=\"\n  232.389,1423.18 232.389,123.472 \n  \"/>\n<polyline clip-path=\"url(#clip220)\" style=\"stroke:#000000; stroke-linecap:round; stroke-linejoin:round; stroke-width:4; stroke-opacity:1; fill:none\" points=\"\n  232.389,1169.74 249.148,1169.74 \n  \"/>\n<polyline clip-path=\"url(#clip220)\" style=\"stroke:#000000; stroke-linecap:round; stroke-linejoin:round; stroke-width:4; stroke-opacity:1; fill:none\" points=\"\n  232.389,909.795 249.148,909.795 \n  \"/>\n<polyline clip-path=\"url(#clip220)\" style=\"stroke:#000000; stroke-linecap:round; stroke-linejoin:round; stroke-width:4; stroke-opacity:1; fill:none\" points=\"\n  232.389,649.854 249.148,649.854 \n  \"/>\n<polyline clip-path=\"url(#clip220)\" style=\"stroke:#000000; stroke-linecap:round; stroke-linejoin:round; stroke-width:4; stroke-opacity:1; fill:none\" points=\"\n  232.389,389.912 249.148,389.912 \n  \"/>\n<polyline clip-path=\"url(#clip220)\" style=\"stroke:#000000; stroke-linecap:round; stroke-linejoin:round; stroke-width:4; stroke-opacity:1; fill:none\" points=\"\n  232.389,129.971 249.148,129.971 \n  \"/>\n<path clip-path=\"url(#clip220)\" d=\"M148.311 1183.08 L164.63 1183.08 L164.63 1187.02 L142.686 1187.02 L142.686 1183.08 Q145.348 1180.33 149.931 1175.7 Q154.538 1171.04 155.718 1169.7 Q157.964 1167.18 158.843 1165.44 Q159.746 1163.68 159.746 1161.99 Q159.746 1159.24 157.802 1157.5 Q155.88 1155.77 152.778 1155.77 Q150.579 1155.77 148.126 1156.53 Q145.695 1157.29 142.917 1158.85 L142.917 1154.12 Q145.741 1152.99 148.195 1152.41 Q150.649 1151.83 152.686 1151.83 Q158.056 1151.83 161.251 1154.52 Q164.445 1157.2 164.445 1161.69 Q164.445 1163.82 163.635 1165.74 Q162.848 1167.64 160.741 1170.23 Q160.163 1170.91 157.061 1174.12 Q153.959 1177.32 148.311 1183.08 Z\" fill=\"#000000\" fill-rule=\"evenodd\" fill-opacity=\"1\" /><path clip-path=\"url(#clip220)\" d=\"M184.445 1155.54 Q180.834 1155.54 179.005 1159.1 Q177.2 1162.64 177.2 1169.77 Q177.2 1176.88 179.005 1180.44 Q180.834 1183.98 184.445 1183.98 Q188.079 1183.98 189.885 1180.44 Q191.713 1176.88 191.713 1169.77 Q191.713 1162.64 189.885 1159.1 Q188.079 1155.54 184.445 1155.54 M184.445 1151.83 Q190.255 1151.83 193.311 1156.44 Q196.389 1161.02 196.389 1169.77 Q196.389 1178.5 193.311 1183.1 Q190.255 1187.69 184.445 1187.69 Q178.635 1187.69 175.556 1183.1 Q172.501 1178.5 172.501 1169.77 Q172.501 1161.02 175.556 1156.44 Q178.635 1151.83 184.445 1151.83 Z\" fill=\"#000000\" fill-rule=\"evenodd\" fill-opacity=\"1\" /><path clip-path=\"url(#clip220)\" d=\"M157.13 896.589 L145.325 915.038 L157.13 915.038 L157.13 896.589 M155.903 892.515 L161.783 892.515 L161.783 915.038 L166.714 915.038 L166.714 918.927 L161.783 918.927 L161.783 927.075 L157.13 927.075 L157.13 918.927 L141.529 918.927 L141.529 914.413 L155.903 892.515 Z\" fill=\"#000000\" fill-rule=\"evenodd\" fill-opacity=\"1\" /><path clip-path=\"url(#clip220)\" d=\"M184.445 895.594 Q180.834 895.594 179.005 899.159 Q177.2 902.7 177.2 909.83 Q177.2 916.936 179.005 920.501 Q180.834 924.043 184.445 924.043 Q188.079 924.043 189.885 920.501 Q191.713 916.936 191.713 909.83 Q191.713 902.7 189.885 899.159 Q188.079 895.594 184.445 895.594 M184.445 891.89 Q190.255 891.89 193.311 896.497 Q196.389 901.08 196.389 909.83 Q196.389 918.557 193.311 923.163 Q190.255 927.747 184.445 927.747 Q178.635 927.747 175.556 923.163 Q172.501 918.557 172.501 909.83 Q172.501 901.08 175.556 896.497 Q178.635 891.89 184.445 891.89 Z\" fill=\"#000000\" fill-rule=\"evenodd\" fill-opacity=\"1\" /><path clip-path=\"url(#clip220)\" d=\"M154.862 647.99 Q151.714 647.99 149.862 650.143 Q148.033 652.296 148.033 656.046 Q148.033 659.773 149.862 661.949 Q151.714 664.101 154.862 664.101 Q158.01 664.101 159.839 661.949 Q161.69 659.773 161.69 656.046 Q161.69 652.296 159.839 650.143 Q158.01 647.99 154.862 647.99 M164.144 633.338 L164.144 637.597 Q162.385 636.764 160.579 636.324 Q158.797 635.884 157.038 635.884 Q152.408 635.884 149.954 639.009 Q147.524 642.134 147.177 648.453 Q148.542 646.439 150.603 645.375 Q152.663 644.287 155.14 644.287 Q160.348 644.287 163.357 647.458 Q166.39 650.606 166.39 656.046 Q166.39 661.37 163.241 664.587 Q160.093 667.805 154.862 667.805 Q148.866 667.805 145.695 663.222 Q142.524 658.615 142.524 649.888 Q142.524 641.694 146.413 636.833 Q150.302 631.949 156.853 631.949 Q158.612 631.949 160.394 632.296 Q162.2 632.643 164.144 633.338 Z\" fill=\"#000000\" fill-rule=\"evenodd\" fill-opacity=\"1\" /><path clip-path=\"url(#clip220)\" d=\"M184.445 635.652 Q180.834 635.652 179.005 639.217 Q177.2 642.759 177.2 649.888 Q177.2 656.995 179.005 660.56 Q180.834 664.101 184.445 664.101 Q188.079 664.101 189.885 660.56 Q191.713 656.995 191.713 649.888 Q191.713 642.759 189.885 639.217 Q188.079 635.652 184.445 635.652 M184.445 631.949 Q190.255 631.949 193.311 636.555 Q196.389 641.139 196.389 649.888 Q196.389 658.615 193.311 663.222 Q190.255 667.805 184.445 667.805 Q178.635 667.805 175.556 663.222 Q172.501 658.615 172.501 649.888 Q172.501 641.139 175.556 636.555 Q178.635 631.949 184.445 631.949 Z\" fill=\"#000000\" fill-rule=\"evenodd\" fill-opacity=\"1\" /><path clip-path=\"url(#clip220)\" d=\"M154.283 390.78 Q150.95 390.78 149.028 392.563 Q147.13 394.345 147.13 397.47 Q147.13 400.595 149.028 402.377 Q150.95 404.16 154.283 404.16 Q157.616 404.16 159.538 402.377 Q161.459 400.572 161.459 397.47 Q161.459 394.345 159.538 392.563 Q157.64 390.78 154.283 390.78 M149.607 388.79 Q146.598 388.049 144.908 385.989 Q143.241 383.928 143.241 380.965 Q143.241 376.822 146.181 374.415 Q149.144 372.007 154.283 372.007 Q159.445 372.007 162.385 374.415 Q165.325 376.822 165.325 380.965 Q165.325 383.928 163.635 385.989 Q161.968 388.049 158.982 388.79 Q162.362 389.577 164.237 391.868 Q166.135 394.16 166.135 397.47 Q166.135 402.493 163.056 405.178 Q160.001 407.864 154.283 407.864 Q148.566 407.864 145.487 405.178 Q142.431 402.493 142.431 397.47 Q142.431 394.16 144.329 391.868 Q146.228 389.577 149.607 388.79 M147.894 381.405 Q147.894 384.09 149.561 385.595 Q151.251 387.1 154.283 387.1 Q157.292 387.1 158.982 385.595 Q160.695 384.09 160.695 381.405 Q160.695 378.72 158.982 377.216 Q157.292 375.711 154.283 375.711 Q151.251 375.711 149.561 377.216 Q147.894 378.72 147.894 381.405 Z\" fill=\"#000000\" fill-rule=\"evenodd\" fill-opacity=\"1\" /><path clip-path=\"url(#clip220)\" d=\"M184.445 375.711 Q180.834 375.711 179.005 379.276 Q177.2 382.817 177.2 389.947 Q177.2 397.053 179.005 400.618 Q180.834 404.16 184.445 404.16 Q188.079 404.16 189.885 400.618 Q191.713 397.053 191.713 389.947 Q191.713 382.817 189.885 379.276 Q188.079 375.711 184.445 375.711 M184.445 372.007 Q190.255 372.007 193.311 376.614 Q196.389 381.197 196.389 389.947 Q196.389 398.674 193.311 403.28 Q190.255 407.864 184.445 407.864 Q178.635 407.864 175.556 403.28 Q172.501 398.674 172.501 389.947 Q172.501 381.197 175.556 376.614 Q178.635 372.007 184.445 372.007 Z\" fill=\"#000000\" fill-rule=\"evenodd\" fill-opacity=\"1\" /><path clip-path=\"url(#clip220)\" d=\"M114.931 143.316 L122.57 143.316 L122.57 116.95 L114.26 118.617 L114.26 114.357 L122.524 112.691 L127.2 112.691 L127.2 143.316 L134.839 143.316 L134.839 147.251 L114.931 147.251 L114.931 143.316 Z\" fill=\"#000000\" fill-rule=\"evenodd\" fill-opacity=\"1\" /><path clip-path=\"url(#clip220)\" d=\"M154.283 115.769 Q150.672 115.769 148.843 119.334 Q147.038 122.876 147.038 130.005 Q147.038 137.112 148.843 140.677 Q150.672 144.218 154.283 144.218 Q157.917 144.218 159.723 140.677 Q161.552 137.112 161.552 130.005 Q161.552 122.876 159.723 119.334 Q157.917 115.769 154.283 115.769 M154.283 112.066 Q160.093 112.066 163.149 116.672 Q166.227 121.255 166.227 130.005 Q166.227 138.732 163.149 143.339 Q160.093 147.922 154.283 147.922 Q148.473 147.922 145.394 143.339 Q142.339 138.732 142.339 130.005 Q142.339 121.255 145.394 116.672 Q148.473 112.066 154.283 112.066 Z\" fill=\"#000000\" fill-rule=\"evenodd\" fill-opacity=\"1\" /><path clip-path=\"url(#clip220)\" d=\"M184.445 115.769 Q180.834 115.769 179.005 119.334 Q177.2 122.876 177.2 130.005 Q177.2 137.112 179.005 140.677 Q180.834 144.218 184.445 144.218 Q188.079 144.218 189.885 140.677 Q191.713 137.112 191.713 130.005 Q191.713 122.876 189.885 119.334 Q188.079 115.769 184.445 115.769 M184.445 112.066 Q190.255 112.066 193.311 116.672 Q196.389 121.255 196.389 130.005 Q196.389 138.732 193.311 143.339 Q190.255 147.922 184.445 147.922 Q178.635 147.922 175.556 143.339 Q172.501 138.732 172.501 130.005 Q172.501 121.255 175.556 116.672 Q178.635 112.066 184.445 112.066 Z\" fill=\"#000000\" fill-rule=\"evenodd\" fill-opacity=\"1\" /><path clip-path=\"url(#clip220)\" d=\"M67.3143 771.639 Q73.68 774.122 75.6216 776.477 Q77.5631 778.832 77.5631 782.779 L77.5631 787.458 L72.6615 787.458 L72.6615 784.02 Q72.6615 781.601 71.5157 780.265 Q70.3699 778.928 66.1048 777.305 L63.4312 776.254 L28.3562 790.673 L28.3562 784.466 L56.238 773.326 L28.3562 762.186 L28.3562 755.979 L67.3143 771.639 Z\" fill=\"#000000\" fill-rule=\"evenodd\" fill-opacity=\"1\" /><path clip-path=\"url(#clip220)\" d=\"M1057.1 34.0924 L1057.1 9.54393 L1064.56 9.54393 L1064.56 72.576 L1057.1 72.576 L1057.1 65.7705 Q1054.75 69.8214 1051.15 71.8063 Q1047.58 73.7508 1042.56 73.7508 Q1034.34 73.7508 1029.15 67.1883 Q1024.01 60.6258 1024.01 49.9314 Q1024.01 39.2371 1029.15 32.6746 Q1034.34 26.1121 1042.56 26.1121 Q1047.58 26.1121 1051.15 28.0971 Q1054.75 30.0415 1057.1 34.0924 M1031.7 49.9314 Q1031.7 58.1548 1035.06 62.8538 Q1038.47 67.5124 1044.38 67.5124 Q1050.3 67.5124 1053.7 62.8538 Q1057.1 58.1548 1057.1 49.9314 Q1057.1 41.7081 1053.7 37.0496 Q1050.3 32.3505 1044.38 32.3505 Q1038.47 32.3505 1035.06 37.0496 Q1031.7 41.7081 1031.7 49.9314 Z\" fill=\"#000000\" fill-rule=\"evenodd\" fill-opacity=\"1\" /><path clip-path=\"url(#clip220)\" d=\"M1118.72 48.0275 L1118.72 51.6733 L1084.45 51.6733 Q1084.93 59.3701 1089.06 63.421 Q1093.24 67.4314 1100.65 67.4314 Q1104.94 67.4314 1108.95 66.3781 Q1113 65.3249 1116.97 63.2184 L1116.97 70.267 Q1112.96 71.9684 1108.75 72.8596 Q1104.54 73.7508 1100.2 73.7508 Q1089.35 73.7508 1082.99 67.4314 Q1076.67 61.1119 1076.67 50.3365 Q1076.67 39.1965 1082.66 32.6746 Q1088.7 26.1121 1098.91 26.1121 Q1108.06 26.1121 1113.37 32.0264 Q1118.72 37.9003 1118.72 48.0275 M1111.26 45.84 Q1111.18 39.7232 1107.82 36.0774 Q1104.5 32.4315 1098.99 32.4315 Q1092.75 32.4315 1088.98 35.9558 Q1085.26 39.4801 1084.69 45.8805 L1111.26 45.84 Z\" fill=\"#000000\" fill-rule=\"evenodd\" fill-opacity=\"1\" /><path clip-path=\"url(#clip220)\" d=\"M1168.66 45.1919 L1168.66 72.576 L1161.21 72.576 L1161.21 45.4349 Q1161.21 38.994 1158.7 35.7938 Q1156.19 32.5936 1151.16 32.5936 Q1145.13 32.5936 1141.64 36.4419 Q1138.16 40.2903 1138.16 46.9338 L1138.16 72.576 L1130.67 72.576 L1130.67 27.2059 L1138.16 27.2059 L1138.16 34.2544 Q1140.83 30.163 1144.44 28.1376 Q1148.08 26.1121 1152.82 26.1121 Q1160.64 26.1121 1164.65 30.9732 Q1168.66 35.7938 1168.66 45.1919 Z\" fill=\"#000000\" fill-rule=\"evenodd\" fill-opacity=\"1\" /><path clip-path=\"url(#clip220)\" d=\"M1212.45 28.5427 L1212.45 35.5912 Q1209.29 33.9709 1205.89 33.1607 Q1202.49 32.3505 1198.84 32.3505 Q1193.29 32.3505 1190.5 34.0519 Q1187.74 35.7533 1187.74 39.156 Q1187.74 41.7486 1189.73 43.2475 Q1191.71 44.7058 1197.71 46.0426 L1200.26 46.6097 Q1208.2 48.3111 1211.52 51.4303 Q1214.88 54.509 1214.88 60.0587 Q1214.88 66.3781 1209.86 70.0644 Q1204.88 73.7508 1196.13 73.7508 Q1192.48 73.7508 1188.51 73.0216 Q1184.58 72.3329 1180.21 70.9151 L1180.21 63.2184 Q1184.34 65.3654 1188.35 66.4591 Q1192.36 67.5124 1196.29 67.5124 Q1201.56 67.5124 1204.39 65.73 Q1207.23 63.9071 1207.23 60.6258 Q1207.23 57.5877 1205.16 55.9673 Q1203.14 54.3469 1196.21 52.8481 L1193.62 52.2405 Q1186.69 50.7821 1183.61 47.7845 Q1180.53 44.7463 1180.53 39.4801 Q1180.53 33.0797 1185.07 29.5959 Q1189.61 26.1121 1197.95 26.1121 Q1202.08 26.1121 1205.73 26.7198 Q1209.38 27.3274 1212.45 28.5427 Z\" fill=\"#000000\" fill-rule=\"evenodd\" fill-opacity=\"1\" /><path clip-path=\"url(#clip220)\" d=\"M1226.75 27.2059 L1234.21 27.2059 L1234.21 72.576 L1226.75 72.576 L1226.75 27.2059 M1226.75 9.54393 L1234.21 9.54393 L1234.21 18.9825 L1226.75 18.9825 L1226.75 9.54393 Z\" fill=\"#000000\" fill-rule=\"evenodd\" fill-opacity=\"1\" /><path clip-path=\"url(#clip220)\" d=\"M1257.18 14.324 L1257.18 27.2059 L1272.53 27.2059 L1272.53 32.9987 L1257.18 32.9987 L1257.18 57.6282 Q1257.18 63.1779 1258.67 64.7578 Q1260.21 66.3376 1264.87 66.3376 L1272.53 66.3376 L1272.53 72.576 L1264.87 72.576 Q1256.24 72.576 1252.96 69.3758 Q1249.68 66.1351 1249.68 57.6282 L1249.68 32.9987 L1244.21 32.9987 L1244.21 27.2059 L1249.68 27.2059 L1249.68 14.324 L1257.18 14.324 Z\" fill=\"#000000\" fill-rule=\"evenodd\" fill-opacity=\"1\" /><path clip-path=\"url(#clip220)\" d=\"M1301.21 76.7889 Q1298.05 84.8907 1295.05 87.3618 Q1292.05 89.8329 1287.03 89.8329 L1281.08 89.8329 L1281.08 83.5945 L1285.45 83.5945 Q1288.53 83.5945 1290.23 82.1361 Q1291.93 80.6778 1294 75.2496 L1295.34 71.8468 L1276.98 27.2059 L1284.88 27.2059 L1299.06 62.6918 L1313.24 27.2059 L1321.14 27.2059 L1301.21 76.7889 Z\" fill=\"#000000\" fill-rule=\"evenodd\" fill-opacity=\"1\" /><g clip-path=\"url(#clip222)\">\n<image width=\"1880\" height=\"1300\" xlink:href=\"data:image/png;base64,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\ngEhgBQAAAAAAAIj+BaUJAXxg075AAAAAAElFTkSuQmCC\n\" transform=\"translate(232, 123)\"/>\n</g>\n<defs>\n  <clipPath id=\"clip223\">\n    <rect x=\"2160\" y=\"123\" width=\"73\" height=\"1301\"/>\n  </clipPath>\n</defs>\n<g clip-path=\"url(#clip223)\">\n<image width=\"72\" height=\"1300\" xlink:href=\"data:image/png;base64,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\nTkSuQmCC\n\" transform=\"translate(2161, 123)\"/>\n</g>\n<path clip-path=\"url(#clip220)\" d=\"M2280.7 1405.35 Q2277.09 1405.35 2275.26 1408.91 Q2273.45 1412.46 2273.45 1419.59 Q2273.45 1426.69 2275.26 1430.26 Q2277.09 1433.8 2280.7 1433.8 Q2284.33 1433.8 2286.14 1430.26 Q2287.97 1426.69 2287.97 1419.59 Q2287.97 1412.46 2286.14 1408.91 Q2284.33 1405.35 2280.7 1405.35 M2280.7 1401.65 Q2286.51 1401.65 2289.57 1406.25 Q2292.64 1410.84 2292.64 1419.59 Q2292.64 1428.31 2289.57 1432.92 Q2286.51 1437.5 2280.7 1437.5 Q2274.89 1437.5 2271.81 1432.92 Q2268.76 1428.31 2268.76 1419.59 Q2268.76 1410.84 2271.81 1406.25 Q2274.89 1401.65 2280.7 1401.65 Z\" fill=\"#000000\" fill-rule=\"evenodd\" fill-opacity=\"1\" /><path clip-path=\"url(#clip220)\" d=\"M2280.7 1158.72 Q2277.09 1158.72 2275.26 1162.28 Q2273.45 1165.82 2273.45 1172.95 Q2273.45 1180.06 2275.26 1183.62 Q2277.09 1187.17 2280.7 1187.17 Q2284.33 1187.17 2286.14 1183.62 Q2287.97 1180.06 2287.97 1172.95 Q2287.97 1165.82 2286.14 1162.28 Q2284.33 1158.72 2280.7 1158.72 M2280.7 1155.01 Q2286.51 1155.01 2289.57 1159.62 Q2292.64 1164.2 2292.64 1172.95 Q2292.64 1181.68 2289.57 1186.29 Q2286.51 1190.87 2280.7 1190.87 Q2274.89 1190.87 2271.81 1186.29 Q2268.76 1181.68 2268.76 1172.95 Q2268.76 1164.2 2271.81 1159.62 Q2274.89 1155.01 2280.7 1155.01 Z\" fill=\"#000000\" fill-rule=\"evenodd\" fill-opacity=\"1\" /><path clip-path=\"url(#clip220)\" d=\"M2300.86 1184.32 L2305.75 1184.32 L2305.75 1190.2 L2300.86 1190.2 L2300.86 1184.32 Z\" fill=\"#000000\" fill-rule=\"evenodd\" fill-opacity=\"1\" /><path clip-path=\"url(#clip220)\" d=\"M2325.93 1158.72 Q2322.32 1158.72 2320.49 1162.28 Q2318.69 1165.82 2318.69 1172.95 Q2318.69 1180.06 2320.49 1183.62 Q2322.32 1187.17 2325.93 1187.17 Q2329.57 1187.17 2331.37 1183.62 Q2333.2 1180.06 2333.2 1172.95 Q2333.2 1165.82 2331.37 1162.28 Q2329.57 1158.72 2325.93 1158.72 M2325.93 1155.01 Q2331.74 1155.01 2334.8 1159.62 Q2337.88 1164.2 2337.88 1172.95 Q2337.88 1181.68 2334.8 1186.29 Q2331.74 1190.87 2325.93 1190.87 Q2320.12 1190.87 2317.04 1186.29 Q2313.99 1181.68 2313.99 1172.95 Q2313.99 1164.2 2317.04 1159.62 Q2320.12 1155.01 2325.93 1155.01 Z\" fill=\"#000000\" fill-rule=\"evenodd\" fill-opacity=\"1\" /><path clip-path=\"url(#clip220)\" d=\"M2356.09 1158.72 Q2352.48 1158.72 2350.65 1162.28 Q2348.85 1165.82 2348.85 1172.95 Q2348.85 1180.06 2350.65 1183.62 Q2352.48 1187.17 2356.09 1187.17 Q2359.73 1187.17 2361.53 1183.62 Q2363.36 1180.06 2363.36 1172.95 Q2363.36 1165.82 2361.53 1162.28 Q2359.73 1158.72 2356.09 1158.72 M2356.09 1155.01 Q2361.9 1155.01 2364.96 1159.62 Q2368.04 1164.2 2368.04 1172.95 Q2368.04 1181.68 2364.96 1186.29 Q2361.9 1190.87 2356.09 1190.87 Q2350.28 1190.87 2347.2 1186.29 Q2344.15 1181.68 2344.15 1172.95 Q2344.15 1164.2 2347.2 1159.62 Q2350.28 1155.01 2356.09 1155.01 Z\" fill=\"#000000\" fill-rule=\"evenodd\" fill-opacity=\"1\" /><path clip-path=\"url(#clip220)\" d=\"M2377.07 1186.26 L2384.7 1186.26 L2384.7 1159.9 L2376.39 1161.56 L2376.39 1157.31 L2384.66 1155.64 L2389.33 1155.64 L2389.33 1186.26 L2396.97 1186.26 L2396.97 1190.2 L2377.07 1190.2 L2377.07 1186.26 Z\" fill=\"#000000\" fill-rule=\"evenodd\" fill-opacity=\"1\" /><path clip-path=\"url(#clip220)\" d=\"M2280.7 912.085 Q2277.09 912.085 2275.26 915.65 Q2273.45 919.192 2273.45 926.321 Q2273.45 933.428 2275.26 936.993 Q2277.09 940.534 2280.7 940.534 Q2284.33 940.534 2286.14 936.993 Q2287.97 933.428 2287.97 926.321 Q2287.97 919.192 2286.14 915.65 Q2284.33 912.085 2280.7 912.085 M2280.7 908.382 Q2286.51 908.382 2289.57 912.988 Q2292.64 917.572 2292.64 926.321 Q2292.64 935.048 2289.57 939.655 Q2286.51 944.238 2280.7 944.238 Q2274.89 944.238 2271.81 939.655 Q2268.76 935.048 2268.76 926.321 Q2268.76 917.572 2271.81 912.988 Q2274.89 908.382 2280.7 908.382 Z\" fill=\"#000000\" fill-rule=\"evenodd\" fill-opacity=\"1\" /><path clip-path=\"url(#clip220)\" d=\"M2300.86 937.687 L2305.75 937.687 L2305.75 943.567 L2300.86 943.567 L2300.86 937.687 Z\" fill=\"#000000\" fill-rule=\"evenodd\" fill-opacity=\"1\" /><path clip-path=\"url(#clip220)\" d=\"M2325.93 912.085 Q2322.32 912.085 2320.49 915.65 Q2318.69 919.192 2318.69 926.321 Q2318.69 933.428 2320.49 936.993 Q2322.32 940.534 2325.93 940.534 Q2329.57 940.534 2331.37 936.993 Q2333.2 933.428 2333.2 926.321 Q2333.2 919.192 2331.37 915.65 Q2329.57 912.085 2325.93 912.085 M2325.93 908.382 Q2331.74 908.382 2334.8 912.988 Q2337.88 917.572 2337.88 926.321 Q2337.88 935.048 2334.8 939.655 Q2331.74 944.238 2325.93 944.238 Q2320.12 944.238 2317.04 939.655 Q2313.99 935.048 2313.99 926.321 Q2313.99 917.572 2317.04 912.988 Q2320.12 908.382 2325.93 908.382 Z\" fill=\"#000000\" fill-rule=\"evenodd\" fill-opacity=\"1\" /><path clip-path=\"url(#clip220)\" d=\"M2356.09 912.085 Q2352.48 912.085 2350.65 915.65 Q2348.85 919.192 2348.85 926.321 Q2348.85 933.428 2350.65 936.993 Q2352.48 940.534 2356.09 940.534 Q2359.73 940.534 2361.53 936.993 Q2363.36 933.428 2363.36 926.321 Q2363.36 919.192 2361.53 915.65 Q2359.73 912.085 2356.09 912.085 M2356.09 908.382 Q2361.9 908.382 2364.96 912.988 Q2368.04 917.572 2368.04 926.321 Q2368.04 935.048 2364.96 939.655 Q2361.9 944.238 2356.09 944.238 Q2350.28 944.238 2347.2 939.655 Q2344.15 935.048 2344.15 926.321 Q2344.15 917.572 2347.2 912.988 Q2350.28 908.382 2356.09 908.382 Z\" fill=\"#000000\" fill-rule=\"evenodd\" fill-opacity=\"1\" /><path clip-path=\"url(#clip220)\" d=\"M2380.28 939.632 L2396.6 939.632 L2396.6 943.567 L2374.66 943.567 L2374.66 939.632 Q2377.32 936.877 2381.9 932.247 Q2386.51 927.595 2387.69 926.252 Q2389.94 923.729 2390.82 921.993 Q2391.72 920.234 2391.72 918.544 Q2391.72 915.789 2389.77 914.053 Q2387.85 912.317 2384.75 912.317 Q2382.55 912.317 2380.1 913.081 Q2377.67 913.845 2374.89 915.396 L2374.89 910.673 Q2377.71 909.539 2380.17 908.96 Q2382.62 908.382 2384.66 908.382 Q2390.03 908.382 2393.22 911.067 Q2396.42 913.752 2396.42 918.243 Q2396.42 920.372 2395.61 922.294 Q2394.82 924.192 2392.71 926.784 Q2392.13 927.456 2389.03 930.673 Q2385.93 933.868 2380.28 939.632 Z\" fill=\"#000000\" fill-rule=\"evenodd\" fill-opacity=\"1\" /><path clip-path=\"url(#clip220)\" d=\"M2280.7 665.453 Q2277.09 665.453 2275.26 669.018 Q2273.45 672.56 2273.45 679.689 Q2273.45 686.796 2275.26 690.361 Q2277.09 693.902 2280.7 693.902 Q2284.33 693.902 2286.14 690.361 Q2287.97 686.796 2287.97 679.689 Q2287.97 672.56 2286.14 669.018 Q2284.33 665.453 2280.7 665.453 M2280.7 661.75 Q2286.51 661.75 2289.57 666.356 Q2292.64 670.939 2292.64 679.689 Q2292.64 688.416 2289.57 693.023 Q2286.51 697.606 2280.7 697.606 Q2274.89 697.606 2271.81 693.023 Q2268.76 688.416 2268.76 679.689 Q2268.76 670.939 2271.81 666.356 Q2274.89 661.75 2280.7 661.75 Z\" fill=\"#000000\" fill-rule=\"evenodd\" fill-opacity=\"1\" /><path clip-path=\"url(#clip220)\" d=\"M2300.86 691.055 L2305.75 691.055 L2305.75 696.935 L2300.86 696.935 L2300.86 691.055 Z\" fill=\"#000000\" fill-rule=\"evenodd\" fill-opacity=\"1\" /><path clip-path=\"url(#clip220)\" d=\"M2325.93 665.453 Q2322.32 665.453 2320.49 669.018 Q2318.69 672.56 2318.69 679.689 Q2318.69 686.796 2320.49 690.361 Q2322.32 693.902 2325.93 693.902 Q2329.57 693.902 2331.37 690.361 Q2333.2 686.796 2333.2 679.689 Q2333.2 672.56 2331.37 669.018 Q2329.57 665.453 2325.93 665.453 M2325.93 661.75 Q2331.74 661.75 2334.8 666.356 Q2337.88 670.939 2337.88 679.689 Q2337.88 688.416 2334.8 693.023 Q2331.74 697.606 2325.93 697.606 Q2320.12 697.606 2317.04 693.023 Q2313.99 688.416 2313.99 679.689 Q2313.99 670.939 2317.04 666.356 Q2320.12 661.75 2325.93 661.75 Z\" fill=\"#000000\" fill-rule=\"evenodd\" fill-opacity=\"1\" /><path clip-path=\"url(#clip220)\" d=\"M2356.09 665.453 Q2352.48 665.453 2350.65 669.018 Q2348.85 672.56 2348.85 679.689 Q2348.85 686.796 2350.65 690.361 Q2352.48 693.902 2356.09 693.902 Q2359.73 693.902 2361.53 690.361 Q2363.36 686.796 2363.36 679.689 Q2363.36 672.56 2361.53 669.018 Q2359.73 665.453 2356.09 665.453 M2356.09 661.75 Q2361.9 661.75 2364.96 666.356 Q2368.04 670.939 2368.04 679.689 Q2368.04 688.416 2364.96 693.023 Q2361.9 697.606 2356.09 697.606 Q2350.28 697.606 2347.2 693.023 Q2344.15 688.416 2344.15 679.689 Q2344.15 670.939 2347.2 666.356 Q2350.28 661.75 2356.09 661.75 Z\" fill=\"#000000\" fill-rule=\"evenodd\" fill-opacity=\"1\" /><path clip-path=\"url(#clip220)\" d=\"M2390.42 678.3 Q2393.78 679.018 2395.65 681.287 Q2397.55 683.555 2397.55 686.888 Q2397.55 692.004 2394.03 694.805 Q2390.51 697.606 2384.03 697.606 Q2381.86 697.606 2379.54 697.166 Q2377.25 696.749 2374.8 695.893 L2374.8 691.379 Q2376.74 692.513 2379.06 693.092 Q2381.37 693.671 2383.89 693.671 Q2388.29 693.671 2390.58 691.935 Q2392.9 690.199 2392.9 686.888 Q2392.9 683.833 2390.75 682.12 Q2388.62 680.384 2384.8 680.384 L2380.77 680.384 L2380.77 676.541 L2384.98 676.541 Q2388.43 676.541 2390.26 675.175 Q2392.09 673.787 2392.09 671.194 Q2392.09 668.532 2390.19 667.12 Q2388.32 665.685 2384.8 665.685 Q2382.88 665.685 2380.68 666.101 Q2378.48 666.518 2375.84 667.398 L2375.84 663.231 Q2378.5 662.49 2380.82 662.12 Q2383.15 661.75 2385.21 661.75 Q2390.54 661.75 2393.64 664.18 Q2396.74 666.588 2396.74 670.708 Q2396.74 673.578 2395.1 675.569 Q2393.45 677.537 2390.42 678.3 Z\" fill=\"#000000\" fill-rule=\"evenodd\" fill-opacity=\"1\" /><path clip-path=\"url(#clip220)\" d=\"M2280.7 418.821 Q2277.09 418.821 2275.26 422.386 Q2273.45 425.928 2273.45 433.057 Q2273.45 440.164 2275.26 443.728 Q2277.09 447.27 2280.7 447.27 Q2284.33 447.27 2286.14 443.728 Q2287.97 440.164 2287.97 433.057 Q2287.97 425.928 2286.14 422.386 Q2284.33 418.821 2280.7 418.821 M2280.7 415.117 Q2286.51 415.117 2289.57 419.724 Q2292.64 424.307 2292.64 433.057 Q2292.64 441.784 2289.57 446.39 Q2286.51 450.974 2280.7 450.974 Q2274.89 450.974 2271.81 446.39 Q2268.76 441.784 2268.76 433.057 Q2268.76 424.307 2271.81 419.724 Q2274.89 415.117 2280.7 415.117 Z\" fill=\"#000000\" fill-rule=\"evenodd\" fill-opacity=\"1\" /><path clip-path=\"url(#clip220)\" d=\"M2300.86 444.423 L2305.75 444.423 L2305.75 450.302 L2300.86 450.302 L2300.86 444.423 Z\" fill=\"#000000\" fill-rule=\"evenodd\" fill-opacity=\"1\" /><path clip-path=\"url(#clip220)\" d=\"M2325.93 418.821 Q2322.32 418.821 2320.49 422.386 Q2318.69 425.928 2318.69 433.057 Q2318.69 440.164 2320.49 443.728 Q2322.32 447.27 2325.93 447.27 Q2329.57 447.27 2331.37 443.728 Q2333.2 440.164 2333.2 433.057 Q2333.2 425.928 2331.37 422.386 Q2329.57 418.821 2325.93 418.821 M2325.93 415.117 Q2331.74 415.117 2334.8 419.724 Q2337.88 424.307 2337.88 433.057 Q2337.88 441.784 2334.8 446.39 Q2331.74 450.974 2325.93 450.974 Q2320.12 450.974 2317.04 446.39 Q2313.99 441.784 2313.99 433.057 Q2313.99 424.307 2317.04 419.724 Q2320.12 415.117 2325.93 415.117 Z\" fill=\"#000000\" fill-rule=\"evenodd\" fill-opacity=\"1\" /><path clip-path=\"url(#clip220)\" d=\"M2356.09 418.821 Q2352.48 418.821 2350.65 422.386 Q2348.85 425.928 2348.85 433.057 Q2348.85 440.164 2350.65 443.728 Q2352.48 447.27 2356.09 447.27 Q2359.73 447.27 2361.53 443.728 Q2363.36 440.164 2363.36 433.057 Q2363.36 425.928 2361.53 422.386 Q2359.73 418.821 2356.09 418.821 M2356.09 415.117 Q2361.9 415.117 2364.96 419.724 Q2368.04 424.307 2368.04 433.057 Q2368.04 441.784 2364.96 446.39 Q2361.9 450.974 2356.09 450.974 Q2350.28 450.974 2347.2 446.39 Q2344.15 441.784 2344.15 433.057 Q2344.15 424.307 2347.2 419.724 Q2350.28 415.117 2356.09 415.117 Z\" fill=\"#000000\" fill-rule=\"evenodd\" fill-opacity=\"1\" /><path clip-path=\"url(#clip220)\" d=\"M2389.1 419.817 L2377.3 438.266 L2389.1 438.266 L2389.1 419.817 M2387.88 415.742 L2393.76 415.742 L2393.76 438.266 L2398.69 438.266 L2398.69 442.154 L2393.76 442.154 L2393.76 450.302 L2389.1 450.302 L2389.1 442.154 L2373.5 442.154 L2373.5 437.641 L2387.88 415.742 Z\" fill=\"#000000\" fill-rule=\"evenodd\" fill-opacity=\"1\" /><path clip-path=\"url(#clip220)\" d=\"M2280.7 172.189 Q2277.09 172.189 2275.26 175.754 Q2273.45 179.295 2273.45 186.425 Q2273.45 193.532 2275.26 197.096 Q2277.09 200.638 2280.7 200.638 Q2284.33 200.638 2286.14 197.096 Q2287.97 193.532 2287.97 186.425 Q2287.97 179.295 2286.14 175.754 Q2284.33 172.189 2280.7 172.189 M2280.7 168.485 Q2286.51 168.485 2289.57 173.092 Q2292.64 177.675 2292.64 186.425 Q2292.64 195.152 2289.57 199.758 Q2286.51 204.342 2280.7 204.342 Q2274.89 204.342 2271.81 199.758 Q2268.76 195.152 2268.76 186.425 Q2268.76 177.675 2271.81 173.092 Q2274.89 168.485 2280.7 168.485 Z\" fill=\"#000000\" fill-rule=\"evenodd\" fill-opacity=\"1\" /><path clip-path=\"url(#clip220)\" d=\"M2300.86 197.791 L2305.75 197.791 L2305.75 203.67 L2300.86 203.67 L2300.86 197.791 Z\" fill=\"#000000\" fill-rule=\"evenodd\" fill-opacity=\"1\" /><path clip-path=\"url(#clip220)\" d=\"M2325.93 172.189 Q2322.32 172.189 2320.49 175.754 Q2318.69 179.295 2318.69 186.425 Q2318.69 193.532 2320.49 197.096 Q2322.32 200.638 2325.93 200.638 Q2329.57 200.638 2331.37 197.096 Q2333.2 193.532 2333.2 186.425 Q2333.2 179.295 2331.37 175.754 Q2329.57 172.189 2325.93 172.189 M2325.93 168.485 Q2331.74 168.485 2334.8 173.092 Q2337.88 177.675 2337.88 186.425 Q2337.88 195.152 2334.8 199.758 Q2331.74 204.342 2325.93 204.342 Q2320.12 204.342 2317.04 199.758 Q2313.99 195.152 2313.99 186.425 Q2313.99 177.675 2317.04 173.092 Q2320.12 168.485 2325.93 168.485 Z\" fill=\"#000000\" fill-rule=\"evenodd\" fill-opacity=\"1\" /><path clip-path=\"url(#clip220)\" d=\"M2356.09 172.189 Q2352.48 172.189 2350.65 175.754 Q2348.85 179.295 2348.85 186.425 Q2348.85 193.532 2350.65 197.096 Q2352.48 200.638 2356.09 200.638 Q2359.73 200.638 2361.53 197.096 Q2363.36 193.532 2363.36 186.425 Q2363.36 179.295 2361.53 175.754 Q2359.73 172.189 2356.09 172.189 M2356.09 168.485 Q2361.9 168.485 2364.96 173.092 Q2368.04 177.675 2368.04 186.425 Q2368.04 195.152 2364.96 199.758 Q2361.9 204.342 2356.09 204.342 Q2350.28 204.342 2347.2 199.758 Q2344.15 195.152 2344.15 186.425 Q2344.15 177.675 2347.2 173.092 Q2350.28 168.485 2356.09 168.485 Z\" fill=\"#000000\" fill-rule=\"evenodd\" fill-opacity=\"1\" /><path clip-path=\"url(#clip220)\" d=\"M2376.3 169.11 L2394.66 169.11 L2394.66 173.046 L2380.58 173.046 L2380.58 181.518 Q2381.6 181.17 2382.62 181.008 Q2383.64 180.823 2384.66 180.823 Q2390.45 180.823 2393.82 183.995 Q2397.2 187.166 2397.2 192.582 Q2397.2 198.161 2393.73 201.263 Q2390.26 204.342 2383.94 204.342 Q2381.76 204.342 2379.5 203.971 Q2377.25 203.601 2374.84 202.86 L2374.84 198.161 Q2376.93 199.295 2379.15 199.851 Q2381.37 200.406 2383.85 200.406 Q2387.85 200.406 2390.19 198.3 Q2392.53 196.194 2392.53 192.582 Q2392.53 188.971 2390.19 186.865 Q2387.85 184.758 2383.85 184.758 Q2381.97 184.758 2380.1 185.175 Q2378.25 185.592 2376.3 186.471 L2376.3 169.11 Z\" fill=\"#000000\" fill-rule=\"evenodd\" fill-opacity=\"1\" /><polyline clip-path=\"url(#clip220)\" style=\"stroke:#000000; stroke-linecap:round; stroke-linejoin:round; stroke-width:4; stroke-opacity:1; fill:none\" points=\"\n  2232.76,1423.18 2232.76,1423.18 2256.76,1423.18 2232.76,1423.18 2232.76,1176.55 2256.76,1176.55 2232.76,1176.55 2232.76,929.916 2256.76,929.916 2232.76,929.916 \n  2232.76,683.283 2256.76,683.283 2232.76,683.283 2232.76,436.651 2256.76,436.651 2232.76,436.651 2232.76,190.019 2256.76,190.019 2232.76,190.019 2232.76,123.472 \n  \n  \"/>\n</svg>\n",
      "text/html": [
       "<?xml version=\"1.0\" encoding=\"utf-8\"?>\n",
       "<svg xmlns=\"http://www.w3.org/2000/svg\" xmlns:xlink=\"http://www.w3.org/1999/xlink\" width=\"600\" height=\"400\" viewBox=\"0 0 2400 1600\">\n",
       "<defs>\n",
       "  <clipPath id=\"clip270\">\n",
       "    <rect x=\"0\" y=\"0\" width=\"2400\" height=\"1600\"/>\n",
       "  </clipPath>\n",
       "</defs>\n",
       "<path clip-path=\"url(#clip270)\" d=\"\n",
       "M0 1600 L2400 1600 L2400 0 L0 0  Z\n",
       "  \" fill=\"#ffffff\" fill-rule=\"evenodd\" fill-opacity=\"1\"/>\n",
       "<defs>\n",
       "  <clipPath id=\"clip271\">\n",
       "    <rect x=\"480\" y=\"0\" width=\"1681\" height=\"1600\"/>\n",
       "  </clipPath>\n",
       "</defs>\n",
       "<path clip-path=\"url(#clip270)\" d=\"\n",
       "M232.389 1423.18 L2112.76 1423.18 L2112.76 123.472 L232.389 123.472  Z\n",
       "  \" fill=\"#ffffff\" fill-rule=\"evenodd\" fill-opacity=\"1\"/>\n",
       "<defs>\n",
       "  <clipPath id=\"clip272\">\n",
       "    <rect x=\"232\" y=\"123\" width=\"1881\" height=\"1301\"/>\n",
       "  </clipPath>\n",
       "</defs>\n",
       "<polyline clip-path=\"url(#clip272)\" style=\"stroke:#000000; stroke-linecap:round; stroke-linejoin:round; stroke-width:2; stroke-opacity:0.1; fill:none\" points=\"\n",
       "  697.78,1423.18 697.78,123.472 \n",
       "  \"/>\n",
       "<polyline clip-path=\"url(#clip272)\" style=\"stroke:#000000; stroke-linecap:round; stroke-linejoin:round; stroke-width:2; stroke-opacity:0.1; fill:none\" points=\"\n",
       "  1167.87,1423.18 1167.87,123.472 \n",
       "  \"/>\n",
       "<polyline clip-path=\"url(#clip272)\" style=\"stroke:#000000; stroke-linecap:round; stroke-linejoin:round; stroke-width:2; stroke-opacity:0.1; fill:none\" points=\"\n",
       "  1637.96,1423.18 1637.96,123.472 \n",
       "  \"/>\n",
       "<polyline clip-path=\"url(#clip272)\" style=\"stroke:#000000; stroke-linecap:round; stroke-linejoin:round; stroke-width:2; stroke-opacity:0.1; fill:none\" points=\"\n",
       "  2108.05,1423.18 2108.05,123.472 \n",
       "  \"/>\n",
       "<polyline clip-path=\"url(#clip270)\" style=\"stroke:#000000; stroke-linecap:round; stroke-linejoin:round; stroke-width:4; stroke-opacity:1; fill:none\" points=\"\n",
       "  232.389,1423.18 2112.76,1423.18 \n",
       "  \"/>\n",
       "<polyline clip-path=\"url(#clip270)\" style=\"stroke:#000000; stroke-linecap:round; stroke-linejoin:round; stroke-width:4; stroke-opacity:1; fill:none\" points=\"\n",
       "  697.78,1423.18 697.78,1404.28 \n",
       "  \"/>\n",
       "<polyline clip-path=\"url(#clip270)\" style=\"stroke:#000000; stroke-linecap:round; stroke-linejoin:round; stroke-width:4; stroke-opacity:1; fill:none\" points=\"\n",
       "  1167.87,1423.18 1167.87,1404.28 \n",
       "  \"/>\n",
       "<polyline clip-path=\"url(#clip270)\" style=\"stroke:#000000; stroke-linecap:round; stroke-linejoin:round; stroke-width:4; stroke-opacity:1; fill:none\" points=\"\n",
       "  1637.96,1423.18 1637.96,1404.28 \n",
       "  \"/>\n",
       "<polyline clip-path=\"url(#clip270)\" style=\"stroke:#000000; stroke-linecap:round; stroke-linejoin:round; stroke-width:4; stroke-opacity:1; fill:none\" points=\"\n",
       "  2108.05,1423.18 2108.05,1404.28 \n",
       "  \"/>\n",
       "<path clip-path=\"url(#clip270)\" d=\"M672.479 1451.02 L690.836 1451.02 L690.836 1454.96 L676.762 1454.96 L676.762 1463.43 Q677.78 1463.08 678.799 1462.92 Q679.817 1462.73 680.836 1462.73 Q686.623 1462.73 690.002 1465.9 Q693.382 1469.08 693.382 1474.49 Q693.382 1480.07 689.91 1483.17 Q686.438 1486.25 680.118 1486.25 Q677.942 1486.25 675.674 1485.88 Q673.428 1485.51 671.021 1484.77 L671.021 1480.07 Q673.104 1481.2 675.326 1481.76 Q677.549 1482.32 680.026 1482.32 Q684.03 1482.32 686.368 1480.21 Q688.706 1478.1 688.706 1474.49 Q688.706 1470.88 686.368 1468.77 Q684.03 1466.67 680.026 1466.67 Q678.151 1466.67 676.276 1467.08 Q674.424 1467.5 672.479 1468.38 L672.479 1451.02 Z\" fill=\"#000000\" fill-rule=\"evenodd\" fill-opacity=\"1\" /><path clip-path=\"url(#clip270)\" d=\"M712.595 1454.1 Q708.984 1454.1 707.155 1457.66 Q705.349 1461.2 705.349 1468.33 Q705.349 1475.44 707.155 1479.01 Q708.984 1482.55 712.595 1482.55 Q716.229 1482.55 718.035 1479.01 Q719.863 1475.44 719.863 1468.33 Q719.863 1461.2 718.035 1457.66 Q716.229 1454.1 712.595 1454.1 M712.595 1450.39 Q718.405 1450.39 721.46 1455 Q724.539 1459.58 724.539 1468.33 Q724.539 1477.06 721.46 1481.67 Q718.405 1486.25 712.595 1486.25 Q706.785 1486.25 703.706 1481.67 Q700.65 1477.06 700.65 1468.33 Q700.65 1459.58 703.706 1455 Q706.785 1450.39 712.595 1450.39 Z\" fill=\"#000000\" fill-rule=\"evenodd\" fill-opacity=\"1\" /><path clip-path=\"url(#clip270)\" d=\"M1127.48 1481.64 L1135.12 1481.64 L1135.12 1455.28 L1126.81 1456.95 L1126.81 1452.69 L1135.07 1451.02 L1139.75 1451.02 L1139.75 1481.64 L1147.39 1481.64 L1147.39 1485.58 L1127.48 1485.58 L1127.48 1481.64 Z\" fill=\"#000000\" fill-rule=\"evenodd\" fill-opacity=\"1\" /><path clip-path=\"url(#clip270)\" d=\"M1166.83 1454.1 Q1163.22 1454.1 1161.39 1457.66 Q1159.58 1461.2 1159.58 1468.33 Q1159.58 1475.44 1161.39 1479.01 Q1163.22 1482.55 1166.83 1482.55 Q1170.46 1482.55 1172.27 1479.01 Q1174.1 1475.44 1174.1 1468.33 Q1174.1 1461.2 1172.27 1457.66 Q1170.46 1454.1 1166.83 1454.1 M1166.83 1450.39 Q1172.64 1450.39 1175.7 1455 Q1178.77 1459.58 1178.77 1468.33 Q1178.77 1477.06 1175.7 1481.67 Q1172.64 1486.25 1166.83 1486.25 Q1161.02 1486.25 1157.94 1481.67 Q1154.89 1477.06 1154.89 1468.33 Q1154.89 1459.58 1157.94 1455 Q1161.02 1450.39 1166.83 1450.39 Z\" fill=\"#000000\" fill-rule=\"evenodd\" fill-opacity=\"1\" /><path clip-path=\"url(#clip270)\" d=\"M1196.99 1454.1 Q1193.38 1454.1 1191.55 1457.66 Q1189.75 1461.2 1189.75 1468.33 Q1189.75 1475.44 1191.55 1479.01 Q1193.38 1482.55 1196.99 1482.55 Q1200.63 1482.55 1202.43 1479.01 Q1204.26 1475.44 1204.26 1468.33 Q1204.26 1461.2 1202.43 1457.66 Q1200.63 1454.1 1196.99 1454.1 M1196.99 1450.39 Q1202.8 1450.39 1205.86 1455 Q1208.94 1459.58 1208.94 1468.33 Q1208.94 1477.06 1205.86 1481.67 Q1202.8 1486.25 1196.99 1486.25 Q1191.18 1486.25 1188.1 1481.67 Q1185.05 1477.06 1185.05 1468.33 Q1185.05 1459.58 1188.1 1455 Q1191.18 1450.39 1196.99 1450.39 Z\" fill=\"#000000\" fill-rule=\"evenodd\" fill-opacity=\"1\" /><path clip-path=\"url(#clip270)\" d=\"M1597.57 1481.64 L1605.21 1481.64 L1605.21 1455.28 L1596.9 1456.95 L1596.9 1452.69 L1605.16 1451.02 L1609.84 1451.02 L1609.84 1481.64 L1617.48 1481.64 L1617.48 1485.58 L1597.57 1485.58 L1597.57 1481.64 Z\" fill=\"#000000\" fill-rule=\"evenodd\" fill-opacity=\"1\" /><path clip-path=\"url(#clip270)\" d=\"M1626.97 1451.02 L1645.32 1451.02 L1645.32 1454.96 L1631.25 1454.96 L1631.25 1463.43 Q1632.27 1463.08 1633.29 1462.92 Q1634.31 1462.73 1635.32 1462.73 Q1641.11 1462.73 1644.49 1465.9 Q1647.87 1469.08 1647.87 1474.49 Q1647.87 1480.07 1644.4 1483.17 Q1640.93 1486.25 1634.61 1486.25 Q1632.43 1486.25 1630.16 1485.88 Q1627.92 1485.51 1625.51 1484.77 L1625.51 1480.07 Q1627.59 1481.2 1629.82 1481.76 Q1632.04 1482.32 1634.51 1482.32 Q1638.52 1482.32 1640.86 1480.21 Q1643.19 1478.1 1643.19 1474.49 Q1643.19 1470.88 1640.86 1468.77 Q1638.52 1466.67 1634.51 1466.67 Q1632.64 1466.67 1630.76 1467.08 Q1628.91 1467.5 1626.97 1468.38 L1626.97 1451.02 Z\" fill=\"#000000\" fill-rule=\"evenodd\" fill-opacity=\"1\" /><path clip-path=\"url(#clip270)\" d=\"M1667.08 1454.1 Q1663.47 1454.1 1661.64 1457.66 Q1659.84 1461.2 1659.84 1468.33 Q1659.84 1475.44 1661.64 1479.01 Q1663.47 1482.55 1667.08 1482.55 Q1670.72 1482.55 1672.52 1479.01 Q1674.35 1475.44 1674.35 1468.33 Q1674.35 1461.2 1672.52 1457.66 Q1670.72 1454.1 1667.08 1454.1 M1667.08 1450.39 Q1672.89 1450.39 1675.95 1455 Q1679.03 1459.58 1679.03 1468.33 Q1679.03 1477.06 1675.95 1481.67 Q1672.89 1486.25 1667.08 1486.25 Q1661.27 1486.25 1658.19 1481.67 Q1655.14 1477.06 1655.14 1468.33 Q1655.14 1459.58 1658.19 1455 Q1661.27 1450.39 1667.08 1450.39 Z\" fill=\"#000000\" fill-rule=\"evenodd\" fill-opacity=\"1\" /><path clip-path=\"url(#clip270)\" d=\"M2071.75 1481.64 L2088.07 1481.64 L2088.07 1485.58 L2066.12 1485.58 L2066.12 1481.64 Q2068.78 1478.89 2073.37 1474.26 Q2077.97 1469.61 2079.15 1468.27 Q2081.4 1465.74 2082.28 1464.01 Q2083.18 1462.25 2083.18 1460.56 Q2083.18 1457.8 2081.24 1456.07 Q2079.32 1454.33 2076.21 1454.33 Q2074.02 1454.33 2071.56 1455.09 Q2069.13 1455.86 2066.35 1457.41 L2066.35 1452.69 Q2069.18 1451.55 2071.63 1450.97 Q2074.09 1450.39 2076.12 1450.39 Q2081.49 1450.39 2084.69 1453.08 Q2087.88 1455.77 2087.88 1460.26 Q2087.88 1462.39 2087.07 1464.31 Q2086.28 1466.2 2084.18 1468.8 Q2083.6 1469.47 2080.5 1472.69 Q2077.4 1475.88 2071.75 1481.64 Z\" fill=\"#000000\" fill-rule=\"evenodd\" fill-opacity=\"1\" /><path clip-path=\"url(#clip270)\" d=\"M2107.88 1454.1 Q2104.27 1454.1 2102.44 1457.66 Q2100.64 1461.2 2100.64 1468.33 Q2100.64 1475.44 2102.44 1479.01 Q2104.27 1482.55 2107.88 1482.55 Q2111.52 1482.55 2113.32 1479.01 Q2115.15 1475.44 2115.15 1468.33 Q2115.15 1461.2 2113.32 1457.66 Q2111.52 1454.1 2107.88 1454.1 M2107.88 1450.39 Q2113.69 1450.39 2116.75 1455 Q2119.83 1459.58 2119.83 1468.33 Q2119.83 1477.06 2116.75 1481.67 Q2113.69 1486.25 2107.88 1486.25 Q2102.07 1486.25 2098.99 1481.67 Q2095.94 1477.06 2095.94 1468.33 Q2095.94 1459.58 2098.99 1455 Q2102.07 1450.39 2107.88 1450.39 Z\" fill=\"#000000\" fill-rule=\"evenodd\" fill-opacity=\"1\" /><path clip-path=\"url(#clip270)\" d=\"M2138.04 1454.1 Q2134.43 1454.1 2132.6 1457.66 Q2130.8 1461.2 2130.8 1468.33 Q2130.8 1475.44 2132.6 1479.01 Q2134.43 1482.55 2138.04 1482.55 Q2141.68 1482.55 2143.48 1479.01 Q2145.31 1475.44 2145.31 1468.33 Q2145.31 1461.2 2143.48 1457.66 Q2141.68 1454.1 2138.04 1454.1 M2138.04 1450.39 Q2143.85 1450.39 2146.91 1455 Q2149.99 1459.58 2149.99 1468.33 Q2149.99 1477.06 2146.91 1481.67 Q2143.85 1486.25 2138.04 1486.25 Q2132.23 1486.25 2129.15 1481.67 Q2126.1 1477.06 2126.1 1468.33 Q2126.1 1459.58 2129.15 1455 Q2132.23 1450.39 2138.04 1450.39 Z\" fill=\"#000000\" fill-rule=\"evenodd\" fill-opacity=\"1\" /><path clip-path=\"url(#clip270)\" d=\"M1189.19 1532.4 L1176.3 1549.74 L1189.86 1568.04 L1182.95 1568.04 L1172.57 1554.04 L1162.2 1568.04 L1155.29 1568.04 L1169.14 1549.39 L1156.47 1532.4 L1163.37 1532.4 L1172.83 1545.1 L1182.28 1532.4 L1189.19 1532.4 Z\" fill=\"#000000\" fill-rule=\"evenodd\" fill-opacity=\"1\" /><polyline clip-path=\"url(#clip272)\" style=\"stroke:#000000; stroke-linecap:round; stroke-linejoin:round; stroke-width:2; stroke-opacity:0.1; fill:none\" points=\"\n",
       "  232.389,1169.74 2112.76,1169.74 \n",
       "  \"/>\n",
       "<polyline clip-path=\"url(#clip272)\" style=\"stroke:#000000; stroke-linecap:round; stroke-linejoin:round; stroke-width:2; stroke-opacity:0.1; fill:none\" points=\"\n",
       "  232.389,909.795 2112.76,909.795 \n",
       "  \"/>\n",
       "<polyline clip-path=\"url(#clip272)\" style=\"stroke:#000000; stroke-linecap:round; stroke-linejoin:round; stroke-width:2; stroke-opacity:0.1; fill:none\" points=\"\n",
       "  232.389,649.854 2112.76,649.854 \n",
       "  \"/>\n",
       "<polyline clip-path=\"url(#clip272)\" style=\"stroke:#000000; stroke-linecap:round; stroke-linejoin:round; stroke-width:2; stroke-opacity:0.1; fill:none\" points=\"\n",
       "  232.389,389.912 2112.76,389.912 \n",
       "  \"/>\n",
       "<polyline clip-path=\"url(#clip272)\" style=\"stroke:#000000; stroke-linecap:round; stroke-linejoin:round; stroke-width:2; stroke-opacity:0.1; fill:none\" points=\"\n",
       "  232.389,129.971 2112.76,129.971 \n",
       "  \"/>\n",
       "<polyline clip-path=\"url(#clip270)\" style=\"stroke:#000000; stroke-linecap:round; stroke-linejoin:round; stroke-width:4; stroke-opacity:1; fill:none\" points=\"\n",
       "  232.389,1423.18 232.389,123.472 \n",
       "  \"/>\n",
       "<polyline clip-path=\"url(#clip270)\" style=\"stroke:#000000; stroke-linecap:round; stroke-linejoin:round; stroke-width:4; stroke-opacity:1; fill:none\" points=\"\n",
       "  232.389,1169.74 249.148,1169.74 \n",
       "  \"/>\n",
       "<polyline clip-path=\"url(#clip270)\" style=\"stroke:#000000; stroke-linecap:round; stroke-linejoin:round; stroke-width:4; stroke-opacity:1; fill:none\" points=\"\n",
       "  232.389,909.795 249.148,909.795 \n",
       "  \"/>\n",
       "<polyline clip-path=\"url(#clip270)\" style=\"stroke:#000000; stroke-linecap:round; stroke-linejoin:round; stroke-width:4; stroke-opacity:1; fill:none\" points=\"\n",
       "  232.389,649.854 249.148,649.854 \n",
       "  \"/>\n",
       "<polyline clip-path=\"url(#clip270)\" style=\"stroke:#000000; stroke-linecap:round; stroke-linejoin:round; stroke-width:4; stroke-opacity:1; fill:none\" points=\"\n",
       "  232.389,389.912 249.148,389.912 \n",
       "  \"/>\n",
       "<polyline clip-path=\"url(#clip270)\" style=\"stroke:#000000; stroke-linecap:round; stroke-linejoin:round; stroke-width:4; stroke-opacity:1; fill:none\" points=\"\n",
       "  232.389,129.971 249.148,129.971 \n",
       "  \"/>\n",
       "<path clip-path=\"url(#clip270)\" d=\"M148.311 1183.08 L164.63 1183.08 L164.63 1187.02 L142.686 1187.02 L142.686 1183.08 Q145.348 1180.33 149.931 1175.7 Q154.538 1171.04 155.718 1169.7 Q157.964 1167.18 158.843 1165.44 Q159.746 1163.68 159.746 1161.99 Q159.746 1159.24 157.802 1157.5 Q155.88 1155.77 152.778 1155.77 Q150.579 1155.77 148.126 1156.53 Q145.695 1157.29 142.917 1158.85 L142.917 1154.12 Q145.741 1152.99 148.195 1152.41 Q150.649 1151.83 152.686 1151.83 Q158.056 1151.83 161.251 1154.52 Q164.445 1157.2 164.445 1161.69 Q164.445 1163.82 163.635 1165.74 Q162.848 1167.64 160.741 1170.23 Q160.163 1170.91 157.061 1174.12 Q153.959 1177.32 148.311 1183.08 Z\" fill=\"#000000\" fill-rule=\"evenodd\" fill-opacity=\"1\" /><path clip-path=\"url(#clip270)\" d=\"M184.445 1155.54 Q180.834 1155.54 179.005 1159.1 Q177.2 1162.64 177.2 1169.77 Q177.2 1176.88 179.005 1180.44 Q180.834 1183.98 184.445 1183.98 Q188.079 1183.98 189.885 1180.44 Q191.713 1176.88 191.713 1169.77 Q191.713 1162.64 189.885 1159.1 Q188.079 1155.54 184.445 1155.54 M184.445 1151.83 Q190.255 1151.83 193.311 1156.44 Q196.389 1161.02 196.389 1169.77 Q196.389 1178.5 193.311 1183.1 Q190.255 1187.69 184.445 1187.69 Q178.635 1187.69 175.556 1183.1 Q172.501 1178.5 172.501 1169.77 Q172.501 1161.02 175.556 1156.44 Q178.635 1151.83 184.445 1151.83 Z\" fill=\"#000000\" fill-rule=\"evenodd\" fill-opacity=\"1\" /><path clip-path=\"url(#clip270)\" d=\"M157.13 896.589 L145.325 915.038 L157.13 915.038 L157.13 896.589 M155.903 892.515 L161.783 892.515 L161.783 915.038 L166.714 915.038 L166.714 918.927 L161.783 918.927 L161.783 927.075 L157.13 927.075 L157.13 918.927 L141.529 918.927 L141.529 914.413 L155.903 892.515 Z\" fill=\"#000000\" fill-rule=\"evenodd\" fill-opacity=\"1\" /><path clip-path=\"url(#clip270)\" d=\"M184.445 895.594 Q180.834 895.594 179.005 899.159 Q177.2 902.7 177.2 909.83 Q177.2 916.936 179.005 920.501 Q180.834 924.043 184.445 924.043 Q188.079 924.043 189.885 920.501 Q191.713 916.936 191.713 909.83 Q191.713 902.7 189.885 899.159 Q188.079 895.594 184.445 895.594 M184.445 891.89 Q190.255 891.89 193.311 896.497 Q196.389 901.08 196.389 909.83 Q196.389 918.557 193.311 923.163 Q190.255 927.747 184.445 927.747 Q178.635 927.747 175.556 923.163 Q172.501 918.557 172.501 909.83 Q172.501 901.08 175.556 896.497 Q178.635 891.89 184.445 891.89 Z\" fill=\"#000000\" fill-rule=\"evenodd\" fill-opacity=\"1\" /><path clip-path=\"url(#clip270)\" d=\"M154.862 647.99 Q151.714 647.99 149.862 650.143 Q148.033 652.296 148.033 656.046 Q148.033 659.773 149.862 661.949 Q151.714 664.101 154.862 664.101 Q158.01 664.101 159.839 661.949 Q161.69 659.773 161.69 656.046 Q161.69 652.296 159.839 650.143 Q158.01 647.99 154.862 647.99 M164.144 633.338 L164.144 637.597 Q162.385 636.764 160.579 636.324 Q158.797 635.884 157.038 635.884 Q152.408 635.884 149.954 639.009 Q147.524 642.134 147.177 648.453 Q148.542 646.439 150.603 645.375 Q152.663 644.287 155.14 644.287 Q160.348 644.287 163.357 647.458 Q166.39 650.606 166.39 656.046 Q166.39 661.37 163.241 664.587 Q160.093 667.805 154.862 667.805 Q148.866 667.805 145.695 663.222 Q142.524 658.615 142.524 649.888 Q142.524 641.694 146.413 636.833 Q150.302 631.949 156.853 631.949 Q158.612 631.949 160.394 632.296 Q162.2 632.643 164.144 633.338 Z\" fill=\"#000000\" fill-rule=\"evenodd\" fill-opacity=\"1\" /><path clip-path=\"url(#clip270)\" d=\"M184.445 635.652 Q180.834 635.652 179.005 639.217 Q177.2 642.759 177.2 649.888 Q177.2 656.995 179.005 660.56 Q180.834 664.101 184.445 664.101 Q188.079 664.101 189.885 660.56 Q191.713 656.995 191.713 649.888 Q191.713 642.759 189.885 639.217 Q188.079 635.652 184.445 635.652 M184.445 631.949 Q190.255 631.949 193.311 636.555 Q196.389 641.139 196.389 649.888 Q196.389 658.615 193.311 663.222 Q190.255 667.805 184.445 667.805 Q178.635 667.805 175.556 663.222 Q172.501 658.615 172.501 649.888 Q172.501 641.139 175.556 636.555 Q178.635 631.949 184.445 631.949 Z\" fill=\"#000000\" fill-rule=\"evenodd\" fill-opacity=\"1\" /><path clip-path=\"url(#clip270)\" d=\"M154.283 390.78 Q150.95 390.78 149.028 392.563 Q147.13 394.345 147.13 397.47 Q147.13 400.595 149.028 402.377 Q150.95 404.16 154.283 404.16 Q157.616 404.16 159.538 402.377 Q161.459 400.572 161.459 397.47 Q161.459 394.345 159.538 392.563 Q157.64 390.78 154.283 390.78 M149.607 388.79 Q146.598 388.049 144.908 385.989 Q143.241 383.928 143.241 380.965 Q143.241 376.822 146.181 374.415 Q149.144 372.007 154.283 372.007 Q159.445 372.007 162.385 374.415 Q165.325 376.822 165.325 380.965 Q165.325 383.928 163.635 385.989 Q161.968 388.049 158.982 388.79 Q162.362 389.577 164.237 391.868 Q166.135 394.16 166.135 397.47 Q166.135 402.493 163.056 405.178 Q160.001 407.864 154.283 407.864 Q148.566 407.864 145.487 405.178 Q142.431 402.493 142.431 397.47 Q142.431 394.16 144.329 391.868 Q146.228 389.577 149.607 388.79 M147.894 381.405 Q147.894 384.09 149.561 385.595 Q151.251 387.1 154.283 387.1 Q157.292 387.1 158.982 385.595 Q160.695 384.09 160.695 381.405 Q160.695 378.72 158.982 377.216 Q157.292 375.711 154.283 375.711 Q151.251 375.711 149.561 377.216 Q147.894 378.72 147.894 381.405 Z\" fill=\"#000000\" fill-rule=\"evenodd\" fill-opacity=\"1\" /><path clip-path=\"url(#clip270)\" d=\"M184.445 375.711 Q180.834 375.711 179.005 379.276 Q177.2 382.817 177.2 389.947 Q177.2 397.053 179.005 400.618 Q180.834 404.16 184.445 404.16 Q188.079 404.16 189.885 400.618 Q191.713 397.053 191.713 389.947 Q191.713 382.817 189.885 379.276 Q188.079 375.711 184.445 375.711 M184.445 372.007 Q190.255 372.007 193.311 376.614 Q196.389 381.197 196.389 389.947 Q196.389 398.674 193.311 403.28 Q190.255 407.864 184.445 407.864 Q178.635 407.864 175.556 403.28 Q172.501 398.674 172.501 389.947 Q172.501 381.197 175.556 376.614 Q178.635 372.007 184.445 372.007 Z\" fill=\"#000000\" fill-rule=\"evenodd\" fill-opacity=\"1\" /><path clip-path=\"url(#clip270)\" d=\"M114.931 143.316 L122.57 143.316 L122.57 116.95 L114.26 118.617 L114.26 114.357 L122.524 112.691 L127.2 112.691 L127.2 143.316 L134.839 143.316 L134.839 147.251 L114.931 147.251 L114.931 143.316 Z\" fill=\"#000000\" fill-rule=\"evenodd\" fill-opacity=\"1\" /><path clip-path=\"url(#clip270)\" d=\"M154.283 115.769 Q150.672 115.769 148.843 119.334 Q147.038 122.876 147.038 130.005 Q147.038 137.112 148.843 140.677 Q150.672 144.218 154.283 144.218 Q157.917 144.218 159.723 140.677 Q161.552 137.112 161.552 130.005 Q161.552 122.876 159.723 119.334 Q157.917 115.769 154.283 115.769 M154.283 112.066 Q160.093 112.066 163.149 116.672 Q166.227 121.255 166.227 130.005 Q166.227 138.732 163.149 143.339 Q160.093 147.922 154.283 147.922 Q148.473 147.922 145.394 143.339 Q142.339 138.732 142.339 130.005 Q142.339 121.255 145.394 116.672 Q148.473 112.066 154.283 112.066 Z\" fill=\"#000000\" fill-rule=\"evenodd\" fill-opacity=\"1\" /><path clip-path=\"url(#clip270)\" d=\"M184.445 115.769 Q180.834 115.769 179.005 119.334 Q177.2 122.876 177.2 130.005 Q177.2 137.112 179.005 140.677 Q180.834 144.218 184.445 144.218 Q188.079 144.218 189.885 140.677 Q191.713 137.112 191.713 130.005 Q191.713 122.876 189.885 119.334 Q188.079 115.769 184.445 115.769 M184.445 112.066 Q190.255 112.066 193.311 116.672 Q196.389 121.255 196.389 130.005 Q196.389 138.732 193.311 143.339 Q190.255 147.922 184.445 147.922 Q178.635 147.922 175.556 143.339 Q172.501 138.732 172.501 130.005 Q172.501 121.255 175.556 116.672 Q178.635 112.066 184.445 112.066 Z\" fill=\"#000000\" fill-rule=\"evenodd\" fill-opacity=\"1\" /><path clip-path=\"url(#clip270)\" d=\"M67.3143 771.639 Q73.68 774.122 75.6216 776.477 Q77.5631 778.832 77.5631 782.779 L77.5631 787.458 L72.6615 787.458 L72.6615 784.02 Q72.6615 781.601 71.5157 780.265 Q70.3699 778.928 66.1048 777.305 L63.4312 776.254 L28.3562 790.673 L28.3562 784.466 L56.238 773.326 L28.3562 762.186 L28.3562 755.979 L67.3143 771.639 Z\" fill=\"#000000\" fill-rule=\"evenodd\" fill-opacity=\"1\" /><path clip-path=\"url(#clip270)\" d=\"M1057.1 34.0924 L1057.1 9.54393 L1064.56 9.54393 L1064.56 72.576 L1057.1 72.576 L1057.1 65.7705 Q1054.75 69.8214 1051.15 71.8063 Q1047.58 73.7508 1042.56 73.7508 Q1034.34 73.7508 1029.15 67.1883 Q1024.01 60.6258 1024.01 49.9314 Q1024.01 39.2371 1029.15 32.6746 Q1034.34 26.1121 1042.56 26.1121 Q1047.58 26.1121 1051.15 28.0971 Q1054.75 30.0415 1057.1 34.0924 M1031.7 49.9314 Q1031.7 58.1548 1035.06 62.8538 Q1038.47 67.5124 1044.38 67.5124 Q1050.3 67.5124 1053.7 62.8538 Q1057.1 58.1548 1057.1 49.9314 Q1057.1 41.7081 1053.7 37.0496 Q1050.3 32.3505 1044.38 32.3505 Q1038.47 32.3505 1035.06 37.0496 Q1031.7 41.7081 1031.7 49.9314 Z\" fill=\"#000000\" fill-rule=\"evenodd\" fill-opacity=\"1\" /><path clip-path=\"url(#clip270)\" d=\"M1118.72 48.0275 L1118.72 51.6733 L1084.45 51.6733 Q1084.93 59.3701 1089.06 63.421 Q1093.24 67.4314 1100.65 67.4314 Q1104.94 67.4314 1108.95 66.3781 Q1113 65.3249 1116.97 63.2184 L1116.97 70.267 Q1112.96 71.9684 1108.75 72.8596 Q1104.54 73.7508 1100.2 73.7508 Q1089.35 73.7508 1082.99 67.4314 Q1076.67 61.1119 1076.67 50.3365 Q1076.67 39.1965 1082.66 32.6746 Q1088.7 26.1121 1098.91 26.1121 Q1108.06 26.1121 1113.37 32.0264 Q1118.72 37.9003 1118.72 48.0275 M1111.26 45.84 Q1111.18 39.7232 1107.82 36.0774 Q1104.5 32.4315 1098.99 32.4315 Q1092.75 32.4315 1088.98 35.9558 Q1085.26 39.4801 1084.69 45.8805 L1111.26 45.84 Z\" fill=\"#000000\" fill-rule=\"evenodd\" fill-opacity=\"1\" /><path clip-path=\"url(#clip270)\" d=\"M1168.66 45.1919 L1168.66 72.576 L1161.21 72.576 L1161.21 45.4349 Q1161.21 38.994 1158.7 35.7938 Q1156.19 32.5936 1151.16 32.5936 Q1145.13 32.5936 1141.64 36.4419 Q1138.16 40.2903 1138.16 46.9338 L1138.16 72.576 L1130.67 72.576 L1130.67 27.2059 L1138.16 27.2059 L1138.16 34.2544 Q1140.83 30.163 1144.44 28.1376 Q1148.08 26.1121 1152.82 26.1121 Q1160.64 26.1121 1164.65 30.9732 Q1168.66 35.7938 1168.66 45.1919 Z\" fill=\"#000000\" fill-rule=\"evenodd\" fill-opacity=\"1\" /><path clip-path=\"url(#clip270)\" d=\"M1212.45 28.5427 L1212.45 35.5912 Q1209.29 33.9709 1205.89 33.1607 Q1202.49 32.3505 1198.84 32.3505 Q1193.29 32.3505 1190.5 34.0519 Q1187.74 35.7533 1187.74 39.156 Q1187.74 41.7486 1189.73 43.2475 Q1191.71 44.7058 1197.71 46.0426 L1200.26 46.6097 Q1208.2 48.3111 1211.52 51.4303 Q1214.88 54.509 1214.88 60.0587 Q1214.88 66.3781 1209.86 70.0644 Q1204.88 73.7508 1196.13 73.7508 Q1192.48 73.7508 1188.51 73.0216 Q1184.58 72.3329 1180.21 70.9151 L1180.21 63.2184 Q1184.34 65.3654 1188.35 66.4591 Q1192.36 67.5124 1196.29 67.5124 Q1201.56 67.5124 1204.39 65.73 Q1207.23 63.9071 1207.23 60.6258 Q1207.23 57.5877 1205.16 55.9673 Q1203.14 54.3469 1196.21 52.8481 L1193.62 52.2405 Q1186.69 50.7821 1183.61 47.7845 Q1180.53 44.7463 1180.53 39.4801 Q1180.53 33.0797 1185.07 29.5959 Q1189.61 26.1121 1197.95 26.1121 Q1202.08 26.1121 1205.73 26.7198 Q1209.38 27.3274 1212.45 28.5427 Z\" fill=\"#000000\" fill-rule=\"evenodd\" fill-opacity=\"1\" /><path clip-path=\"url(#clip270)\" d=\"M1226.75 27.2059 L1234.21 27.2059 L1234.21 72.576 L1226.75 72.576 L1226.75 27.2059 M1226.75 9.54393 L1234.21 9.54393 L1234.21 18.9825 L1226.75 18.9825 L1226.75 9.54393 Z\" fill=\"#000000\" fill-rule=\"evenodd\" fill-opacity=\"1\" /><path clip-path=\"url(#clip270)\" d=\"M1257.18 14.324 L1257.18 27.2059 L1272.53 27.2059 L1272.53 32.9987 L1257.18 32.9987 L1257.18 57.6282 Q1257.18 63.1779 1258.67 64.7578 Q1260.21 66.3376 1264.87 66.3376 L1272.53 66.3376 L1272.53 72.576 L1264.87 72.576 Q1256.24 72.576 1252.96 69.3758 Q1249.68 66.1351 1249.68 57.6282 L1249.68 32.9987 L1244.21 32.9987 L1244.21 27.2059 L1249.68 27.2059 L1249.68 14.324 L1257.18 14.324 Z\" fill=\"#000000\" fill-rule=\"evenodd\" fill-opacity=\"1\" /><path clip-path=\"url(#clip270)\" d=\"M1301.21 76.7889 Q1298.05 84.8907 1295.05 87.3618 Q1292.05 89.8329 1287.03 89.8329 L1281.08 89.8329 L1281.08 83.5945 L1285.45 83.5945 Q1288.53 83.5945 1290.23 82.1361 Q1291.93 80.6778 1294 75.2496 L1295.34 71.8468 L1276.98 27.2059 L1284.88 27.2059 L1299.06 62.6918 L1313.24 27.2059 L1321.14 27.2059 L1301.21 76.7889 Z\" fill=\"#000000\" fill-rule=\"evenodd\" fill-opacity=\"1\" /><g clip-path=\"url(#clip272)\">\n",
       "<image width=\"1880\" height=\"1300\" xlink:href=\"data:image/png;base64,\n",
       "iVBORw0KGgoAAAANSUhEUgAAB1gAAAUUCAYAAAByDMAHAAAgAElEQVR4nOzbwYpeZwHH4flmTqdJ\n",
       "mKSBTutUoaiFlC5E3BV01XvwCrwLV65cuXPnygtw4U4vQFyJuBCUYiiiaKiVITFpZjKT73gJ5wfh\n",
       "+OaMz7P+8553NzC/790d/OjgdwcA3DzXR233i4+XN58/aGd9/5fLm7Pz5c2ufQ4AAAAAAP7XDkdf\n",
       "AAAAAAAAAGArBFYAAAAAAACASGAFAAAAAAAAiARWAAAAAAAAgEhgBQAAAAAAAIgEVgAAAAAAAIBI\n",
       "YAUAAAAAAACIBFYAAAAAAACASGAFAAAAAAAAiARWAAAAAAAAgEhgBQAAAAAAAIgEVgAAAAAAAIBo\n",
       "Gn0BAFYyx92jt5Y3H321nXXpzwoAAAAAADebF6wAAAAAAAAAkcAKAAAAAAAAEAmsAAAAAAAAAJHA\n",
       "CgAAAAAAABAJrAAAAAAAAACRwAoAAAAAAAAQCawAAAAAAAAAkcAKAAAAAAAAEAmsAAAAAAAAAJHA\n",
       "CgAAAAAAABAJrAAAAAAAAACRwAoAAAAAAAAQTaMvAMBgb14vb55etLMO51e7CwAAAAAAvOa8YAUA\n",
       "AAAAAACIBFYAAAAAAACASGAFAAAAAAAAiARWAAAAAAAAgEhgBQAAAAAAAIgEVgAAAAAAAIBIYAUA\n",
       "AAAAAACIBFYAAAAAAACASGAFAAAAAAAAiARWAAAAAAAAgEhgBQAAAAAAAIgEVgAAAAAAAIBoGn0B\n",
       "AAY73C9vrsPm4ODgYDe/2l0AAAAAAOA15wUrAAAAAAAAQCSwAgAAAAAAAEQCKwAAAAAAAEAksAIA\n",
       "AAAAAABEAisAAAAAAABAJLACAAAAAAAARAIrAAAAAAAAQCSwAgAAAAAAAEQCKwAAAAAAAEAksAIA\n",
       "AAAAAABEAisAAAAAAABAJLACAAAAAAAARNPoCwCwkjnuHt9Z3nx0v511dRQ/CgAAAAAA2+QFKwAA\n",
       "AAAAAEAksAIAAAAAAABEAisAAAAAAABAJLACAAAAAAAARAIrAAAAAAAAQCSwAgAAAAAAAEQCKwAA\n",
       "AAAAAEAksAIAAAAAAABEAisAAAAAAABAJLACAAAAAAAARAIrAAAAAAAAQCSwAgAAAAAAAETT6AsA\n",
       "sJZdm724s7w5u9/Ouj5qOwAAAAAA2CgvWAEAAAAAAAAigRUAAAAAAAAgElgBAAAAAAAAIoEVAAAA\n",
       "AAAAIBJYAQAAAAAAACKBFQAAAAAAACASWAEAAAAAAAAigRUAAAAAAAAgElgBAAAAAAAAIoEVAAAA\n",
       "AAAAIBJYAQAAAAAAACKBFQAAAAAAACCaRl8AgLXMbTZdLG+++E8762zfdgAAAAAAsFFesAIAAAAA\n",
       "AABEAisAAAAAAABAJLACAAAAAAAARAIrAAAAAAAAQCSwAgAAAAAAAEQCKwAAAAAAAEAksAIAAAAA\n",
       "AABEAisAAAAAAABAJLACAAAAAAAARAIrAAAAAAAAQCSwAgAAAAAAAEQCKwAAAAAAAEA0jb4AAGvZ\n",
       "tdnLW8ubd+61s679bgcAAAAAgJvNf8IBAAAAAAAAIoEVAAAAAAAAIBJYAQAAAAAAACKBFQAAAAAA\n",
       "ACASWAEAAAAAAAAigRUAAAAAAAAgElgBAAAAAAAAIoEVAAAAAAAAIBJYAQAAAAAAACKBFQAAAAAA\n",
       "ACASWAEAAAAAAAAigRUAAAAAAAAgmkZfAIC1zG12dLG8+deTdtbZvu0AAAAAAGCjvGAFAAAAAAAA\n",
       "iARWAAAAAAAAgEhgBQAAAAAAAIgEVgAAAAAAAIBIYAUAAAAAAACIBFYAAAAAAACASGAFAAAAAAAA\n",
       "iARWAAAAAAAAgEhgBQAAAAAAAIgEVgAAAAAAAIBIYAUAAAAAAACIBFYAAAAAAACAaBp9AQBWsou7\n",
       "dx8vb/7yqJ31/lX8KAAAAAAAbJMXrAAAAAAAAACRwAoAAAAAAAAQCawAAAAAAAAAkcAKAAAAAAAA\n",
       "EAmsAAAAAAAAAJHACgAAAAAAABAJrAAAAAAAAACRwAoAAAAAAAAQCawAAAAAAAAAkcAKAAAAAAAA\n",
       "EAmsAAAAAAAAAJHACgAAAAAAABBNoy8AwErmuPvi7vLm43faWS/8WQEAAAAA4GbzghUAAAAAAAAg\n",
       "ElgBAAAAAAAAIoEVAAAAAAAAIBJYAQAAAAAAACKBFQAAAAAAACASWAEAAAAAAAAigRUAAAAAAAAg\n",
       "ElgBAAAAAAAAIoEVAAAAAAAAIBJYAQAAAAAAACKBFQAAAAAAACASWAEAAAAAAACiafQFAFjJvGu7\n",
       "26fLm+98vZ31t+O2AwAAAACAjfKCFQAAAAAAACASWAEAAAAAAAAigRUAAAAAAAAgElgBAAAAAAAA\n",
       "IoEVAAAAAAAAIBJYAQAAAAAAACKBFQAAAAAAACASWAEAAAAAAAAigRUAAAAAAAAgElgBAAAAAAAA\n",
       "IoEVAAAAAAAAIBJYAQAAAAAAAKJp9AUAGGw/L29ehs3BwcHBLu4AAAAAAGCjvGAFAAAAAAAAiARW\n",
       "AAAAAAAAgEhgBQAAAAAAAIgEVgAAAAAAAIBIYAUAAAAAAACIBFYAAAAAAACASGAFAAAAAAAAiARW\n",
       "AAAAAAAAgEhgBQAAAAAAAIgEVgAAAAAAAIBIYAUAAAAAAACIBFYAAAAAAACAaBp9AQBWMu/a7vTu\n",
       "4uSDb7ybjnr4V39WAAAAAAC42bxgBQAAAAAAAIgEVgAAAAAAAIBIYAUAAAAAAACIBFYAAAAAAACA\n",
       "SGAFAAAAAAAAiARWAAAAAAAAgEhgBQAAAAAAAIgEVgAAAAAAAIBIYAUAAAAAAACIBFYAAAAAAACA\n",
       "SGAFAAAAAAAAiARWAAAAAAAAgGgafQEABjt5c3Hy4O2TdNTDl363AwAAAADAzeY/4QAAAAAAAACR\n",
       "wAoAAAAAAAAQCawAAAAAAAAAkcAKAAAAAAAAEAmsAAAAAAAAAJHACgAAAAAAABAJrAAAAAAAAACR\n",
       "wAoAAAAAAAAQCawAAAAAAAAAkcAKAAAAAAAAEAmsAAAAAAAAAJHACgAAAAAAABBNoy8AwEoO57b7\n",
       "498XJ7/69R/aWScXbQcAAAAAABvlBSsAAAAAAABAJLACAAAAAAAARAIrAAAAAAAAQCSwAgAAAAAA\n",
       "AEQCKwAAAAAAAEAksAIAAAAAAABEAisAAAAAAABAJLACAAAAAAAARAIrAAAAAAAAQCSwAgAAAAAA\n",
       "AEQCKwAAAAAAAEAksAIAAAAAAABE0+gLALCS3dx27z1a3vz203bWJ5dtBwAAAAAAG+UFKwAAAAAA\n",
       "AEAksAIAAAAAAABEAisAAAAAAABAJLACAAAAAAAARAIrAAAAAAAAQCSwAgAAAAAAAEQCKwAAAAAA\n",
       "AEAksAIAAAAAAABEAisAAAAAAABAJLACAAAAAAAARAIrAAAAAAAAQCSwAgAAAAAAAETT6AsAsJJd\n",
       "3B1fL2+eXsZvzvGjAAAAAACwTV6wAgAAAAAAAEQCKwAAAAAAAEAksAIAAAAAAABEAisAAAAAAABA\n",
       "JLACAAAAAAAARAIrAAAAAAAAQCSwAgAAAAAAAEQCKwAAAAAAAEAksAIAAAAAAABEAisAAAAAAABA\n",
       "JLACAAAAAAAARAIrAAAAAAAAQDSNvgAAK5nj7uJ4eXPvdjtr73c7AAAAAADcbP4TDgAAAAAAABAJ\n",
       "rAAAAAAAAACRwAoAAAAAAAAQCawAAAAAAAAAkcAKAAAAAAAAEAmsAAAAAAAAAJHACgAAAAAAABAJ\n",
       "rAAAAAAAAACRwAoAAAAAAAAQCawAAAAAAAAAkcAKAAAAAAAAEAmsAAAAAAAAANE0+gIADPb49vLm\n",
       "m/fbWddHr3YXAAAAAAB4zXnBCgAAAAAAABAJrAAAAAAAAACRwAoAAAAAAAAQCawAAAAAAAAAkcAK\n",
       "AAAAAAAAEAmsAAAAAAAAAJHACgAAAAAAABAJrAAAAAAAAACRwAoAAAAAAAAQCawAAAAAAAAAkcAK\n",
       "AAAAAAAAEAmsAAAAAAAAANE0+gIArGSOu5fhtzZvxD8X9ZsAAAAAALBRXrACAAAAAAAARAIrAAAA\n",
       "AAAAQCSwAgAAAAAAAEQCKwAAAAAAAEAksAIAAAAAAABEAisAAAAAAABAJLACAAAAAAAARAIrAAAA\n",
       "AAAAQCSwAgAAAAAAAEQCKwAAAAAAAEAksAIAAAAAAABEAisAAAAAAABANI2+AABr2bXZ8+PlzVu3\n",
       "21l7v9sBAAAAAOBm859wAAAAAAAAgEhgBQAAAAAAAIgEVgAAAAAAAIBIYAUAAAAAAACIBFYAAAAA\n",
       "AACASGAFAAAAAAAAiARWAAAAAAAAgEhgBQAAAAAAAIgEVgAAAAAAAIBIYAUAAAAAAACIBFYAAAAA\n",
       "AACASGAFAAAAAAAAiKbRFwBgLXOb3XmxvDl/1s66u287AAAAAADYKC9YAQAAAAAAACKBFQAAAAAA\n",
       "ACASWAEAAAAAAAAigRUAAAAAAAAgElgBAAAAAAAAIoEVAAAAAAAAIBJYAQAAAAAAACKBFQAAAAAA\n",
       "ACASWAEAAAAAAAAigRUAAAAAAAAgElgBAAAAAAAAIoEVAAAAAAAAIJpGXwCAlezi7vTJ8uazz9tZ\n",
       "H1zHjwIAAAAAwDZ5wQoAAAAAAAAQCawAAAAAAAAAkcAKAAAAAAAAEAmsAAAAAAAAAJHACgAAAAAA\n",
       "ABAJrAAAAAAAAACRwAoAAAAAAAAQCawAAAAAAAAAkcAKAAAAAAAAEAmsAAAAAAAAAJHACgAAAAAA\n",
       "ABAJrAAAAAAAAADRNPoCAAx2frK8+fZpO+vKnxUAAAAAAG42L1gBAAAAAAAAIoEVAAAAAAAAIBJY\n",
       "AQAAAAAAACKBFQAAAAAAACASWAEAAAAAAAAigRUAAAAAAAAgElgBAAAAAAAAIoEVAAAAAAAAIBJY\n",
       "AQAAAAAAACKBFQAAAAAAACASWAEAAAAAAAAigRUAAAAAAAAgmkZfAICV7Hdtd+tsefPdD9tZD4/b\n",
       "DgAAAAAANsoLVgAAAAAAAIBIYAUAAAAAAACIBFYAAAAAAACASGAFAAAAAAAAiARWAAAAAAAAgEhg\n",
       "BQAAAAAAAIgEVgAAAAAAAIBIYAUAAAAAAACIBFYAAAAAAACASGAFAAAAAAAAiARWAAAAAAAAgEhg\n",
       "BQAAAAAAAIim0RcAYLAvL5c358/aWUf7V7sLAAAAAAC85rxgBQAAAAAAAIgEVgAAAAAAAIBIYAUA\n",
       "AAAAAACIBFYAAAAAAACASGAFAAAAAAAAiARWAAAAAAAAgEhgBQAAAAAAAIgEVgAAAAAAAIBIYAUA\n",
       "AAAAAACIBFYAAAAAAACASGAFAAAAAAAAiARWAAAAAAAAgGgafQEAVrKLu+dfLm8enbez7u7jRwEA\n",
       "AAAAYJu8YAUAAAAAAACIBFYAAAAAAACASGAFAAAAAAAAiARWAAAAAAAAgEhgBQAAAAAAAIgEVgAA\n",
       "AAAAAIBIYAUAAAAAAACIBFYAAAAAAACASGAFAAAAAAAAiARWAAAAAAAAgEhgBQAAAAAAAIgEVgAA\n",
       "AAAAAIBoGn0BAAY7vrW8eftuO+u53+0AAAAAAHCz+U84AAAAAAAAQCSwAgAAAAAAAEQCKwAAAAAA\n",
       "AEAksAIAAAAAAABEAisAAAAAAABAJLACAAAAAAAARAIrAAAAAAAAQCSwAgAAAAAAAEQCKwAAAAAA\n",
       "AEAksAIAAAAAAABEAisAAAAAAABAJLACAAAAAAAARNPoCwAw2K5syggAAAAAAG4+L1gBAAAAAAAA\n",
       "IoEVAAAAAAAAIBJYAQAAAAAAACKBFQAAAAAAACASWAEAAAAAAAAigRUAAAAAAAAgElgBAAAAAAAA\n",
       "IoEVAAAAAAAAIBJYAQAAAAAAACKBFQAAAAAAACASWAEAAAAAAAAigRUAAAAAAAAgmkZfAICVzHF3\n",
       "787y5ux+O+vTo/hRAAAAAADYJi9YAQAAAAAAACKBFQAAAAAAACASWAEAAAAAAAAigRUAAAAAAAAg\n",
       "ElgBAAAAAAAAIoEVAAAAAAAAIBJYAQAAAAAAACKBFQAAAAAAACASWAEAAAAAAAAigRUAAAAAAAAg\n",
       "ElgBAAAAAAAAIoEVAAAAAAAAIJpGXwCAwS6vlzfPLttZu/2r3QUAAAAAAF5zXrACAAAAAAAARAIr\n",
       "AAAAAAAAQCSwAgAAAAAAAEQCKwAAAAAAAEAksAIAAAAAAABEAisAAAAAAABAJLACAAAAAAAARAIr\n",
       "AAAAAAAAQCSwAgAAAAAAAEQCKwAAAAAAAEAksAIAAAAAAABEAisAAAAAAABANI2+AAArOZzj7p/L\n",
       "m9/8uZ31rcu2AwAAAACAjfKCFQAAAAAAACASWAEAAAAAAAAigRUAAAAAAAAgElgBAAAAAAAAIoEV\n",
       "AAAAAAAAIBJYAQAAAAAAACKBFQAAAAAAACASWAEAAAAAAAAigRUAAAAAAAAgElgBAAAAAAAAIoEV\n",
       "AAAAAAAAIBJYAQAAAAAAAKJp9AUAWMm8a7vH95c3D95rZ12+0XYAAAAAALBRXrACAAAAAAAARAIr\n",
       "AAAAAAAAQCSwAgAAAAAAAEQCKwAAAAAAAEAksAIAAAAAAABEAisAAAAAAABAJLACAAAAAAAARAIr\n",
       "AAAAAAAAQCSwAgAAAAAAAEQCKwAAAAAAAEAksAIAAAAAAABEAisAAAAAAABANI2+AAAreRl/Q/O9\n",
       "DxcnP/zBJ+moH//kp+2bAAAAAACwUV6wAgAAAAAAAEQCKwAAAAAAAEAksAIAAAAAAABEAisAAAAA\n",
       "AABAJLACAAAAAAAARAIrAAAAAAAAQCSwAgAAAAAAAEQCKwAAAAAAAEAksAIAAAAAAABEAisAAAAA\n",
       "AABAJLACAAAAAAAARAIrAAAAAAAAQDSNvgAAK9nNbXdxtTj5x5Pn7ayj+E0AAAAAANgoL1gBAAAA\n",
       "AAAAIoEVAAAAAAAAIBJYAQAAAAAAACKBFQAAAAAAACASWAEAAAAAAAAigRUAAAAAAAAgElgBAAAA\n",
       "AAAAIoEVAAAAAAAAIBJYAQAAAAAAACKBFQAAAAAAACASWAEAAAAAAAAigRUAAAAAAAAgmkZfAICV\n",
       "HM5t9/s/LU5+/rOTdtbp07YDAAAAAICN8oIVAAAAAAAAIBJYAQAAAAAAACKBFQAAAAAAACASWAEA\n",
       "AAAAAAAigRUAAAAAAAAgElgBAAAAAAAAIoEVAAAAAAAAIBJYAQAAAAAAACKBFQAAAAAAACASWAEA\n",
       "AAAAAAAigRUAAAAAAAAgElgBAAAAAAAAomn0BQBYyW5uuzuXy5vzZ+2sr+zbDgAAAAAANsoLVgAA\n",
       "AAAAAIBIYAUAAAAAAACIBFYAAAAAAACASGAFAAAAAAAAiARWAAAAAAAAgEhgBQAAAAAAAIgEVgAA\n",
       "AAAAAIBIYAUAAAAAAACIBFYAAAAAAACASGAFAAAAAAAAiARWAAAAAAAAgEhgBQAAAAAAAIim0RcA\n",
       "YCXzru2enCxv3j9tZ10dtR0AAAAAAGyUF6wAAAAAAAAAkcAKAAAAAAAAEAmsAAAAAAAAAJHACgAA\n",
       "AAAAABAJrAAAAAAAAACRwAoAAAAAAAAQCawAAAAAAAAAkcAKAAAAAAAAEAmsAAAAAAAAAJHACgAA\n",
       "AAAAABAJrAAAAAAAAACRwAoAAAAAAAAQTaMvAMBa5ja7dbG8+feTdtbX9m0HAAAAAAAb5QUrAAAA\n",
       "AAAAQCSwAgAAAAAAAEQCKwAAAAAAAEAksAIAAAAAAABEAisAAAAAAABAJLACAAAAAAAARAIrAAAA\n",
       "AAAAQCSwAgAAAAAAAEQCKwAAAAAAAEAksAIAAAAAAABEAisAAAAAAABAJLACAAAAAAAARNPoCwAw\n",
       "2Lxb3uzCBgAAAAAA/g94wQoAAAAAAAAQCawAAAAAAAAAkcAKAAAAAAAAEAmsAAAAAAAAAJHACgAA\n",
       "AAAAABAJrAAAAAAAAACRwAoAAAAAAAAQCawAAAAAAAAAkcAKAAAAAAAAEAmsAADAf9m3l13LjruO\n",
       "47X77NPd7rv75lsSOzYISxCCUMSEYSRGDHkLRjwB78AcHoIJSIgRAyYgTJQgbCe2k45jx44vfe/T\n",
       "57IZ8AD1jbxO797R5zP+q6rO2rWqaq3fWQAAAABEAlYAAAAAAACASMAKAAAAAAAAEK23PQAATslm\n",
       "1erOvziv+aPvtLY+2W91AAAAAACwo3zBCgAAAAAAABAJWAEAAAAAAAAiASsAAAAAAABAJGAFAAAA\n",
       "AAAAiASsAAAAAAAAAJGAFQAAAAAAACASsAIAAAAAAABEAlYAAAAAAACASMAKAAAAAAAAEAlYAQAA\n",
       "AAAAACIBKwAAAAAAAEAkYAUAAAAAAACI1tseAACnZBXrHh7Ma7580NraO4mdAgAAAADAbvIFKwAA\n",
       "AAAAAEAkYAUAAAAAAACIBKwAAAAAAAAAkYAVAAAAAAAAIBKwAgAAAAAAAEQCVgAAAAAAAIBIwAoA\n",
       "AAAAAAAQCVgBAAAAAAAAIgErAAAAAAAAQCRgBQAAAAAAAIgErAAAAAAAAACRgBUAAAAAAAAgWm97\n",
       "AACclk0rWz+c13z8ZWvrteNWBwAAAAAAO8oXrAAAAAAAAACRgBUAAAAAAAAgErACAAAAAAAARAJW\n",
       "AAAAAAAAgEjACgAAAAAAABAJWAEAAAAAAAAiASsAAAAAAABAJGAFAAAAAAAAiASsAAAAAAAAAJGA\n",
       "FQAAAAAAACASsAIAAAAAAABEAlYAAAAAAACAaL3tAQBwWlax7vK85I1bralHthUAAAAAAH63+YIV\n",
       "AAAAAAAAIBKwAgAAAAAAAEQCVgAAAAAAAIBIwAoAAAAAAAAQCVgBAAAAAAAAIgErAAAAAAAAQCRg\n",
       "BQAAAAAAAIgErAAAAAAAAACRgBUAAAAAAAAgErACAAAAAAAARAJWAAAAAAAAgEjACgAAAAAAABCt\n",
       "tz0AAE7JatPq1nfnNe/+qrX11mGrAwAAAACAHeULVgAAAAAAAIBIwAoAAAAAAAAQCVgBAAAAAAAA\n",
       "IgErAAAAAAAAQCRgBQAAAAAAAIgErAAAAAAAAACRgBUAAAAAAAAgErACAAAAAAAARAJWAAAAAAAA\n",
       "gEjACgAAAAAAABAJWAEAAAAAAAAiASsAAAAAAABAtN72AAA4JZtVq3twYV7z6outraO9VgcAAAAA\n",
       "ADvKF6wAAAAAAAAAkYAVAAAAAAAAIBKwAgAAAAAAAEQCVgAAAAAAAIBIwAoAAAAAAAAQCVgBAAAA\n",
       "AAAAIgErAAAAAAAAQCRgBQAAAAAAAIgErAAAAAAAAACRgBUAAAAAAAAgErACAAAAAAAARAJWAAAA\n",
       "AAAAgGi97QEAcFo2rWz/6bzm3uPW1q3YJwAAAAAA7ChfsAIAAAAAAABEAlYAAAAAAACASMAKAAAA\n",
       "AAAAEAlYAQAAAAAAACIBKwAAAAAAAEAkYAUAAAAAAACIBKwAAAAAAAAAkYAVAAAAAAAAIBKwAgAA\n",
       "AAAAAEQCVgAAAAAAAIBIwAoAAAAAAAAQCVgBAAAAAAAAovW2BwDAKVnFulv35jU/+3Vr67Wj2CkA\n",
       "AAAAAOwmX7ACAAAAAAAARAJWAAAAAAAAgEjACgAAAAAAABAJWAEAAAAAAAAiASsAAAAAAABAJGAF\n",
       "AAAAAAAAiASsAAAAAAAAAJGAFQAAAAAAACASsAIAAAAAAABEAlYAAAAAAACASMAKAAAAAAAAEAlY\n",
       "AQAAAAAAAKL1tgcAwJYdhq3g+n5ra7P6ZmMBAAAAAIDnnC9YAQAAAAAAACIBKwAAAAAAAEAkYAUA\n",
       "AAAAAACIBKwAAAAAAAAAkYAVAAAAAAAAIBKwAgAAAAAAAEQCVgAAAAAAAIBIwAoAAAAAAAAQCVgB\n",
       "AAAAAAAAIgErAAAAAAAAQCRgBQAAAAAAAIgErAAAAAAAAADRetsDAOCUrDat7pWv5jU//ri19eeH\n",
       "rQ4AAAAAAHaUL1gBAAAAAAAAIgErAAAAAAAAQCRgBQAAAAAAAIgErAAAAAAAAACRgBUAAAAAAAAg\n",
       "ErACAAAAAAAARAJWAAAAAAAAgEjACgAAAAAAABAJWAEAAAAAAAAiASsAAAAAAABAJGAFAAAAAAAA\n",
       "iASsAAAAAAAAANF62wMAYMv2j0PR09bWavONhgIAAAAAAM87X7ACAAAAAAAARAJWAAAAAAAAgEjA\n",
       "CgAAAAAAABAJWAEAAAAAAAAiASsAAAAAAABAJGAFAAAAAAAAiASsAAAAAAAAAJGAFQAAAAAAACAS\n",
       "sAIAAAAAAABEAlYAAAAAAACASMAKAAAAAAAAEAlYAQAAAAAAAKL1tgcAwCnZrFrdT1+e1/zg7dbW\n",
       "o39rdQAAAAAAsKN8wQoAAAAAAAAQCVgBAAAAAAAAIgErAAAAAAAAQCRgBQAAAAAAAIgErAAAAAAA\n",
       "AACRgBUAAAAAAAAgErACAAAAAAAARAJWAAAAAAAAgEjACgAAAAAAABAJWAEAAAAAAAAiASsAAAAA\n",
       "AABAJGAFAAAAAAAAiNbbHgAAp2QV6166O69575PW1vePYqcAAAAAALCbfMEKAAAAAAAAEAlYAQAA\n",
       "AAAAACIBKwAAAAAAAEAkYAUAAAAAAACIBKwAAAAAAAAAkYAVAAAAAAAAIBKwAgAAAAAAAEQCVgAA\n",
       "AAAAAIBIwAoAAAAAAAAQCVgBAAAAAAAAIgErAAAAAAAAQCRgBQAAAAAAAIjW2x4AAFt2sprX7MX/\n",
       "x9l8s6EAAAAAAMDzzhesAAAAAAAAAJGAFQAAAAAAACASsAIAAAAAAABEAlYAAAAAAACASMAKAAAA\n",
       "AAAAEAlYAQAAAAAAACIBKwAAAAAAAEAkYAUAAAAAAACIBKwAAAAAAAAAkYAVAAAAAAAAIBKwAgAA\n",
       "AAAAAEQCVgAAAAAAAIBove0BAHBKNrHucG9ec34/9rmKnQIAAAAAwG7yBSsAAAAAAABAJGAFAAAA\n",
       "AAAAiASsAAAAAAAAAJGAFQAAAAAAACASsAIAAAAAAABEAlYAAAAAAACASMAKAAAAAAAAEAlYAQAA\n",
       "AAAAACIBKwAAAAAAAEAkYAUAAAAAAACIBKwAAAAAAAAAkYAVAAAAAAAAIFpvewAAnJLVptVdfDKv\n",
       "+eBBa2vvpNUBAAAAAMCO8gUrAAAAAAAAQEaIBn0AACAASURBVCRgBQAAAAAAAIgErAAAAAAAAACR\n",
       "gBUAAAAAAAAgErACAAAAAAAARAJWAAAAAAAAgEjACgAAAAAAABAJWAEAAAAAAAAiASsAAAAAAABA\n",
       "JGAFAAAAAAAAiASsAAAAAAAAAJGAFQAAAAAAACBab3sAAJySzarV/fzWvOYHb7a2Hp9tdQAAAAAA\n",
       "sKN8wQoAAAAAAAAQCVgBAAAAAAAAIgErAAAAAAAAQCRgBQAAAAAAAIgErAAAAAAAAACRgBUAAAAA\n",
       "AAAgErACAAAAAAAARAJWAAAAAAAAgEjACgAAAAAAABAJWAEAAAAAAAAiASsAAAAAAABAJGAFAAAA\n",
       "AAAAiNbbHgAAp2QT6w7DVvDC2djnKnYKAAAAAAC7yResAAAAAAAAAJGAFQAAAAAAACASsAIAAAAA\n",
       "AABEAlYAAAAAAACASMAKAAAAAAAAEAlYAQAAAAAAACIBKwAAAAAAAEAkYAUAAAAAAACIBKwAAAAA\n",
       "AAAAkYAVAAAAAAAAIBKwAgAAAAAAAEQCVgAAAAAAAIBove0BAHBKVrHu9t15zXuftLa+fRg7BQAA\n",
       "AACA3eQLVgAAAAAAAIBIwAoAAAAAAAAQCVgBAAAAAAAAIgErAAAAAAAAQCRgBQAAAAAAAIgErAAA\n",
       "AAAAAACRgBUAAAAAAAAgErACAAAAAAAARAJWAAAAAAAAgEjACgAAAAAAABAJWAEAAAAAAAAiASsA\n",
       "AAAAAABAtN72AADYspPVvOZc/H+cTWgLAAAAAAB2mC9YAQAAAAAAACIBKwAAAAAAAEAkYAUAAAAA\n",
       "AACIBKwAAAAAAAAAkYAVAAAAAAAAIBKwAgAAAAAAAEQCVgAAAAAAAIBIwAoAAAAAAAAQCVgBAAAA\n",
       "AAAAIgErAAAAAAAAQCRgBQAAAAAAAIgErAAAAAAAAADRetsDAOCUrGLd+cN5zf0nra29k9gpAAAA\n",
       "AADsJl+wAgAAAAAAAEQCVgAAAAAAAIBIwAoAAAAAAAAQCVgBAAAAAAAAIgErAAAAAAAAQCRgBQAA\n",
       "AAAAAIgErAAAAAAAAACRgBUAAAAAAAAgErACAAAAAAAARAJWAAAAAAAAgEjACgAAAAAAABAJWAEA\n",
       "AAAAAACi9bYHAMBp2bSyCwfzmjsPW1tnTlodAAAAAADsKF+wAgAAAAAAAEQCVgAAAAAAAIBIwAoA\n",
       "AAAAAAAQCVgBAAAAAAAAIgErAAAAAAAAQCRgBQAAAAAAAIgErAAAAAAAAACRgBUAAAAAAAAgErAC\n",
       "AAAAAAAARAJWAAAAAAAAgEjACgAAAAAAABAJWAEAAAAAAACi9bYHAMAp2axa3Ue35zV/9lZr6/HZ\n",
       "VgcAAAAAADvKF6wAAAAAAAAAkYAVAAAAAAAAIBKwAgAAAAAAAEQCVgAAAAAAAIBIwAoAAAAAAAAQ\n",
       "CVgBAAAAAAAAIgErAAAAAAAAQCRgBQAAAAAAAIgErAAAAAAAAACRgBUAAAAAAAAgErACAAAAAAAA\n",
       "RAJWAAAAAAAAgGi97QEAcEo2q1b34MK85tXrra2jvVYHAAAAAAA7yhesAAAAAAAAAJGAFQAAAAAA\n",
       "ACASsAIAAAAAAABEAlYAAAAAAACASMAKAAAAAAAAEAlYAQAAAAAAACIBKwAAAAAAAEAkYAUAAAAA\n",
       "AACIBKwAAAAAAAAAkYAVAAAAAAAAIBKwAgAAAAAAAEQCVgAAAAAAAIBove0BAHBKVptWd/3evOan\n",
       "n7a2/vio1QEAAAAAwI7yBSsAAAAAAABAJGAFAAAAAAAAiASsAAAAAAAAAJGAFQAAAAAAACASsAIA\n",
       "AAAAAABEAlYAAAAAAACASMAKAAAAAAAAEAlYAQAAAAAAACIBKwAAAAAAAEAkYAUAAAAAAACIBKwA\n",
       "AAAAAAAAkYAVAAAAAAAAIFpvewAAbNlB2Aounmttnfi/HQAAAAAAfrd5Ew4AAAAAAAAQCVgBAAAA\n",
       "AAAAIgErAAAAAAAAQCRgBQAAAAAAAIgErAAAAAAAAACRgBUAAAAAAAAgErACAAAAAAAARAJWAAAA\n",
       "AAAAgEjACgAAAAAAABAJWAEAAAAAAAAiASsAAAAAAABAJGAFAAAAAAAAiNbbHgAAp2SzanVPr8xr\n",
       "vns7trXX6gAAAAAAYEf5ghUAAAAAAAAgErACAAAAAAAARAJWAAAAAAAAgEjACgAAAAAAABAJWAEA\n",
       "AAAAAAAiASsAAAAAAABAJGAFAAAAAAAAiASsAAAAAAAAAJGAFQAAAAAAACASsAIAAAAAAABEAlYA\n",
       "AAAAAACASMAKAAAAAAAAEK23PQAATskm1t28PK9543Zr6ye2FQAAAAAAfrf5ghUAAAAAAAAgErAC\n",
       "AAAAAAAARAJWAAAAAAAAgEjACgAAAAAAABAJWAEAAAAAAAAiASsAAAAAAABAJGAFAAAAAAAAiASs\n",
       "AAAAAAAAAJGAFQAAAAAAACASsAIAAAAAAABEAlYAAAAAAACASMAKAAAAAAAAEK23PQAAtuzx03nN\n",
       "/cetrTObbzYWAAAAAAB4zvmCFQAAAAAAACASsAIAAAAAAABEAlYAAAAAAACASMAKAAAAAAAAEAlY\n",
       "AQAAAAAAACIBKwAAAAAAAEAkYAUAAAAAAACIBKwAAAAAAAAAkYAVAAAAAAAAIBKwAgAAAAAAAEQC\n",
       "VgAAAAAAAIBIwAoAAAAAAAAQrbc9AABOyWbV6m5cnpa8+frN1NQHH+61PgEAAAAAYEf5ghUAAAAA\n",
       "AAAgErACAAAAAAAARAJWAAAAAAAAgEjACgAAAAAAABAJWAEAAAAAAAAiASsAAAAAAABAJGAFAAAA\n",
       "AAAAiASsAAAAAAAAAJGAFQAAAAAAACASsAIAAAAAAABEAlYAAAAAAACASMAKAAAAAAAAEK23PQAA\n",
       "Tslq0+q+fDAt+eDOF62t/eNWBwAAAAAAO8oXrAAAAAAAAACRgBUAAAAAAAAgErACAAAAAAAARAJW\n",
       "AAAAAAAAgEjACgAAAAAAABAJWAEAAAAAAAAiASsAAAAAAABAJGAFAAAAAAAAiASsAAAAAAAAAJGA\n",
       "FQAAAAAAACASsAIAAAAAAABEAlYAAAAAAACAaL3tAQBwSjarVvet69OSH37vO6mpf31vv/UJAAAA\n",
       "AAA7yhesAAAAAAAAAJGAFQAAAAAAACASsAIAAAAAAABEAlYAAAAAAACASMAKAAAAAAAAEAlYAQAA\n",
       "AAAAACIBKwAAAAAAAEAkYAUAAAAAAACIBKwAAAAAAAAAkYAVAAAAAAAAIBKwAgAAAAAAAEQCVgAA\n",
       "AAAAAIBove0BALBle/P/tbm4H7eLzeobDgYAAAAAAJ5vvmAFAAAAAAAAiASsAAAAAAAAAJGAFQAA\n",
       "AAAAACASsAIAAAAAAABEAlYAAAAAAACASMAKAAAAAAAAEAlYAQAAAAAAACIBKwAAAAAAAEAkYAUA\n",
       "AAAAAACIBKwAAAAAAAAAkYAVAAAAAAAAIBKwAgAAAAAAAETrbQ8AgFOyd9LqPvzxtOQf/y5uF2/f\n",
       "b3UAAAAAALCjfMEKAAAAAAAAEAlYAQAAAAAAACIBKwAAAAAAAEAkYAUAAAAAAACIBKwAAAAAAAAA\n",
       "kYAVAAAAAAAAIBKwAgAAAAAAAEQCVgAAAAAAAIBIwAoAAAAAAAAQCVgBAAAAAAAAIgErAAAAAAAA\n",
       "QCRgBQAAAAAAAIjW4yhmrKtQs4m9bkJjq9BYaae2VWr+vzDWLdVfUK/DyUJjPxPH/qz/xue1v6Xu\n",
       "nfo7l8ZyU6Fwwcu+rKV+wwV/56Xuwepwr9Wd3JrX/Ombra3Pz81rjsK46qVa8r5/1srQF7ztU1tL\n",
       "Xs/aVl7bnlE7v41dnn/Pej1K3T3jOVMtee8sdiZo3S12bv2t+txRSz7rLDlFl1rfl/z9Fn1uWvCZ\n",
       "b8kL8ayfPYpnvc3V614uwzaeH4vU3YLvHJa0jXPPUsoZpJ5Tytxa9Hxbap7XufCM3xOkdpZp5rez\n",
       "0DuOJc9+i1rwd37Wnvn7p7q+nyzWVLLL6/uzfpdfLHmeqZZ89k1Npc2pNrZcU89jf4uuM8/6ISxY\n",
       "9Ayy4IVfNLMp/S3XXZkzvmAFAAAAAAAAiASsAAAAAAAAAJGAFQAAAAAAACASsAIAAAAAAABEAlYA\n",
       "AAAAAACASMAKAAAAAAAAEAlYAQAAAAAAACIBKwAAAAAAAEAkYAUAAAAAAACIBKwAAAAAAAAAkYAV\n",
       "AAAAAAAAIBKwAgAAAAAAAETr8S/fb5UvHMxrDvZbW796cV5z9dG85tG51t+te/OaG/dbW0/X85oz\n",
       "m3nN5cetv5OQgT+M1+FHr89r9o/mNW//qvV3++685vHZ1taD8/Oam+E3XB+3/j67Mq+5En/D6w/m\n",
       "Nb++Nq/58lLr7+KTeU25J8YY4+e35jXlt1mFeyJbtbIvL85rXv1qXlPWojHG2A9zq6x9Y4xx78K8\n",
       "pvzOT9r99a2//atpzZ2/+cvU1mr9T/Oi1z+f15wNa9EYY7wWfsN1bKvMraOwJte98Emouxj23tpW\n",
       "WbOuxPl+Ocy/eu+UffU3YU3+Otw3Y7R9p16H8vuUJWvvpPV3KVz3uy+0tj54aV5TzjPH8X/1ytjr\n",
       "2eiLy/Oach/WrelS+J3f+rS1VeZMOYPUdabcX/UceTfcYy88ndfUsZ8/nNfcD2eQMdpc/tYX85rf\n",
       "hLk3xhjnwr5TxjTGGI/D9Sp75oO4Nix5jizPauWe+DCcR8do5566N30Rzt3l2eNor/VX9oHS3xhj\n",
       "PArXYR36+8XN1l/ZV//g49bW1bAPlDla1r4x2vr3OK6Rr4QzaVkjvwrPMLXuMF6HspefC2tyXdf+\n",
       "8815zcGN1tbtO/Oaaw/nNeW9yxjtHUd5/h9jjMOwPpRnzF9fbf2Vc1Z9x/FpeH9RzsD1DFLmaHke\n",
       "GqOtWeXeKXNhjLZm7cV75zhc1PTMF3/n4iS+nyl/46dhLpfngDHamlWeMccY4+2wh70U5kM5W4zR\n",
       "/sa63l5Y6F1+fadXzln1Xi3PAkVZr8YY4144K9frXvaBcq3qs/bH1+c19bmpvOupGUpRfudyfhqj\n",
       "rUefhXWmrg1lTa7vesrzY1nX6t5ULHmOLOfkup/cD/dq3efK2vaz+bszX7ACAAAAAAAARAJWAAAA\n",
       "AAAAgEjACgAAAAAAABAJWAEAAAAAAAAiASsAAAAAAABAJGAFAAAAAAAAiASsAAAAAAAAAJGAFQAA\n",
       "AAAAACASsAIAAAAAAABEAlYAAAAAAACASMAKAAAAAAAAEAlYAQAAAAAAAKL1eOf1Vnnt0bzmwbnW\n",
       "1s1vz2ve/Wpe8+Kl1t8nn85r3vi8tfUo/I17J/OaW/daf8chA/8yXofLfzivOTic17wf/r4xxtiE\n",
       "mvsvtLY+vzKvKdfq7FHr74OX5jUv3W1trcP1unNjXvOLm62/G/fnNavW1Pjf1+Y1v7k8ryn3xBhj\n",
       "bMLAyrwaY4yr4Zp+/ct5zathLRpjjHPh3vlJWPvGGGN1dV5z+GBec7BO3V05tz+t+fc7X6S2xmu3\n",
       "5zUHYS5/ddD6u39nXnM+/DZVuaYPz7e27oX173r4nccY437os6xZL3/d+rsZ1pn949bWw7Cv/vL6\n",
       "vObjUDNGu+71OpTfp6y39VrdDGeHT6+1tv7ru/OasnYf7bX+ypy5FffVj8I6U+bVKm6G18LYr4Rz\n",
       "8hhjHIc5U+ZyPT89OTuvqefIBy/Oa1YP5zVHcY3cfzKvORPOh2OMcRLm8pP5Xpjm3hhjXAxjL+fD\n",
       "Mca4e2FecyHsmY/jtTob5ujvhWerMcb46uK85sUwZ/7nrdbflXCtPoznuhvhrPLf4fkxnsXG2bAP\n",
       "vPFZa6tc93I2ehT2iTHGuBb6ey8e4Mv+eyPM0Udh7RujrX9fh79vjDHOhHv6WpjvH4dnmDHa2ehx\n",
       "vA6HYZ5eejyvqevaW9+f1/zJG62tf35nXvPOl/Oadfz24Ouw/n07PjcdhH3n/NN5zXuvtP5uh3Nk\n",
       "fcfx7qvzmnLMqmeQw3DeXMWz0dWwV5wPv807cS8s72fqvXMU5unt8BvW37n8huU93BhjrMM+936Y\n",
       "yx/dav1dCmexc/Fc91G4D8u7xjvxnV75G8v1HGO5d/n186xXwnp7L9yDY4xxNYy9vEMs69UYYzwK\n",
       "z9FH8bq/FPaBcuap99ePvjOvuR6fBd4Pe0XJUOp753KvXg3npzHGOA57xfsvz2sex7VhHfo7rO/F\n",
       "wnW4GJ75fv+T1l9R3iWMMcbTcB3KmlXn+2dhLr9c97nwjBLe5fuCFQAAAAAAACASsAIAAAAAAABE\n",
       "AlYAAAAAAACASMAKAAAAAAAAEAlYAQAAAAAAACIBKwAAAAAAAEAkYAUAAAAAAACIBKwAAAAAAAAA\n",
       "kYAVAAAAAAAAIBKwAgAAAAAAAEQCVgAAAAAAAIBIwAoAAAAAAAAQrcZfX/mPVLl3Mq85WbVen+zP\n",
       "a/aP5zXHMR8+e7RMf2O0v3G1mdesw/UcY4zQVL4O91+Y15SxXzpo/ZXrfhznTPkby294plzQMcbT\n",
       "9bxmL86ZMq7S32GoGaPdq+W3GWOMx2fnNWn+xes+4nwoDvfmNecO5zV1bSj3zkFY+8YY4yiMvfzO\n",
       "5RqMMcbf/8W85offa22d+4d5zctfz2vOxDWy/IZL/itRmconscOy/pXfufa5DnO51IzR9rDaVtlX\n",
       "yxpZ7psxlrtWY/TfZ6asH7W/eh0ehfW9LMl1eS9jr2ejsrbV+7AoY78Qz0alrTLf6/lpE+rqObLM\n",
       "rXLOqs8LZR84jvO9TNTzYT+pZ7F03ow3T5nLZQ2pv/OS58jSZ+mvnEfHWHZ9L+tMOSMueQTej9d9\n",
       "qTmz5HW/+KS1VX6fMmfK2jfGGEdh7HU/SWfScN3rPp72wgX3iqXOPGOMce/CvKa8MxpjjEthbi15\n",
       "ry75bqn0WX7Ccm4Yo72/qGex2udM3ZvKHK3zvfRZ+qt7Ybl36rNAGVd65qv3cxhXXW+Xel9S33GU\n",
       "9bbO47LOlPlQz5FPw99YX50t+S6/KPOv7qv1ndDM0/oebsHnx7IP1DNpUfbMer4o46r7XFHmaH2X\n",
       "Xxws+P59qX18jPY3lnui7k1FXd9LXTkn15+5zOV6f5U/Mbw78wUrAAAAAAAAQCRgBQAAAAAAAIgE\n",
       "rAAAAAAAAACRgBUAAAAAAAAgErACAAAAAAAARAJWAAAAAAAAgEjACgAAAAAAABAJWAEAAAAAAAAi\n",
       "ASsA/F/79u9iRxWAYThzdxKMCNEimAQ0qEialCGF2GltZ2etlWVqBUv/i5Q2FpYKok1AbFUQIgSV\n",
       "SPy1kmxizN69tnbzggyzE56n/jhzuoV97wEAAAAAgEhgBQAAAAAAAIgEVgAAAAAAAIBIYAUAAAAA\n",
       "AACIhhPvnfh66UsAMINt/A3Nx1enN7debme99cn05tn9dhYAAAAAABxDXrACAAAAAAAARAIrAAAA\n",
       "AAAAQCSwAgAAAAAAAEQCKwAAAAAAAEAksAIAAAAAAABEAisAAAAAAABAJLACAAAAAAAARAIrAAAA\n",
       "AAAAQCSwAgAAAAAAAEQCKwAAAAAAAEAksAIAAAAAAABEAisAAAAAAABANJ4Ylr4CAIva7KY326P5\n",
       "7/Ff/jYBAAAAAHBMecEKAAAAAAAAEAmsAAAAAAAAAJHACgAAAAAAABAJrAAAAAAAAACRwAoAAAAA\n",
       "AAAQCawAAAAAAAAAkcAKAAAAAAAAEAmsAAAAAAAAAJHACgAAAAAAABAJrAAAAAAAAACRwAoAAAAA\n",
       "AAAQCawAAAAAAAAA0bj0BQCYydHQdjfPTW9eudTOuv9p2wEAAAAAwEp5wQoAAAAAAAAQCawAAAAA\n",
       "AAAAkcAKAAAAAAAAEAmsAAAAAAAAAJHACgAAAAAAABAJrAAAAAAAAACRwAoAAAAAAAAQCawAAAAA\n",
       "AAAAkcAKAAAAAAAAEAmsAAAAAAAAAJHACgAAAAAAABAJrAAAAAAAAADRuPQFAJjJEHdPPpze7B+0\n",
       "s54/ih8FAAAAAIB18oIVAAAAAAAAIBJYAQAAAAAAACKBFQAAAAAAACASWAEAAAAAAAAigRUAAAAA\n",
       "AAAgElgBAAAAAAAAIoEVAAAAAAAAIBJYAQAAAAAAACKBFQAAAAAAACASWAEAAAAAAAAigRUAAAAA\n",
       "AAAgElgBAAAAAAAAonHpCwCwsG34rc24187aDf/vLgAAAAAAcMx5wQoAAAAAAAAQCawAAAAAAAAA\n",
       "kcAKAAAAAAAAEAmsAAAAAAAAAJHACgAAAAAAABAJrAAAAAAAAACRwAoAAAAAAAAQCawAAAAAAAAA\n",
       "kcAKAAAAAAAAEAmsAAAAAAAAAJHACgAAAAAAABAJrAAAAAAAAADRuPQFAJjJbmi7v56a3lw82856\n",
       "tNd2AAAAAACwUl6wAgAAAAAAAEQCKwAAAAAAAEAksAIAAAAAAABEAisAAAAAAABAJLACAAAAAAAA\n",
       "RAIrAAAAAAAAQCSwAgAAAAAAAEQCKwAAAAAAAEAksAIAAAAAAABEAisAAAAAAABAJLACAAAAAAAA\n",
       "RAIrAAAAAAAAQDQufQEAZrLZtd2Lt6c3X37bznrjYdsBAAAAAMBKecEKAAAAAAAAEAmsAAAAAAAA\n",
       "AJHACgAAAAAAABAJrAAAAAAAAACRwAoAAAAAAAAQCawAAAAAAAAAkcAKAAAAAAAAEAmsAAAAAAAA\n",
       "AJHACgAAAAAAABAJrAAAAAAAAACRwAoAAAAAAAAQCawAAAAAAAAA0bj0BQCYy67Nnng0vbn9oJ21\n",
       "id8EAAAAAICV8oIVAAAAAAAAIBJYAQAAAAAAACKBFQAAAAAAACASWAEAAAAAAAAigRUAAAAAAAAg\n",
       "ElgBAAAAAAAAIoEVAAAAAAAAIBJYAQAAAAAAACKBFQAAAAAAACASWAEAAAAAAAAigRUAAAAAAAAg\n",
       "ElgBAAAAAAAAonHpCwAwk93Qdr+cmd5cutDOeujPCgAAAAAAjzcvWAEAAAAAAAAigRUAAAAAAAAg\n",
       "ElgBAAAAAAAAIoEVAAAAAAAAIBJYAQAAAAAAACKBFQAAAAAAACASWAEAAAAAAAAigRUAAAAAAAAg\n",
       "ElgBAAAAAAAAIoEVAAAAAAAAIBJYAQAAAAAAACKBFQAAAAAAACAal74AADMZdm13fn96893P7ayr\n",
       "h20HAAAAAAAr5QUrAAAAAAAAQCSwAgAAAAAAAEQCKwAAAAAAAEAksAIAAAAAAABEAisAAAAAAABA\n",
       "JLACAAAAAAAARAIrAAAAAAAAQCSwAgAAAAAAAEQCKwAAAAAAAEAksAIAAAAAAABEAisAAAAAAABA\n",
       "JLACAAAAAAAAROPSFwBgLkOb/RP+FJw+1c7axW8CAAAAAMBKecEKAAAAAAAAEAmsAAAAAAAAAJHA\n",
       "CgAAAAAAABAJrAAAAAAAAACRwAoAAAAAAAAQCawAAAAAAAAAkcAKAAAAAAAAEAmsAAAAAAAAAJHA\n",
       "CgAAAAAAABAJrAAAAAAAAACRwAoAAAAAAAAQCawAAAAAAAAA0bj0BQCYyXZou3uXpzfvvtbO+uaz\n",
       "6c25P9tZAAAAAABwDHnBCgAAAAAAABAJrAAAAAAAAACRwAoAAAAAAAAQCawAAAAAAAAAkcAKAAAA\n",
       "AAAAEAmsAAAAAAAAAJHACgAAAAAAABAJrAAAAAAAAACRwAoAAAAAAAAQCawAAAAAAAAAkcAKAAAA\n",
       "AAAAEAmsAAAAAAAAANG49AUAmMkQd7/dnd7c+rWddfIwfhQAAAAAANbJC1YAAAAAAACASGAFAAAA\n",
       "AAAAiARWAAAAAAAAgEhgBQAAAAAAAIgEVgAAAAAAAIBIYAUAAAAAAACIBFYAAAAAAACASGAFAAAA\n",
       "AAAAiARWAAAAAAAAgEhgBQAAAAAAAIgEVgAAAAAAAIBIYAUAAAAAAACIxqUvAMBcdm22OZje/PRH\n",
       "O+vCtu0AAAAAAGClvGAFAAAAAAAAiARWAAAAAAAAgEhgBQAAAAAAAIgEVgAAAAAAAIBIYAUAAAAA\n",
       "AACIBFYAAAAAAACASGAFAAAAAAAAiARWAAAAAAAAgEhgBQAAAAAAAIgEVgAAAAAAAIBIYAUAAAAA\n",
       "AACIBFYAAAAAAACAaFz6AgDMZLvXdq9emZx8+P6b6ahrH1yfHr1wJ50FAAAAAADHkResAAAAAAAA\n",
       "AJHACgAAAAAAABAJrAAAAAAAAACRwAoAAAAAAAAQCawAAAAAAAAAkcAKAAAAAAAAEAmsAAAAAAAA\n",
       "AJHACgAAAAAAABAJrAAAAAAAAACRwAoAAAAAAAAQCawAAAAAAAAAkcAKAAAAAAAAEI1LXwCAmeyG\n",
       "trt4dnLyzpWX0lHXHpxq3wQAAAAAgJXyghUAAAAAAAAgElgBAAAAAAAAIoEVAAAAAAAAIBJYAQAA\n",
       "AAAAACKBFQAAAAAAACASWAEAAAAAAAAigRUAAAAAAAAgElgBAAAAAAAAIoEVAAAAAAAAIBJYAQAA\n",
       "AAAAACKBFQAAAAAAACASWAEAAAAAAACicekLADCTzVHb3fh+cvL69S/aWU8ftB0AAAAAAKyUF6wA\n",
       "AAAAAAAAkcAKAAAAAAAAEAmsAAAAAAAAAJHACgAAAAAAABAJrAAAAAAAAACRwAoAAAAAAAAQCawA\n",
       "AAAAAAAAkcAKAAAAAAAAEAmsAAAAAAAAAJHACgAAAAAAABAJrAAAAAAAAACRwAoAAAAAAAAQjUtf\n",
       "AICZbI7a7oebk5OvPrrRzjp/v+0AAAAAAGClvGAFAAAAAAAAiARWAAAAAAAAgEhgBQAAAAAAAIgE\n",
       "VgAAAAAAAIBIYAUAAAAAAACIBFYAAAAAAACASGAFAAAAAAAAiARWAAAAAAAAgEhgBQAAAAAAAIgE\n",
       "VgAAAAAAAIBIYAUAAAAAAACIBFYAAAAAAACAaFz6AgDMZLNru8s/Tm8+32tnvf132wEAAAAAwEp5\n",
       "wQoAAAAAAAAQCawAAAAAAAAAkcAKAAAAAAAAEAmsAAAAAAAAAJHACgAAAAAAABAJrAAAAAAAAACR\n",
       "wAoAAAAAAAAQCawAAAAAAAAAkcAKAAAAAAAAEAmsAAAAAAAAAJHACgAAAAAAABAJrAAAAAAAAADR\n",
       "uPQFAJjJEHfP3JvePPd7O+vkNn4UpdIm8gAAAQ1JREFUAAAAAADWyQtWAAAAAAAAgEhgBQAAAAAA\n",
       "AIgEVgAAAAAAAIBIYAUAAAAAAACIBFYAAAAAAACASGAFAAAAAAAAiARWAAAAAAAAgEhgBQAAAAAA\n",
       "AIgEVgAAAAAAAIBIYAUAAAAAAACIBFYAAAAAAACASGAFAAAAAAAAiMalLwDATHZxd/f09ObOmXbW\n",
       "od/tAAAAAADwePOfcAAAAAAAAIBIYAUAAAAAAACIBFYAAAAAAACASGAFAAAAAAAAiARWAAAAAAAA\n",
       "gEhgBQAAAAAAAIgEVgAAAAAAAIBIYAUAAAAAAACIBFYAAAAAAACASGAFAAAAAAAAiARWAAAAAAAA\n",
       "gEhgBQAAAAAAAIj+BaUJAXxg075AAAAAAElFTkSuQmCC\n",
       "\" transform=\"translate(232, 123)\"/>\n",
       "</g>\n",
       "<defs>\n",
       "  <clipPath id=\"clip273\">\n",
       "    <rect x=\"2160\" y=\"123\" width=\"73\" height=\"1301\"/>\n",
       "  </clipPath>\n",
       "</defs>\n",
       "<g clip-path=\"url(#clip273)\">\n",
       "<image width=\"72\" height=\"1300\" xlink:href=\"data:image/png;base64,\n",
       "iVBORw0KGgoAAAANSUhEUgAAAEgAAAUUCAYAAAB8mVRsAAALKElEQVR4nO3dwY3bQBBFwZHQ+Ucs\n",
       "khvB9jtKh6oIjIcPejyi5NfzPM/hX+9v/wF+nUBBoCBQECjM5/aX2MaCgkBBoCBQmMtDemVBQaAg\n",
       "UBAozO06aGVBQaAgUBAozOe+v/1n+GkWFAQKAgWBwrjt2FlQECgIFAQKc7nuWFlQECgIFAQKPjgM\n",
       "FhQECgIFgcJ8nKRXFhQECgIFgcLcTtIrCwoCBYGCQMGddLCgIFAQKAgU5vIK3sqCgkBBoCBQmMtB\n",
       "emVBQaAgUBAoCBS8/hIsKAgUBAoCBZf2wYKCQEGgIFBwkg4WFAQKAgWBgpN0sKAgUBAoCBScpIMF\n",
       "BYGCQEGg4CQdLCgIFAQKAgUn6WBBQaAgUBAoOEkHCwoCBYGCQMFJOlhQECgIFAQK/uuaYEFBoCBQ\n",
       "ECj4r2uCBQWBgkBBoOBOOlhQECgIFAQK7qSDBQWBgkBBoCBQ8E+NYEFBoCBQECj4p0awoCBQECgI\n",
       "FObjIb2yoCBQECgIFOZ6vKO4saAgUBAoCBS8oxgsKAgUBAoCBXfSwYKCQEGgIFDwdkewoCBQECgI\n",
       "FJykgwUFgYJAQaDgJB0sKAgUBAoCBSfpYEFBoCBQECh4TzpYUBAoCBQECt6TDhYUBAoCBYHC+L3t\n",
       "nQUFgYJAQaAgUPDJarCgIFAQKAgU5uMhvbKgIFAQKAgU5vbJ6sqCgkBBoCBQ8MlqsKAgUBAoCBTm\n",
       "8oxeWVAQKAgUBAr+v/lgQUGgIFAQKMzlSnplQUGgIFAQKMzt7Y6VBQWBgkBBoOB788GCgkBBoCBQ\n",
       "8AtUwYKCQEGgIFBw3REsKAgUBAoCBV8LDxYUBAoCBYGC645gQUGgIFAQKAgUvEgeLCgIFAQKAgUv\n",
       "kgcLCgIFgYJAYS4n6ZUFBYGCQEGg4CQdLCgIFAQKAgXvKAYLCgIFgYJAwesvwYKCQEGgIFDwInmw\n",
       "oCBQECgIFJykgwUFgYJAQaDgF6iCBQWBgkBBoOC6I1hQECgIFAQK3pMOFhQECgIFgYL3pIMFBYGC\n",
       "QEGg4D3pYEFBoCBQECgIFLz+EiwoCBQECgIFr78ECwoCBYGCQMF9ULCgIFAQKAgUnKSDBQWBgkBB\n",
       "oOBF8mBBQaAgUBAoeJE8WFAQKAgUBApeJA8WFAQKAgWBwlyPk/TGgoJAQaAgUPCedLCgIFAQKAgU\n",
       "xjN6Z0FBoCBQECg4SQcLCgIFgYJAwXvSwYKCQEGgIFAQKHiRPFhQECgIFAQKHtLBgoJAQaAgUHBp\n",
       "HywoCBQECgIFD+lgQUGgIFAQKPiZwGBBQaAgUBAouJMOFhQECgIFgYLrjmBBQaAgUBAoOEkHCwoC\n",
       "BYGCQMFJOlhQECgIFAQKczykVxYUBAoCBYHCHL/lurKgIFAQKAgU5nhGrywoCBQECgKFOT44XFlQ\n",
       "ECgIFAQKAgV/iwULCgIFgYJAwSerwYKCQEGgIFBwkg4WFAQKAgWBgpN0sKAgUBAoCBQ8pIMFBYGC\n",
       "QEGg4LojWFAQKAgUBAoe0sGCgkBBoCBQcN0RLCgIFAQKAgUP6WBBQaAgUBAouO4IFhQECgIFgYKH\n",
       "dLCgIFAQKAgUXHcECwoCBYGCQMFDOlhQECgIFAQKAgX3QcGCgkBBoCBQmHP7SfKNBQWBgkBBoDDH\n",
       "QXplQUGgIFAQKLjuCBYUBAoCBYGCT1aDBQWBgkBBoOAkHSwoCBQECgIFJ+lgQUGgIFAQKHhIBwsK\n",
       "AgWBgkDBdUewoCBQECgIFJykgwUFgYJAQaDgJB0sKAgUBAoCBQ/pYEFBoCBQECi47ggWFAQKAgWB\n",
       "gkDBj5sECwoCBYGCQMF9ULCgIFAQKAgU5jhIrywoCBQECgIFJ+lgQUGgIFAQKLiTDhYUBAoCBYGC\n",
       "H9wOFhQECgIFgYKTdLCgIFAQKAgUnKSDBQWBgkBBoODbPsGCgkBBoCBQ8HZHsKAgUBAoCBScpIMF\n",
       "BYGCQEGg4CQdLCgIFAQKAgUP6WBBQaAgUBAoCBTcBwULCgIFgYJAwUM6WFAQKAgUBArug4IFBYGC\n",
       "QEGg4CuZwYKCQEGgIFDwlcxgQUGgIFAQKLjuCBYUBAoCBYGCDw6DBQWBgkBBoOAkHSwoCBQECgIF\n",
       "HxwGCwoCBYGCQMF1R7CgIFAQKAgUvN0RLCgIFAQKAgUn6WBBQaAgUBAoCBR8shosKAgUBAoCBf/U\n",
       "CBYUBAoCBYGCk3SwoCBQECgIFDykgwUFgYJAQaDguiNYUBAoCBQECh7SwYKCQEGgIFBw3REsKAgU\n",
       "BAoCBd+bDxYUBAoCBYGCr2QGCwoCBYGCQMF1R7CgIFAQKAgUfHAYLCgIFAQKAgUn6WBBQaAgUBAo\n",
       "OEkHCwoCBYGCQEGg4G+xYEFBoCBQECi4DwoWFAQKAgWBghfJgwUFgYJAQaDgRfJgQUGgIFAQKLiT\n",
       "DhYUBAoCBYGCO+lgQUGgIFAQKHhIBwsKAgWBgkDBdUewoCBQECgIFDykgwUFgYJAQaDguiNYUBAo\n",
       "CBQECt6TDhYUBAoCBYGC96SDBQWBgkBBoOC6I1hQECgIFAQKAgWfrAYLCgIFgYJAwT81ggUFgYJA\n",
       "QaDgJB0sKAgUBAoCBSfpYEFBoCBQECjMeXlIbywoCBQECgIFD+lgQUGgIFAQKMx5e0hvLCgIFAQK\n",
       "AgUP6WBBQaAgUBAozHn53vzGgoJAQaAgUJjz+vYf4bdZUBAoCBQECq47ggUFgYJAQaDgIR0sKAgU\n",
       "BAoCBa/gBQsKAgWBgkBBoOCfGsGCgkBBoCBQ8PpLsKAgUBAoCBRGop08QaAgUBAoOEkHCwoCBYGC\n",
       "QMFJOsgTBAoCBYGC11+CBQWBgkBBoDDn7bpjY0FBoCBQECj43nywoCBQECgIFFx3BAsKAgWBgkDB\n",
       "l1mCBQWBgkBBoOAhHSwoCBQECgIF1x3BgoJAQaAgUPB2R7CgIFAQKAgUBApefwkWFAQKAgWBgu/N\n",
       "BwsKAgWBgkDB9+aDPEGgIFAQKPhkNVhQECgIFAQK3lEMFhQECgIFgYKTdLCgIFAQKAgUnKSDBQWB\n",
       "gkBBoOAkHSwoCBQECgIFJ+lgQUGgIFAQKHhIBwsKAgWBgkDBl1mCBQWBgkBBoOBr4cGCgkBBoCBQ\n",
       "ECi4DwoWFAQKAgWBgtdfggUFgYJAQaDgJB0sKAgUBAoCBSfpYEFBoCBQECg4SQcLCgIFgYJAwUM6\n",
       "WFAQKAgUBAquO4IFBYGCQEGg4CQdLCgIFAQKAgUn6WBBQaAgUBAoeEgHCwoCBYGCQGHO24+bbCwo\n",
       "CBQECgIF/1NvkCcIFAQKAgXXHcGCgkBBoCBQECh4/SVYUBAoCBQECv6pESwoCBQECgIFD+lgQUGg\n",
       "IFAQKLjuCBYUBAoCBYGCk3SwoCBQECgIFJykgwUFgYJAQaDgIR0sKAgUBAoCBdcdwYKCQEGgIFBw\n",
       "kg4WFAQKAgWBgpN0sKAgUBAoCBScpIMFBYGCQEGg4CQdLCgIFAQKAgW/5RosKAgUBAoCBYHCnNe3\n",
       "/wi/zYKCQEGgIFBwaR8sKAgUBAoCBZf2wYKCQEGgIFBwkg4WFAQKAgWBwpyXT1Y3FhQECgIFgYKT\n",
       "dLCgIFAQKAgUvN0RLCgIFAQKAgUn6WBBQaAgUBAoeLsjWFAQKAgUBApO0sGCgkBBoCBQcJIOFhQE\n",
       "CgIFgYIfNwkWFAQKAgWBgrc7ggUFgYJAQaAgUHBpHywoCBQECgIFX8kMFhQECgIFgYL7oGBBQaAg\n",
       "UBAouO4IFhQECgIFgYKHdLCgIFAQKAgUvEgeLCgIFAQKAgUvkgcLCgIFgYJAwQeHwYKCQEGgIFBw\n",
       "Jx0sKAgUBAoCBXfSwYKCQEGgIFBwkg4WFAQKAgWBgpN0sKAgUBAoCBT+ANMu6LN7Pd+XAAAAAElF\n",
       "TkSuQmCC\n",
       "\" transform=\"translate(2161, 123)\"/>\n",
       "</g>\n",
       "<path clip-path=\"url(#clip270)\" d=\"M2280.7 1405.35 Q2277.09 1405.35 2275.26 1408.91 Q2273.45 1412.46 2273.45 1419.59 Q2273.45 1426.69 2275.26 1430.26 Q2277.09 1433.8 2280.7 1433.8 Q2284.33 1433.8 2286.14 1430.26 Q2287.97 1426.69 2287.97 1419.59 Q2287.97 1412.46 2286.14 1408.91 Q2284.33 1405.35 2280.7 1405.35 M2280.7 1401.65 Q2286.51 1401.65 2289.57 1406.25 Q2292.64 1410.84 2292.64 1419.59 Q2292.64 1428.31 2289.57 1432.92 Q2286.51 1437.5 2280.7 1437.5 Q2274.89 1437.5 2271.81 1432.92 Q2268.76 1428.31 2268.76 1419.59 Q2268.76 1410.84 2271.81 1406.25 Q2274.89 1401.65 2280.7 1401.65 Z\" fill=\"#000000\" fill-rule=\"evenodd\" fill-opacity=\"1\" /><path clip-path=\"url(#clip270)\" d=\"M2280.7 1158.72 Q2277.09 1158.72 2275.26 1162.28 Q2273.45 1165.82 2273.45 1172.95 Q2273.45 1180.06 2275.26 1183.62 Q2277.09 1187.17 2280.7 1187.17 Q2284.33 1187.17 2286.14 1183.62 Q2287.97 1180.06 2287.97 1172.95 Q2287.97 1165.82 2286.14 1162.28 Q2284.33 1158.72 2280.7 1158.72 M2280.7 1155.01 Q2286.51 1155.01 2289.57 1159.62 Q2292.64 1164.2 2292.64 1172.95 Q2292.64 1181.68 2289.57 1186.29 Q2286.51 1190.87 2280.7 1190.87 Q2274.89 1190.87 2271.81 1186.29 Q2268.76 1181.68 2268.76 1172.95 Q2268.76 1164.2 2271.81 1159.62 Q2274.89 1155.01 2280.7 1155.01 Z\" fill=\"#000000\" fill-rule=\"evenodd\" fill-opacity=\"1\" /><path clip-path=\"url(#clip270)\" d=\"M2300.86 1184.32 L2305.75 1184.32 L2305.75 1190.2 L2300.86 1190.2 L2300.86 1184.32 Z\" fill=\"#000000\" fill-rule=\"evenodd\" fill-opacity=\"1\" /><path clip-path=\"url(#clip270)\" d=\"M2325.93 1158.72 Q2322.32 1158.72 2320.49 1162.28 Q2318.69 1165.82 2318.69 1172.95 Q2318.69 1180.06 2320.49 1183.62 Q2322.32 1187.17 2325.93 1187.17 Q2329.57 1187.17 2331.37 1183.62 Q2333.2 1180.06 2333.2 1172.95 Q2333.2 1165.82 2331.37 1162.28 Q2329.57 1158.72 2325.93 1158.72 M2325.93 1155.01 Q2331.74 1155.01 2334.8 1159.62 Q2337.88 1164.2 2337.88 1172.95 Q2337.88 1181.68 2334.8 1186.29 Q2331.74 1190.87 2325.93 1190.87 Q2320.12 1190.87 2317.04 1186.29 Q2313.99 1181.68 2313.99 1172.95 Q2313.99 1164.2 2317.04 1159.62 Q2320.12 1155.01 2325.93 1155.01 Z\" fill=\"#000000\" fill-rule=\"evenodd\" fill-opacity=\"1\" /><path clip-path=\"url(#clip270)\" d=\"M2356.09 1158.72 Q2352.48 1158.72 2350.65 1162.28 Q2348.85 1165.82 2348.85 1172.95 Q2348.85 1180.06 2350.65 1183.62 Q2352.48 1187.17 2356.09 1187.17 Q2359.73 1187.17 2361.53 1183.62 Q2363.36 1180.06 2363.36 1172.95 Q2363.36 1165.82 2361.53 1162.28 Q2359.73 1158.72 2356.09 1158.72 M2356.09 1155.01 Q2361.9 1155.01 2364.96 1159.62 Q2368.04 1164.2 2368.04 1172.95 Q2368.04 1181.68 2364.96 1186.29 Q2361.9 1190.87 2356.09 1190.87 Q2350.28 1190.87 2347.2 1186.29 Q2344.15 1181.68 2344.15 1172.95 Q2344.15 1164.2 2347.2 1159.62 Q2350.28 1155.01 2356.09 1155.01 Z\" fill=\"#000000\" fill-rule=\"evenodd\" fill-opacity=\"1\" /><path clip-path=\"url(#clip270)\" d=\"M2377.07 1186.26 L2384.7 1186.26 L2384.7 1159.9 L2376.39 1161.56 L2376.39 1157.31 L2384.66 1155.64 L2389.33 1155.64 L2389.33 1186.26 L2396.97 1186.26 L2396.97 1190.2 L2377.07 1190.2 L2377.07 1186.26 Z\" fill=\"#000000\" fill-rule=\"evenodd\" fill-opacity=\"1\" /><path clip-path=\"url(#clip270)\" d=\"M2280.7 912.085 Q2277.09 912.085 2275.26 915.65 Q2273.45 919.192 2273.45 926.321 Q2273.45 933.428 2275.26 936.993 Q2277.09 940.534 2280.7 940.534 Q2284.33 940.534 2286.14 936.993 Q2287.97 933.428 2287.97 926.321 Q2287.97 919.192 2286.14 915.65 Q2284.33 912.085 2280.7 912.085 M2280.7 908.382 Q2286.51 908.382 2289.57 912.988 Q2292.64 917.572 2292.64 926.321 Q2292.64 935.048 2289.57 939.655 Q2286.51 944.238 2280.7 944.238 Q2274.89 944.238 2271.81 939.655 Q2268.76 935.048 2268.76 926.321 Q2268.76 917.572 2271.81 912.988 Q2274.89 908.382 2280.7 908.382 Z\" fill=\"#000000\" fill-rule=\"evenodd\" fill-opacity=\"1\" /><path clip-path=\"url(#clip270)\" d=\"M2300.86 937.687 L2305.75 937.687 L2305.75 943.567 L2300.86 943.567 L2300.86 937.687 Z\" fill=\"#000000\" fill-rule=\"evenodd\" fill-opacity=\"1\" /><path clip-path=\"url(#clip270)\" d=\"M2325.93 912.085 Q2322.32 912.085 2320.49 915.65 Q2318.69 919.192 2318.69 926.321 Q2318.69 933.428 2320.49 936.993 Q2322.32 940.534 2325.93 940.534 Q2329.57 940.534 2331.37 936.993 Q2333.2 933.428 2333.2 926.321 Q2333.2 919.192 2331.37 915.65 Q2329.57 912.085 2325.93 912.085 M2325.93 908.382 Q2331.74 908.382 2334.8 912.988 Q2337.88 917.572 2337.88 926.321 Q2337.88 935.048 2334.8 939.655 Q2331.74 944.238 2325.93 944.238 Q2320.12 944.238 2317.04 939.655 Q2313.99 935.048 2313.99 926.321 Q2313.99 917.572 2317.04 912.988 Q2320.12 908.382 2325.93 908.382 Z\" fill=\"#000000\" fill-rule=\"evenodd\" fill-opacity=\"1\" /><path clip-path=\"url(#clip270)\" d=\"M2356.09 912.085 Q2352.48 912.085 2350.65 915.65 Q2348.85 919.192 2348.85 926.321 Q2348.85 933.428 2350.65 936.993 Q2352.48 940.534 2356.09 940.534 Q2359.73 940.534 2361.53 936.993 Q2363.36 933.428 2363.36 926.321 Q2363.36 919.192 2361.53 915.65 Q2359.73 912.085 2356.09 912.085 M2356.09 908.382 Q2361.9 908.382 2364.96 912.988 Q2368.04 917.572 2368.04 926.321 Q2368.04 935.048 2364.96 939.655 Q2361.9 944.238 2356.09 944.238 Q2350.28 944.238 2347.2 939.655 Q2344.15 935.048 2344.15 926.321 Q2344.15 917.572 2347.2 912.988 Q2350.28 908.382 2356.09 908.382 Z\" fill=\"#000000\" fill-rule=\"evenodd\" fill-opacity=\"1\" /><path clip-path=\"url(#clip270)\" d=\"M2380.28 939.632 L2396.6 939.632 L2396.6 943.567 L2374.66 943.567 L2374.66 939.632 Q2377.32 936.877 2381.9 932.247 Q2386.51 927.595 2387.69 926.252 Q2389.94 923.729 2390.82 921.993 Q2391.72 920.234 2391.72 918.544 Q2391.72 915.789 2389.77 914.053 Q2387.85 912.317 2384.75 912.317 Q2382.55 912.317 2380.1 913.081 Q2377.67 913.845 2374.89 915.396 L2374.89 910.673 Q2377.71 909.539 2380.17 908.96 Q2382.62 908.382 2384.66 908.382 Q2390.03 908.382 2393.22 911.067 Q2396.42 913.752 2396.42 918.243 Q2396.42 920.372 2395.61 922.294 Q2394.82 924.192 2392.71 926.784 Q2392.13 927.456 2389.03 930.673 Q2385.93 933.868 2380.28 939.632 Z\" fill=\"#000000\" fill-rule=\"evenodd\" fill-opacity=\"1\" /><path clip-path=\"url(#clip270)\" d=\"M2280.7 665.453 Q2277.09 665.453 2275.26 669.018 Q2273.45 672.56 2273.45 679.689 Q2273.45 686.796 2275.26 690.361 Q2277.09 693.902 2280.7 693.902 Q2284.33 693.902 2286.14 690.361 Q2287.97 686.796 2287.97 679.689 Q2287.97 672.56 2286.14 669.018 Q2284.33 665.453 2280.7 665.453 M2280.7 661.75 Q2286.51 661.75 2289.57 666.356 Q2292.64 670.939 2292.64 679.689 Q2292.64 688.416 2289.57 693.023 Q2286.51 697.606 2280.7 697.606 Q2274.89 697.606 2271.81 693.023 Q2268.76 688.416 2268.76 679.689 Q2268.76 670.939 2271.81 666.356 Q2274.89 661.75 2280.7 661.75 Z\" fill=\"#000000\" fill-rule=\"evenodd\" fill-opacity=\"1\" /><path clip-path=\"url(#clip270)\" d=\"M2300.86 691.055 L2305.75 691.055 L2305.75 696.935 L2300.86 696.935 L2300.86 691.055 Z\" fill=\"#000000\" fill-rule=\"evenodd\" fill-opacity=\"1\" /><path clip-path=\"url(#clip270)\" d=\"M2325.93 665.453 Q2322.32 665.453 2320.49 669.018 Q2318.69 672.56 2318.69 679.689 Q2318.69 686.796 2320.49 690.361 Q2322.32 693.902 2325.93 693.902 Q2329.57 693.902 2331.37 690.361 Q2333.2 686.796 2333.2 679.689 Q2333.2 672.56 2331.37 669.018 Q2329.57 665.453 2325.93 665.453 M2325.93 661.75 Q2331.74 661.75 2334.8 666.356 Q2337.88 670.939 2337.88 679.689 Q2337.88 688.416 2334.8 693.023 Q2331.74 697.606 2325.93 697.606 Q2320.12 697.606 2317.04 693.023 Q2313.99 688.416 2313.99 679.689 Q2313.99 670.939 2317.04 666.356 Q2320.12 661.75 2325.93 661.75 Z\" fill=\"#000000\" fill-rule=\"evenodd\" fill-opacity=\"1\" /><path clip-path=\"url(#clip270)\" d=\"M2356.09 665.453 Q2352.48 665.453 2350.65 669.018 Q2348.85 672.56 2348.85 679.689 Q2348.85 686.796 2350.65 690.361 Q2352.48 693.902 2356.09 693.902 Q2359.73 693.902 2361.53 690.361 Q2363.36 686.796 2363.36 679.689 Q2363.36 672.56 2361.53 669.018 Q2359.73 665.453 2356.09 665.453 M2356.09 661.75 Q2361.9 661.75 2364.96 666.356 Q2368.04 670.939 2368.04 679.689 Q2368.04 688.416 2364.96 693.023 Q2361.9 697.606 2356.09 697.606 Q2350.28 697.606 2347.2 693.023 Q2344.15 688.416 2344.15 679.689 Q2344.15 670.939 2347.2 666.356 Q2350.28 661.75 2356.09 661.75 Z\" fill=\"#000000\" fill-rule=\"evenodd\" fill-opacity=\"1\" /><path clip-path=\"url(#clip270)\" d=\"M2390.42 678.3 Q2393.78 679.018 2395.65 681.287 Q2397.55 683.555 2397.55 686.888 Q2397.55 692.004 2394.03 694.805 Q2390.51 697.606 2384.03 697.606 Q2381.86 697.606 2379.54 697.166 Q2377.25 696.749 2374.8 695.893 L2374.8 691.379 Q2376.74 692.513 2379.06 693.092 Q2381.37 693.671 2383.89 693.671 Q2388.29 693.671 2390.58 691.935 Q2392.9 690.199 2392.9 686.888 Q2392.9 683.833 2390.75 682.12 Q2388.62 680.384 2384.8 680.384 L2380.77 680.384 L2380.77 676.541 L2384.98 676.541 Q2388.43 676.541 2390.26 675.175 Q2392.09 673.787 2392.09 671.194 Q2392.09 668.532 2390.19 667.12 Q2388.32 665.685 2384.8 665.685 Q2382.88 665.685 2380.68 666.101 Q2378.48 666.518 2375.84 667.398 L2375.84 663.231 Q2378.5 662.49 2380.82 662.12 Q2383.15 661.75 2385.21 661.75 Q2390.54 661.75 2393.64 664.18 Q2396.74 666.588 2396.74 670.708 Q2396.74 673.578 2395.1 675.569 Q2393.45 677.537 2390.42 678.3 Z\" fill=\"#000000\" fill-rule=\"evenodd\" fill-opacity=\"1\" /><path clip-path=\"url(#clip270)\" d=\"M2280.7 418.821 Q2277.09 418.821 2275.26 422.386 Q2273.45 425.928 2273.45 433.057 Q2273.45 440.164 2275.26 443.728 Q2277.09 447.27 2280.7 447.27 Q2284.33 447.27 2286.14 443.728 Q2287.97 440.164 2287.97 433.057 Q2287.97 425.928 2286.14 422.386 Q2284.33 418.821 2280.7 418.821 M2280.7 415.117 Q2286.51 415.117 2289.57 419.724 Q2292.64 424.307 2292.64 433.057 Q2292.64 441.784 2289.57 446.39 Q2286.51 450.974 2280.7 450.974 Q2274.89 450.974 2271.81 446.39 Q2268.76 441.784 2268.76 433.057 Q2268.76 424.307 2271.81 419.724 Q2274.89 415.117 2280.7 415.117 Z\" fill=\"#000000\" fill-rule=\"evenodd\" fill-opacity=\"1\" /><path clip-path=\"url(#clip270)\" d=\"M2300.86 444.423 L2305.75 444.423 L2305.75 450.302 L2300.86 450.302 L2300.86 444.423 Z\" fill=\"#000000\" fill-rule=\"evenodd\" fill-opacity=\"1\" /><path clip-path=\"url(#clip270)\" d=\"M2325.93 418.821 Q2322.32 418.821 2320.49 422.386 Q2318.69 425.928 2318.69 433.057 Q2318.69 440.164 2320.49 443.728 Q2322.32 447.27 2325.93 447.27 Q2329.57 447.27 2331.37 443.728 Q2333.2 440.164 2333.2 433.057 Q2333.2 425.928 2331.37 422.386 Q2329.57 418.821 2325.93 418.821 M2325.93 415.117 Q2331.74 415.117 2334.8 419.724 Q2337.88 424.307 2337.88 433.057 Q2337.88 441.784 2334.8 446.39 Q2331.74 450.974 2325.93 450.974 Q2320.12 450.974 2317.04 446.39 Q2313.99 441.784 2313.99 433.057 Q2313.99 424.307 2317.04 419.724 Q2320.12 415.117 2325.93 415.117 Z\" fill=\"#000000\" fill-rule=\"evenodd\" fill-opacity=\"1\" /><path clip-path=\"url(#clip270)\" d=\"M2356.09 418.821 Q2352.48 418.821 2350.65 422.386 Q2348.85 425.928 2348.85 433.057 Q2348.85 440.164 2350.65 443.728 Q2352.48 447.27 2356.09 447.27 Q2359.73 447.27 2361.53 443.728 Q2363.36 440.164 2363.36 433.057 Q2363.36 425.928 2361.53 422.386 Q2359.73 418.821 2356.09 418.821 M2356.09 415.117 Q2361.9 415.117 2364.96 419.724 Q2368.04 424.307 2368.04 433.057 Q2368.04 441.784 2364.96 446.39 Q2361.9 450.974 2356.09 450.974 Q2350.28 450.974 2347.2 446.39 Q2344.15 441.784 2344.15 433.057 Q2344.15 424.307 2347.2 419.724 Q2350.28 415.117 2356.09 415.117 Z\" fill=\"#000000\" fill-rule=\"evenodd\" fill-opacity=\"1\" /><path clip-path=\"url(#clip270)\" d=\"M2389.1 419.817 L2377.3 438.266 L2389.1 438.266 L2389.1 419.817 M2387.88 415.742 L2393.76 415.742 L2393.76 438.266 L2398.69 438.266 L2398.69 442.154 L2393.76 442.154 L2393.76 450.302 L2389.1 450.302 L2389.1 442.154 L2373.5 442.154 L2373.5 437.641 L2387.88 415.742 Z\" fill=\"#000000\" fill-rule=\"evenodd\" fill-opacity=\"1\" /><path clip-path=\"url(#clip270)\" d=\"M2280.7 172.189 Q2277.09 172.189 2275.26 175.754 Q2273.45 179.295 2273.45 186.425 Q2273.45 193.532 2275.26 197.096 Q2277.09 200.638 2280.7 200.638 Q2284.33 200.638 2286.14 197.096 Q2287.97 193.532 2287.97 186.425 Q2287.97 179.295 2286.14 175.754 Q2284.33 172.189 2280.7 172.189 M2280.7 168.485 Q2286.51 168.485 2289.57 173.092 Q2292.64 177.675 2292.64 186.425 Q2292.64 195.152 2289.57 199.758 Q2286.51 204.342 2280.7 204.342 Q2274.89 204.342 2271.81 199.758 Q2268.76 195.152 2268.76 186.425 Q2268.76 177.675 2271.81 173.092 Q2274.89 168.485 2280.7 168.485 Z\" fill=\"#000000\" fill-rule=\"evenodd\" fill-opacity=\"1\" /><path clip-path=\"url(#clip270)\" d=\"M2300.86 197.791 L2305.75 197.791 L2305.75 203.67 L2300.86 203.67 L2300.86 197.791 Z\" fill=\"#000000\" fill-rule=\"evenodd\" fill-opacity=\"1\" /><path clip-path=\"url(#clip270)\" d=\"M2325.93 172.189 Q2322.32 172.189 2320.49 175.754 Q2318.69 179.295 2318.69 186.425 Q2318.69 193.532 2320.49 197.096 Q2322.32 200.638 2325.93 200.638 Q2329.57 200.638 2331.37 197.096 Q2333.2 193.532 2333.2 186.425 Q2333.2 179.295 2331.37 175.754 Q2329.57 172.189 2325.93 172.189 M2325.93 168.485 Q2331.74 168.485 2334.8 173.092 Q2337.88 177.675 2337.88 186.425 Q2337.88 195.152 2334.8 199.758 Q2331.74 204.342 2325.93 204.342 Q2320.12 204.342 2317.04 199.758 Q2313.99 195.152 2313.99 186.425 Q2313.99 177.675 2317.04 173.092 Q2320.12 168.485 2325.93 168.485 Z\" fill=\"#000000\" fill-rule=\"evenodd\" fill-opacity=\"1\" /><path clip-path=\"url(#clip270)\" d=\"M2356.09 172.189 Q2352.48 172.189 2350.65 175.754 Q2348.85 179.295 2348.85 186.425 Q2348.85 193.532 2350.65 197.096 Q2352.48 200.638 2356.09 200.638 Q2359.73 200.638 2361.53 197.096 Q2363.36 193.532 2363.36 186.425 Q2363.36 179.295 2361.53 175.754 Q2359.73 172.189 2356.09 172.189 M2356.09 168.485 Q2361.9 168.485 2364.96 173.092 Q2368.04 177.675 2368.04 186.425 Q2368.04 195.152 2364.96 199.758 Q2361.9 204.342 2356.09 204.342 Q2350.28 204.342 2347.2 199.758 Q2344.15 195.152 2344.15 186.425 Q2344.15 177.675 2347.2 173.092 Q2350.28 168.485 2356.09 168.485 Z\" fill=\"#000000\" fill-rule=\"evenodd\" fill-opacity=\"1\" /><path clip-path=\"url(#clip270)\" d=\"M2376.3 169.11 L2394.66 169.11 L2394.66 173.046 L2380.58 173.046 L2380.58 181.518 Q2381.6 181.17 2382.62 181.008 Q2383.64 180.823 2384.66 180.823 Q2390.45 180.823 2393.82 183.995 Q2397.2 187.166 2397.2 192.582 Q2397.2 198.161 2393.73 201.263 Q2390.26 204.342 2383.94 204.342 Q2381.76 204.342 2379.5 203.971 Q2377.25 203.601 2374.84 202.86 L2374.84 198.161 Q2376.93 199.295 2379.15 199.851 Q2381.37 200.406 2383.85 200.406 Q2387.85 200.406 2390.19 198.3 Q2392.53 196.194 2392.53 192.582 Q2392.53 188.971 2390.19 186.865 Q2387.85 184.758 2383.85 184.758 Q2381.97 184.758 2380.1 185.175 Q2378.25 185.592 2376.3 186.471 L2376.3 169.11 Z\" fill=\"#000000\" fill-rule=\"evenodd\" fill-opacity=\"1\" /><polyline clip-path=\"url(#clip270)\" style=\"stroke:#000000; stroke-linecap:round; stroke-linejoin:round; stroke-width:4; stroke-opacity:1; fill:none\" points=\"\n",
       "  2232.76,1423.18 2232.76,1423.18 2256.76,1423.18 2232.76,1423.18 2232.76,1176.55 2256.76,1176.55 2232.76,1176.55 2232.76,929.916 2256.76,929.916 2232.76,929.916 \n",
       "  2232.76,683.283 2256.76,683.283 2232.76,683.283 2232.76,436.651 2256.76,436.651 2232.76,436.651 2232.76,190.019 2256.76,190.019 2232.76,190.019 2232.76,123.472 \n",
       "  \n",
       "  \"/>\n",
       "</svg>\n"
      ]
     },
     "metadata": {},
     "output_type": "display_data"
    }
   ],
   "source": [
    "heatmap(n2,\n",
    "        #c = cgrad([:blue,:white,:red]),\n",
    "        fc = :ocean,\n",
    "        linealpha = 0.8, fillalpha=0.8,\n",
    "        #yflip = true,\n",
    "        xlabel = \"x\", ylabel = \"y\",\n",
    "        title = \"density\"\n",
    "    )"
   ]
  },
  {
   "cell_type": "code",
   "execution_count": null,
   "metadata": {},
   "outputs": [],
   "source": [
    "N = 2000\n",
    "J = (20,30)\n",
    "Box = (0.0,10.0,0.0,20.0)\n",
    "order = 5\n",
    "par_grid = (N, Box, J, order)\n",
    "n = zeros(J[1],J[2])\n",
    "u = rand(4N)*10\n",
    "#u = [3.1,3.2,0.0,0.0,6.4,7.5,0.0,0.0]\n",
    "j = [0,0]\n",
    "y = [0.0,0.0]\n",
    "\n",
    "get_density_2D!(u,n,par_grid,0);"
   ]
  },
  {
   "cell_type": "code",
   "execution_count": null,
   "metadata": {},
   "outputs": [],
   "source": [
    "heatmap(n',\n",
    "        #c = cgrad([:blue,:white,:red]),\n",
    "        fc = :ocean,\n",
    "        linealpha = 0.8, fillalpha=0.8,\n",
    "        #yflip = true,\n",
    "        xlabel = \"x\", ylabel = \"y\",\n",
    "        title = \"density\"\n",
    "    )"
   ]
  },
  {
   "attachments": {},
   "cell_type": "markdown",
   "metadata": {},
   "source": [
    "## Test Volume and differentials\n",
    "\n",
    "\n"
   ]
  },
  {
   "cell_type": "code",
   "execution_count": null,
   "metadata": {},
   "outputs": [],
   "source": [
    "\n",
    "Box = (0.0,10, 0.0, 20, -10.0, 10)\n",
    "J = (100,100,200)\n",
    "\n",
    "@show volume(Box)\n",
    "@show differentials(Box,J)"
   ]
  },
  {
   "attachments": {},
   "cell_type": "markdown",
   "metadata": {},
   "source": [
    "### Test make_periodic function (OK)"
   ]
  },
  {
   "cell_type": "code",
   "execution_count": null,
   "metadata": {},
   "outputs": [],
   "source": [
    "include(\"../aux_functions.jl\")\n",
    "r = [2.,6.1,4.,5.,6.3,7.2,8.,9.2]\n",
    "Box = (1.,2.2,3.,5.)\n",
    "make_periodic!(r,Box)"
   ]
  },
  {
   "cell_type": "code",
   "execution_count": null,
   "metadata": {},
   "outputs": [],
   "source": [
    "r"
   ]
  },
  {
   "cell_type": "code",
   "execution_count": null,
   "metadata": {},
   "outputs": [],
   "source": [
    "A = [[0,0] for i in 1:10, j in 1:8]"
   ]
  },
  {
   "cell_type": "code",
   "execution_count": null,
   "metadata": {},
   "outputs": [],
   "source": [
    "A[1,2]"
   ]
  },
  {
   "attachments": {},
   "cell_type": "markdown",
   "metadata": {},
   "source": [
    "## Test Poisson equation"
   ]
  },
  {
   "cell_type": "code",
   "execution_count": null,
   "metadata": {},
   "outputs": [],
   "source": [
    "include(\"../aux_functions.jl\")\n",
    "J = (100,100)\n",
    "Box = (0,1,0,2)\n",
    "ϕ = zeros(J)\n",
    "\n",
    "n = [0.1*i*j for i in 1:J[1], j in 1:J[2]]\n",
    "\n",
    "get_ϕ_D!(ϕ, n, Box)\n"
   ]
  },
  {
   "attachments": {},
   "cell_type": "markdown",
   "metadata": {},
   "source": [
    "## Field tests"
   ]
  },
  {
   "cell_type": "code",
   "execution_count": null,
   "metadata": {},
   "outputs": [],
   "source": [
    "N = 5\n",
    "D=2\n",
    "par_dis = [2D*N]\n",
    "J = (12,8)\n",
    "\n",
    "E = [[i,j] for i in 1:J[1], j in 1:J[2] ]\n",
    "B = [ i*j for i in 1:J[1], j in 1:J[2] ]\n",
    "\n",
    "E\n",
    "#E[1,2]\n",
    "#getindex.(E,1)\n"
   ]
  },
  {
   "cell_type": "code",
   "execution_count": null,
   "metadata": {},
   "outputs": [],
   "source": [
    "Me = J[1]*J[2]\n",
    "EL = zeros(2Me)\n",
    "for i in 1:J[1]\n",
    "    for j in 1:J[2]\n",
    "        l = 2*(j-1)*J[1] + 2*i -1\n",
    "            EL[l] = E[i,j][1]\n",
    "            EL[l+1] = E[i,j][2]\n",
    "    end\n",
    "end\n",
    "EL\n",
    "#E_v = reshape(EL,D,J[2],J[1])\n",
    "#E_v[1,:,:]"
   ]
  },
  {
   "cell_type": "code",
   "execution_count": null,
   "metadata": {},
   "outputs": [],
   "source": [
    "Em = reshape(EL,D,J[1]*J[2])'\n",
    "Emm = reshape(Em,(J...,D))"
   ]
  },
  {
   "cell_type": "code",
   "execution_count": null,
   "metadata": {},
   "outputs": [],
   "source": [
    "getindex.(E,2) - Emm[:,:,2]"
   ]
  },
  {
   "cell_type": "code",
   "execution_count": null,
   "metadata": {},
   "outputs": [],
   "source": [
    "Emm[2,3,:]"
   ]
  },
  {
   "cell_type": "code",
   "execution_count": null,
   "metadata": {},
   "outputs": [],
   "source": []
  },
  {
   "cell_type": "code",
   "execution_count": null,
   "metadata": {},
   "outputs": [],
   "source": [
    "reshape(EE,2,100,100)[1,:,:] - 5*reshape(EE,2,100,100)[2,:,:]"
   ]
  },
  {
   "attachments": {},
   "cell_type": "markdown",
   "metadata": {},
   "source": [
    "8.361 μs (2 allocations: 96 bytes) (i,j)\n",
    "\n",
    "7.730 μs (2 allocations: 96 bytes) (j,i)\n",
    "\n",
    "18.307 μs (6 allocations: 156.44 KiB) (sin los for)"
   ]
  }
 ],
 "metadata": {
  "kernelspec": {
   "display_name": "Julia 1.8.1",
   "language": "julia",
   "name": "julia-1.8"
  },
  "language_info": {
   "file_extension": ".jl",
   "mimetype": "application/julia",
   "name": "julia",
   "version": "1.8.1"
  },
  "orig_nbformat": 4
 },
 "nbformat": 4,
 "nbformat_minor": 2
}
