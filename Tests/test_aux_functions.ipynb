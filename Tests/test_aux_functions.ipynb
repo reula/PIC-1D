{
 "cells": [
  {
   "cell_type": "code",
   "execution_count": 3,
   "metadata": {},
   "outputs": [],
   "source": [
    "#using DifferentialEquations\n",
    "using Plots\n",
    "using Statistics\n",
    "using FFTW\n",
    "FFTW.set_provider!(\"mkl\")\n",
    "#import Pkg; Pkg.add(\"FileIO\")\n",
    "using FileIO\n",
    "using JLD2\n",
    "using Base.Threads\n",
    "using Distributions\n",
    "using LaTeXStrings\n",
    "using Printf\n",
    "using LsqFit"
   ]
  },
  {
   "cell_type": "code",
   "execution_count": 10,
   "metadata": {},
   "outputs": [
    {
     "data": {
      "text/plain": [
       "temperature_fit (generic function with 1 method)"
      ]
     },
     "execution_count": 10,
     "metadata": {},
     "output_type": "execute_result"
    }
   ],
   "source": [
    "include(\"../aux_functions.jl\")"
   ]
  },
  {
   "cell_type": "code",
   "execution_count": 17,
   "metadata": {},
   "outputs": [
    {
     "data": {
      "text/plain": [
       "(0.001, 2, 0.031415926535897934)"
      ]
     },
     "execution_count": 17,
     "metadata": {},
     "output_type": "execute_result"
    }
   ],
   "source": [
    "J = 200\n",
    "N = 8_000\n",
    "M_g = 11\n",
    "L = 200\n",
    "dx = L/J\n",
    "order = 5\n",
    "par_grid = (N, L, J, dx, order)\n",
    "v = rand(2N+J,M_g);\n",
    "κ = 2π/L\n",
    "\n",
    "t_i = 0.0\n",
    "t_f = 2.0\n",
    "M = 2001\n",
    "dt = (t_f - t_i)/(M_g - 1)\n",
    "par_evolv = (t_i, t_f, M, M_g, dt)\n",
    "\n",
    "θ = 0.001\n",
    "nm = 2\n",
    "par_f = (θ, nm, κ)"
   ]
  },
  {
   "cell_type": "code",
   "execution_count": 13,
   "metadata": {},
   "outputs": [
    {
     "data": {
      "text/plain": [
       "9.943231989738073e-24"
      ]
     },
     "execution_count": 13,
     "metadata": {},
     "output_type": "execute_result"
    }
   ],
   "source": [
    "n = zeros(J)\n",
    "ϕ = zeros(J)\n",
    "Tn = zeros(J, nthreads())\n",
    "par_density = (par_grid, Tn)\n",
    "E_f = zeros(J)\n",
    "get_density!(v[:,end], n, par_grid)\n",
    "get_ϕ!(ϕ, n .- 1.0, κ)\n",
    "get_E_from_ϕ!(ϕ,E_f,dx)\n",
    "E_f_t = zeros(J)\n",
    "get_density_threads!(v[:,end], n, par_density)\n",
    "get_ϕ!(ϕ, n .- 1.0, κ)\n",
    "get_E_from_ϕ!(ϕ,E_f_t,dx)\n",
    "(E_f - E_f_t)'*(E_f - E_f_t)"
   ]
  },
  {
   "cell_type": "code",
   "execution_count": 18,
   "metadata": {},
   "outputs": [
    {
     "name": "stdout",
     "output_type": "stream",
     "text": [
      "  0.374637 seconds (575.94 k allocations: 35.810 MiB, 65.83% compilation time)\n"
     ]
    }
   ],
   "source": [
    "@time Energy_K, Energy_E, EField_T, p_T, Q_T, S_T, T = get_averages(v,par_grid,par_evolv, par_f);\n"
   ]
  },
  {
   "cell_type": "code",
   "execution_count": 19,
   "metadata": {},
   "outputs": [
    {
     "name": "stdout",
     "output_type": "stream",
     "text": [
      "  0.260180 seconds (310.03 k allocations: 21.270 MiB, 78.89% compilation time)\n"
     ]
    }
   ],
   "source": [
    "@time Energy_K_t, Energy_E_t, EField_T_t, p_T_t, Q_T_t, S_T_t, T_t = get_averages_threads(v,par_grid,par_evolv, par_f);"
   ]
  },
  {
   "cell_type": "markdown",
   "metadata": {},
   "source": [
    "Testing v2p and p2v\n",
    "\n"
   ]
  },
  {
   "cell_type": "code",
   "execution_count": 11,
   "metadata": {},
   "outputs": [
    {
     "data": {
      "text/plain": [
       "10-element Vector{Float64}:\n",
       "  0.0\n",
       " -5.551115123125783e-17\n",
       "  0.0\n",
       " -5.551115123125783e-17\n",
       "  0.0\n",
       " -1.1102230246251565e-16\n",
       "  0.0\n",
       "  0.0\n",
       "  2.220446049250313e-16\n",
       " -1.1102230246251565e-16"
      ]
     },
     "execution_count": 11,
     "metadata": {},
     "output_type": "execute_result"
    }
   ],
   "source": [
    "p = rand(10)\n",
    "m=2\n",
    "v = p2v.(p;m=m)\n",
    "p - v2p.(v;m=m)"
   ]
  },
  {
   "cell_type": "code",
   "execution_count": 12,
   "metadata": {},
   "outputs": [
    {
     "data": {
      "text/plain": [
       "10-element Vector{Float64}:\n",
       "  0.0\n",
       "  0.0\n",
       " -1.1102230246251565e-16\n",
       " -5.551115123125783e-17\n",
       "  0.0\n",
       "  0.0\n",
       "  0.0\n",
       "  0.0\n",
       "  0.0\n",
       " -2.220446049250313e-16"
      ]
     },
     "execution_count": 12,
     "metadata": {},
     "output_type": "execute_result"
    }
   ],
   "source": [
    "v = p2v.(p)\n",
    "p - v2p.(v)"
   ]
  },
  {
   "cell_type": "code",
   "execution_count": null,
   "metadata": {},
   "outputs": [],
   "source": []
  }
 ],
 "metadata": {
  "kernelspec": {
   "display_name": "Julia 1.7.2",
   "language": "julia",
   "name": "julia-1.7"
  },
  "language_info": {
   "file_extension": ".jl",
   "mimetype": "application/julia",
   "name": "julia",
   "version": "1.7.2"
  },
  "orig_nbformat": 4
 },
 "nbformat": 4,
 "nbformat_minor": 2
}
