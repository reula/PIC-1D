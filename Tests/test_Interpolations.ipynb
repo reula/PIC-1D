{
 "cells": [
  {
   "cell_type": "code",
   "execution_count": null,
   "metadata": {},
   "outputs": [],
   "source": [
    "using Plots\n",
    "using LinearAlgebra"
   ]
  },
  {
   "cell_type": "code",
   "execution_count": null,
   "metadata": {},
   "outputs": [],
   "source": [
    "include(\"../aux_functions/aux_functions_Interpolate.jl\")\n",
    "include(\"../aux_functions/aux_functions_shapes.jl\")\n",
    "include(\"../aux_functions/aux_functions_grid.jl\")\n"
   ]
  },
  {
   "attachments": {},
   "cell_type": "markdown",
   "metadata": {},
   "source": [
    "## 1D"
   ]
  },
  {
   "cell_type": "code",
   "execution_count": null,
   "metadata": {},
   "outputs": [],
   "source": [
    "J = (40,)\n",
    "Box = (0.0, 1.0)\n",
    "dx = differentials(Box,J)\n",
    "\n",
    "xv = [(i-1)*dx[1] for i in 1:J[1]]\n",
    "\n",
    "m=3\n",
    "vector = sin.(2π*m*xv)\n",
    "#vector = ones(J)\n",
    "\n",
    "\n",
    "\n",
    "order = 5\n",
    "\n",
    "x = 0.3111\n",
    "\n",
    "f1(x) = Interpolate_1(order, vector, x, J[1], Box[2]) \n",
    "f2(x) = Interpolate_2(order, vector, x, J[1], Box[2]) \n",
    "#f_per(x) = Interpolate_per(order, vector, x, J[1],Box[2]) # NOT WORKING!\n",
    "f1_D(x) = Interpolate_1(order, vector, x, J, Box)\n",
    "\n",
    "fe(x) = sin(2π*m*x)"
   ]
  },
  {
   "cell_type": "code",
   "execution_count": null,
   "metadata": {},
   "outputs": [],
   "source": [
    "xp = 0.0:0.001:1.0\n",
    "#plot(xp,f1.(xp))\n",
    "plot(xp,sin.(2π*m*xp), label=\"exact\")\n",
    "scatter!(xv,f1.(xv), label=\"first order\")\n",
    "scatter!(xv,f2.(xv), label=\"second order\")\n",
    "scatter!(xv,f1_D.(xv), label=\"D version\")\n",
    "#scatter!(xv,f_per.(xv), label=\"per\")"
   ]
  },
  {
   "cell_type": "code",
   "execution_count": null,
   "metadata": {},
   "outputs": [],
   "source": [
    "plot(xp,f1.(xp) - sin.(2π*m*xp))"
   ]
  },
  {
   "attachments": {},
   "cell_type": "markdown",
   "metadata": {},
   "source": [
    "plot(f)"
   ]
  },
  {
   "cell_type": "code",
   "execution_count": null,
   "metadata": {},
   "outputs": [],
   "source": [
    "maximum(abs.(f1.(xp) - f1_D.(xp)))"
   ]
  },
  {
   "attachments": {},
   "cell_type": "markdown",
   "metadata": {},
   "source": [
    "### 2D"
   ]
  },
  {
   "cell_type": "code",
   "execution_count": null,
   "metadata": {},
   "outputs": [],
   "source": [
    "include(\"../aux_functions/aux_functions_Interpolate.jl\")\n",
    "#J = (40,4000) # this reproduces well the 1D\n",
    "#k = 2π*[3,1]\n",
    "#J = (4000,160) # this case also\n",
    "#k = 2π*[1,3]\n",
    "\n",
    "J = (100,400)\n",
    "k = 2π*[3,3]\n",
    "\n",
    "Box = (0.0, 1.0, -1.0, 3.0)\n",
    "dx = differentials(Box,J)\n",
    "\n",
    "xv = [(i-1)*dx[1] for i in 1:J[1]]\n",
    "yv = [(i-1)*dx[2] for i in 1:J[2]]\n",
    "\n",
    "vector = sin.(k[1]*xv)*sin.(k[2]*yv)'\n",
    "#vector = ones(J)\n",
    "\n",
    "\n",
    "\n",
    "order = 5\n",
    "\n",
    "x = [0.3111,0.30]\n",
    "\n",
    "f1_D(x) = Interpolate_1(order, vector, x, J, Box)\n",
    "\n",
    "fe(x,y) = sin(k[1]*x)*sin(k[2]*y)\n",
    "\n",
    "#vector"
   ]
  },
  {
   "cell_type": "code",
   "execution_count": null,
   "metadata": {},
   "outputs": [],
   "source": [
    "f1_D(x) - fe(x[1],x[2])"
   ]
  },
  {
   "cell_type": "code",
   "execution_count": null,
   "metadata": {},
   "outputs": [],
   "source": [
    "#surface(yv,xv,fe)\n",
    "\n",
    "ff1_D(x,y) = f1_D([x,y])\n",
    "\n",
    "diff(x,y) = fe(x,y) - f1_D([x,y])\n",
    "\n",
    "surface(yv,xv,diff)"
   ]
  },
  {
   "cell_type": "code",
   "execution_count": null,
   "metadata": {},
   "outputs": [],
   "source": []
  }
 ],
 "metadata": {
  "kernelspec": {
   "display_name": "Julia 1.8.1",
   "language": "julia",
   "name": "julia-1.8"
  },
  "language_info": {
   "file_extension": ".jl",
   "mimetype": "application/julia",
   "name": "julia",
   "version": "1.8.1"
  },
  "orig_nbformat": 4,
  "vscode": {
   "interpreter": {
    "hash": "6b5c1dbe0dc266e26ed22644e4b580a2eecd1c10a9cb08ba57d74d47266d2c93"
   }
  }
 },
 "nbformat": 4,
 "nbformat_minor": 2
}
