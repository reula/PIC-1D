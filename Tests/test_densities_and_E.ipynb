{
 "cells": [
  {
   "cell_type": "code",
   "execution_count": null,
   "metadata": {},
   "outputs": [],
   "source": [
    "#using DifferentialEquations\n",
    "using Plots\n",
    "using Statistics\n",
    "using FFTW\n",
    "FFTW.set_provider!(\"mkl\")\n",
    "#import Pkg; Pkg.add(\"FileIO\")\n",
    "using FileIO\n",
    "using JLD2\n",
    "using Base.Threads\n",
    "using Distributions\n",
    "#Pkg; Pkg.add(\"DistributedArrays\")\n",
    "println(\"nthreads = $(nthreads())\")\n",
    "using Printf\n",
    "#import Pkg; Pkg.add(\"IJuliaBell\")\n",
    "using IJuliaBell"
   ]
  },
  {
   "cell_type": "code",
   "execution_count": null,
   "metadata": {},
   "outputs": [],
   "source": [
    "include(\"../aux_functions.jl\")\n",
    "include(\"../inidat_aux_functions.jl\")"
   ]
  },
  {
   "cell_type": "code",
   "execution_count": null,
   "metadata": {},
   "outputs": [],
   "source": [
    "undamped_l = false\n",
    "undamped_s = false\n",
    "damped = false\n",
    "vlasov_exp_200 = false\n",
    "vlasov_exp_40 = false\n",
    "#undamped_s = true\n",
    "damped = true\n",
    "#vlasov_exp_40 = true\n",
    "#vlasov_exp_200 = true"
   ]
  },
  {
   "cell_type": "code",
   "execution_count": null,
   "metadata": {},
   "outputs": [],
   "source": [
    "run_name = \"norel_norm_\"\n",
    "data_name = \"par_dis_landau_norm_norel_\"\n",
    "if undamped_l\n",
    "    const L = 39.738 \n",
    "    const J = 3522\n",
    "    nm = 2 # this is defined again in inidat lambda = L/nm = 19.869\n",
    "    #nm = 20\n",
    "    data_name = data_name * \"undamped_l_$(nm)_\"\n",
    "    run_name = run_name * \"undamped_rel_\"\n",
    "elseif undamped_s\n",
    "    const L = 4\n",
    "    const J = 80\n",
    "    nm = 2 # this is defined again in inidat lambda = L/nm = 2 which gives a k approx 0.1\n",
    "    #nm = 20\n",
    "    data_name = data_name * \"undamped_s_$(nm)_\"\n",
    "    run_name = run_name * \"undamped_rel_\"\n",
    "elseif damped\n",
    "    const L = 7.455\n",
    "    const J = 930\n",
    "    nm = 15 # this is defined again in inidat lambda = L/nm = 0.497\n",
    "    data_name = data_name * \"damped_$(nm)_\"\n",
    "    run_name = run_name * \"damped_rel_\"\n",
    "elseif vlasov_exp_200\n",
    "    const L = 200\n",
    "    const J = 2000\n",
    "    #const nm = 10 # para comparar con 40_2 \n",
    "    const nm = 2 # this is defined again in inidat lambda = L/nm = 100\n",
    "    data_name = data_name * \"vla_200_$(nm)_\"\n",
    "    run_name = run_name * \"vla_200rel_\"\n",
    "elseif vlasov_exp_40\n",
    "    const L = 40\n",
    "    const J = 400\n",
    "    const nm = 2 # this is defined again in inidat lambda = L/nm = 20\n",
    "    data_name = data_name * \"vla_40_$(nm)_\"\n",
    "    run_name = run_name * \"vla_40_rel_\"\n",
    "end\n",
    "\n",
    "order = 4\n",
    "\n",
    "exp_alpha = 2\n",
    "α = 10.0^(-exp_alpha)\n",
    "\n",
    "N_exp = 6 #6\n",
    "N = 8*10^(N_exp)\n",
    "exp_Theta = 3\n",
    "θ = 10.0^(-exp_Theta)\n",
    "\n",
    "@show data_name = data_name * \"alp$(exp_alpha)_8$(N_exp)_Th$(exp_Theta)\"\n",
    "\n",
    "exp_t = 1 #2\n",
    "t = 0.0\n",
    "t_i = 0.0\n",
    "t_f = 4*10.0^(exp_t)\n",
    "M = 16001# 4001 # 81 # 2001 # time steps \n",
    "M_g = 8001 #400 + 1 #number of outputs, starting from the initial data\n",
    "\n",
    "κ = 2π/L # for Fourier Transform\n",
    "dx = L/J\n",
    "x = [dx*(i-1) for i in 1:J] ;\n",
    "#p = (L, N, J, κ, dx, order)\n",
    "dt = (t_f-t_i) / (M-1)\n",
    "@show par_evolv = (t_i, t_f, M, M_g, dt)\n",
    "@show par_grid = (N, L, J, dx, order)\n",
    "@show pars_f = (θ, nm, κ)\n",
    "par_init = (α, 2π*nm/L)\n",
    "\n",
    "\n",
    "println(\"t_f = $(t_f), M = $M, dt = $(dt), exp_Theta = $(exp_Theta)\")\n",
    "\n",
    "\n",
    "\n",
    "run_name = run_name * \"t$(convert(Int,t_f))_L$(L)_N8$(N_exp)_n$(nm)_J$(J)_M$(M)_o$(order)_Th$(exp_Theta)_alp$(exp_alpha)\"\n",
    "println(run_name)\n",
    "\n",
    "        \n",
    "#test_parameters(M, M_g, dt, 0.0, t_f)"
   ]
  },
  {
   "cell_type": "code",
   "execution_count": null,
   "metadata": {},
   "outputs": [],
   "source": [
    "par_dis, data_name_from_inidat, pars, par_f_x, par_f_p = retrieve_initial_data(\"../Initial_Distributions/\" * data_name * \".jld2\")\n",
    "\n",
    "@show data_name_from_inidat, pars, par_f_x, par_f_p"
   ]
  },
  {
   "cell_type": "code",
   "execution_count": null,
   "metadata": {},
   "outputs": [],
   "source": [
    "average_outputs = true # detailed output (for runs which are too long)\n",
    "full_outputs = false\n",
    "animation = false # to run animations\n",
    "phase_space_show = false #show phase space diagrams\n",
    "phase_space_show = true\n",
    "remote_server = false # if run in remote_server as a script avoid all plots \n",
    "save_plots = false # put true is you want so save your plots."
   ]
  },
  {
   "cell_type": "code",
   "execution_count": null,
   "metadata": {},
   "outputs": [],
   "source": [
    "E_i = zeros(J)\n",
    "ϕ = zeros(J)\n",
    "n = zeros(J) #charge density\n",
    "S = zeros(J) #carge current\n",
    "du = zeros(2*N+J); # contains r, v and E"
   ]
  },
  {
   "cell_type": "code",
   "execution_count": null,
   "metadata": {},
   "outputs": [],
   "source": [
    "get_density!(par_dis, n, par_grid,0.0)\n",
    "get_ϕ!(ϕ, n .- 1., κ)\n",
    "get_E_from_ϕ!(ϕ,E_i,dx)\n",
    "u = [par_dis;E_i];\n",
    "length(u)"
   ]
  },
  {
   "cell_type": "code",
   "execution_count": null,
   "metadata": {},
   "outputs": [],
   "source": [
    "get_current_rel!(u, S, par_grid)\n",
    "\n",
    "println(maximum(u[1:N]))\n",
    "println(minimum(u[1:N]))\n",
    "\n",
    "Coordinate_test(u[1:N],L)\n",
    "\n",
    "println(\"n_total = $(sum(n .- 1.0))\")\n",
    "println(\"v_total = $(sum(u[N+1:2N]))\")\n",
    "println(\"E_total = $(sum(E_i))\")\n",
    "\n",
    "println(\"S_total = $(sum(S))\")"
   ]
  },
  {
   "cell_type": "code",
   "execution_count": null,
   "metadata": {},
   "outputs": [],
   "source": [
    "if !remote_server \n",
    "    plt = plot(layout=(2,2))\n",
    "    plot!(subplot=1,x,n, title = \"density\", legend = :false)\n",
    "    plot!(subplot=2,x,ϕ, title = \"potential\", legend = :false)\n",
    "    plot!(subplot=3,x,E_i, title = \"Electric Field\", legend = :false)\n",
    "    \n",
    "    plot!(subplot=4,x,S, title = \"Current\", legend = :false)\n",
    "end"
   ]
  },
  {
   "cell_type": "code",
   "execution_count": null,
   "metadata": {},
   "outputs": [],
   "source": [
    "n_Fourier = rfft(n.-1)\n",
    "freqs_space = fftshift(fftfreq(J,1/dx))\n",
    "#Plots.scatter(freqs_space,abs.(fftshift(n_Fourier)))\n",
    "Plots.scatter(abs.(n_Fourier)[1:200])"
   ]
  },
  {
   "cell_type": "code",
   "execution_count": null,
   "metadata": {},
   "outputs": [],
   "source": [
    "E_Fourier = rfft(u[2N+1:end])\n",
    "Plots.scatter(abs.((E_Fourier)),xlim=(0,200))"
   ]
  },
  {
   "cell_type": "code",
   "execution_count": null,
   "metadata": {},
   "outputs": [],
   "source": [
    "\n",
    "n_mp = zeros(J)\n",
    "#=\n",
    "Tn = zeros(nthreads())\n",
    "get_density_threads!(par_dis, n_mp, (par_grid, Tn), 0.5) \n",
    "=#\n",
    "get_density!(par_dis, n_mp, par_grid, 0.5)"
   ]
  },
  {
   "cell_type": "code",
   "execution_count": null,
   "metadata": {},
   "outputs": [],
   "source": [
    "E_d = zeros(J)\n",
    "get_E_direct!(E_d,-n_mp .+ 1.0, par_grid)"
   ]
  },
  {
   "cell_type": "code",
   "execution_count": null,
   "metadata": {},
   "outputs": [],
   "source": [
    "sum(E_d)"
   ]
  },
  {
   "cell_type": "code",
   "execution_count": null,
   "metadata": {},
   "outputs": [],
   "source": [
    "plot(E_d)\n",
    "plot!(u[2N+1:end])"
   ]
  },
  {
   "cell_type": "code",
   "execution_count": null,
   "metadata": {},
   "outputs": [],
   "source": [
    "include(\"../aux_functions.jl\")"
   ]
  },
  {
   "cell_type": "code",
   "execution_count": null,
   "metadata": {},
   "outputs": [],
   "source": [
    "m=16\n",
    "rfft(E_d)[m]"
   ]
  },
  {
   "cell_type": "code",
   "execution_count": null,
   "metadata": {},
   "outputs": [],
   "source": [
    "rfft(u[2N+1:end])[m]"
   ]
  },
  {
   "attachments": {},
   "cell_type": "markdown",
   "metadata": {},
   "source": [
    "## Testing test functions"
   ]
  },
  {
   "cell_type": "code",
   "execution_count": null,
   "metadata": {},
   "outputs": [],
   "source": [
    "using Plots"
   ]
  },
  {
   "cell_type": "code",
   "execution_count": null,
   "metadata": {},
   "outputs": [],
   "source": [
    "include(\"../aux_functions/aux_functions.jl\")\n",
    "Box_x = [0.0,1.0,0.0,1.0]\n",
    "J = (50,50)\n",
    "dx = differentials(Box_x,J)\n",
    "x_p = [(i-1)*dx[1] + Box_x[1] for i in 1:J[1]]\n",
    "y_p = [(i-1)*dx[2] + Box_x[3] for i in 1:J[2]];"
   ]
  },
  {
   "cell_type": "code",
   "execution_count": null,
   "metadata": {},
   "outputs": [],
   "source": [
    "ϕ_test([0.3,0.4],[0.3,0.4],Box_x,0.2,6)"
   ]
  },
  {
   "cell_type": "code",
   "execution_count": null,
   "metadata": {},
   "outputs": [],
   "source": [
    "M = zeros(length(x_p),length(y_p))\n",
    "for i in eachindex(x_p)\n",
    "    for j in eachindex(y_p)\n",
    "        M[i,j] = ϕ_test([x_p[i],y_p[j]],[0.05, 0.95],Box_x,0.2,6)\n",
    "    end\n",
    "end\n",
    "\n",
    "#surface(y_p,x_p,M)\n",
    "heatmap(y_p,x_p,M)"
   ]
  },
  {
   "cell_type": "code",
   "execution_count": null,
   "metadata": {},
   "outputs": [],
   "source": [
    "∇ϕ_test([0.2,0.9],[0.3,0.9],Box_x,0.2,6)"
   ]
  },
  {
   "cell_type": "code",
   "execution_count": null,
   "metadata": {},
   "outputs": [],
   "source": [
    "DM = zeros(length(x_p),length(y_p),D)\n",
    "for i in eachindex(x_p)\n",
    "    for j in eachindex(y_p)\n",
    "        for d in 1:D\n",
    "            DM[i,j,d] = ∇ϕ_test([x_p[i],y_p[j]],[0.23344977163645686, 0.08282256411562228],Box_x,0.2,6)[d]\n",
    "        end\n",
    "    end\n",
    "end\n",
    "\n",
    "#surface(y_p,x_p,DM[:,:,2])\n",
    "heatmap(y_p,x_p,DM[:,:,1])"
   ]
  }
 ],
 "metadata": {
  "kernelspec": {
   "display_name": "Julia 1.8.1",
   "language": "julia",
   "name": "julia-1.8"
  },
  "language_info": {
   "file_extension": ".jl",
   "mimetype": "application/julia",
   "name": "julia",
   "version": "1.8.1"
  },
  "orig_nbformat": 4,
  "vscode": {
   "interpreter": {
    "hash": "c46a8b37df7c2e4eaffa0eacf5c953557ffb42bba68f9fbb11765bc64ceae1af"
   }
  }
 },
 "nbformat": 4,
 "nbformat_minor": 2
}
