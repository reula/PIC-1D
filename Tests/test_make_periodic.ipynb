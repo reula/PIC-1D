{
 "cells": [
  {
   "cell_type": "code",
   "execution_count": 15,
   "metadata": {},
   "outputs": [
    {
     "name": "stdout",
     "output_type": "stream",
     "text": [
      "D = length(Box) ÷ 2 = 2\n",
      "Box_array = [i for i = Box] = [0.0, 1.0, 0.0, 2.0]\n",
      "L = Box_array[2:2:end] - Box_array[1:2:end - 1] = [1.0, 2.0]\n"
     ]
    }
   ],
   "source": [
    "include(\"../aux_functions/aux_functions.jl\")\n",
    "r = [-0.109551,-6.1,4.,5.,6.3,7.2,8.,9.2,-0.109551,-6.1,4.,5.,6.3,7.2,8.,9.2]\n",
    "Box = (0.,1.,0.,2.)\n",
    "make_periodic!(r,Box,2)"
   ]
  },
  {
   "cell_type": "code",
   "execution_count": 16,
   "metadata": {},
   "outputs": [
    {
     "name": "stdout",
     "output_type": "stream",
     "text": [
      "test passed\n"
     ]
    }
   ],
   "source": [
    "Coordinate_test(r,Box,2)"
   ]
  },
  {
   "cell_type": "code",
   "execution_count": 17,
   "metadata": {},
   "outputs": [
    {
     "data": {
      "text/plain": [
       "16-element Vector{Float64}:\n",
       "  0.890449\n",
       "  1.9000000000000004\n",
       "  4.0\n",
       "  5.0\n",
       "  0.2999999999999998\n",
       "  1.2000000000000002\n",
       "  8.0\n",
       "  9.2\n",
       " -0.109551\n",
       " -6.1\n",
       "  4.0\n",
       "  5.0\n",
       "  6.3\n",
       "  7.2\n",
       "  8.0\n",
       "  9.2"
      ]
     },
     "metadata": {},
     "output_type": "display_data"
    }
   ],
   "source": [
    "r"
   ]
  },
  {
   "cell_type": "code",
   "execution_count": null,
   "metadata": {},
   "outputs": [],
   "source": []
  }
 ],
 "metadata": {
  "kernelspec": {
   "display_name": "Julia 1.8.1",
   "language": "julia",
   "name": "julia-1.8"
  },
  "language_info": {
   "file_extension": ".jl",
   "mimetype": "application/julia",
   "name": "julia",
   "version": "1.8.1"
  },
  "orig_nbformat": 4
 },
 "nbformat": 4,
 "nbformat_minor": 2
}
