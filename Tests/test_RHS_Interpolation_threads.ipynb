{
 "cells": [
  {
   "attachments": {},
   "cell_type": "markdown",
   "metadata": {},
   "source": [
    "## Test the use of threads in the particle sector of RHS_D"
   ]
  },
  {
   "cell_type": "code",
   "execution_count": 1,
   "metadata": {},
   "outputs": [],
   "source": [
    "#using DifferentialEquations\n",
    "using Plots\n",
    "using Statistics\n",
    "using FFTW\n",
    "FFTW.set_provider!(\"mkl\")\n",
    "#import Pkg; Pkg.add(\"FileIO\")\n",
    "using FileIO\n",
    "using JLD2\n",
    "using Base.Threads\n",
    "using Distributions\n",
    "using LaTeXStrings\n",
    "using Printf\n",
    "using LsqFit"
   ]
  },
  {
   "cell_type": "code",
   "execution_count": 10,
   "metadata": {},
   "outputs": [
    {
     "data": {
      "text/plain": [
       "plot_matrix"
      ]
     },
     "metadata": {},
     "output_type": "display_data"
    }
   ],
   "source": [
    "include(\"../aux_functions/aux_functions.jl\")"
   ]
  },
  {
   "cell_type": "code",
   "execution_count": 4,
   "metadata": {},
   "outputs": [
    {
     "data": {
      "text/plain": [
       "\"../Results/weibel_th_Box_1.0x1.0_J_50x100_Ax_25_Th3_alp8tf_1_N5_M11_o5_B0_0_full.jld2\""
      ]
     },
     "metadata": {},
     "output_type": "display_data"
    }
   ],
   "source": [
    "file_name = \"../Results/weibel_Box_1.0x1.0_J_50x100_Ax_25_Th3_alp8tf_1_N5_M11_o5_B0_0_full.jld2\"\n",
    "file_name_th = \"../Results/weibel_th_Box_1.0x1.0_J_50x100_Ax_25_Th3_alp8tf_1_N5_M11_o5_B0_0_full.jld2\""
   ]
  },
  {
   "attachments": {},
   "cell_type": "markdown",
   "metadata": {},
   "source": [
    "The only difference between the 2 data sets is in data, so the rest we overwrite."
   ]
  },
  {
   "cell_type": "code",
   "execution_count": 7,
   "metadata": {},
   "outputs": [
    {
     "name": "stdout",
     "output_type": "stream",
     "text": [
      "run_name = \"weibel_th_Box_1.0x1.0_J_50x100_Ax_25_Th3_alp8tf_1_N5_M11_o5_B0_0\"\n",
      "par_grid = (100000, (50, 100), (0.0, 1.0, 0.0, 1.0), 5)\n",
      "par_evolv = (0.0, 0.1, 11, 11, 0.01)\n",
      "par_f = (0.001, 0.025, 25)\n",
      "(N, J, Box_x, order) = par_grid = (100000, (50, 100), (0.0, 1.0, 0.0, 1.0), 5)\n",
      "(t_i, t_f, M, M_g, dt) = par_evolv = (0.0, 0.1, 11, 11, 0.01)\n"
     ]
    },
    {
     "data": {
      "text/plain": [
       "11"
      ]
     },
     "metadata": {},
     "output_type": "display_data"
    }
   ],
   "source": [
    "data, run_name, par_grid, par_evolv, par_f, n0, xs, t_series = retrieve_meta_data_D(file_name)\n",
    "data_th, run_name, par_grid, par_evolv, par_f, n0, xs, t_series = retrieve_meta_data_D(file_name_th)\n",
    "@show run_name\n",
    "@show par_grid\n",
    "@show par_evolv\n",
    "@show par_f\n",
    "@show (N, J, Box_x, order) = par_grid\n",
    "@show (t_i, t_f, M, M_g, dt) = par_evolv\n",
    "#@show (θ, nm, k) = par_f\n",
    "\n",
    "dT = dt*(M-1)/(M_g-1)\n",
    "\n",
    "\n",
    "#freqs_space = L*rfftfreq(J, 1/dx)\n",
    "\n",
    "M_last = M_g  # number of last data point saved. Otherwise use M_g\n",
    "#freqs_time = fftshift(rfftfreq(M_last, 1/dT))\n",
    "#freqs_time = rfftfreq(M_last, 1/dT)*2*π;"
   ]
  },
  {
   "attachments": {},
   "cell_type": "markdown",
   "metadata": {},
   "source": [
    "Get out the relevant data:"
   ]
  },
  {
   "cell_type": "code",
   "execution_count": 12,
   "metadata": {},
   "outputs": [],
   "source": [
    "v_th = retrieve_data_D(data_th, par_grid, par_evolv;M_last=M_last);\n",
    "v = retrieve_data_D(data, par_grid, par_evolv;M_last=M_last);"
   ]
  },
  {
   "attachments": {},
   "cell_type": "markdown",
   "metadata": {},
   "source": [
    "Check their difference."
   ]
  },
  {
   "cell_type": "code",
   "execution_count": 13,
   "metadata": {},
   "outputs": [
    {
     "data": {
      "text/plain": [
       "0.0"
      ]
     },
     "metadata": {},
     "output_type": "display_data"
    }
   ],
   "source": [
    "sum(abs.(v_th-v))"
   ]
  },
  {
   "attachments": {},
   "cell_type": "markdown",
   "metadata": {},
   "source": [
    "We see that the use of @threads in that line is OK."
   ]
  },
  {
   "cell_type": "code",
   "execution_count": null,
   "metadata": {},
   "outputs": [],
   "source": []
  }
 ],
 "metadata": {
  "kernelspec": {
   "display_name": "Julia 1.8.1",
   "language": "julia",
   "name": "julia-1.8"
  },
  "language_info": {
   "file_extension": ".jl",
   "mimetype": "application/julia",
   "name": "julia",
   "version": "1.8.1"
  },
  "orig_nbformat": 4
 },
 "nbformat": 4,
 "nbformat_minor": 2
}
