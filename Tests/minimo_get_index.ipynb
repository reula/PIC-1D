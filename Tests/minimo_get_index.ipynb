{
 "cells": [
  {
   "cell_type": "code",
   "execution_count": 22,
   "metadata": {},
   "outputs": [
    {
     "data": {
      "text/plain": [
       "get_index_and_y_a! (generic function with 1 method)"
      ]
     },
     "metadata": {},
     "output_type": "display_data"
    }
   ],
   "source": [
    "function get_index_and_y!(j::Array{Int64,1}, y::Array{Float64,1}, r, J::Tuple,Box::Tuple) \n",
    "  for i in 1:length(J)\n",
    "    y[i] =  (r[i]/(Box[2i] - Box[2i-1])*J[i] + J[i])%J[i]\n",
    "    j[i] = floor(Int,y[i]) + 1\n",
    "    y[i] = (y[i]%1)\n",
    "  end\n",
    "  #return j[:], y[:]\n",
    "end\n",
    "\n",
    "\n",
    "\n",
    "function get_index_and_y_a!(j::Array{Int64,1}, y::Array{Float64,1}, r, J::Tuple,Box::Tuple) \n",
    "  for i in 1:length(J)\n",
    "    y[i] =  (r[i]/(Box[2i] - Box[2i-1])*J[i] + J[i])%J[i]\n",
    "    j[i] = floor(Int,y[i]) + 1\n",
    "    y[i] = (y[i]%1)\n",
    "  end\n",
    "  return j[:], y[:]\n",
    "end"
   ]
  },
  {
   "cell_type": "code",
   "execution_count": 17,
   "metadata": {},
   "outputs": [
    {
     "name": "stdout",
     "output_type": "stream",
     "text": [
      "(x, j) = ([[1.0, 1.0], [1.0, 1.0]], [[1, 1], [1, 1]])\n",
      "(x, j) = ([[0.19999999999998863, 0.30000000000001137], [1.0, 1.0]], [[101, 41], [1, 1]])\n"
     ]
    },
    {
     "data": {
      "text/plain": [
       "2-element Vector{Vector{Int64}}:\n",
       " [3, 4]\n",
       " [1, 1]"
      ]
     },
     "metadata": {},
     "output_type": "display_data"
    }
   ],
   "source": [
    "const J = (200,100)\n",
    "const Box = (0.0,1.0,0.0,1.0)\n",
    "u_r = [0.501,0.403]\n",
    "j = [[1,1] for i in 1:2]\n",
    "x = [[1.0,1.0] for i in 1:2]\n",
    "@show x , j\n",
    "get_index_and_y!(j[1], x[1], u_r, J, Box)\n",
    "@show x, j\n",
    "#@show typeof(x[1])\n",
    "#@show j\n",
    "\n",
    "j[1] = [3,4]\n",
    "\n",
    "j"
   ]
  },
  {
   "cell_type": "code",
   "execution_count": 25,
   "metadata": {},
   "outputs": [
    {
     "name": "stdout",
     "output_type": "stream",
     "text": [
      "(z, k) = ([0.0 0.0; 0.0 0.0], [0 0; 0 0])\n",
      "(z, k) = "
     ]
    },
    {
     "name": "stdout",
     "output_type": "stream",
     "text": [
      "([0.19999999999998863 0.0; 0.30000000000001137 0.0], [101 0; 41 0])\n"
     ]
    },
    {
     "data": {
      "text/plain": [
       "([0.19999999999998863 0.0; 0.30000000000001137 0.0], [101 0; 41 0])"
      ]
     },
     "metadata": {},
     "output_type": "display_data"
    }
   ],
   "source": [
    "k = fill(0,(2,2))\n",
    "z = fill(0.0,(2,2))\n",
    "\n",
    "@show z , k\n",
    "k[:,1], z[:,1] = get_index_and_y_a!(k[:,1], z[:,1], u_r, J, Box)\n",
    "@show z, k"
   ]
  },
  {
   "cell_type": "code",
   "execution_count": 5,
   "metadata": {},
   "outputs": [
    {
     "name": "stdout",
     "output_type": "stream",
     "text": [
      "x = [[1.0, 2.0], [2.0, 4.0], [3.0, 6.0]]\n",
      "x = [[3.0, 6.0], [2.0, 4.0], [3.0, 6.0]]\n"
     ]
    },
    {
     "data": {
      "text/plain": [
       "3-element Vector{Vector{Float64}}:\n",
       " [3.0, 6.0]\n",
       " [2.0, 4.0]\n",
       " [3.0, 6.0]"
      ]
     },
     "metadata": {},
     "output_type": "display_data"
    }
   ],
   "source": [
    "function multip!(y::Array{Float64,1}, s)\n",
    "    for i in 1:length(y)\n",
    "        y[i] = s*y[i]\n",
    "    end\n",
    "end\n",
    "\n",
    "x1 = [[i*1.0,2i] for i in 1:3]\n",
    "\n",
    "@show x\n",
    "multip!(x[1], 3)\n",
    "\n",
    "@show x"
   ]
  },
  {
   "cell_type": "code",
   "execution_count": 18,
   "metadata": {},
   "outputs": [
    {
     "ename": "UndefVarError",
     "evalue": "UndefVarError: get_index_and_y_alt! not defined",
     "output_type": "error",
     "traceback": [
      "UndefVarError: get_index_and_y_alt! not defined\n",
      "\n",
      "Stacktrace:\n",
      " [1] top-level scope\n",
      "   @ ~/Julia/PIC/PIC-1D/Tests/minimo_get_index.ipynb:2"
     ]
    }
   ],
   "source": [
    "get_index_and_y!(j[1], x[1], u_r, J, Box)\n",
    "get_index_and_y_alt!(j[2], x[2], u_r, J, Box)"
   ]
  }
 ],
 "metadata": {
  "kernelspec": {
   "display_name": "Julia 1.8.1",
   "language": "julia",
   "name": "julia-1.8"
  },
  "language_info": {
   "file_extension": ".jl",
   "mimetype": "application/julia",
   "name": "julia",
   "version": "1.8.1"
  },
  "orig_nbformat": 4,
  "vscode": {
   "interpreter": {
    "hash": "6b5c1dbe0dc266e26ed22644e4b580a2eecd1c10a9cb08ba57d74d47266d2c93"
   }
  }
 },
 "nbformat": 4,
 "nbformat_minor": 2
}
