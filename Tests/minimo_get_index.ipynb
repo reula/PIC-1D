{
 "cells": [
  {
   "cell_type": "code",
   "execution_count": 1,
   "metadata": {},
   "outputs": [
    {
     "data": {
      "text/plain": [
       "get_index_and_y! (generic function with 1 method)"
      ]
     },
     "metadata": {},
     "output_type": "display_data"
    }
   ],
   "source": [
    "function get_index_and_y!(j::Array{Int64,1}, y::Array{Float64,1}, r, J::Tuple,Box::Tuple) \n",
    "  for i in 1:length(J)\n",
    "    y[i] =  (r[i]/(Box[2i] - Box[2i-1])*J[i] + J[i])%J[i]\n",
    "    j[i] = floor(Int,y[i]) + 1\n",
    "    y[i] = (y[i]%1)\n",
    "  end\n",
    "  #return j[:], y[:]\n",
    "end"
   ]
  },
  {
   "cell_type": "code",
   "execution_count": 2,
   "metadata": {},
   "outputs": [
    {
     "name": "stdout",
     "output_type": "stream",
     "text": [
      "(x, j) = ([[1.0, 1.0], [1.0, 1.0]], [[1, 1], [1, 1]])\n",
      "x = [[0.19999999999998863, 0.30000000000001137], [0.19999999999998863, 0.30000000000001137]]\n"
     ]
    },
    {
     "name": "stdout",
     "output_type": "stream",
     "text": [
      "typeof(x[1]) = Vector{Float64}\n",
      "j = "
     ]
    },
    {
     "name": "stdout",
     "output_type": "stream",
     "text": [
      "[[101, 41], [101, 41]]\n"
     ]
    },
    {
     "data": {
      "text/plain": [
       "2-element Vector{Vector{Int64}}:\n",
       " [3, 4]\n",
       " [101, 41]"
      ]
     },
     "metadata": {},
     "output_type": "display_data"
    }
   ],
   "source": [
    "const J = (200,100)\n",
    "const Box = (0.0,1.0,0.0,1.0)\n",
    "u_r = [0.501,0.403]\n",
    "j = fill([1,1],2) \n",
    "x = fill([1.0,1.0],2)\n",
    "@show x , j\n",
    "get_index_and_y!(j[1], x[1], u_r, J, Box)\n",
    "@show x\n",
    "@show typeof(x[1])\n",
    "@show j\n",
    "\n",
    "j[1] = [3,4]\n",
    "\n",
    "j"
   ]
  }
 ],
 "metadata": {
  "kernelspec": {
   "display_name": "Julia 1.8.1",
   "language": "julia",
   "name": "julia-1.8"
  },
  "language_info": {
   "file_extension": ".jl",
   "mimetype": "application/julia",
   "name": "julia",
   "version": "1.8.1"
  },
  "orig_nbformat": 4,
  "vscode": {
   "interpreter": {
    "hash": "6b5c1dbe0dc266e26ed22644e4b580a2eecd1c10a9cb08ba57d74d47266d2c93"
   }
  }
 },
 "nbformat": 4,
 "nbformat_minor": 2
}
