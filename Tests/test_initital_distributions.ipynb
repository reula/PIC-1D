{
 "cells": [
  {
   "cell_type": "code",
   "execution_count": 1,
   "metadata": {},
   "outputs": [],
   "source": [
    "#import Pkg; Pkg.add(\"FileIO\")\n",
    "using Distributions\n",
    "using Plots\n",
    "using FileIO\n",
    "using JLD2\n",
    "using LaTeXStrings\n",
    "#Pkg.instantiate()"
   ]
  },
  {
   "cell_type": "code",
   "execution_count": 158,
   "metadata": {},
   "outputs": [
    {
     "data": {
      "text/plain": [
       "f_x"
      ]
     },
     "metadata": {},
     "output_type": "display_data"
    }
   ],
   "source": [
    "include(\"../inidat_aux_functions.jl\")"
   ]
  },
  {
   "cell_type": "markdown",
   "metadata": {},
   "source": [
    "We test now that the distributions have $L^1$ norm unity."
   ]
  },
  {
   "cell_type": "code",
   "execution_count": 47,
   "metadata": {},
   "outputs": [
    {
     "data": {
      "text/plain": [
       "0.5000000000000001"
      ]
     },
     "execution_count": 47,
     "metadata": {},
     "output_type": "execute_result"
    }
   ],
   "source": [
    "L = 40\n",
    "α = 0.001\n",
    "θ = 0.001\n",
    "m = 2.0\n",
    "N = 1_000_000\n",
    "interval_x = (0.0,L)\n",
    "p_max = sqrt((1+10*θ)^2-1) \n",
    "interval_p = (0, p_max) # we then antisymmetrize to get the negative values.\n",
    "par_f_x = (α, m, L)\n",
    "par_f_p_1 = (θ,1.0)\n",
    "par_init = (N,)\n",
    "\n",
    "n = 2000\n",
    "dp = p_max/(n-1) \n",
    "p = [dp*(i-1) for i in 1:n]\n",
    "\n",
    "## the result should be 1/2 because we are just integrating for positive p\n",
    "\n",
    "\n",
    "#(sum(f_p.(p,par_f_p)) - 0.5*(f_p(0,par_f_p) + f_p(p_max,par_f_p)))*dp # OK\n",
    "\n",
    "norm = norm_f_p_rel(f_p_rel,par_f_p_1,n,p_max)\n",
    "par_f_p = (θ,norm)\n",
    "\n",
    "F(p) = f_p_rel(p,par_f_p)\n",
    "(sum(F.(p)) - 0.5*(F(0) + F(p_max)))*dp #OK"
   ]
  },
  {
   "cell_type": "markdown",
   "metadata": {},
   "source": [
    "We see that for the non-relativistic distribution function the normalization is correct, but for the relativistic one it is not. So we can normalize it numerically. "
   ]
  },
  {
   "attachments": {},
   "cell_type": "markdown",
   "metadata": {},
   "source": [
    "## Test 2D space-Landau distribution function "
   ]
  },
  {
   "cell_type": "code",
   "execution_count": 26,
   "metadata": {},
   "outputs": [
    {
     "data": {
      "text/plain": [
       "0.75"
      ]
     },
     "metadata": {},
     "output_type": "display_data"
    }
   ],
   "source": [
    "Box = (0.0,3.0,-1.0,1.0)\n",
    "m = [1,3]\n",
    "α = [0.1,0.2]\n",
    "par = (α, m, Box)\n",
    "f_x([3,4],par)\n"
   ]
  },
  {
   "attachments": {},
   "cell_type": "markdown",
   "metadata": {},
   "source": [
    "## Checking the momentum distribution"
   ]
  },
  {
   "cell_type": "code",
   "execution_count": 111,
   "metadata": {},
   "outputs": [
    {
     "data": {
      "text/plain": [
       "0.03107522414771397"
      ]
     },
     "metadata": {},
     "output_type": "display_data"
    }
   ],
   "source": [
    "f_p_rel([1.0,2.0],(0.5,1))"
   ]
  },
  {
   "attachments": {},
   "cell_type": "markdown",
   "metadata": {},
   "source": [
    "### Normalization, we make first a mid_point integrator"
   ]
  },
  {
   "cell_type": "code",
   "execution_count": 106,
   "metadata": {},
   "outputs": [
    {
     "data": {
      "text/plain": [
       "3.3433333333333337"
      ]
     },
     "metadata": {},
     "output_type": "display_data"
    }
   ],
   "source": [
    "x = 0:0.01:1\n",
    "y = 0:0.01:2\n",
    "\n",
    "f(v) = (v'*v)\n",
    "\n",
    "#F = [f([v for v in (xx,yy)]) for xx in x, yy in y] \n",
    "\n",
    "sum(F)/length(x)/length(y)*2"
   ]
  },
  {
   "cell_type": "code",
   "execution_count": 48,
   "metadata": {},
   "outputs": [
    {
     "data": {
      "text/plain": [
       "3.333333333333333"
      ]
     },
     "metadata": {},
     "output_type": "display_data"
    }
   ],
   "source": [
    "2/3 + 1/3*8  "
   ]
  },
  {
   "cell_type": "code",
   "execution_count": 133,
   "metadata": {},
   "outputs": [
    {
     "data": {
      "text/plain": [
       "2//1"
      ]
     },
     "metadata": {},
     "output_type": "display_data"
    }
   ],
   "source": [
    "ff(v,par) = v'*v\n",
    "fc(v,par) = 1\n",
    "\n",
    "int_mid_point_f(fc, (5,) , [101,201], (0,1,0,2))"
   ]
  },
  {
   "cell_type": "code",
   "execution_count": 156,
   "metadata": {},
   "outputs": [
    {
     "name": "stdout",
     "output_type": "stream",
     "text": [
      "Int += -1 // 8 * (F[1, 1, 1] + F[1, 1, end] + F[1, end, 1] + F[1, end, end] + F[end, 1, 1] + F[end, 1, end] + F[end, end, 1] + F[end, end, end]) = 6000000//1\n"
     ]
    },
    {
     "data": {
      "text/plain": [
       "4//1"
      ]
     },
     "metadata": {},
     "output_type": "display_data"
    }
   ],
   "source": [
    "#### 3D ####\n",
    "int_mid_point_f(fc, (5,) , [101,201,301], (0,1,0,2,-1,1))"
   ]
  },
  {
   "cell_type": "code",
   "execution_count": 163,
   "metadata": {},
   "outputs": [
    {
     "data": {
      "text/plain": [
       "8.000162962962962"
      ]
     },
     "metadata": {},
     "output_type": "display_data"
    }
   ],
   "source": [
    "Float64(int_mid_point_f(ff, (5,) , [101,201,301], (0,1,0,2,-1,1)))"
   ]
  },
  {
   "cell_type": "code",
   "execution_count": 161,
   "metadata": {},
   "outputs": [
    {
     "data": {
      "text/plain": [
       "7.999999999999999"
      ]
     },
     "metadata": {},
     "output_type": "display_data"
    }
   ],
   "source": [
    "#1/3+y^2 + z^2\n",
    "#2/3 + 1/3*2^3 + 2z^2\n",
    "4/3 + 2^4/3 + 2/3*2"
   ]
  },
  {
   "attachments": {},
   "cell_type": "markdown",
   "metadata": {},
   "source": [
    "Works OK"
   ]
  },
  {
   "cell_type": "code",
   "execution_count": 153,
   "metadata": {},
   "outputs": [
    {
     "data": {
      "text/plain": [
       "1//1"
      ]
     },
     "metadata": {},
     "output_type": "display_data"
    }
   ],
   "source": [
    "n1,n2,n3 = (3,4,5)\n",
    "((n1*n2*n3) - 1//2*(2*n1*n2 + 2*n2*n3 + 2*n3*n1) + 1//4*(4*n1 + 4*n2 + 4*n3) - 1//8*(8))//((n1-1)*(n2-1)*(n3-1))"
   ]
  },
  {
   "cell_type": "code",
   "execution_count": null,
   "metadata": {},
   "outputs": [],
   "source": []
  }
 ],
 "metadata": {
  "kernelspec": {
   "display_name": "Julia 1.8.1",
   "language": "julia",
   "name": "julia-1.8"
  },
  "language_info": {
   "file_extension": ".jl",
   "mimetype": "application/julia",
   "name": "julia",
   "version": "1.8.1"
  },
  "orig_nbformat": 4
 },
 "nbformat": 4,
 "nbformat_minor": 2
}
