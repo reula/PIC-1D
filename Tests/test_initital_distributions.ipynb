{
 "cells": [
  {
   "cell_type": "code",
   "execution_count": null,
   "metadata": {},
   "outputs": [],
   "source": [
    "#import Pkg; Pkg.add(\"FileIO\")\n",
    "using Distributions\n",
    "using Plots\n",
    "using FileIO\n",
    "using JLD2\n",
    "using LaTeXStrings\n",
    "#Pkg.instantiate()"
   ]
  },
  {
   "cell_type": "code",
   "execution_count": 42,
   "metadata": {},
   "outputs": [
    {
     "data": {
      "text/plain": [
       "f_x_max (generic function with 1 method)"
      ]
     },
     "execution_count": 42,
     "metadata": {},
     "output_type": "execute_result"
    }
   ],
   "source": [
    "include(\"../inidat_aux_functions.jl\")"
   ]
  },
  {
   "cell_type": "markdown",
   "metadata": {},
   "source": [
    "We test now that the distributions have $L^1$ norm unity."
   ]
  },
  {
   "cell_type": "code",
   "execution_count": 47,
   "metadata": {},
   "outputs": [
    {
     "data": {
      "text/plain": [
       "0.5000000000000001"
      ]
     },
     "execution_count": 47,
     "metadata": {},
     "output_type": "execute_result"
    }
   ],
   "source": [
    "L = 40\n",
    "α = 0.001\n",
    "θ = 0.001\n",
    "m = 2.0\n",
    "N = 1_000_000\n",
    "interval_x = (0.0,L)\n",
    "p_max = sqrt((1+10*θ)^2-1) \n",
    "interval_p = (0, p_max) # we then antisymmetrize to get the negative values.\n",
    "par_f_x = (α, m, L)\n",
    "par_f_p_1 = (θ,1.0)\n",
    "par_init = (N,)\n",
    "\n",
    "n = 2000\n",
    "dp = p_max/(n-1) \n",
    "p = [dp*(i-1) for i in 1:n]\n",
    "\n",
    "## the result should be 1/2 because we are just integrating for positive p\n",
    "\n",
    "\n",
    "#(sum(f_p.(p,par_f_p)) - 0.5*(f_p(0,par_f_p) + f_p(p_max,par_f_p)))*dp # OK\n",
    "\n",
    "norm = norm_f_p_rel(f_p_rel,par_f_p_1,n,p_max)\n",
    "par_f_p = (θ,norm)\n",
    "\n",
    "F(p) = f_p_rel(p,par_f_p)\n",
    "(sum(F.(p)) - 0.5*(F(0) + F(p_max)))*dp #OK"
   ]
  },
  {
   "cell_type": "markdown",
   "metadata": {},
   "source": [
    "We see that for the non-relativistic distribution function the normalization is correct, but for the relativistic one it is not. So we can normalize it numerically. "
   ]
  },
  {
   "cell_type": "code",
   "execution_count": null,
   "metadata": {},
   "outputs": [],
   "source": []
  }
 ],
 "metadata": {
  "kernelspec": {
   "display_name": "Julia 1.7.2",
   "language": "julia",
   "name": "julia-1.7"
  },
  "language_info": {
   "file_extension": ".jl",
   "mimetype": "application/julia",
   "name": "julia",
   "version": "1.7.2"
  },
  "orig_nbformat": 4
 },
 "nbformat": 4,
 "nbformat_minor": 2
}
