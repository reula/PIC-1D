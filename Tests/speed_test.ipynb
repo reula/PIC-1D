{
 "cells": [
  {
   "cell_type": "code",
   "execution_count": 1,
   "metadata": {},
   "outputs": [],
   "source": [
    "using Base.Threads\n",
    "using Distributions\n",
    "using LaTeXStrings\n",
    "using Printf\n",
    "using LsqFit\n",
    "using BenchmarkTools\n",
    "using LinearAlgebra"
   ]
  },
  {
   "cell_type": "code",
   "execution_count": 2,
   "metadata": {},
   "outputs": [
    {
     "data": {
      "text/plain": [
       "2"
      ]
     },
     "metadata": {},
     "output_type": "display_data"
    }
   ],
   "source": [
    "nthreads()"
   ]
  },
  {
   "cell_type": "code",
   "execution_count": 3,
   "metadata": {},
   "outputs": [
    {
     "name": "stdout",
     "output_type": "stream",
     "text": [
      "  12.786 μs (14 allocations: 1.09 KiB)\n",
      "#= /Users/reula/Julia/PIC/PIC-1D/Tests/speed_test.ipynb:28 =# @btime(prueba_vel_ij!($(Expr(:$, :EE)))) = nothing\n",
      "  "
     ]
    },
    {
     "name": "stdout",
     "output_type": "stream",
     "text": [
      "3.916 μs (2 allocations: 96 bytes)\n",
      "#= /Users/reula/Julia/PIC/PIC-1D/Tests/speed_test.ipynb:29 =# @btime(prueba_vel_ji!($(Expr(:$, :EE)))) = nothing\n"
     ]
    },
    {
     "name": "stdout",
     "output_type": "stream",
     "text": [
      "  23.232 μs (6 allocations: 156.44 KiB)\n",
      "#= /Users/reula/Julia/PIC/PIC-1D/Tests/speed_test.ipynb:30 =# @btime(prueba_vel_no_for!($(Expr(:$, :EE)))) = 0\n"
     ]
    },
    {
     "data": {
      "text/plain": [
       "0"
      ]
     },
     "metadata": {},
     "output_type": "display_data"
    }
   ],
   "source": [
    "EE = rand(20000)\n",
    "E = reshape(EE,2,100,100)\n",
    "\n",
    "function prueba_vel_ji!(EE)\n",
    "    @inbounds E = reshape(EE,2,100,100)\n",
    "    @inbounds for i in 1:100\n",
    "        @inbounds    for j in 1:100\n",
    "            E[1,j,i] = 5.0 * E[2,j,i]\n",
    "        end\n",
    "    end\n",
    "end\n",
    "\n",
    "function prueba_vel_ij!(EE)\n",
    "    @inbounds E = reshape(EE,2,100,100)\n",
    "    @inbounds @threads for i in 1:100\n",
    "        @inbounds    for j in 1:100\n",
    "            E[1,i,j] = 5.0 * E[2,i,j]\n",
    "        end\n",
    "    end\n",
    "end\n",
    "\n",
    "function prueba_vel_no_for!(EE)\n",
    "    @inbounds E = reshape(EE,2,100,100)   \n",
    "    @inbounds E[1,:,:] .= 5.0 * E[2,:,:]\n",
    "    return 0\n",
    "end\n",
    "\n",
    "@show @btime prueba_vel_ij!($EE)\n",
    "@show @btime prueba_vel_ji!($EE)\n",
    "@show @btime prueba_vel_no_for!($EE)\n",
    "\n",
    "#sum(reshape(EE,2,100,100)[1,:,:] - 5*reshape(EE,2,100,100)[2,:,:])\n"
   ]
  },
  {
   "attachments": {},
   "cell_type": "markdown",
   "metadata": {},
   "source": [
    "12.786 μs (14 allocations: 1.09 KiB) @btime(prueba_vel_ij!($(Expr(:$, :EE))))  con threads(2)\n",
    "\n",
    "3.916 μs (2 allocations: 96 bytes) @btime(prueba_vel_ji!($(Expr(:$, :EE)))) = nothing\n",
    "\n",
    "23.232 μs (6 allocations: 156.44 KiB) @btime(prueba_vel_no_for!($(Expr(:$, :EE)))) = 0\n"
   ]
  },
  {
   "cell_type": "code",
   "execution_count": 11,
   "metadata": {},
   "outputs": [
    {
     "data": {
      "text/plain": [
       "0.0"
      ]
     },
     "metadata": {},
     "output_type": "display_data"
    }
   ],
   "source": [
    "sum(reshape(EE,2,100,100)[1,:,:] - 5*reshape(EE,2,100,100)[2,:,:])"
   ]
  },
  {
   "cell_type": "code",
   "execution_count": 4,
   "metadata": {},
   "outputs": [
    {
     "name": "stdout",
     "output_type": "stream",
     "text": [
      "  10.943 μs (14 allocations: 1.09 KiB)\n"
     ]
    },
    {
     "name": "stdout",
     "output_type": "stream",
     "text": [
      "  1.831 μs (2 allocations: 96 bytes)\n"
     ]
    },
    {
     "name": "stdout",
     "output_type": "stream",
     "text": [
      "  23.328 μs (6 allocations: 156.44 KiB)\n"
     ]
    },
    {
     "data": {
      "text/plain": [
       "100×100 view(::Array{Float64, 3}, 1, :, :) with eltype Float64:\n",
       "  9.20785   19.4124   16.5751    12.5862   …  4.55853   2.98121   4.05397\n",
       "  2.05765    7.92857   0.176943  19.4907      1.66135   2.94697   3.86022\n",
       "  8.72828    3.54347   6.75452   14.293       2.53011   1.91936   1.18872\n",
       " 11.8086     6.85313  22.4195    19.3627      0.252382  4.51313   4.69006\n",
       " 15.2136    15.2441   24.5434    10.5048      3.11732   1.7134    0.192263\n",
       " 10.469     14.468     3.08793    1.32426  …  3.68172   1.16937   4.77546\n",
       " 16.8052    16.4497   16.5469    14.9361      3.23405   1.16687   2.71767\n",
       "  0.378056  20.8655    4.37789   24.2992      0.865079  0.459007  0.856628\n",
       "  8.3643    22.6094    8.85337   22.9369      2.41046   0.621267  2.53018\n",
       " 16.4141     9.43977   1.97418    2.50639     4.76842   2.86662   1.9559\n",
       "  ⋮                                        ⋱                      \n",
       "  6.01244    7.44665  11.5307    20.5556      4.02438   2.43362   3.58655\n",
       " 14.6064    21.1412    1.04108   19.314       0.167876  2.84773   0.55857\n",
       " 18.9317    17.7031   13.3476     3.55603     2.68055   3.19895   3.85271\n",
       " 11.1035    22.2005   15.129     10.9114      3.83851   2.36692   1.09944\n",
       "  7.75369   14.3718    8.33261   16.8319   …  1.29779   1.3352    1.35513\n",
       " 12.7873     9.61988   4.58015   20.449       2.89545   3.08288   2.26901\n",
       " 16.0802    16.4572   21.1631    18.0018      1.00394   3.41915   0.115774\n",
       " 10.1005     0.88096  24.3758    18.7635      2.78887   0.279249  0.267246\n",
       "  3.29605   15.206    10.4513    24.6202      4.44025   3.97132   3.56163"
      ]
     },
     "metadata": {},
     "output_type": "display_data"
    }
   ],
   "source": [
    "function prueba_vel_ji!(EE)\n",
    "    @inbounds E = reshape(EE,100,100,2)\n",
    "    @inbounds for i in 1:100\n",
    "        @inbounds    for j in 1:100\n",
    "            E[j,i,1] = 5.0 * E[j,i,2]\n",
    "        end\n",
    "    end\n",
    "end\n",
    "\n",
    "function prueba_vel_ij!(EE)\n",
    "    @inbounds E = reshape(EE,100,100,2)\n",
    "    @inbounds @threads for i in 1:100\n",
    "        @inbounds    for j in 1:100\n",
    "            E[i,j,1] = 5.0 * E[i,j,1]\n",
    "        end\n",
    "    end\n",
    "end\n",
    "\n",
    "function prueba_vel_no_for!(EE)\n",
    "    @inbounds E = reshape(EE,2,100,100)   \n",
    "    @inbounds E[1,:,:] .= 5.0 * E[2,:,:]\n",
    "    #return 0\n",
    "end\n",
    "\n",
    "@btime prueba_vel_ij!($EE)\n",
    "@btime prueba_vel_ji!($EE)\n",
    "@btime prueba_vel_no_for!($EE)"
   ]
  },
  {
   "attachments": {},
   "cell_type": "markdown",
   "metadata": {},
   "source": [
    "10.943 μs (14 allocations: 1.09 KiB) con threads ij\n",
    "\n",
    "1.831 μs (2 allocations: 96 bytes) ji\n",
    "\n",
    "23.328 μs (6 allocations: 156.44 KiB) ::,::"
   ]
  },
  {
   "cell_type": "markdown",
   "metadata": {},
   "source": []
  }
 ],
 "metadata": {
  "kernelspec": {
   "display_name": "Julia 1.8.1",
   "language": "julia",
   "name": "julia-1.8"
  },
  "language_info": {
   "file_extension": ".jl",
   "mimetype": "application/julia",
   "name": "julia",
   "version": "1.8.1"
  },
  "orig_nbformat": 4,
  "vscode": {
   "interpreter": {
    "hash": "6b5c1dbe0dc266e26ed22644e4b580a2eecd1c10a9cb08ba57d74d47266d2c93"
   }
  }
 },
 "nbformat": 4,
 "nbformat_minor": 2
}
