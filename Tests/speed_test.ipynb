{
 "cells": [
  {
   "attachments": {},
   "cell_type": "markdown",
   "metadata": {},
   "source": [
    "## Speed test for loops and reshaped representations\n",
    "\n",
    "We want to see which is the best shape for doing calculations conveniently and faster."
   ]
  },
  {
   "cell_type": "code",
   "execution_count": 1,
   "metadata": {},
   "outputs": [],
   "source": [
    "using Base.Threads\n",
    "using Distributions\n",
    "using LaTeXStrings\n",
    "using Printf\n",
    "using LsqFit\n",
    "using BenchmarkTools\n",
    "using LinearAlgebra"
   ]
  },
  {
   "cell_type": "code",
   "execution_count": 2,
   "metadata": {},
   "outputs": [
    {
     "data": {
      "text/plain": [
       "2"
      ]
     },
     "metadata": {},
     "output_type": "display_data"
    }
   ],
   "source": [
    "nthreads()"
   ]
  },
  {
   "attachments": {},
   "cell_type": "markdown",
   "metadata": {},
   "source": [
    "Typical reshape for a NxN grid and a 2-vector."
   ]
  },
  {
   "cell_type": "code",
   "execution_count": 3,
   "metadata": {},
   "outputs": [
    {
     "name": "stdout",
     "output_type": "stream",
     "text": [
      "  2.356 ms (2 allocations: 96 bytes)\n",
      "#= /Users/reula/Julia/PIC/PIC-1D/Tests/speed_test.ipynb:31 =# @btime(prueba_vel_ij!($(Expr(:$, :EE)))) = nothing\n"
     ]
    },
    {
     "name": "stdout",
     "output_type": "stream",
     "text": [
      "  533.699 μs (14 allocations: 1.09 KiB)\n",
      "#= /Users/reula/Julia/PIC/PIC-1D/Tests/speed_test.ipynb:32 =# @btime(prueba_vel_ji!($(Expr(:$, :EE)))) = nothing\n",
      "  "
     ]
    },
    {
     "name": "stdout",
     "output_type": "stream",
     "text": [
      "3.704 ms (6 allocations: 15.26 MiB)\n",
      "#= /Users/reula/Julia/PIC/PIC-1D/Tests/speed_test.ipynb:33 =# @btime(prueba_vel_no_for!($(Expr(:$, :EE)))) = 0\n"
     ]
    },
    {
     "data": {
      "text/plain": [
       "0"
      ]
     },
     "metadata": {},
     "output_type": "display_data"
    }
   ],
   "source": [
    "const D = 2\n",
    "const J1 = 1000\n",
    "const J2 = 1000\n",
    "EE = rand(D*J1*J2)\n",
    "E = reshape(EE,D,J1,J2)\n",
    "\n",
    "function prueba_vel_ji!(EE)\n",
    "    @inbounds E = reshape(EE,D,J1,J2)\n",
    "    @inbounds @threads for j in 1:J2\n",
    "        @inbounds    for i in 1:J1\n",
    "            E[1,i,j] = 5.0 * E[2,i,j]\n",
    "        end\n",
    "    end\n",
    "end\n",
    "\n",
    "function prueba_vel_ij!(EE)\n",
    "    @inbounds E = reshape(EE,D,J1,J2)\n",
    "    @inbounds for i in 1:J1\n",
    "        @inbounds    for j in 1:J2\n",
    "            E[1,i,j] = 5.0 * E[2,i,j]\n",
    "        end\n",
    "    end\n",
    "end\n",
    "\n",
    "function prueba_vel_no_for!(EE)\n",
    "    @inbounds E = reshape(EE,D,J1,J2)   \n",
    "    @inbounds E[1,:,:] .= 5.0 * E[2,:,:]\n",
    "    return 0\n",
    "end\n",
    "\n",
    "@show @btime prueba_vel_ij!($EE)\n",
    "@show @btime prueba_vel_ji!($EE)\n",
    "@show @btime prueba_vel_no_for!($EE)\n",
    "\n",
    "#sum(reshape(EE,2,100,100)[1,:,:] - 5*reshape(EE,2,100,100)[2,:,:])\n"
   ]
  },
  {
   "attachments": {},
   "cell_type": "markdown",
   "metadata": {},
   "source": [
    "### 100x100\n",
    "\n",
    "12.786 μs (14 allocations: 1.09 KiB) @btime(prueba_vel_ij!($(Expr(:$, :EE))))  **con threads(2)**\n",
    "\n",
    "3.916 μs (2 allocations: 96 bytes) @btime(prueba_vel_ji!($(Expr(:$, :EE)))) = nothing\n",
    "\n",
    "23.232 μs (6 allocations: 156.44 KiB) @btime(prueba_vel_no_for!($(Expr(:$, :EE)))) = 0\n",
    "\n",
    "### 1000x1000 \n",
    "\n",
    "1.297 ms (14 allocations: 1.09 KiB) @btime(prueba_vel_ij!($(Expr(:$, :EE)))) **con threads(2)** \n",
    "\n",
    "2.363 ms (2 allocations: 96 bytes) @btime(prueba_vel_ij!($(Expr(:$, :EE)))) = nothing\n",
    "\n",
    "534.565 μs (14 allocations: 1.09 KiB) @btime(prueba_vel_ji!($(Expr(:$, :EE)))) = nothing **con threads(2)**\n",
    "\n",
    "819.136 μs (2 allocations: 96 bytes) @btime(prueba_vel_ji!($(Expr(:$, :EE)))) = nothing\n",
    "\n",
    "3.745 ms (6 allocations: 15.26 MiB) @btime(prueba_vel_no_for!($(Expr(:$, :EE)))) = 0\n",
    "\n",
    "**clearly the fast indices are j,i**\n"
   ]
  },
  {
   "attachments": {},
   "cell_type": "markdown",
   "metadata": {},
   "source": [
    "Checking that the values are written."
   ]
  },
  {
   "cell_type": "code",
   "execution_count": 4,
   "metadata": {},
   "outputs": [
    {
     "data": {
      "text/plain": [
       "0.0"
      ]
     },
     "metadata": {},
     "output_type": "display_data"
    }
   ],
   "source": [
    "sum(reshape(EE,D,J1,J2)[1,:,:] - 5*reshape(EE,D,J1,J2)[2,:,:])"
   ]
  },
  {
   "attachments": {},
   "cell_type": "markdown",
   "metadata": {},
   "source": [
    "### With the vector index at the end"
   ]
  },
  {
   "cell_type": "code",
   "execution_count": 6,
   "metadata": {},
   "outputs": [
    {
     "name": "stdout",
     "output_type": "stream",
     "text": [
      "  2.600 ms (4 allocations: 7.63 MiB)\n",
      "#= /Users/reula/Julia/PIC/PIC-1D/Tests/speed_test.ipynb:27 =# @btime(prueba_2_vel_no_for!($(Expr(:$, :EE)))) = 0\n"
     ]
    },
    {
     "data": {
      "text/plain": [
       "0"
      ]
     },
     "metadata": {},
     "output_type": "display_data"
    }
   ],
   "source": [
    "function prueba_2_vel_ji!(EE)\n",
    "    @inbounds E = reshape(EE,J1,J2,D)\n",
    "    @inbounds @threads for j in 1:J2\n",
    "        @inbounds for i in 1:J1\n",
    "            E[i,j,1] = 5.0 * E[i,j,2]\n",
    "        end\n",
    "    end\n",
    "end\n",
    "\n",
    "function prueba_2_vel_ij!(EE)\n",
    "    @inbounds E = reshape(EE,J1,J2,D)\n",
    "    @inbounds  for i in 1:J1\n",
    "        @inbounds    for j in 1:J2\n",
    "            E[i,j,1] = 5.0 * E[i,j,1]\n",
    "        end\n",
    "    end\n",
    "end\n",
    "\n",
    "function prueba_2_vel_no_for!(EE)\n",
    "    @inbounds E = reshape(EE,D,J1,J2)   \n",
    "    @inbounds E[1,:,:] .= 5.0 .* E[2,:,:]\n",
    "    return 0\n",
    "end\n",
    "\n",
    "#@show @btime prueba_2_vel_ij!($EE)\n",
    "#@show @btime prueba_2_vel_ji!($EE)\n",
    "#@show @btime prueba_2_vel_no_for!($EE)"
   ]
  },
  {
   "attachments": {},
   "cell_type": "markdown",
   "metadata": {},
   "source": [
    "## 100x100\n",
    "\n",
    "10.943 μs (14 allocations: 1.09 KiB) **con threads ij**\n",
    "\n",
    "1.831 μs (2 allocations: 96 bytes) ji\n",
    "\n",
    "23.328 μs (6 allocations: 156.44 KiB) ::,::\n",
    "\n",
    "## 1000x1000\n",
    "\n",
    "869.742 μs (14 allocations: 1.09 KiB) @btime(prueba_2_vel_ij!($(Expr(:$, :EE)))) = nothing **con threads**\n",
    "\n",
    "572.861 μs (2 allocations: 96 bytes) @btime(prueba_2_vel_ji!($(Expr(:$, :EE)))) = nothing\n",
    "\n",
    "1.360 ms (2 allocations: 96 bytes) @btime(prueba_2_vel_ij!($(Expr(:$, :EE)))) = nothing\n",
    "\n",
    "398.227 μs (14 allocations: 1.09 KiB) @btime(prueba_2_vel_ji!($(Expr(:$, :EE)))) = nothing **con threads**\n",
    "  \n",
    "3.686 ms (6 allocations: 15.26 MiB) @btime(prueba_2_vel_no_for!($(Expr(:$, :EE)))) = 0\n",
    "\n",
    "2.600 ms (4 allocations: 7.63 MiB) @btime(prueba_2_vel_no_for!($(Expr(:$, :EE)))) ** con . en - y *\n"
   ]
  },
  {
   "cell_type": "code",
   "execution_count": null,
   "metadata": {},
   "outputs": [],
   "source": [
    "sum(reshape(EE,J1,J2,D)[:,:,1] - 5*reshape(EE,J1,J2,D)[:,:,2])"
   ]
  },
  {
   "attachments": {},
   "cell_type": "markdown",
   "metadata": {},
   "source": [
    "For a scalar field"
   ]
  },
  {
   "cell_type": "code",
   "execution_count": 8,
   "metadata": {},
   "outputs": [
    {
     "name": "stdout",
     "output_type": "stream",
     "text": [
      "  856.074 μs (14 allocations: 1.09 KiB)\n",
      "#= /Users/reula/Julia/PIC/PIC-1D/Tests/speed_test.ipynb:31 =# @btime(prueba_scalar_ij!($(Expr(:$, :BB)))) = nothing\n",
      "  "
     ]
    },
    {
     "name": "stdout",
     "output_type": "stream",
     "text": [
      "318.992 μs (2 allocations: 96 bytes)\n",
      "#= /Users/reula/Julia/PIC/PIC-1D/Tests/speed_test.ipynb:32 =# @btime(prueba_scalar_ji!($(Expr(:$, :BB)))) = nothing\n"
     ]
    },
    {
     "name": "stdout",
     "output_type": "stream",
     "text": [
      "  1.934 ms (4 allocations: 7.63 MiB)\n",
      "#= /Users/reula/Julia/PIC/PIC-1D/Tests/speed_test.ipynb:33 =# @btime(prueba_scalar_no_for!($(Expr(:$, :BB)))) = 0\n"
     ]
    },
    {
     "data": {
      "text/plain": [
       "0"
      ]
     },
     "metadata": {},
     "output_type": "display_data"
    }
   ],
   "source": [
    "#D = 1\n",
    "#J1 = 100\n",
    "#J2 = 100\n",
    "\n",
    "BB = rand(J1*J2)\n",
    "\n",
    "function prueba_scalar_ji!(BB)\n",
    "    @inbounds B = reshape(BB,J1,J2)\n",
    "    @inbounds  for j in 1:J2\n",
    "        @inbounds for i in 1:J1\n",
    "            B[i,j] = 5.0 * B[i,j]\n",
    "        end\n",
    "    end\n",
    "end\n",
    "\n",
    "function prueba_scalar_ij!(BB)\n",
    "    @inbounds B = reshape(BB,J1,J2)\n",
    "    @inbounds @threads for i in 1:J1\n",
    "        @inbounds    for j in 1:J2\n",
    "            B[i,j] = 5.0 * B[i,j]\n",
    "        end\n",
    "    end\n",
    "end\n",
    "\n",
    "function prueba_scalar_no_for!(BB)\n",
    "    @inbounds B = reshape(BB,J1,J2)   \n",
    "    @inbounds B[:,:] .= 5.0 .* B[:,:]\n",
    "    return 0\n",
    "end\n",
    "\n",
    "@show @btime prueba_scalar_ij!($BB)\n",
    "@show @btime prueba_scalar_ji!($BB)\n",
    "@show @btime prueba_scalar_no_for!($BB)"
   ]
  },
  {
   "attachments": {},
   "cell_type": "markdown",
   "metadata": {},
   "source": [
    "## 100x100\n",
    "\n",
    "**sin definir las constantes** \n",
    "\n",
    "578.613 μs (30117 allocations: 629.31 KiB) @btime(prueba_scalar_ij!($(Expr(:$, :BB)))) = nothing **threads**\n",
    "  \n",
    "1.036 ms (29903 allocations: 625.12 KiB) @btime(prueba_scalar_ji!($(Expr(:$, :BB)))) = nothing \n",
    "\n",
    "18.836 μs (14 allocations: 156.69 KiB) @btime(prueba_scalar_no_for!($(Expr(:$, :BB)))) = 0\n",
    "\n",
    "**con las constantes**\n",
    "\n",
    "11.930 μs (14 allocations: 1.09 KiB) @btime(prueba_scalar_ij!($(Expr(:$, :BB)))) = nothing **threads**\n",
    "\n",
    "1.494 μs (2 allocations: 96 bytes) @btime(prueba_scalar_ji!($(Expr(:$, :BB)))) = nothing \n",
    "\n",
    "16.905 μs (6 allocations: 156.44 KiB) @btime(prueba_scalar_no_for!($(Expr(:$, :BB)))) = 0\n",
    "\n",
    "3.792 μs (2 allocations: 96 bytes) @btime(prueba_scalar_ij!($(Expr(:$, :BB)))) = nothing\n",
    "\n",
    "9.847 μs (14 allocations: 1.09 KiB) @btime(prueba_scalar_ji!($(Expr(:$, :BB)))) = nothing **threads**\n",
    "\n",
    "**Nota: Las threads las ponemos siempre en el loop externo.**\n",
    "\n",
    "## 1000x1000\n",
    "\n",
    "1.875 ms (2 allocations: 96 bytes) @btime(prueba_scalar_ij!($(Expr(:$, :BB)))) = nothing\n",
    "\n",
    "201.421 μs (14 allocations: 1.09 KiB) @btime(prueba_scalar_ji!($(Expr(:$, :BB)))) = nothing **threads**\n",
    "\n",
    "3.088 ms (6 allocations: 15.26 MiB) @btime(prueba_scalar_no_for!($(Expr(:$, :BB))))\n",
    "\n",
    "856.074 μs (14 allocations: 1.09 KiB) @btime(prueba_scalar_ij!($(Expr(:$, :BB)))) = nothing **threads**\n",
    "\n",
    "318.992 μs (2 allocations: 96 bytes) @btime(prueba_scalar_ji!($(Expr(:$, :BB)))) = nothing\n",
    "\n",
    "1.934 ms (4 allocations: 7.63 MiB) @btime(prueba_scalar_no_for!($(Expr(:$, :BB)))) **doble .**\n"
   ]
  },
  {
   "cell_type": "code",
   "execution_count": null,
   "metadata": {},
   "outputs": [],
   "source": []
  }
 ],
 "metadata": {
  "kernelspec": {
   "display_name": "Julia 1.8.1",
   "language": "julia",
   "name": "julia-1.8"
  },
  "language_info": {
   "file_extension": ".jl",
   "mimetype": "application/julia",
   "name": "julia",
   "version": "1.8.1"
  },
  "orig_nbformat": 4,
  "vscode": {
   "interpreter": {
    "hash": "6b5c1dbe0dc266e26ed22644e4b580a2eecd1c10a9cb08ba57d74d47266d2c93"
   }
  }
 },
 "nbformat": 4,
 "nbformat_minor": 2
}
