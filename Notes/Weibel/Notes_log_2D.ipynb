{
 "cells": [
  {
   "attachments": {},
   "cell_type": "markdown",
   "metadata": {},
   "source": [
    "## Notes on 2D runs."
   ]
  },
  {
   "attachments": {},
   "cell_type": "markdown",
   "metadata": {},
   "source": [
    "### Weibel\n",
    "\n",
    "### Weibel from Morse and Nielson"
   ]
  },
  {
   "attachments": {},
   "cell_type": "markdown",
   "metadata": {},
   "source": [
    "```\n",
    "run_name = \"weibel_I2_Box_15.0x15.0_J_64x64_Ax_25_Th3_alp8tf_100_N6_M101_o5_B0_0\"\n",
    "par_grid = (1000000, (64, 64), (0.0, 1.0, 0.0, 1.0), 5)\n",
    "par_evolv = (0.0, 10.0, 101, 101, 0.1)\n",
    "par_f = ((1.0e-8, [0.0, 0.0], (0.0, 1.0, 0.0, 1.0)), (0.001, 0.025, [0.5, 0.0], 0.007760848597927437, 2))\n",
    "(N, J, Box_x, order) = par_grid = (1000000, (64, 64), (0.0, 1.0, 0.0, 1.0), 5)\n",
    "(t_i, t_f, M, M_g, dt) = par_evolv = (0.0, 10.0, 101, 101, 0.1)\n",
    "```"
   ]
  },
  {
   "attachments": {},
   "cell_type": "markdown",
   "metadata": {},
   "source": [
    "The energy growth a lot... \n",
    "\n",
    "We compared two runs with different time steps by a factor 10.\n",
    "\n",
    "![energy_dt_large](energy_vs_time_I2_N6_64%5E2_15%5E2_101.png)\n"
   ]
  },
  {
   "attachments": {},
   "cell_type": "markdown",
   "metadata": {},
   "source": [
    "![energy_dt_smaller](energy_vs_time_I2_N6_64%5E2_15%5E2_1001.png)"
   ]
  },
  {
   "attachments": {},
   "cell_type": "markdown",
   "metadata": {},
   "source": [
    "### Constraint propagation\n",
    "\n",
    "![constraints_short](div_error_test_short_1000_0.2_5_1000000_64_64_101.png)"
   ]
  },
  {
   "attachments": {},
   "cell_type": "markdown",
   "metadata": {},
   "source": [
    "![temperature](Temperature_N6_short_1000_0.2_5_1000000_64_64_101.png)"
   ]
  },
  {
   "attachments": {},
   "cell_type": "markdown",
   "metadata": {},
   "source": [
    "### Phase space"
   ]
  },
  {
   "attachments": {},
   "cell_type": "markdown",
   "metadata": {},
   "source": [
    "![complete_y_py](y_phase_space_N6_5_64_64_101.png)"
   ]
  },
  {
   "attachments": {},
   "cell_type": "markdown",
   "metadata": {},
   "source": [
    "![y_py_large_vx](y_phase_space_large_vx_N6_5_64_64_101.png)"
   ]
  },
  {
   "attachments": {},
   "cell_type": "markdown",
   "metadata": {},
   "source": [
    "### Longer RUN\n",
    "\n",
    "```\n",
    "run_name = \"weibel_I2_Box_15.0x15.0_J_64x64_Ax_25_Th3_alp8tf_1000_N6_M1001_o5_B0_0\"\n",
    "par_grid = (1000000, (64, 64), (0.0, 1.0, 0.0, 1.0), 5)\n",
    "par_evolv = (0.0, 100.0, 1001, 501, 0.1)\n",
    "par_f = ((1.0e-8, [0.0, 0.0], (0.0, 1.0, 0.0, 1.0)), (0.001, 0.025, [0.5, 0.0], 0.007760848597927437, 2))\n",
    "(N, J, Box_x, order) = par_grid = (1000000, (64, 64), (0.0, 1.0, 0.0, 1.0), 5)\n",
    "(t_i, t_f, M, M_g, dt) = par_evolv = (0.0, 100.0, 1001, 501, 0.1)\n",
    "```"
   ]
  },
  {
   "attachments": {},
   "cell_type": "markdown",
   "metadata": {},
   "source": [
    "![energy](energy_vs_time_I2_N6_L_64%5E2_15%5E2_101.png)"
   ]
  },
  {
   "attachments": {},
   "cell_type": "markdown",
   "metadata": {},
   "source": [
    "![temperature](Temperature_N6_T100_1000_0.2_5_1000000_64_64_501.png)"
   ]
  },
  {
   "attachments": {},
   "cell_type": "markdown",
   "metadata": {},
   "source": [
    "![phase_y_his](y_phase_space_N6_T100_5_64_64_501.png)"
   ]
  },
  {
   "attachments": {},
   "cell_type": "markdown",
   "metadata": {},
   "source": [
    "![y_py_vx](y_phase_space_large_vx_N6_T100_5_64_64_501.png)"
   ]
  },
  {
   "attachments": {},
   "cell_type": "markdown",
   "metadata": {},
   "source": [
    "### LL RUN"
   ]
  },
  {
   "attachments": {},
   "cell_type": "markdown",
   "metadata": {},
   "source": [
    "```\n",
    "run_name = \"weibel_I2_Box_15.0x15.0_J_64x64_Ax_25_Th3_alp8tf_10000_N6_M10001_o5_B0_0\"\n",
    "par_grid = (1000000, (64, 64), (0.0, 1.0, 0.0, 1.0), 5)\n",
    "par_evolv = (0.0, 1000.0, 10001, 501, 0.1)\n",
    "par_f = ((1.0e-8, [0.0, 0.0], (0.0, 1.0, 0.0, 1.0)), (0.001, 0.025, [0.5, 0.0], 0.007760848597927437, 2))\n",
    "(N, J, Box_x, order) = par_grid = (1000000, (64, 64), (0.0, 1.0, 0.0, 1.0), 5)\n",
    "(t_i, t_f, M, M_g, dt) = par_evolv = (0.0, 1000.0, 10001, 501, 0.1)\n",
    "```"
   ]
  },
  {
   "attachments": {},
   "cell_type": "markdown",
   "metadata": {},
   "source": [
    "The energy decreases....\n",
    "\n",
    "![energy](energy_vs_time_I2_N6_LL_64%5E2_15%5E2_101.png)"
   ]
  },
  {
   "cell_type": "markdown",
   "metadata": {},
   "source": []
  },
  {
   "attachments": {},
   "cell_type": "markdown",
   "metadata": {},
   "source": [
    "### Momentum Rotation: \n",
    "\n",
    "$$\n",
    "\\theta_m = \\frac{<|p_x|>}{\\sqrt{<|p_x|>^2+<|p_y|>^2}}\n",
    "$$\n",
    "\n",
    "We fit with `@. θ_mod(t,p) = p[1] + (p[2] + p[4]*t)*cos(p[3]*t)^2``\n",
    "\n",
    "And get: "
   ]
  },
  {
   "cell_type": "markdown",
   "metadata": {},
   "source": []
  },
  {
   "cell_type": "markdown",
   "metadata": {},
   "source": [
    "## Runs from September 2024\n",
    "\n",
    "1. We implemented several new ways of taking derivatives: Holoborock, Lanczos_Low_Noise filters, and also wenoz. We will discuss below how the energy behaves with them.\n",
    "\n",
    "2. We realize that for energy conservation it is important to use not W, but S in the interpolation. That makes sense because it ammounts to mid-point integration rule and then the energy conservation is exact. The decay observed with the finite difference methods is due to the time integrator. The zweno is very dissipative. \n",
    "\n",
    "3. We still have errors in the divergence, but think they are due to something else wrong. It used to be precise, but then got bad. Don't know way yet.\n",
    "\n",
    "\n",
    "\n"
   ]
  },
  {
   "cell_type": "markdown",
   "metadata": {},
   "source": [
    "```Decay = (1 - (Energy_E[end]+Energy_K[end])/(Energy_E[1] + Energy_K[1]))/(t_series[end]-t_series[1])\n",
    "T =  4\n",
    "J = (128, 128)\n",
    "N = 10^5\n",
    "sbp = 2.3906491952718767e-8\n",
    "holbo = 4.274128495573848e-9\n",
    "LLN = 1.6342988073958509e-9\n",
    "zweno = 0.011259844445421024 \n",
    "```\n"
   ]
  },
  {
   "cell_type": "markdown",
   "metadata": {},
   "source": []
  }
 ],
 "metadata": {
  "kernelspec": {
   "display_name": "Julia 1.10.4",
   "language": "julia",
   "name": "julia-1.10"
  },
  "language_info": {
   "file_extension": ".jl",
   "mimetype": "application/julia",
   "name": "julia",
   "version": "1.10.4"
  },
  "orig_nbformat": 4
 },
 "nbformat": 4,
 "nbformat_minor": 2
}
