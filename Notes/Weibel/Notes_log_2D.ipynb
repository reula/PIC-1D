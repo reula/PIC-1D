{
 "cells": [
  {
   "attachments": {},
   "cell_type": "markdown",
   "metadata": {},
   "source": [
    "## Notes on 2D runs."
   ]
  },
  {
   "cell_type": "markdown",
   "metadata": {},
   "source": [
    "### Weibel"
   ]
  },
  {
   "attachments": {},
   "cell_type": "markdown",
   "metadata": {},
   "source": [
    "#### weibel_Box_1.0x1.0_J_50x50_Ax_25_Th3_alp8tf_100_N6_M5001_o5_B0_1_full.jld2\n",
    "\n",
    "```\n",
    "run_name = \"weibel_Box_1.0x1.0_J_50x50_Ax_25_Th3_alp8tf_100_N6_M5001_o5_B0_1\"\n",
    "par_grid = (1000000, (50, 50), (0.0, 1.0, 0.0, 1.0), 5)\n",
    "par_evolv = (0.0, 10.0, 5001, 101, 0.002)\n",
    "par_f = \n",
    "((1.0e-8, [0.0, 0.0], (0.0, 1.0, 0.0, 1.0)), (0.001, 0.025, [0.5, 0.0], 0.007760848597927437, 2))\n",
    "(N, J, Box_x, order) = par_grid = (1000000, (50, 50), (0.0, 1.0, 0.0, 1.0), 5)\n",
    "(t_i, t_f, M, M_g, dt) = par_evolv = (0.0, 10.0, 5001, 101, 0.002)\n",
    "```"
   ]
  },
  {
   "attachments": {},
   "cell_type": "markdown",
   "metadata": {},
   "source": [
    "First long run. B0=1. N = 1e6 J = (50,50)\n",
    "\n",
    "The energy start growing in an exponential manner...(total energy is multiplyed by 100.)\n",
    "![Energy](weibel_1_E.png)\n"
   ]
  },
  {
   "cell_type": "markdown",
   "metadata": {},
   "source": []
  },
  {
   "attachments": {},
   "cell_type": "markdown",
   "metadata": {},
   "source": [
    "The electric and magnetic fields are very rough still.\n",
    "\n",
    "![Final E and B fields](E_B_field_M_g.png)"
   ]
  },
  {
   "attachments": {},
   "cell_type": "markdown",
   "metadata": {},
   "source": [
    "### Constraint Preservation:\n",
    "\n",
    "Err/M_test = 0.0029\n",
    "Max = 0.874\n",
    "\n",
    "![scatter](div_error_test.png)\n",
    "![histogram](error-histogram.png)"
   ]
  },
  {
   "attachments": {},
   "cell_type": "markdown",
   "metadata": {},
   "source": [
    "### Temperature \n",
    "\n",
    "![Temperature](Temperature.png)"
   ]
  },
  {
   "attachments": {},
   "cell_type": "markdown",
   "metadata": {},
   "source": [
    "Momentum histograms: there is a rotation of the perturbation on momentum space, the period seems to be around t=6 (j=16 is about a quarter of rotation, and j=64 a whole rotation.) \n",
    "\n",
    "![initial](initial_momentum_histogram.png)\n",
    "![quarter rotation](momentum_histogram-j-16.png)\n",
    "![final](final_momentum_histogram.png)"
   ]
  },
  {
   "attachments": {},
   "cell_type": "markdown",
   "metadata": {},
   "source": [
    "### Momentum space rotation:\n",
    "\n",
    "![rotation fit](theta_fit_N6.png)\n",
    "\n",
    "\n",
    "\n",
    "````\n",
    "0.6870209511364449\n",
    "  0.03990801568805801\n",
    "  0.9888925547550405\n",
    " -5.953576896598412e-7\n",
    " ```"
   ]
  },
  {
   "attachments": {},
   "cell_type": "markdown",
   "metadata": {},
   "source": [
    "## N=1e7\n",
    "\n",
    "Misma perturbación pero con mayor cantidad de puntos, el interés es ver si los campos son más suaves y si la energía se comporta distinto."
   ]
  },
  {
   "attachments": {},
   "cell_type": "markdown",
   "metadata": {},
   "source": [
    "```\n",
    "run_name = \"weibel_Box_1.0x1.0_J_50x50_Ax_25_Th3_alp8tf_100_N7_M5001_o5_B0_1\"\n",
    "par_grid = (10000000, (50, 50), (0.0, 1.0, 0.0, 1.0), 5)\n",
    "par_evolv = (0.0, 10.0, 5001, 11, 0.002)\n",
    "par_f = \n",
    "((1.0e-8, [0.0, 0.0], (0.0, 1.0, 0.0, 1.0)), (0.001, 0.025, [0.5, 0.0], 0.007760848597927437, 2))\n",
    "(N, J, Box_x, order) = par_grid = (10000000, (50, 50), (0.0, 1.0, 0.0, 1.0), 5)\n",
    "(t_i, t_f, M, M_g, dt) = par_evolv = (0.0, 10.0, 5001, 11, 0.002)\n",
    "```"
   ]
  },
  {
   "attachments": {},
   "cell_type": "markdown",
   "metadata": {},
   "source": [
    "The energy growth is much smaller now, the form of the oscilation is the same.\n",
    "\n",
    "Notar que la anterior es también hasta t=10, sino que está sin t_series.\n",
    "\n",
    "![weibel_7](energy_vs_time_N7.png)"
   ]
  },
  {
   "attachments": {},
   "cell_type": "markdown",
   "metadata": {},
   "source": [
    "The final field configuration is:\n",
    "\n",
    "![E-B fields](E_B_field_M_g_N7.png)"
   ]
  },
  {
   "attachments": {},
   "cell_type": "markdown",
   "metadata": {},
   "source": [
    "The perturbations are much more smaller, probably because the distribution is much more homogeneous in space so the initial field is much smaller."
   ]
  },
  {
   "attachments": {},
   "cell_type": "markdown",
   "metadata": {},
   "source": [
    "### Constraint conservation: \n",
    "These are relative errors. Probably the values are big at points where the density or the divergence are close to zero.\n",
    "\n",
    "Err/M_test = 0.0023\n",
    "\n",
    "Max = 0.740\n",
    "\n",
    "![Constraint N7](div_error_test_N7.png)\n",
    "\n",
    "![histogram N7](error-histogram_N7.png)"
   ]
  },
  {
   "attachments": {},
   "cell_type": "markdown",
   "metadata": {},
   "source": [
    "### Temperature:\n",
    "\n",
    "Seems to have a different oscilation. In this case faster.\n",
    "\n",
    "![T_weibel_N7](Temperature_N7.png)"
   ]
  },
  {
   "attachments": {},
   "cell_type": "markdown",
   "metadata": {},
   "source": [
    "### Distributions:\n",
    "\n",
    "![Space distribution](final_space_distribution_N7.png)"
   ]
  },
  {
   "attachments": {},
   "cell_type": "markdown",
   "metadata": {},
   "source": [
    "The momentum distribution is rotating much faster now. This I don't understand!\n",
    "\n",
    "![t=0](initial_momentum_histogram_N7.png)\n",
    "![t=0.2](momentum_histogram-j-3_N7.png)\n",
    "![final](final_momentum_histogram_N7.png)"
   ]
  },
  {
   "attachments": {},
   "cell_type": "markdown",
   "metadata": {},
   "source": [
    "### Momentum rotation\n",
    "\n",
    "![Rotation fit](theta_fit_N7.png )\n",
    "\n",
    "```\n",
    "θ_mod(t,p) = p[1] + (p[2] + p[4]*t)*cos(p[3]*t)^2\n",
    "\n",
    "0.6870528500776439\n",
    " 0.03972917207684242\n",
    " 0.9891769898619195\n",
    " 1.95951913011949e-5\n",
    " ```"
   ]
  },
  {
   "attachments": {},
   "cell_type": "markdown",
   "metadata": {},
   "source": [
    "## Long run N=1e6\n",
    "\n",
    "We performed a log run in order to see what happes with stability and also check the rotation frequency in momentum space. It should be just $\\omega = B0$ in this case $B0=1$. "
   ]
  },
  {
   "attachments": {},
   "cell_type": "markdown",
   "metadata": {},
   "source": [
    "```\n",
    "run_name = \"weibel_Box_1.0x1.0_J_50x50_Ax_25_Th3_alp8tf_1000_N6_M50001_o5_B0_1\"\n",
    "par_grid = (1000000, (50, 50), (0.0, 1.0, 0.0, 1.0), 5)\n",
    "par_evolv = (0.0, 100.0, 50001, 101, 0.002)\n",
    "par_f = \n",
    "((1.0e-8, [0.0, 0.0], (0.0, 1.0, 0.0, 1.0)), (0.001, 0.025, [0.5, 0.0], 0.007760848597927437, 2))\n",
    "(N, J, Box_x, order) = par_grid = (1000000, (50, 50), (0.0, 1.0, 0.0, 1.0), 5)\n",
    "(t_i, t_f, M, M_g, dt) = par_evolv = (0.0, 100.0, 50001, 101, 0.002)\n",
    "``` "
   ]
  },
  {
   "attachments": {},
   "cell_type": "markdown",
   "metadata": {},
   "source": [
    "### Energy conservation: \n",
    "\n",
    "The energy growth starts to diminish, so, probably it is stable for longer runs. \n",
    "Something we need to check.\n",
    "\n",
    "![energy](energy_vs_time_N6_long.png)\n"
   ]
  },
  {
   "attachments": {},
   "cell_type": "markdown",
   "metadata": {},
   "source": [
    "### Fields\n",
    "\n",
    "![fields](E_B_field_M_g_N6_long.png)"
   ]
  },
  {
   "attachments": {},
   "cell_type": "markdown",
   "metadata": {},
   "source": [
    "### Constraint propagation:\n",
    "\n",
    "\n",
    "Err/M_test = 0.0283\n",
    "\n",
    "Max = 5.764\n",
    "\n",
    "For such a long time holds very well!\n",
    "\n",
    "![histogram](error-histogram_N6_long.png)\n"
   ]
  },
  {
   "attachments": {},
   "cell_type": "markdown",
   "metadata": {},
   "source": [
    "### Temperature:\n",
    "\n",
    "![T](Temperature_N6_long.png)"
   ]
  },
  {
   "attachments": {},
   "cell_type": "markdown",
   "metadata": {},
   "source": [
    "### Momentum Rotation: \n",
    "\n",
    "$$\n",
    "\\theta_m = \\frac{<|p_x|>}{\\sqrt{<|p_x|>^2+<|p_y|>^2}}\n",
    "$$\n",
    "\n",
    "We fit with `@. θ_mod(t,p) = p[1] + (p[2] + p[4]*t)*cos(p[3]*t)^2``\n",
    "\n",
    "And get: `0.6853131162059464\n",
    "  0.043244022546026835\n",
    "  0.9897741977517405\n",
    " -6.663943336313133e-7`\n",
    "\n",
    " It is not a good fit but good enough for checking the frequency. The oscilation starts to grow, but not know what it is the correct expression.\n",
    "\n",
    " ![ratation_long_N6](theta_fit_N6_long.png)\n"
   ]
  },
  {
   "attachments": {},
   "cell_type": "markdown",
   "metadata": {},
   "source": [
    "### Long-Long N6"
   ]
  },
  {
   "attachments": {},
   "cell_type": "markdown",
   "metadata": {},
   "source": [
    "Energy is growing and heating the particles.\n",
    "\n",
    "![energy](energy_vs_time_N6_longlong.png)"
   ]
  },
  {
   "attachments": {},
   "cell_type": "markdown",
   "metadata": {},
   "source": [
    "### Constraint propagation\n",
    "\n",
    "![Constraint propagation](div_error_test_long-longN7.png)\n",
    "\n",
    "![Constraint propagation histogram](error-histogram_N6_long-long.png)\n",
    "\n",
    "Err/M_test = 1.2447\n",
    "\n",
    "Max = 4573.6"
   ]
  },
  {
   "attachments": {},
   "cell_type": "markdown",
   "metadata": {},
   "source": [
    "### Temperature \n",
    "\n",
    "The temperature keeps getting small inspite numerical error is making it bigger. \n",
    "\n",
    "![Temperature](Temperature_N6_long-long.png)"
   ]
  },
  {
   "cell_type": "markdown",
   "metadata": {},
   "source": []
  }
 ],
 "metadata": {
  "kernelspec": {
   "display_name": "Julia 1.9.0",
   "language": "julia",
   "name": "julia-1.9"
  },
  "language_info": {
   "file_extension": ".jl",
   "mimetype": "application/julia",
   "name": "julia",
   "version": "1.9.0"
  },
  "orig_nbformat": 4
 },
 "nbformat": 4,
 "nbformat_minor": 2
}
