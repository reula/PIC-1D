{
 "cells": [
  {
   "attachments": {},
   "cell_type": "markdown",
   "metadata": {},
   "source": [
    "## Notes on 2D runs."
   ]
  },
  {
   "cell_type": "markdown",
   "metadata": {},
   "source": [
    "### Weibel"
   ]
  },
  {
   "attachments": {},
   "cell_type": "markdown",
   "metadata": {},
   "source": [
    "#### weibel_Box_1.0x1.0_J_50x50_Ax_25_Th3_alp8tf_100_N6_M5001_o5_B0_1_full.jld2\n",
    "\n",
    "```\n",
    "run_name = \"weibel_Box_1.0x1.0_J_50x50_Ax_25_Th3_alp8tf_100_N6_M5001_o5_B0_1\"\n",
    "par_grid = (1000000, (50, 50), (0.0, 1.0, 0.0, 1.0), 5)\n",
    "par_evolv = (0.0, 10.0, 5001, 101, 0.002)\n",
    "par_f = \n",
    "((1.0e-8, [0.0, 0.0], (0.0, 1.0, 0.0, 1.0)), (0.001, 0.025, [0.5, 0.0], 0.007760848597927437, 2))\n",
    "(N, J, Box_x, order) = par_grid = (1000000, (50, 50), (0.0, 1.0, 0.0, 1.0), 5)\n",
    "(t_i, t_f, M, M_g, dt) = par_evolv = (0.0, 10.0, 5001, 101, 0.002)\n",
    "```"
   ]
  },
  {
   "attachments": {},
   "cell_type": "markdown",
   "metadata": {},
   "source": [
    "First long run. B0=1. N = 1e6 J = (50,50)\n",
    "\n",
    "The energy start growing in an exponential manner...(total energy is multiplyed by 100.)\n",
    "![Energy](weibel_1_E.png)\n"
   ]
  },
  {
   "cell_type": "markdown",
   "metadata": {},
   "source": []
  },
  {
   "attachments": {},
   "cell_type": "markdown",
   "metadata": {},
   "source": [
    "The electric and magnetic fields are very rough still.\n",
    "\n",
    "![Final E and B fields](E_B_field_M_g.png)"
   ]
  },
  {
   "attachments": {},
   "cell_type": "markdown",
   "metadata": {},
   "source": [
    "### Constraint Preservation:\n",
    "\n",
    "Err/M_test = 0.0029\n",
    "Max = 0.874\n",
    "\n",
    "![scatter](div_error_test.png)\n",
    "![histogram](error-histogram.png)"
   ]
  },
  {
   "attachments": {},
   "cell_type": "markdown",
   "metadata": {},
   "source": [
    "### Temperature \n",
    "\n",
    "![Temperature](Temperature.png)"
   ]
  },
  {
   "attachments": {},
   "cell_type": "markdown",
   "metadata": {},
   "source": [
    "Momentum histograms: there is a rotation of the perturbation on momentum space, the period seems to be around t=6 (j=16 is about a quarter of rotation, and j=64 a whole rotation.) \n",
    "\n",
    "![initial](initial_momentum_histogram.png)\n",
    "![quarter rotation](momentum_histogram-j-16.png)\n",
    "![final](final_momentum_histogram.png)"
   ]
  },
  {
   "attachments": {},
   "cell_type": "markdown",
   "metadata": {},
   "source": [
    "## N=1e7\n",
    "\n",
    "Misma perturbación pero con mayor cantidad de puntos, el interés es ver si los campos son más suaves y si la energía se comporta distinto."
   ]
  },
  {
   "attachments": {},
   "cell_type": "markdown",
   "metadata": {},
   "source": [
    "```\n",
    "run_name = \"weibel_Box_1.0x1.0_J_50x50_Ax_25_Th3_alp8tf_100_N7_M5001_o5_B0_1\"\n",
    "par_grid = (10000000, (50, 50), (0.0, 1.0, 0.0, 1.0), 5)\n",
    "par_evolv = (0.0, 10.0, 5001, 11, 0.002)\n",
    "par_f = \n",
    "((1.0e-8, [0.0, 0.0], (0.0, 1.0, 0.0, 1.0)), (0.001, 0.025, [0.5, 0.0], 0.007760848597927437, 2))\n",
    "(N, J, Box_x, order) = par_grid = (10000000, (50, 50), (0.0, 1.0, 0.0, 1.0), 5)\n",
    "(t_i, t_f, M, M_g, dt) = par_evolv = (0.0, 10.0, 5001, 11, 0.002)\n",
    "```"
   ]
  },
  {
   "attachments": {},
   "cell_type": "markdown",
   "metadata": {},
   "source": [
    "The energy growth is much smaller now, the form of the oscilation is the same.\n",
    "\n",
    "Notar que la anterior es también hasta t=10, sino que está sin t_series.\n",
    "\n",
    "![weibel_7](energy_vs_time_N7.png)"
   ]
  },
  {
   "attachments": {},
   "cell_type": "markdown",
   "metadata": {},
   "source": [
    "The final field configuration is:\n",
    "\n",
    "![E-B fields](E_B_field_M_g_N7.png)"
   ]
  },
  {
   "attachments": {},
   "cell_type": "markdown",
   "metadata": {},
   "source": [
    "The perturbations are much more smaller, probably because the distribution is much more homogeneous in space so the initial field is much smaller."
   ]
  },
  {
   "attachments": {},
   "cell_type": "markdown",
   "metadata": {},
   "source": [
    "### Constraint conservation: \n",
    "These are relative errors. Probably the values are big at points where the density or the divergence are close to zero.\n",
    "\n",
    "Err/M_test = 0.0023\n",
    "\n",
    "Max = 0.740\n",
    "\n",
    "![Constraint N7](div_error_test_N7.png)\n",
    "\n",
    "![histogram N7](error-histogram_N7.png)"
   ]
  },
  {
   "attachments": {},
   "cell_type": "markdown",
   "metadata": {},
   "source": [
    "### Temperature:\n",
    "\n",
    "Seems to have a different oscilation. In this case faster.\n",
    "\n",
    "![T_weibel_N7](Temperature_N7.png)"
   ]
  },
  {
   "attachments": {},
   "cell_type": "markdown",
   "metadata": {},
   "source": [
    "### Distributions:\n",
    "\n",
    "![Space distribution](final_space_distribution_N7.png)"
   ]
  },
  {
   "attachments": {},
   "cell_type": "markdown",
   "metadata": {},
   "source": [
    "The momentum distribution is rotating much faster now. This I don't understand!\n",
    "\n",
    "![t=0](initial_momentum_histogram_N7.png)\n",
    "![t=0.2](momentum_histogram-j-3_N7.png)\n",
    "![final](final_momentum_histogram_N7.png)"
   ]
  },
  {
   "cell_type": "markdown",
   "metadata": {},
   "source": []
  }
 ],
 "metadata": {
  "kernelspec": {
   "display_name": "Julia 1.9.0",
   "language": "julia",
   "name": "julia-1.9"
  },
  "language_info": {
   "file_extension": ".jl",
   "mimetype": "application/julia",
   "name": "julia",
   "version": "1.9.0"
  },
  "orig_nbformat": 4
 },
 "nbformat": 4,
 "nbformat_minor": 2
}
