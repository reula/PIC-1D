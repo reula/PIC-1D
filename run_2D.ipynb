{
 "cells": [
  {
   "cell_type": "code",
   "execution_count": 1,
   "metadata": {},
   "outputs": [
    {
     "name": "stdout",
     "output_type": "stream",
     "text": [
      "nthreads = 2\n"
     ]
    }
   ],
   "source": [
    "#using DifferentialEquations\n",
    "using Plots\n",
    "using Statistics\n",
    "using FFTW\n",
    "FFTW.set_provider!(\"mkl\")\n",
    "#import Pkg; Pkg.add(\"FileIO\")\n",
    "using FileIO\n",
    "using JLD2\n",
    "using Base.Threads\n",
    "using Distributions\n",
    "#Pkg; Pkg.add(\"DistributedArrays\")\n",
    "println(\"nthreads = $(nthreads())\")\n",
    "using Printf\n",
    "#import Pkg; Pkg.add(\"IJuliaBell\")\n",
    "using IJuliaBell\n",
    "using ArraysOfArrays\n",
    "using SummationByPartsOperators\n",
    "using LinearAlgebra"
   ]
  },
  {
   "attachments": {},
   "cell_type": "markdown",
   "metadata": {},
   "source": [
    "## 2D PIC Escheleton \n",
    "\n",
    "Here we run the 2D version of PIC. "
   ]
  },
  {
   "cell_type": "code",
   "execution_count": 2,
   "metadata": {},
   "outputs": [
    {
     "data": {
      "text/plain": [
       "f_x"
      ]
     },
     "metadata": {},
     "output_type": "display_data"
    }
   ],
   "source": [
    "include(\"aux_functions/aux_functions.jl\")\n",
    "include(\"aux_functions/inidat_aux_functions.jl\")\n"
   ]
  },
  {
   "attachments": {},
   "cell_type": "markdown",
   "metadata": {},
   "source": [
    "### Initial Distribution"
   ]
  },
  {
   "attachments": {},
   "cell_type": "markdown",
   "metadata": {},
   "source": [
    "## Initial data configurations (Particles first)"
   ]
  },
  {
   "cell_type": "code",
   "execution_count": 3,
   "metadata": {},
   "outputs": [
    {
     "data": {
      "text/plain": [
       "true"
      ]
     },
     "metadata": {},
     "output_type": "display_data"
    }
   ],
   "source": [
    "## initial data configurations\n",
    "\n",
    "trys = false\n",
    "thermal = false\n",
    "weibel = false\n",
    "weibel_norel = false\n",
    "#trys = true\n",
    "#thermal = true\n",
    "weibel = true\n",
    "#weibel_norel = true\n",
    "\n",
    "\n"
   ]
  },
  {
   "cell_type": "code",
   "execution_count": 23,
   "metadata": {},
   "outputs": [
    {
     "name": "stdout",
     "output_type": "stream",
     "text": [
      "pars_f = (θ1, θ2, Ax) = (0.001, 0.025, 25)\n",
      "data_name = \"par_dis_rel_weibel_Ax_25_alp8_N5_Th3\"\n",
      "dx_max = maximum(dx) = 0.01\n",
      "dt = (t_f - t_i) / (M - 1) = 0.01\n"
     ]
    },
    {
     "name": "stdout",
     "output_type": "stream",
     "text": [
      "par_evolv = (t_i, t_f, M, M_g, dt) = (0.0, 10.0, 1001, 11, 0.01)\n",
      "par_grid = (N, J, Box_x, order) = (100000, (100, 100), (0.0, 1.0, 0.0, 1.0), 5)\n",
      "t_f = 10.0, M = 1001, dt = 0.01, exp_Theta = 3\n",
      "weibel_Box_1.0x1.0_J_100x100_Ax_25_Th3_alp8tf_10_N5_M1001_o5\n",
      "par_dis_rel_weibel_Ax_25_alp8_N5_Th3\n"
     ]
    }
   ],
   "source": [
    "const order = 5\n",
    "const D = 2\n",
    "\n",
    "\n",
    "# Particle numbers\n",
    "const N_exp = 5 #6\n",
    "N = 10^(N_exp)\n",
    "\n",
    "if  thermal\n",
    "    run_name = \"thermal_norel_\"\n",
    "    data_name = \"par_dis_norel_thermal_\"\n",
    "    J = (100,100)\n",
    "    Box_x = (0.0,1.0,0.0,1.0) \n",
    "    nm = [1,1]\n",
    "    Box_array = [i for i in Box_x]\n",
    "    k = 2π*nm./(Box_array[2:2:end]-Box_array[1:2:end-1]) # this here is k, not \\hat{k}\n",
    "    alpha_exp = 8\n",
    "    α = 10.0^(-alpha_exp) # 0.1 0.001\n",
    "    par_f_x = (α, nm, Box_x)\n",
    "    exp_Theta = 3\n",
    "    θ = 10.0^(-exp_Theta)\n",
    "    p_max = sqrt((1+10*θ)^2-1)\n",
    "    Box_p = (-p_max,p_max,-p_max,p_max)\n",
    "    par_f_p = (θ,D)\n",
    "    #par_f_p_1 = (θ,1,D) #to compute the norm of f_p\n",
    "    #norm = int_mid_point_f(f_p_rel, par_f_p_1, [20_000,20_000], Box_p)\n",
    "    #par_f_p_rel = (θ,norm,D)\n",
    "    par_init = (α, nm)\n",
    "    data_name = data_name * \"nm_[$(nm[1]),$(nm[2])]_\"\n",
    "    data_name = data_name * \"alp$(alpha_exp)_N$(N_exp)_Th$(exp_Theta)\"\n",
    "    run_name = run_name * \"Box_$(Box[2]-Box[1])x$(Box[4]-Box[3])_J_$(J[1])x$(J[2])_nm_[$(nm[1]),$(nm[2])]__Th$(exp_Theta)_alp$(alpha_exp)\"\n",
    "elseif weibel_norel\n",
    "    run_name = \"weibel_norel_\"\n",
    "    data_name = \"par_dis_norel_weibel_\"\n",
    "    J = (100,100)\n",
    "    Box_x = (0.0,1.0,0.0,1.0) \n",
    "    Ax = 1/2 # velocity anisotropy in the x direction\n",
    "    alpha_exp = 8 # 8 so that is extremely small i.e. zero\n",
    "    α = 10.0^(-alpha_exp) # 0.1 0.001\n",
    "    par_f_x = (α, [0.0,0.0], Box_x)\n",
    "    exp_Theta = 3\n",
    "    θ = 10.0^(-exp_Theta)\n",
    "    p_max = sqrt((1+10*θ)^2-1)\n",
    "    Box_p = (-p_max,p_max,-p_max,p_max)\n",
    "    par_f_p = (θ,D,Ax)\n",
    "    par_init = (α, Ax)\n",
    "    data_name = data_name * \"Ax_(1d2)_\"\n",
    "    data_name = data_name * \"alp$(alpha_exp)_N$(N_exp)_Th$(exp_Theta)\"\n",
    "    run_name = run_name * \"Box_$(Box_x[2]-Box_x[1])x$(Box_x[4]-Box_x[3])_J_$(J[1])x$(J[2])_Ax_(1d2)_Th$(exp_Theta)_alp$(alpha_exp)\"\n",
    "elseif weibel \n",
    "    run_name = \"weibel_\"\n",
    "    data_name = \"par_dis_rel_weibel_\"\n",
    "    J = (100,100)\n",
    "    Box_x = (0.0,1.0,0.0,1.0) \n",
    "    Ax = 25 # velocity anisotropy in the x direction\n",
    "    alpha_exp = 8 # 8 so that is extremely small i.e. zero\n",
    "    α = 10.0^(-alpha_exp) # 0.1 0.001\n",
    "    par_f_x = (α, [0.0,0.0], Box_x)\n",
    "    exp_Theta = 3\n",
    "    θ1 = 10.0^(-exp_Theta)\n",
    "    θ2 = Ax * θ1\n",
    "    p_max = 10*θ2\n",
    "    Box_p = (-p_max,p_max,-p_max,p_max)\n",
    "    par_init = (α, Ax)\n",
    "    @show pars_f = (θ1,θ2,Ax)\n",
    "    data_name = data_name * \"Ax_$(Ax)_\"\n",
    "    data_name = data_name * \"alp$(alpha_exp)_N$(N_exp)_Th$(exp_Theta)\"\n",
    "    run_name = run_name * \"Box_$(Box_x[2]-Box_x[1])x$(Box_x[4]-Box_x[3])_J_$(J[1])x$(J[2])_Ax_$(Ax)_Th$(exp_Theta)_alp$(alpha_exp)\"\n",
    "end\n",
    "\n",
    "\n",
    "\n",
    "@show data_name \n",
    "\n",
    "# Evolution parameters\n",
    "exp_t = 1.0 #2\n",
    "t = 0.0\n",
    "t_i = 0.0\n",
    "t_f = 10.0^(exp_t)\n",
    "M = 1001 #16001# 4001 # 81 # 2001 # time steps \n",
    "M_g = 11 #8001 #400 + 1 #number of outputs, starting from the initial data\n",
    "dx = differentials(Box_x,J)\n",
    "@show dx_max = maximum(dx)\n",
    "@show dt = (t_f-t_i)/(M-1)\n",
    "\n",
    "\n",
    "# for plotting and other things\n",
    "x_p = [dx[1]*(i-1) for i in 1:J[1]] ;\n",
    "y_p = [dx[2]*(i-1) for i in 1:J[2]] ;\n",
    "\n",
    "Dx = periodic_derivative_operator(derivative_order=1, accuracy_order=6, xmin=Box_x[1], xmax=Box_x[2], N=J[1])\n",
    "Dy = periodic_derivative_operator(derivative_order=1, accuracy_order=6, xmin=Box_x[3], xmax=Box_x[4], N=J[2])\n",
    "\n",
    "\n",
    "\n",
    "@show par_evolv = (t_i, t_f, M, M_g, dt)\n",
    "@show par_grid = (N, J, Box_x, order)\n",
    "#@show pars_f = (θ1,θ2,)\n",
    "\n",
    "\n",
    "\n",
    "println(\"t_f = $(t_f), M = $M, dt = $(dt), exp_Theta = $(exp_Theta)\")\n",
    "\n",
    "\n",
    "\n",
    "run_name = run_name * \"tf_$(convert(Int,t_f))_N$(N_exp)_M$(M)_o$(order)\"\n",
    "println(run_name)\n",
    "println(data_name)\n"
   ]
  },
  {
   "cell_type": "code",
   "execution_count": 8,
   "metadata": {},
   "outputs": [
    {
     "data": {
      "text/plain": [
       "([0.669476545752844, 0.49294697661762865, -0.030379745781896783, 0.09215494300508353, 0.5326569618479964, 0.1173438629303113, 0.01677301128856379, -0.08104527116623056, 0.32991821228229967, 0.9939819170239349  …  -0.008118772464224433, -0.08064730639131751, 0.7040143100462987, 0.14006426115964787, 0.057242494864922056, 0.024879494554312542, 0.6398946988491334, 0.6634572085065977, -0.016186210636044196, -0.09949351300732545], \"par_dis_rel_weibel_Ax_25_alp8_N5_Th3\", (100000,), (1.0e-8, [0.0, 0.0], (0.0, 1.0, 0.0, 1.0)), (0.0, 1.0, 0.0, 1.0), (0.001, 0.025, [0.5, 0.0], 0.007760848597927437, 2), (-0.25, 0.25, -0.25, 0.25))"
      ]
     },
     "metadata": {},
     "output_type": "display_data"
    }
   ],
   "source": [
    "par_dis, run_name, pars, par_f_x, Box_x, par_f_p, Box_p = retrieve_initial_data_D(\"Initial_Distributions/\" * data_name * \".jld2\")\n",
    "#@show data_name_from_inidat, pars, par_f_x, Box_x, par_f_p, Box_p"
   ]
  },
  {
   "attachments": {},
   "cell_type": "markdown",
   "metadata": {},
   "source": [
    "### Check Density"
   ]
  },
  {
   "cell_type": "code",
   "execution_count": null,
   "metadata": {},
   "outputs": [],
   "source": [
    "plot(histogram2d(par_dis[1:2D:end],par_dis[2:2D:end], title=\"space distribution\" ))"
   ]
  },
  {
   "cell_type": "code",
   "execution_count": 10,
   "metadata": {},
   "outputs": [
    {
     "data": {
      "image/png": "[encoded data removed]",
      "image/svg+xml": "<?xml version=\"1.0\" encoding=\"utf-8\"?>\n<svg xmlns=\"http://www.w3.org/2000/svg\" xmlns:xlink=\"http://www.w3.org/1999/xlink\" width=\"600\" height=\"400\" viewBox=\"0 0 2400 1600\">\n<defs>\n  <clipPath id=\"clip810\">\n    <rect x=\"0\" y=\"0\" width=\"2400\" height=\"1600\"/>\n  </clipPath>\n</defs>\n<path clip-path=\"url(#clip810)\" d=\"\nM0 1600 L2400 1600 L2400 0 L0 0  Z\n  \" fill=\"#ffffff\" fill-rule=\"evenodd\" fill-opacity=\"1\"/>\n<defs>\n  <clipPath id=\"clip811\">\n    <rect x=\"480\" y=\"0\" width=\"1681\" height=\"1600\"/>\n  </clipPath>\n</defs>\n<path clip-path=\"url(#clip810)\" d=\"\nM224.098 1409.61 L2112.76 1409.61 L2112.76 200.308 L224.098 200.308  Z\n  \" fill=\"#ffffff\" fill-rule=\"evenodd\" fill-opacity=\"1\"/>\n<defs>\n  <clipPath id=\"clip812\">\n    <rect x=\"224\" y=\"200\" width=\"1890\" height=\"1210\"/>\n  </clipPath>\n</defs>\n<polyline clip-path=\"url(#clip812)\" style=\"stroke:#000000; stroke-linecap:round; stroke-linejoin:round; stroke-width:2; stroke-opacity:0.1; fill:none\" points=\"\n  412.612,1409.61 412.612,200.308 \n  \"/>\n<polyline clip-path=\"url(#clip812)\" style=\"stroke:#000000; stroke-linecap:round; stroke-linejoin:round; stroke-width:2; stroke-opacity:0.1; fill:none\" points=\"\n  790.519,1409.61 790.519,200.308 \n  \"/>\n<polyline clip-path=\"url(#clip812)\" style=\"stroke:#000000; stroke-linecap:round; stroke-linejoin:round; stroke-width:2; stroke-opacity:0.1; fill:none\" points=\"\n  1168.43,1409.61 1168.43,200.308 \n  \"/>\n<polyline clip-path=\"url(#clip812)\" style=\"stroke:#000000; stroke-linecap:round; stroke-linejoin:round; stroke-width:2; stroke-opacity:0.1; fill:none\" points=\"\n  1546.33,1409.61 1546.33,200.308 \n  \"/>\n<polyline clip-path=\"url(#clip812)\" style=\"stroke:#000000; stroke-linecap:round; stroke-linejoin:round; stroke-width:2; stroke-opacity:0.1; fill:none\" points=\"\n  1924.24,1409.61 1924.24,200.308 \n  \"/>\n<polyline clip-path=\"url(#clip810)\" style=\"stroke:#000000; stroke-linecap:round; stroke-linejoin:round; stroke-width:4; stroke-opacity:1; fill:none\" points=\"\n  224.098,1409.61 2112.76,1409.61 \n  \"/>\n<polyline clip-path=\"url(#clip810)\" style=\"stroke:#000000; stroke-linecap:round; stroke-linejoin:round; stroke-width:4; stroke-opacity:1; fill:none\" points=\"\n  412.612,1409.61 412.612,1392.85 \n  \"/>\n<polyline clip-path=\"url(#clip810)\" style=\"stroke:#000000; stroke-linecap:round; stroke-linejoin:round; stroke-width:4; stroke-opacity:1; fill:none\" points=\"\n  790.519,1409.61 790.519,1392.85 \n  \"/>\n<polyline clip-path=\"url(#clip810)\" style=\"stroke:#000000; stroke-linecap:round; stroke-linejoin:round; stroke-width:4; stroke-opacity:1; fill:none\" points=\"\n  1168.43,1409.61 1168.43,1392.85 \n  \"/>\n<polyline clip-path=\"url(#clip810)\" style=\"stroke:#000000; stroke-linecap:round; stroke-linejoin:round; stroke-width:4; stroke-opacity:1; fill:none\" points=\"\n  1546.33,1409.61 1546.33,1392.85 \n  \"/>\n<polyline clip-path=\"url(#clip810)\" style=\"stroke:#000000; stroke-linecap:round; stroke-linejoin:round; stroke-width:4; stroke-opacity:1; fill:none\" points=\"\n  1924.24,1409.61 1924.24,1392.85 \n  \"/>\n<path clip-path=\"url(#clip810)\" d=\"M359.938 1455.18 L389.614 1455.18 L389.614 1459.12 L359.938 1459.12 L359.938 1455.18 Z\" fill=\"#000000\" fill-rule=\"evenodd\" fill-opacity=\"1\" /><path clip-path=\"url(#clip810)\" d=\"M409.707 1440.53 Q406.096 1440.53 404.267 1444.1 Q402.461 1447.64 402.461 1454.77 Q402.461 1461.87 404.267 1465.44 Q406.096 1468.98 409.707 1468.98 Q413.341 1468.98 415.146 1465.44 Q416.975 1461.87 416.975 1454.77 Q416.975 1447.64 415.146 1444.1 Q413.341 1440.53 409.707 1440.53 M409.707 1436.83 Q415.517 1436.83 418.572 1441.43 Q421.651 1446.02 421.651 1454.77 Q421.651 1463.49 418.572 1468.1 Q415.517 1472.68 409.707 1472.68 Q403.897 1472.68 400.818 1468.1 Q397.762 1463.49 397.762 1454.77 Q397.762 1446.02 400.818 1441.43 Q403.897 1436.83 409.707 1436.83 Z\" fill=\"#000000\" fill-rule=\"evenodd\" fill-opacity=\"1\" /><path clip-path=\"url(#clip810)\" d=\"M429.869 1466.13 L434.753 1466.13 L434.753 1472.01 L429.869 1472.01 L429.869 1466.13 Z\" fill=\"#000000\" fill-rule=\"evenodd\" fill-opacity=\"1\" /><path clip-path=\"url(#clip810)\" d=\"M448.966 1468.08 L465.285 1468.08 L465.285 1472.01 L443.341 1472.01 L443.341 1468.08 Q446.003 1465.32 450.586 1460.69 Q455.193 1456.04 456.373 1454.7 Q458.618 1452.17 459.498 1450.44 Q460.401 1448.68 460.401 1446.99 Q460.401 1444.23 458.456 1442.5 Q456.535 1440.76 453.433 1440.76 Q451.234 1440.76 448.781 1441.53 Q446.35 1442.29 443.572 1443.84 L443.572 1439.12 Q446.396 1437.98 448.85 1437.41 Q451.304 1436.83 453.341 1436.83 Q458.711 1436.83 461.905 1439.51 Q465.1 1442.2 465.1 1446.69 Q465.1 1448.82 464.29 1450.74 Q463.503 1452.64 461.396 1455.23 Q460.818 1455.9 457.716 1459.12 Q454.614 1462.31 448.966 1468.08 Z\" fill=\"#000000\" fill-rule=\"evenodd\" fill-opacity=\"1\" /><path clip-path=\"url(#clip810)\" d=\"M737.661 1455.18 L767.337 1455.18 L767.337 1459.12 L737.661 1459.12 L737.661 1455.18 Z\" fill=\"#000000\" fill-rule=\"evenodd\" fill-opacity=\"1\" /><path clip-path=\"url(#clip810)\" d=\"M787.429 1440.53 Q783.818 1440.53 781.989 1444.1 Q780.184 1447.64 780.184 1454.77 Q780.184 1461.87 781.989 1465.44 Q783.818 1468.98 787.429 1468.98 Q791.063 1468.98 792.869 1465.44 Q794.698 1461.87 794.698 1454.77 Q794.698 1447.64 792.869 1444.1 Q791.063 1440.53 787.429 1440.53 M787.429 1436.83 Q793.239 1436.83 796.295 1441.43 Q799.373 1446.02 799.373 1454.77 Q799.373 1463.49 796.295 1468.1 Q793.239 1472.68 787.429 1472.68 Q781.619 1472.68 778.54 1468.1 Q775.485 1463.49 775.485 1454.77 Q775.485 1446.02 778.54 1441.43 Q781.619 1436.83 787.429 1436.83 Z\" fill=\"#000000\" fill-rule=\"evenodd\" fill-opacity=\"1\" /><path clip-path=\"url(#clip810)\" d=\"M807.591 1466.13 L812.475 1466.13 L812.475 1472.01 L807.591 1472.01 L807.591 1466.13 Z\" fill=\"#000000\" fill-rule=\"evenodd\" fill-opacity=\"1\" /><path clip-path=\"url(#clip810)\" d=\"M823.471 1468.08 L831.109 1468.08 L831.109 1441.71 L822.799 1443.38 L822.799 1439.12 L831.063 1437.45 L835.739 1437.45 L835.739 1468.08 L843.378 1468.08 L843.378 1472.01 L823.471 1472.01 L823.471 1468.08 Z\" fill=\"#000000\" fill-rule=\"evenodd\" fill-opacity=\"1\" /><path clip-path=\"url(#clip810)\" d=\"M1145.81 1440.53 Q1142.2 1440.53 1140.37 1444.1 Q1138.57 1447.64 1138.57 1454.77 Q1138.57 1461.87 1140.37 1465.44 Q1142.2 1468.98 1145.81 1468.98 Q1149.45 1468.98 1151.25 1465.44 Q1153.08 1461.87 1153.08 1454.77 Q1153.08 1447.64 1151.25 1444.1 Q1149.45 1440.53 1145.81 1440.53 M1145.81 1436.83 Q1151.62 1436.83 1154.68 1441.43 Q1157.76 1446.02 1157.76 1454.77 Q1157.76 1463.49 1154.68 1468.1 Q1151.62 1472.68 1145.81 1472.68 Q1140 1472.68 1136.92 1468.1 Q1133.87 1463.49 1133.87 1454.77 Q1133.87 1446.02 1136.92 1441.43 Q1140 1436.83 1145.81 1436.83 Z\" fill=\"#000000\" fill-rule=\"evenodd\" fill-opacity=\"1\" /><path clip-path=\"url(#clip810)\" d=\"M1165.97 1466.13 L1170.86 1466.13 L1170.86 1472.01 L1165.97 1472.01 L1165.97 1466.13 Z\" fill=\"#000000\" fill-rule=\"evenodd\" fill-opacity=\"1\" /><path clip-path=\"url(#clip810)\" d=\"M1191.04 1440.53 Q1187.43 1440.53 1185.6 1444.1 Q1183.8 1447.64 1183.8 1454.77 Q1183.8 1461.87 1185.6 1465.44 Q1187.43 1468.98 1191.04 1468.98 Q1194.68 1468.98 1196.48 1465.44 Q1198.31 1461.87 1198.31 1454.77 Q1198.31 1447.64 1196.48 1444.1 Q1194.68 1440.53 1191.04 1440.53 M1191.04 1436.83 Q1196.85 1436.83 1199.91 1441.43 Q1202.99 1446.02 1202.99 1454.77 Q1202.99 1463.49 1199.91 1468.1 Q1196.85 1472.68 1191.04 1472.68 Q1185.23 1472.68 1182.15 1468.1 Q1179.1 1463.49 1179.1 1454.77 Q1179.1 1446.02 1182.15 1441.43 Q1185.23 1436.83 1191.04 1436.83 Z\" fill=\"#000000\" fill-rule=\"evenodd\" fill-opacity=\"1\" /><path clip-path=\"url(#clip810)\" d=\"M1524.33 1440.53 Q1520.72 1440.53 1518.89 1444.1 Q1517.09 1447.64 1517.09 1454.77 Q1517.09 1461.87 1518.89 1465.44 Q1520.72 1468.98 1524.33 1468.98 Q1527.97 1468.98 1529.77 1465.44 Q1531.6 1461.87 1531.6 1454.77 Q1531.6 1447.64 1529.77 1444.1 Q1527.97 1440.53 1524.33 1440.53 M1524.33 1436.83 Q1530.14 1436.83 1533.2 1441.43 Q1536.28 1446.02 1536.28 1454.77 Q1536.28 1463.49 1533.2 1468.1 Q1530.14 1472.68 1524.33 1472.68 Q1518.52 1472.68 1515.44 1468.1 Q1512.39 1463.49 1512.39 1454.77 Q1512.39 1446.02 1515.44 1441.43 Q1518.52 1436.83 1524.33 1436.83 Z\" fill=\"#000000\" fill-rule=\"evenodd\" fill-opacity=\"1\" /><path clip-path=\"url(#clip810)\" d=\"M1544.49 1466.13 L1549.38 1466.13 L1549.38 1472.01 L1544.49 1472.01 L1544.49 1466.13 Z\" fill=\"#000000\" fill-rule=\"evenodd\" fill-opacity=\"1\" /><path clip-path=\"url(#clip810)\" d=\"M1560.37 1468.08 L1568.01 1468.08 L1568.01 1441.71 L1559.7 1443.38 L1559.7 1439.12 L1567.97 1437.45 L1572.64 1437.45 L1572.64 1468.08 L1580.28 1468.08 L1580.28 1472.01 L1560.37 1472.01 L1560.37 1468.08 Z\" fill=\"#000000\" fill-rule=\"evenodd\" fill-opacity=\"1\" /><path clip-path=\"url(#clip810)\" d=\"M1902.43 1440.53 Q1898.81 1440.53 1896.99 1444.1 Q1895.18 1447.64 1895.18 1454.77 Q1895.18 1461.87 1896.99 1465.44 Q1898.81 1468.98 1902.43 1468.98 Q1906.06 1468.98 1907.86 1465.44 Q1909.69 1461.87 1909.69 1454.77 Q1909.69 1447.64 1907.86 1444.1 Q1906.06 1440.53 1902.43 1440.53 M1902.43 1436.83 Q1908.24 1436.83 1911.29 1441.43 Q1914.37 1446.02 1914.37 1454.77 Q1914.37 1463.49 1911.29 1468.1 Q1908.24 1472.68 1902.43 1472.68 Q1896.61 1472.68 1893.54 1468.1 Q1890.48 1463.49 1890.48 1454.77 Q1890.48 1446.02 1893.54 1441.43 Q1896.61 1436.83 1902.43 1436.83 Z\" fill=\"#000000\" fill-rule=\"evenodd\" fill-opacity=\"1\" /><path clip-path=\"url(#clip810)\" d=\"M1922.59 1466.13 L1927.47 1466.13 L1927.47 1472.01 L1922.59 1472.01 L1922.59 1466.13 Z\" fill=\"#000000\" fill-rule=\"evenodd\" fill-opacity=\"1\" /><path clip-path=\"url(#clip810)\" d=\"M1941.68 1468.08 L1958 1468.08 L1958 1472.01 L1936.06 1472.01 L1936.06 1468.08 Q1938.72 1465.32 1943.3 1460.69 Q1947.91 1456.04 1949.09 1454.7 Q1951.34 1452.17 1952.22 1450.44 Q1953.12 1448.68 1953.12 1446.99 Q1953.12 1444.23 1951.17 1442.5 Q1949.25 1440.76 1946.15 1440.76 Q1943.95 1440.76 1941.5 1441.53 Q1939.07 1442.29 1936.29 1443.84 L1936.29 1439.12 Q1939.11 1437.98 1941.57 1437.41 Q1944.02 1436.83 1946.06 1436.83 Q1951.43 1436.83 1954.62 1439.51 Q1957.82 1442.2 1957.82 1446.69 Q1957.82 1448.82 1957.01 1450.74 Q1956.22 1452.64 1954.11 1455.23 Q1953.54 1455.9 1950.43 1459.12 Q1947.33 1462.31 1941.68 1468.08 Z\" fill=\"#000000\" fill-rule=\"evenodd\" fill-opacity=\"1\" /><polyline clip-path=\"url(#clip812)\" style=\"stroke:#000000; stroke-linecap:round; stroke-linejoin:round; stroke-width:2; stroke-opacity:0.1; fill:none\" points=\"\n  224.098,1371.82 2112.76,1371.82 \n  \"/>\n<polyline clip-path=\"url(#clip812)\" style=\"stroke:#000000; stroke-linecap:round; stroke-linejoin:round; stroke-width:2; stroke-opacity:0.1; fill:none\" points=\"\n  224.098,1182.87 2112.76,1182.87 \n  \"/>\n<polyline clip-path=\"url(#clip812)\" style=\"stroke:#000000; stroke-linecap:round; stroke-linejoin:round; stroke-width:2; stroke-opacity:0.1; fill:none\" points=\"\n  224.098,993.914 2112.76,993.914 \n  \"/>\n<polyline clip-path=\"url(#clip812)\" style=\"stroke:#000000; stroke-linecap:round; stroke-linejoin:round; stroke-width:2; stroke-opacity:0.1; fill:none\" points=\"\n  224.098,804.96 2112.76,804.96 \n  \"/>\n<polyline clip-path=\"url(#clip812)\" style=\"stroke:#000000; stroke-linecap:round; stroke-linejoin:round; stroke-width:2; stroke-opacity:0.1; fill:none\" points=\"\n  224.098,616.006 2112.76,616.006 \n  \"/>\n<polyline clip-path=\"url(#clip812)\" style=\"stroke:#000000; stroke-linecap:round; stroke-linejoin:round; stroke-width:2; stroke-opacity:0.1; fill:none\" points=\"\n  224.098,427.052 2112.76,427.052 \n  \"/>\n<polyline clip-path=\"url(#clip812)\" style=\"stroke:#000000; stroke-linecap:round; stroke-linejoin:round; stroke-width:2; stroke-opacity:0.1; fill:none\" points=\"\n  224.098,238.099 2112.76,238.099 \n  \"/>\n<polyline clip-path=\"url(#clip810)\" style=\"stroke:#000000; stroke-linecap:round; stroke-linejoin:round; stroke-width:4; stroke-opacity:1; fill:none\" points=\"\n  224.098,1409.61 224.098,200.308 \n  \"/>\n<polyline clip-path=\"url(#clip810)\" style=\"stroke:#000000; stroke-linecap:round; stroke-linejoin:round; stroke-width:4; stroke-opacity:1; fill:none\" points=\"\n  224.098,1371.82 240.865,1371.82 \n  \"/>\n<polyline clip-path=\"url(#clip810)\" style=\"stroke:#000000; stroke-linecap:round; stroke-linejoin:round; stroke-width:4; stroke-opacity:1; fill:none\" points=\"\n  224.098,1182.87 240.865,1182.87 \n  \"/>\n<polyline clip-path=\"url(#clip810)\" style=\"stroke:#000000; stroke-linecap:round; stroke-linejoin:round; stroke-width:4; stroke-opacity:1; fill:none\" points=\"\n  224.098,993.914 240.865,993.914 \n  \"/>\n<polyline clip-path=\"url(#clip810)\" style=\"stroke:#000000; stroke-linecap:round; stroke-linejoin:round; stroke-width:4; stroke-opacity:1; fill:none\" points=\"\n  224.098,804.96 240.865,804.96 \n  \"/>\n<polyline clip-path=\"url(#clip810)\" style=\"stroke:#000000; stroke-linecap:round; stroke-linejoin:round; stroke-width:4; stroke-opacity:1; fill:none\" points=\"\n  224.098,616.006 240.865,616.006 \n  \"/>\n<polyline clip-path=\"url(#clip810)\" style=\"stroke:#000000; stroke-linecap:round; stroke-linejoin:round; stroke-width:4; stroke-opacity:1; fill:none\" points=\"\n  224.098,427.052 240.865,427.052 \n  \"/>\n<polyline clip-path=\"url(#clip810)\" style=\"stroke:#000000; stroke-linecap:round; stroke-linejoin:round; stroke-width:4; stroke-opacity:1; fill:none\" points=\"\n  224.098,238.099 240.865,238.099 \n  \"/>\n<path clip-path=\"url(#clip810)\" d=\"M51.9875 1372.27 L81.6633 1372.27 L81.6633 1376.21 L51.9875 1376.21 L51.9875 1372.27 Z\" fill=\"#000000\" fill-rule=\"evenodd\" fill-opacity=\"1\" /><path clip-path=\"url(#clip810)\" d=\"M101.756 1357.62 Q98.1447 1357.62 96.316 1361.18 Q94.5104 1364.73 94.5104 1371.86 Q94.5104 1378.96 96.316 1382.53 Q98.1447 1386.07 101.756 1386.07 Q105.39 1386.07 107.196 1382.53 Q109.024 1378.96 109.024 1371.86 Q109.024 1364.73 107.196 1361.18 Q105.39 1357.62 101.756 1357.62 M101.756 1353.92 Q107.566 1353.92 110.621 1358.52 Q113.7 1363.11 113.7 1371.86 Q113.7 1380.58 110.621 1385.19 Q107.566 1389.77 101.756 1389.77 Q95.9456 1389.77 92.8669 1385.19 Q89.8114 1380.58 89.8114 1371.86 Q89.8114 1363.11 92.8669 1358.52 Q95.9456 1353.92 101.756 1353.92 Z\" fill=\"#000000\" fill-rule=\"evenodd\" fill-opacity=\"1\" /><path clip-path=\"url(#clip810)\" d=\"M121.918 1383.22 L126.802 1383.22 L126.802 1389.1 L121.918 1389.1 L121.918 1383.22 Z\" fill=\"#000000\" fill-rule=\"evenodd\" fill-opacity=\"1\" /><path clip-path=\"url(#clip810)\" d=\"M137.797 1385.17 L145.436 1385.17 L145.436 1358.8 L137.126 1360.47 L137.126 1356.21 L145.39 1354.54 L150.066 1354.54 L150.066 1385.17 L157.705 1385.17 L157.705 1389.1 L137.797 1389.1 L137.797 1385.17 Z\" fill=\"#000000\" fill-rule=\"evenodd\" fill-opacity=\"1\" /><path clip-path=\"url(#clip810)\" d=\"M167.195 1354.54 L185.552 1354.54 L185.552 1358.48 L171.478 1358.48 L171.478 1366.95 Q172.496 1366.6 173.515 1366.44 Q174.533 1366.25 175.552 1366.25 Q181.339 1366.25 184.718 1369.43 Q188.098 1372.6 188.098 1378.01 Q188.098 1383.59 184.626 1386.69 Q181.153 1389.77 174.834 1389.77 Q172.658 1389.77 170.39 1389.4 Q168.144 1389.03 165.737 1388.29 L165.737 1383.59 Q167.82 1384.73 170.042 1385.28 Q172.265 1385.84 174.741 1385.84 Q178.746 1385.84 181.084 1383.73 Q183.422 1381.62 183.422 1378.01 Q183.422 1374.4 181.084 1372.3 Q178.746 1370.19 174.741 1370.19 Q172.866 1370.19 170.991 1370.61 Q169.14 1371.02 167.195 1371.9 L167.195 1354.54 Z\" fill=\"#000000\" fill-rule=\"evenodd\" fill-opacity=\"1\" /><path clip-path=\"url(#clip810)\" d=\"M50.9921 1183.32 L80.6679 1183.32 L80.6679 1187.25 L50.9921 1187.25 L50.9921 1183.32 Z\" fill=\"#000000\" fill-rule=\"evenodd\" fill-opacity=\"1\" /><path clip-path=\"url(#clip810)\" d=\"M100.76 1168.67 Q97.1493 1168.67 95.3206 1172.23 Q93.515 1175.77 93.515 1182.9 Q93.515 1190.01 95.3206 1193.57 Q97.1493 1197.12 100.76 1197.12 Q104.395 1197.12 106.2 1193.57 Q108.029 1190.01 108.029 1182.9 Q108.029 1175.77 106.2 1172.23 Q104.395 1168.67 100.76 1168.67 M100.76 1164.96 Q106.571 1164.96 109.626 1169.57 Q112.705 1174.15 112.705 1182.9 Q112.705 1191.63 109.626 1196.24 Q106.571 1200.82 100.76 1200.82 Q94.9502 1200.82 91.8715 1196.24 Q88.816 1191.63 88.816 1182.9 Q88.816 1174.15 91.8715 1169.57 Q94.9502 1164.96 100.76 1164.96 Z\" fill=\"#000000\" fill-rule=\"evenodd\" fill-opacity=\"1\" /><path clip-path=\"url(#clip810)\" d=\"M120.922 1194.27 L125.807 1194.27 L125.807 1200.15 L120.922 1200.15 L120.922 1194.27 Z\" fill=\"#000000\" fill-rule=\"evenodd\" fill-opacity=\"1\" /><path clip-path=\"url(#clip810)\" d=\"M136.802 1196.21 L144.441 1196.21 L144.441 1169.85 L136.131 1171.51 L136.131 1167.25 L144.394 1165.59 L149.07 1165.59 L149.07 1196.21 L156.709 1196.21 L156.709 1200.15 L136.802 1200.15 L136.802 1196.21 Z\" fill=\"#000000\" fill-rule=\"evenodd\" fill-opacity=\"1\" /><path clip-path=\"url(#clip810)\" d=\"M176.153 1168.67 Q172.542 1168.67 170.714 1172.23 Q168.908 1175.77 168.908 1182.9 Q168.908 1190.01 170.714 1193.57 Q172.542 1197.12 176.153 1197.12 Q179.788 1197.12 181.593 1193.57 Q183.422 1190.01 183.422 1182.9 Q183.422 1175.77 181.593 1172.23 Q179.788 1168.67 176.153 1168.67 M176.153 1164.96 Q181.964 1164.96 185.019 1169.57 Q188.098 1174.15 188.098 1182.9 Q188.098 1191.63 185.019 1196.24 Q181.964 1200.82 176.153 1200.82 Q170.343 1200.82 167.265 1196.24 Q164.209 1191.63 164.209 1182.9 Q164.209 1174.15 167.265 1169.57 Q170.343 1164.96 176.153 1164.96 Z\" fill=\"#000000\" fill-rule=\"evenodd\" fill-opacity=\"1\" /><path clip-path=\"url(#clip810)\" d=\"M51.9875 994.365 L81.6633 994.365 L81.6633 998.3 L51.9875 998.3 L51.9875 994.365 Z\" fill=\"#000000\" fill-rule=\"evenodd\" fill-opacity=\"1\" /><path clip-path=\"url(#clip810)\" d=\"M101.756 979.712 Q98.1447 979.712 96.316 983.277 Q94.5104 986.819 94.5104 993.949 Q94.5104 1001.05 96.316 1004.62 Q98.1447 1008.16 101.756 1008.16 Q105.39 1008.16 107.196 1004.62 Q109.024 1001.05 109.024 993.949 Q109.024 986.819 107.196 983.277 Q105.39 979.712 101.756 979.712 M101.756 976.009 Q107.566 976.009 110.621 980.615 Q113.7 985.199 113.7 993.949 Q113.7 1002.68 110.621 1007.28 Q107.566 1011.87 101.756 1011.87 Q95.9456 1011.87 92.8669 1007.28 Q89.8114 1002.68 89.8114 993.949 Q89.8114 985.199 92.8669 980.615 Q95.9456 976.009 101.756 976.009 Z\" fill=\"#000000\" fill-rule=\"evenodd\" fill-opacity=\"1\" /><path clip-path=\"url(#clip810)\" d=\"M121.918 1005.31 L126.802 1005.31 L126.802 1011.19 L121.918 1011.19 L121.918 1005.31 Z\" fill=\"#000000\" fill-rule=\"evenodd\" fill-opacity=\"1\" /><path clip-path=\"url(#clip810)\" d=\"M146.987 979.712 Q143.376 979.712 141.547 983.277 Q139.742 986.819 139.742 993.949 Q139.742 1001.05 141.547 1004.62 Q143.376 1008.16 146.987 1008.16 Q150.621 1008.16 152.427 1004.62 Q154.255 1001.05 154.255 993.949 Q154.255 986.819 152.427 983.277 Q150.621 979.712 146.987 979.712 M146.987 976.009 Q152.797 976.009 155.853 980.615 Q158.931 985.199 158.931 993.949 Q158.931 1002.68 155.853 1007.28 Q152.797 1011.87 146.987 1011.87 Q141.177 1011.87 138.098 1007.28 Q135.043 1002.68 135.043 993.949 Q135.043 985.199 138.098 980.615 Q141.177 976.009 146.987 976.009 Z\" fill=\"#000000\" fill-rule=\"evenodd\" fill-opacity=\"1\" /><path clip-path=\"url(#clip810)\" d=\"M167.195 976.634 L185.552 976.634 L185.552 980.569 L171.478 980.569 L171.478 989.041 Q172.496 988.694 173.515 988.532 Q174.533 988.347 175.552 988.347 Q181.339 988.347 184.718 991.518 Q188.098 994.689 188.098 1000.11 Q188.098 1005.68 184.626 1008.79 Q181.153 1011.87 174.834 1011.87 Q172.658 1011.87 170.39 1011.49 Q168.144 1011.12 165.737 1010.38 L165.737 1005.68 Q167.82 1006.82 170.042 1007.37 Q172.265 1007.93 174.741 1007.93 Q178.746 1007.93 181.084 1005.82 Q183.422 1003.72 183.422 1000.11 Q183.422 996.495 181.084 994.388 Q178.746 992.282 174.741 992.282 Q172.866 992.282 170.991 992.699 Q169.14 993.115 167.195 993.995 L167.195 976.634 Z\" fill=\"#000000\" fill-rule=\"evenodd\" fill-opacity=\"1\" /><path clip-path=\"url(#clip810)\" d=\"M100.76 790.759 Q97.1493 790.759 95.3206 794.323 Q93.515 797.865 93.515 804.995 Q93.515 812.101 95.3206 815.666 Q97.1493 819.208 100.76 819.208 Q104.395 819.208 106.2 815.666 Q108.029 812.101 108.029 804.995 Q108.029 797.865 106.2 794.323 Q104.395 790.759 100.76 790.759 M100.76 787.055 Q106.571 787.055 109.626 791.661 Q112.705 796.245 112.705 804.995 Q112.705 813.722 109.626 818.328 Q106.571 822.911 100.76 822.911 Q94.9502 822.911 91.8715 818.328 Q88.816 813.722 88.816 804.995 Q88.816 796.245 91.8715 791.661 Q94.9502 787.055 100.76 787.055 Z\" fill=\"#000000\" fill-rule=\"evenodd\" fill-opacity=\"1\" /><path clip-path=\"url(#clip810)\" d=\"M120.922 816.36 L125.807 816.36 L125.807 822.24 L120.922 822.24 L120.922 816.36 Z\" fill=\"#000000\" fill-rule=\"evenodd\" fill-opacity=\"1\" /><path clip-path=\"url(#clip810)\" d=\"M145.992 790.759 Q142.381 790.759 140.552 794.323 Q138.746 797.865 138.746 804.995 Q138.746 812.101 140.552 815.666 Q142.381 819.208 145.992 819.208 Q149.626 819.208 151.431 815.666 Q153.26 812.101 153.26 804.995 Q153.26 797.865 151.431 794.323 Q149.626 790.759 145.992 790.759 M145.992 787.055 Q151.802 787.055 154.857 791.661 Q157.936 796.245 157.936 804.995 Q157.936 813.722 154.857 818.328 Q151.802 822.911 145.992 822.911 Q140.181 822.911 137.103 818.328 Q134.047 813.722 134.047 804.995 Q134.047 796.245 137.103 791.661 Q140.181 787.055 145.992 787.055 Z\" fill=\"#000000\" fill-rule=\"evenodd\" fill-opacity=\"1\" /><path clip-path=\"url(#clip810)\" d=\"M176.153 790.759 Q172.542 790.759 170.714 794.323 Q168.908 797.865 168.908 804.995 Q168.908 812.101 170.714 815.666 Q172.542 819.208 176.153 819.208 Q179.788 819.208 181.593 815.666 Q183.422 812.101 183.422 804.995 Q183.422 797.865 181.593 794.323 Q179.788 790.759 176.153 790.759 M176.153 787.055 Q181.964 787.055 185.019 791.661 Q188.098 796.245 188.098 804.995 Q188.098 813.722 185.019 818.328 Q181.964 822.911 176.153 822.911 Q170.343 822.911 167.265 818.328 Q164.209 813.722 164.209 804.995 Q164.209 796.245 167.265 791.661 Q170.343 787.055 176.153 787.055 Z\" fill=\"#000000\" fill-rule=\"evenodd\" fill-opacity=\"1\" /><path clip-path=\"url(#clip810)\" d=\"M101.756 601.805 Q98.1447 601.805 96.316 605.37 Q94.5104 608.911 94.5104 616.041 Q94.5104 623.147 96.316 626.712 Q98.1447 630.254 101.756 630.254 Q105.39 630.254 107.196 626.712 Q109.024 623.147 109.024 616.041 Q109.024 608.911 107.196 605.37 Q105.39 601.805 101.756 601.805 M101.756 598.101 Q107.566 598.101 110.621 602.708 Q113.7 607.291 113.7 616.041 Q113.7 624.768 110.621 629.374 Q107.566 633.958 101.756 633.958 Q95.9456 633.958 92.8669 629.374 Q89.8114 624.768 89.8114 616.041 Q89.8114 607.291 92.8669 602.708 Q95.9456 598.101 101.756 598.101 Z\" fill=\"#000000\" fill-rule=\"evenodd\" fill-opacity=\"1\" /><path clip-path=\"url(#clip810)\" d=\"M121.918 627.407 L126.802 627.407 L126.802 633.286 L121.918 633.286 L121.918 627.407 Z\" fill=\"#000000\" fill-rule=\"evenodd\" fill-opacity=\"1\" /><path clip-path=\"url(#clip810)\" d=\"M146.987 601.805 Q143.376 601.805 141.547 605.37 Q139.742 608.911 139.742 616.041 Q139.742 623.147 141.547 626.712 Q143.376 630.254 146.987 630.254 Q150.621 630.254 152.427 626.712 Q154.255 623.147 154.255 616.041 Q154.255 608.911 152.427 605.37 Q150.621 601.805 146.987 601.805 M146.987 598.101 Q152.797 598.101 155.853 602.708 Q158.931 607.291 158.931 616.041 Q158.931 624.768 155.853 629.374 Q152.797 633.958 146.987 633.958 Q141.177 633.958 138.098 629.374 Q135.043 624.768 135.043 616.041 Q135.043 607.291 138.098 602.708 Q141.177 598.101 146.987 598.101 Z\" fill=\"#000000\" fill-rule=\"evenodd\" fill-opacity=\"1\" /><path clip-path=\"url(#clip810)\" d=\"M167.195 598.726 L185.552 598.726 L185.552 602.661 L171.478 602.661 L171.478 611.134 Q172.496 610.786 173.515 610.624 Q174.533 610.439 175.552 610.439 Q181.339 610.439 184.718 613.61 Q188.098 616.782 188.098 622.198 Q188.098 627.777 184.626 630.879 Q181.153 633.958 174.834 633.958 Q172.658 633.958 170.39 633.587 Q168.144 633.217 165.737 632.476 L165.737 627.777 Q167.82 628.911 170.042 629.467 Q172.265 630.022 174.741 630.022 Q178.746 630.022 181.084 627.916 Q183.422 625.809 183.422 622.198 Q183.422 618.587 181.084 616.481 Q178.746 614.374 174.741 614.374 Q172.866 614.374 170.991 614.791 Q169.14 615.208 167.195 616.087 L167.195 598.726 Z\" fill=\"#000000\" fill-rule=\"evenodd\" fill-opacity=\"1\" /><path clip-path=\"url(#clip810)\" d=\"M100.76 412.851 Q97.1493 412.851 95.3206 416.416 Q93.515 419.958 93.515 427.087 Q93.515 434.194 95.3206 437.758 Q97.1493 441.3 100.76 441.3 Q104.395 441.3 106.2 437.758 Q108.029 434.194 108.029 427.087 Q108.029 419.958 106.2 416.416 Q104.395 412.851 100.76 412.851 M100.76 409.147 Q106.571 409.147 109.626 413.754 Q112.705 418.337 112.705 427.087 Q112.705 435.814 109.626 440.42 Q106.571 445.004 100.76 445.004 Q94.9502 445.004 91.8715 440.42 Q88.816 435.814 88.816 427.087 Q88.816 418.337 91.8715 413.754 Q94.9502 409.147 100.76 409.147 Z\" fill=\"#000000\" fill-rule=\"evenodd\" fill-opacity=\"1\" /><path clip-path=\"url(#clip810)\" d=\"M120.922 438.453 L125.807 438.453 L125.807 444.332 L120.922 444.332 L120.922 438.453 Z\" fill=\"#000000\" fill-rule=\"evenodd\" fill-opacity=\"1\" /><path clip-path=\"url(#clip810)\" d=\"M136.802 440.397 L144.441 440.397 L144.441 414.032 L136.131 415.698 L136.131 411.439 L144.394 409.772 L149.07 409.772 L149.07 440.397 L156.709 440.397 L156.709 444.332 L136.802 444.332 L136.802 440.397 Z\" fill=\"#000000\" fill-rule=\"evenodd\" fill-opacity=\"1\" /><path clip-path=\"url(#clip810)\" d=\"M176.153 412.851 Q172.542 412.851 170.714 416.416 Q168.908 419.958 168.908 427.087 Q168.908 434.194 170.714 437.758 Q172.542 441.3 176.153 441.3 Q179.788 441.3 181.593 437.758 Q183.422 434.194 183.422 427.087 Q183.422 419.958 181.593 416.416 Q179.788 412.851 176.153 412.851 M176.153 409.147 Q181.964 409.147 185.019 413.754 Q188.098 418.337 188.098 427.087 Q188.098 435.814 185.019 440.42 Q181.964 445.004 176.153 445.004 Q170.343 445.004 167.265 440.42 Q164.209 435.814 164.209 427.087 Q164.209 418.337 167.265 413.754 Q170.343 409.147 176.153 409.147 Z\" fill=\"#000000\" fill-rule=\"evenodd\" fill-opacity=\"1\" /><path clip-path=\"url(#clip810)\" d=\"M101.756 223.897 Q98.1447 223.897 96.316 227.462 Q94.5104 231.004 94.5104 238.133 Q94.5104 245.24 96.316 248.805 Q98.1447 252.346 101.756 252.346 Q105.39 252.346 107.196 248.805 Q109.024 245.24 109.024 238.133 Q109.024 231.004 107.196 227.462 Q105.39 223.897 101.756 223.897 M101.756 220.194 Q107.566 220.194 110.621 224.8 Q113.7 229.383 113.7 238.133 Q113.7 246.86 110.621 251.467 Q107.566 256.05 101.756 256.05 Q95.9456 256.05 92.8669 251.467 Q89.8114 246.86 89.8114 238.133 Q89.8114 229.383 92.8669 224.8 Q95.9456 220.194 101.756 220.194 Z\" fill=\"#000000\" fill-rule=\"evenodd\" fill-opacity=\"1\" /><path clip-path=\"url(#clip810)\" d=\"M121.918 249.499 L126.802 249.499 L126.802 255.379 L121.918 255.379 L121.918 249.499 Z\" fill=\"#000000\" fill-rule=\"evenodd\" fill-opacity=\"1\" /><path clip-path=\"url(#clip810)\" d=\"M137.797 251.443 L145.436 251.443 L145.436 225.078 L137.126 226.745 L137.126 222.485 L145.39 220.819 L150.066 220.819 L150.066 251.443 L157.705 251.443 L157.705 255.379 L137.797 255.379 L137.797 251.443 Z\" fill=\"#000000\" fill-rule=\"evenodd\" fill-opacity=\"1\" /><path clip-path=\"url(#clip810)\" d=\"M167.195 220.819 L185.552 220.819 L185.552 224.754 L171.478 224.754 L171.478 233.226 Q172.496 232.879 173.515 232.717 Q174.533 232.532 175.552 232.532 Q181.339 232.532 184.718 235.703 Q188.098 238.874 188.098 244.291 Q188.098 249.869 184.626 252.971 Q181.153 256.05 174.834 256.05 Q172.658 256.05 170.39 255.68 Q168.144 255.309 165.737 254.568 L165.737 249.869 Q167.82 251.004 170.042 251.559 Q172.265 252.115 174.741 252.115 Q178.746 252.115 181.084 250.008 Q183.422 247.902 183.422 244.291 Q183.422 240.68 181.084 238.573 Q178.746 236.467 174.741 236.467 Q172.866 236.467 170.991 236.883 Q169.14 237.3 167.195 238.18 L167.195 220.819 Z\" fill=\"#000000\" fill-rule=\"evenodd\" fill-opacity=\"1\" /><path clip-path=\"url(#clip810)\" d=\"M746.89 35.9153 Q749.685 30.8922 753.574 28.5022 Q757.463 26.1121 762.729 26.1121 Q769.818 26.1121 773.666 31.0947 Q777.515 36.0368 777.515 45.1919 L777.515 72.576 L770.02 72.576 L770.02 45.4349 Q770.02 38.913 767.711 35.7533 Q765.402 32.5936 760.663 32.5936 Q754.87 32.5936 751.508 36.4419 Q748.146 40.2903 748.146 46.9338 L748.146 72.576 L740.651 72.576 L740.651 45.4349 Q740.651 38.8725 738.342 35.7533 Q736.033 32.5936 731.213 32.5936 Q725.501 32.5936 722.139 36.4824 Q718.777 40.3308 718.777 46.9338 L718.777 72.576 L711.282 72.576 L711.282 27.2059 L718.777 27.2059 L718.777 34.2544 Q721.329 30.082 724.893 28.0971 Q728.458 26.1121 733.36 26.1121 Q738.302 26.1121 741.745 28.6237 Q745.229 31.1352 746.89 35.9153 Z\" fill=\"#000000\" fill-rule=\"evenodd\" fill-opacity=\"1\" /><path clip-path=\"url(#clip810)\" d=\"M809.962 32.4315 Q803.967 32.4315 800.483 37.1306 Q796.999 41.7891 796.999 49.9314 Q796.999 58.0738 800.443 62.7728 Q803.927 67.4314 809.962 67.4314 Q815.917 67.4314 819.401 62.7323 Q822.885 58.0333 822.885 49.9314 Q822.885 41.8701 819.401 37.1711 Q815.917 32.4315 809.962 32.4315 M809.962 26.1121 Q819.685 26.1121 825.234 32.4315 Q830.784 38.7509 830.784 49.9314 Q830.784 61.0714 825.234 67.4314 Q819.685 73.7508 809.962 73.7508 Q800.2 73.7508 794.65 67.4314 Q789.141 61.0714 789.141 49.9314 Q789.141 38.7509 794.65 32.4315 Q800.2 26.1121 809.962 26.1121 Z\" fill=\"#000000\" fill-rule=\"evenodd\" fill-opacity=\"1\" /><path clip-path=\"url(#clip810)\" d=\"M878.463 35.9153 Q881.258 30.8922 885.147 28.5022 Q889.036 26.1121 894.302 26.1121 Q901.391 26.1121 905.24 31.0947 Q909.088 36.0368 909.088 45.1919 L909.088 72.576 L901.594 72.576 L901.594 45.4349 Q901.594 38.913 899.285 35.7533 Q896.976 32.5936 892.236 32.5936 Q886.443 32.5936 883.081 36.4419 Q879.719 40.2903 879.719 46.9338 L879.719 72.576 L872.225 72.576 L872.225 45.4349 Q872.225 38.8725 869.916 35.7533 Q867.607 32.5936 862.786 32.5936 Q857.074 32.5936 853.712 36.4824 Q850.35 40.3308 850.35 46.9338 L850.35 72.576 L842.856 72.576 L842.856 27.2059 L850.35 27.2059 L850.35 34.2544 Q852.902 30.082 856.467 28.0971 Q860.032 26.1121 864.933 26.1121 Q869.875 26.1121 873.319 28.6237 Q876.802 31.1352 878.463 35.9153 Z\" fill=\"#000000\" fill-rule=\"evenodd\" fill-opacity=\"1\" /><path clip-path=\"url(#clip810)\" d=\"M962.762 48.0275 L962.762 51.6733 L928.492 51.6733 Q928.978 59.3701 933.11 63.421 Q937.282 67.4314 944.695 67.4314 Q948.989 67.4314 953 66.3781 Q957.051 65.3249 961.021 63.2184 L961.021 70.267 Q957.01 71.9684 952.797 72.8596 Q948.584 73.7508 944.25 73.7508 Q933.393 73.7508 927.034 67.4314 Q920.714 61.1119 920.714 50.3365 Q920.714 39.1965 926.709 32.6746 Q932.745 26.1121 942.954 26.1121 Q952.109 26.1121 957.415 32.0264 Q962.762 37.9003 962.762 48.0275 M955.309 45.84 Q955.228 39.7232 951.866 36.0774 Q948.544 32.4315 943.035 32.4315 Q936.796 32.4315 933.029 35.9558 Q929.302 39.4801 928.735 45.8805 L955.309 45.84 Z\" fill=\"#000000\" fill-rule=\"evenodd\" fill-opacity=\"1\" /><path clip-path=\"url(#clip810)\" d=\"M1012.71 45.1919 L1012.71 72.576 L1005.26 72.576 L1005.26 45.4349 Q1005.26 38.994 1002.74 35.7938 Q1000.23 32.5936 995.21 32.5936 Q989.174 32.5936 985.691 36.4419 Q982.207 40.2903 982.207 46.9338 L982.207 72.576 L974.713 72.576 L974.713 27.2059 L982.207 27.2059 L982.207 34.2544 Q984.88 30.163 988.486 28.1376 Q992.132 26.1121 996.871 26.1121 Q1004.69 26.1121 1008.7 30.9732 Q1012.71 35.7938 1012.71 45.1919 Z\" fill=\"#000000\" fill-rule=\"evenodd\" fill-opacity=\"1\" /><path clip-path=\"url(#clip810)\" d=\"M1034.95 14.324 L1034.95 27.2059 L1050.3 27.2059 L1050.3 32.9987 L1034.95 32.9987 L1034.95 57.6282 Q1034.95 63.1779 1036.45 64.7578 Q1037.99 66.3376 1042.65 66.3376 L1050.3 66.3376 L1050.3 72.576 L1042.65 72.576 Q1034.02 72.576 1030.74 69.3758 Q1027.46 66.1351 1027.46 57.6282 L1027.46 32.9987 L1021.99 32.9987 L1021.99 27.2059 L1027.46 27.2059 L1027.46 14.324 L1034.95 14.324 Z\" fill=\"#000000\" fill-rule=\"evenodd\" fill-opacity=\"1\" /><path clip-path=\"url(#clip810)\" d=\"M1059.34 54.671 L1059.34 27.2059 L1066.79 27.2059 L1066.79 54.3874 Q1066.79 60.8284 1069.3 64.0691 Q1071.81 67.2693 1076.84 67.2693 Q1082.87 67.2693 1086.36 63.421 Q1089.88 59.5726 1089.88 52.9291 L1089.88 27.2059 L1097.33 27.2059 L1097.33 72.576 L1089.88 72.576 L1089.88 65.6084 Q1087.17 69.7404 1083.56 71.7658 Q1080 73.7508 1075.26 73.7508 Q1067.44 73.7508 1063.39 68.8897 Q1059.34 64.0286 1059.34 54.671 M1078.09 26.1121 L1078.09 26.1121 Z\" fill=\"#000000\" fill-rule=\"evenodd\" fill-opacity=\"1\" /><path clip-path=\"url(#clip810)\" d=\"M1148.01 35.9153 Q1150.81 30.8922 1154.69 28.5022 Q1158.58 26.1121 1163.85 26.1121 Q1170.94 26.1121 1174.79 31.0947 Q1178.64 36.0368 1178.64 45.1919 L1178.64 72.576 L1171.14 72.576 L1171.14 45.4349 Q1171.14 38.913 1168.83 35.7533 Q1166.52 32.5936 1161.78 32.5936 Q1155.99 32.5936 1152.63 36.4419 Q1149.27 40.2903 1149.27 46.9338 L1149.27 72.576 L1141.77 72.576 L1141.77 45.4349 Q1141.77 38.8725 1139.46 35.7533 Q1137.15 32.5936 1132.33 32.5936 Q1126.62 32.5936 1123.26 36.4824 Q1119.9 40.3308 1119.9 46.9338 L1119.9 72.576 L1112.4 72.576 L1112.4 27.2059 L1119.9 27.2059 L1119.9 34.2544 Q1122.45 30.082 1126.01 28.0971 Q1129.58 26.1121 1134.48 26.1121 Q1139.42 26.1121 1142.87 28.6237 Q1146.35 31.1352 1148.01 35.9153 Z\" fill=\"#000000\" fill-rule=\"evenodd\" fill-opacity=\"1\" /><path clip-path=\"url(#clip810)\" d=\"M1257.59 45.1919 L1257.59 72.576 L1250.13 72.576 L1250.13 45.4349 Q1250.13 38.994 1247.62 35.7938 Q1245.11 32.5936 1240.09 32.5936 Q1234.05 32.5936 1230.57 36.4419 Q1227.08 40.2903 1227.08 46.9338 L1227.08 72.576 L1219.59 72.576 L1219.59 9.54393 L1227.08 9.54393 L1227.08 34.2544 Q1229.76 30.163 1233.36 28.1376 Q1237.01 26.1121 1241.75 26.1121 Q1249.57 26.1121 1253.58 30.9732 Q1257.59 35.7938 1257.59 45.1919 Z\" fill=\"#000000\" fill-rule=\"evenodd\" fill-opacity=\"1\" /><path clip-path=\"url(#clip810)\" d=\"M1272.45 27.2059 L1279.91 27.2059 L1279.91 72.576 L1272.45 72.576 L1272.45 27.2059 M1272.45 9.54393 L1279.91 9.54393 L1279.91 18.9825 L1272.45 18.9825 L1272.45 9.54393 Z\" fill=\"#000000\" fill-rule=\"evenodd\" fill-opacity=\"1\" /><path clip-path=\"url(#clip810)\" d=\"M1324.43 28.5427 L1324.43 35.5912 Q1321.27 33.9709 1317.86 33.1607 Q1314.46 32.3505 1310.82 32.3505 Q1305.27 32.3505 1302.47 34.0519 Q1299.72 35.7533 1299.72 39.156 Q1299.72 41.7486 1301.7 43.2475 Q1303.69 44.7058 1309.68 46.0426 L1312.23 46.6097 Q1320.17 48.3111 1323.5 51.4303 Q1326.86 54.509 1326.86 60.0587 Q1326.86 66.3781 1321.83 70.0644 Q1316.85 73.7508 1308.1 73.7508 Q1304.46 73.7508 1300.49 73.0216 Q1296.56 72.3329 1292.18 70.9151 L1292.18 63.2184 Q1296.31 65.3654 1300.32 66.4591 Q1304.33 67.5124 1308.26 67.5124 Q1313.53 67.5124 1316.37 65.73 Q1319.2 63.9071 1319.2 60.6258 Q1319.2 57.5877 1317.14 55.9673 Q1315.11 54.3469 1308.18 52.8481 L1305.59 52.2405 Q1298.66 50.7821 1295.58 47.7845 Q1292.51 44.7463 1292.51 39.4801 Q1292.51 33.0797 1297.04 29.5959 Q1301.58 26.1121 1309.92 26.1121 Q1314.06 26.1121 1317.7 26.7198 Q1321.35 27.3274 1324.43 28.5427 Z\" fill=\"#000000\" fill-rule=\"evenodd\" fill-opacity=\"1\" /><path clip-path=\"url(#clip810)\" d=\"M1346.1 14.324 L1346.1 27.2059 L1361.45 27.2059 L1361.45 32.9987 L1346.1 32.9987 L1346.1 57.6282 Q1346.1 63.1779 1347.6 64.7578 Q1349.14 66.3376 1353.8 66.3376 L1361.45 66.3376 L1361.45 72.576 L1353.8 72.576 Q1345.17 72.576 1341.89 69.3758 Q1338.61 66.1351 1338.61 57.6282 L1338.61 32.9987 L1333.14 32.9987 L1333.14 27.2059 L1338.61 27.2059 L1338.61 14.324 L1346.1 14.324 Z\" fill=\"#000000\" fill-rule=\"evenodd\" fill-opacity=\"1\" /><path clip-path=\"url(#clip810)\" d=\"M1388.84 32.4315 Q1382.84 32.4315 1379.36 37.1306 Q1375.87 41.7891 1375.87 49.9314 Q1375.87 58.0738 1379.32 62.7728 Q1382.8 67.4314 1388.84 67.4314 Q1394.79 67.4314 1398.28 62.7323 Q1401.76 58.0333 1401.76 49.9314 Q1401.76 41.8701 1398.28 37.1711 Q1394.79 32.4315 1388.84 32.4315 M1388.84 26.1121 Q1398.56 26.1121 1404.11 32.4315 Q1409.66 38.7509 1409.66 49.9314 Q1409.66 61.0714 1404.11 67.4314 Q1398.56 73.7508 1388.84 73.7508 Q1379.07 73.7508 1373.52 67.4314 Q1368.01 61.0714 1368.01 49.9314 Q1368.01 38.7509 1373.52 32.4315 Q1379.07 26.1121 1388.84 26.1121 Z\" fill=\"#000000\" fill-rule=\"evenodd\" fill-opacity=\"1\" /><path clip-path=\"url(#clip810)\" d=\"M1451.87 49.3643 Q1451.87 41.2625 1448.51 36.8065 Q1445.18 32.3505 1439.15 32.3505 Q1433.15 32.3505 1429.79 36.8065 Q1426.47 41.2625 1426.47 49.3643 Q1426.47 57.4256 1429.79 61.8816 Q1433.15 66.3376 1439.15 66.3376 Q1445.18 66.3376 1448.51 61.8816 Q1451.87 57.4256 1451.87 49.3643 M1459.32 66.9452 Q1459.32 78.5308 1454.18 84.1616 Q1449.03 89.8329 1438.42 89.8329 Q1434.49 89.8329 1431.01 89.2252 Q1427.52 88.6581 1424.24 87.4428 L1424.24 80.1917 Q1427.52 81.9741 1430.72 82.8248 Q1433.92 83.6755 1437.24 83.6755 Q1444.58 83.6755 1448.22 79.8271 Q1451.87 76.0193 1451.87 68.282 L1451.87 64.5957 Q1449.56 68.6061 1445.95 70.5911 Q1442.35 72.576 1437.33 72.576 Q1428.98 72.576 1423.88 66.2161 Q1418.77 59.8562 1418.77 49.3643 Q1418.77 38.832 1423.88 32.472 Q1428.98 26.1121 1437.33 26.1121 Q1442.35 26.1121 1445.95 28.0971 Q1449.56 30.082 1451.87 34.0924 L1451.87 27.2059 L1459.32 27.2059 L1459.32 66.9452 Z\" fill=\"#000000\" fill-rule=\"evenodd\" fill-opacity=\"1\" /><path clip-path=\"url(#clip810)\" d=\"M1500.97 34.1734 Q1499.71 33.4443 1498.21 33.1202 Q1496.75 32.7556 1494.97 32.7556 Q1488.65 32.7556 1485.25 36.8875 Q1481.89 40.9789 1481.89 48.6757 L1481.89 72.576 L1474.39 72.576 L1474.39 27.2059 L1481.89 27.2059 L1481.89 34.2544 Q1484.24 30.1225 1488 28.1376 Q1491.77 26.1121 1497.16 26.1121 Q1497.93 26.1121 1498.86 26.2337 Q1499.79 26.3147 1500.93 26.5172 L1500.97 34.1734 Z\" fill=\"#000000\" fill-rule=\"evenodd\" fill-opacity=\"1\" /><path clip-path=\"url(#clip810)\" d=\"M1529.4 49.7694 Q1520.37 49.7694 1516.89 51.8354 Q1513.4 53.9013 1513.4 58.8839 Q1513.4 62.8538 1515.99 65.2034 Q1518.63 67.5124 1523.12 67.5124 Q1529.32 67.5124 1533.05 63.1374 Q1536.82 58.7219 1536.82 51.4303 L1536.82 49.7694 L1529.4 49.7694 M1544.27 46.6907 L1544.27 72.576 L1536.82 72.576 L1536.82 65.6895 Q1534.26 69.8214 1530.46 71.8063 Q1526.65 73.7508 1521.14 73.7508 Q1514.17 73.7508 1510.04 69.8619 Q1505.95 65.9325 1505.95 59.3701 Q1505.95 51.7138 1511.05 47.825 Q1516.2 43.9361 1526.36 43.9361 L1536.82 43.9361 L1536.82 43.2069 Q1536.82 38.0623 1533.41 35.2672 Q1530.05 32.4315 1523.93 32.4315 Q1520.05 32.4315 1516.36 33.3632 Q1512.67 34.295 1509.27 36.1584 L1509.27 29.2718 Q1513.36 27.692 1517.21 26.9223 Q1521.06 26.1121 1524.7 26.1121 Q1534.55 26.1121 1539.41 31.2163 Q1544.27 36.3204 1544.27 46.6907 Z\" fill=\"#000000\" fill-rule=\"evenodd\" fill-opacity=\"1\" /><path clip-path=\"url(#clip810)\" d=\"M1594.95 35.9153 Q1597.74 30.8922 1601.63 28.5022 Q1605.52 26.1121 1610.79 26.1121 Q1617.87 26.1121 1621.72 31.0947 Q1625.57 36.0368 1625.57 45.1919 L1625.57 72.576 L1618.08 72.576 L1618.08 45.4349 Q1618.08 38.913 1615.77 35.7533 Q1613.46 32.5936 1608.72 32.5936 Q1602.93 32.5936 1599.56 36.4419 Q1596.2 40.2903 1596.2 46.9338 L1596.2 72.576 L1588.71 72.576 L1588.71 45.4349 Q1588.71 38.8725 1586.4 35.7533 Q1584.09 32.5936 1579.27 32.5936 Q1573.56 32.5936 1570.2 36.4824 Q1566.83 40.3308 1566.83 46.9338 L1566.83 72.576 L1559.34 72.576 L1559.34 27.2059 L1566.83 27.2059 L1566.83 34.2544 Q1569.39 30.082 1572.95 28.0971 Q1576.51 26.1121 1581.42 26.1121 Q1586.36 26.1121 1589.8 28.6237 Q1593.29 31.1352 1594.95 35.9153 Z\" fill=\"#000000\" fill-rule=\"evenodd\" fill-opacity=\"1\" /><g clip-path=\"url(#clip812)\">\n<image width=\"1360\" height=\"1209\" xlink:href=\"data:image/png;base64,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\nQmCC\n\" transform=\"translate(488, 200)\"/>\n</g>\n<defs>\n  <clipPath id=\"clip813\">\n    <rect x=\"2160\" y=\"200\" width=\"73\" height=\"1210\"/>\n  </clipPath>\n</defs>\n<g clip-path=\"url(#clip813)\">\n<image width=\"72\" height=\"1209\" xlink:href=\"data:image/png;base64,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\n7uaDBQWBgkBBoDCPk/TKgoJAQaDwH/Ur7IH8vWgVAAAAAElFTkSuQmCC\n\" transform=\"translate(2161, 200)\"/>\n</g>\n<path clip-path=\"url(#clip810)\" d=\"M2270.21 1185.77 L2288.57 1185.77 L2288.57 1189.71 L2274.5 1189.71 L2274.5 1198.18 Q2275.52 1197.83 2276.53 1197.67 Q2277.55 1197.49 2278.57 1197.49 Q2284.36 1197.49 2287.74 1200.66 Q2291.12 1203.83 2291.12 1209.24 Q2291.12 1214.82 2287.64 1217.92 Q2284.17 1221 2277.85 1221 Q2275.68 1221 2273.41 1220.63 Q2271.16 1220.26 2268.76 1219.52 L2268.76 1214.82 Q2270.84 1215.96 2273.06 1216.51 Q2275.28 1217.07 2277.76 1217.07 Q2281.77 1217.07 2284.1 1214.96 Q2286.44 1212.86 2286.44 1209.24 Q2286.44 1205.63 2284.1 1203.53 Q2281.77 1201.42 2277.76 1201.42 Q2275.89 1201.42 2274.01 1201.84 Q2272.16 1202.25 2270.21 1203.13 L2270.21 1185.77 Z\" fill=\"#000000\" fill-rule=\"evenodd\" fill-opacity=\"1\" /><path clip-path=\"url(#clip810)\" d=\"M2310.33 1188.85 Q2306.72 1188.85 2304.89 1192.42 Q2303.08 1195.96 2303.08 1203.09 Q2303.08 1210.19 2304.89 1213.76 Q2306.72 1217.3 2310.33 1217.3 Q2313.96 1217.3 2315.77 1213.76 Q2317.6 1210.19 2317.6 1203.09 Q2317.6 1195.96 2315.77 1192.42 Q2313.96 1188.85 2310.33 1188.85 M2310.33 1185.15 Q2316.14 1185.15 2319.2 1189.75 Q2322.27 1194.34 2322.27 1203.09 Q2322.27 1211.81 2319.2 1216.42 Q2316.14 1221 2310.33 1221 Q2304.52 1221 2301.44 1216.42 Q2298.39 1211.81 2298.39 1203.09 Q2298.39 1194.34 2301.44 1189.75 Q2304.52 1185.15 2310.33 1185.15 Z\" fill=\"#000000\" fill-rule=\"evenodd\" fill-opacity=\"1\" /><path clip-path=\"url(#clip810)\" d=\"M2269.43 1009.32 L2277.07 1009.32 L2277.07 982.959 L2268.76 984.625 L2268.76 980.366 L2277.02 978.699 L2281.7 978.699 L2281.7 1009.32 L2289.33 1009.32 L2289.33 1013.26 L2269.43 1013.26 L2269.43 1009.32 Z\" fill=\"#000000\" fill-rule=\"evenodd\" fill-opacity=\"1\" /><path clip-path=\"url(#clip810)\" d=\"M2308.78 981.778 Q2305.17 981.778 2303.34 985.343 Q2301.53 988.885 2301.53 996.014 Q2301.53 1003.12 2303.34 1006.69 Q2305.17 1010.23 2308.78 1010.23 Q2312.41 1010.23 2314.22 1006.69 Q2316.05 1003.12 2316.05 996.014 Q2316.05 988.885 2314.22 985.343 Q2312.41 981.778 2308.78 981.778 M2308.78 978.074 Q2314.59 978.074 2317.64 982.681 Q2320.72 987.264 2320.72 996.014 Q2320.72 1004.74 2317.64 1009.35 Q2314.59 1013.93 2308.78 1013.93 Q2302.97 1013.93 2299.89 1009.35 Q2296.83 1004.74 2296.83 996.014 Q2296.83 987.264 2299.89 982.681 Q2302.97 978.074 2308.78 978.074 Z\" fill=\"#000000\" fill-rule=\"evenodd\" fill-opacity=\"1\" /><path clip-path=\"url(#clip810)\" d=\"M2338.94 981.778 Q2335.33 981.778 2333.5 985.343 Q2331.7 988.885 2331.7 996.014 Q2331.7 1003.12 2333.5 1006.69 Q2335.33 1010.23 2338.94 1010.23 Q2342.57 1010.23 2344.38 1006.69 Q2346.21 1003.12 2346.21 996.014 Q2346.21 988.885 2344.38 985.343 Q2342.57 981.778 2338.94 981.778 M2338.94 978.074 Q2344.75 978.074 2347.81 982.681 Q2350.89 987.264 2350.89 996.014 Q2350.89 1004.74 2347.81 1009.35 Q2344.75 1013.93 2338.94 1013.93 Q2333.13 1013.93 2330.05 1009.35 Q2327 1004.74 2327 996.014 Q2327 987.264 2330.05 982.681 Q2333.13 978.074 2338.94 978.074 Z\" fill=\"#000000\" fill-rule=\"evenodd\" fill-opacity=\"1\" /><path clip-path=\"url(#clip810)\" d=\"M2269.43 802.252 L2277.07 802.252 L2277.07 775.886 L2268.76 777.553 L2268.76 773.293 L2277.02 771.627 L2281.7 771.627 L2281.7 802.252 L2289.33 802.252 L2289.33 806.187 L2269.43 806.187 L2269.43 802.252 Z\" fill=\"#000000\" fill-rule=\"evenodd\" fill-opacity=\"1\" /><path clip-path=\"url(#clip810)\" d=\"M2298.83 771.627 L2317.18 771.627 L2317.18 775.562 L2303.11 775.562 L2303.11 784.034 Q2304.13 783.687 2305.14 783.525 Q2306.16 783.34 2307.18 783.34 Q2312.97 783.34 2316.35 786.511 Q2319.73 789.682 2319.73 795.099 Q2319.73 800.678 2316.26 803.779 Q2312.78 806.858 2306.46 806.858 Q2304.29 806.858 2302.02 806.488 Q2299.77 806.117 2297.37 805.377 L2297.37 800.678 Q2299.45 801.812 2301.67 802.367 Q2303.89 802.923 2306.37 802.923 Q2310.38 802.923 2312.71 800.817 Q2315.05 798.71 2315.05 795.099 Q2315.05 791.488 2312.71 789.381 Q2310.38 787.275 2306.37 787.275 Q2304.5 787.275 2302.62 787.692 Q2300.77 788.108 2298.83 788.988 L2298.83 771.627 Z\" fill=\"#000000\" fill-rule=\"evenodd\" fill-opacity=\"1\" /><path clip-path=\"url(#clip810)\" d=\"M2338.94 774.706 Q2335.33 774.706 2333.5 778.27 Q2331.7 781.812 2331.7 788.942 Q2331.7 796.048 2333.5 799.613 Q2335.33 803.154 2338.94 803.154 Q2342.57 803.154 2344.38 799.613 Q2346.21 796.048 2346.21 788.942 Q2346.21 781.812 2344.38 778.27 Q2342.57 774.706 2338.94 774.706 M2338.94 771.002 Q2344.75 771.002 2347.81 775.608 Q2350.89 780.192 2350.89 788.942 Q2350.89 797.668 2347.81 802.275 Q2344.75 806.858 2338.94 806.858 Q2333.13 806.858 2330.05 802.275 Q2327 797.668 2327 788.942 Q2327 780.192 2330.05 775.608 Q2333.13 771.002 2338.94 771.002 Z\" fill=\"#000000\" fill-rule=\"evenodd\" fill-opacity=\"1\" /><path clip-path=\"url(#clip810)\" d=\"M2274.38 595.179 L2290.7 595.179 L2290.7 599.114 L2268.76 599.114 L2268.76 595.179 Q2271.42 592.424 2276 587.795 Q2280.61 583.142 2281.79 581.799 Q2284.03 579.276 2284.91 577.54 Q2285.82 575.781 2285.82 574.091 Q2285.82 571.337 2283.87 569.6 Q2281.95 567.864 2278.85 567.864 Q2276.65 567.864 2274.2 568.628 Q2271.77 569.392 2268.99 570.943 L2268.99 566.221 Q2271.81 565.087 2274.27 564.508 Q2276.72 563.929 2278.76 563.929 Q2284.13 563.929 2287.32 566.614 Q2290.52 569.3 2290.52 573.79 Q2290.52 575.92 2289.7 577.841 Q2288.92 579.739 2286.81 582.332 Q2286.23 583.003 2283.13 586.221 Q2280.03 589.415 2274.38 595.179 Z\" fill=\"#000000\" fill-rule=\"evenodd\" fill-opacity=\"1\" /><path clip-path=\"url(#clip810)\" d=\"M2310.51 567.633 Q2306.9 567.633 2305.08 571.198 Q2303.27 574.739 2303.27 581.869 Q2303.27 588.975 2305.08 592.54 Q2306.9 596.082 2310.51 596.082 Q2314.15 596.082 2315.95 592.54 Q2317.78 588.975 2317.78 581.869 Q2317.78 574.739 2315.95 571.198 Q2314.15 567.633 2310.51 567.633 M2310.51 563.929 Q2316.33 563.929 2319.38 568.536 Q2322.46 573.119 2322.46 581.869 Q2322.46 590.596 2319.38 595.202 Q2316.33 599.785 2310.51 599.785 Q2304.7 599.785 2301.63 595.202 Q2298.57 590.596 2298.57 581.869 Q2298.57 573.119 2301.63 568.536 Q2304.7 563.929 2310.51 563.929 Z\" fill=\"#000000\" fill-rule=\"evenodd\" fill-opacity=\"1\" /><path clip-path=\"url(#clip810)\" d=\"M2340.68 567.633 Q2337.07 567.633 2335.24 571.198 Q2333.43 574.739 2333.43 581.869 Q2333.43 588.975 2335.24 592.54 Q2337.07 596.082 2340.68 596.082 Q2344.31 596.082 2346.12 592.54 Q2347.95 588.975 2347.95 581.869 Q2347.95 574.739 2346.12 571.198 Q2344.31 567.633 2340.68 567.633 M2340.68 563.929 Q2346.49 563.929 2349.54 568.536 Q2352.62 573.119 2352.62 581.869 Q2352.62 590.596 2349.54 595.202 Q2346.49 599.785 2340.68 599.785 Q2334.87 599.785 2331.79 595.202 Q2328.73 590.596 2328.73 581.869 Q2328.73 573.119 2331.79 568.536 Q2334.87 563.929 2340.68 563.929 Z\" fill=\"#000000\" fill-rule=\"evenodd\" fill-opacity=\"1\" /><path clip-path=\"url(#clip810)\" d=\"M2274.38 388.106 L2290.7 388.106 L2290.7 392.042 L2268.76 392.042 L2268.76 388.106 Q2271.42 385.352 2276 380.722 Q2280.61 376.069 2281.79 374.727 Q2284.03 372.204 2284.91 370.468 Q2285.82 368.708 2285.82 367.019 Q2285.82 364.264 2283.87 362.528 Q2281.95 360.792 2278.85 360.792 Q2276.65 360.792 2274.2 361.556 Q2271.77 362.32 2268.99 363.87 L2268.99 359.148 Q2271.81 358.014 2274.27 357.435 Q2276.72 356.857 2278.76 356.857 Q2284.13 356.857 2287.32 359.542 Q2290.52 362.227 2290.52 366.718 Q2290.52 368.847 2289.7 370.769 Q2288.92 372.667 2286.81 375.259 Q2286.23 375.931 2283.13 379.148 Q2280.03 382.343 2274.38 388.106 Z\" fill=\"#000000\" fill-rule=\"evenodd\" fill-opacity=\"1\" /><path clip-path=\"url(#clip810)\" d=\"M2300.56 357.482 L2318.92 357.482 L2318.92 361.417 L2304.84 361.417 L2304.84 369.889 Q2305.86 369.542 2306.88 369.38 Q2307.9 369.194 2308.92 369.194 Q2314.7 369.194 2318.08 372.366 Q2321.46 375.537 2321.46 380.954 Q2321.46 386.532 2317.99 389.634 Q2314.52 392.713 2308.2 392.713 Q2306.02 392.713 2303.76 392.342 Q2301.51 391.972 2299.1 391.231 L2299.1 386.532 Q2301.19 387.667 2303.41 388.222 Q2305.63 388.778 2308.11 388.778 Q2312.11 388.778 2314.45 386.671 Q2316.79 384.565 2316.79 380.954 Q2316.79 377.343 2314.45 375.236 Q2312.11 373.13 2308.11 373.13 Q2306.23 373.13 2304.36 373.546 Q2302.51 373.963 2300.56 374.843 L2300.56 357.482 Z\" fill=\"#000000\" fill-rule=\"evenodd\" fill-opacity=\"1\" /><path clip-path=\"url(#clip810)\" d=\"M2340.68 360.56 Q2337.07 360.56 2335.24 364.125 Q2333.43 367.667 2333.43 374.796 Q2333.43 381.903 2335.24 385.468 Q2337.07 389.009 2340.68 389.009 Q2344.31 389.009 2346.12 385.468 Q2347.95 381.903 2347.95 374.796 Q2347.95 367.667 2346.12 364.125 Q2344.31 360.56 2340.68 360.56 M2340.68 356.857 Q2346.49 356.857 2349.54 361.463 Q2352.62 366.046 2352.62 374.796 Q2352.62 383.523 2349.54 388.13 Q2346.49 392.713 2340.68 392.713 Q2334.87 392.713 2331.79 388.13 Q2328.73 383.523 2328.73 374.796 Q2328.73 366.046 2331.79 361.463 Q2334.87 356.857 2340.68 356.857 Z\" fill=\"#000000\" fill-rule=\"evenodd\" fill-opacity=\"1\" /><polyline clip-path=\"url(#clip810)\" style=\"stroke:#000000; stroke-linecap:round; stroke-linejoin:round; stroke-width:4; stroke-opacity:1; fill:none\" points=\"\n  2232.76,1409.61 2232.76,1206.68 2256.76,1206.68 2232.76,1206.68 2232.76,999.608 2256.76,999.608 2232.76,999.608 2232.76,792.536 2256.76,792.536 2232.76,792.536 \n  2232.76,585.463 2256.76,585.463 2232.76,585.463 2232.76,378.39 2256.76,378.39 2232.76,378.39 2232.76,200.308 \n  \"/>\n</svg>\n",
      "text/html": [
       "<?xml version=\"1.0\" encoding=\"utf-8\"?>\n",
       "<svg xmlns=\"http://www.w3.org/2000/svg\" xmlns:xlink=\"http://www.w3.org/1999/xlink\" width=\"600\" height=\"400\" viewBox=\"0 0 2400 1600\">\n",
       "<defs>\n",
       "  <clipPath id=\"clip860\">\n",
       "    <rect x=\"0\" y=\"0\" width=\"2400\" height=\"1600\"/>\n",
       "  </clipPath>\n",
       "</defs>\n",
       "<path clip-path=\"url(#clip860)\" d=\"\n",
       "M0 1600 L2400 1600 L2400 0 L0 0  Z\n",
       "  \" fill=\"#ffffff\" fill-rule=\"evenodd\" fill-opacity=\"1\"/>\n",
       "<defs>\n",
       "  <clipPath id=\"clip861\">\n",
       "    <rect x=\"480\" y=\"0\" width=\"1681\" height=\"1600\"/>\n",
       "  </clipPath>\n",
       "</defs>\n",
       "<path clip-path=\"url(#clip860)\" d=\"\n",
       "M224.098 1409.61 L2112.76 1409.61 L2112.76 200.308 L224.098 200.308  Z\n",
       "  \" fill=\"#ffffff\" fill-rule=\"evenodd\" fill-opacity=\"1\"/>\n",
       "<defs>\n",
       "  <clipPath id=\"clip862\">\n",
       "    <rect x=\"224\" y=\"200\" width=\"1890\" height=\"1210\"/>\n",
       "  </clipPath>\n",
       "</defs>\n",
       "<polyline clip-path=\"url(#clip862)\" style=\"stroke:#000000; stroke-linecap:round; stroke-linejoin:round; stroke-width:2; stroke-opacity:0.1; fill:none\" points=\"\n",
       "  412.612,1409.61 412.612,200.308 \n",
       "  \"/>\n",
       "<polyline clip-path=\"url(#clip862)\" style=\"stroke:#000000; stroke-linecap:round; stroke-linejoin:round; stroke-width:2; stroke-opacity:0.1; fill:none\" points=\"\n",
       "  790.519,1409.61 790.519,200.308 \n",
       "  \"/>\n",
       "<polyline clip-path=\"url(#clip862)\" style=\"stroke:#000000; stroke-linecap:round; stroke-linejoin:round; stroke-width:2; stroke-opacity:0.1; fill:none\" points=\"\n",
       "  1168.43,1409.61 1168.43,200.308 \n",
       "  \"/>\n",
       "<polyline clip-path=\"url(#clip862)\" style=\"stroke:#000000; stroke-linecap:round; stroke-linejoin:round; stroke-width:2; stroke-opacity:0.1; fill:none\" points=\"\n",
       "  1546.33,1409.61 1546.33,200.308 \n",
       "  \"/>\n",
       "<polyline clip-path=\"url(#clip862)\" style=\"stroke:#000000; stroke-linecap:round; stroke-linejoin:round; stroke-width:2; stroke-opacity:0.1; fill:none\" points=\"\n",
       "  1924.24,1409.61 1924.24,200.308 \n",
       "  \"/>\n",
       "<polyline clip-path=\"url(#clip860)\" style=\"stroke:#000000; stroke-linecap:round; stroke-linejoin:round; stroke-width:4; stroke-opacity:1; fill:none\" points=\"\n",
       "  224.098,1409.61 2112.76,1409.61 \n",
       "  \"/>\n",
       "<polyline clip-path=\"url(#clip860)\" style=\"stroke:#000000; stroke-linecap:round; stroke-linejoin:round; stroke-width:4; stroke-opacity:1; fill:none\" points=\"\n",
       "  412.612,1409.61 412.612,1392.85 \n",
       "  \"/>\n",
       "<polyline clip-path=\"url(#clip860)\" style=\"stroke:#000000; stroke-linecap:round; stroke-linejoin:round; stroke-width:4; stroke-opacity:1; fill:none\" points=\"\n",
       "  790.519,1409.61 790.519,1392.85 \n",
       "  \"/>\n",
       "<polyline clip-path=\"url(#clip860)\" style=\"stroke:#000000; stroke-linecap:round; stroke-linejoin:round; stroke-width:4; stroke-opacity:1; fill:none\" points=\"\n",
       "  1168.43,1409.61 1168.43,1392.85 \n",
       "  \"/>\n",
       "<polyline clip-path=\"url(#clip860)\" style=\"stroke:#000000; stroke-linecap:round; stroke-linejoin:round; stroke-width:4; stroke-opacity:1; fill:none\" points=\"\n",
       "  1546.33,1409.61 1546.33,1392.85 \n",
       "  \"/>\n",
       "<polyline clip-path=\"url(#clip860)\" style=\"stroke:#000000; stroke-linecap:round; stroke-linejoin:round; stroke-width:4; stroke-opacity:1; fill:none\" points=\"\n",
       "  1924.24,1409.61 1924.24,1392.85 \n",
       "  \"/>\n",
       "<path clip-path=\"url(#clip860)\" d=\"M359.938 1455.18 L389.614 1455.18 L389.614 1459.12 L359.938 1459.12 L359.938 1455.18 Z\" fill=\"#000000\" fill-rule=\"evenodd\" fill-opacity=\"1\" /><path clip-path=\"url(#clip860)\" d=\"M409.707 1440.53 Q406.096 1440.53 404.267 1444.1 Q402.461 1447.64 402.461 1454.77 Q402.461 1461.87 404.267 1465.44 Q406.096 1468.98 409.707 1468.98 Q413.341 1468.98 415.146 1465.44 Q416.975 1461.87 416.975 1454.77 Q416.975 1447.64 415.146 1444.1 Q413.341 1440.53 409.707 1440.53 M409.707 1436.83 Q415.517 1436.83 418.572 1441.43 Q421.651 1446.02 421.651 1454.77 Q421.651 1463.49 418.572 1468.1 Q415.517 1472.68 409.707 1472.68 Q403.897 1472.68 400.818 1468.1 Q397.762 1463.49 397.762 1454.77 Q397.762 1446.02 400.818 1441.43 Q403.897 1436.83 409.707 1436.83 Z\" fill=\"#000000\" fill-rule=\"evenodd\" fill-opacity=\"1\" /><path clip-path=\"url(#clip860)\" d=\"M429.869 1466.13 L434.753 1466.13 L434.753 1472.01 L429.869 1472.01 L429.869 1466.13 Z\" fill=\"#000000\" fill-rule=\"evenodd\" fill-opacity=\"1\" /><path clip-path=\"url(#clip860)\" d=\"M448.966 1468.08 L465.285 1468.08 L465.285 1472.01 L443.341 1472.01 L443.341 1468.08 Q446.003 1465.32 450.586 1460.69 Q455.193 1456.04 456.373 1454.7 Q458.618 1452.17 459.498 1450.44 Q460.401 1448.68 460.401 1446.99 Q460.401 1444.23 458.456 1442.5 Q456.535 1440.76 453.433 1440.76 Q451.234 1440.76 448.781 1441.53 Q446.35 1442.29 443.572 1443.84 L443.572 1439.12 Q446.396 1437.98 448.85 1437.41 Q451.304 1436.83 453.341 1436.83 Q458.711 1436.83 461.905 1439.51 Q465.1 1442.2 465.1 1446.69 Q465.1 1448.82 464.29 1450.74 Q463.503 1452.64 461.396 1455.23 Q460.818 1455.9 457.716 1459.12 Q454.614 1462.31 448.966 1468.08 Z\" fill=\"#000000\" fill-rule=\"evenodd\" fill-opacity=\"1\" /><path clip-path=\"url(#clip860)\" d=\"M737.661 1455.18 L767.337 1455.18 L767.337 1459.12 L737.661 1459.12 L737.661 1455.18 Z\" fill=\"#000000\" fill-rule=\"evenodd\" fill-opacity=\"1\" /><path clip-path=\"url(#clip860)\" d=\"M787.429 1440.53 Q783.818 1440.53 781.989 1444.1 Q780.184 1447.64 780.184 1454.77 Q780.184 1461.87 781.989 1465.44 Q783.818 1468.98 787.429 1468.98 Q791.063 1468.98 792.869 1465.44 Q794.698 1461.87 794.698 1454.77 Q794.698 1447.64 792.869 1444.1 Q791.063 1440.53 787.429 1440.53 M787.429 1436.83 Q793.239 1436.83 796.295 1441.43 Q799.373 1446.02 799.373 1454.77 Q799.373 1463.49 796.295 1468.1 Q793.239 1472.68 787.429 1472.68 Q781.619 1472.68 778.54 1468.1 Q775.485 1463.49 775.485 1454.77 Q775.485 1446.02 778.54 1441.43 Q781.619 1436.83 787.429 1436.83 Z\" fill=\"#000000\" fill-rule=\"evenodd\" fill-opacity=\"1\" /><path clip-path=\"url(#clip860)\" d=\"M807.591 1466.13 L812.475 1466.13 L812.475 1472.01 L807.591 1472.01 L807.591 1466.13 Z\" fill=\"#000000\" fill-rule=\"evenodd\" fill-opacity=\"1\" /><path clip-path=\"url(#clip860)\" d=\"M823.471 1468.08 L831.109 1468.08 L831.109 1441.71 L822.799 1443.38 L822.799 1439.12 L831.063 1437.45 L835.739 1437.45 L835.739 1468.08 L843.378 1468.08 L843.378 1472.01 L823.471 1472.01 L823.471 1468.08 Z\" fill=\"#000000\" fill-rule=\"evenodd\" fill-opacity=\"1\" /><path clip-path=\"url(#clip860)\" d=\"M1145.81 1440.53 Q1142.2 1440.53 1140.37 1444.1 Q1138.57 1447.64 1138.57 1454.77 Q1138.57 1461.87 1140.37 1465.44 Q1142.2 1468.98 1145.81 1468.98 Q1149.45 1468.98 1151.25 1465.44 Q1153.08 1461.87 1153.08 1454.77 Q1153.08 1447.64 1151.25 1444.1 Q1149.45 1440.53 1145.81 1440.53 M1145.81 1436.83 Q1151.62 1436.83 1154.68 1441.43 Q1157.76 1446.02 1157.76 1454.77 Q1157.76 1463.49 1154.68 1468.1 Q1151.62 1472.68 1145.81 1472.68 Q1140 1472.68 1136.92 1468.1 Q1133.87 1463.49 1133.87 1454.77 Q1133.87 1446.02 1136.92 1441.43 Q1140 1436.83 1145.81 1436.83 Z\" fill=\"#000000\" fill-rule=\"evenodd\" fill-opacity=\"1\" /><path clip-path=\"url(#clip860)\" d=\"M1165.97 1466.13 L1170.86 1466.13 L1170.86 1472.01 L1165.97 1472.01 L1165.97 1466.13 Z\" fill=\"#000000\" fill-rule=\"evenodd\" fill-opacity=\"1\" /><path clip-path=\"url(#clip860)\" d=\"M1191.04 1440.53 Q1187.43 1440.53 1185.6 1444.1 Q1183.8 1447.64 1183.8 1454.77 Q1183.8 1461.87 1185.6 1465.44 Q1187.43 1468.98 1191.04 1468.98 Q1194.68 1468.98 1196.48 1465.44 Q1198.31 1461.87 1198.31 1454.77 Q1198.31 1447.64 1196.48 1444.1 Q1194.68 1440.53 1191.04 1440.53 M1191.04 1436.83 Q1196.85 1436.83 1199.91 1441.43 Q1202.99 1446.02 1202.99 1454.77 Q1202.99 1463.49 1199.91 1468.1 Q1196.85 1472.68 1191.04 1472.68 Q1185.23 1472.68 1182.15 1468.1 Q1179.1 1463.49 1179.1 1454.77 Q1179.1 1446.02 1182.15 1441.43 Q1185.23 1436.83 1191.04 1436.83 Z\" fill=\"#000000\" fill-rule=\"evenodd\" fill-opacity=\"1\" /><path clip-path=\"url(#clip860)\" d=\"M1524.33 1440.53 Q1520.72 1440.53 1518.89 1444.1 Q1517.09 1447.64 1517.09 1454.77 Q1517.09 1461.87 1518.89 1465.44 Q1520.72 1468.98 1524.33 1468.98 Q1527.97 1468.98 1529.77 1465.44 Q1531.6 1461.87 1531.6 1454.77 Q1531.6 1447.64 1529.77 1444.1 Q1527.97 1440.53 1524.33 1440.53 M1524.33 1436.83 Q1530.14 1436.83 1533.2 1441.43 Q1536.28 1446.02 1536.28 1454.77 Q1536.28 1463.49 1533.2 1468.1 Q1530.14 1472.68 1524.33 1472.68 Q1518.52 1472.68 1515.44 1468.1 Q1512.39 1463.49 1512.39 1454.77 Q1512.39 1446.02 1515.44 1441.43 Q1518.52 1436.83 1524.33 1436.83 Z\" fill=\"#000000\" fill-rule=\"evenodd\" fill-opacity=\"1\" /><path clip-path=\"url(#clip860)\" d=\"M1544.49 1466.13 L1549.38 1466.13 L1549.38 1472.01 L1544.49 1472.01 L1544.49 1466.13 Z\" fill=\"#000000\" fill-rule=\"evenodd\" fill-opacity=\"1\" /><path clip-path=\"url(#clip860)\" d=\"M1560.37 1468.08 L1568.01 1468.08 L1568.01 1441.71 L1559.7 1443.38 L1559.7 1439.12 L1567.97 1437.45 L1572.64 1437.45 L1572.64 1468.08 L1580.28 1468.08 L1580.28 1472.01 L1560.37 1472.01 L1560.37 1468.08 Z\" fill=\"#000000\" fill-rule=\"evenodd\" fill-opacity=\"1\" /><path clip-path=\"url(#clip860)\" d=\"M1902.43 1440.53 Q1898.81 1440.53 1896.99 1444.1 Q1895.18 1447.64 1895.18 1454.77 Q1895.18 1461.87 1896.99 1465.44 Q1898.81 1468.98 1902.43 1468.98 Q1906.06 1468.98 1907.86 1465.44 Q1909.69 1461.87 1909.69 1454.77 Q1909.69 1447.64 1907.86 1444.1 Q1906.06 1440.53 1902.43 1440.53 M1902.43 1436.83 Q1908.24 1436.83 1911.29 1441.43 Q1914.37 1446.02 1914.37 1454.77 Q1914.37 1463.49 1911.29 1468.1 Q1908.24 1472.68 1902.43 1472.68 Q1896.61 1472.68 1893.54 1468.1 Q1890.48 1463.49 1890.48 1454.77 Q1890.48 1446.02 1893.54 1441.43 Q1896.61 1436.83 1902.43 1436.83 Z\" fill=\"#000000\" fill-rule=\"evenodd\" fill-opacity=\"1\" /><path clip-path=\"url(#clip860)\" d=\"M1922.59 1466.13 L1927.47 1466.13 L1927.47 1472.01 L1922.59 1472.01 L1922.59 1466.13 Z\" fill=\"#000000\" fill-rule=\"evenodd\" fill-opacity=\"1\" /><path clip-path=\"url(#clip860)\" d=\"M1941.68 1468.08 L1958 1468.08 L1958 1472.01 L1936.06 1472.01 L1936.06 1468.08 Q1938.72 1465.32 1943.3 1460.69 Q1947.91 1456.04 1949.09 1454.7 Q1951.34 1452.17 1952.22 1450.44 Q1953.12 1448.68 1953.12 1446.99 Q1953.12 1444.23 1951.17 1442.5 Q1949.25 1440.76 1946.15 1440.76 Q1943.95 1440.76 1941.5 1441.53 Q1939.07 1442.29 1936.29 1443.84 L1936.29 1439.12 Q1939.11 1437.98 1941.57 1437.41 Q1944.02 1436.83 1946.06 1436.83 Q1951.43 1436.83 1954.62 1439.51 Q1957.82 1442.2 1957.82 1446.69 Q1957.82 1448.82 1957.01 1450.74 Q1956.22 1452.64 1954.11 1455.23 Q1953.54 1455.9 1950.43 1459.12 Q1947.33 1462.31 1941.68 1468.08 Z\" fill=\"#000000\" fill-rule=\"evenodd\" fill-opacity=\"1\" /><polyline clip-path=\"url(#clip862)\" style=\"stroke:#000000; stroke-linecap:round; stroke-linejoin:round; stroke-width:2; stroke-opacity:0.1; fill:none\" points=\"\n",
       "  224.098,1371.82 2112.76,1371.82 \n",
       "  \"/>\n",
       "<polyline clip-path=\"url(#clip862)\" style=\"stroke:#000000; stroke-linecap:round; stroke-linejoin:round; stroke-width:2; stroke-opacity:0.1; fill:none\" points=\"\n",
       "  224.098,1182.87 2112.76,1182.87 \n",
       "  \"/>\n",
       "<polyline clip-path=\"url(#clip862)\" style=\"stroke:#000000; stroke-linecap:round; stroke-linejoin:round; stroke-width:2; stroke-opacity:0.1; fill:none\" points=\"\n",
       "  224.098,993.914 2112.76,993.914 \n",
       "  \"/>\n",
       "<polyline clip-path=\"url(#clip862)\" style=\"stroke:#000000; stroke-linecap:round; stroke-linejoin:round; stroke-width:2; stroke-opacity:0.1; fill:none\" points=\"\n",
       "  224.098,804.96 2112.76,804.96 \n",
       "  \"/>\n",
       "<polyline clip-path=\"url(#clip862)\" style=\"stroke:#000000; stroke-linecap:round; stroke-linejoin:round; stroke-width:2; stroke-opacity:0.1; fill:none\" points=\"\n",
       "  224.098,616.006 2112.76,616.006 \n",
       "  \"/>\n",
       "<polyline clip-path=\"url(#clip862)\" style=\"stroke:#000000; stroke-linecap:round; stroke-linejoin:round; stroke-width:2; stroke-opacity:0.1; fill:none\" points=\"\n",
       "  224.098,427.052 2112.76,427.052 \n",
       "  \"/>\n",
       "<polyline clip-path=\"url(#clip862)\" style=\"stroke:#000000; stroke-linecap:round; stroke-linejoin:round; stroke-width:2; stroke-opacity:0.1; fill:none\" points=\"\n",
       "  224.098,238.099 2112.76,238.099 \n",
       "  \"/>\n",
       "<polyline clip-path=\"url(#clip860)\" style=\"stroke:#000000; stroke-linecap:round; stroke-linejoin:round; stroke-width:4; stroke-opacity:1; fill:none\" points=\"\n",
       "  224.098,1409.61 224.098,200.308 \n",
       "  \"/>\n",
       "<polyline clip-path=\"url(#clip860)\" style=\"stroke:#000000; stroke-linecap:round; stroke-linejoin:round; stroke-width:4; stroke-opacity:1; fill:none\" points=\"\n",
       "  224.098,1371.82 240.865,1371.82 \n",
       "  \"/>\n",
       "<polyline clip-path=\"url(#clip860)\" style=\"stroke:#000000; stroke-linecap:round; stroke-linejoin:round; stroke-width:4; stroke-opacity:1; fill:none\" points=\"\n",
       "  224.098,1182.87 240.865,1182.87 \n",
       "  \"/>\n",
       "<polyline clip-path=\"url(#clip860)\" style=\"stroke:#000000; stroke-linecap:round; stroke-linejoin:round; stroke-width:4; stroke-opacity:1; fill:none\" points=\"\n",
       "  224.098,993.914 240.865,993.914 \n",
       "  \"/>\n",
       "<polyline clip-path=\"url(#clip860)\" style=\"stroke:#000000; stroke-linecap:round; stroke-linejoin:round; stroke-width:4; stroke-opacity:1; fill:none\" points=\"\n",
       "  224.098,804.96 240.865,804.96 \n",
       "  \"/>\n",
       "<polyline clip-path=\"url(#clip860)\" style=\"stroke:#000000; stroke-linecap:round; stroke-linejoin:round; stroke-width:4; stroke-opacity:1; fill:none\" points=\"\n",
       "  224.098,616.006 240.865,616.006 \n",
       "  \"/>\n",
       "<polyline clip-path=\"url(#clip860)\" style=\"stroke:#000000; stroke-linecap:round; stroke-linejoin:round; stroke-width:4; stroke-opacity:1; fill:none\" points=\"\n",
       "  224.098,427.052 240.865,427.052 \n",
       "  \"/>\n",
       "<polyline clip-path=\"url(#clip860)\" style=\"stroke:#000000; stroke-linecap:round; stroke-linejoin:round; stroke-width:4; stroke-opacity:1; fill:none\" points=\"\n",
       "  224.098,238.099 240.865,238.099 \n",
       "  \"/>\n",
       "<path clip-path=\"url(#clip860)\" d=\"M51.9875 1372.27 L81.6633 1372.27 L81.6633 1376.21 L51.9875 1376.21 L51.9875 1372.27 Z\" fill=\"#000000\" fill-rule=\"evenodd\" fill-opacity=\"1\" /><path clip-path=\"url(#clip860)\" d=\"M101.756 1357.62 Q98.1447 1357.62 96.316 1361.18 Q94.5104 1364.73 94.5104 1371.86 Q94.5104 1378.96 96.316 1382.53 Q98.1447 1386.07 101.756 1386.07 Q105.39 1386.07 107.196 1382.53 Q109.024 1378.96 109.024 1371.86 Q109.024 1364.73 107.196 1361.18 Q105.39 1357.62 101.756 1357.62 M101.756 1353.92 Q107.566 1353.92 110.621 1358.52 Q113.7 1363.11 113.7 1371.86 Q113.7 1380.58 110.621 1385.19 Q107.566 1389.77 101.756 1389.77 Q95.9456 1389.77 92.8669 1385.19 Q89.8114 1380.58 89.8114 1371.86 Q89.8114 1363.11 92.8669 1358.52 Q95.9456 1353.92 101.756 1353.92 Z\" fill=\"#000000\" fill-rule=\"evenodd\" fill-opacity=\"1\" /><path clip-path=\"url(#clip860)\" d=\"M121.918 1383.22 L126.802 1383.22 L126.802 1389.1 L121.918 1389.1 L121.918 1383.22 Z\" fill=\"#000000\" fill-rule=\"evenodd\" fill-opacity=\"1\" /><path clip-path=\"url(#clip860)\" d=\"M137.797 1385.17 L145.436 1385.17 L145.436 1358.8 L137.126 1360.47 L137.126 1356.21 L145.39 1354.54 L150.066 1354.54 L150.066 1385.17 L157.705 1385.17 L157.705 1389.1 L137.797 1389.1 L137.797 1385.17 Z\" fill=\"#000000\" fill-rule=\"evenodd\" fill-opacity=\"1\" /><path clip-path=\"url(#clip860)\" d=\"M167.195 1354.54 L185.552 1354.54 L185.552 1358.48 L171.478 1358.48 L171.478 1366.95 Q172.496 1366.6 173.515 1366.44 Q174.533 1366.25 175.552 1366.25 Q181.339 1366.25 184.718 1369.43 Q188.098 1372.6 188.098 1378.01 Q188.098 1383.59 184.626 1386.69 Q181.153 1389.77 174.834 1389.77 Q172.658 1389.77 170.39 1389.4 Q168.144 1389.03 165.737 1388.29 L165.737 1383.59 Q167.82 1384.73 170.042 1385.28 Q172.265 1385.84 174.741 1385.84 Q178.746 1385.84 181.084 1383.73 Q183.422 1381.62 183.422 1378.01 Q183.422 1374.4 181.084 1372.3 Q178.746 1370.19 174.741 1370.19 Q172.866 1370.19 170.991 1370.61 Q169.14 1371.02 167.195 1371.9 L167.195 1354.54 Z\" fill=\"#000000\" fill-rule=\"evenodd\" fill-opacity=\"1\" /><path clip-path=\"url(#clip860)\" d=\"M50.9921 1183.32 L80.6679 1183.32 L80.6679 1187.25 L50.9921 1187.25 L50.9921 1183.32 Z\" fill=\"#000000\" fill-rule=\"evenodd\" fill-opacity=\"1\" /><path clip-path=\"url(#clip860)\" d=\"M100.76 1168.67 Q97.1493 1168.67 95.3206 1172.23 Q93.515 1175.77 93.515 1182.9 Q93.515 1190.01 95.3206 1193.57 Q97.1493 1197.12 100.76 1197.12 Q104.395 1197.12 106.2 1193.57 Q108.029 1190.01 108.029 1182.9 Q108.029 1175.77 106.2 1172.23 Q104.395 1168.67 100.76 1168.67 M100.76 1164.96 Q106.571 1164.96 109.626 1169.57 Q112.705 1174.15 112.705 1182.9 Q112.705 1191.63 109.626 1196.24 Q106.571 1200.82 100.76 1200.82 Q94.9502 1200.82 91.8715 1196.24 Q88.816 1191.63 88.816 1182.9 Q88.816 1174.15 91.8715 1169.57 Q94.9502 1164.96 100.76 1164.96 Z\" fill=\"#000000\" fill-rule=\"evenodd\" fill-opacity=\"1\" /><path clip-path=\"url(#clip860)\" d=\"M120.922 1194.27 L125.807 1194.27 L125.807 1200.15 L120.922 1200.15 L120.922 1194.27 Z\" fill=\"#000000\" fill-rule=\"evenodd\" fill-opacity=\"1\" /><path clip-path=\"url(#clip860)\" d=\"M136.802 1196.21 L144.441 1196.21 L144.441 1169.85 L136.131 1171.51 L136.131 1167.25 L144.394 1165.59 L149.07 1165.59 L149.07 1196.21 L156.709 1196.21 L156.709 1200.15 L136.802 1200.15 L136.802 1196.21 Z\" fill=\"#000000\" fill-rule=\"evenodd\" fill-opacity=\"1\" /><path clip-path=\"url(#clip860)\" d=\"M176.153 1168.67 Q172.542 1168.67 170.714 1172.23 Q168.908 1175.77 168.908 1182.9 Q168.908 1190.01 170.714 1193.57 Q172.542 1197.12 176.153 1197.12 Q179.788 1197.12 181.593 1193.57 Q183.422 1190.01 183.422 1182.9 Q183.422 1175.77 181.593 1172.23 Q179.788 1168.67 176.153 1168.67 M176.153 1164.96 Q181.964 1164.96 185.019 1169.57 Q188.098 1174.15 188.098 1182.9 Q188.098 1191.63 185.019 1196.24 Q181.964 1200.82 176.153 1200.82 Q170.343 1200.82 167.265 1196.24 Q164.209 1191.63 164.209 1182.9 Q164.209 1174.15 167.265 1169.57 Q170.343 1164.96 176.153 1164.96 Z\" fill=\"#000000\" fill-rule=\"evenodd\" fill-opacity=\"1\" /><path clip-path=\"url(#clip860)\" d=\"M51.9875 994.365 L81.6633 994.365 L81.6633 998.3 L51.9875 998.3 L51.9875 994.365 Z\" fill=\"#000000\" fill-rule=\"evenodd\" fill-opacity=\"1\" /><path clip-path=\"url(#clip860)\" d=\"M101.756 979.712 Q98.1447 979.712 96.316 983.277 Q94.5104 986.819 94.5104 993.949 Q94.5104 1001.05 96.316 1004.62 Q98.1447 1008.16 101.756 1008.16 Q105.39 1008.16 107.196 1004.62 Q109.024 1001.05 109.024 993.949 Q109.024 986.819 107.196 983.277 Q105.39 979.712 101.756 979.712 M101.756 976.009 Q107.566 976.009 110.621 980.615 Q113.7 985.199 113.7 993.949 Q113.7 1002.68 110.621 1007.28 Q107.566 1011.87 101.756 1011.87 Q95.9456 1011.87 92.8669 1007.28 Q89.8114 1002.68 89.8114 993.949 Q89.8114 985.199 92.8669 980.615 Q95.9456 976.009 101.756 976.009 Z\" fill=\"#000000\" fill-rule=\"evenodd\" fill-opacity=\"1\" /><path clip-path=\"url(#clip860)\" d=\"M121.918 1005.31 L126.802 1005.31 L126.802 1011.19 L121.918 1011.19 L121.918 1005.31 Z\" fill=\"#000000\" fill-rule=\"evenodd\" fill-opacity=\"1\" /><path clip-path=\"url(#clip860)\" d=\"M146.987 979.712 Q143.376 979.712 141.547 983.277 Q139.742 986.819 139.742 993.949 Q139.742 1001.05 141.547 1004.62 Q143.376 1008.16 146.987 1008.16 Q150.621 1008.16 152.427 1004.62 Q154.255 1001.05 154.255 993.949 Q154.255 986.819 152.427 983.277 Q150.621 979.712 146.987 979.712 M146.987 976.009 Q152.797 976.009 155.853 980.615 Q158.931 985.199 158.931 993.949 Q158.931 1002.68 155.853 1007.28 Q152.797 1011.87 146.987 1011.87 Q141.177 1011.87 138.098 1007.28 Q135.043 1002.68 135.043 993.949 Q135.043 985.199 138.098 980.615 Q141.177 976.009 146.987 976.009 Z\" fill=\"#000000\" fill-rule=\"evenodd\" fill-opacity=\"1\" /><path clip-path=\"url(#clip860)\" d=\"M167.195 976.634 L185.552 976.634 L185.552 980.569 L171.478 980.569 L171.478 989.041 Q172.496 988.694 173.515 988.532 Q174.533 988.347 175.552 988.347 Q181.339 988.347 184.718 991.518 Q188.098 994.689 188.098 1000.11 Q188.098 1005.68 184.626 1008.79 Q181.153 1011.87 174.834 1011.87 Q172.658 1011.87 170.39 1011.49 Q168.144 1011.12 165.737 1010.38 L165.737 1005.68 Q167.82 1006.82 170.042 1007.37 Q172.265 1007.93 174.741 1007.93 Q178.746 1007.93 181.084 1005.82 Q183.422 1003.72 183.422 1000.11 Q183.422 996.495 181.084 994.388 Q178.746 992.282 174.741 992.282 Q172.866 992.282 170.991 992.699 Q169.14 993.115 167.195 993.995 L167.195 976.634 Z\" fill=\"#000000\" fill-rule=\"evenodd\" fill-opacity=\"1\" /><path clip-path=\"url(#clip860)\" d=\"M100.76 790.759 Q97.1493 790.759 95.3206 794.323 Q93.515 797.865 93.515 804.995 Q93.515 812.101 95.3206 815.666 Q97.1493 819.208 100.76 819.208 Q104.395 819.208 106.2 815.666 Q108.029 812.101 108.029 804.995 Q108.029 797.865 106.2 794.323 Q104.395 790.759 100.76 790.759 M100.76 787.055 Q106.571 787.055 109.626 791.661 Q112.705 796.245 112.705 804.995 Q112.705 813.722 109.626 818.328 Q106.571 822.911 100.76 822.911 Q94.9502 822.911 91.8715 818.328 Q88.816 813.722 88.816 804.995 Q88.816 796.245 91.8715 791.661 Q94.9502 787.055 100.76 787.055 Z\" fill=\"#000000\" fill-rule=\"evenodd\" fill-opacity=\"1\" /><path clip-path=\"url(#clip860)\" d=\"M120.922 816.36 L125.807 816.36 L125.807 822.24 L120.922 822.24 L120.922 816.36 Z\" fill=\"#000000\" fill-rule=\"evenodd\" fill-opacity=\"1\" /><path clip-path=\"url(#clip860)\" d=\"M145.992 790.759 Q142.381 790.759 140.552 794.323 Q138.746 797.865 138.746 804.995 Q138.746 812.101 140.552 815.666 Q142.381 819.208 145.992 819.208 Q149.626 819.208 151.431 815.666 Q153.26 812.101 153.26 804.995 Q153.26 797.865 151.431 794.323 Q149.626 790.759 145.992 790.759 M145.992 787.055 Q151.802 787.055 154.857 791.661 Q157.936 796.245 157.936 804.995 Q157.936 813.722 154.857 818.328 Q151.802 822.911 145.992 822.911 Q140.181 822.911 137.103 818.328 Q134.047 813.722 134.047 804.995 Q134.047 796.245 137.103 791.661 Q140.181 787.055 145.992 787.055 Z\" fill=\"#000000\" fill-rule=\"evenodd\" fill-opacity=\"1\" /><path clip-path=\"url(#clip860)\" d=\"M176.153 790.759 Q172.542 790.759 170.714 794.323 Q168.908 797.865 168.908 804.995 Q168.908 812.101 170.714 815.666 Q172.542 819.208 176.153 819.208 Q179.788 819.208 181.593 815.666 Q183.422 812.101 183.422 804.995 Q183.422 797.865 181.593 794.323 Q179.788 790.759 176.153 790.759 M176.153 787.055 Q181.964 787.055 185.019 791.661 Q188.098 796.245 188.098 804.995 Q188.098 813.722 185.019 818.328 Q181.964 822.911 176.153 822.911 Q170.343 822.911 167.265 818.328 Q164.209 813.722 164.209 804.995 Q164.209 796.245 167.265 791.661 Q170.343 787.055 176.153 787.055 Z\" fill=\"#000000\" fill-rule=\"evenodd\" fill-opacity=\"1\" /><path clip-path=\"url(#clip860)\" d=\"M101.756 601.805 Q98.1447 601.805 96.316 605.37 Q94.5104 608.911 94.5104 616.041 Q94.5104 623.147 96.316 626.712 Q98.1447 630.254 101.756 630.254 Q105.39 630.254 107.196 626.712 Q109.024 623.147 109.024 616.041 Q109.024 608.911 107.196 605.37 Q105.39 601.805 101.756 601.805 M101.756 598.101 Q107.566 598.101 110.621 602.708 Q113.7 607.291 113.7 616.041 Q113.7 624.768 110.621 629.374 Q107.566 633.958 101.756 633.958 Q95.9456 633.958 92.8669 629.374 Q89.8114 624.768 89.8114 616.041 Q89.8114 607.291 92.8669 602.708 Q95.9456 598.101 101.756 598.101 Z\" fill=\"#000000\" fill-rule=\"evenodd\" fill-opacity=\"1\" /><path clip-path=\"url(#clip860)\" d=\"M121.918 627.407 L126.802 627.407 L126.802 633.286 L121.918 633.286 L121.918 627.407 Z\" fill=\"#000000\" fill-rule=\"evenodd\" fill-opacity=\"1\" /><path clip-path=\"url(#clip860)\" d=\"M146.987 601.805 Q143.376 601.805 141.547 605.37 Q139.742 608.911 139.742 616.041 Q139.742 623.147 141.547 626.712 Q143.376 630.254 146.987 630.254 Q150.621 630.254 152.427 626.712 Q154.255 623.147 154.255 616.041 Q154.255 608.911 152.427 605.37 Q150.621 601.805 146.987 601.805 M146.987 598.101 Q152.797 598.101 155.853 602.708 Q158.931 607.291 158.931 616.041 Q158.931 624.768 155.853 629.374 Q152.797 633.958 146.987 633.958 Q141.177 633.958 138.098 629.374 Q135.043 624.768 135.043 616.041 Q135.043 607.291 138.098 602.708 Q141.177 598.101 146.987 598.101 Z\" fill=\"#000000\" fill-rule=\"evenodd\" fill-opacity=\"1\" /><path clip-path=\"url(#clip860)\" d=\"M167.195 598.726 L185.552 598.726 L185.552 602.661 L171.478 602.661 L171.478 611.134 Q172.496 610.786 173.515 610.624 Q174.533 610.439 175.552 610.439 Q181.339 610.439 184.718 613.61 Q188.098 616.782 188.098 622.198 Q188.098 627.777 184.626 630.879 Q181.153 633.958 174.834 633.958 Q172.658 633.958 170.39 633.587 Q168.144 633.217 165.737 632.476 L165.737 627.777 Q167.82 628.911 170.042 629.467 Q172.265 630.022 174.741 630.022 Q178.746 630.022 181.084 627.916 Q183.422 625.809 183.422 622.198 Q183.422 618.587 181.084 616.481 Q178.746 614.374 174.741 614.374 Q172.866 614.374 170.991 614.791 Q169.14 615.208 167.195 616.087 L167.195 598.726 Z\" fill=\"#000000\" fill-rule=\"evenodd\" fill-opacity=\"1\" /><path clip-path=\"url(#clip860)\" d=\"M100.76 412.851 Q97.1493 412.851 95.3206 416.416 Q93.515 419.958 93.515 427.087 Q93.515 434.194 95.3206 437.758 Q97.1493 441.3 100.76 441.3 Q104.395 441.3 106.2 437.758 Q108.029 434.194 108.029 427.087 Q108.029 419.958 106.2 416.416 Q104.395 412.851 100.76 412.851 M100.76 409.147 Q106.571 409.147 109.626 413.754 Q112.705 418.337 112.705 427.087 Q112.705 435.814 109.626 440.42 Q106.571 445.004 100.76 445.004 Q94.9502 445.004 91.8715 440.42 Q88.816 435.814 88.816 427.087 Q88.816 418.337 91.8715 413.754 Q94.9502 409.147 100.76 409.147 Z\" fill=\"#000000\" fill-rule=\"evenodd\" fill-opacity=\"1\" /><path clip-path=\"url(#clip860)\" d=\"M120.922 438.453 L125.807 438.453 L125.807 444.332 L120.922 444.332 L120.922 438.453 Z\" fill=\"#000000\" fill-rule=\"evenodd\" fill-opacity=\"1\" /><path clip-path=\"url(#clip860)\" d=\"M136.802 440.397 L144.441 440.397 L144.441 414.032 L136.131 415.698 L136.131 411.439 L144.394 409.772 L149.07 409.772 L149.07 440.397 L156.709 440.397 L156.709 444.332 L136.802 444.332 L136.802 440.397 Z\" fill=\"#000000\" fill-rule=\"evenodd\" fill-opacity=\"1\" /><path clip-path=\"url(#clip860)\" d=\"M176.153 412.851 Q172.542 412.851 170.714 416.416 Q168.908 419.958 168.908 427.087 Q168.908 434.194 170.714 437.758 Q172.542 441.3 176.153 441.3 Q179.788 441.3 181.593 437.758 Q183.422 434.194 183.422 427.087 Q183.422 419.958 181.593 416.416 Q179.788 412.851 176.153 412.851 M176.153 409.147 Q181.964 409.147 185.019 413.754 Q188.098 418.337 188.098 427.087 Q188.098 435.814 185.019 440.42 Q181.964 445.004 176.153 445.004 Q170.343 445.004 167.265 440.42 Q164.209 435.814 164.209 427.087 Q164.209 418.337 167.265 413.754 Q170.343 409.147 176.153 409.147 Z\" fill=\"#000000\" fill-rule=\"evenodd\" fill-opacity=\"1\" /><path clip-path=\"url(#clip860)\" d=\"M101.756 223.897 Q98.1447 223.897 96.316 227.462 Q94.5104 231.004 94.5104 238.133 Q94.5104 245.24 96.316 248.805 Q98.1447 252.346 101.756 252.346 Q105.39 252.346 107.196 248.805 Q109.024 245.24 109.024 238.133 Q109.024 231.004 107.196 227.462 Q105.39 223.897 101.756 223.897 M101.756 220.194 Q107.566 220.194 110.621 224.8 Q113.7 229.383 113.7 238.133 Q113.7 246.86 110.621 251.467 Q107.566 256.05 101.756 256.05 Q95.9456 256.05 92.8669 251.467 Q89.8114 246.86 89.8114 238.133 Q89.8114 229.383 92.8669 224.8 Q95.9456 220.194 101.756 220.194 Z\" fill=\"#000000\" fill-rule=\"evenodd\" fill-opacity=\"1\" /><path clip-path=\"url(#clip860)\" d=\"M121.918 249.499 L126.802 249.499 L126.802 255.379 L121.918 255.379 L121.918 249.499 Z\" fill=\"#000000\" fill-rule=\"evenodd\" fill-opacity=\"1\" /><path clip-path=\"url(#clip860)\" d=\"M137.797 251.443 L145.436 251.443 L145.436 225.078 L137.126 226.745 L137.126 222.485 L145.39 220.819 L150.066 220.819 L150.066 251.443 L157.705 251.443 L157.705 255.379 L137.797 255.379 L137.797 251.443 Z\" fill=\"#000000\" fill-rule=\"evenodd\" fill-opacity=\"1\" /><path clip-path=\"url(#clip860)\" d=\"M167.195 220.819 L185.552 220.819 L185.552 224.754 L171.478 224.754 L171.478 233.226 Q172.496 232.879 173.515 232.717 Q174.533 232.532 175.552 232.532 Q181.339 232.532 184.718 235.703 Q188.098 238.874 188.098 244.291 Q188.098 249.869 184.626 252.971 Q181.153 256.05 174.834 256.05 Q172.658 256.05 170.39 255.68 Q168.144 255.309 165.737 254.568 L165.737 249.869 Q167.82 251.004 170.042 251.559 Q172.265 252.115 174.741 252.115 Q178.746 252.115 181.084 250.008 Q183.422 247.902 183.422 244.291 Q183.422 240.68 181.084 238.573 Q178.746 236.467 174.741 236.467 Q172.866 236.467 170.991 236.883 Q169.14 237.3 167.195 238.18 L167.195 220.819 Z\" fill=\"#000000\" fill-rule=\"evenodd\" fill-opacity=\"1\" /><path clip-path=\"url(#clip860)\" d=\"M746.89 35.9153 Q749.685 30.8922 753.574 28.5022 Q757.463 26.1121 762.729 26.1121 Q769.818 26.1121 773.666 31.0947 Q777.515 36.0368 777.515 45.1919 L777.515 72.576 L770.02 72.576 L770.02 45.4349 Q770.02 38.913 767.711 35.7533 Q765.402 32.5936 760.663 32.5936 Q754.87 32.5936 751.508 36.4419 Q748.146 40.2903 748.146 46.9338 L748.146 72.576 L740.651 72.576 L740.651 45.4349 Q740.651 38.8725 738.342 35.7533 Q736.033 32.5936 731.213 32.5936 Q725.501 32.5936 722.139 36.4824 Q718.777 40.3308 718.777 46.9338 L718.777 72.576 L711.282 72.576 L711.282 27.2059 L718.777 27.2059 L718.777 34.2544 Q721.329 30.082 724.893 28.0971 Q728.458 26.1121 733.36 26.1121 Q738.302 26.1121 741.745 28.6237 Q745.229 31.1352 746.89 35.9153 Z\" fill=\"#000000\" fill-rule=\"evenodd\" fill-opacity=\"1\" /><path clip-path=\"url(#clip860)\" d=\"M809.962 32.4315 Q803.967 32.4315 800.483 37.1306 Q796.999 41.7891 796.999 49.9314 Q796.999 58.0738 800.443 62.7728 Q803.927 67.4314 809.962 67.4314 Q815.917 67.4314 819.401 62.7323 Q822.885 58.0333 822.885 49.9314 Q822.885 41.8701 819.401 37.1711 Q815.917 32.4315 809.962 32.4315 M809.962 26.1121 Q819.685 26.1121 825.234 32.4315 Q830.784 38.7509 830.784 49.9314 Q830.784 61.0714 825.234 67.4314 Q819.685 73.7508 809.962 73.7508 Q800.2 73.7508 794.65 67.4314 Q789.141 61.0714 789.141 49.9314 Q789.141 38.7509 794.65 32.4315 Q800.2 26.1121 809.962 26.1121 Z\" fill=\"#000000\" fill-rule=\"evenodd\" fill-opacity=\"1\" /><path clip-path=\"url(#clip860)\" d=\"M878.463 35.9153 Q881.258 30.8922 885.147 28.5022 Q889.036 26.1121 894.302 26.1121 Q901.391 26.1121 905.24 31.0947 Q909.088 36.0368 909.088 45.1919 L909.088 72.576 L901.594 72.576 L901.594 45.4349 Q901.594 38.913 899.285 35.7533 Q896.976 32.5936 892.236 32.5936 Q886.443 32.5936 883.081 36.4419 Q879.719 40.2903 879.719 46.9338 L879.719 72.576 L872.225 72.576 L872.225 45.4349 Q872.225 38.8725 869.916 35.7533 Q867.607 32.5936 862.786 32.5936 Q857.074 32.5936 853.712 36.4824 Q850.35 40.3308 850.35 46.9338 L850.35 72.576 L842.856 72.576 L842.856 27.2059 L850.35 27.2059 L850.35 34.2544 Q852.902 30.082 856.467 28.0971 Q860.032 26.1121 864.933 26.1121 Q869.875 26.1121 873.319 28.6237 Q876.802 31.1352 878.463 35.9153 Z\" fill=\"#000000\" fill-rule=\"evenodd\" fill-opacity=\"1\" /><path clip-path=\"url(#clip860)\" d=\"M962.762 48.0275 L962.762 51.6733 L928.492 51.6733 Q928.978 59.3701 933.11 63.421 Q937.282 67.4314 944.695 67.4314 Q948.989 67.4314 953 66.3781 Q957.051 65.3249 961.021 63.2184 L961.021 70.267 Q957.01 71.9684 952.797 72.8596 Q948.584 73.7508 944.25 73.7508 Q933.393 73.7508 927.034 67.4314 Q920.714 61.1119 920.714 50.3365 Q920.714 39.1965 926.709 32.6746 Q932.745 26.1121 942.954 26.1121 Q952.109 26.1121 957.415 32.0264 Q962.762 37.9003 962.762 48.0275 M955.309 45.84 Q955.228 39.7232 951.866 36.0774 Q948.544 32.4315 943.035 32.4315 Q936.796 32.4315 933.029 35.9558 Q929.302 39.4801 928.735 45.8805 L955.309 45.84 Z\" fill=\"#000000\" fill-rule=\"evenodd\" fill-opacity=\"1\" /><path clip-path=\"url(#clip860)\" d=\"M1012.71 45.1919 L1012.71 72.576 L1005.26 72.576 L1005.26 45.4349 Q1005.26 38.994 1002.74 35.7938 Q1000.23 32.5936 995.21 32.5936 Q989.174 32.5936 985.691 36.4419 Q982.207 40.2903 982.207 46.9338 L982.207 72.576 L974.713 72.576 L974.713 27.2059 L982.207 27.2059 L982.207 34.2544 Q984.88 30.163 988.486 28.1376 Q992.132 26.1121 996.871 26.1121 Q1004.69 26.1121 1008.7 30.9732 Q1012.71 35.7938 1012.71 45.1919 Z\" fill=\"#000000\" fill-rule=\"evenodd\" fill-opacity=\"1\" /><path clip-path=\"url(#clip860)\" d=\"M1034.95 14.324 L1034.95 27.2059 L1050.3 27.2059 L1050.3 32.9987 L1034.95 32.9987 L1034.95 57.6282 Q1034.95 63.1779 1036.45 64.7578 Q1037.99 66.3376 1042.65 66.3376 L1050.3 66.3376 L1050.3 72.576 L1042.65 72.576 Q1034.02 72.576 1030.74 69.3758 Q1027.46 66.1351 1027.46 57.6282 L1027.46 32.9987 L1021.99 32.9987 L1021.99 27.2059 L1027.46 27.2059 L1027.46 14.324 L1034.95 14.324 Z\" fill=\"#000000\" fill-rule=\"evenodd\" fill-opacity=\"1\" /><path clip-path=\"url(#clip860)\" d=\"M1059.34 54.671 L1059.34 27.2059 L1066.79 27.2059 L1066.79 54.3874 Q1066.79 60.8284 1069.3 64.0691 Q1071.81 67.2693 1076.84 67.2693 Q1082.87 67.2693 1086.36 63.421 Q1089.88 59.5726 1089.88 52.9291 L1089.88 27.2059 L1097.33 27.2059 L1097.33 72.576 L1089.88 72.576 L1089.88 65.6084 Q1087.17 69.7404 1083.56 71.7658 Q1080 73.7508 1075.26 73.7508 Q1067.44 73.7508 1063.39 68.8897 Q1059.34 64.0286 1059.34 54.671 M1078.09 26.1121 L1078.09 26.1121 Z\" fill=\"#000000\" fill-rule=\"evenodd\" fill-opacity=\"1\" /><path clip-path=\"url(#clip860)\" d=\"M1148.01 35.9153 Q1150.81 30.8922 1154.69 28.5022 Q1158.58 26.1121 1163.85 26.1121 Q1170.94 26.1121 1174.79 31.0947 Q1178.64 36.0368 1178.64 45.1919 L1178.64 72.576 L1171.14 72.576 L1171.14 45.4349 Q1171.14 38.913 1168.83 35.7533 Q1166.52 32.5936 1161.78 32.5936 Q1155.99 32.5936 1152.63 36.4419 Q1149.27 40.2903 1149.27 46.9338 L1149.27 72.576 L1141.77 72.576 L1141.77 45.4349 Q1141.77 38.8725 1139.46 35.7533 Q1137.15 32.5936 1132.33 32.5936 Q1126.62 32.5936 1123.26 36.4824 Q1119.9 40.3308 1119.9 46.9338 L1119.9 72.576 L1112.4 72.576 L1112.4 27.2059 L1119.9 27.2059 L1119.9 34.2544 Q1122.45 30.082 1126.01 28.0971 Q1129.58 26.1121 1134.48 26.1121 Q1139.42 26.1121 1142.87 28.6237 Q1146.35 31.1352 1148.01 35.9153 Z\" fill=\"#000000\" fill-rule=\"evenodd\" fill-opacity=\"1\" /><path clip-path=\"url(#clip860)\" d=\"M1257.59 45.1919 L1257.59 72.576 L1250.13 72.576 L1250.13 45.4349 Q1250.13 38.994 1247.62 35.7938 Q1245.11 32.5936 1240.09 32.5936 Q1234.05 32.5936 1230.57 36.4419 Q1227.08 40.2903 1227.08 46.9338 L1227.08 72.576 L1219.59 72.576 L1219.59 9.54393 L1227.08 9.54393 L1227.08 34.2544 Q1229.76 30.163 1233.36 28.1376 Q1237.01 26.1121 1241.75 26.1121 Q1249.57 26.1121 1253.58 30.9732 Q1257.59 35.7938 1257.59 45.1919 Z\" fill=\"#000000\" fill-rule=\"evenodd\" fill-opacity=\"1\" /><path clip-path=\"url(#clip860)\" d=\"M1272.45 27.2059 L1279.91 27.2059 L1279.91 72.576 L1272.45 72.576 L1272.45 27.2059 M1272.45 9.54393 L1279.91 9.54393 L1279.91 18.9825 L1272.45 18.9825 L1272.45 9.54393 Z\" fill=\"#000000\" fill-rule=\"evenodd\" fill-opacity=\"1\" /><path clip-path=\"url(#clip860)\" d=\"M1324.43 28.5427 L1324.43 35.5912 Q1321.27 33.9709 1317.86 33.1607 Q1314.46 32.3505 1310.82 32.3505 Q1305.27 32.3505 1302.47 34.0519 Q1299.72 35.7533 1299.72 39.156 Q1299.72 41.7486 1301.7 43.2475 Q1303.69 44.7058 1309.68 46.0426 L1312.23 46.6097 Q1320.17 48.3111 1323.5 51.4303 Q1326.86 54.509 1326.86 60.0587 Q1326.86 66.3781 1321.83 70.0644 Q1316.85 73.7508 1308.1 73.7508 Q1304.46 73.7508 1300.49 73.0216 Q1296.56 72.3329 1292.18 70.9151 L1292.18 63.2184 Q1296.31 65.3654 1300.32 66.4591 Q1304.33 67.5124 1308.26 67.5124 Q1313.53 67.5124 1316.37 65.73 Q1319.2 63.9071 1319.2 60.6258 Q1319.2 57.5877 1317.14 55.9673 Q1315.11 54.3469 1308.18 52.8481 L1305.59 52.2405 Q1298.66 50.7821 1295.58 47.7845 Q1292.51 44.7463 1292.51 39.4801 Q1292.51 33.0797 1297.04 29.5959 Q1301.58 26.1121 1309.92 26.1121 Q1314.06 26.1121 1317.7 26.7198 Q1321.35 27.3274 1324.43 28.5427 Z\" fill=\"#000000\" fill-rule=\"evenodd\" fill-opacity=\"1\" /><path clip-path=\"url(#clip860)\" d=\"M1346.1 14.324 L1346.1 27.2059 L1361.45 27.2059 L1361.45 32.9987 L1346.1 32.9987 L1346.1 57.6282 Q1346.1 63.1779 1347.6 64.7578 Q1349.14 66.3376 1353.8 66.3376 L1361.45 66.3376 L1361.45 72.576 L1353.8 72.576 Q1345.17 72.576 1341.89 69.3758 Q1338.61 66.1351 1338.61 57.6282 L1338.61 32.9987 L1333.14 32.9987 L1333.14 27.2059 L1338.61 27.2059 L1338.61 14.324 L1346.1 14.324 Z\" fill=\"#000000\" fill-rule=\"evenodd\" fill-opacity=\"1\" /><path clip-path=\"url(#clip860)\" d=\"M1388.84 32.4315 Q1382.84 32.4315 1379.36 37.1306 Q1375.87 41.7891 1375.87 49.9314 Q1375.87 58.0738 1379.32 62.7728 Q1382.8 67.4314 1388.84 67.4314 Q1394.79 67.4314 1398.28 62.7323 Q1401.76 58.0333 1401.76 49.9314 Q1401.76 41.8701 1398.28 37.1711 Q1394.79 32.4315 1388.84 32.4315 M1388.84 26.1121 Q1398.56 26.1121 1404.11 32.4315 Q1409.66 38.7509 1409.66 49.9314 Q1409.66 61.0714 1404.11 67.4314 Q1398.56 73.7508 1388.84 73.7508 Q1379.07 73.7508 1373.52 67.4314 Q1368.01 61.0714 1368.01 49.9314 Q1368.01 38.7509 1373.52 32.4315 Q1379.07 26.1121 1388.84 26.1121 Z\" fill=\"#000000\" fill-rule=\"evenodd\" fill-opacity=\"1\" /><path clip-path=\"url(#clip860)\" d=\"M1451.87 49.3643 Q1451.87 41.2625 1448.51 36.8065 Q1445.18 32.3505 1439.15 32.3505 Q1433.15 32.3505 1429.79 36.8065 Q1426.47 41.2625 1426.47 49.3643 Q1426.47 57.4256 1429.79 61.8816 Q1433.15 66.3376 1439.15 66.3376 Q1445.18 66.3376 1448.51 61.8816 Q1451.87 57.4256 1451.87 49.3643 M1459.32 66.9452 Q1459.32 78.5308 1454.18 84.1616 Q1449.03 89.8329 1438.42 89.8329 Q1434.49 89.8329 1431.01 89.2252 Q1427.52 88.6581 1424.24 87.4428 L1424.24 80.1917 Q1427.52 81.9741 1430.72 82.8248 Q1433.92 83.6755 1437.24 83.6755 Q1444.58 83.6755 1448.22 79.8271 Q1451.87 76.0193 1451.87 68.282 L1451.87 64.5957 Q1449.56 68.6061 1445.95 70.5911 Q1442.35 72.576 1437.33 72.576 Q1428.98 72.576 1423.88 66.2161 Q1418.77 59.8562 1418.77 49.3643 Q1418.77 38.832 1423.88 32.472 Q1428.98 26.1121 1437.33 26.1121 Q1442.35 26.1121 1445.95 28.0971 Q1449.56 30.082 1451.87 34.0924 L1451.87 27.2059 L1459.32 27.2059 L1459.32 66.9452 Z\" fill=\"#000000\" fill-rule=\"evenodd\" fill-opacity=\"1\" /><path clip-path=\"url(#clip860)\" d=\"M1500.97 34.1734 Q1499.71 33.4443 1498.21 33.1202 Q1496.75 32.7556 1494.97 32.7556 Q1488.65 32.7556 1485.25 36.8875 Q1481.89 40.9789 1481.89 48.6757 L1481.89 72.576 L1474.39 72.576 L1474.39 27.2059 L1481.89 27.2059 L1481.89 34.2544 Q1484.24 30.1225 1488 28.1376 Q1491.77 26.1121 1497.16 26.1121 Q1497.93 26.1121 1498.86 26.2337 Q1499.79 26.3147 1500.93 26.5172 L1500.97 34.1734 Z\" fill=\"#000000\" fill-rule=\"evenodd\" fill-opacity=\"1\" /><path clip-path=\"url(#clip860)\" d=\"M1529.4 49.7694 Q1520.37 49.7694 1516.89 51.8354 Q1513.4 53.9013 1513.4 58.8839 Q1513.4 62.8538 1515.99 65.2034 Q1518.63 67.5124 1523.12 67.5124 Q1529.32 67.5124 1533.05 63.1374 Q1536.82 58.7219 1536.82 51.4303 L1536.82 49.7694 L1529.4 49.7694 M1544.27 46.6907 L1544.27 72.576 L1536.82 72.576 L1536.82 65.6895 Q1534.26 69.8214 1530.46 71.8063 Q1526.65 73.7508 1521.14 73.7508 Q1514.17 73.7508 1510.04 69.8619 Q1505.95 65.9325 1505.95 59.3701 Q1505.95 51.7138 1511.05 47.825 Q1516.2 43.9361 1526.36 43.9361 L1536.82 43.9361 L1536.82 43.2069 Q1536.82 38.0623 1533.41 35.2672 Q1530.05 32.4315 1523.93 32.4315 Q1520.05 32.4315 1516.36 33.3632 Q1512.67 34.295 1509.27 36.1584 L1509.27 29.2718 Q1513.36 27.692 1517.21 26.9223 Q1521.06 26.1121 1524.7 26.1121 Q1534.55 26.1121 1539.41 31.2163 Q1544.27 36.3204 1544.27 46.6907 Z\" fill=\"#000000\" fill-rule=\"evenodd\" fill-opacity=\"1\" /><path clip-path=\"url(#clip860)\" d=\"M1594.95 35.9153 Q1597.74 30.8922 1601.63 28.5022 Q1605.52 26.1121 1610.79 26.1121 Q1617.87 26.1121 1621.72 31.0947 Q1625.57 36.0368 1625.57 45.1919 L1625.57 72.576 L1618.08 72.576 L1618.08 45.4349 Q1618.08 38.913 1615.77 35.7533 Q1613.46 32.5936 1608.72 32.5936 Q1602.93 32.5936 1599.56 36.4419 Q1596.2 40.2903 1596.2 46.9338 L1596.2 72.576 L1588.71 72.576 L1588.71 45.4349 Q1588.71 38.8725 1586.4 35.7533 Q1584.09 32.5936 1579.27 32.5936 Q1573.56 32.5936 1570.2 36.4824 Q1566.83 40.3308 1566.83 46.9338 L1566.83 72.576 L1559.34 72.576 L1559.34 27.2059 L1566.83 27.2059 L1566.83 34.2544 Q1569.39 30.082 1572.95 28.0971 Q1576.51 26.1121 1581.42 26.1121 Q1586.36 26.1121 1589.8 28.6237 Q1593.29 31.1352 1594.95 35.9153 Z\" fill=\"#000000\" fill-rule=\"evenodd\" fill-opacity=\"1\" /><g clip-path=\"url(#clip862)\">\n",
       "<image width=\"1360\" height=\"1209\" xlink:href=\"data:image/png;base64,\n",
       "iVBORw0KGgoAAAANSUhEUgAABVAAAAS5CAYAAAA6QjC2AAAgAElEQVR4nOza3Ysvh33f8Znd3+6e\n",
       "PUfnHOnoyTqWLNlHtuVYjeUHXLmRSI0vjAOBmEICKeQiJCS5CyQkFwkESqE3LRTaBgKl5K6lpQ+E\n",
       "xslFk7SuA25SxRZ2nCi14lqSIzmypfOoffrtb3rf+X6CS0O/s/Xr9Rd8mJ2Z38x7ZxwAAIAzaxx2\n",
       "pu4NlWk4Gbs3AAD8ddjqHgAAAAAAsFQCKgAAAABAIKACAAAAAAQCKgAAAABAIKACAAAAAAQCKgAA\n",
       "AABAIKACAAAAAAQCKgAAAABAIKACAAAAAAQCKgAAAABAIKACAAAAAAQCKgAAAABAIKACAAAAAAQC\n",
       "KgAAAABAIKACAAAAAAQCKgAAAABAIKACAAAAAAQCKgAAAABAIKACAAAAAAQCKgAAAABAIKACAAAA\n",
       "AAQCKgAAAABAIKACAAAAAAQCKgAAAABAIKACAAAAAAQCKgAAAABAIKACAAAAAAQCKgAAAABAIKAC\n",
       "AAAAAAQCKgAAAABAIKACAAAAAAQCKgAAAABAIKACAAAAAAQCKgAAAABAIKACAAAAAAQCKgAAAABA\n",
       "IKACAAAAAARj9wAA4DuxmroXzK0X+RwxjrsLPFbDME3Hyzxew87ijtc0nCzyWC3zOhyGpV6LS+Wc\n",
       "/z/hnAeAYfAFKgAAAABAJKACAAAAAAQCKgAAAABAIKACAAAAAAQCKgAAAABAIKACAAAAAAQCKgAA\n",
       "AABAIKACAAAAAAQCKgAAAABAIKACAAAAAAQCKgAAAABAIKACAAAAAAQCKgAAAABAIKACAAAAAAQC\n",
       "KgAAAABAIKACAAAAAAQCKgAAAABAIKACAAAAAAQCKgAAAABAIKACAAAAAAQCKgAAAABAIKACAAAA\n",
       "AAQCKgAAAABAIKACAAAAAAQCKgAAAABAIKACAAAAAAQCKgAAAABAIKACAAAAAAQCKgAAAABAIKAC\n",
       "AAAAAAQCKgAAAABAIKACAAAAAAQCKgAAAABAIKACAAAAAAQCKgAAAABAIKACAAAAAAQCKgAAAABA\n",
       "MHYPAOC70zjuTd0bakudtbxd47jbPaE0DSfdE0rjeK57QmmajronzIzjTveE0rRZ3rEahmEYt/a7\n",
       "J5SmzUH3hNK0yPv8epHvZeOws8SDNUzDySKPFwD///IFKgAAAABAIKACAAAAAAQCKgAAAABAIKAC\n",
       "AAAAAAQCKgAAAABAIKACAAAAAAQCKgAAAABAIKACAAAAAAQCKgAAAABAIKACAAAAAAQCKgAAAABA\n",
       "IKACAAAAAAQCKgAAAABAIKACAAAAAAQCKgAAAABAIKACAAAAAAQCKgAAAABAIKACAAAAAAQCKgAA\n",
       "AABAIKACAAAAAAQCKgAAAABAIKACAAAAAAQCKgAAAABAIKACAAAAAAQCKgAAAABAIKACAAAAAAQC\n",
       "KgAAAABAIKACAAAAAAQCKgAAAABAIKACAAAAAAQCKgAAAABAIKACAAAAAAQCKgAAAABAIKACAAAA\n",
       "AAQCKgAAAABAIKACAAAAAAQCKgAAAABAsOoeACzdaupeUFuP3Qv+d+O4v8xjNa27F5S2xv3uCaVp\n",
       "WObx2t6+q3tCYdM9oLS9tdc9obQ+PeieUNrbfbB7wszp5rB7QmmalnmbH8fF/SQOwzAMJ6cLfdWY\n",
       "FnjvGrcWeXJN03H3hNq01ON12j3hDFneszzAX8UXqAAAAAAAgYAKAAAAABAIqAAAAAAAgYAKAAAA\n",
       "ABAIqAAAAAAAgYAKAAAAABAIqAAAAAAAgYAKAAAAABAIqAAAAAAAgYAKAAAAABAIqAAAAAAAgYAK\n",
       "AAAAABAIqAAAAAAAgYAKAAAAABAIqAAAAAAAgYAKAAAAABAIqAAAAAAAgYAKAAAAABAIqAAAAAAA\n",
       "gYAKAAAAABAIqAAAAAAAgYAKAAAAABAIqAAAAAAAgYAKAAAAABAIqAAAAAAAgYAKAAAAABAIqAAA\n",
       "AAAAgYAKAAAAABAIqAAAAAAAgYAKAAAAABAIqAAAAAAAgYAKAAAAABAIqAAAAAAAgYAKAAAAABAI\n",
       "qAAAAAAAgYAKAAAAABAIqAAAAAAAwap7ALBs4zB2Twh2pu4Fc5vuAaWt7YvdE0q7q8vdE0rnV/d2\n",
       "TyidH+/pnjDz4OZq94TS4XjUPaF0ZftS94TS7rjdPWHmYDzpnlC6a2u3e0Lp1maZ5/ywvFNrGIZh\n",
       "eGHr+e4JM6eb4+4JpcPTG90TSsfrN7snBIfdA86MaYFP8gB/FV+gAgAAAAAEAioAAAAAQCCgAgAA\n",
       "AAAEAioAAAAAQCCgAgAAAAAEAioAAAAAQCCgAgAAAAAEAioAAAAAQCCgAgAAAAAEAioAAAAAQCCg\n",
       "AgAAAAAEAioAAAAAQCCgAgAAAAAEAioAAAAAQCCgAgAAAAAEAioAAAAAQCCgAgAAAAAEAioAAAAA\n",
       "QCCgAgAAAAAEAioAAAAAQCCgAgAAAAAEAioAAAAAQCCgAgAAAAAEAioAAAAAQCCgAgAAAAAEAioA\n",
       "AAAAQCCgAgAAAAAEAioAAAAAQCCgAgAAAAAEAioAAAAAQCCgAgAAAAAEAioAAAAAQCCgAgAAAAAE\n",
       "AioAAAAAQCCgAgAAAAAEAioAAAAAQDB2D4D/91ZT94LaeqHX4zKP1zjudE+Y2d660D2h9Oj+x7on\n",
       "lN52+mD3hNK1/fPdE0pvv7C8S/HD917vnlC6frTXPaH0oasvd08onds76p4wc7jQv+Hh8W73hNI3\n",
       "bt7TPaF0c6HH68s3lnef/+rN0+4Jpeunx90TSs9tfrd7Qulo/Wb3hLlp072gtJmW99szDMMwTSfd\n",
       "E4KlvivCdw9foAIAAAAABAIqAAAAAEAgoAIAAAAABAIqAAAAAEAgoAIAAAAABAIqAAAAAEAgoAIA\n",
       "AAAABAIqAAAAAEAgoAIAAAAABAIqAAAAAEAgoAIAAAAABAIqAAAAAEAgoAIAAAAABAIqAAAAAEAg\n",
       "oAIAAAAABAIqAAAAAEAgoAIAAAAABAIqAAAAAEAgoAIAAAAABAIqAAAAAEAgoAIAAAAABAIqAAAA\n",
       "AEAgoAIAAAAABAIqAAAAAEAgoAIAAAAABAIqAAAAAEAgoAIAAAAABAIqAAAAAEAgoAIAAAAABAIq\n",
       "AAAAAEAgoAIAAAAABAIqAAAAAEAgoAIAAAAABAIqAAAAAEAgoAIAAAAABAIqAAAAAEAgoAIAAAAA\n",
       "BGP3gLNnNXUvqK0X+bccx93FHa9p2nRPKI0LvRx3dx7snlA63Rx2T5h5+/6HuyeUnl69p3tC6X2X\n",
       "F3d7GIZhGJ596NXuCaVrj7zcPWHm1s2L3RNK7/vJ57onlA4//InuCaVzX/i97glzOzvdC0oHn/i5\n",
       "7gml3X/697onlG688I7uCaX//Icf6Z4w8+bxXveE0rePdrsnlF68td09ofTlO7e6J8x8efpc94TS\n",
       "wfE3uyeUxnHVPaG0OV3eubVU07DMd4zlWmZLWiJfoAIAAAAABAIqAAAAAEAgoAIAAAAABAIqAAAA\n",
       "AEAgoAIAAAAABAIqAAAAAEAgoAIAAAAABAIqAAAAAEAgoAIAAAAABAIqAAAAAEAgoAIAAAAABAIq\n",
       "AAAAAEAgoAIAAAAABAIqAAAAAEAgoAIAAAAABAIqAAAAAEAgoAIAAAAABAIqAAAAAEAgoAIAAAAA\n",
       "BAIqAAAAAEAgoAIAAAAABAIqAAAAAEAgoAIAAAAABAIqAAAAAEAgoAIAAAAABAIqAAAAAEAgoAIA\n",
       "AAAABAIqAAAAAEAgoAIAAAAABAIqAAAAAEAgoAIAAAAABAIqAAAAAEAgoAIAAAAABAIqAAAAAEAg\n",
       "oAIAAAAABAIqAAAAAEAgoAIAAAAABGP3AP66rKbuBZVx3O6ecGZsb13snlC6a/dq94TSO8b3d0+Y\n",
       "+b677u+eUPr0Y692Tyjdc+F294TShf2D7gmlS3ff7J4w88BHv9I9ofaRa90LSuv7Hu6eUNrs7HdP\n",
       "mNl756e7J5TG3/yF7gmlo/+2yMfAYffZc90TSnc+s7xvSP7s+e/pnlC6dbi8+8MwDMOXvrXMZ65v\n",
       "He90T5j57OtH3RNKz02/1z2hdLo57J5QOj55o3tCaTPd0ZT4rrG8pwcAAAAAgIUQUAEAAAAAAgEV\n",
       "AAAAACAQUAEAAAAAAgEVAAAAACAQUAEAAAAAAgEVAAAAACAQUAEAAAAAAgEVAAAAACAQUAEAAAAA\n",
       "AgEVAAAAACAQUAEAAAAAAgEVAAAAACAQUAEAAAAAAgEVAAAAACAQUAEAAAAAAgEVAAAAACAQUAEA\n",
       "AAAAAgEVAAAAACAQUAEAAAAAAgEVAAAAACAQUAEAAAAAAgEVAAAAACAQUAEAAAAAAgEVAAAAACAQ\n",
       "UAEAAAAAAgEVAAAAACAQUAEAAAAAAgEVAAAAACAQUAEAAAAAAgEVAAAAACAQUAEAAAAAAgEVAAAA\n",
       "ACAQUAEAAAAAAgEVAAAAACAQUAEAAAAAAgEVAAAAACBYdQ84a8ZhZ+reUJmGk7F7Q21rccdrHHe7\n",
       "J5T2du7pnlB6avxY94TSjzyyuFNruHWy7p5wpuzvHXVPKF372/+9e0Jp6+f/WfeEmekf/3T3hNJ4\n",
       "ssxza/d/fLF7Qml67c3uCTOnH/yL7gml8YGr3RNKe0+/1j2hdPTOJ7snlPZ/9NXuCTNPXfud7gml\n",
       "F37zme4JpZ037uueUHrnhYPuCTP37y3zlf/0le/vnlD6o3GZ1+I0LPU9Y7W4l7JxXOZ3gtN0vNBm\n",
       "w3dqmWcWAAAAAMACCKgAAAAAAIGACgAAAAAQCKgAAAAAAIGACgAAAAAQCKgAAAAAAIGACgAAAAAQ\n",
       "CKgAAAAAAIGACgAAAAAQCKgAAAAAAIGACgAAAAAQCKgAAAAAAIGACgAAAAAQCKgAAAAAAIGACgAA\n",
       "AAAQCKgAAAAAAIGACgAAAAAQCKgAAAAAAIGACgAAAAAQCKgAAAAAAIGACgAAAAAQCKgAAAAAAIGA\n",
       "CgAAAAAQCKgAAAAAAIGACgAAAAAQCKgAAAAAAIGACgAAAAAQCKgAAAAAAIGACgAAAAAQCKgAAAAA\n",
       "AIGACgAAAAAQCKgAAAAAAIGACgAAAAAQCKgAAAAAAIGACgAAAAAQCKgAAAAAAIGACgAAAAAQrLoH\n",
       "nDXTcDJ2b6iM4/7UvaE0rbsXzOzt3t89oXRl9Vj3hNJTF/e6J5RW40H3hJnH7rrdPaH04OXr3RNK\n",
       "jzzxYveE0ta9J90TStPn/kH3hJnx/cu8n07jMv8/PN6+0z2hdPipH+6eMLO58LbuCaXz/+6fdE8o\n",
       "nXz0Y90TSjuv/Xn3hNL41vKuxc3HnuyeULr25he6J5Reu36le0LpK2/c2z1h5t0LfQ78wM0HuieU\n",
       "XrrzePeE0s2t890TSreOvt49YWazub3IZsPZt8w3DAAAAACABRBQAQAAAAACARUAAAAAIBBQAQAA\n",
       "AAACARUAAAAAIBBQAQAAAAACARUAAAAAIBBQAQAAAAACARUAAAAAIBBQAQAAAAACARUAAAAAIBBQ\n",
       "AQAAAAACARUAAAAAIBBQAQAAAAACARUAAAAAIBBQAQAAAAACARUAAAAAIBBQAQAAAAACARUAAAAA\n",
       "IBBQAQAAAAACARUAAAAAIBBQAQAAAAACARUAAAAAIBBQAQAAAAACARUAAAAAIBBQAQAAAAACARUA\n",
       "AAAAIBBQAQAAAAACARUAAAAAIBBQAQAAAAACARUAAAAAIBBQAQAAAAACARUAAAAAIBBQAQAAAAAC\n",
       "ARUAAAAAIBBQAQAAAACCVfeAs2YcdqbuDbXT7gG1cexeMHNhdX/3hNLfWj3RPaH09P03uieU3nXl\n",
       "9e4JM3/8lw91Tyjt7h53Tyhd+NA3uyfU7rm7e0FpfPFr3RNm1n/jA90TSqeX7uueUNrZWub/rfe+\n",
       "+gfdE+Z29roXlNYf+Wj3hNLO11/onlC7c7t7wZmx/ZfLe64ZhmHYeuZq94TSu55/pXtC6dbR8u5d\n",
       "z3/73u4JpU89vMxz/uSl93VPKH3m4KR7QunW8HL3hJlx3F1ms5kWOms4WV60WahlPskDAAAAACyA\n",
       "gAoAAAAAEAioAAAAAACBgAoAAAAAEAioAAAAAACBgAoAAAAAEAioAAAAAACBgAoAAAAAEAioAAAA\n",
       "AACBgAoAAAAAEAioAAAAAACBgAoAAAAAEAioAAAAAACBgAoAAAAAEAioAAAAAACBgAoAAAAAEAio\n",
       "AAAAAACBgAoAAAAAEAioAAAAAACBgAoAAAAAEAioAAAAAACBgAoAAAAAEAioAAAAAACBgAoAAAAA\n",
       "EAioAAAAAACBgAoAAAAAEAioAAAAAACBgAoAAAAAEAioAAAAAACBgAoAAAAAEAioAAAAAACBgAoA\n",
       "AAAAEAioAAAAAACBgAoAAAAAEAioAAAAAACBgAoAAAAAEAioAAAAAADBahhWU/eI2nrsXnC2bHcP\n",
       "KO3t3Nc9YeaR6T3dE0o/+PDt7gmlk80y/89ybve4e8LMu+5+o3tC6donP989oTQ99FD3hNL0J692\n",
       "Tyhtnvlg94SZ7ef+qHtC7YNPdS8obb357e4JpWnvXPeEuaPD7gWlnZe+1j2hNF2+3D2hNL61vN/q\n",
       "YRiGo+/7RPeEmdO7H+2eUNp//re6J5Qu3nOje0Lp8Qde654wM47LfN1/5fbF7gmlxy+uuyeUrt5+\n",
       "rHtC6fXtP+ueMLNen3ZPKG2Go+4JgSb4nVpmGQEAAAAAWAABFQAAAAAgEFABAAAAAAIBFQAAAAAg\n",
       "EFABAAAAAAIBFQAAAAAgEFABAAAAAAIBFQAAAAAgEFABAAAAAAIBFQAAAAAgEFABAAAAAAIBFQAA\n",
       "AAAgEFABAAAAAAIBFQAAAAAgEFABAAAAAAIBFQAAAAAgEFABAAAAAAIBFQAAAAAgEFABAAAAAAIB\n",
       "FQAAAAAgEFABAAAAAAIBFQAAAAAgEFABAAAAAAIBFQAAAAAgEFABAAAAAAIBFQAAAAAgEFABAAAA\n",
       "AAIBFQAAAAAgEFABAAAAAAIBFQAAAAAgEFABAAAAAAIBFQAAAAAgEFABAAAAAAIBFQAAAAAgEFAB\n",
       "AAAAAAIBFQAAAAAgEFABAAAAAIJV94BsNXUvOEvGcad7Qunu3Ue7J8w8sXOle0Lpzvqge0Jpqf9l\n",
       "+eI33tE9YeZDj/zP7gmlzZ297gml1auvdU8onfz0P+qeUNr9D7/UPWHm+NmPd08orb71SveE0p1n\n",
       "/m73hNLey3/YPWFm+/PL2zQMwzA8eKl7QWm6dHf3hNJ0eZnPXHvPfbZ7wszp4+/tnlAa37rTPaF0\n",
       "8Wcf655QuvUryzte14Zvdk8oHbz6cPeE0s7WpntC6b6t890TSnftvK17wsz105vdE2qLLVzrsXvB\n",
       "WbHUNgIAAAAA0E5ABQAAAAAIBFQAAAAAgEBABQAAAAAIBFQAAAAAgEBABQAAAAAIBFQAAAAAgEBA\n",
       "BQAAAAAIBFQAAAAAgEBABQAAAAAIBFQAAAAAgEBABQAAAAAIBFQAAAAAgEBABQAAAAAIBFQAAAAA\n",
       "gEBABQAAAAAIBFQAAAAAgEBABQAAAAAIBFQAAAAAgEBABQAAAAAIBFQAAAAAgEBABQAAAAAIBFQA\n",
       "AAAAgEBABQAAAAAIBFQAAAAAgEBABQAAAAAIBFQAAAAAgEBABQAAAAAIBFQAAAAAgEBABQAAAAAI\n",
       "BFQAAAAAgEBABQAAAAAIBFQAAAAAgEBABQAAAAAIBFQAAAAAgEBABQAAAAAIBFQAAAAAgGA1DOux\n",
       "e8TZsjN1L6istu/qnlDaGfa7J8y85+Kme0LpZLPM/2fcd+6we0LpHZff6J4wc/HSre4JpdVDx90T\n",
       "Sm998se6J5TO/5tf7J5Qmh64v3vCzPZv/H73hNL4vfd0Tyid/1e/2j2htH7mb3ZPmNvuHlCbvnmz\n",
       "e0Lp4OM/0T2htr7TvaC09ciT3RNmzv3JMu+n07nlPcsPwzCcPPi+7gmlqx/6l90TZp777e/vnlA6\n",
       "Pl3qu89B94TSU1eWeS1+4c3z3RNmVtuXuieU1tMiU9KwmdbdE86MZd61AAAAAAAWQEAFAAAAAAgE\n",
       "VAAAAACAQEAFAAAAAAgEVAAAAACAQEAFAAAAAAgEVAAAAACAQEAFAAAAAAgEVAAAAACAQEAFAAAA\n",
       "AAgEVAAAAACAQEAFAAAAAAgEVAAAAACAQEAFAAAAAAgEVAAAAACAQEAFAAAAAAgEVAAAAACAQEAF\n",
       "AAAAAAgEVAAAAACAQEAFAAAAAAgEVAAAAACAQEAFAAAAAAgEVAAAAACAQEAFAAAAAAgEVAAAAACA\n",
       "QEAFAAAAAAgEVAAAAACAQEAFAAAAAAgEVAAAAACAQEAFAAAAAAgEVAAAAACAQEAFAAAAAAgEVAAA\n",
       "AACAQEAFAAAAAAgEVAAAAACAQEAFAAAAAAhW3QPOnHGZh2yaNt0TSqtht3vCzD276+4JpQurZe5a\n",
       "bS3z3HrpxpXuCTNPfvSL3RNKp+99b/eE0v5Xfrd7Qmnz6GPdE0qb//JK94SZrWcf7p5QGp/95e4J\n",
       "pemf/3j3hNL27evdE2bGBy53TyhNe+e6J5TOP/evuyeUxm/8RfeE0ubau7snzGzuvrd7Qmn6T3/e\n",
       "PaG0d+UPuieUTk+X933SlUs3uifU3ljmOf/S7bu6J5SuLPQddm+40D1h5vT0re4JpWlY5nv1MKym\n",
       "7gVnxfLu8AAAAAAACyGgAgAAAAAEAioAAAAAQCCgAgAAAAAEAioAAAAAQCCgAgAAAAAEAioAAAAA\n",
       "QCCgAgAAAAAEAioAAAAAQCCgAgAAAAAEAioAAAAAQCCgAgAAAAAEAioAAAAAQCCgAgAAAAAEAioA\n",
       "AAAAQCCgAgAAAAAEAioAAAAAQCCgAgAAAAAEAioAAAAAQCCgAgAAAAAEAioAAAAAQCCgAgAAAAAE\n",
       "AioAAAAAQCCgAgAAAAAEAioAAAAAQCCgAgAAAAAEAioAAAAAQCCgAgAAAAAEAioAAAAAQCCgAgAA\n",
       "AAAEAioAAAAAQCCgAgAAAAAEAioAAAAAQCCgAgAAAAAEAioAAAAAQCCgAgAAAAAEAioAAAAAQLDq\n",
       "HnDWTNNJ94TSOC6zhd93en/3hJm3Tre7J5Tu2zrqnlDaHjfdE0pvv/vN7gkz68O97gml3b397gml\n",
       "9Ud+pntCafzSr3dPKK2e3O2eMHP46Pd2Tyjt/dqPd0+ovfvh7gWlra+92D1h5ujpT3RPKK2+/Ur3\n",
       "hNLxQ090TyiNjx10Tyid++xvdU+YOXn5fPeE0vTDT3dPKI0nC31u3j/unjDz0usPdE8oXdpd3rEa\n",
       "hmG4s97pnlA6WC/zHfb9w+PdE2a+MT7XPaE0LrQlTcN67N5wViyzugEAAAAALICACgAAAAAQCKgA\n",
       "AAAAAIGACgAAAAAQCKgAAAAAAIGACgAAAAAQCKgAAAAAAIGACgAAAAAQCKgAAAAAAIGACgAAAAAQ\n",
       "CKgAAAAAAIGACgAAAAAQCKgAAAAAAIGACgAAAAAQCKgAAAAAAIGACgAAAAAQCKgAAAAAAIGACgAA\n",
       "AAAQCKgAAAAAAIGACgAAAAAQCKgAAAAAAIGACgAAAAAQCKgAAAAAAIGACgAAAAAQCKgAAAAAAIGA\n",
       "CgAAAAAQCKgAAAAAAIGACgAAAAAQCKgAAAAAAIGACgAAAAAQCKgAAAAAAIGACgAAAAAQCKgAAAAA\n",
       "AIGACgAAAAAQCKgAAAAAAIGACgAAAAAQCKgAAAAAAMGqe8BZszXudU8obTbH3RNK929f6J4ws96M\n",
       "3RNKN453uyeUzq9OuieUbhyc754wc+HR17onlDY7D3dPKE0v/vvuCbX/+EL3gtojb3UvmFsv87fn\n",
       "8Af+TveE0u6rf9o9obR++v3dE2b2Pv873RNK00Nv655QOveZf9s9oXT0qR/qnlC7cql7wcz4gWvd\n",
       "E2rXPt29oDR+6de7J5TufH1594jL+wt8fhiG4WC90z2hdHl3mc82N06WmW5eP73TPWFma2uZ79Xr\n",
       "0+vdE/i/5AtUAAAAAIBAQAUAAAAACARUAAAAAIBAQAUAAAAACARUAAAAAIBAQAUAAAAACARUAAAA\n",
       "AIBAQAUAAAAACARUAAAAAIBAQAUAAAAACARUAAAAAIBAQAUAAAAACARUAAAAAIBAQAUAAAAACARU\n",
       "AAAAAIBAQAUAAAAACARUAAAAAIBAQAUAAAAACARUAAAAAIBAQAUAAAAACARUAAAAAIBAQAUAAAAA\n",
       "CARUAAAAAIBAQAUAAAAACARUAAAAAIBAQAUAAAAACARUAAAAAIBAQAUAAAAACARUAAAAAIBAQAUA\n",
       "AAAACARUAAAAAIBAQAUAAAAACARUAAAAAIBAQAUAAAAACARUAAAAAIBAQAUAAAAACARUAAAAAIBg\n",
       "NQyrqXvEWTINm+4JpWlad08o/fHw1e4JMx9fvat7Qul0oVfizePd7gmlJ66+0j1h5vRgmcdq+/BW\n",
       "94TS9Btf6J5QGj+5zHvEZr28+/y53//t7gml6e1XuyfUTk66F5T2Xlve/XTzzmvdE0rjV17onlAa\n",
       "f+pfdE8o7f7Xv989obT+8nH3hJmte5f5Wz1+7h92Tyhtzl3onlBanTvqnjDz9ev3dk8orbaW+V59\n",
       "slnmN2bnt0+7J5S+tf1694SZ6WSZ59Y47nRPKC21JS3RMu8OAAAAAAALIKACAAAAAAQCKgAAAABA\n",
       "IKACAAAAAAQCKgAAAABAIKACAAAAAAQCKgAAAABAIKACAAAAAAQCKgAAAABAIKACAAAAAAQCKgAA\n",
       "AABAIKACAAAAAAQCKgAAAABAIKACAAAAAAQCKsD/atfuXi277zqOr3XOPufMQ+YpnZKkMalDxJg0\n",
       "tY2RRKhIq15V6YUgFPwPFEFQBG+81wvxsneCV72LINIWkYJp2liaJqnGtGliJ0kzmel0zjyemTnn\n",
       "7LOXV+LF+n0g1OD3d9rX6y/4sPbaa6/13gsAAAAgEFABAAAAAAIBFQAAAAAgEFABAAAAAAIBFQAA\n",
       "AAAgEFABAAAAAAIBFQAAAAAgEFABAAAAAAIBFQAAAAAgEFABAAAAAAIBFQAAAAAgEFABAAAAAAIB\n",
       "FQAAAAAgEFABAAAAAAIBFQAAAAAgEFABAMnQgdMAABfaSURBVAAAAAIBFQAAAAAgEFABAAAAAAIB\n",
       "FQAAAAAgEFABAAAAAAIBFQAAAAAgEFABAAAAAAIBFQAAAAAgWAzDcqwecZiMw9ZUvaFlff1Y9YSm\n",
       "3WGnesLM9t6iekLTM2e3qyc0Xdvdqp7QtH3jVPWEmXPrq+oJTbsffbp6QtPRX71cPaHt2pXqBU13\n",
       "H/tU9YSZ1aOfrp7QtjhevaDp2Bf/pnpC07RevWDu4Od/qXpC02KvekHb9JW/qJ7QNH3navWEpvWn\n",
       "z1ZPmBnfOl89oen2b/9B9YSmY1/6++oJTVff+Xj1hJmHT/X5jPH29XurJzTtLPt8Vrza6TPscujv\n",
       "h3EcO31PcFpWL+D/qNMzCwAAAACgnoAKAAAAABAIqAAAAAAAgYAKAAAAABAIqAAAAAAAgYAKAAAA\n",
       "ABAIqAAAAAAAgYAKAAAAABAIqAAAAAAAgYAKAAAAABAIqAAAAAAAgYAKAAAAABAIqAAAAAAAgYAK\n",
       "AAAAABAIqAAAAAAAgYAKAAAAABAIqAAAAAAAgYAKAAAAABAIqAAAAAAAgYAKAAAAABAIqAAAAAAA\n",
       "gYAKAAAAABAIqAAAAAAAgYAKAAAAABAIqAAAAAAAgYAKAAAAABAIqAAAAAAAgYAKAAAAABAIqAAA\n",
       "AAAAgYAKAAAAABAIqAAAAAAAgYAKAAAAABAIqAAAAAAAgYAKAAAAABAIqAAAAAAAgYAKAAAAABAs\n",
       "qgccNqtpt3pC0/LgRvWEpr3V7eoJMy9vH1RPaHrknqPVE5qOLZbVE5pOHtupnjBz4duPVU9o+sil\n",
       "16onNI1371RPaDr4yMPVE5qOPv+P1RNmVg+fq57QNq2qFzSN952sntA0XervHmLs9DO8/fk/rJ7Q\n",
       "dPS1f66e0HTwucerJzStf+eF6gkze7//V9UTmo598c+qJzQt39usntB088aJ6gkzb2x/uHpC0+7B\n",
       "evWEpo21Pn9/Xr/Z57tv+0N/9/PLg1vVEw6ZxVS94LDo81sIAAAAANABARUAAAAAIBBQAQAAAAAC\n",
       "ARUAAAAAIBBQAQAAAAACARUAAAAAIBBQAQAAAAACARUAAAAAIBBQAQAAAAACARUAAAAAIBBQAQAA\n",
       "AAACARUAAAAAIBBQAQAAAAACARUAAAAAIBBQAQAAAAACARUAAAAAIBBQAQAAAAACARUAAAAAIBBQ\n",
       "AQAAAAACARUAAAAAIBBQAQAAAAACARUAAAAAIBBQAQAAAAACARUAAAAAIBBQAQAAAAACARUAAAAA\n",
       "IBBQAQAAAAACARUAAAAAIBBQAQAAAAACARUAAAAAIBBQAQAAAAACARUAAAAAIBBQAQAAAAACARUA\n",
       "AAAAIBBQAQAAAAACARUAAAAAIBBQAQAAAACCRfWAbDFVLzhUpj4P1639i9UTZn68uF09oenK7rHq\n",
       "CU37qz7/Z3nz8n3VE2YeGS5VT2i6+bcXqic0nfn88eoJTbsffbp6QtP6qf7O+a3n/6V6QtN039nq\n",
       "CW1371YvaDt3f/WCmfWLb1dPaDr+1uvVE5qWD56rntC08dxXqyc0LZ/6leoJM4sv/Gn1hKbpsQeq\n",
       "JzStXXuvekLTlRunqifMfPLBPq+nr1x4qHpC01g9IPju7nb1hKZry7eqJ8xM0371hENm2elp318T\n",
       "7LOMAAAAAAB0QEAFAAAAAAgEVAAAAACAQEAFAAAAAAgEVAAAAACAQEAFAAAAAAgEVAAAAACAQEAF\n",
       "AAAAAAgEVAAAAACAQEAFAAAAAAgEVAAAAACAQEAFAAAAAAgEVAAAAACAQEAFAAAAAAgEVAAAAACA\n",
       "QEAFAAAAAAgEVAAAAACAQEAFAAAAAAgEVAAAAACAQEAFAAAAAAgEVAAAAACAQEAFAAAAAAgEVAAA\n",
       "AACAQEAFAAAAAAgEVAAAAACAQEAFAAAAAAgEVAAAAACAQEAFAAAAAAgEVAAAAACAQEAFAAAAAAgE\n",
       "VAAAAACAQEAFAAAAAAgEVAAAAACAQEAFAAAAAAgEVAAAAACAQEAFAAAAAAgEVAAAAACAYFE9IFuO\n",
       "1QtaxmFjqt7QMg371ROalge3qifMXNg6Xz2h6Y2bv1w9oelzD1+tntD0H9v3Vk+YmaYuL1vD8Xt2\n",
       "qic0nVm7Wz2h6diX/656QtvWRvWCuWOb1QuaxtWqekLT/uNPVk9oWr91rXrC3P5u9YKm6djx6glN\n",
       "ByfPVk9oe/KT1QuaFq+8VD1h7tzp6gVt712sXtD0xld+rXpC039d6+/+9GObfV5PN9b6/K1+9u2T\n",
       "1ROa3hn/rXpC0+7+peoJ/NTqrwl6AxUAAAAAIBBQAQAAAAACARUAAAAAIBBQAQAAAAACARUAAAAA\n",
       "IBBQAQAAAAACARUAAAAAIBBQAQAAAAACARUAAAAAIBBQAQAAAAACARUAAAAAIBBQAQAAAAACARUA\n",
       "AAAAIBBQAQAAAAACARUAAAAAIBBQAQAAAAACARUAAAAAIBBQAQAAAAACARUAAAAAIBBQAQAAAAAC\n",
       "ARUAAAAAIBBQAQAAAAACARUAAAAAIBBQAQAAAAACARUAAAAAIBBQAQAAAAACARUAAAAAIBBQAQAA\n",
       "AAACARUAAAAAIBBQAQAAAAACARUAAAAAIBBQAQAAAAACARUAAAAAIBBQAQAAAAACARUAAAAAIBBQ\n",
       "AQAAAAACARUAAAAAIFhUDzhspmF/rN7QNFUPaBvHze6W3Tq4XD2h6ct3Xque0LTxw8eqJzT97kM/\n",
       "qp4w8/3rp6snNJ149+eqJzQ98LXvVU9oWv/sx6onNK1d6e+cn44dr57QdHDm/uoJTYtvfqN6QtPt\n",
       "3/vj6gkzazsXqyc0HX3uH6onNG2sVtUTmsbdu9UTmlaPnKueMDN+/wfVE5pu/3uf19O9vc3qCU3H\n",
       "F/vVE2Zeufhg9YSmV68frZ7Q9PVln89kO8s+n2GHqbvH/WEY+8xc03Cnz5bE++YNVAAAAACAQEAF\n",
       "AAAAAAgEVAAAAACAQEAFAAAAAAgEVAAAAACAQEAFAAAAAAgEVAAAAACAQEAFAAAAAAgEVAAAAACA\n",
       "QEAFAAAAAAgEVAAAAACAQEAFAAAAAAgEVAAAAACAQEAFAAAAAAgEVAAAAACAQEAFAAAAAAgEVAAA\n",
       "AACAQEAFAAAAAAgEVAAAAACAQEAFAAAAAAgEVAAAAACAQEAFAAAAAAgEVAAAAACAQEAFAAAAAAgE\n",
       "VAAAAACAQEAFAAAAAAgEVAAAAACAQEAFAAAAAAgEVAAAAACAQEAFAAAAAAgEVAAAAACAQEAFAAAA\n",
       "AAgEVAAAAACAQEAFAAAAAAgEVAAAAACAQEAFAAAAAAgW1QP4YIzj5lS9oWW1uls9YebG3TeqJzTt\n",
       "bd6untD0yo2PVk9oevT66eoJM/csltUTml6/em/1hKb7v/5k9YSmR898rXpC0+qZx6snzCzPPFA9\n",
       "oWnr9ZeqJzQdPNHfZzgMw7D15r9WT5hZf+nl6glt95+pXtA0TqvqCU3Tq5erJzSNf/KF6gkzqxf+\n",
       "qHpC0zvffaR6QtOlDu8Dh2EYzt+6p3rCzImNPu9PX76+Wz2haXt1vnpC0+5+n9fTYRyrF8xM053+\n",
       "Rg3DMA4bXTabadjv8nj1yBuoAAAAAACBgAoAAAAAEAioAAAAAACBgAoAAAAAEAioAAAAAACBgAoA\n",
       "AAAAEAioAAAAAACBgAoAAAAAEAioAAAAAACBgAoAAAAAEAioAAAAAACBgAoAAAAAEAioAAAAAACB\n",
       "gAoAAAAAEAioAAAAAACBgAoAAAAAEAioAAAAAACBgAoAAAAAEAioAAAAAACBgAoAAAAAEAioAAAA\n",
       "AACBgAoAAAAAEAioAAAAAACBgAoAAAAAEAioAAAAAACBgAoAAAAAEAioAAAAAACBgAoAAAAAEAio\n",
       "AAAAAACBgAoAAAAAEAioAAAAAACBgAoAAAAAEAioAAAAAACBgAoAAAAAEAioAAAAAACBgAoAAAAA\n",
       "EAioAAAAAADBWD0A/r+tjcen6g0tmxv3Vk9oWl87Uj2h6anxM9UTZn7jw1vVE5rObu5XT2j6+NnL\n",
       "1ROaThy5Uz2h6Rc/8Z/VE2aOf3ZVPaFp77m71ROatp7p87Zr+p2/rp4ws/uDZ6snNK3t93l9WPz4\n",
       "h9UT2r71ZvWCph998/HqCTM3rp2sntC0c+do9YSmqzv3VE9oevb8A9UTZp6/1ef91tvTq9UTmm7t\n",
       "Xaie0HSwulk94dCYpoPqCcGyzxtB3jdvoAIAAAAABAIqAAAAAEAgoAIAAAAABAIqAAAAAEAgoAIA\n",
       "AAAABAIqAAAAAEAgoAIAAAAABAIqAAAAAEAgoAIAAAAABAIqAAAAAEAgoAIAAAAABAIqAAAAAEAg\n",
       "oAIAAAAABAIqAAAAAEAgoAIAAAAABAIqAAAAAEAgoAIAAAAABAIqAAAAAEAgoAIAAAAABAIqAAAA\n",
       "AEAgoAIAAAAABAIqAAAAAEAgoAIAAAAABAIqAAAAAEAgoAIAAAAABAIqAAAAAEAgoAIAAAAABAIq\n",
       "AAAAAEAgoAIAAAAABAIqAAAAAEAgoAIAAAAABAIqAAAAAEAgoAIAAAAABAIqAAAAAEAgoAIAAAAA\n",
       "BAIqAAAAAEAgoAIAAAAABIvqAYfPYqpecJiMw1g9YWaa9qonNO0f7FRPaNpbXq+e0PTi5lerJ8zs\n",
       "Xv716glNTxw/UT2h6fbB/dUTmj601ec14vz22eoJM5++9a3qCU2nHt2untB057f+snpC09F/+vPq\n",
       "CTNH9verJzTdffIz1ROa1i6+Wz2h6bUvfap6QtOJkzerJ8y8t/2h6glNz733QPWEpteu9/eMMQzD\n",
       "8MLye9UTZt7dfbF6QtP62pHqCU0HB30++0xDnxliHHt8J2/Z5wWi25bU6/HqT49nOwAAAABAFwRU\n",
       "AAAAAIBAQAUAAAAACARUAAAAAIBAQAUAAAAACARUAAAAAIBAQAUAAAAACARUAAAAAIBAQAUAAAAA\n",
       "CARUAAAAAIBAQAUAAAAACARUAAAAAIBAQAUAAAAACARUAAAAAIBAQAUAAAAACARUAAAAAIBAQAUA\n",
       "AAAACARUAAAAAIBAQAUAAAAACARUAAAAAIBAQAUAAAAACARUAAAAAIBAQAUAAAAACARUAAAAAIBA\n",
       "QAUAAAAACARUAAAAAIBAQAUAAAAACARUAAAAAIBAQAUAAAAACARUAAAAAIBAQAUAAAAACARUAAAA\n",
       "AIBAQAUAAAAACARUAAAAAIBAQAUAAAAACARUAAAAAIBAQAUAAAAACMbqAcD/WEzVC1rGcaN6QtPa\n",
       "uFU9YW7s8z+prcWZ6glNT639ZvWEptPrm9UTmn7h5Hr1hJknTt2untB0cnOvekLTgyevVk9oOtLh\n",
       "8TqytVs9oenuboe/PcMwfPvCQ9UTmk53+jm+eOV09YSZd3f6fCx7806f1/mL65eqJzS9decb1RNm\n",
       "DlY71ROapmm/ekKw7PPL2OmzYr/HCz54fT7tAwAAAAB0QEAFAAAAAAgEVAAAAACAQEAFAAAAAAgE\n",
       "VAAAAACAQEAFAAAAAAgEVAAAAACAQEAFAAAAAAgEVAAAAACAQEAFAAAAAAgEVAAAAACAQEAFAAAA\n",
       "AAgEVAAAAACAQEAFAAAAAAgEVAAAAACAQEAFAAAAAAgEVAAAAACAQEAFAAAAAAgEVAAAAACAQEAF\n",
       "AAAAAAgEVAAAAACAQEAFAAAAAAgEVAAAAACAQEAFAAAAAAgEVAAAAACAQEAFAAAAAAgEVAAAAACA\n",
       "QEAFAAAAAAgEVAAAAACAQEAFAAAAAAgEVAAAAACAQEAFAAAAAAgEVAAAAACAQEAFAAAAAAgEVAAA\n",
       "AACAQEAFAAAAAAgEVAAAAACAYKweAPCTGMfNqXrDYTGOR6onNG0uzlRPaDqyfqp6QtP62mb1hJlH\n",
       "V5+onnConFjbqp7QdGu1Vz1h5ui4UT2haW86qJ7QtL12o3pC05Gpz3P+0tqF6gkzt6er1ROabi+v\n",
       "VE9o2lter57QtFrtVE+Ym1bVCw6VadjXSIAmb6ACAAAAAAQCKgAAAABAIKACAAAAAAQCKgAAAABA\n",
       "IKACAAAAAAQCKgAAAABAIKACAAAAAAQCKgAAAABAIKACAAAAAAQCKgAAAABAIKACAAAAAAQCKgAA\n",
       "AABAIKACAAAAAAQCKgAAAABAIKACAAAAAAQCKgAAAABAIKACAAAAAAQCKgAAAABAIKACAAAAAAQC\n",
       "KgAAAABAIKACAAAAAAQCKgAAAABAIKACAAAAAAQCKgAAAABAIKACAAAAAAQCKgAAAABAIKACAAAA\n",
       "AAQCKgAAAABAIKACAAAAAAQCKgAAAABAIKACAAAAAAQCKgAAAABAIKACAAAAAAQCKgAAAABAIKAC\n",
       "AAAAAAQCKgAAAABAMFYPAPjJLKbqBYfFOK5XT2gax43qCU3juFk9oW1aVS+YG/v8H3Zj/Xj1hKZp\n",
       "6vOyNY793Q6urx2pntC0u3+1ekLTYv1o9YSmg9Vu9YSgv2vXwepW9YSmcVhUT2harXaqJ7SN/R2v\n",
       "abrT30V+GIZ+7+WXnR4voFp/dw8AAAAAAJ0QUAEAAAAAAgEVAAAAACAQUAEAAAAAAgEVAAAAACAQ\n",
       "UAEAAAAAAgEVAAAAACAQUAEAAAAAAgEVAAAAACAQUAEAAAAAAgEVAAAAACAQUAEAAAAAAgEVAAAA\n",
       "ACAQUAEAAAAAAgEVAAAAACAQUAEAAAAAAgEVAAAAACAQUAEAAAAAAgEVAAAAACAQUAEAAAAAAgEV\n",
       "AAAAACAQUAEAAAAAAgEVAAAAACAQUAEAAAAAAgEVAAAAACAQUAEAAAAAAgEVAAAAACAQUAEAAAAA\n",
       "AgEVAAAAACAQUAEAAAAAAgEVAAAAACAQUAEAAAAAAgEVAAAAACAQUAEAAAAAAgEVAAAAACAQUAEA\n",
       "AAAAAgEVAAAAACAYqwcA8LNpHDam6g0t07Df6W/jorvjNXZ6GzGuHa2e0DSt7lRPaBrXtqonzEzT\n",
       "fvWEpnHs71gNwzBM093qCU3jsFE9oWma9qonzI19Xk97fVycpt0+hwHwU8sbqAAAAAAAgYAKAAAA\n",
       "ABAIqAAAAAAAgYAKAAAAABAIqAAAAAAAgYAKAAAAABAIqAAAAAAAgYAKAAAAABAIqAAAAAAAgYAK\n",
       "AAAAABAIqAAAAAAAgYAKAAAAABAIqAAAAAAAgYAKAAAAABAIqAAAAAAAgYAKAAAAABAIqAAAAAAA\n",
       "gYAKAAAAABAIqAAAAAAAgYAKAAAAABAIqAAAAAAAgYAKAAAAABAIqAAAAAAAgYAKAAAAABAIqAAA\n",
       "AAAAgYAKAAAAABAIqAAAAAAAgYAKAAAAABAIqAAAAAAAgYAKAAAAABAIqAAAAAAAgYAKAAAAABAI\n",
       "qAAAAAAAgYAKAAAAABAIqAAAAAAAgYAKAAAAABAIqAAAAAAAwVg9AICfVYupekHbssvfxnHY6O54\n",
       "TcN+l8eqX87596vH830Y+j3nx3Gzz+M17XV5vPr8Lvb3PQQA/pc3UAEAAAAAAgEVAAAAACAQUAEA\n",
       "AAAAAgEVAAAAACAQUAEAAAAAAgEVAAAAACAQUAEAAAAAAgEVAAAAACAQUAEAAAAAAgEVAAAAACAQ\n",
       "UAEAAAAAAgEVAAAAACAQUAEAAAAAAgEVAAAAACAQUAEAAAAAAgEVAAAAACAQUAEAAAAAAgEVAAAA\n",
       "ACAQUAEAAAAAAgEVAAAAACAQUAEAAAAAAgEVAAAAACAQUAEAAAAAAgEVAAAAACAQUAEAAAAAAgEV\n",
       "AAAAACAQUAEAAAAAAgEVAAAAACAQUAEAAAAAAgEVAAAAACAQUAEAAAAAAgEVAAAAACAQUAEAAAAA\n",
       "AgEVAAAAACAQUAEAAAAAAgEVAAAAACAQUAEAAAAAgrF6AADAB2kcNqbqDS3TsO++CwAADiFvoAIA\n",
       "AAAABAIqAAAAAEAgoAIAAAAABAIqAAAAAEAgoAIAAAAABAIqAAAAAEAgoAIAAAAABAIqAAAAAEAg\n",
       "oAIAAAAABAIqAAAAAEAgoAIAAAAABAIqAAAAAEAgoAIAAAAABAIqAAAAAEAgoAIAAAAABAIqAAAA\n",
       "AEAgoAIAAAAABAIqAAAAAEAgoAIAAAAABAIqAAAAAEAgoAIAAAAABAIqAAAAAEAgoAIAAAAABAIq\n",
       "AAAAAEAgoAIAAAAABAIqAAAAAEAgoAIAAAAABAIqAAAAAEAgoAIAAAAABAIqAAAAAEAgoAIAAAAA\n",
       "BAIqAAAAAEAgoAIAAAAABAIqAAAAAEAgoAIAAAAABAIqAAAAAEDw37jjtH2o1KbEAAAAAElFTkSu\n",
       "QmCC\n",
       "\" transform=\"translate(488, 200)\"/>\n",
       "</g>\n",
       "<defs>\n",
       "  <clipPath id=\"clip863\">\n",
       "    <rect x=\"2160\" y=\"200\" width=\"73\" height=\"1210\"/>\n",
       "  </clipPath>\n",
       "</defs>\n",
       "<g clip-path=\"url(#clip863)\">\n",
       "<image width=\"72\" height=\"1209\" xlink:href=\"data:image/png;base64,\n",
       "iVBORw0KGgoAAAANSUhEUgAAAEgAAAS5CAYAAAB/bF3oAAAKoUlEQVR4nO3dwY3sRhAFQY5Q/lsh\n",
       "L6XfLQtUeSQPERYMEg9Ek5yd/f17/r4P/+uvtz/A1wkUBAoChTn337c/w6dZUBAoCBQECnPvn7c/\n",
       "w6dZUBAoCBQECk7SwYKCQEGgMNc1aGVBQaAgUBAozD0u0hsLCgIFgYJAwUk6WFAQKAgUBAou0sGC\n",
       "gkBBoOBuPlhQECgIFAQK8zgoriwoCBQECgIFd/PBgoJAQaAwj7v5lQUFgYJAQaAwz/nn7c/waRYU\n",
       "BAoCBYGCR67BgoJAQaAgUPC4I1hQECgIFFyDggUFgYJAQaDgbj5YUBAoCBQECvNzkl5ZUBAoCBQE\n",
       "CvMcv+W6saAgUBAoOCgGCwoCBYGCQMFBMVhQECgIFAQKvrwQLCgIFAQK83NQXFlQECgIFAQKvkAV\n",
       "LCgIFAQKAgUn6WBBQaAgUBAoeC8WLCgIFAQKDorBgoJAQaAgUHBQDBYUBAoCBYGCk3SwoCBQECjM\n",
       "c87bn+HTLCgIFAQKAgUHxWBBQaAgUBAoeOQaLCgIFAQKAgUX6WBBQaAgUJifR64rCwoCBYGCQMFB\n",
       "MVhQECgIFAQKvrwQLCgIFAQKAgWPO4IFBYGCQMHdfLCgIFAQKAgU3M0HCwoCBYGCQMFFOlhQECgI\n",
       "FPw5VLCgIFAQKAgUHBSDBQWBgkBBoOAiHSwoCBQECgIFF+lgQUGgIFBwDQoWFAQKAgWBwjzXRXpj\n",
       "QUGgIFAQKDhJBwsKAgWBgmtQsKAgUBAoCBRcpIMFBYGCQEGgMM+5b3+GT7OgIFAQKAgUnKSDBQWB\n",
       "gkDBQTFYUBAoCBQECg6KwYKCQEGgIFBwkg4WFAQKAgWBwjwO0isLCgIFgcI810FxY0FBoCBQECg4\n",
       "KAYLCgIFgYJAwUU6WFAQKAgUxm+b7CwoCBQECgIFB8VgQUGgIFAQKLhIBwsKAgWBgkBhnvN7+zN8\n",
       "mgUFgYJAYe51DdpYUBAoCBQECu7mgwUFgYJAQaDgbj5YUBAoCBTmHo026gSBgkBBoOCgGCwoCBQE\n",
       "CgKFebwXW1lQECgIFAQKc52kVxYUBAoChXk8cl2pEwQKAgWBgoNisKAgUBAoCBQ8cg0WFAQKAgWB\n",
       "gm+YBXWCQEGg4AtUwYKCQEGgIFDwyDVYUBAoCBQECnOvRht1gkBBoOBuPlhQECgIFAQK7uaDBQWB\n",
       "gkBBoDCPu/mVOkGgIFAQKDhJBwsKAgWBgmtQsKAgUBAoCBT8OVSwoCBQECgIFPw5VFAnCBQECv6F\n",
       "X7CgIFAQKAgUPHINFhQECgIFgYLfcg3qBIGCQEGg4HFHsKAgUBAouJsPFhQECgIFgYKDYrCgIFAQ\n",
       "KAgUfIEqqBMECgIFgYKTdLCgIFAQKHjkGiwoCBQECgIFB8VgQUGgIFAQKPjB7WBBQaAgUPCPR4I6\n",
       "QaAgUBAouJsPFhQECgIFgYL3YsGCgkBBoCBQcJIOFhQECgKFOa5BKwsKAgWBgkDBn0MFdYJAQaAg\n",
       "UHA3HywoCBQECq5BwYKCQEGgIFDwbj5YUBAoCBQECk7SwYKCQEGgIFBwkQ4WFAQKAgV/sxrUCQIF\n",
       "gYJAYY5HrisLCgIFgYJAwd18sKAgUBAoCBRcpIMFBYGCQME1KFhQECgIFAQKflggWFAQKAgUBApO\n",
       "0sGCgkBBoOAaFCwoCBQECgIF33IN6gSBgkBBoOBbrsGCgkBBoCBQ8LgjWFAQKAgUXIOCBQWBgkBB\n",
       "oOALVMGCgkBBoCBQcJIOFhQECgKFuY9r0MaCgkBBoCBQcDcfLCgIFAQKAgV388GCgkBBoCBQcJIO\n",
       "FhQECgIFB8VgQUGgIFAQKDgoBgsKAgWBgkDBSTpYUBAoCBQECi7SwYKCQEGgMMe3XFcWFAQKAgWB\n",
       "goNisKAgUBAoCBS8FwsWFAQKAoW59+2P8G0WFAQKAgWBgoNisKAgUBAoCBT8+kuwoCBQECgIFJyk\n",
       "gwUFgYJAwbv5YEFBoCBQECj4lmuwoCBQECgIFHx5IVhQECgIFAQKHrkGCwoCBYGCR67BgoJAQaAg\n",
       "UPDINVhQECgIFAQK7uaDBQWBgkDBa59gQUGgIFAQKLibDxYUBAoCBYGC92LBgoJAQaAgUJjz9if4\n",
       "OAsKAgWBgoNisKAgUBAoCBS8mw8WFAQKAgWBgrv5YEFBoCBQcDcfLCgIFAQKAgUHxWBBQaAgUBAo\n",
       "OEkHCwoCBYGCQMF7sWBBQaAgUBh/srqzoCBQECgIFBwUgwUFgYJAQaDgvViwoCBQECgIFLwXCxYU\n",
       "BAoCBQfFYEFBoCBQECg4KAYLCgIFgYJAYY5vL6wsKAgUBAru5oMFBYGCQEGg4G4+WFAQKAgUBApO\n",
       "0sGCgkBBoCBQ8D8OgwUFgYJAwb/wCxYUBAoCBYGCd/PBgoJAQaAgUPDrL8GCgkBBoODHTYIFBYGC\n",
       "QEGg4LVPsKAgUBAoCBR8gSpYUBAoCBQECv4UIVhQECgIFBwUgwUFgYJAQaDgC1TBgoJAQaAgUPAF\n",
       "qmBBQaAgUBAoOEkHCwoCBYGCL1AFCwoCBYGCQMEPCwQLCgIFgYJAwd18sKAgUBAoeO0TLCgIFAQK\n",
       "AgUHxWBBQaAgUBAoOEkHCwoCBYGCQMFJOlhQECgIFFyDggUFgYJAQaDgbj5YUBAoCBQECk7SwYKC\n",
       "QEGg4KAYLCgIFAQKAgUHxWBBQaAgUBAo+GGBYEFBoCBQECj4we1gQUGgIFBwNx8sKAgUBAoChbmP\n",
       "q/TGgoJAQaAgUHCSDhYUBAoCBYGC92LBgoJAQaDgtU+woCBQECgIFNzNBwsKAgWBgkDBe7FgQUGg\n",
       "IFBwUAwWFAQKAgWBgh8WCBYUBAoCBYHCHC/nVxYUBAoCBYGCLy8ECwoCBYHCXAfFlQUFgYJAQaDg\n",
       "oBgsKAgUBAoCBY9cgwUFgYJAwbv5YEFBoCBQECjM8U37lQUFgYJAQaDgbj5YUBAoCBQECv5mNVhQ\n",
       "ECgIFLybDxYUBAoCBYGCR67BgoJAQaAgUHA3HywoCBQECgKFOY8HHhsLCgIFgYK7+WBBQaAgUBAo\n",
       "uEgHCwoCBYGCQMEj12BBQaAgUPBEMVhQECgIFAQKc34OihsLCgIFgYJAwUk6WFAQKAgUBApzXaRX\n",
       "FhQECgIFB8VgQUGgIFAQKMz5uUhvLCgIFAQKAgUn6WBBQaAgUPBEMVhQECgIFAQKDorBgoJAQaAg\n",
       "UHCRDhYUBAoCBYGC92LBgoJAQaAw9/nz9mf4NAsKAgWBgkDB3XywoCBQECgIFHx5IVhQECgIFAQK\n",
       "c67HHRsLCgIFgYKDYrCgIFAQKAgU5ngvtrKgIFAQKAgUnKSDBQWBgkDBQTFYUBAoCBQECnOvg+LG\n",
       "goJAQaAgUHA3HywoCBQECgIFX6AKFhQECgIFB8VgQUGgIFAQKMx1UFxZUBAoCBQECk7SwYKCQEGg\n",
       "MMe7+ZUFBYGCQEGg4GcCgwUFgYJAQaDgW67BgoJAQaAgUPDINVhQECgIFBwUgwUFgYJAQaDgIh0s\n",
       "KAgUBAoCBe/FggUFgYJAQaDgJB0sKAgUBArzeO2zsqAgUBAoCBQcFIMFBYGCQEGg4AtUwYKCQEGg\n",
       "MI+D4sqCgkBBoCBQ8G4+WFAQKAgUBAreiwULCgIFgYJAweOOYEFBoCBQmPvctz/Dp1lQECgIFAQK\n",
       "7uaDBQWBgkBBoDCPk/TKgoJAQaDwH/Ur7IH8vWgVAAAAAElFTkSuQmCC\n",
       "\" transform=\"translate(2161, 200)\"/>\n",
       "</g>\n",
       "<path clip-path=\"url(#clip860)\" d=\"M2270.21 1185.77 L2288.57 1185.77 L2288.57 1189.71 L2274.5 1189.71 L2274.5 1198.18 Q2275.52 1197.83 2276.53 1197.67 Q2277.55 1197.49 2278.57 1197.49 Q2284.36 1197.49 2287.74 1200.66 Q2291.12 1203.83 2291.12 1209.24 Q2291.12 1214.82 2287.64 1217.92 Q2284.17 1221 2277.85 1221 Q2275.68 1221 2273.41 1220.63 Q2271.16 1220.26 2268.76 1219.52 L2268.76 1214.82 Q2270.84 1215.96 2273.06 1216.51 Q2275.28 1217.07 2277.76 1217.07 Q2281.77 1217.07 2284.1 1214.96 Q2286.44 1212.86 2286.44 1209.24 Q2286.44 1205.63 2284.1 1203.53 Q2281.77 1201.42 2277.76 1201.42 Q2275.89 1201.42 2274.01 1201.84 Q2272.16 1202.25 2270.21 1203.13 L2270.21 1185.77 Z\" fill=\"#000000\" fill-rule=\"evenodd\" fill-opacity=\"1\" /><path clip-path=\"url(#clip860)\" d=\"M2310.33 1188.85 Q2306.72 1188.85 2304.89 1192.42 Q2303.08 1195.96 2303.08 1203.09 Q2303.08 1210.19 2304.89 1213.76 Q2306.72 1217.3 2310.33 1217.3 Q2313.96 1217.3 2315.77 1213.76 Q2317.6 1210.19 2317.6 1203.09 Q2317.6 1195.96 2315.77 1192.42 Q2313.96 1188.85 2310.33 1188.85 M2310.33 1185.15 Q2316.14 1185.15 2319.2 1189.75 Q2322.27 1194.34 2322.27 1203.09 Q2322.27 1211.81 2319.2 1216.42 Q2316.14 1221 2310.33 1221 Q2304.52 1221 2301.44 1216.42 Q2298.39 1211.81 2298.39 1203.09 Q2298.39 1194.34 2301.44 1189.75 Q2304.52 1185.15 2310.33 1185.15 Z\" fill=\"#000000\" fill-rule=\"evenodd\" fill-opacity=\"1\" /><path clip-path=\"url(#clip860)\" d=\"M2269.43 1009.32 L2277.07 1009.32 L2277.07 982.959 L2268.76 984.625 L2268.76 980.366 L2277.02 978.699 L2281.7 978.699 L2281.7 1009.32 L2289.33 1009.32 L2289.33 1013.26 L2269.43 1013.26 L2269.43 1009.32 Z\" fill=\"#000000\" fill-rule=\"evenodd\" fill-opacity=\"1\" /><path clip-path=\"url(#clip860)\" d=\"M2308.78 981.778 Q2305.17 981.778 2303.34 985.343 Q2301.53 988.885 2301.53 996.014 Q2301.53 1003.12 2303.34 1006.69 Q2305.17 1010.23 2308.78 1010.23 Q2312.41 1010.23 2314.22 1006.69 Q2316.05 1003.12 2316.05 996.014 Q2316.05 988.885 2314.22 985.343 Q2312.41 981.778 2308.78 981.778 M2308.78 978.074 Q2314.59 978.074 2317.64 982.681 Q2320.72 987.264 2320.72 996.014 Q2320.72 1004.74 2317.64 1009.35 Q2314.59 1013.93 2308.78 1013.93 Q2302.97 1013.93 2299.89 1009.35 Q2296.83 1004.74 2296.83 996.014 Q2296.83 987.264 2299.89 982.681 Q2302.97 978.074 2308.78 978.074 Z\" fill=\"#000000\" fill-rule=\"evenodd\" fill-opacity=\"1\" /><path clip-path=\"url(#clip860)\" d=\"M2338.94 981.778 Q2335.33 981.778 2333.5 985.343 Q2331.7 988.885 2331.7 996.014 Q2331.7 1003.12 2333.5 1006.69 Q2335.33 1010.23 2338.94 1010.23 Q2342.57 1010.23 2344.38 1006.69 Q2346.21 1003.12 2346.21 996.014 Q2346.21 988.885 2344.38 985.343 Q2342.57 981.778 2338.94 981.778 M2338.94 978.074 Q2344.75 978.074 2347.81 982.681 Q2350.89 987.264 2350.89 996.014 Q2350.89 1004.74 2347.81 1009.35 Q2344.75 1013.93 2338.94 1013.93 Q2333.13 1013.93 2330.05 1009.35 Q2327 1004.74 2327 996.014 Q2327 987.264 2330.05 982.681 Q2333.13 978.074 2338.94 978.074 Z\" fill=\"#000000\" fill-rule=\"evenodd\" fill-opacity=\"1\" /><path clip-path=\"url(#clip860)\" d=\"M2269.43 802.252 L2277.07 802.252 L2277.07 775.886 L2268.76 777.553 L2268.76 773.293 L2277.02 771.627 L2281.7 771.627 L2281.7 802.252 L2289.33 802.252 L2289.33 806.187 L2269.43 806.187 L2269.43 802.252 Z\" fill=\"#000000\" fill-rule=\"evenodd\" fill-opacity=\"1\" /><path clip-path=\"url(#clip860)\" d=\"M2298.83 771.627 L2317.18 771.627 L2317.18 775.562 L2303.11 775.562 L2303.11 784.034 Q2304.13 783.687 2305.14 783.525 Q2306.16 783.34 2307.18 783.34 Q2312.97 783.34 2316.35 786.511 Q2319.73 789.682 2319.73 795.099 Q2319.73 800.678 2316.26 803.779 Q2312.78 806.858 2306.46 806.858 Q2304.29 806.858 2302.02 806.488 Q2299.77 806.117 2297.37 805.377 L2297.37 800.678 Q2299.45 801.812 2301.67 802.367 Q2303.89 802.923 2306.37 802.923 Q2310.38 802.923 2312.71 800.817 Q2315.05 798.71 2315.05 795.099 Q2315.05 791.488 2312.71 789.381 Q2310.38 787.275 2306.37 787.275 Q2304.5 787.275 2302.62 787.692 Q2300.77 788.108 2298.83 788.988 L2298.83 771.627 Z\" fill=\"#000000\" fill-rule=\"evenodd\" fill-opacity=\"1\" /><path clip-path=\"url(#clip860)\" d=\"M2338.94 774.706 Q2335.33 774.706 2333.5 778.27 Q2331.7 781.812 2331.7 788.942 Q2331.7 796.048 2333.5 799.613 Q2335.33 803.154 2338.94 803.154 Q2342.57 803.154 2344.38 799.613 Q2346.21 796.048 2346.21 788.942 Q2346.21 781.812 2344.38 778.27 Q2342.57 774.706 2338.94 774.706 M2338.94 771.002 Q2344.75 771.002 2347.81 775.608 Q2350.89 780.192 2350.89 788.942 Q2350.89 797.668 2347.81 802.275 Q2344.75 806.858 2338.94 806.858 Q2333.13 806.858 2330.05 802.275 Q2327 797.668 2327 788.942 Q2327 780.192 2330.05 775.608 Q2333.13 771.002 2338.94 771.002 Z\" fill=\"#000000\" fill-rule=\"evenodd\" fill-opacity=\"1\" /><path clip-path=\"url(#clip860)\" d=\"M2274.38 595.179 L2290.7 595.179 L2290.7 599.114 L2268.76 599.114 L2268.76 595.179 Q2271.42 592.424 2276 587.795 Q2280.61 583.142 2281.79 581.799 Q2284.03 579.276 2284.91 577.54 Q2285.82 575.781 2285.82 574.091 Q2285.82 571.337 2283.87 569.6 Q2281.95 567.864 2278.85 567.864 Q2276.65 567.864 2274.2 568.628 Q2271.77 569.392 2268.99 570.943 L2268.99 566.221 Q2271.81 565.087 2274.27 564.508 Q2276.72 563.929 2278.76 563.929 Q2284.13 563.929 2287.32 566.614 Q2290.52 569.3 2290.52 573.79 Q2290.52 575.92 2289.7 577.841 Q2288.92 579.739 2286.81 582.332 Q2286.23 583.003 2283.13 586.221 Q2280.03 589.415 2274.38 595.179 Z\" fill=\"#000000\" fill-rule=\"evenodd\" fill-opacity=\"1\" /><path clip-path=\"url(#clip860)\" d=\"M2310.51 567.633 Q2306.9 567.633 2305.08 571.198 Q2303.27 574.739 2303.27 581.869 Q2303.27 588.975 2305.08 592.54 Q2306.9 596.082 2310.51 596.082 Q2314.15 596.082 2315.95 592.54 Q2317.78 588.975 2317.78 581.869 Q2317.78 574.739 2315.95 571.198 Q2314.15 567.633 2310.51 567.633 M2310.51 563.929 Q2316.33 563.929 2319.38 568.536 Q2322.46 573.119 2322.46 581.869 Q2322.46 590.596 2319.38 595.202 Q2316.33 599.785 2310.51 599.785 Q2304.7 599.785 2301.63 595.202 Q2298.57 590.596 2298.57 581.869 Q2298.57 573.119 2301.63 568.536 Q2304.7 563.929 2310.51 563.929 Z\" fill=\"#000000\" fill-rule=\"evenodd\" fill-opacity=\"1\" /><path clip-path=\"url(#clip860)\" d=\"M2340.68 567.633 Q2337.07 567.633 2335.24 571.198 Q2333.43 574.739 2333.43 581.869 Q2333.43 588.975 2335.24 592.54 Q2337.07 596.082 2340.68 596.082 Q2344.31 596.082 2346.12 592.54 Q2347.95 588.975 2347.95 581.869 Q2347.95 574.739 2346.12 571.198 Q2344.31 567.633 2340.68 567.633 M2340.68 563.929 Q2346.49 563.929 2349.54 568.536 Q2352.62 573.119 2352.62 581.869 Q2352.62 590.596 2349.54 595.202 Q2346.49 599.785 2340.68 599.785 Q2334.87 599.785 2331.79 595.202 Q2328.73 590.596 2328.73 581.869 Q2328.73 573.119 2331.79 568.536 Q2334.87 563.929 2340.68 563.929 Z\" fill=\"#000000\" fill-rule=\"evenodd\" fill-opacity=\"1\" /><path clip-path=\"url(#clip860)\" d=\"M2274.38 388.106 L2290.7 388.106 L2290.7 392.042 L2268.76 392.042 L2268.76 388.106 Q2271.42 385.352 2276 380.722 Q2280.61 376.069 2281.79 374.727 Q2284.03 372.204 2284.91 370.468 Q2285.82 368.708 2285.82 367.019 Q2285.82 364.264 2283.87 362.528 Q2281.95 360.792 2278.85 360.792 Q2276.65 360.792 2274.2 361.556 Q2271.77 362.32 2268.99 363.87 L2268.99 359.148 Q2271.81 358.014 2274.27 357.435 Q2276.72 356.857 2278.76 356.857 Q2284.13 356.857 2287.32 359.542 Q2290.52 362.227 2290.52 366.718 Q2290.52 368.847 2289.7 370.769 Q2288.92 372.667 2286.81 375.259 Q2286.23 375.931 2283.13 379.148 Q2280.03 382.343 2274.38 388.106 Z\" fill=\"#000000\" fill-rule=\"evenodd\" fill-opacity=\"1\" /><path clip-path=\"url(#clip860)\" d=\"M2300.56 357.482 L2318.92 357.482 L2318.92 361.417 L2304.84 361.417 L2304.84 369.889 Q2305.86 369.542 2306.88 369.38 Q2307.9 369.194 2308.92 369.194 Q2314.7 369.194 2318.08 372.366 Q2321.46 375.537 2321.46 380.954 Q2321.46 386.532 2317.99 389.634 Q2314.52 392.713 2308.2 392.713 Q2306.02 392.713 2303.76 392.342 Q2301.51 391.972 2299.1 391.231 L2299.1 386.532 Q2301.19 387.667 2303.41 388.222 Q2305.63 388.778 2308.11 388.778 Q2312.11 388.778 2314.45 386.671 Q2316.79 384.565 2316.79 380.954 Q2316.79 377.343 2314.45 375.236 Q2312.11 373.13 2308.11 373.13 Q2306.23 373.13 2304.36 373.546 Q2302.51 373.963 2300.56 374.843 L2300.56 357.482 Z\" fill=\"#000000\" fill-rule=\"evenodd\" fill-opacity=\"1\" /><path clip-path=\"url(#clip860)\" d=\"M2340.68 360.56 Q2337.07 360.56 2335.24 364.125 Q2333.43 367.667 2333.43 374.796 Q2333.43 381.903 2335.24 385.468 Q2337.07 389.009 2340.68 389.009 Q2344.31 389.009 2346.12 385.468 Q2347.95 381.903 2347.95 374.796 Q2347.95 367.667 2346.12 364.125 Q2344.31 360.56 2340.68 360.56 M2340.68 356.857 Q2346.49 356.857 2349.54 361.463 Q2352.62 366.046 2352.62 374.796 Q2352.62 383.523 2349.54 388.13 Q2346.49 392.713 2340.68 392.713 Q2334.87 392.713 2331.79 388.13 Q2328.73 383.523 2328.73 374.796 Q2328.73 366.046 2331.79 361.463 Q2334.87 356.857 2340.68 356.857 Z\" fill=\"#000000\" fill-rule=\"evenodd\" fill-opacity=\"1\" /><polyline clip-path=\"url(#clip860)\" style=\"stroke:#000000; stroke-linecap:round; stroke-linejoin:round; stroke-width:4; stroke-opacity:1; fill:none\" points=\"\n",
       "  2232.76,1409.61 2232.76,1206.68 2256.76,1206.68 2232.76,1206.68 2232.76,999.608 2256.76,999.608 2232.76,999.608 2232.76,792.536 2256.76,792.536 2232.76,792.536 \n",
       "  2232.76,585.463 2256.76,585.463 2232.76,585.463 2232.76,378.39 2256.76,378.39 2232.76,378.39 2232.76,200.308 \n",
       "  \"/>\n",
       "</svg>\n"
      ]
     },
     "metadata": {},
     "output_type": "display_data"
    }
   ],
   "source": [
    "plot(histogram2d(par_dis[3:4:end],par_dis[4:4:end] )\n",
    ",aspectratio=1\n",
    ",title = \"momentum histogram\"\n",
    ")"
   ]
  },
  {
   "attachments": {},
   "cell_type": "markdown",
   "metadata": {},
   "source": [
    "### Check Temperature"
   ]
  },
  {
   "cell_type": "code",
   "execution_count": 9,
   "metadata": {},
   "outputs": [
    {
     "data": {
      "text/plain": [
       "0.0035020100176247023"
      ]
     },
     "metadata": {},
     "output_type": "display_data"
    }
   ],
   "source": [
    "T = get_temperature_rel_D(par_dis,N,D)"
   ]
  },
  {
   "cell_type": "code",
   "execution_count": 12,
   "metadata": {},
   "outputs": [
    {
     "data": {
      "text/plain": [
       "100×100 Matrix{Float64}:\n",
       " 8.50644e-5   7.65286e-5   8.05596e-5   …  7.70837e-5   8.08125e-5\n",
       " 8.7539e-5    9.96953e-5   0.000101897     0.000107603  8.88141e-5\n",
       " 9.64779e-5   8.32866e-5   8.825e-5        0.00011805   9.87958e-5\n",
       " 0.000111391  8.41191e-5   9.63866e-5      8.94973e-5   0.000102125\n",
       " 0.000126665  0.000101876  0.000116        7.83449e-5   0.000113756\n",
       " 0.000101154  9.89704e-5   0.00010915   …  7.14205e-5   9.73408e-5\n",
       " 8.52506e-5   0.000100925  0.000112729     7.97388e-5   8.26699e-5\n",
       " 0.000107159  0.000103159  0.000110739     0.000107727  0.000103989\n",
       " 0.000100988  0.000107985  0.000114433     0.000105255  0.000112943\n",
       " 9.11524e-5   0.000109726  0.000101316     9.54661e-5   0.000101362\n",
       " ⋮                                      ⋱               \n",
       " 0.000117668  9.60805e-5   8.90623e-5      9.11406e-5   0.000118896\n",
       " 0.000125405  0.00012827   0.000111558     8.13671e-5   0.000116496\n",
       " 0.000101856  9.87768e-5   0.000105604     8.89756e-5   0.000110827\n",
       " 9.39034e-5   9.16295e-5   9.58408e-5      7.52456e-5   8.6106e-5\n",
       " 9.97524e-5   9.34035e-5   9.66264e-5   …  8.43112e-5   8.98573e-5\n",
       " 9.5522e-5    0.000100084  0.000113682     0.000102907  9.11168e-5\n",
       " 9.04544e-5   9.30189e-5   0.000113881     0.000114484  9.49595e-5\n",
       " 7.00332e-5   6.81811e-5   9.87084e-5      9.30971e-5   9.25805e-5\n",
       " 7.26614e-5   6.06121e-5   8.22612e-5      7.3222e-5    8.79741e-5"
      ]
     },
     "metadata": {},
     "output_type": "display_data"
    }
   ],
   "source": [
    "par_grid = (N, Box_x, J, 5)\n",
    "n = zeros(J)\n",
    "\n",
    "get_density_2D!(par_dis, n, par_grid, 0.0)\n"
   ]
  },
  {
   "cell_type": "code",
   "execution_count": null,
   "metadata": {},
   "outputs": [],
   "source": [
    "plot_matrix(n)"
   ]
  },
  {
   "cell_type": "code",
   "execution_count": null,
   "metadata": {},
   "outputs": [],
   "source": [
    "#plot(n[:,5])"
   ]
  },
  {
   "attachments": {},
   "cell_type": "markdown",
   "metadata": {},
   "source": [
    "### Check Normalization"
   ]
  },
  {
   "cell_type": "code",
   "execution_count": 13,
   "metadata": {},
   "outputs": [
    {
     "data": {
      "text/plain": [
       "1.0000000000000002"
      ]
     },
     "metadata": {},
     "output_type": "display_data"
    }
   ],
   "source": [
    "sum(n)"
   ]
  },
  {
   "attachments": {},
   "cell_type": "markdown",
   "metadata": {},
   "source": [
    "### Check Current"
   ]
  },
  {
   "cell_type": "code",
   "execution_count": 14,
   "metadata": {},
   "outputs": [
    {
     "data": {
      "text/plain": [
       "-1.982633063637432e-6"
      ]
     },
     "metadata": {},
     "output_type": "display_data"
    }
   ],
   "source": [
    "par_grid = (N, J, Box_x, 5)\n",
    "S = [0.0::Float64 for l in 1:2, i in 1:J[1], j in 1:J[2]]\n",
    "TS = zeros(Float64,(2,J...,nthreads()))\n",
    "\n",
    "par_current_threads_S = (par_grid, TS)\n",
    "\n",
    "get_current_threads_2D!(par_dis, S, par_current_threads_S)\n",
    "S[1,3,4]"
   ]
  },
  {
   "cell_type": "code",
   "execution_count": null,
   "metadata": {},
   "outputs": [],
   "source": [
    "surface(y_p,x_p, S[1,:,:])"
   ]
  },
  {
   "attachments": {},
   "cell_type": "markdown",
   "metadata": {},
   "source": [
    "## Electric and Magnetic initial data"
   ]
  },
  {
   "cell_type": "code",
   "execution_count": 15,
   "metadata": {},
   "outputs": [
    {
     "data": {
      "text/plain": [
       "\"par_dis_rel_weibel_Ax_25_alp8_N5_Th3_B0_0_\""
      ]
     },
     "metadata": {},
     "output_type": "display_data"
    }
   ],
   "source": [
    "# We prescrive a constant magnetic field and the E is just a solution from Poisson's equations. \n",
    "\n",
    "B0 = 0.0 #initial magnetic field\n",
    "\n",
    "B = [B0 for i in 1:J[1], j in 1:J[2]]\n",
    "\n",
    "run_name = run_name * \"_B0_$(convert(Int,B0))_\""
   ]
  },
  {
   "cell_type": "code",
   "execution_count": 16,
   "metadata": {},
   "outputs": [
    {
     "name": "stdout",
     "output_type": "stream",
     "text": [
      "sum(ρ) = 2.1575623232461538e-17\n"
     ]
    }
   ],
   "source": [
    "E = Array{Float64,3}(undef,(2,J...))\n",
    "ρ = n.-1.0/prod(J)\n",
    "@show sum(ρ)\n",
    "get_E!(E,ρ,Box_x);"
   ]
  },
  {
   "cell_type": "code",
   "execution_count": null,
   "metadata": {},
   "outputs": [],
   "source": [
    "surface(y_p,x_p, E[2,:,:])"
   ]
  },
  {
   "cell_type": "code",
   "execution_count": null,
   "metadata": {},
   "outputs": [],
   "source": [
    "plot(x_p, E[1,:,50])"
   ]
  },
  {
   "cell_type": "code",
   "execution_count": 17,
   "metadata": {},
   "outputs": [
    {
     "data": {
      "text/plain": [
       "true"
      ]
     },
     "metadata": {},
     "output_type": "display_data"
    }
   ],
   "source": [
    "average_outputs = false # detailed output (for runs which are too long)\n",
    "full_outputs = false\n",
    "animation = false # to run animations\n",
    "phase_space_show = false #show phase space diagrams\n",
    "#phase_space_show = true\n",
    "remote_server = false # if run in remote_server as a script avoid all plots \n",
    "save_plots = false # put true is you want so save your plots.\n",
    "full_outputs = true\n",
    "animation = true"
   ]
  },
  {
   "cell_type": "markdown",
   "metadata": {},
   "source": [
    "We build the initial data:"
   ]
  },
  {
   "cell_type": "code",
   "execution_count": 18,
   "metadata": {},
   "outputs": [
    {
     "data": {
      "text/plain": [
       "5.2514353839616406e-14"
      ]
     },
     "metadata": {},
     "output_type": "display_data"
    }
   ],
   "source": [
    "u = Vector{Float64}(undef, 4N + 3*prod(J)); # contains r, v and E and B\n",
    "\n",
    "du = Vector{Float64}(undef, 4N + 3*prod(J)); # contains r, v and E\n",
    "\n",
    "u[1:4N] = par_dis \n",
    "\n",
    "Fu = view(u,4N+1:4N+3*prod(J))\n",
    "\n",
    "F = reshape(Fu,3,J...)\n",
    "\n",
    "#F = view(u[4N+1:end],3,J...)\n",
    "F[1:2,:,:] = E\n",
    "F[3,:,:] = B;\n",
    "\n",
    "# the total electric energy is:\n",
    "\n",
    "(norm(E)^2 + norm(B)^2)*prod(dx)\n",
    "#u\n",
    "#F[3,:,:]\n",
    "\n"
   ]
  },
  {
   "cell_type": "code",
   "execution_count": null,
   "metadata": {},
   "outputs": [],
   "source": [
    "#surface(y_p,x_p,F[1,:,:])"
   ]
  },
  {
   "cell_type": "code",
   "execution_count": 19,
   "metadata": {},
   "outputs": [
    {
     "data": {
      "text/plain": [
       "(0.0034931684657998415, 2.62571769198082e-14)"
      ]
     },
     "metadata": {},
     "output_type": "display_data"
    }
   ],
   "source": [
    "Energy_Ks, Energy_Es = get_energy_rel(u,(Box_x, N, J))"
   ]
  },
  {
   "cell_type": "code",
   "execution_count": null,
   "metadata": {},
   "outputs": [],
   "source": [
    "#surface(y_p,x_p,F[3,:,:])"
   ]
  },
  {
   "cell_type": "code",
   "execution_count": null,
   "metadata": {},
   "outputs": [],
   "source": [
    "u[4N+2*prod(J)+1:end]\n",
    "#u[4N+1:end-prod(J)]"
   ]
  },
  {
   "cell_type": "markdown",
   "metadata": {},
   "source": [
    "With the particle distribution we construct the initial data for the electric field. For that first we compute de density, using different types of particles (order)."
   ]
  },
  {
   "cell_type": "markdown",
   "metadata": {},
   "source": [
    "### What follows are characterizations of the initial data properties."
   ]
  },
  {
   "cell_type": "code",
   "execution_count": 20,
   "metadata": {},
   "outputs": [
    {
     "name": "stdout",
     "output_type": "stream",
     "text": [
      "test passed\n"
     ]
    }
   ],
   "source": [
    "\n",
    "Coordinate_test(u,Box_x,N)\n",
    "\n",
    "#println(\"n_total = $(sum(n .- 1.0))\")\n",
    "#println(\"v_total = $(sum(u[N+1:2N]))\")\n",
    "#println(\"E_total = $(sum(E_i))\")\n",
    "\n",
    "#println(\"S_total = $(sum(S))\")"
   ]
  },
  {
   "cell_type": "markdown",
   "metadata": {},
   "source": [
    "## TIME Evolution: \n",
    "\n",
    "Now we make the time evolution:\n",
    "\n",
    "1. we define parameters and vectors where to upload data to study the time evolution: Kinetic Energy, Electric field Energy, Total Electric field, total velocity (momentum), total density, total charge current.\n",
    "\n",
    "2. we save a vector with the particle phase space, this can be a lot of memory!"
   ]
  },
  {
   "cell_type": "code",
   "execution_count": 21,
   "metadata": {},
   "outputs": [
    {
     "data": {
      "text/plain": [
       "(100000, (100, 100), (0.0, 1.0, 0.0, 1.0), 5, [8.50644183707034e-5 7.652855364041492e-5 … 7.708366679768919e-5 8.081247090661311e-5; 8.753900051067659e-5 9.969525326423242e-5 … 0.00010760325203578622 8.881406907484593e-5; … ; 7.003320029738534e-5 6.818114984915e-5 … 9.309706162482611e-5 9.258051878749393e-5; 7.266142880020345e-5 6.0612131403228686e-5 … 7.322198547312886e-5 8.797407879001245e-5], [6.851787483463228e-8 2.870239312835741e-7 … -5.225900323048312e-7 8.436836691674864e-8; -7.194475837335671e-8 -5.83622725628228e-7 … 4.795621441751729e-7 -8.253251277710187e-8;;; 7.88162941792457e-7 1.2666912884129572e-6 … -2.690269484564129e-7 6.917509664727938e-8; -3.0500390931403655e-7 -3.372461959621237e-7 … -1.607651640873206e-7 4.424093208381993e-8;;; 9.133174495835123e-7 1.3929811390623473e-6 … -5.266586187578417e-7 -1.0243864636597887e-6; -3.9289821253312397e-7 -3.3656377720390225e-7 … 6.844667844557134e-7 3.368885535547313e-7;;; … ;;; -1.4852887224936503e-6 -2.254219913244987e-6 … -3.6125875958271e-7 -1.083758500257535e-6; 7.570465022735757e-8 9.839481305289311e-7 … 1.2212682585173204e-8 3.0649666286156603e-7;;; -9.497287762313172e-7 -1.5539118893291857e-6 … -3.6156687986146986e-7 -9.766476786050291e-7; -8.390854652647531e-8 8.449227709926777e-7 … -7.948688577222592e-8 -3.1921364065982287e-7;;; 2.5426030927398356e-7 -7.586673619990679e-8 … -7.163838444349156e-7 -2.8474977062280397e-7; 3.4820062732240335e-7 2.8297502881379498e-9 … 1.162437445660485e-6 -1.2623552443836884e-8], [0.0, 0.0, 0.0, 0.0, 0.0, 0.0, 0.0, 0.0, 0.0, 0.0  …  0.0, 0.0, 0.0, 0.0, 0.0, 0.0, 0.0, 0.0, 0.0, 0.0], get_density_2D!, get_current_threads_2D!, Interpolate_EBv_1, [0.0 0.0 … 0.0 0.0; 0.0 0.0 … 0.0 0.0;;; 0.0 0.0 … 0.0 0.0; 0.0 0.0 … 0.0 0.0;;; 0.0 0.0 … 0.0 0.0; 0.0 0.0 … 0.0 0.0;;; … ;;; 0.0 0.0 … 0.0 0.0; 0.0 0.0 … 0.0 0.0;;; 0.0 0.0 … 0.0 0.0; 0.0 0.0 … 0.0 0.0;;; 0.0 0.0 … 0.0 0.0; 0.0 0.0 … 0.0 0.0;;;; 0.0 0.0 … 0.0 0.0; 0.0 0.0 … 0.0 0.0;;; 0.0 0.0 … 0.0 0.0; 0.0 0.0 … 0.0 0.0;;; 0.0 0.0 … 0.0 0.0; 0.0 0.0 … 0.0 0.0;;; … ;;; 0.0 0.0 … 0.0 0.0; 0.0 0.0 … 0.0 0.0;;; 0.0 0.0 … 0.0 0.0; 0.0 0.0 … 0.0 0.0;;; 0.0 0.0 … 0.0 0.0; 0.0 0.0 … 0.0 0.0], Periodic first-derivative operator of order 6 on a grid in [0.0, 1.0] using 100 nodes, \n",
       "stencils with 3 nodes to the left, 3 nodes to the right, and coefficients of Fornberg (1998) \n",
       "  Calculation of Weights in Finite Difference Formulas. \n",
       "  SIAM Rev. 40.3, pp. 685-691., Periodic first-derivative operator of order 6 on a grid in [0.0, 1.0] using 100 nodes, \n",
       "stencils with 3 nodes to the left, 3 nodes to the right, and coefficients of Fornberg (1998) \n",
       "  Calculation of Weights in Finite Difference Formulas. \n",
       "  SIAM Rev. 40.3, pp. 685-691.)"
      ]
     },
     "metadata": {},
     "output_type": "display_data"
    }
   ],
   "source": [
    "if nthreads() > 1\n",
    "TS = zeros(Float64, (2,J...,nthreads()))\n",
    "p_RHS_D = (N, J, Box_x, order, n, S, du, get_density_2D!, get_current_threads_2D!, Interpolate_EBv_1, TS, Dx, Dy) ;\n",
    "else\n",
    "p_RHS_D = (N, J, Box_x, order, n, S, du, get_density_2D!, get_current_rel_2D!, Interpolate_EBv_1, Dx, Dy) ;\n",
    "end\n"
   ]
  },
  {
   "cell_type": "code",
   "execution_count": 24,
   "metadata": {},
   "outputs": [
    {
     "data": {
      "text/plain": [
       "430000-element Vector{Float64}:\n",
       "  0.669476545752844\n",
       "  0.49294697661762865\n",
       " -0.030379745781896783\n",
       "  0.09215494300508353\n",
       "  0.5326569618479964\n",
       "  0.1173438629303113\n",
       "  0.01677301128856379\n",
       " -0.08104527116623056\n",
       "  0.32991821228229967\n",
       "  0.9939819170239349\n",
       "  ⋮\n",
       " -2.8028698220816283e-7\n",
       " -5.882841775513662e-8\n",
       "  0.0\n",
       " -2.771731483207372e-7\n",
       " -8.106636427773014e-8\n",
       "  0.0\n",
       " -1.5325047434646773e-7\n",
       " -5.8590899239704914e-8\n",
       "  0.0"
      ]
     },
     "metadata": {},
     "output_type": "display_data"
    }
   ],
   "source": [
    "t = 0.0\n",
    "j = 1\n",
    "\n",
    "run_pars = Dict(\"run_name\" => run_name, \"par_grid\" => par_grid, \"par_evolv\" => par_evolv, \"p_Ini\" => pars_f)\n",
    "\n",
    "if full_outputs\n",
    "    run_name = run_name * \"_full\"\n",
    "elseif average_outputs\n",
    "    run_name = run_name * \"_ave\"\n",
    "end\n",
    "\n",
    "file_name = \"Results/\"* run_name * \".jld2\"\n",
    "#rm(file_name)\n",
    "\n",
    "\n",
    "\n",
    "\n",
    "save(file_name, run_pars)\n",
    "\n",
    "if false # solo para testear\n",
    "file = jldopen(file_name, \"r+\")\n",
    "close(file)\n",
    "end\n",
    "\n",
    "if full_outputs\n",
    "    field_name = \"u\"\n",
    "    tiempo = @sprintf(\"%05d\", j)\n",
    "    jldopen(file_name, \"a+\") do file\n",
    "        file[field_name * \"/u_$(tiempo)\"] = u;\n",
    "    end\n",
    "end\n",
    "\n",
    "if average_outputs\n",
    "    load_averages(file_name, j, par_grid, pars_f)\n",
    "end\n",
    "\n",
    "if animation\n",
    "    par = Array{Float64,2}(undef,M_g,length(u));\n",
    "    par[1,:] = u[:]\n",
    "end"
   ]
  },
  {
   "cell_type": "code",
   "execution_count": null,
   "metadata": {},
   "outputs": [],
   "source": [
    "#RHS_D(u,t,p_RHS_D)"
   ]
  },
  {
   "cell_type": "code",
   "execution_count": 25,
   "metadata": {},
   "outputs": [],
   "source": [
    "include(\"aux_functions/aux_functions.jl\")\n",
    "for k in 2:M\n",
    "  RK4_Step!(RHS_D,u,t,dt,p_RHS_D)\n",
    "  #global u = [make_periodic!(u[1:4N],Box_x); u[4N+1:end]]\n",
    "  make_periodic!(u,Box_x,N)\n",
    "  #filter_constant!(u[2N+1:end])\n",
    "  global t = t + dt\n",
    "  if (k-1) % (M÷(M_g-1)) == 0\n",
    "    local j = (k-1)÷(M÷(M_g-1))+1\n",
    "    Energy_Ks, Energy_Es = get_energy_rel(u,(Box_x, N, J))\n",
    "\n",
    "    if average_outputs\n",
    "      load_averages(file_name, j, par_grid, pars_f)\n",
    "    end\n",
    "\n",
    "    if full_outputs\n",
    "        local tiempo = @sprintf(\"%05d\", j)\n",
    "        jldopen(file_name, \"a+\") do file\n",
    "            file[field_name * \"/u_$(tiempo)\"] = u\n",
    "      end\n",
    "    end\n",
    "\n",
    "    println(\"j = $j , t = $t, k = $k, nthreads = $(nthreads()), Total_Energy = $(Energy_Ks + Energy_Es), E_Energy = $(Energy_Es)\")\n",
    "\n",
    "    if animation\n",
    "      par[j,:] = u[:]\n",
    "    end\n",
    "  end\n",
    "end"
   ]
  },
  {
   "cell_type": "code",
   "execution_count": null,
   "metadata": {},
   "outputs": [],
   "source": [
    "j = 11\n",
    "\n",
    "Plots.scatter(par[j,1:2D:4N], par[j,2:2D:4N], ts=0.2\n",
    ", thickness_scaling = 0.3\n",
    ", markersize = 0.3\n",
    ", title = \"space\", legend =:false)\n",
    "\n",
    "png(\"weibel_space_t=10\")"
   ]
  },
  {
   "cell_type": "code",
   "execution_count": null,
   "metadata": {},
   "outputs": [],
   "source": [
    "include(\"aux_functions/aux_functions.jl\")\n",
    "par_v = par[10,:]\n",
    "#make_periodic!(par_v,Box_x,N)\n",
    "Coordinate_test(par_v,Box_x,N)"
   ]
  },
  {
   "cell_type": "code",
   "execution_count": null,
   "metadata": {},
   "outputs": [],
   "source": [
    "j = 11\n",
    "\n",
    "histogram(par[j,1:2D:4N], par[j,2:2D:4N], ts=0.2\n",
    ", thickness_scaling = 0.3\n",
    ", markersize = 0.3\n",
    ", title = \"space\", legend =:false)"
   ]
  },
  {
   "cell_type": "code",
   "execution_count": null,
   "metadata": {},
   "outputs": [],
   "source": [
    "j = 11\n",
    "Plots.scatter(par[j,3:2D:4N], par[j,4:2D:4N], ts=0.2\n",
    ", thickness_scaling = 0.3\n",
    ", markersize = 0.3\n",
    ", title = \"momentum\", legend =:false)\n",
    "\n",
    "png(\"weibel_momentum_t=10\")"
   ]
  },
  {
   "cell_type": "code",
   "execution_count": null,
   "metadata": {},
   "outputs": [],
   "source": [
    "j = 11\n",
    "Fuj = view(par[j,:],4N+1:4N+3*prod(J))\n",
    "\n",
    "Fj = reshape(Fuj,3,J...)\n",
    "\n",
    "#F = view(u[4N+1:end],3,J...)\n",
    "Ej = Fj[1:2,:,:]\n",
    "Bj = Fj[3,:,:];\n",
    "\n",
    "#surface(y_p,x_p,Ej[2,:,:])\n",
    "surface(y_p,x_p,Bj[:,:])\n",
    "\n",
    "#norm(Bj)"
   ]
  },
  {
   "cell_type": "code",
   "execution_count": null,
   "metadata": {},
   "outputs": [],
   "source": [
    "plot(Ej[2,:,50])"
   ]
  },
  {
   "cell_type": "code",
   "execution_count": null,
   "metadata": {},
   "outputs": [],
   "source": [
    "#@bell sleep(3)\n",
    "E_f = zeros(J)\n",
    "#ϕ_f = zeros(J)\n",
    "#n_f = zeros(J) #charge density\n",
    "if Poisson\n",
    "    get_density!(u, n, par_grid, 0.0)\n",
    "    get_ϕ!(ϕ, n .- 1., κ)\n",
    "    get_E_from_ϕ!(ϕ,E_f,dx)\n",
    "end\n",
    "if E_direct\n",
    "    get_density!(u, n, par_grid, 0.5)\n",
    "    get_E_direct!(E_f,-n .+ 1.0,par_grid)\n",
    "end\n",
    "\n",
    "plot(E_i, label=\"E_i\")\n",
    "plot!(E_f, label=\"E_f\")\n",
    "plot!(u[2N+1:end], ls=:dash, label=\"Dynamical E_f\")\n",
    "png(\"Images/\" * run_name * \"Constraint_preservation.png\")"
   ]
  },
  {
   "cell_type": "markdown",
   "metadata": {},
   "source": [
    "Saving the results"
   ]
  },
  {
   "cell_type": "code",
   "execution_count": null,
   "metadata": {},
   "outputs": [],
   "source": [
    "if remote_server\n",
    "    exit() #if running as script\n",
    "end"
   ]
  },
  {
   "cell_type": "code",
   "execution_count": null,
   "metadata": {},
   "outputs": [],
   "source": [
    "rfft(E_i)[nm+1]"
   ]
  },
  {
   "cell_type": "markdown",
   "metadata": {},
   "source": [
    "## Studying the solutions: \n",
    "\n",
    "Post procesing is done in post_pro_landau_rel"
   ]
  },
  {
   "cell_type": "markdown",
   "metadata": {},
   "source": [
    "### Energy:"
   ]
  },
  {
   "cell_type": "markdown",
   "metadata": {},
   "source": [
    "34 peaks in T = 100, so $\\omega = 0.34$"
   ]
  },
  {
   "cell_type": "markdown",
   "metadata": {},
   "source": [
    "We save the data:"
   ]
  },
  {
   "cell_type": "markdown",
   "metadata": {},
   "source": [
    "| time | order | energy | theta |\n",
    "|------|-------|--------|-------|\n",
    "|  40  |  1    | 7.4e-7 | 0.009978|\n",
    "|  40  |  3    | 7.9e-8 | 0.009979 |\n",
    "|  40  |  5    | 1.1e-7 | 0.009979 |\n",
    "|  4000|  1    | 7.6e-5 | 0.009978 |\n",
    "|  4000|  3    | 7.2e-6 | 0.010086 |\n",
    "|  4000|  5    | 1.0e-5 | 0.010031 |\n",
    "|  4e6 |  1    | 0.0360 | 0.010119 |\n"
   ]
  }
 ],
 "metadata": {
  "kernelspec": {
   "display_name": "Julia 1.8.1",
   "language": "julia",
   "name": "julia-1.8"
  },
  "language_info": {
   "file_extension": ".jl",
   "mimetype": "application/julia",
   "name": "julia",
   "version": "1.8.1"
  }
 },
 "nbformat": 4,
 "nbformat_minor": 4
}
