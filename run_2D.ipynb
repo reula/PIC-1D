{
 "cells": [
  {
   "cell_type": "code",
   "execution_count": 3,
   "metadata": {},
   "outputs": [
    {
     "name": "stderr",
     "output_type": "stream",
     "text": [
      "┌ Info: Precompiling Plots [91a5bcdd-55d7-5caf-9e0b-520d859cae80]\n",
      "└ @ Base loading.jl:1662\n"
     ]
    },
    {
     "name": "stdout",
     "output_type": "stream",
     "text": [
      "nthreads = 1\n"
     ]
    },
    {
     "name": "stderr",
     "output_type": "stream",
     "text": [
      "WARNING: using Plots.Shape in module Main conflicts with an existing identifier.\n",
      "┌ Info: Precompiling IJuliaBell [3da9888e-9443-4cad-add1-2f3772a855ed]\n",
      "└ @ Base loading.jl:1662\n",
      "\u001b[33m\u001b[1m┌ \u001b[22m\u001b[39m\u001b[33m\u001b[1mWarning: \u001b[22m\u001b[39mModule IJulia with build ID 1561860055466873 is missing from the cache.\n",
      "\u001b[33m\u001b[1m│ \u001b[22m\u001b[39mThis may mean IJulia [7073ff75-c697-5162-941a-fcdaad2a7d2a] does not support precompilation but is imported by a module that does.\n",
      "\u001b[33m\u001b[1m└ \u001b[22m\u001b[39m\u001b[90m@ Base loading.jl:1325\u001b[39m\n",
      "┌ Info: Skipping precompilation since __precompile__(false). Importing IJuliaBell [3da9888e-9443-4cad-add1-2f3772a855ed].\n",
      "└ @ Base loading.jl:1341\n"
     ]
    }
   ],
   "source": [
    "#using DifferentialEquations\n",
    "using Plots\n",
    "using Statistics\n",
    "using FFTW\n",
    "FFTW.set_provider!(\"mkl\")\n",
    "#import Pkg; Pkg.add(\"FileIO\")\n",
    "using FileIO\n",
    "using JLD2\n",
    "using Base.Threads\n",
    "using Distributions\n",
    "#Pkg; Pkg.add(\"DistributedArrays\")\n",
    "println(\"nthreads = $(nthreads())\")\n",
    "using Printf\n",
    "#import Pkg; Pkg.add(\"IJuliaBell\")\n",
    "using IJuliaBell"
   ]
  },
  {
   "attachments": {},
   "cell_type": "markdown",
   "metadata": {},
   "source": [
    "## 2D PIC Escheleton \n",
    "\n",
    "Here we run the 2D version of PIC. "
   ]
  },
  {
   "cell_type": "code",
   "execution_count": 2,
   "metadata": {},
   "outputs": [
    {
     "data": {
      "text/plain": [
       "f_x"
      ]
     },
     "execution_count": 2,
     "metadata": {},
     "output_type": "execute_result"
    }
   ],
   "source": [
    "include(\"aux_functions/aux_functions.jl\")\n",
    "include(\"aux_functions/inidat_aux_functions.jl\")\n"
   ]
  },
  {
   "attachments": {},
   "cell_type": "markdown",
   "metadata": {},
   "source": [
    "### Initial Distribution"
   ]
  },
  {
   "attachments": {},
   "cell_type": "markdown",
   "metadata": {},
   "source": [
    "## Initial data configurations (Particles first)"
   ]
  },
  {
   "cell_type": "code",
   "execution_count": 25,
   "metadata": {},
   "outputs": [
    {
     "data": {
      "text/plain": [
       "true"
      ]
     },
     "execution_count": 25,
     "metadata": {},
     "output_type": "execute_result"
    }
   ],
   "source": [
    "## initial data configurations\n",
    "\n",
    "trys = false\n",
    "thermal = false\n",
    "#trys = true\n",
    "thermal = true\n",
    "\n"
   ]
  },
  {
   "cell_type": "code",
   "execution_count": 31,
   "metadata": {},
   "outputs": [
    {
     "name": "stdout",
     "output_type": "stream",
     "text": [
      "data_name = data_name * \"alp$(exp_alpha)_N$(N_exp)_Th$(exp_Theta)\" = \"par_dis_norel_thermal_nm_[1,1]_alp8_N5_Th3\"\n",
      "dx_max = maximum(dx) = 0.02\n",
      "dt = (t_f - t_i) / (M - 1) = 0.01\n",
      "par_evolv = (t_i, t_f, M, M_g, dt) = (0.0, 10.0, 1001, 101, 0.01)\n",
      "par_grid = (N, J, Box, order) = (100000, (100, 100), (0.0, 2.0, 0.0, 1.0), 5)\n",
      "pars_f = (θ,) = (0.001,)\n",
      "t_f = 10.0, M = 1001, dt = 0.01, exp_Theta = 3\n",
      "thermal_norel_Box_2.0x1.0_J_100x100_nm_[1,1]_tf_10_N5_M1001_o5_Th3_alp8\n",
      "par_dis_norel_thermal_nm_[1,1]_alp8_N5_Th3\n"
     ]
    }
   ],
   "source": [
    "if trys \n",
    "    run_name = \"try_\"\n",
    "    data_name = \"par_dis_norel_thermal_\"\n",
    "    J = (100,100)\n",
    "    Box = (0.0, 2.0, 0.0, 1.0)\n",
    "    nm = [1,1]\n",
    "    data_name = data_name * \"nm_[$(nm[1]),$(nm[2])]_\"\n",
    "    run_name = run_name * \"Box_$(Box[2]-Box[1])x$(Box[4]-Box[3])_J_$(J[1])x$(J[2])_nm_[$(nm[1]),$(nm[2])]_\"\n",
    "elseif thermal\n",
    "    run_name = \"thermal_norel_\"\n",
    "    data_name = \"par_dis_norel_thermal_\"\n",
    "    J = (100,100)\n",
    "    Box = (0.0, 2.0, 0.0, 1.0)\n",
    "    nm = [1,1]\n",
    "    data_name = data_name * \"nm_[$(nm[1]),$(nm[2])]_\"\n",
    "    run_name = run_name * \"Box_$(Box[2]-Box[1])x$(Box[4]-Box[3])_J_$(J[1])x$(J[2])_nm_[$(nm[1]),$(nm[2])]_\"\n",
    "end\n",
    "\n",
    "D = length(J)\n",
    "order = 5\n",
    "\n",
    "# For Landau perturbations\n",
    "exp_alpha = 8 #8 for not perturbation\n",
    "α = 10.0^(-exp_alpha)\n",
    "\n",
    "# Particle numbers\n",
    "N_exp = 5 #6\n",
    "N = 10^(N_exp)\n",
    "\n",
    "# Temperature\n",
    "exp_Theta = 3\n",
    "θ = 10.0^(-exp_Theta)\n",
    "\n",
    "@show data_name = data_name * \"alp$(exp_alpha)_N$(N_exp)_Th$(exp_Theta)\"\n",
    "\n",
    "# Evolution parameters\n",
    "exp_t = 1 #2\n",
    "t = 0.0\n",
    "t_i = 0.0\n",
    "t_f = 10.0^(exp_t)\n",
    "M = 1001 #16001# 4001 # 81 # 2001 # time steps \n",
    "M_g = 101 #8001 #400 + 1 #number of outputs, starting from the initial data\n",
    "dx = differentials(Box,J)\n",
    "@show dx_max = maximum(dx)\n",
    "@show dt = (t_f-t_i)/(M-1)\n",
    "\n",
    "\n",
    "# for plotting and other things\n",
    "x_g = [dx[1]*(i-1) for i in 1:J[1]] ;\n",
    "y_g = [dx[2]*(i-1) for i in 1:J[2]] ;\n",
    "\n",
    "\n",
    "\n",
    "@show par_evolv = (t_i, t_f, M, M_g, dt)\n",
    "@show par_grid = (N, J, Box, order)\n",
    "@show pars_f = (θ,)\n",
    "par_init = (α, nm)\n",
    "\n",
    "\n",
    "println(\"t_f = $(t_f), M = $M, dt = $(dt), exp_Theta = $(exp_Theta)\")\n",
    "\n",
    "\n",
    "\n",
    "run_name = run_name * \"tf_$(convert(Int,t_f))_N$(N_exp)_M$(M)_o$(order)_Th$(exp_Theta)_alp$(exp_alpha)\"\n",
    "println(run_name)\n",
    "println(data_name)\n"
   ]
  },
  {
   "cell_type": "code",
   "execution_count": 33,
   "metadata": {},
   "outputs": [
    {
     "name": "stdout",
     "output_type": "stream",
     "text": [
      "(data_name_from_inidat, pars, par_f_x, par_f_p) = (\"par_dis_norel_thermal_nm_[1,1]_alp8_N5_Th3\", (100000,), (1.0e-8, [1, 1], (0.0, 40.0, 0.0, 40.0)), (0.001, 2))\n"
     ]
    },
    {
     "data": {
      "text/plain": [
       "(\"par_dis_norel_thermal_nm_[1,1]_alp8_N5_Th3\", (100000,), (1.0e-8, [1, 1], (0.0, 40.0, 0.0, 40.0)), (0.001, 2))"
      ]
     },
     "execution_count": 33,
     "metadata": {},
     "output_type": "execute_result"
    }
   ],
   "source": [
    "par_dis, data_name_from_inidat, pars, par_f_x, par_f_p = retrieve_initial_data(\"Initial_Distributions/\" * data_name * \".jld2\")\n",
    "\n",
    "@show data_name_from_inidat, pars, par_f_x, par_f_p"
   ]
  },
  {
   "cell_type": "code",
   "execution_count": null,
   "metadata": {},
   "outputs": [],
   "source": []
  },
  {
   "attachments": {},
   "cell_type": "markdown",
   "metadata": {},
   "source": [
    "# up to here!"
   ]
  },
  {
   "attachments": {},
   "cell_type": "markdown",
   "metadata": {},
   "source": [
    "## Electric and Magnetic initial data"
   ]
  },
  {
   "cell_type": "code",
   "execution_count": null,
   "metadata": {},
   "outputs": [],
   "source": [
    "B0 = 1.0 #initial magnetic field\n",
    "\n",
    "run_name = run_name * \"B0_$(convert(Int,B0))_\""
   ]
  },
  {
   "cell_type": "code",
   "execution_count": null,
   "metadata": {},
   "outputs": [],
   "source": [
    "average_outputs = true # detailed output (for runs which are too long)\n",
    "full_outputs = false\n",
    "animation = false # to run animations\n",
    "phase_space_show = false #show phase space diagrams\n",
    "#phase_space_show = true\n",
    "remote_server = false # if run in remote_server as a script avoid all plots \n",
    "save_plots = false # put true is you want so save your plots."
   ]
  },
  {
   "cell_type": "markdown",
   "metadata": {},
   "source": [
    "We have some extra quantities that are proper of the plasma:\n",
    "\n",
    "The plasma frequency and the Debye temperature:\n",
    "\n",
    "The plasma frequency is adjusted so that it is unit in with respect to the time units \n",
    "taken, space it taken so that the speed of light is one. \n",
    "$$\n",
    "\\omega_p^2 = 1\n",
    "$$\n",
    "\n",
    "This implies that the background density is $N/L$\n",
    "\n",
    "In the paper they say the temperature is set to $\\theta_D = dx^2$. \n",
    "\n",
    "This I don't understand yet.\n",
    "\n",
    "$$\n",
    "\\lambda_D^2 := \\frac{\\epsilon_0 \\theta_D L}{e^2 N_e} = \\frac{\\theta_D L}{N_e}\n",
    "$$\n",
    "\n",
    "If we set $\\lambda_D = dx$ then, \n",
    "\n",
    "$$\n",
    "\\theta_D = \\frac{N_e dx^2}{L} = \\frac{N_e L}{J^2}\n",
    "$$\n",
    "\n",
    "For N = 20000, L = 5, J = 50, $\\theta_D = 20000 * 5 / 2500 = 400$ ????\n",
    "\n",
    "I think that actually we set the density to one, so that $\\frac{N_e}{L} = 1$ irrespective on how many particles we take. \n",
    "That way $\\theta_D = \\lambda_D^2$\n",
    "\n"
   ]
  },
  {
   "cell_type": "markdown",
   "metadata": {},
   "source": [
    "## Code parameters:\n",
    "\n",
    "$\\hat{k} = \\frac{k}{\\sqrt{\\theta}}$\n",
    "\n",
    "### Undamped\n",
    "Thus, for $L = 39.738$, $J = 3522$, $\\theta = 0.001$, $m = 2$ (second mode)\n",
    "\n",
    "we have: $dx = 0.01128$, $k=\\frac{4\\pi}{L} = 0.3162305 $, $\\hat{k} = 4*π /  39.738  * \\sqrt{0.001} = 0.010000$\n",
    "\n",
    "For this case the frequency should be: $\\omega = 1.00015$\n",
    "\n",
    "\n",
    "### Damped\n",
    "Thus, for $L= 7.455$, $J = 930$, $\\theta = 0.001$, $m = 15$\n",
    "\n",
    "we have: $dx = 0.008$, $k=\\frac{15*2\\pi}{L} = 12.642 $, $\\hat{k} = k  * \\sqrt{0.001} = 0.399$\n",
    "\n",
    "For this case the frequency should be: $\\omega = 1.2855 - i 0.06613$\n"
   ]
  },
  {
   "cell_type": "markdown",
   "metadata": {},
   "source": [
    "We build the initial data:"
   ]
  },
  {
   "cell_type": "code",
   "execution_count": null,
   "metadata": {},
   "outputs": [],
   "source": [
    "E_i = zeros(J)\n",
    "ϕ = zeros(J)\n",
    "n = zeros(J) #charge density\n",
    "S = zeros(J) #carge current\n",
    "du = zeros(2*N+J); # contains r, v and E"
   ]
  },
  {
   "cell_type": "markdown",
   "metadata": {},
   "source": [
    "With the particle distribution we construct the initial data for the electric field. For that first we compute de density, using different types of particles (order)."
   ]
  },
  {
   "cell_type": "code",
   "execution_count": null,
   "metadata": {},
   "outputs": [],
   "source": [
    "if Poisson\n",
    "    get_density!(par_dis, n, par_grid, 0.0)\n",
    "    get_ϕ!(ϕ, n .- 1., κ)\n",
    "    get_E_from_ϕ!(ϕ,E_i,dx)\n",
    "end\n",
    "if E_direct\n",
    "    get_density!(par_dis, n, par_grid, 0.5)\n",
    "    get_E_direct!(E_i,-n .+ 1.0,par_grid)\n",
    "end\n",
    "u = [par_dis;E_i];\n",
    "length(u)"
   ]
  },
  {
   "cell_type": "markdown",
   "metadata": {},
   "source": [
    "### What follows are characterizations of the initial data properties."
   ]
  },
  {
   "cell_type": "code",
   "execution_count": null,
   "metadata": {},
   "outputs": [],
   "source": [
    "get_current_rel!(u, S, par_grid)\n",
    "\n",
    "println(maximum(u[1:N]))\n",
    "println(minimum(u[1:N]))\n",
    "\n",
    "Coordinate_test(u[1:N],L)\n",
    "\n",
    "println(\"n_total = $(sum(n .- 1.0))\")\n",
    "println(\"v_total = $(sum(u[N+1:2N]))\")\n",
    "println(\"E_total = $(sum(E_i))\")\n",
    "\n",
    "println(\"S_total = $(sum(S))\")"
   ]
  },
  {
   "cell_type": "markdown",
   "metadata": {},
   "source": [
    "Compute the initial density, potential and electric field."
   ]
  },
  {
   "cell_type": "code",
   "execution_count": null,
   "metadata": {},
   "outputs": [],
   "source": [
    "if !remote_server \n",
    "    plt = plot(layout=(2,2))\n",
    "    plot!(subplot=1,x,n, title = \"density\", legend = :false)\n",
    "    plot!(subplot=2,x,ϕ, title = \"potential\", legend = :false)\n",
    "    plot!(subplot=3,x,E_i, title = \"Electric Field\", legend = :false)\n",
    "    \n",
    "    plot!(subplot=4,x,S, title = \"Current\", legend = :false)\n",
    "end"
   ]
  },
  {
   "cell_type": "code",
   "execution_count": null,
   "metadata": {},
   "outputs": [],
   "source": [
    "E_Fourier = rfft(u[2N+1:end])\n",
    "Plots.scatter(abs.((E_Fourier)),xlim=(0,20))"
   ]
  },
  {
   "cell_type": "code",
   "execution_count": null,
   "metadata": {},
   "outputs": [],
   "source": [
    "rfft(u[2N+1:end])[nm+1]"
   ]
  },
  {
   "cell_type": "code",
   "execution_count": null,
   "metadata": {},
   "outputs": [],
   "source": [
    "n_Fourier = rfft(n.-1)\n",
    "freqs_space = fftshift(fftfreq(J,1/dx))\n",
    "#Plots.scatter(freqs_space,abs.(fftshift(n_Fourier)))\n",
    "Plots.scatter(abs.(n_Fourier)[1:20])"
   ]
  },
  {
   "cell_type": "markdown",
   "metadata": {},
   "source": [
    "Check the histograms for the initial positions and velocities."
   ]
  },
  {
   "cell_type": "code",
   "execution_count": null,
   "metadata": {},
   "outputs": [],
   "source": [
    "if !remote_server\n",
    "    plot(layout=(2,2))\n",
    "    histogram!(subplot=1,u[1:N], title = \"density\", legend = :false, bins = 300)\n",
    "    histogram!(subplot=2,u[N+1:2*N], title = \"velocity\", legend = :false)\n",
    "\n",
    "    histogram!(subplot=3,S, title = \"current\", legend = :false)\n",
    "end"
   ]
  },
  {
   "cell_type": "code",
   "execution_count": null,
   "metadata": {},
   "outputs": [],
   "source": [
    "T = get_temperature_rel(u,N)"
   ]
  },
  {
   "cell_type": "code",
   "execution_count": null,
   "metadata": {},
   "outputs": [],
   "source": [
    "if phase_space_show\n",
    "Plots.scatter(u[1:N],u[N+1:2N]\n",
    ", thickness_scaling = 0.3\n",
    ", markersize = 0.3\n",
    ", title = \"phase-space\", legend =:false)\n",
    "png(run_name * \"initial-phase-space\")\n",
    "end"
   ]
  },
  {
   "cell_type": "markdown",
   "metadata": {},
   "source": [
    "## TIME Evolution: \n",
    "\n",
    "Now we make the time evolution:\n",
    "\n",
    "1. we define parameters and vectors where to upload data to study the time evolution: Kinetic Energy, Electric field Energy, Total Electric field, total velocity (momentum), total density, total charge current.\n",
    "\n",
    "2. we save a vector with the particle phase space, this can be a lot of memory!"
   ]
  },
  {
   "cell_type": "code",
   "execution_count": null,
   "metadata": {},
   "outputs": [],
   "source": [
    "if nthreads() > 1\n",
    "TS = zeros(J, nthreads())\n",
    "p_RHSC = (N, J, L, dx, order, n, S, du, get_density!, get_current_rel_threads!, Interpolate_2, TS) ;\n",
    "else\n",
    "p_RHSC = (N, J, L, dx, order, n, S, du, get_density!, get_current_rel!, Interpolate_2) ;\n",
    "end\n"
   ]
  },
  {
   "cell_type": "code",
   "execution_count": null,
   "metadata": {},
   "outputs": [],
   "source": [
    "t = 0.0\n",
    "j = 1\n",
    "\n",
    "run_pars = Dict(\"run_name\" => run_name, \"par_grid\" => par_grid, \"par_evolv\" => par_evolv, \"p_Ini\" => pars_f)\n",
    "\n",
    "if full_outputs\n",
    "    run_name = run_name * \"_full\"\n",
    "elseif average_outputs\n",
    "    run_name = run_name * \"_ave\"\n",
    "end\n",
    "\n",
    "file_name = \"Results/\"* run_name * \".jld2\"\n",
    "#rm(file_name)\n",
    "\n",
    "\n",
    "\n",
    "\n",
    "save(file_name, run_pars)\n",
    "\n",
    "if false # solo para testear\n",
    "file = jldopen(file_name, \"r+\")\n",
    "close(file)\n",
    "end\n",
    "\n",
    "if full_outputs\n",
    "    field_name = \"u\"\n",
    "    tiempo = @sprintf(\"%05d\", j)\n",
    "    jldopen(file_name, \"a+\") do file\n",
    "        file[field_name * \"/u_$(tiempo)\"] = u;\n",
    "    end\n",
    "end\n",
    "\n",
    "if average_outputs\n",
    "    load_averages(file_name, j, par_grid, pars_f)\n",
    "end\n"
   ]
  },
  {
   "cell_type": "code",
   "execution_count": null,
   "metadata": {},
   "outputs": [],
   "source": [
    "\n",
    "for k in 2:M\n",
    "  RK4_Step!(RHSC_rel,u,t,dt,p_RHSC)\n",
    "  global u = [make_periodic!(u[1:N],L); u[N+1:end]]\n",
    "  #filter_constant!(u[2N+1:end])\n",
    "  global t = t + dt\n",
    "  if (k-1) % (M÷(M_g-1)) == 0\n",
    "    local j = (k-1)÷(M÷(M_g-1))+1\n",
    "    Energy_Ks, Energy_Es = get_energy_rel(u,(L, N, J))\n",
    "\n",
    "    if average_outputs\n",
    "      load_averages(file_name, j, par_grid, pars_f)\n",
    "    end\n",
    "\n",
    "    if full_outputs\n",
    "        local tiempo = @sprintf(\"%05d\", j)\n",
    "        jldopen(file_name, \"a+\") do file\n",
    "            file[field_name * \"/u_$(tiempo)\"] = u\n",
    "      end\n",
    "    end\n",
    "\n",
    "    println(\"j = $j , t = $t, k = $k, nthreads = $(nthreads()), Energy = $(Energy_Ks + Energy_Es)\")\n",
    "\n",
    "    if animation\n",
    "      par[j,:] = u[1:2N]\n",
    "    end\n",
    "  end\n",
    "end"
   ]
  },
  {
   "cell_type": "code",
   "execution_count": null,
   "metadata": {},
   "outputs": [],
   "source": [
    "#@bell sleep(3)\n",
    "E_f = zeros(J)\n",
    "#ϕ_f = zeros(J)\n",
    "#n_f = zeros(J) #charge density\n",
    "if Poisson\n",
    "    get_density!(u, n, par_grid, 0.0)\n",
    "    get_ϕ!(ϕ, n .- 1., κ)\n",
    "    get_E_from_ϕ!(ϕ,E_f,dx)\n",
    "end\n",
    "if E_direct\n",
    "    get_density!(u, n, par_grid, 0.5)\n",
    "    get_E_direct!(E_f,-n .+ 1.0,par_grid)\n",
    "end\n",
    "\n",
    "plot(E_i, label=\"E_i\")\n",
    "plot!(E_f, label=\"E_f\")\n",
    "plot!(u[2N+1:end], ls=:dash, label=\"Dynamical E_f\")\n",
    "png(\"Images/\" * run_name * \"Constraint_preservation.png\")"
   ]
  },
  {
   "cell_type": "markdown",
   "metadata": {},
   "source": [
    "Saving the results"
   ]
  },
  {
   "cell_type": "code",
   "execution_count": null,
   "metadata": {},
   "outputs": [],
   "source": [
    "if remote_server\n",
    "    exit() #if running as script\n",
    "end"
   ]
  },
  {
   "cell_type": "code",
   "execution_count": null,
   "metadata": {},
   "outputs": [],
   "source": [
    "rfft(E_i)[nm+1]"
   ]
  },
  {
   "cell_type": "markdown",
   "metadata": {},
   "source": [
    "## Studying the solutions: \n",
    "\n",
    "Post procesing is done in post_pro_landau_rel"
   ]
  },
  {
   "cell_type": "markdown",
   "metadata": {},
   "source": [
    "### Energy:"
   ]
  },
  {
   "cell_type": "markdown",
   "metadata": {},
   "source": [
    "34 peaks in T = 100, so $\\omega = 0.34$"
   ]
  },
  {
   "cell_type": "markdown",
   "metadata": {},
   "source": [
    "We save the data:"
   ]
  },
  {
   "cell_type": "markdown",
   "metadata": {},
   "source": [
    "| time | order | energy | theta |\n",
    "|------|-------|--------|-------|\n",
    "|  40  |  1    | 7.4e-7 | 0.009978|\n",
    "|  40  |  3    | 7.9e-8 | 0.009979 |\n",
    "|  40  |  5    | 1.1e-7 | 0.009979 |\n",
    "|  4000|  1    | 7.6e-5 | 0.009978 |\n",
    "|  4000|  3    | 7.2e-6 | 0.010086 |\n",
    "|  4000|  5    | 1.0e-5 | 0.010031 |\n",
    "|  4e6 |  1    | 0.0360 | 0.010119 |\n"
   ]
  }
 ],
 "metadata": {
  "kernelspec": {
   "display_name": "Julia 1.8.1",
   "language": "julia",
   "name": "julia-1.8"
  },
  "language_info": {
   "file_extension": ".jl",
   "mimetype": "application/julia",
   "name": "julia",
   "version": "1.8.1"
  }
 },
 "nbformat": 4,
 "nbformat_minor": 4
}
