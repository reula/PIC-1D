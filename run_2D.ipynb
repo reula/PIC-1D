{
 "cells": [
  {
   "cell_type": "code",
   "execution_count": 1,
   "metadata": {},
   "outputs": [
    {
     "name": "stdout",
     "output_type": "stream",
     "text": [
      "nthreads = 2\n"
     ]
    }
   ],
   "source": [
    "#using DifferentialEquations\n",
    "using Plots\n",
    "using Statistics\n",
    "using FFTW\n",
    "FFTW.set_provider!(\"mkl\")\n",
    "#import Pkg; Pkg.add(\"FileIO\")\n",
    "using FileIO\n",
    "using JLD2\n",
    "using Base.Threads\n",
    "using Distributions\n",
    "#Pkg; Pkg.add(\"DistributedArrays\")\n",
    "println(\"nthreads = $(nthreads())\")\n",
    "using Printf\n",
    "#import Pkg; Pkg.add(\"IJuliaBell\")\n",
    "using IJuliaBell\n",
    "using ArraysOfArrays\n",
    "using SummationByPartsOperators\n",
    "using LinearAlgebra"
   ]
  },
  {
   "attachments": {},
   "cell_type": "markdown",
   "metadata": {},
   "source": [
    "## 2D PIC Escheleton \n",
    "\n",
    "Here we run the 2D version of PIC. "
   ]
  },
  {
   "cell_type": "code",
   "execution_count": 2,
   "metadata": {},
   "outputs": [
    {
     "data": {
      "text/plain": [
       "f_x"
      ]
     },
     "metadata": {},
     "output_type": "display_data"
    }
   ],
   "source": [
    "include(\"aux_functions/aux_functions.jl\")\n",
    "include(\"aux_functions/inidat_aux_functions.jl\")\n"
   ]
  },
  {
   "attachments": {},
   "cell_type": "markdown",
   "metadata": {},
   "source": [
    "### Initial Distribution"
   ]
  },
  {
   "attachments": {},
   "cell_type": "markdown",
   "metadata": {},
   "source": [
    "## Initial data configurations (Particles first)"
   ]
  },
  {
   "cell_type": "code",
   "execution_count": 3,
   "metadata": {},
   "outputs": [
    {
     "data": {
      "text/plain": [
       "true"
      ]
     },
     "metadata": {},
     "output_type": "display_data"
    }
   ],
   "source": [
    "## initial data configurations\n",
    "\n",
    "trys = false\n",
    "thermal = false\n",
    "weibel = false\n",
    "weibel_norel = false\n",
    "#trys = true\n",
    "thermal = true\n",
    "#weibel = true\n",
    "#weibel_norel = true\n",
    "\n",
    "\n"
   ]
  },
  {
   "cell_type": "code",
   "execution_count": 4,
   "metadata": {},
   "outputs": [
    {
     "name": "stdout",
     "output_type": "stream",
     "text": [
      "data_name = \"par_dis_rel_thermal_nm_[1,1]_alp1_N5_Th3\"\n",
      "dx_min = minimum(dx) = "
     ]
    },
    {
     "name": "stdout",
     "output_type": "stream",
     "text": [
      "0.02\n",
      "dt = (t_f - t_i) / (M - 1) = 0.01\n",
      "CFL = dt / dx_min = 0.5\n"
     ]
    },
    {
     "name": "stdout",
     "output_type": "stream",
     "text": [
      "par_evolv = (t_i, t_f, M, M_g, dt) = (0.0, 1.0, 101, 11, 0.01)\n",
      "par_grid = (N, J, Box_x, order) = "
     ]
    },
    {
     "name": "stdout",
     "output_type": "stream",
     "text": [
      "(100000, (50, 50), (0.0, 1.0, 0.0, 1.0), 5)\n",
      "t_f = 1.0, M = 101, dt = 0.01, exp_Theta = 3\n",
      "thermal_rel_Box_1.0x1.0_J_50x50_nm_[1,1]__Th3_alp1tf_10_N5_M101_o5\n",
      "par_dis_rel_thermal_nm_[1,1]_alp1_N5_Th3\n"
     ]
    }
   ],
   "source": [
    "const order = 5\n",
    "const D = 2\n",
    "\n",
    "\n",
    "# Particle numbers\n",
    "const N_exp = 5 #7#6#5 #6\n",
    "N = 10^(N_exp)\n",
    "\n",
    "if  thermal\n",
    "    #run_name = \"thermal_norel_\"\n",
    "    run_name = \"thermal_rel_\"\n",
    "    #data_name = \"par_dis_norel_thermal_\"\n",
    "    data_name = \"par_dis_rel_thermal_\"\n",
    "    J = (50,50)\n",
    "    Box_x = (0.0,1.0,0.0,1.0) \n",
    "    nm = [1,1]\n",
    "    Box_array = [i for i in Box_x]\n",
    "    k = 2π*nm./(Box_array[2:2:end]-Box_array[1:2:end-1]) # this here is k, not \\hat{k}\n",
    "    alpha_exp = 1 # 2 3 8\n",
    "    α = 10.0^(-alpha_exp) # 0.1 0.001\n",
    "    par_f_x = (α, nm, Box_x)\n",
    "    exp_Theta = 3\n",
    "    θ = 10.0^(-exp_Theta)\n",
    "    p_max = sqrt((1+10*θ)^2-1)\n",
    "    Box_p = (-p_max,p_max,-p_max,p_max)\n",
    "    par_f_p = (θ,D)\n",
    "    #par_f_p_1 = (θ,1,D) #to compute the norm of f_p\n",
    "    #norm = int_mid_point_f(f_p_rel, par_f_p_1, [20_000,20_000], Box_p)\n",
    "    #par_f_p_rel = (θ,norm,D)\n",
    "    par_init = (α, nm)\n",
    "    data_name = data_name * \"nm_[$(nm[1]),$(nm[2])]_\"\n",
    "    data_name = data_name * \"alp$(alpha_exp)_N$(N_exp)_Th$(exp_Theta)\"\n",
    "    run_name = run_name * \"Box_$(Box_x[2]-Box_x[1])x$(Box_x[4]-Box_x[3])_J_$(J[1])x$(J[2])_nm_[$(nm[1]),$(nm[2])]__Th$(exp_Theta)_alp$(alpha_exp)\"\n",
    "elseif weibel_norel\n",
    "    run_name = \"weibel_norel_\"\n",
    "    data_name = \"par_dis_norel_weibel_\"\n",
    "    J = (100,100)\n",
    "    Box_x = (0.0,1.0,0.0,1.0) \n",
    "    Ax = 1/2 # velocity anisotropy in the x direction\n",
    "    alpha_exp = 8 # 8 so that is extremely small i.e. zero\n",
    "    α = 10.0^(-alpha_exp) # 0.1 0.001\n",
    "    par_f_x = (α, [0.0,0.0], Box_x)\n",
    "    exp_Theta = 3\n",
    "    θ = 10.0^(-exp_Theta)\n",
    "    p_max = sqrt((1+10*θ)^2-1)\n",
    "    Box_p = (-p_max,p_max,-p_max,p_max)\n",
    "    par_f_p = (θ,D,Ax)\n",
    "    par_init = (α, Ax)\n",
    "    data_name = data_name * \"Ax_(1d2)_\"\n",
    "    data_name = data_name * \"alp$(alpha_exp)_N$(N_exp)_Th$(exp_Theta)\"\n",
    "    run_name = run_name * \"Box_$(Box_x[2]-Box_x[1])x$(Box_x[4]-Box_x[3])_J_$(J[1])x$(J[2])_Ax_(1d2)_Th$(exp_Theta)_alp$(alpha_exp)\"\n",
    "elseif weibel \n",
    "    run_name = \"weibel_\"\n",
    "    data_name = \"par_dis_rel_weibel_\"\n",
    "    J = (50,50)::NTuple{2,Int64} #no parece funcionar el dar el tipo NTuple, al menos no así.\n",
    "    Box_x = (0.0,1.0,0.0,1.0) \n",
    "    Ax = 25 # velocity anisotropy in the x direction\n",
    "    alpha_exp = 8 # 8 so that is extremely small i.e. zero\n",
    "    α = 10.0^(-alpha_exp) # 0.1 0.001\n",
    "    par_f_x = (α, [0.0,0.0], Box_x)\n",
    "    exp_Theta = 3\n",
    "    θ1 = 10.0^(-exp_Theta)\n",
    "    θ2 = Ax * θ1\n",
    "    p_max = 10*θ2\n",
    "    Box_p = (-p_max,p_max,-p_max,p_max)\n",
    "    par_init = (α, Ax)\n",
    "    @show pars_f = (θ1,θ2,Ax)\n",
    "    data_name = data_name * \"Ax_$(Ax)_\"\n",
    "    data_name = data_name * \"alp$(alpha_exp)_N$(N_exp)_Th$(exp_Theta)\"\n",
    "    run_name = run_name * \"Box_$(Box_x[2]-Box_x[1])x$(Box_x[4]-Box_x[3])_J_$(J[1])x$(J[2])_Ax_$(Ax)_Th$(exp_Theta)_alp$(alpha_exp)\"\n",
    "end\n",
    "\n",
    "\n",
    "\n",
    "@show data_name \n",
    "\n",
    "# Evolution parameters\n",
    "exp_t = 0# 1 #2\n",
    "t = 0.0\n",
    "t_i = 0.0\n",
    "t_f = 10.0^(exp_t)\n",
    "M = 101 #1001 #11 #16001# 4001 # 81 # 2001 # time steps \n",
    "M_g = 11 #8001 #400 + 1 #number of outputs, starting from the initial data\n",
    "dx = differentials(Box_x,J)\n",
    "@show dx_min = minimum(dx)\n",
    "@show dt = (t_f-t_i)/(M-1)\n",
    "@show CFL = dt/dx_min\n",
    "\n",
    "\n",
    "# for plotting and other things\n",
    "x_p = [dx[1]*(i-1) for i in 1:J[1]] ;\n",
    "y_p = [dx[2]*(i-1) for i in 1:J[2]] ;\n",
    "\n",
    "Dx = periodic_derivative_operator(derivative_order=1, accuracy_order=6, xmin=Box_x[1], xmax=Box_x[2], N=J[1])\n",
    "Dy = periodic_derivative_operator(derivative_order=1, accuracy_order=6, xmin=Box_x[3], xmax=Box_x[4], N=J[2])\n",
    "Δx = dissipation_operator(Dx;\n",
    "                     #mode=D.coefficients.mode\n",
    "                     #,mode=ThreadedMode()\n",
    "                     )\n",
    "Δy = dissipation_operator(Dy;\n",
    "                     #mode=D.coefficients.mode\n",
    "                     #,mode=ThreadedMode()\n",
    "                     )\n",
    "const σx = 0.0 #1.0 #dissipation strength\n",
    "const σy = 0.0 #1.0 #dissipation strength\n",
    "\n",
    "\n",
    "@show par_evolv = (t_i, t_f, M, M_g, dt)\n",
    "@show par_grid = (N, J, Box_x, order)\n",
    "#@show pars_f = (θ1,θ2,)\n",
    "\n",
    "\n",
    "\n",
    "println(\"t_f = $(t_f), M = $M, dt = $(dt), exp_Theta = $(exp_Theta)\")\n",
    "\n",
    "\n",
    "\n",
    "run_name = run_name * \"tf_$(convert(Int,10*t_f))_N$(N_exp)_M$(M)_o$(order)\"\n",
    "println(run_name)\n",
    "println(data_name)\n"
   ]
  },
  {
   "cell_type": "code",
   "execution_count": 5,
   "metadata": {},
   "outputs": [
    {
     "data": {
      "text/plain": [
       "([0.09114247581419888, 0.3514029956643413, 0.024036571807407092, 0.017108981238594306, 0.9588844987316598, 0.689303696232502, -0.0029993791721266705, 0.02518387914353254, 0.09949298523198324, 0.05527865182846459  …  0.016143487849648336, -0.006758718476909703, 0.9770384880716348, 0.9252672033780165, -0.006878625252764864, -0.0002494436963886293, 0.05413955822870464, 0.6219083611253162, 0.04118477505876568, -0.03612421701826388], \"par_dis_rel_thermal_nm_[1,1]_alp1_N5_Th3\", (100000,), (0.1, [1, 1], (0.0, 1.0, 0.0, 1.0)), (0.0, 1.0, 0.0, 1.0), (0.001, 2), (-0.14177446878757827, 0.14177446878757827, -0.14177446878757827, 0.14177446878757827))"
      ]
     },
     "metadata": {},
     "output_type": "display_data"
    }
   ],
   "source": [
    "par_dis, data_name, pars, par_f_x, Box_x, par_f_p, Box_p = retrieve_initial_data_D(\"Initial_Distributions/\" * data_name * \".jld2\")\n",
    "#@show data_name_from_inidat, pars, par_f_x, Box_x, par_f_p, Box_p"
   ]
  },
  {
   "attachments": {},
   "cell_type": "markdown",
   "metadata": {},
   "source": [
    "### Check Density"
   ]
  },
  {
   "cell_type": "code",
   "execution_count": null,
   "metadata": {},
   "outputs": [],
   "source": [
    "plot(histogram2d(par_dis[1:2D:end],par_dis[2:2D:end], title=\"space distribution\" ))"
   ]
  },
  {
   "cell_type": "code",
   "execution_count": null,
   "metadata": {},
   "outputs": [],
   "source": [
    "plot(histogram2d(par_dis[3:4:end],par_dis[4:4:end] )\n",
    ",aspectratio=1\n",
    ",title = \"momentum histogram\"\n",
    ")"
   ]
  },
  {
   "attachments": {},
   "cell_type": "markdown",
   "metadata": {},
   "source": [
    "### Check Temperature"
   ]
  },
  {
   "cell_type": "code",
   "execution_count": 6,
   "metadata": {},
   "outputs": [
    {
     "data": {
      "text/plain": [
       "0.000997166214380225"
      ]
     },
     "metadata": {},
     "output_type": "display_data"
    }
   ],
   "source": [
    "T = get_temperature_rel_D(par_dis,N,D)"
   ]
  },
  {
   "cell_type": "code",
   "execution_count": 7,
   "metadata": {},
   "outputs": [
    {
     "data": {
      "text/plain": [
       "50×50 Matrix{Float64}:\n",
       " 1.23944   1.14781   0.999572  0.98001   …  1.18663   1.22786   1.25463\n",
       " 1.20866   1.09533   1.04061   0.998931     1.2597    1.3015    1.29692\n",
       " 1.20276   1.05162   1.06156   1.02937      1.17282   1.25593   1.29675\n",
       " 1.12977   1.07575   1.10152   1.028        1.08708   1.11599   1.18759\n",
       " 1.00059   1.03775   1.07624   1.01101      1.11215   1.0407    1.1179\n",
       " 1.02387   1.02798   0.998328  0.970457  …  1.10482   1.14417   1.19276\n",
       " 1.07667   1.02983   0.973566  0.926269     1.09694   1.14548   1.18426\n",
       " 1.11231   0.960635  0.977528  0.956829     1.02992   1.10544   1.19986\n",
       " 1.05376   0.940449  1.03152   1.03348      1.0548    1.16012   1.17132\n",
       " 1.06112   1.02624   1.0625    1.0455       1.10445   1.18438   1.1571\n",
       " ⋮                                       ⋱                      \n",
       " 0.946622  0.952518  1.04453   1.11578      0.924557  1.01965   1.06767\n",
       " 1.05769   1.15363   1.23043   1.18888      1.02726   0.94965   1.02571\n",
       " 1.14535   1.18773   1.21826   1.16211      1.01829   0.975228  1.03737\n",
       " 1.0794    1.10856   1.04597   1.05502      0.941468  1.09962   1.08123\n",
       " 1.01175   1.08629   1.09147   1.08455   …  1.08007   1.18286   1.10005\n",
       " 1.01323   1.06916   1.13221   1.10601      1.10805   1.07062   1.03633\n",
       " 0.998585  1.05696   1.12751   1.15122      1.12062   0.995778  0.999248\n",
       " 0.997484  1.05959   1.01034   0.998275     1.06096   1.00256   1.02948\n",
       " 1.11224   1.10184   0.96611   0.959807     1.10482   1.08028   1.10345"
      ]
     },
     "metadata": {},
     "output_type": "display_data"
    }
   ],
   "source": [
    "include(\"aux_functions/aux_functions.jl\")\n",
    "#par_grid = (N, Box_x, J, 5)\n",
    "#n = zeros(J)\n",
    "#get_density_2D!(par_dis, n, par_grid)\n",
    "\n",
    "get_density_2D_trans = Density2DTrans(N, J)\n",
    "n = get_density_2D_trans(Val(order), Box_x, par_dis)\n"
   ]
  },
  {
   "cell_type": "code",
   "execution_count": null,
   "metadata": {},
   "outputs": [],
   "source": [
    "plot_matrix(n)"
   ]
  },
  {
   "cell_type": "code",
   "execution_count": null,
   "metadata": {},
   "outputs": [],
   "source": [
    "plot(n[:,2])"
   ]
  },
  {
   "attachments": {},
   "cell_type": "markdown",
   "metadata": {},
   "source": [
    "### Check Normalization"
   ]
  },
  {
   "cell_type": "code",
   "execution_count": 8,
   "metadata": {},
   "outputs": [
    {
     "data": {
      "text/plain": [
       "1.0"
      ]
     },
     "metadata": {},
     "output_type": "display_data"
    }
   ],
   "source": [
    "sum(n)/prod(J)"
   ]
  },
  {
   "attachments": {},
   "cell_type": "markdown",
   "metadata": {},
   "source": [
    "### Check Current"
   ]
  },
  {
   "cell_type": "code",
   "execution_count": 9,
   "metadata": {},
   "outputs": [
    {
     "name": "stdout",
     "output_type": "stream",
     "text": [
      "sum(S[:, :, 1]) = -5.551115123125783e-17\n"
     ]
    },
    {
     "data": {
      "text/plain": [
       "-5.551115123125783e-17"
      ]
     },
     "metadata": {},
     "output_type": "display_data"
    }
   ],
   "source": [
    "par_grid = (N, J, Box_x, 5)\n",
    "#S = [0.0::Float64 for l in 1:2, i in 1:J[1], j in 1:J[2]]\n",
    "#S_new  = [0.0::Float64 for i in 1:J[1], j in 1:J[2], l in 1:2]\n",
    "#TS = zeros(Float64,(2,J...,nthreads()))\n",
    "\n",
    "#par_current_threads_S = (par_grid, TS)\n",
    "\n",
    "#get_current_threads_2D!(par_dis, S, par_current_threads_S)\n",
    "#S_new = get_current_2D_trans(Val(order), N, J, Box_x, par_dis)\n",
    "\n",
    "\n",
    "get_current_2D_trans = Current2DTrans(N, J)\n",
    "S = get_current_2D_trans(Val(order), Box_x, par_dis)\n",
    "@show sum(S[:,:,1])"
   ]
  },
  {
   "cell_type": "code",
   "execution_count": null,
   "metadata": {},
   "outputs": [],
   "source": [
    "surface(y_p,x_p, S[:,:,1])"
   ]
  },
  {
   "attachments": {},
   "cell_type": "markdown",
   "metadata": {},
   "source": [
    "## Electric and Magnetic initial data"
   ]
  },
  {
   "cell_type": "code",
   "execution_count": 10,
   "metadata": {},
   "outputs": [
    {
     "data": {
      "text/plain": [
       "\"thermal_rel_Box_1.0x1.0_J_50x50_nm_[1,1]__Th3_alp1tf_10_N5_M101_o5_B0_0\""
      ]
     },
     "metadata": {},
     "output_type": "display_data"
    }
   ],
   "source": [
    "# We prescrive a constant magnetic field and the E is just a solution from Poisson's equations. \n",
    "\n",
    "B0 = 0.0 #initial magnetic field\n",
    "\n",
    "B = [B0 for i in 1:J[1], j in 1:J[2]]\n",
    "\n",
    "run_name = run_name * \"_B0_$(convert(Int,B0))\""
   ]
  },
  {
   "cell_type": "code",
   "execution_count": 11,
   "metadata": {},
   "outputs": [
    {
     "name": "stdout",
     "output_type": "stream",
     "text": [
      "sum(ρ) = 1.3455903058456897e-13\n"
     ]
    }
   ],
   "source": [
    "E = Array{Float64,3}(undef,(2,J...))\n",
    "#ρ = n.-1.0/prod(J)\n",
    "ρ = n.-1.0\n",
    "@show sum(ρ)\n",
    "get_E!(E,ρ,Box_x);"
   ]
  },
  {
   "cell_type": "code",
   "execution_count": null,
   "metadata": {},
   "outputs": [],
   "source": [
    "surface(y_p,x_p, E[2,:,:])"
   ]
  },
  {
   "cell_type": "code",
   "execution_count": null,
   "metadata": {},
   "outputs": [],
   "source": [
    "plot(x_p, E[1,:,5])"
   ]
  },
  {
   "cell_type": "code",
   "execution_count": 12,
   "metadata": {},
   "outputs": [
    {
     "data": {
      "text/plain": [
       "true"
      ]
     },
     "metadata": {},
     "output_type": "display_data"
    }
   ],
   "source": [
    "average_outputs = false # detailed output (for runs which are too long)\n",
    "full_outputs = false\n",
    "animation = false # to run animations\n",
    "phase_space_show = false #show phase space diagrams\n",
    "#phase_space_show = true\n",
    "remote_server = false # if run in remote_server as a script avoid all plots \n",
    "save_plots = false # put true is you want so save your plots.\n",
    "full_outputs = true\n",
    "animation = true"
   ]
  },
  {
   "cell_type": "markdown",
   "metadata": {},
   "source": [
    "We build the initial data:"
   ]
  },
  {
   "cell_type": "code",
   "execution_count": 13,
   "metadata": {},
   "outputs": [
    {
     "data": {
      "text/plain": [
       "6.019042488598391e-5"
      ]
     },
     "metadata": {},
     "output_type": "display_data"
    }
   ],
   "source": [
    "u = Vector{Float64}(undef, 4N + 3*prod(J)); # contains r, v and E and B\n",
    "\n",
    "du = Vector{Float64}(undef, 4N + 3*prod(J)); # contains r, v and E\n",
    "\n",
    "u[1:4N] = par_dis \n",
    "\n",
    "Fu = view(u,4N+1:4N+3*prod(J))\n",
    "\n",
    "F = reshape(Fu,3,J...)\n",
    "\n",
    "#F = view(u[4N+1:end],3,J...)\n",
    "F[1:2,:,:] = E\n",
    "F[3,:,:] = B;\n",
    "\n",
    "# the total electric energy is:\n",
    "\n",
    "(norm(E)^2 + norm(B)^2)*prod(dx)\n",
    "#u\n",
    "#F[3,:,:]\n",
    "\n"
   ]
  },
  {
   "cell_type": "code",
   "execution_count": null,
   "metadata": {},
   "outputs": [],
   "source": [
    "#surface(y_p,x_p,F[1,:,:])"
   ]
  },
  {
   "cell_type": "code",
   "execution_count": 14,
   "metadata": {},
   "outputs": [
    {
     "data": {
      "text/plain": [
       "(0.000996178475273901, 3.0095212442991956e-5)"
      ]
     },
     "metadata": {},
     "output_type": "display_data"
    }
   ],
   "source": [
    "Energy_Ks, Energy_Es = get_energy_rel(u,(Box_x, N, J))"
   ]
  },
  {
   "cell_type": "code",
   "execution_count": null,
   "metadata": {},
   "outputs": [],
   "source": [
    "#surface(y_p,x_p,F[3,:,:])"
   ]
  },
  {
   "cell_type": "code",
   "execution_count": null,
   "metadata": {},
   "outputs": [],
   "source": [
    "u[4N+2*prod(J)+1:end]\n",
    "#u[4N+1:end-prod(J)]"
   ]
  },
  {
   "cell_type": "markdown",
   "metadata": {},
   "source": [
    "With the particle distribution we construct the initial data for the electric field. For that first we compute de density, using different types of particles (order)."
   ]
  },
  {
   "cell_type": "markdown",
   "metadata": {},
   "source": [
    "### What follows are characterizations of the initial data properties."
   ]
  },
  {
   "cell_type": "code",
   "execution_count": 15,
   "metadata": {},
   "outputs": [
    {
     "name": "stdout",
     "output_type": "stream",
     "text": [
      "test passed\n"
     ]
    }
   ],
   "source": [
    "\n",
    "Coordinate_test(u,Box_x,N)\n",
    "\n",
    "#println(\"n_total = $(sum(n .- 1.0))\")\n",
    "#println(\"v_total = $(sum(u[N+1:2N]))\")\n",
    "#println(\"E_total = $(sum(E_i))\")\n",
    "\n",
    "#println(\"S_total = $(sum(S))\")"
   ]
  },
  {
   "cell_type": "markdown",
   "metadata": {},
   "source": [
    "## TIME Evolution: \n",
    "\n",
    "Now we make the time evolution:\n",
    "\n",
    "1. we define parameters and vectors where to upload data to study the time evolution: Kinetic Energy, Electric field Energy, Total Electric field, total velocity (momentum), total density, total charge current.\n",
    "\n",
    "2. we save a vector with the particle phase space, this can be a lot of memory!"
   ]
  },
  {
   "cell_type": "code",
   "execution_count": 16,
   "metadata": {},
   "outputs": [
    {
     "data": {
      "text/plain": [
       "(100000, (50, 50), (0.0, 1.0, 0.0, 1.0), 5, [1.2394396230938525 1.1478078023384408 … 1.227857577296267 1.2546301075876518; 1.2086576223020873 1.0953294259710127 … 1.3014979663854396 1.296915972435618; … ; 0.9974838851070467 1.0595864673660784 … 1.0025643140225033 1.0294802726937737; 1.1122407092981494 1.1018359683338048 … 1.080278888330175 1.1034543700875963], [0.0016870587809040124 0.0027070806514163763 … 0.00048800801607582856 0.00041814294523151083; 0.0044693778349913366 0.003324903453866744 … -0.003384192389302726 0.0012521723282148689; … ; -0.0002977399759385429 0.002110266549504944 … -0.00400029671010306 -0.002400679765392091; 0.0007733764176560673 0.0023015409198245615 … -0.0011878746441331936 -0.0008071496011154491;;; 0.0038084757368894748 -0.0010704576491352483 … 0.0013061706669556473 0.0035486694494189248; 0.0006556892098904965 0.0008538192917955333 … -0.000669079789119781 0.0002743119727536776; … ; -0.0019390553957146948 -0.006162999301646214 … -0.0014256368578513489 -0.00013543224492405413; 0.003360470910564437 -0.0019373995989536434 … 0.000396607688356829 0.0026293540976614826], [0.0, 0.0, 0.0, 0.0, 0.0, 0.0, 0.0, 0.0, 0.0, 0.0  …  0.0, 0.0, 0.0, 0.0, 0.0, 0.0, 0.0, 0.0, 0.0, 0.0], get_density_2D!, Current2DTrans(100000, (50, 50), [-0.0006295579496266853 -0.0012309717181367386 … 0.00105518790463037 0.0011164168699971035; 0.0019146052115928745 0.0011113993878796788 … -0.00296308430017571 0.000913097796047647; … ; 7.063918061403646e-5 0.00166784942055741 … -0.0012912755052770606 -0.0010266238208444518; -0.0005461181498951124 -0.001126998401933408 … 0.00021618629513741523 -0.0005389634470827736;;; 0.0010458181367705866 -0.0002599166625672309 … -0.0014007673929796063 -4.0901906597837526e-5; 0.0006290304601703349 0.0014089309594136352 … -0.002229074289598414 0.00022339975567445475; … ; -0.000725692559478544 -0.0037332301533875662 … 0.001265404321454346 0.0012938779257442368; 0.0010343264816313985 -0.002422237953746076 … 0.0002344548588281383 0.0009357836165482273;;;; 0.0023166167305306976 0.003938052369553115 … -0.0005671798885545414 -0.0006982739247655927; 0.0025547726233984625 0.002213504065987065 … -0.000421108089127016 0.0003390745321672218; … ; -0.0003683791565525794 0.00044241712894753425 … -0.0027090212048259997 -0.001374055944547639; 0.0013194945675511797 0.0034285393217579696 … -0.001404060939270609 -0.0002681861540326755;;; 0.002762657600118888 -0.0008105409865680174 … 0.0027069380599352537 0.0035895713560167622; 2.665874972016156e-5 -0.0005551116676181019 … 0.001559994500478633 5.0912217079222805e-5; … ; -0.0012133628362361508 -0.0024297691482586476 … -0.0026910411793056948 -0.001429310170668291; 0.0023261444289330384 0.00048483835479243243 … 0.00016215282952869073 0.001693570481113255], [5 18; 48 35; … ; 49 47; 3 32], [0.5571237907099444 0.5701497832170617; 0.944224936582998 0.4651848116251074; … ; 0.8519244035817337 0.26336016890081737; 0.7069779114352315 0.09541805626581379], [0.0006006529256672499 0.0004275384908666943; -7.496037502087177e-5 0.0006293945902614891; … ; -0.00017196155779517413 -6.2359446890835646e-6; 0.0010280778270184078 -0.000901753293101297]), Interpolate_EBv_1, Periodic first-derivative operator of order 6 on a grid in [0.0, 1.0] using 50 nodes, \n",
       "stencils with 3 nodes to the left, 3 nodes to the right, and coefficients of Fornberg (1998) \n",
       "  Calculation of Weights in Finite Difference Formulas. \n",
       "  SIAM Rev. 40.3, pp. 685-691., Periodic 6-derivative dissipation operator of order 6 on a grid in [0.0, 1.0] using 50 nodes \n",
       "and coefficients of Mattsson, Svärd, Nordström (2004) \n",
       "  Stable and Accurate Artificial Dissipation. \n",
       "  Journal of Scientific Computing 21.1, pp. 57-79. \n",
       "See also (first and second derivatives) \n",
       "  Mattsson, Nordström (2004) \n",
       "  Summation by parts operators for finite difference approximations of second \n",
       "    derivatives. \n",
       "  Journal of Computational Physics 199, pp. 503-540., 0.0, Periodic first-derivative operator of order 6 on a grid in [0.0, 1.0] using 50 nodes, \n",
       "stencils with 3 nodes to the left, 3 nodes to the right, and coefficients of Fornberg (1998) \n",
       "  Calculation of Weights in Finite Difference Formulas. \n",
       "  SIAM Rev. 40.3, pp. 685-691., Periodic 6-derivative dissipation operator of order 6 on a grid in [0.0, 1.0] using 50 nodes \n",
       "and coefficients of Mattsson, Svärd, Nordström (2004) \n",
       "  Stable and Accurate Artificial Dissipation. \n",
       "  Journal of Scientific Computing 21.1, pp. 57-79. \n",
       "See also (first and second derivatives) \n",
       "  Mattsson, Nordström (2004) \n",
       "  Summation by parts operators for finite difference approximations of second \n",
       "    derivatives. \n",
       "  Journal of Computational Physics 199, pp. 503-540., 0.0)"
      ]
     },
     "metadata": {},
     "output_type": "display_data"
    }
   ],
   "source": [
    "if nthreads() > 1\n",
    "#TS = zeros(Float64, (2,J...,nthreads()))\n",
    "#p_RHS_D = (N, J, Box_x, order, n, S, du, get_density_2D!, get_current_threads_2D!, Interpolate_EBv_1, TS, Dx, Δx, σx, Dy, Δy, σy) ;\n",
    "p_RHS_D = (N, J, Box_x, order, n, S, du, get_density_2D!, get_current_2D_trans, Interpolate_EBv_1, Dx, Δx, σx, Dy, Δy, σy) ;\n",
    "else\n",
    "p_RHS_D = (N, J, Box_x, order, n, S, du, get_density_2D!, get_current_rel_2D!, Interpolate_EBv_1, Dx, Δx, σx, Dy, Δy, σy) ;\n",
    "end\n"
   ]
  },
  {
   "cell_type": "code",
   "execution_count": 17,
   "metadata": {},
   "outputs": [
    {
     "data": {
      "text/plain": [
       "407500-element Vector{Float64}:\n",
       "  0.09114247581419888\n",
       "  0.3514029956643413\n",
       "  0.024036571807407092\n",
       "  0.017108981238594306\n",
       "  0.9588844987316598\n",
       "  0.689303696232502\n",
       " -0.0029993791721266705\n",
       "  0.02518387914353254\n",
       "  0.09949298523198324\n",
       "  0.05527865182846459\n",
       "  ⋮\n",
       "  0.004499126645905786\n",
       "  0.0015672601796579428\n",
       "  0.0\n",
       "  0.004991705380794855\n",
       "  0.0005947684702981573\n",
       "  0.0\n",
       "  0.005217944824638738\n",
       " -0.00026098328051208524\n",
       "  0.0"
      ]
     },
     "metadata": {},
     "output_type": "display_data"
    }
   ],
   "source": [
    "t = 0.0\n",
    "j = 1\n",
    "\n",
    "run_pars = Dict(\"run_name\" => run_name, \"par_grid\" => par_grid, \"par_evolv\" => par_evolv, \"p_Ini\" => (par_f_x, par_f_p))\n",
    "\n",
    "if full_outputs\n",
    "    run_name = run_name * \"_full\"\n",
    "elseif average_outputs\n",
    "    run_name = run_name * \"_ave\"\n",
    "end\n",
    "\n",
    "file_name = \"Results/\"* run_name * \".jld2\"\n",
    "#rm(file_name)\n",
    "\n",
    "\n",
    "\n",
    "\n",
    "save(file_name, run_pars)\n",
    "\n",
    "if false # solo para testear\n",
    "file = jldopen(file_name, \"r+\")\n",
    "close(file)\n",
    "end\n",
    "\n",
    "if full_outputs\n",
    "    field_name = \"u\"\n",
    "    tiempo = @sprintf(\"%05d\", j)\n",
    "    jldopen(file_name, \"a+\") do file\n",
    "        file[field_name * \"/u_$(tiempo)\"] = u;\n",
    "    end\n",
    "end\n",
    "\n",
    "if average_outputs\n",
    "    load_averages(file_name, j, par_grid, pars_f)\n",
    "end\n",
    "\n",
    "if animation\n",
    "    par = Array{Float64,2}(undef,M_g,length(u));\n",
    "    par[1,:] = u[:]\n",
    "end"
   ]
  },
  {
   "cell_type": "code",
   "execution_count": null,
   "metadata": {},
   "outputs": [],
   "source": [
    "#RHS_D(u,t,p_RHS_D)"
   ]
  },
  {
   "cell_type": "code",
   "execution_count": 18,
   "metadata": {},
   "outputs": [
    {
     "name": "stdout",
     "output_type": "stream",
     "text": [
      "j = 2 , t = 0.09999999999999999, k = 11, nthreads = 2, Total_Energy = 0.0010262728914333028, E_Energy = 2.9714111866971734e-5\n"
     ]
    },
    {
     "name": "stdout",
     "output_type": "stream",
     "text": [
      "j = 3 , t = 0.20000000000000004, k = 21, nthreads = 2, Total_Energy = 0.0010262709537564709, E_Energy = 2.872013614395717e-5\n"
     ]
    },
    {
     "name": "stdout",
     "output_type": "stream",
     "text": [
      "j = 4 , t = 0.3000000000000001, k = 31, nthreads = 2, Total_Energy = 0.0010262682757035276, E_Energy = 2.716124336714856e-5\n"
     ]
    },
    {
     "name": "stdout",
     "output_type": "stream",
     "text": [
      "j = 5 , t = 0.4000000000000002, k = 41, nthreads = 2, Total_Energy = 0.0010262652224027626, E_Energy = 2.5108613581837788e-5\n"
     ]
    },
    {
     "name": "stdout",
     "output_type": "stream",
     "text": [
      "j = 6 , t = 0.5000000000000002, k = 51, nthreads = 2, Total_Energy = 0.0010262620002891446, E_Energy = 2.2652951955153048e-5\n"
     ]
    },
    {
     "name": "stdout",
     "output_type": "stream",
     "text": [
      "j = 7 , t = 0.6000000000000003, k = 61, nthreads = 2, Total_Energy = 0.0010262586384037166, E_Energy = 1.9902146645947464e-5\n"
     ]
    },
    {
     "name": "stdout",
     "output_type": "stream",
     "text": [
      "j = 8 , t = 0.7000000000000004, k = 71, nthreads = 2, Total_Energy = 0.001026255044067818, E_Energy = 1.6973953117619925e-5\n"
     ]
    },
    {
     "name": "stdout",
     "output_type": "stream",
     "text": [
      "j = 9 , t = 0.8000000000000005, k = 81, nthreads = 2, Total_Energy = 0.0010262514082212423, E_Energy = 1.399433043018053e-5\n"
     ]
    },
    {
     "name": "stdout",
     "output_type": "stream",
     "text": [
      "j = 10 , t = 0.9000000000000006, k = 91, nthreads = 2, Total_Energy = 0.0010262479897284011, E_Energy = 1.1088048086678309e-5\n"
     ]
    },
    {
     "name": "stdout",
     "output_type": "stream",
     "text": [
      "j = 11 , t = 1.0000000000000007, k = 101, nthreads = 2, Total_Energy = 0.001026244896030512, E_Energy = 8.375978394620935e-6\n"
     ]
    }
   ],
   "source": [
    "include(\"aux_functions/aux_functions.jl\")\n",
    "for k in 2:M\n",
    "  RK4_Step!(RHS_D,u,t,dt,p_RHS_D)\n",
    "  #global u = [make_periodic!(u[1:4N],Box_x); u[4N+1:end]]\n",
    "  # make_periodic!(u,Box_x,N) # done inside the RHS_D function at every RK step\n",
    "  #filter_constant!(u[2N+1:end])\n",
    "  global t = t + dt\n",
    "  if (k-1) % (M÷(M_g-1)) == 0\n",
    "    local j = (k-1)÷(M÷(M_g-1))+1\n",
    "    make_periodic!(u,Box_x,N) # just to save the correct data\n",
    "    global Energy_Ks, Energy_Es = get_energy_rel(u,(Box_x, N, J))\n",
    "\n",
    "    if average_outputs\n",
    "      load_averages(file_name, j, par_grid, pars_f)\n",
    "    end\n",
    "\n",
    "    if full_outputs\n",
    "        local tiempo = @sprintf(\"%05d\", j)\n",
    "        jldopen(file_name, \"a+\") do file\n",
    "            file[field_name * \"/u_$(tiempo)\"] = u\n",
    "      end\n",
    "    end\n",
    "\n",
    "    println(\"j = $j , t = $t, k = $k, nthreads = $(nthreads()), Total_Energy = $(Energy_Ks + Energy_Es), E_Energy = $(Energy_Es)\")\n",
    "\n",
    "    if animation\n",
    "      par[j,:] = u[:]\n",
    "    end\n",
    "  end\n",
    "end"
   ]
  },
  {
   "cell_type": "code",
   "execution_count": null,
   "metadata": {},
   "outputs": [],
   "source": [
    "j = 11\n",
    "\n",
    "Plots.scatter(par[j,1:2D:4N], par[j,2:2D:4N], ts=0.2\n",
    ", thickness_scaling = 0.3\n",
    ", markersize = 0.3\n",
    ", title = \"space\", legend =:false)\n",
    "\n",
    "#png(\"weibel_space_t=10\")"
   ]
  },
  {
   "cell_type": "code",
   "execution_count": 19,
   "metadata": {},
   "outputs": [
    {
     "name": "stdout",
     "output_type": "stream",
     "text": [
      "test passed\n"
     ]
    }
   ],
   "source": [
    "#include(\"aux_functions/aux_functions.jl\")\n",
    "\n",
    "\n",
    "#make_periodic!(par[M_g,:],Box_x,N)\n",
    "Coordinate_test(par[M_g,:],Box_x,N)"
   ]
  },
  {
   "cell_type": "code",
   "execution_count": null,
   "metadata": {},
   "outputs": [],
   "source": [
    "j = 11\n",
    "\n",
    "histogram2d(par[j,1:2D:4N], par[j,2:2D:4N], ts=0.2\n",
    ", thickness_scaling = 0.3\n",
    ", markersize = 0.3\n",
    ", title = \"space\", legend =:false)"
   ]
  },
  {
   "cell_type": "code",
   "execution_count": null,
   "metadata": {},
   "outputs": [],
   "source": [
    "j = 11\n",
    "Plots.scatter(par[j,3:2D:4N], par[j,4:2D:4N], ts=0.2\n",
    ", thickness_scaling = 0.3\n",
    ", markersize = 0.3\n",
    ", title = \"momentum\", legend =:false)\n",
    "\n",
    "#png(\"weibel_momentum_t=10\")"
   ]
  },
  {
   "cell_type": "code",
   "execution_count": 26,
   "metadata": {},
   "outputs": [
    {
     "data": {
      "text/plain": [
       "50×50 Matrix{Float64}:\n",
       " -1.36199e-6    2.28717e-5    4.88246e-5  …   0.000109498   7.31621e-5\n",
       " -7.43643e-5    2.00051e-5    1.54264e-5      1.22563e-5   -4.16032e-5\n",
       "  2.7759e-6     2.15793e-5   -2.28803e-5      8.57689e-5    1.57071e-5\n",
       " -7.40054e-6    3.18215e-6   -3.48753e-5      2.25015e-5   -5.53281e-5\n",
       "  7.80588e-6    3.52258e-5    1.17231e-5      4.80076e-5    2.89812e-6\n",
       " -4.80519e-5    3.37997e-6   -2.06586e-5  …  -1.66506e-5   -8.02916e-5\n",
       "  6.81557e-6    1.72048e-5    6.96234e-6     -5.82289e-5   -2.39589e-5\n",
       " -4.81151e-5   -3.51164e-5   -4.28477e-5     -8.27847e-5   -7.18279e-5\n",
       " -4.23991e-5    5.84114e-6   -1.16633e-5     -7.72703e-5   -7.68574e-5\n",
       " -5.97694e-5   -2.65044e-5   -7.84406e-5     -9.88636e-6   -4.05393e-5\n",
       "  ⋮                                       ⋱                \n",
       " -6.28165e-5   -0.000122462  -2.34103e-5     -1.83916e-5   -4.31156e-5\n",
       "  5.38241e-5   -1.26061e-5    5.32241e-5      3.35411e-5   -7.43977e-6\n",
       "  5.86488e-5   -1.63694e-5   -1.53685e-5      2.95272e-6    5.23127e-5\n",
       "  0.000107793   0.000127475   1.8815e-6       1.89599e-5    8.74408e-5\n",
       "  0.000125884   0.000132434   5.2183e-5   …  -3.3044e-5     5.48483e-5\n",
       "  5.16291e-5    5.78487e-5    7.20754e-5     -5.54562e-5   -2.91762e-5\n",
       " -2.42218e-5    2.34512e-5    2.73071e-5     -0.000120973  -0.000116251\n",
       " -1.78817e-5    6.71886e-5    5.4057e-5      -6.78474e-5   -1.47471e-5\n",
       " -5.89688e-5    1.03218e-5    7.28166e-5     -2.92909e-5   -2.58095e-5"
      ]
     },
     "metadata": {},
     "output_type": "display_data"
    }
   ],
   "source": [
    "j = M_g\n",
    "Fuj = view(par[j,:],4N+1:4N+3*prod(J))\n",
    "\n",
    "Fj = reshape(Fuj,3,J...)\n",
    "\n",
    "#F = view(u[4N+1:end],3,J...)\n",
    "Ej = Fj[1:2,:,:]\n",
    "Bj = Fj[3,:,:];\n",
    "\n",
    "#surface(y_p,x_p,Ej[2,:,:])\n",
    "#surface(y_p,x_p,Bj[:,:])\n",
    "\n",
    "#norm(Bj)"
   ]
  },
  {
   "cell_type": "code",
   "execution_count": 27,
   "metadata": {},
   "outputs": [
    {
     "data": {
      "image/png": "[encoded data removed]",
      "image/svg+xml": [
       "<?xml version=\"1.0\" encoding=\"utf-8\"?>\n",
       "<svg xmlns=\"http://www.w3.org/2000/svg\" xmlns:xlink=\"http://www.w3.org/1999/xlink\" width=\"600\" height=\"400\" viewBox=\"0 0 2400 1600\">\n",
       "<defs>\n",
       "  <clipPath id=\"clip650\">\n",
       "    <rect x=\"0\" y=\"0\" width=\"2400\" height=\"1600\"/>\n",
       "  </clipPath>\n",
       "</defs>\n",
       "<path clip-path=\"url(#clip650)\" d=\"\n",
       "M0 1600 L2400 1600 L2400 0 L0 0  Z\n",
       "  \" fill=\"#ffffff\" fill-rule=\"evenodd\" fill-opacity=\"1\"/>\n",
       "<defs>\n",
       "  <clipPath id=\"clip651\">\n",
       "    <rect x=\"480\" y=\"0\" width=\"1681\" height=\"1600\"/>\n",
       "  </clipPath>\n",
       "</defs>\n",
       "<path clip-path=\"url(#clip650)\" d=\"\n",
       "M284.422 1486.45 L2352.76 1486.45 L2352.76 47.2441 L284.422 47.2441  Z\n",
       "  \" fill=\"#ffffff\" fill-rule=\"evenodd\" fill-opacity=\"1\"/>\n",
       "<defs>\n",
       "  <clipPath id=\"clip652\">\n",
       "    <rect x=\"284\" y=\"47\" width=\"2069\" height=\"1440\"/>\n",
       "  </clipPath>\n",
       "</defs>\n",
       "<polyline clip-path=\"url(#clip652)\" style=\"stroke:#000000; stroke-linecap:round; stroke-linejoin:round; stroke-width:2; stroke-opacity:0.1; fill:none\" points=\"\n",
       "  303.138,1486.45 303.138,47.2441 \n",
       "  \"/>\n",
       "<polyline clip-path=\"url(#clip652)\" style=\"stroke:#000000; stroke-linecap:round; stroke-linejoin:round; stroke-width:2; stroke-opacity:0.1; fill:none\" points=\"\n",
       "  701.354,1486.45 701.354,47.2441 \n",
       "  \"/>\n",
       "<polyline clip-path=\"url(#clip652)\" style=\"stroke:#000000; stroke-linecap:round; stroke-linejoin:round; stroke-width:2; stroke-opacity:0.1; fill:none\" points=\"\n",
       "  1099.57,1486.45 1099.57,47.2441 \n",
       "  \"/>\n",
       "<polyline clip-path=\"url(#clip652)\" style=\"stroke:#000000; stroke-linecap:round; stroke-linejoin:round; stroke-width:2; stroke-opacity:0.1; fill:none\" points=\"\n",
       "  1497.79,1486.45 1497.79,47.2441 \n",
       "  \"/>\n",
       "<polyline clip-path=\"url(#clip652)\" style=\"stroke:#000000; stroke-linecap:round; stroke-linejoin:round; stroke-width:2; stroke-opacity:0.1; fill:none\" points=\"\n",
       "  1896,1486.45 1896,47.2441 \n",
       "  \"/>\n",
       "<polyline clip-path=\"url(#clip652)\" style=\"stroke:#000000; stroke-linecap:round; stroke-linejoin:round; stroke-width:2; stroke-opacity:0.1; fill:none\" points=\"\n",
       "  2294.22,1486.45 2294.22,47.2441 \n",
       "  \"/>\n",
       "<polyline clip-path=\"url(#clip650)\" style=\"stroke:#000000; stroke-linecap:round; stroke-linejoin:round; stroke-width:4; stroke-opacity:1; fill:none\" points=\"\n",
       "  284.422,1486.45 2352.76,1486.45 \n",
       "  \"/>\n",
       "<polyline clip-path=\"url(#clip650)\" style=\"stroke:#000000; stroke-linecap:round; stroke-linejoin:round; stroke-width:4; stroke-opacity:1; fill:none\" points=\"\n",
       "  303.138,1486.45 303.138,1467.55 \n",
       "  \"/>\n",
       "<polyline clip-path=\"url(#clip650)\" style=\"stroke:#000000; stroke-linecap:round; stroke-linejoin:round; stroke-width:4; stroke-opacity:1; fill:none\" points=\"\n",
       "  701.354,1486.45 701.354,1467.55 \n",
       "  \"/>\n",
       "<polyline clip-path=\"url(#clip650)\" style=\"stroke:#000000; stroke-linecap:round; stroke-linejoin:round; stroke-width:4; stroke-opacity:1; fill:none\" points=\"\n",
       "  1099.57,1486.45 1099.57,1467.55 \n",
       "  \"/>\n",
       "<polyline clip-path=\"url(#clip650)\" style=\"stroke:#000000; stroke-linecap:round; stroke-linejoin:round; stroke-width:4; stroke-opacity:1; fill:none\" points=\"\n",
       "  1497.79,1486.45 1497.79,1467.55 \n",
       "  \"/>\n",
       "<polyline clip-path=\"url(#clip650)\" style=\"stroke:#000000; stroke-linecap:round; stroke-linejoin:round; stroke-width:4; stroke-opacity:1; fill:none\" points=\"\n",
       "  1896,1486.45 1896,1467.55 \n",
       "  \"/>\n",
       "<polyline clip-path=\"url(#clip650)\" style=\"stroke:#000000; stroke-linecap:round; stroke-linejoin:round; stroke-width:4; stroke-opacity:1; fill:none\" points=\"\n",
       "  2294.22,1486.45 2294.22,1467.55 \n",
       "  \"/>\n",
       "<path clip-path=\"url(#clip650)\" d=\"M303.138 1517.37 Q299.527 1517.37 297.698 1520.93 Q295.892 1524.47 295.892 1531.6 Q295.892 1538.71 297.698 1542.27 Q299.527 1545.82 303.138 1545.82 Q306.772 1545.82 308.578 1542.27 Q310.406 1538.71 310.406 1531.6 Q310.406 1524.47 308.578 1520.93 Q306.772 1517.37 303.138 1517.37 M303.138 1513.66 Q308.948 1513.66 312.003 1518.27 Q315.082 1522.85 315.082 1531.6 Q315.082 1540.33 312.003 1544.94 Q308.948 1549.52 303.138 1549.52 Q297.328 1549.52 294.249 1544.94 Q291.193 1540.33 291.193 1531.6 Q291.193 1522.85 294.249 1518.27 Q297.328 1513.66 303.138 1513.66 Z\" fill=\"#000000\" fill-rule=\"evenodd\" fill-opacity=\"1\" /><path clip-path=\"url(#clip650)\" d=\"M676.041 1544.91 L683.68 1544.91 L683.68 1518.55 L675.37 1520.21 L675.37 1515.95 L683.634 1514.29 L688.31 1514.29 L688.31 1544.91 L695.949 1544.91 L695.949 1548.85 L676.041 1548.85 L676.041 1544.91 Z\" fill=\"#000000\" fill-rule=\"evenodd\" fill-opacity=\"1\" /><path clip-path=\"url(#clip650)\" d=\"M715.393 1517.37 Q711.782 1517.37 709.953 1520.93 Q708.148 1524.47 708.148 1531.6 Q708.148 1538.71 709.953 1542.27 Q711.782 1545.82 715.393 1545.82 Q719.027 1545.82 720.833 1542.27 Q722.662 1538.71 722.662 1531.6 Q722.662 1524.47 720.833 1520.93 Q719.027 1517.37 715.393 1517.37 M715.393 1513.66 Q721.203 1513.66 724.259 1518.27 Q727.338 1522.85 727.338 1531.6 Q727.338 1540.33 724.259 1544.94 Q721.203 1549.52 715.393 1549.52 Q709.583 1549.52 706.504 1544.94 Q703.449 1540.33 703.449 1531.6 Q703.449 1522.85 706.504 1518.27 Q709.583 1513.66 715.393 1513.66 Z\" fill=\"#000000\" fill-rule=\"evenodd\" fill-opacity=\"1\" /><path clip-path=\"url(#clip650)\" d=\"M1078.34 1544.91 L1094.66 1544.91 L1094.66 1548.85 L1072.72 1548.85 L1072.72 1544.91 Q1075.38 1542.16 1079.96 1537.53 Q1084.57 1532.88 1085.75 1531.53 Q1088 1529.01 1088.88 1527.27 Q1089.78 1525.51 1089.78 1523.82 Q1089.78 1521.07 1087.83 1519.33 Q1085.91 1517.6 1082.81 1517.6 Q1080.61 1517.6 1078.16 1518.36 Q1075.73 1519.13 1072.95 1520.68 L1072.95 1515.95 Q1075.77 1514.82 1078.23 1514.24 Q1080.68 1513.66 1082.72 1513.66 Q1088.09 1513.66 1091.28 1516.35 Q1094.48 1519.03 1094.48 1523.52 Q1094.48 1525.65 1093.67 1527.57 Q1092.88 1529.47 1090.77 1532.07 Q1090.19 1532.74 1087.09 1535.95 Q1083.99 1539.15 1078.34 1544.91 Z\" fill=\"#000000\" fill-rule=\"evenodd\" fill-opacity=\"1\" /><path clip-path=\"url(#clip650)\" d=\"M1114.48 1517.37 Q1110.87 1517.37 1109.04 1520.93 Q1107.23 1524.47 1107.23 1531.6 Q1107.23 1538.71 1109.04 1542.27 Q1110.87 1545.82 1114.48 1545.82 Q1118.11 1545.82 1119.92 1542.27 Q1121.75 1538.71 1121.75 1531.6 Q1121.75 1524.47 1119.92 1520.93 Q1118.11 1517.37 1114.48 1517.37 M1114.48 1513.66 Q1120.29 1513.66 1123.34 1518.27 Q1126.42 1522.85 1126.42 1531.6 Q1126.42 1540.33 1123.34 1544.94 Q1120.29 1549.52 1114.48 1549.52 Q1108.67 1549.52 1105.59 1544.94 Q1102.53 1540.33 1102.53 1531.6 Q1102.53 1522.85 1105.59 1518.27 Q1108.67 1513.66 1114.48 1513.66 Z\" fill=\"#000000\" fill-rule=\"evenodd\" fill-opacity=\"1\" /><path clip-path=\"url(#clip650)\" d=\"M1486.63 1530.21 Q1489.99 1530.93 1491.86 1533.2 Q1493.76 1535.47 1493.76 1538.8 Q1493.76 1543.92 1490.24 1546.72 Q1486.72 1549.52 1480.24 1549.52 Q1478.06 1549.52 1475.75 1549.08 Q1473.46 1548.66 1471 1547.81 L1471 1543.29 Q1472.95 1544.43 1475.26 1545.01 Q1477.58 1545.58 1480.1 1545.58 Q1484.5 1545.58 1486.79 1543.85 Q1489.11 1542.11 1489.11 1538.8 Q1489.11 1535.75 1486.95 1534.03 Q1484.82 1532.3 1481 1532.3 L1476.98 1532.3 L1476.98 1528.45 L1481.19 1528.45 Q1484.64 1528.45 1486.47 1527.09 Q1488.3 1525.7 1488.3 1523.11 Q1488.3 1520.45 1486.4 1519.03 Q1484.52 1517.6 1481 1517.6 Q1479.08 1517.6 1476.88 1518.01 Q1474.68 1518.43 1472.05 1519.31 L1472.05 1515.14 Q1474.71 1514.4 1477.02 1514.03 Q1479.36 1513.66 1481.42 1513.66 Q1486.74 1513.66 1489.85 1516.09 Q1492.95 1518.5 1492.95 1522.62 Q1492.95 1525.49 1491.3 1527.48 Q1489.66 1529.45 1486.63 1530.21 Z\" fill=\"#000000\" fill-rule=\"evenodd\" fill-opacity=\"1\" /><path clip-path=\"url(#clip650)\" d=\"M1512.62 1517.37 Q1509.01 1517.37 1507.18 1520.93 Q1505.38 1524.47 1505.38 1531.6 Q1505.38 1538.71 1507.18 1542.27 Q1509.01 1545.82 1512.62 1545.82 Q1516.26 1545.82 1518.06 1542.27 Q1519.89 1538.71 1519.89 1531.6 Q1519.89 1524.47 1518.06 1520.93 Q1516.26 1517.37 1512.62 1517.37 M1512.62 1513.66 Q1518.43 1513.66 1521.49 1518.27 Q1524.57 1522.85 1524.57 1531.6 Q1524.57 1540.33 1521.49 1544.94 Q1518.43 1549.52 1512.62 1549.52 Q1506.81 1549.52 1503.74 1544.94 Q1500.68 1540.33 1500.68 1531.6 Q1500.68 1522.85 1503.74 1518.27 Q1506.81 1513.66 1512.62 1513.66 Z\" fill=\"#000000\" fill-rule=\"evenodd\" fill-opacity=\"1\" /><path clip-path=\"url(#clip650)\" d=\"M1884.17 1518.36 L1872.37 1536.81 L1884.17 1536.81 L1884.17 1518.36 M1882.95 1514.29 L1888.83 1514.29 L1888.83 1536.81 L1893.76 1536.81 L1893.76 1540.7 L1888.83 1540.7 L1888.83 1548.85 L1884.17 1548.85 L1884.17 1540.7 L1868.57 1540.7 L1868.57 1536.19 L1882.95 1514.29 Z\" fill=\"#000000\" fill-rule=\"evenodd\" fill-opacity=\"1\" /><path clip-path=\"url(#clip650)\" d=\"M1911.49 1517.37 Q1907.88 1517.37 1906.05 1520.93 Q1904.24 1524.47 1904.24 1531.6 Q1904.24 1538.71 1906.05 1542.27 Q1907.88 1545.82 1911.49 1545.82 Q1915.12 1545.82 1916.93 1542.27 Q1918.76 1538.71 1918.76 1531.6 Q1918.76 1524.47 1916.93 1520.93 Q1915.12 1517.37 1911.49 1517.37 M1911.49 1513.66 Q1917.3 1513.66 1920.35 1518.27 Q1923.43 1522.85 1923.43 1531.6 Q1923.43 1540.33 1920.35 1544.94 Q1917.3 1549.52 1911.49 1549.52 Q1905.68 1549.52 1902.6 1544.94 Q1899.54 1540.33 1899.54 1531.6 Q1899.54 1522.85 1902.6 1518.27 Q1905.68 1513.66 1911.49 1513.66 Z\" fill=\"#000000\" fill-rule=\"evenodd\" fill-opacity=\"1\" /><path clip-path=\"url(#clip650)\" d=\"M2268.92 1514.29 L2287.27 1514.29 L2287.27 1518.22 L2273.2 1518.22 L2273.2 1526.7 Q2274.22 1526.35 2275.24 1526.19 Q2276.26 1526 2277.27 1526 Q2283.06 1526 2286.44 1529.17 Q2289.82 1532.34 2289.82 1537.76 Q2289.82 1543.34 2286.35 1546.44 Q2282.88 1549.52 2276.56 1549.52 Q2274.38 1549.52 2272.11 1549.15 Q2269.87 1548.78 2267.46 1548.04 L2267.46 1543.34 Q2269.54 1544.47 2271.76 1545.03 Q2273.99 1545.58 2276.46 1545.58 Q2280.47 1545.58 2282.81 1543.48 Q2285.14 1541.37 2285.14 1537.76 Q2285.14 1534.15 2282.81 1532.04 Q2280.47 1529.94 2276.46 1529.94 Q2274.59 1529.94 2272.71 1530.35 Q2270.86 1530.77 2268.92 1531.65 L2268.92 1514.29 Z\" fill=\"#000000\" fill-rule=\"evenodd\" fill-opacity=\"1\" /><path clip-path=\"url(#clip650)\" d=\"M2309.03 1517.37 Q2305.42 1517.37 2303.59 1520.93 Q2301.79 1524.47 2301.79 1531.6 Q2301.79 1538.71 2303.59 1542.27 Q2305.42 1545.82 2309.03 1545.82 Q2312.67 1545.82 2314.47 1542.27 Q2316.3 1538.71 2316.3 1531.6 Q2316.3 1524.47 2314.47 1520.93 Q2312.67 1517.37 2309.03 1517.37 M2309.03 1513.66 Q2314.84 1513.66 2317.9 1518.27 Q2320.98 1522.85 2320.98 1531.6 Q2320.98 1540.33 2317.9 1544.94 Q2314.84 1549.52 2309.03 1549.52 Q2303.22 1549.52 2300.14 1544.94 Q2297.09 1540.33 2297.09 1531.6 Q2297.09 1522.85 2300.14 1518.27 Q2303.22 1513.66 2309.03 1513.66 Z\" fill=\"#000000\" fill-rule=\"evenodd\" fill-opacity=\"1\" /><polyline clip-path=\"url(#clip652)\" style=\"stroke:#000000; stroke-linecap:round; stroke-linejoin:round; stroke-width:2; stroke-opacity:0.1; fill:none\" points=\"\n",
       "  284.422,1481.93 2352.76,1481.93 \n",
       "  \"/>\n",
       "<polyline clip-path=\"url(#clip652)\" style=\"stroke:#000000; stroke-linecap:round; stroke-linejoin:round; stroke-width:2; stroke-opacity:0.1; fill:none\" points=\"\n",
       "  284.422,1175.23 2352.76,1175.23 \n",
       "  \"/>\n",
       "<polyline clip-path=\"url(#clip652)\" style=\"stroke:#000000; stroke-linecap:round; stroke-linejoin:round; stroke-width:2; stroke-opacity:0.1; fill:none\" points=\"\n",
       "  284.422,868.538 2352.76,868.538 \n",
       "  \"/>\n",
       "<polyline clip-path=\"url(#clip652)\" style=\"stroke:#000000; stroke-linecap:round; stroke-linejoin:round; stroke-width:2; stroke-opacity:0.1; fill:none\" points=\"\n",
       "  284.422,561.841 2352.76,561.841 \n",
       "  \"/>\n",
       "<polyline clip-path=\"url(#clip652)\" style=\"stroke:#000000; stroke-linecap:round; stroke-linejoin:round; stroke-width:2; stroke-opacity:0.1; fill:none\" points=\"\n",
       "  284.422,255.144 2352.76,255.144 \n",
       "  \"/>\n",
       "<polyline clip-path=\"url(#clip650)\" style=\"stroke:#000000; stroke-linecap:round; stroke-linejoin:round; stroke-width:4; stroke-opacity:1; fill:none\" points=\"\n",
       "  284.422,1486.45 284.422,47.2441 \n",
       "  \"/>\n",
       "<polyline clip-path=\"url(#clip650)\" style=\"stroke:#000000; stroke-linecap:round; stroke-linejoin:round; stroke-width:4; stroke-opacity:1; fill:none\" points=\"\n",
       "  284.422,1481.93 303.319,1481.93 \n",
       "  \"/>\n",
       "<polyline clip-path=\"url(#clip650)\" style=\"stroke:#000000; stroke-linecap:round; stroke-linejoin:round; stroke-width:4; stroke-opacity:1; fill:none\" points=\"\n",
       "  284.422,1175.23 303.319,1175.23 \n",
       "  \"/>\n",
       "<polyline clip-path=\"url(#clip650)\" style=\"stroke:#000000; stroke-linecap:round; stroke-linejoin:round; stroke-width:4; stroke-opacity:1; fill:none\" points=\"\n",
       "  284.422,868.538 303.319,868.538 \n",
       "  \"/>\n",
       "<polyline clip-path=\"url(#clip650)\" style=\"stroke:#000000; stroke-linecap:round; stroke-linejoin:round; stroke-width:4; stroke-opacity:1; fill:none\" points=\"\n",
       "  284.422,561.841 303.319,561.841 \n",
       "  \"/>\n",
       "<polyline clip-path=\"url(#clip650)\" style=\"stroke:#000000; stroke-linecap:round; stroke-linejoin:round; stroke-width:4; stroke-opacity:1; fill:none\" points=\"\n",
       "  284.422,255.144 303.319,255.144 \n",
       "  \"/>\n",
       "<path clip-path=\"url(#clip650)\" d=\"M50.9921 1482.38 L80.6679 1482.38 L80.6679 1486.32 L50.9921 1486.32 L50.9921 1482.38 Z\" fill=\"#000000\" fill-rule=\"evenodd\" fill-opacity=\"1\" /><path clip-path=\"url(#clip650)\" d=\"M100.76 1467.73 Q97.1493 1467.73 95.3206 1471.29 Q93.515 1474.84 93.515 1481.97 Q93.515 1489.07 95.3206 1492.64 Q97.1493 1496.18 100.76 1496.18 Q104.395 1496.18 106.2 1492.64 Q108.029 1489.07 108.029 1481.97 Q108.029 1474.84 106.2 1471.29 Q104.395 1467.73 100.76 1467.73 M100.76 1464.03 Q106.571 1464.03 109.626 1468.63 Q112.705 1473.22 112.705 1481.97 Q112.705 1490.69 109.626 1495.3 Q106.571 1499.88 100.76 1499.88 Q94.9502 1499.88 91.8715 1495.3 Q88.816 1490.69 88.816 1481.97 Q88.816 1473.22 91.8715 1468.63 Q94.9502 1464.03 100.76 1464.03 Z\" fill=\"#000000\" fill-rule=\"evenodd\" fill-opacity=\"1\" /><path clip-path=\"url(#clip650)\" d=\"M120.922 1493.33 L125.807 1493.33 L125.807 1499.21 L120.922 1499.21 L120.922 1493.33 Z\" fill=\"#000000\" fill-rule=\"evenodd\" fill-opacity=\"1\" /><path clip-path=\"url(#clip650)\" d=\"M145.992 1467.73 Q142.381 1467.73 140.552 1471.29 Q138.746 1474.84 138.746 1481.97 Q138.746 1489.07 140.552 1492.64 Q142.381 1496.18 145.992 1496.18 Q149.626 1496.18 151.431 1492.64 Q153.26 1489.07 153.26 1481.97 Q153.26 1474.84 151.431 1471.29 Q149.626 1467.73 145.992 1467.73 M145.992 1464.03 Q151.802 1464.03 154.857 1468.63 Q157.936 1473.22 157.936 1481.97 Q157.936 1490.69 154.857 1495.3 Q151.802 1499.88 145.992 1499.88 Q140.181 1499.88 137.103 1495.3 Q134.047 1490.69 134.047 1481.97 Q134.047 1473.22 137.103 1468.63 Q140.181 1464.03 145.992 1464.03 Z\" fill=\"#000000\" fill-rule=\"evenodd\" fill-opacity=\"1\" /><path clip-path=\"url(#clip650)\" d=\"M176.153 1467.73 Q172.542 1467.73 170.714 1471.29 Q168.908 1474.84 168.908 1481.97 Q168.908 1489.07 170.714 1492.64 Q172.542 1496.18 176.153 1496.18 Q179.788 1496.18 181.593 1492.64 Q183.422 1489.07 183.422 1481.97 Q183.422 1474.84 181.593 1471.29 Q179.788 1467.73 176.153 1467.73 M176.153 1464.03 Q181.964 1464.03 185.019 1468.63 Q188.098 1473.22 188.098 1481.97 Q188.098 1490.69 185.019 1495.3 Q181.964 1499.88 176.153 1499.88 Q170.343 1499.88 167.265 1495.3 Q164.209 1490.69 164.209 1481.97 Q164.209 1473.22 167.265 1468.63 Q170.343 1464.03 176.153 1464.03 Z\" fill=\"#000000\" fill-rule=\"evenodd\" fill-opacity=\"1\" /><path clip-path=\"url(#clip650)\" d=\"M196.362 1464.65 L214.718 1464.65 L214.718 1468.59 L200.644 1468.59 L200.644 1477.06 Q201.663 1476.71 202.681 1476.55 Q203.7 1476.36 204.718 1476.36 Q210.505 1476.36 213.885 1479.54 Q217.264 1482.71 217.264 1488.12 Q217.264 1493.7 213.792 1496.8 Q210.32 1499.88 204.001 1499.88 Q201.825 1499.88 199.556 1499.51 Q197.311 1499.14 194.903 1498.4 L194.903 1493.7 Q196.987 1494.84 199.209 1495.39 Q201.431 1495.95 203.908 1495.95 Q207.913 1495.95 210.251 1493.84 Q212.588 1491.73 212.588 1488.12 Q212.588 1484.51 210.251 1482.41 Q207.913 1480.3 203.908 1480.3 Q202.033 1480.3 200.158 1480.72 Q198.306 1481.13 196.362 1482.01 L196.362 1464.65 Z\" fill=\"#000000\" fill-rule=\"evenodd\" fill-opacity=\"1\" /><path clip-path=\"url(#clip650)\" d=\"M236.477 1467.73 Q232.866 1467.73 231.037 1471.29 Q229.232 1474.84 229.232 1481.97 Q229.232 1489.07 231.037 1492.64 Q232.866 1496.18 236.477 1496.18 Q240.111 1496.18 241.917 1492.64 Q243.746 1489.07 243.746 1481.97 Q243.746 1474.84 241.917 1471.29 Q240.111 1467.73 236.477 1467.73 M236.477 1464.03 Q242.287 1464.03 245.343 1468.63 Q248.422 1473.22 248.422 1481.97 Q248.422 1490.69 245.343 1495.3 Q242.287 1499.88 236.477 1499.88 Q230.667 1499.88 227.588 1495.3 Q224.533 1490.69 224.533 1481.97 Q224.533 1473.22 227.588 1468.63 Q230.667 1464.03 236.477 1464.03 Z\" fill=\"#000000\" fill-rule=\"evenodd\" fill-opacity=\"1\" /><path clip-path=\"url(#clip650)\" d=\"M51.9875 1175.69 L81.6633 1175.69 L81.6633 1179.62 L51.9875 1179.62 L51.9875 1175.69 Z\" fill=\"#000000\" fill-rule=\"evenodd\" fill-opacity=\"1\" /><path clip-path=\"url(#clip650)\" d=\"M101.756 1161.03 Q98.1447 1161.03 96.316 1164.6 Q94.5104 1168.14 94.5104 1175.27 Q94.5104 1182.38 96.316 1185.94 Q98.1447 1189.48 101.756 1189.48 Q105.39 1189.48 107.196 1185.94 Q109.024 1182.38 109.024 1175.27 Q109.024 1168.14 107.196 1164.6 Q105.39 1161.03 101.756 1161.03 M101.756 1157.33 Q107.566 1157.33 110.621 1161.94 Q113.7 1166.52 113.7 1175.27 Q113.7 1184 110.621 1188.6 Q107.566 1193.19 101.756 1193.19 Q95.9456 1193.19 92.8669 1188.6 Q89.8114 1184 89.8114 1175.27 Q89.8114 1166.52 92.8669 1161.94 Q95.9456 1157.33 101.756 1157.33 Z\" fill=\"#000000\" fill-rule=\"evenodd\" fill-opacity=\"1\" /><path clip-path=\"url(#clip650)\" d=\"M121.918 1186.63 L126.802 1186.63 L126.802 1192.51 L121.918 1192.51 L121.918 1186.63 Z\" fill=\"#000000\" fill-rule=\"evenodd\" fill-opacity=\"1\" /><path clip-path=\"url(#clip650)\" d=\"M146.987 1161.03 Q143.376 1161.03 141.547 1164.6 Q139.742 1168.14 139.742 1175.27 Q139.742 1182.38 141.547 1185.94 Q143.376 1189.48 146.987 1189.48 Q150.621 1189.48 152.427 1185.94 Q154.255 1182.38 154.255 1175.27 Q154.255 1168.14 152.427 1164.6 Q150.621 1161.03 146.987 1161.03 M146.987 1157.33 Q152.797 1157.33 155.853 1161.94 Q158.931 1166.52 158.931 1175.27 Q158.931 1184 155.853 1188.6 Q152.797 1193.19 146.987 1193.19 Q141.177 1193.19 138.098 1188.6 Q135.043 1184 135.043 1175.27 Q135.043 1166.52 138.098 1161.94 Q141.177 1157.33 146.987 1157.33 Z\" fill=\"#000000\" fill-rule=\"evenodd\" fill-opacity=\"1\" /><path clip-path=\"url(#clip650)\" d=\"M177.149 1161.03 Q173.538 1161.03 171.709 1164.6 Q169.904 1168.14 169.904 1175.27 Q169.904 1182.38 171.709 1185.94 Q173.538 1189.48 177.149 1189.48 Q180.783 1189.48 182.589 1185.94 Q184.417 1182.38 184.417 1175.27 Q184.417 1168.14 182.589 1164.6 Q180.783 1161.03 177.149 1161.03 M177.149 1157.33 Q182.959 1157.33 186.015 1161.94 Q189.093 1166.52 189.093 1175.27 Q189.093 1184 186.015 1188.6 Q182.959 1193.19 177.149 1193.19 Q171.339 1193.19 168.26 1188.6 Q165.204 1184 165.204 1175.27 Q165.204 1166.52 168.26 1161.94 Q171.339 1157.33 177.149 1157.33 Z\" fill=\"#000000\" fill-rule=\"evenodd\" fill-opacity=\"1\" /><path clip-path=\"url(#clip650)\" d=\"M201.339 1188.58 L217.658 1188.58 L217.658 1192.51 L195.714 1192.51 L195.714 1188.58 Q198.376 1185.82 202.959 1181.19 Q207.565 1176.54 208.746 1175.2 Q210.991 1172.68 211.871 1170.94 Q212.774 1169.18 212.774 1167.49 Q212.774 1164.74 210.829 1163 Q208.908 1161.26 205.806 1161.26 Q203.607 1161.26 201.153 1162.03 Q198.723 1162.79 195.945 1164.34 L195.945 1159.62 Q198.769 1158.49 201.223 1157.91 Q203.676 1157.33 205.714 1157.33 Q211.084 1157.33 214.278 1160.01 Q217.473 1162.7 217.473 1167.19 Q217.473 1169.32 216.663 1171.24 Q215.876 1173.14 213.769 1175.73 Q213.19 1176.4 210.088 1179.62 Q206.987 1182.82 201.339 1188.58 Z\" fill=\"#000000\" fill-rule=\"evenodd\" fill-opacity=\"1\" /><path clip-path=\"url(#clip650)\" d=\"M227.519 1157.95 L245.875 1157.95 L245.875 1161.89 L231.801 1161.89 L231.801 1170.36 Q232.82 1170.01 233.838 1169.85 Q234.857 1169.67 235.875 1169.67 Q241.662 1169.67 245.042 1172.84 Q248.422 1176.01 248.422 1181.43 Q248.422 1187.01 244.949 1190.11 Q241.477 1193.19 235.158 1193.19 Q232.982 1193.19 230.713 1192.82 Q228.468 1192.44 226.061 1191.7 L226.061 1187.01 Q228.144 1188.14 230.366 1188.69 Q232.588 1189.25 235.065 1189.25 Q239.07 1189.25 241.408 1187.14 Q243.746 1185.04 243.746 1181.43 Q243.746 1177.82 241.408 1175.71 Q239.07 1173.6 235.065 1173.6 Q233.19 1173.6 231.315 1174.02 Q229.463 1174.44 227.519 1175.32 L227.519 1157.95 Z\" fill=\"#000000\" fill-rule=\"evenodd\" fill-opacity=\"1\" /><path clip-path=\"url(#clip650)\" d=\"M100.76 854.336 Q97.1493 854.336 95.3206 857.901 Q93.515 861.443 93.515 868.572 Q93.515 875.679 95.3206 879.244 Q97.1493 882.785 100.76 882.785 Q104.395 882.785 106.2 879.244 Q108.029 875.679 108.029 868.572 Q108.029 861.443 106.2 857.901 Q104.395 854.336 100.76 854.336 M100.76 850.633 Q106.571 850.633 109.626 855.239 Q112.705 859.822 112.705 868.572 Q112.705 877.299 109.626 881.906 Q106.571 886.489 100.76 886.489 Q94.9502 886.489 91.8715 881.906 Q88.816 877.299 88.816 868.572 Q88.816 859.822 91.8715 855.239 Q94.9502 850.633 100.76 850.633 Z\" fill=\"#000000\" fill-rule=\"evenodd\" fill-opacity=\"1\" /><path clip-path=\"url(#clip650)\" d=\"M120.922 879.938 L125.807 879.938 L125.807 885.818 L120.922 885.818 L120.922 879.938 Z\" fill=\"#000000\" fill-rule=\"evenodd\" fill-opacity=\"1\" /><path clip-path=\"url(#clip650)\" d=\"M145.992 854.336 Q142.381 854.336 140.552 857.901 Q138.746 861.443 138.746 868.572 Q138.746 875.679 140.552 879.244 Q142.381 882.785 145.992 882.785 Q149.626 882.785 151.431 879.244 Q153.26 875.679 153.26 868.572 Q153.26 861.443 151.431 857.901 Q149.626 854.336 145.992 854.336 M145.992 850.633 Q151.802 850.633 154.857 855.239 Q157.936 859.822 157.936 868.572 Q157.936 877.299 154.857 881.906 Q151.802 886.489 145.992 886.489 Q140.181 886.489 137.103 881.906 Q134.047 877.299 134.047 868.572 Q134.047 859.822 137.103 855.239 Q140.181 850.633 145.992 850.633 Z\" fill=\"#000000\" fill-rule=\"evenodd\" fill-opacity=\"1\" /><path clip-path=\"url(#clip650)\" d=\"M176.153 854.336 Q172.542 854.336 170.714 857.901 Q168.908 861.443 168.908 868.572 Q168.908 875.679 170.714 879.244 Q172.542 882.785 176.153 882.785 Q179.788 882.785 181.593 879.244 Q183.422 875.679 183.422 868.572 Q183.422 861.443 181.593 857.901 Q179.788 854.336 176.153 854.336 M176.153 850.633 Q181.964 850.633 185.019 855.239 Q188.098 859.822 188.098 868.572 Q188.098 877.299 185.019 881.906 Q181.964 886.489 176.153 886.489 Q170.343 886.489 167.265 881.906 Q164.209 877.299 164.209 868.572 Q164.209 859.822 167.265 855.239 Q170.343 850.633 176.153 850.633 Z\" fill=\"#000000\" fill-rule=\"evenodd\" fill-opacity=\"1\" /><path clip-path=\"url(#clip650)\" d=\"M206.315 854.336 Q202.704 854.336 200.876 857.901 Q199.07 861.443 199.07 868.572 Q199.07 875.679 200.876 879.244 Q202.704 882.785 206.315 882.785 Q209.95 882.785 211.755 879.244 Q213.584 875.679 213.584 868.572 Q213.584 861.443 211.755 857.901 Q209.95 854.336 206.315 854.336 M206.315 850.633 Q212.126 850.633 215.181 855.239 Q218.26 859.822 218.26 868.572 Q218.26 877.299 215.181 881.906 Q212.126 886.489 206.315 886.489 Q200.505 886.489 197.427 881.906 Q194.371 877.299 194.371 868.572 Q194.371 859.822 197.427 855.239 Q200.505 850.633 206.315 850.633 Z\" fill=\"#000000\" fill-rule=\"evenodd\" fill-opacity=\"1\" /><path clip-path=\"url(#clip650)\" d=\"M236.477 854.336 Q232.866 854.336 231.037 857.901 Q229.232 861.443 229.232 868.572 Q229.232 875.679 231.037 879.244 Q232.866 882.785 236.477 882.785 Q240.111 882.785 241.917 879.244 Q243.746 875.679 243.746 868.572 Q243.746 861.443 241.917 857.901 Q240.111 854.336 236.477 854.336 M236.477 850.633 Q242.287 850.633 245.343 855.239 Q248.422 859.822 248.422 868.572 Q248.422 877.299 245.343 881.906 Q242.287 886.489 236.477 886.489 Q230.667 886.489 227.588 881.906 Q224.533 877.299 224.533 868.572 Q224.533 859.822 227.588 855.239 Q230.667 850.633 236.477 850.633 Z\" fill=\"#000000\" fill-rule=\"evenodd\" fill-opacity=\"1\" /><path clip-path=\"url(#clip650)\" d=\"M101.756 547.639 Q98.1447 547.639 96.316 551.204 Q94.5104 554.746 94.5104 561.876 Q94.5104 568.982 96.316 572.547 Q98.1447 576.088 101.756 576.088 Q105.39 576.088 107.196 572.547 Q109.024 568.982 109.024 561.876 Q109.024 554.746 107.196 551.204 Q105.39 547.639 101.756 547.639 M101.756 543.936 Q107.566 543.936 110.621 548.542 Q113.7 553.126 113.7 561.876 Q113.7 570.602 110.621 575.209 Q107.566 579.792 101.756 579.792 Q95.9456 579.792 92.8669 575.209 Q89.8114 570.602 89.8114 561.876 Q89.8114 553.126 92.8669 548.542 Q95.9456 543.936 101.756 543.936 Z\" fill=\"#000000\" fill-rule=\"evenodd\" fill-opacity=\"1\" /><path clip-path=\"url(#clip650)\" d=\"M121.918 573.241 L126.802 573.241 L126.802 579.121 L121.918 579.121 L121.918 573.241 Z\" fill=\"#000000\" fill-rule=\"evenodd\" fill-opacity=\"1\" /><path clip-path=\"url(#clip650)\" d=\"M146.987 547.639 Q143.376 547.639 141.547 551.204 Q139.742 554.746 139.742 561.876 Q139.742 568.982 141.547 572.547 Q143.376 576.088 146.987 576.088 Q150.621 576.088 152.427 572.547 Q154.255 568.982 154.255 561.876 Q154.255 554.746 152.427 551.204 Q150.621 547.639 146.987 547.639 M146.987 543.936 Q152.797 543.936 155.853 548.542 Q158.931 553.126 158.931 561.876 Q158.931 570.602 155.853 575.209 Q152.797 579.792 146.987 579.792 Q141.177 579.792 138.098 575.209 Q135.043 570.602 135.043 561.876 Q135.043 553.126 138.098 548.542 Q141.177 543.936 146.987 543.936 Z\" fill=\"#000000\" fill-rule=\"evenodd\" fill-opacity=\"1\" /><path clip-path=\"url(#clip650)\" d=\"M177.149 547.639 Q173.538 547.639 171.709 551.204 Q169.904 554.746 169.904 561.876 Q169.904 568.982 171.709 572.547 Q173.538 576.088 177.149 576.088 Q180.783 576.088 182.589 572.547 Q184.417 568.982 184.417 561.876 Q184.417 554.746 182.589 551.204 Q180.783 547.639 177.149 547.639 M177.149 543.936 Q182.959 543.936 186.015 548.542 Q189.093 553.126 189.093 561.876 Q189.093 570.602 186.015 575.209 Q182.959 579.792 177.149 579.792 Q171.339 579.792 168.26 575.209 Q165.204 570.602 165.204 561.876 Q165.204 553.126 168.26 548.542 Q171.339 543.936 177.149 543.936 Z\" fill=\"#000000\" fill-rule=\"evenodd\" fill-opacity=\"1\" /><path clip-path=\"url(#clip650)\" d=\"M201.339 575.186 L217.658 575.186 L217.658 579.121 L195.714 579.121 L195.714 575.186 Q198.376 572.431 202.959 567.801 Q207.565 563.149 208.746 561.806 Q210.991 559.283 211.871 557.547 Q212.774 555.788 212.774 554.098 Q212.774 551.343 210.829 549.607 Q208.908 547.871 205.806 547.871 Q203.607 547.871 201.153 548.635 Q198.723 549.399 195.945 550.95 L195.945 546.227 Q198.769 545.093 201.223 544.515 Q203.676 543.936 205.714 543.936 Q211.084 543.936 214.278 546.621 Q217.473 549.306 217.473 553.797 Q217.473 555.926 216.663 557.848 Q215.876 559.746 213.769 562.338 Q213.19 563.01 210.088 566.227 Q206.987 569.422 201.339 575.186 Z\" fill=\"#000000\" fill-rule=\"evenodd\" fill-opacity=\"1\" /><path clip-path=\"url(#clip650)\" d=\"M227.519 544.561 L245.875 544.561 L245.875 548.496 L231.801 548.496 L231.801 556.968 Q232.82 556.621 233.838 556.459 Q234.857 556.274 235.875 556.274 Q241.662 556.274 245.042 559.445 Q248.422 562.616 248.422 568.033 Q248.422 573.612 244.949 576.713 Q241.477 579.792 235.158 579.792 Q232.982 579.792 230.713 579.422 Q228.468 579.051 226.061 578.311 L226.061 573.612 Q228.144 574.746 230.366 575.301 Q232.588 575.857 235.065 575.857 Q239.07 575.857 241.408 573.75 Q243.746 571.644 243.746 568.033 Q243.746 564.422 241.408 562.315 Q239.07 560.209 235.065 560.209 Q233.19 560.209 231.315 560.626 Q229.463 561.042 227.519 561.922 L227.519 544.561 Z\" fill=\"#000000\" fill-rule=\"evenodd\" fill-opacity=\"1\" /><path clip-path=\"url(#clip650)\" d=\"M100.76 240.943 Q97.1493 240.943 95.3206 244.508 Q93.515 248.049 93.515 255.179 Q93.515 262.285 95.3206 265.85 Q97.1493 269.392 100.76 269.392 Q104.395 269.392 106.2 265.85 Q108.029 262.285 108.029 255.179 Q108.029 248.049 106.2 244.508 Q104.395 240.943 100.76 240.943 M100.76 237.239 Q106.571 237.239 109.626 241.845 Q112.705 246.429 112.705 255.179 Q112.705 263.906 109.626 268.512 Q106.571 273.095 100.76 273.095 Q94.9502 273.095 91.8715 268.512 Q88.816 263.906 88.816 255.179 Q88.816 246.429 91.8715 241.845 Q94.9502 237.239 100.76 237.239 Z\" fill=\"#000000\" fill-rule=\"evenodd\" fill-opacity=\"1\" /><path clip-path=\"url(#clip650)\" d=\"M120.922 266.544 L125.807 266.544 L125.807 272.424 L120.922 272.424 L120.922 266.544 Z\" fill=\"#000000\" fill-rule=\"evenodd\" fill-opacity=\"1\" /><path clip-path=\"url(#clip650)\" d=\"M145.992 240.943 Q142.381 240.943 140.552 244.508 Q138.746 248.049 138.746 255.179 Q138.746 262.285 140.552 265.85 Q142.381 269.392 145.992 269.392 Q149.626 269.392 151.431 265.85 Q153.26 262.285 153.26 255.179 Q153.26 248.049 151.431 244.508 Q149.626 240.943 145.992 240.943 M145.992 237.239 Q151.802 237.239 154.857 241.845 Q157.936 246.429 157.936 255.179 Q157.936 263.906 154.857 268.512 Q151.802 273.095 145.992 273.095 Q140.181 273.095 137.103 268.512 Q134.047 263.906 134.047 255.179 Q134.047 246.429 137.103 241.845 Q140.181 237.239 145.992 237.239 Z\" fill=\"#000000\" fill-rule=\"evenodd\" fill-opacity=\"1\" /><path clip-path=\"url(#clip650)\" d=\"M176.153 240.943 Q172.542 240.943 170.714 244.508 Q168.908 248.049 168.908 255.179 Q168.908 262.285 170.714 265.85 Q172.542 269.392 176.153 269.392 Q179.788 269.392 181.593 265.85 Q183.422 262.285 183.422 255.179 Q183.422 248.049 181.593 244.508 Q179.788 240.943 176.153 240.943 M176.153 237.239 Q181.964 237.239 185.019 241.845 Q188.098 246.429 188.098 255.179 Q188.098 263.906 185.019 268.512 Q181.964 273.095 176.153 273.095 Q170.343 273.095 167.265 268.512 Q164.209 263.906 164.209 255.179 Q164.209 246.429 167.265 241.845 Q170.343 237.239 176.153 237.239 Z\" fill=\"#000000\" fill-rule=\"evenodd\" fill-opacity=\"1\" /><path clip-path=\"url(#clip650)\" d=\"M196.362 237.864 L214.718 237.864 L214.718 241.799 L200.644 241.799 L200.644 250.271 Q201.663 249.924 202.681 249.762 Q203.7 249.577 204.718 249.577 Q210.505 249.577 213.885 252.748 Q217.264 255.919 217.264 261.336 Q217.264 266.915 213.792 270.017 Q210.32 273.095 204.001 273.095 Q201.825 273.095 199.556 272.725 Q197.311 272.355 194.903 271.614 L194.903 266.915 Q196.987 268.049 199.209 268.605 Q201.431 269.16 203.908 269.16 Q207.913 269.16 210.251 267.054 Q212.588 264.947 212.588 261.336 Q212.588 257.725 210.251 255.619 Q207.913 253.512 203.908 253.512 Q202.033 253.512 200.158 253.929 Q198.306 254.345 196.362 255.225 L196.362 237.864 Z\" fill=\"#000000\" fill-rule=\"evenodd\" fill-opacity=\"1\" /><path clip-path=\"url(#clip650)\" d=\"M236.477 240.943 Q232.866 240.943 231.037 244.508 Q229.232 248.049 229.232 255.179 Q229.232 262.285 231.037 265.85 Q232.866 269.392 236.477 269.392 Q240.111 269.392 241.917 265.85 Q243.746 262.285 243.746 255.179 Q243.746 248.049 241.917 244.508 Q240.111 240.943 236.477 240.943 M236.477 237.239 Q242.287 237.239 245.343 241.845 Q248.422 246.429 248.422 255.179 Q248.422 263.906 245.343 268.512 Q242.287 273.095 236.477 273.095 Q230.667 273.095 227.588 268.512 Q224.533 263.906 224.533 255.179 Q224.533 246.429 227.588 241.845 Q230.667 237.239 236.477 237.239 Z\" fill=\"#000000\" fill-rule=\"evenodd\" fill-opacity=\"1\" /><polyline clip-path=\"url(#clip652)\" style=\"stroke:#009af9; stroke-linecap:round; stroke-linejoin:round; stroke-width:4; stroke-opacity:1; fill:none\" points=\"\n",
       "  342.959,554.465 382.781,610.46 422.603,709.632 462.424,925.344 502.246,1151.12 542.067,1295.53 581.889,1317.56 621.711,1136.14 661.532,1108.57 701.354,1201.77 \n",
       "  741.175,1248.98 780.997,1387.11 820.819,1414.36 860.64,1408.12 900.462,1419.26 940.283,1427.79 980.105,1388.02 1019.93,1445.72 1059.75,1395.69 1099.57,1367.06 \n",
       "  1139.39,1273.86 1179.21,1197.36 1219.03,1165.06 1258.86,1175.73 1298.68,1150.25 1338.5,1067.6 1378.32,1032.6 1418.14,1016.02 1457.96,935.111 1497.79,840.531 \n",
       "  1537.61,762.358 1577.43,612.573 1617.25,571.314 1657.07,500.198 1696.89,511.374 1736.72,559.497 1776.54,509.828 1816.36,321.57 1856.18,185.239 1896,137.927 \n",
       "  1935.82,129.839 1975.65,87.9763 2015.47,217.402 2055.29,346.076 2095.11,404.685 2134.93,503.068 2174.75,538.774 2214.57,550.727 2254.4,613.516 2294.22,613.236 \n",
       "  \n",
       "  \"/>\n",
       "<polyline clip-path=\"url(#clip652)\" style=\"stroke:#e26f46; stroke-linecap:round; stroke-linejoin:round; stroke-width:4; stroke-opacity:1; fill:none\" points=\"\n",
       "  342.959,859.562 382.781,873.641 422.603,866.611 462.424,875.325 502.246,868.182 542.067,878.388 581.889,871.477 621.711,877.349 661.532,877.966 701.354,873.511 \n",
       "  741.175,860.165 780.997,862.26 820.819,872.727 860.64,875.205 900.462,869.442 940.283,873.37 980.105,863.697 1019.93,866.881 1059.75,862.758 1099.57,864.658 \n",
       "  1139.39,868.007 1179.21,870.39 1219.03,879.126 1258.86,874.237 1298.68,869.74 1338.5,869.503 1378.32,870.355 1418.14,863.732 1457.96,871.217 1497.79,873.106 \n",
       "  1537.61,864.986 1577.43,875.246 1617.25,865.484 1657.07,874.151 1696.89,872.416 1736.72,866.71 1776.54,867.055 1816.36,867.136 1856.18,858.379 1896,868.861 \n",
       "  1935.82,869.268 1975.65,873.827 2015.47,869.45 2055.29,862.12 2095.11,857.81 2134.93,861.809 2174.75,872.117 2214.57,882.799 2254.4,870.347 2294.22,871.704 \n",
       "  \n",
       "  \"/>\n",
       "<path clip-path=\"url(#clip650)\" d=\"\n",
       "M2001.57 250.738 L2283.81 250.738 L2283.81 95.2176 L2001.57 95.2176  Z\n",
       "  \" fill=\"#ffffff\" fill-rule=\"evenodd\" fill-opacity=\"1\"/>\n",
       "<polyline clip-path=\"url(#clip650)\" style=\"stroke:#000000; stroke-linecap:round; stroke-linejoin:round; stroke-width:4; stroke-opacity:1; fill:none\" points=\"\n",
       "  2001.57,250.738 2283.81,250.738 2283.81,95.2176 2001.57,95.2176 2001.57,250.738 \n",
       "  \"/>\n",
       "<polyline clip-path=\"url(#clip650)\" style=\"stroke:#009af9; stroke-linecap:round; stroke-linejoin:round; stroke-width:4; stroke-opacity:1; fill:none\" points=\"\n",
       "  2024.55,147.058 2162.44,147.058 \n",
       "  \"/>\n",
       "<path clip-path=\"url(#clip650)\" d=\"M2199.26 166.745 Q2197.46 171.375 2195.74 172.787 Q2194.03 174.199 2191.16 174.199 L2187.76 174.199 L2187.76 170.634 L2190.26 170.634 Q2192.02 170.634 2192.99 169.8 Q2193.96 168.967 2195.14 165.865 L2195.9 163.921 L2185.42 138.412 L2189.93 138.412 L2198.03 158.689 L2206.14 138.412 L2210.65 138.412 L2199.26 166.745 Z\" fill=\"#000000\" fill-rule=\"evenodd\" fill-opacity=\"1\" /><path clip-path=\"url(#clip650)\" d=\"M2217.94 160.402 L2225.58 160.402 L2225.58 134.037 L2217.27 135.703 L2217.27 131.444 L2225.53 129.778 L2230.21 129.778 L2230.21 160.402 L2237.85 160.402 L2237.85 164.338 L2217.94 164.338 L2217.94 160.402 Z\" fill=\"#000000\" fill-rule=\"evenodd\" fill-opacity=\"1\" /><polyline clip-path=\"url(#clip650)\" style=\"stroke:#e26f46; stroke-linecap:round; stroke-linejoin:round; stroke-width:4; stroke-opacity:1; fill:none\" points=\"\n",
       "  2024.55,198.898 2162.44,198.898 \n",
       "  \"/>\n",
       "<path clip-path=\"url(#clip650)\" d=\"M2199.26 218.585 Q2197.46 223.215 2195.74 224.627 Q2194.03 226.039 2191.16 226.039 L2187.76 226.039 L2187.76 222.474 L2190.26 222.474 Q2192.02 222.474 2192.99 221.64 Q2193.96 220.807 2195.14 217.705 L2195.9 215.761 L2185.42 190.252 L2189.93 190.252 L2198.03 210.529 L2206.14 190.252 L2210.65 190.252 L2199.26 218.585 Z\" fill=\"#000000\" fill-rule=\"evenodd\" fill-opacity=\"1\" /><path clip-path=\"url(#clip650)\" d=\"M2221.16 212.242 L2237.48 212.242 L2237.48 216.178 L2215.53 216.178 L2215.53 212.242 Q2218.2 209.488 2222.78 204.858 Q2227.39 200.205 2228.57 198.863 Q2230.81 196.34 2231.69 194.604 Q2232.59 192.844 2232.59 191.155 Q2232.59 188.4 2230.65 186.664 Q2228.73 184.928 2225.63 184.928 Q2223.43 184.928 2220.97 185.692 Q2218.54 186.455 2215.77 188.006 L2215.77 183.284 Q2218.59 182.15 2221.04 181.571 Q2223.5 180.993 2225.53 180.993 Q2230.9 180.993 2234.1 183.678 Q2237.29 186.363 2237.29 190.854 Q2237.29 192.983 2236.48 194.905 Q2235.7 196.803 2233.59 199.395 Q2233.01 200.067 2229.91 203.284 Q2226.81 206.479 2221.16 212.242 Z\" fill=\"#000000\" fill-rule=\"evenodd\" fill-opacity=\"1\" /></svg>\n"
      ],
      "text/html": [
       "<?xml version=\"1.0\" encoding=\"utf-8\"?>\n",
       "<svg xmlns=\"http://www.w3.org/2000/svg\" xmlns:xlink=\"http://www.w3.org/1999/xlink\" width=\"600\" height=\"400\" viewBox=\"0 0 2400 1600\">\n",
       "<defs>\n",
       "  <clipPath id=\"clip700\">\n",
       "    <rect x=\"0\" y=\"0\" width=\"2400\" height=\"1600\"/>\n",
       "  </clipPath>\n",
       "</defs>\n",
       "<path clip-path=\"url(#clip700)\" d=\"\n",
       "M0 1600 L2400 1600 L2400 0 L0 0  Z\n",
       "  \" fill=\"#ffffff\" fill-rule=\"evenodd\" fill-opacity=\"1\"/>\n",
       "<defs>\n",
       "  <clipPath id=\"clip701\">\n",
       "    <rect x=\"480\" y=\"0\" width=\"1681\" height=\"1600\"/>\n",
       "  </clipPath>\n",
       "</defs>\n",
       "<path clip-path=\"url(#clip700)\" d=\"\n",
       "M284.422 1486.45 L2352.76 1486.45 L2352.76 47.2441 L284.422 47.2441  Z\n",
       "  \" fill=\"#ffffff\" fill-rule=\"evenodd\" fill-opacity=\"1\"/>\n",
       "<defs>\n",
       "  <clipPath id=\"clip702\">\n",
       "    <rect x=\"284\" y=\"47\" width=\"2069\" height=\"1440\"/>\n",
       "  </clipPath>\n",
       "</defs>\n",
       "<polyline clip-path=\"url(#clip702)\" style=\"stroke:#000000; stroke-linecap:round; stroke-linejoin:round; stroke-width:2; stroke-opacity:0.1; fill:none\" points=\"\n",
       "  303.138,1486.45 303.138,47.2441 \n",
       "  \"/>\n",
       "<polyline clip-path=\"url(#clip702)\" style=\"stroke:#000000; stroke-linecap:round; stroke-linejoin:round; stroke-width:2; stroke-opacity:0.1; fill:none\" points=\"\n",
       "  701.354,1486.45 701.354,47.2441 \n",
       "  \"/>\n",
       "<polyline clip-path=\"url(#clip702)\" style=\"stroke:#000000; stroke-linecap:round; stroke-linejoin:round; stroke-width:2; stroke-opacity:0.1; fill:none\" points=\"\n",
       "  1099.57,1486.45 1099.57,47.2441 \n",
       "  \"/>\n",
       "<polyline clip-path=\"url(#clip702)\" style=\"stroke:#000000; stroke-linecap:round; stroke-linejoin:round; stroke-width:2; stroke-opacity:0.1; fill:none\" points=\"\n",
       "  1497.79,1486.45 1497.79,47.2441 \n",
       "  \"/>\n",
       "<polyline clip-path=\"url(#clip702)\" style=\"stroke:#000000; stroke-linecap:round; stroke-linejoin:round; stroke-width:2; stroke-opacity:0.1; fill:none\" points=\"\n",
       "  1896,1486.45 1896,47.2441 \n",
       "  \"/>\n",
       "<polyline clip-path=\"url(#clip702)\" style=\"stroke:#000000; stroke-linecap:round; stroke-linejoin:round; stroke-width:2; stroke-opacity:0.1; fill:none\" points=\"\n",
       "  2294.22,1486.45 2294.22,47.2441 \n",
       "  \"/>\n",
       "<polyline clip-path=\"url(#clip700)\" style=\"stroke:#000000; stroke-linecap:round; stroke-linejoin:round; stroke-width:4; stroke-opacity:1; fill:none\" points=\"\n",
       "  284.422,1486.45 2352.76,1486.45 \n",
       "  \"/>\n",
       "<polyline clip-path=\"url(#clip700)\" style=\"stroke:#000000; stroke-linecap:round; stroke-linejoin:round; stroke-width:4; stroke-opacity:1; fill:none\" points=\"\n",
       "  303.138,1486.45 303.138,1467.55 \n",
       "  \"/>\n",
       "<polyline clip-path=\"url(#clip700)\" style=\"stroke:#000000; stroke-linecap:round; stroke-linejoin:round; stroke-width:4; stroke-opacity:1; fill:none\" points=\"\n",
       "  701.354,1486.45 701.354,1467.55 \n",
       "  \"/>\n",
       "<polyline clip-path=\"url(#clip700)\" style=\"stroke:#000000; stroke-linecap:round; stroke-linejoin:round; stroke-width:4; stroke-opacity:1; fill:none\" points=\"\n",
       "  1099.57,1486.45 1099.57,1467.55 \n",
       "  \"/>\n",
       "<polyline clip-path=\"url(#clip700)\" style=\"stroke:#000000; stroke-linecap:round; stroke-linejoin:round; stroke-width:4; stroke-opacity:1; fill:none\" points=\"\n",
       "  1497.79,1486.45 1497.79,1467.55 \n",
       "  \"/>\n",
       "<polyline clip-path=\"url(#clip700)\" style=\"stroke:#000000; stroke-linecap:round; stroke-linejoin:round; stroke-width:4; stroke-opacity:1; fill:none\" points=\"\n",
       "  1896,1486.45 1896,1467.55 \n",
       "  \"/>\n",
       "<polyline clip-path=\"url(#clip700)\" style=\"stroke:#000000; stroke-linecap:round; stroke-linejoin:round; stroke-width:4; stroke-opacity:1; fill:none\" points=\"\n",
       "  2294.22,1486.45 2294.22,1467.55 \n",
       "  \"/>\n",
       "<path clip-path=\"url(#clip700)\" d=\"M303.138 1517.37 Q299.527 1517.37 297.698 1520.93 Q295.892 1524.47 295.892 1531.6 Q295.892 1538.71 297.698 1542.27 Q299.527 1545.82 303.138 1545.82 Q306.772 1545.82 308.578 1542.27 Q310.406 1538.71 310.406 1531.6 Q310.406 1524.47 308.578 1520.93 Q306.772 1517.37 303.138 1517.37 M303.138 1513.66 Q308.948 1513.66 312.003 1518.27 Q315.082 1522.85 315.082 1531.6 Q315.082 1540.33 312.003 1544.94 Q308.948 1549.52 303.138 1549.52 Q297.328 1549.52 294.249 1544.94 Q291.193 1540.33 291.193 1531.6 Q291.193 1522.85 294.249 1518.27 Q297.328 1513.66 303.138 1513.66 Z\" fill=\"#000000\" fill-rule=\"evenodd\" fill-opacity=\"1\" /><path clip-path=\"url(#clip700)\" d=\"M676.041 1544.91 L683.68 1544.91 L683.68 1518.55 L675.37 1520.21 L675.37 1515.95 L683.634 1514.29 L688.31 1514.29 L688.31 1544.91 L695.949 1544.91 L695.949 1548.85 L676.041 1548.85 L676.041 1544.91 Z\" fill=\"#000000\" fill-rule=\"evenodd\" fill-opacity=\"1\" /><path clip-path=\"url(#clip700)\" d=\"M715.393 1517.37 Q711.782 1517.37 709.953 1520.93 Q708.148 1524.47 708.148 1531.6 Q708.148 1538.71 709.953 1542.27 Q711.782 1545.82 715.393 1545.82 Q719.027 1545.82 720.833 1542.27 Q722.662 1538.71 722.662 1531.6 Q722.662 1524.47 720.833 1520.93 Q719.027 1517.37 715.393 1517.37 M715.393 1513.66 Q721.203 1513.66 724.259 1518.27 Q727.338 1522.85 727.338 1531.6 Q727.338 1540.33 724.259 1544.94 Q721.203 1549.52 715.393 1549.52 Q709.583 1549.52 706.504 1544.94 Q703.449 1540.33 703.449 1531.6 Q703.449 1522.85 706.504 1518.27 Q709.583 1513.66 715.393 1513.66 Z\" fill=\"#000000\" fill-rule=\"evenodd\" fill-opacity=\"1\" /><path clip-path=\"url(#clip700)\" d=\"M1078.34 1544.91 L1094.66 1544.91 L1094.66 1548.85 L1072.72 1548.85 L1072.72 1544.91 Q1075.38 1542.16 1079.96 1537.53 Q1084.57 1532.88 1085.75 1531.53 Q1088 1529.01 1088.88 1527.27 Q1089.78 1525.51 1089.78 1523.82 Q1089.78 1521.07 1087.83 1519.33 Q1085.91 1517.6 1082.81 1517.6 Q1080.61 1517.6 1078.16 1518.36 Q1075.73 1519.13 1072.95 1520.68 L1072.95 1515.95 Q1075.77 1514.82 1078.23 1514.24 Q1080.68 1513.66 1082.72 1513.66 Q1088.09 1513.66 1091.28 1516.35 Q1094.48 1519.03 1094.48 1523.52 Q1094.48 1525.65 1093.67 1527.57 Q1092.88 1529.47 1090.77 1532.07 Q1090.19 1532.74 1087.09 1535.95 Q1083.99 1539.15 1078.34 1544.91 Z\" fill=\"#000000\" fill-rule=\"evenodd\" fill-opacity=\"1\" /><path clip-path=\"url(#clip700)\" d=\"M1114.48 1517.37 Q1110.87 1517.37 1109.04 1520.93 Q1107.23 1524.47 1107.23 1531.6 Q1107.23 1538.71 1109.04 1542.27 Q1110.87 1545.82 1114.48 1545.82 Q1118.11 1545.82 1119.92 1542.27 Q1121.75 1538.71 1121.75 1531.6 Q1121.75 1524.47 1119.92 1520.93 Q1118.11 1517.37 1114.48 1517.37 M1114.48 1513.66 Q1120.29 1513.66 1123.34 1518.27 Q1126.42 1522.85 1126.42 1531.6 Q1126.42 1540.33 1123.34 1544.94 Q1120.29 1549.52 1114.48 1549.52 Q1108.67 1549.52 1105.59 1544.94 Q1102.53 1540.33 1102.53 1531.6 Q1102.53 1522.85 1105.59 1518.27 Q1108.67 1513.66 1114.48 1513.66 Z\" fill=\"#000000\" fill-rule=\"evenodd\" fill-opacity=\"1\" /><path clip-path=\"url(#clip700)\" d=\"M1486.63 1530.21 Q1489.99 1530.93 1491.86 1533.2 Q1493.76 1535.47 1493.76 1538.8 Q1493.76 1543.92 1490.24 1546.72 Q1486.72 1549.52 1480.24 1549.52 Q1478.06 1549.52 1475.75 1549.08 Q1473.46 1548.66 1471 1547.81 L1471 1543.29 Q1472.95 1544.43 1475.26 1545.01 Q1477.58 1545.58 1480.1 1545.58 Q1484.5 1545.58 1486.79 1543.85 Q1489.11 1542.11 1489.11 1538.8 Q1489.11 1535.75 1486.95 1534.03 Q1484.82 1532.3 1481 1532.3 L1476.98 1532.3 L1476.98 1528.45 L1481.19 1528.45 Q1484.64 1528.45 1486.47 1527.09 Q1488.3 1525.7 1488.3 1523.11 Q1488.3 1520.45 1486.4 1519.03 Q1484.52 1517.6 1481 1517.6 Q1479.08 1517.6 1476.88 1518.01 Q1474.68 1518.43 1472.05 1519.31 L1472.05 1515.14 Q1474.71 1514.4 1477.02 1514.03 Q1479.36 1513.66 1481.42 1513.66 Q1486.74 1513.66 1489.85 1516.09 Q1492.95 1518.5 1492.95 1522.62 Q1492.95 1525.49 1491.3 1527.48 Q1489.66 1529.45 1486.63 1530.21 Z\" fill=\"#000000\" fill-rule=\"evenodd\" fill-opacity=\"1\" /><path clip-path=\"url(#clip700)\" d=\"M1512.62 1517.37 Q1509.01 1517.37 1507.18 1520.93 Q1505.38 1524.47 1505.38 1531.6 Q1505.38 1538.71 1507.18 1542.27 Q1509.01 1545.82 1512.62 1545.82 Q1516.26 1545.82 1518.06 1542.27 Q1519.89 1538.71 1519.89 1531.6 Q1519.89 1524.47 1518.06 1520.93 Q1516.26 1517.37 1512.62 1517.37 M1512.62 1513.66 Q1518.43 1513.66 1521.49 1518.27 Q1524.57 1522.85 1524.57 1531.6 Q1524.57 1540.33 1521.49 1544.94 Q1518.43 1549.52 1512.62 1549.52 Q1506.81 1549.52 1503.74 1544.94 Q1500.68 1540.33 1500.68 1531.6 Q1500.68 1522.85 1503.74 1518.27 Q1506.81 1513.66 1512.62 1513.66 Z\" fill=\"#000000\" fill-rule=\"evenodd\" fill-opacity=\"1\" /><path clip-path=\"url(#clip700)\" d=\"M1884.17 1518.36 L1872.37 1536.81 L1884.17 1536.81 L1884.17 1518.36 M1882.95 1514.29 L1888.83 1514.29 L1888.83 1536.81 L1893.76 1536.81 L1893.76 1540.7 L1888.83 1540.7 L1888.83 1548.85 L1884.17 1548.85 L1884.17 1540.7 L1868.57 1540.7 L1868.57 1536.19 L1882.95 1514.29 Z\" fill=\"#000000\" fill-rule=\"evenodd\" fill-opacity=\"1\" /><path clip-path=\"url(#clip700)\" d=\"M1911.49 1517.37 Q1907.88 1517.37 1906.05 1520.93 Q1904.24 1524.47 1904.24 1531.6 Q1904.24 1538.71 1906.05 1542.27 Q1907.88 1545.82 1911.49 1545.82 Q1915.12 1545.82 1916.93 1542.27 Q1918.76 1538.71 1918.76 1531.6 Q1918.76 1524.47 1916.93 1520.93 Q1915.12 1517.37 1911.49 1517.37 M1911.49 1513.66 Q1917.3 1513.66 1920.35 1518.27 Q1923.43 1522.85 1923.43 1531.6 Q1923.43 1540.33 1920.35 1544.94 Q1917.3 1549.52 1911.49 1549.52 Q1905.68 1549.52 1902.6 1544.94 Q1899.54 1540.33 1899.54 1531.6 Q1899.54 1522.85 1902.6 1518.27 Q1905.68 1513.66 1911.49 1513.66 Z\" fill=\"#000000\" fill-rule=\"evenodd\" fill-opacity=\"1\" /><path clip-path=\"url(#clip700)\" d=\"M2268.92 1514.29 L2287.27 1514.29 L2287.27 1518.22 L2273.2 1518.22 L2273.2 1526.7 Q2274.22 1526.35 2275.24 1526.19 Q2276.26 1526 2277.27 1526 Q2283.06 1526 2286.44 1529.17 Q2289.82 1532.34 2289.82 1537.76 Q2289.82 1543.34 2286.35 1546.44 Q2282.88 1549.52 2276.56 1549.52 Q2274.38 1549.52 2272.11 1549.15 Q2269.87 1548.78 2267.46 1548.04 L2267.46 1543.34 Q2269.54 1544.47 2271.76 1545.03 Q2273.99 1545.58 2276.46 1545.58 Q2280.47 1545.58 2282.81 1543.48 Q2285.14 1541.37 2285.14 1537.76 Q2285.14 1534.15 2282.81 1532.04 Q2280.47 1529.94 2276.46 1529.94 Q2274.59 1529.94 2272.71 1530.35 Q2270.86 1530.77 2268.92 1531.65 L2268.92 1514.29 Z\" fill=\"#000000\" fill-rule=\"evenodd\" fill-opacity=\"1\" /><path clip-path=\"url(#clip700)\" d=\"M2309.03 1517.37 Q2305.42 1517.37 2303.59 1520.93 Q2301.79 1524.47 2301.79 1531.6 Q2301.79 1538.71 2303.59 1542.27 Q2305.42 1545.82 2309.03 1545.82 Q2312.67 1545.82 2314.47 1542.27 Q2316.3 1538.71 2316.3 1531.6 Q2316.3 1524.47 2314.47 1520.93 Q2312.67 1517.37 2309.03 1517.37 M2309.03 1513.66 Q2314.84 1513.66 2317.9 1518.27 Q2320.98 1522.85 2320.98 1531.6 Q2320.98 1540.33 2317.9 1544.94 Q2314.84 1549.52 2309.03 1549.52 Q2303.22 1549.52 2300.14 1544.94 Q2297.09 1540.33 2297.09 1531.6 Q2297.09 1522.85 2300.14 1518.27 Q2303.22 1513.66 2309.03 1513.66 Z\" fill=\"#000000\" fill-rule=\"evenodd\" fill-opacity=\"1\" /><polyline clip-path=\"url(#clip702)\" style=\"stroke:#000000; stroke-linecap:round; stroke-linejoin:round; stroke-width:2; stroke-opacity:0.1; fill:none\" points=\"\n",
       "  284.422,1481.93 2352.76,1481.93 \n",
       "  \"/>\n",
       "<polyline clip-path=\"url(#clip702)\" style=\"stroke:#000000; stroke-linecap:round; stroke-linejoin:round; stroke-width:2; stroke-opacity:0.1; fill:none\" points=\"\n",
       "  284.422,1175.23 2352.76,1175.23 \n",
       "  \"/>\n",
       "<polyline clip-path=\"url(#clip702)\" style=\"stroke:#000000; stroke-linecap:round; stroke-linejoin:round; stroke-width:2; stroke-opacity:0.1; fill:none\" points=\"\n",
       "  284.422,868.538 2352.76,868.538 \n",
       "  \"/>\n",
       "<polyline clip-path=\"url(#clip702)\" style=\"stroke:#000000; stroke-linecap:round; stroke-linejoin:round; stroke-width:2; stroke-opacity:0.1; fill:none\" points=\"\n",
       "  284.422,561.841 2352.76,561.841 \n",
       "  \"/>\n",
       "<polyline clip-path=\"url(#clip702)\" style=\"stroke:#000000; stroke-linecap:round; stroke-linejoin:round; stroke-width:2; stroke-opacity:0.1; fill:none\" points=\"\n",
       "  284.422,255.144 2352.76,255.144 \n",
       "  \"/>\n",
       "<polyline clip-path=\"url(#clip700)\" style=\"stroke:#000000; stroke-linecap:round; stroke-linejoin:round; stroke-width:4; stroke-opacity:1; fill:none\" points=\"\n",
       "  284.422,1486.45 284.422,47.2441 \n",
       "  \"/>\n",
       "<polyline clip-path=\"url(#clip700)\" style=\"stroke:#000000; stroke-linecap:round; stroke-linejoin:round; stroke-width:4; stroke-opacity:1; fill:none\" points=\"\n",
       "  284.422,1481.93 303.319,1481.93 \n",
       "  \"/>\n",
       "<polyline clip-path=\"url(#clip700)\" style=\"stroke:#000000; stroke-linecap:round; stroke-linejoin:round; stroke-width:4; stroke-opacity:1; fill:none\" points=\"\n",
       "  284.422,1175.23 303.319,1175.23 \n",
       "  \"/>\n",
       "<polyline clip-path=\"url(#clip700)\" style=\"stroke:#000000; stroke-linecap:round; stroke-linejoin:round; stroke-width:4; stroke-opacity:1; fill:none\" points=\"\n",
       "  284.422,868.538 303.319,868.538 \n",
       "  \"/>\n",
       "<polyline clip-path=\"url(#clip700)\" style=\"stroke:#000000; stroke-linecap:round; stroke-linejoin:round; stroke-width:4; stroke-opacity:1; fill:none\" points=\"\n",
       "  284.422,561.841 303.319,561.841 \n",
       "  \"/>\n",
       "<polyline clip-path=\"url(#clip700)\" style=\"stroke:#000000; stroke-linecap:round; stroke-linejoin:round; stroke-width:4; stroke-opacity:1; fill:none\" points=\"\n",
       "  284.422,255.144 303.319,255.144 \n",
       "  \"/>\n",
       "<path clip-path=\"url(#clip700)\" d=\"M50.9921 1482.38 L80.6679 1482.38 L80.6679 1486.32 L50.9921 1486.32 L50.9921 1482.38 Z\" fill=\"#000000\" fill-rule=\"evenodd\" fill-opacity=\"1\" /><path clip-path=\"url(#clip700)\" d=\"M100.76 1467.73 Q97.1493 1467.73 95.3206 1471.29 Q93.515 1474.84 93.515 1481.97 Q93.515 1489.07 95.3206 1492.64 Q97.1493 1496.18 100.76 1496.18 Q104.395 1496.18 106.2 1492.64 Q108.029 1489.07 108.029 1481.97 Q108.029 1474.84 106.2 1471.29 Q104.395 1467.73 100.76 1467.73 M100.76 1464.03 Q106.571 1464.03 109.626 1468.63 Q112.705 1473.22 112.705 1481.97 Q112.705 1490.69 109.626 1495.3 Q106.571 1499.88 100.76 1499.88 Q94.9502 1499.88 91.8715 1495.3 Q88.816 1490.69 88.816 1481.97 Q88.816 1473.22 91.8715 1468.63 Q94.9502 1464.03 100.76 1464.03 Z\" fill=\"#000000\" fill-rule=\"evenodd\" fill-opacity=\"1\" /><path clip-path=\"url(#clip700)\" d=\"M120.922 1493.33 L125.807 1493.33 L125.807 1499.21 L120.922 1499.21 L120.922 1493.33 Z\" fill=\"#000000\" fill-rule=\"evenodd\" fill-opacity=\"1\" /><path clip-path=\"url(#clip700)\" d=\"M145.992 1467.73 Q142.381 1467.73 140.552 1471.29 Q138.746 1474.84 138.746 1481.97 Q138.746 1489.07 140.552 1492.64 Q142.381 1496.18 145.992 1496.18 Q149.626 1496.18 151.431 1492.64 Q153.26 1489.07 153.26 1481.97 Q153.26 1474.84 151.431 1471.29 Q149.626 1467.73 145.992 1467.73 M145.992 1464.03 Q151.802 1464.03 154.857 1468.63 Q157.936 1473.22 157.936 1481.97 Q157.936 1490.69 154.857 1495.3 Q151.802 1499.88 145.992 1499.88 Q140.181 1499.88 137.103 1495.3 Q134.047 1490.69 134.047 1481.97 Q134.047 1473.22 137.103 1468.63 Q140.181 1464.03 145.992 1464.03 Z\" fill=\"#000000\" fill-rule=\"evenodd\" fill-opacity=\"1\" /><path clip-path=\"url(#clip700)\" d=\"M176.153 1467.73 Q172.542 1467.73 170.714 1471.29 Q168.908 1474.84 168.908 1481.97 Q168.908 1489.07 170.714 1492.64 Q172.542 1496.18 176.153 1496.18 Q179.788 1496.18 181.593 1492.64 Q183.422 1489.07 183.422 1481.97 Q183.422 1474.84 181.593 1471.29 Q179.788 1467.73 176.153 1467.73 M176.153 1464.03 Q181.964 1464.03 185.019 1468.63 Q188.098 1473.22 188.098 1481.97 Q188.098 1490.69 185.019 1495.3 Q181.964 1499.88 176.153 1499.88 Q170.343 1499.88 167.265 1495.3 Q164.209 1490.69 164.209 1481.97 Q164.209 1473.22 167.265 1468.63 Q170.343 1464.03 176.153 1464.03 Z\" fill=\"#000000\" fill-rule=\"evenodd\" fill-opacity=\"1\" /><path clip-path=\"url(#clip700)\" d=\"M196.362 1464.65 L214.718 1464.65 L214.718 1468.59 L200.644 1468.59 L200.644 1477.06 Q201.663 1476.71 202.681 1476.55 Q203.7 1476.36 204.718 1476.36 Q210.505 1476.36 213.885 1479.54 Q217.264 1482.71 217.264 1488.12 Q217.264 1493.7 213.792 1496.8 Q210.32 1499.88 204.001 1499.88 Q201.825 1499.88 199.556 1499.51 Q197.311 1499.14 194.903 1498.4 L194.903 1493.7 Q196.987 1494.84 199.209 1495.39 Q201.431 1495.95 203.908 1495.95 Q207.913 1495.95 210.251 1493.84 Q212.588 1491.73 212.588 1488.12 Q212.588 1484.51 210.251 1482.41 Q207.913 1480.3 203.908 1480.3 Q202.033 1480.3 200.158 1480.72 Q198.306 1481.13 196.362 1482.01 L196.362 1464.65 Z\" fill=\"#000000\" fill-rule=\"evenodd\" fill-opacity=\"1\" /><path clip-path=\"url(#clip700)\" d=\"M236.477 1467.73 Q232.866 1467.73 231.037 1471.29 Q229.232 1474.84 229.232 1481.97 Q229.232 1489.07 231.037 1492.64 Q232.866 1496.18 236.477 1496.18 Q240.111 1496.18 241.917 1492.64 Q243.746 1489.07 243.746 1481.97 Q243.746 1474.84 241.917 1471.29 Q240.111 1467.73 236.477 1467.73 M236.477 1464.03 Q242.287 1464.03 245.343 1468.63 Q248.422 1473.22 248.422 1481.97 Q248.422 1490.69 245.343 1495.3 Q242.287 1499.88 236.477 1499.88 Q230.667 1499.88 227.588 1495.3 Q224.533 1490.69 224.533 1481.97 Q224.533 1473.22 227.588 1468.63 Q230.667 1464.03 236.477 1464.03 Z\" fill=\"#000000\" fill-rule=\"evenodd\" fill-opacity=\"1\" /><path clip-path=\"url(#clip700)\" d=\"M51.9875 1175.69 L81.6633 1175.69 L81.6633 1179.62 L51.9875 1179.62 L51.9875 1175.69 Z\" fill=\"#000000\" fill-rule=\"evenodd\" fill-opacity=\"1\" /><path clip-path=\"url(#clip700)\" d=\"M101.756 1161.03 Q98.1447 1161.03 96.316 1164.6 Q94.5104 1168.14 94.5104 1175.27 Q94.5104 1182.38 96.316 1185.94 Q98.1447 1189.48 101.756 1189.48 Q105.39 1189.48 107.196 1185.94 Q109.024 1182.38 109.024 1175.27 Q109.024 1168.14 107.196 1164.6 Q105.39 1161.03 101.756 1161.03 M101.756 1157.33 Q107.566 1157.33 110.621 1161.94 Q113.7 1166.52 113.7 1175.27 Q113.7 1184 110.621 1188.6 Q107.566 1193.19 101.756 1193.19 Q95.9456 1193.19 92.8669 1188.6 Q89.8114 1184 89.8114 1175.27 Q89.8114 1166.52 92.8669 1161.94 Q95.9456 1157.33 101.756 1157.33 Z\" fill=\"#000000\" fill-rule=\"evenodd\" fill-opacity=\"1\" /><path clip-path=\"url(#clip700)\" d=\"M121.918 1186.63 L126.802 1186.63 L126.802 1192.51 L121.918 1192.51 L121.918 1186.63 Z\" fill=\"#000000\" fill-rule=\"evenodd\" fill-opacity=\"1\" /><path clip-path=\"url(#clip700)\" d=\"M146.987 1161.03 Q143.376 1161.03 141.547 1164.6 Q139.742 1168.14 139.742 1175.27 Q139.742 1182.38 141.547 1185.94 Q143.376 1189.48 146.987 1189.48 Q150.621 1189.48 152.427 1185.94 Q154.255 1182.38 154.255 1175.27 Q154.255 1168.14 152.427 1164.6 Q150.621 1161.03 146.987 1161.03 M146.987 1157.33 Q152.797 1157.33 155.853 1161.94 Q158.931 1166.52 158.931 1175.27 Q158.931 1184 155.853 1188.6 Q152.797 1193.19 146.987 1193.19 Q141.177 1193.19 138.098 1188.6 Q135.043 1184 135.043 1175.27 Q135.043 1166.52 138.098 1161.94 Q141.177 1157.33 146.987 1157.33 Z\" fill=\"#000000\" fill-rule=\"evenodd\" fill-opacity=\"1\" /><path clip-path=\"url(#clip700)\" d=\"M177.149 1161.03 Q173.538 1161.03 171.709 1164.6 Q169.904 1168.14 169.904 1175.27 Q169.904 1182.38 171.709 1185.94 Q173.538 1189.48 177.149 1189.48 Q180.783 1189.48 182.589 1185.94 Q184.417 1182.38 184.417 1175.27 Q184.417 1168.14 182.589 1164.6 Q180.783 1161.03 177.149 1161.03 M177.149 1157.33 Q182.959 1157.33 186.015 1161.94 Q189.093 1166.52 189.093 1175.27 Q189.093 1184 186.015 1188.6 Q182.959 1193.19 177.149 1193.19 Q171.339 1193.19 168.26 1188.6 Q165.204 1184 165.204 1175.27 Q165.204 1166.52 168.26 1161.94 Q171.339 1157.33 177.149 1157.33 Z\" fill=\"#000000\" fill-rule=\"evenodd\" fill-opacity=\"1\" /><path clip-path=\"url(#clip700)\" d=\"M201.339 1188.58 L217.658 1188.58 L217.658 1192.51 L195.714 1192.51 L195.714 1188.58 Q198.376 1185.82 202.959 1181.19 Q207.565 1176.54 208.746 1175.2 Q210.991 1172.68 211.871 1170.94 Q212.774 1169.18 212.774 1167.49 Q212.774 1164.74 210.829 1163 Q208.908 1161.26 205.806 1161.26 Q203.607 1161.26 201.153 1162.03 Q198.723 1162.79 195.945 1164.34 L195.945 1159.62 Q198.769 1158.49 201.223 1157.91 Q203.676 1157.33 205.714 1157.33 Q211.084 1157.33 214.278 1160.01 Q217.473 1162.7 217.473 1167.19 Q217.473 1169.32 216.663 1171.24 Q215.876 1173.14 213.769 1175.73 Q213.19 1176.4 210.088 1179.62 Q206.987 1182.82 201.339 1188.58 Z\" fill=\"#000000\" fill-rule=\"evenodd\" fill-opacity=\"1\" /><path clip-path=\"url(#clip700)\" d=\"M227.519 1157.95 L245.875 1157.95 L245.875 1161.89 L231.801 1161.89 L231.801 1170.36 Q232.82 1170.01 233.838 1169.85 Q234.857 1169.67 235.875 1169.67 Q241.662 1169.67 245.042 1172.84 Q248.422 1176.01 248.422 1181.43 Q248.422 1187.01 244.949 1190.11 Q241.477 1193.19 235.158 1193.19 Q232.982 1193.19 230.713 1192.82 Q228.468 1192.44 226.061 1191.7 L226.061 1187.01 Q228.144 1188.14 230.366 1188.69 Q232.588 1189.25 235.065 1189.25 Q239.07 1189.25 241.408 1187.14 Q243.746 1185.04 243.746 1181.43 Q243.746 1177.82 241.408 1175.71 Q239.07 1173.6 235.065 1173.6 Q233.19 1173.6 231.315 1174.02 Q229.463 1174.44 227.519 1175.32 L227.519 1157.95 Z\" fill=\"#000000\" fill-rule=\"evenodd\" fill-opacity=\"1\" /><path clip-path=\"url(#clip700)\" d=\"M100.76 854.336 Q97.1493 854.336 95.3206 857.901 Q93.515 861.443 93.515 868.572 Q93.515 875.679 95.3206 879.244 Q97.1493 882.785 100.76 882.785 Q104.395 882.785 106.2 879.244 Q108.029 875.679 108.029 868.572 Q108.029 861.443 106.2 857.901 Q104.395 854.336 100.76 854.336 M100.76 850.633 Q106.571 850.633 109.626 855.239 Q112.705 859.822 112.705 868.572 Q112.705 877.299 109.626 881.906 Q106.571 886.489 100.76 886.489 Q94.9502 886.489 91.8715 881.906 Q88.816 877.299 88.816 868.572 Q88.816 859.822 91.8715 855.239 Q94.9502 850.633 100.76 850.633 Z\" fill=\"#000000\" fill-rule=\"evenodd\" fill-opacity=\"1\" /><path clip-path=\"url(#clip700)\" d=\"M120.922 879.938 L125.807 879.938 L125.807 885.818 L120.922 885.818 L120.922 879.938 Z\" fill=\"#000000\" fill-rule=\"evenodd\" fill-opacity=\"1\" /><path clip-path=\"url(#clip700)\" d=\"M145.992 854.336 Q142.381 854.336 140.552 857.901 Q138.746 861.443 138.746 868.572 Q138.746 875.679 140.552 879.244 Q142.381 882.785 145.992 882.785 Q149.626 882.785 151.431 879.244 Q153.26 875.679 153.26 868.572 Q153.26 861.443 151.431 857.901 Q149.626 854.336 145.992 854.336 M145.992 850.633 Q151.802 850.633 154.857 855.239 Q157.936 859.822 157.936 868.572 Q157.936 877.299 154.857 881.906 Q151.802 886.489 145.992 886.489 Q140.181 886.489 137.103 881.906 Q134.047 877.299 134.047 868.572 Q134.047 859.822 137.103 855.239 Q140.181 850.633 145.992 850.633 Z\" fill=\"#000000\" fill-rule=\"evenodd\" fill-opacity=\"1\" /><path clip-path=\"url(#clip700)\" d=\"M176.153 854.336 Q172.542 854.336 170.714 857.901 Q168.908 861.443 168.908 868.572 Q168.908 875.679 170.714 879.244 Q172.542 882.785 176.153 882.785 Q179.788 882.785 181.593 879.244 Q183.422 875.679 183.422 868.572 Q183.422 861.443 181.593 857.901 Q179.788 854.336 176.153 854.336 M176.153 850.633 Q181.964 850.633 185.019 855.239 Q188.098 859.822 188.098 868.572 Q188.098 877.299 185.019 881.906 Q181.964 886.489 176.153 886.489 Q170.343 886.489 167.265 881.906 Q164.209 877.299 164.209 868.572 Q164.209 859.822 167.265 855.239 Q170.343 850.633 176.153 850.633 Z\" fill=\"#000000\" fill-rule=\"evenodd\" fill-opacity=\"1\" /><path clip-path=\"url(#clip700)\" d=\"M206.315 854.336 Q202.704 854.336 200.876 857.901 Q199.07 861.443 199.07 868.572 Q199.07 875.679 200.876 879.244 Q202.704 882.785 206.315 882.785 Q209.95 882.785 211.755 879.244 Q213.584 875.679 213.584 868.572 Q213.584 861.443 211.755 857.901 Q209.95 854.336 206.315 854.336 M206.315 850.633 Q212.126 850.633 215.181 855.239 Q218.26 859.822 218.26 868.572 Q218.26 877.299 215.181 881.906 Q212.126 886.489 206.315 886.489 Q200.505 886.489 197.427 881.906 Q194.371 877.299 194.371 868.572 Q194.371 859.822 197.427 855.239 Q200.505 850.633 206.315 850.633 Z\" fill=\"#000000\" fill-rule=\"evenodd\" fill-opacity=\"1\" /><path clip-path=\"url(#clip700)\" d=\"M236.477 854.336 Q232.866 854.336 231.037 857.901 Q229.232 861.443 229.232 868.572 Q229.232 875.679 231.037 879.244 Q232.866 882.785 236.477 882.785 Q240.111 882.785 241.917 879.244 Q243.746 875.679 243.746 868.572 Q243.746 861.443 241.917 857.901 Q240.111 854.336 236.477 854.336 M236.477 850.633 Q242.287 850.633 245.343 855.239 Q248.422 859.822 248.422 868.572 Q248.422 877.299 245.343 881.906 Q242.287 886.489 236.477 886.489 Q230.667 886.489 227.588 881.906 Q224.533 877.299 224.533 868.572 Q224.533 859.822 227.588 855.239 Q230.667 850.633 236.477 850.633 Z\" fill=\"#000000\" fill-rule=\"evenodd\" fill-opacity=\"1\" /><path clip-path=\"url(#clip700)\" d=\"M101.756 547.639 Q98.1447 547.639 96.316 551.204 Q94.5104 554.746 94.5104 561.876 Q94.5104 568.982 96.316 572.547 Q98.1447 576.088 101.756 576.088 Q105.39 576.088 107.196 572.547 Q109.024 568.982 109.024 561.876 Q109.024 554.746 107.196 551.204 Q105.39 547.639 101.756 547.639 M101.756 543.936 Q107.566 543.936 110.621 548.542 Q113.7 553.126 113.7 561.876 Q113.7 570.602 110.621 575.209 Q107.566 579.792 101.756 579.792 Q95.9456 579.792 92.8669 575.209 Q89.8114 570.602 89.8114 561.876 Q89.8114 553.126 92.8669 548.542 Q95.9456 543.936 101.756 543.936 Z\" fill=\"#000000\" fill-rule=\"evenodd\" fill-opacity=\"1\" /><path clip-path=\"url(#clip700)\" d=\"M121.918 573.241 L126.802 573.241 L126.802 579.121 L121.918 579.121 L121.918 573.241 Z\" fill=\"#000000\" fill-rule=\"evenodd\" fill-opacity=\"1\" /><path clip-path=\"url(#clip700)\" d=\"M146.987 547.639 Q143.376 547.639 141.547 551.204 Q139.742 554.746 139.742 561.876 Q139.742 568.982 141.547 572.547 Q143.376 576.088 146.987 576.088 Q150.621 576.088 152.427 572.547 Q154.255 568.982 154.255 561.876 Q154.255 554.746 152.427 551.204 Q150.621 547.639 146.987 547.639 M146.987 543.936 Q152.797 543.936 155.853 548.542 Q158.931 553.126 158.931 561.876 Q158.931 570.602 155.853 575.209 Q152.797 579.792 146.987 579.792 Q141.177 579.792 138.098 575.209 Q135.043 570.602 135.043 561.876 Q135.043 553.126 138.098 548.542 Q141.177 543.936 146.987 543.936 Z\" fill=\"#000000\" fill-rule=\"evenodd\" fill-opacity=\"1\" /><path clip-path=\"url(#clip700)\" d=\"M177.149 547.639 Q173.538 547.639 171.709 551.204 Q169.904 554.746 169.904 561.876 Q169.904 568.982 171.709 572.547 Q173.538 576.088 177.149 576.088 Q180.783 576.088 182.589 572.547 Q184.417 568.982 184.417 561.876 Q184.417 554.746 182.589 551.204 Q180.783 547.639 177.149 547.639 M177.149 543.936 Q182.959 543.936 186.015 548.542 Q189.093 553.126 189.093 561.876 Q189.093 570.602 186.015 575.209 Q182.959 579.792 177.149 579.792 Q171.339 579.792 168.26 575.209 Q165.204 570.602 165.204 561.876 Q165.204 553.126 168.26 548.542 Q171.339 543.936 177.149 543.936 Z\" fill=\"#000000\" fill-rule=\"evenodd\" fill-opacity=\"1\" /><path clip-path=\"url(#clip700)\" d=\"M201.339 575.186 L217.658 575.186 L217.658 579.121 L195.714 579.121 L195.714 575.186 Q198.376 572.431 202.959 567.801 Q207.565 563.149 208.746 561.806 Q210.991 559.283 211.871 557.547 Q212.774 555.788 212.774 554.098 Q212.774 551.343 210.829 549.607 Q208.908 547.871 205.806 547.871 Q203.607 547.871 201.153 548.635 Q198.723 549.399 195.945 550.95 L195.945 546.227 Q198.769 545.093 201.223 544.515 Q203.676 543.936 205.714 543.936 Q211.084 543.936 214.278 546.621 Q217.473 549.306 217.473 553.797 Q217.473 555.926 216.663 557.848 Q215.876 559.746 213.769 562.338 Q213.19 563.01 210.088 566.227 Q206.987 569.422 201.339 575.186 Z\" fill=\"#000000\" fill-rule=\"evenodd\" fill-opacity=\"1\" /><path clip-path=\"url(#clip700)\" d=\"M227.519 544.561 L245.875 544.561 L245.875 548.496 L231.801 548.496 L231.801 556.968 Q232.82 556.621 233.838 556.459 Q234.857 556.274 235.875 556.274 Q241.662 556.274 245.042 559.445 Q248.422 562.616 248.422 568.033 Q248.422 573.612 244.949 576.713 Q241.477 579.792 235.158 579.792 Q232.982 579.792 230.713 579.422 Q228.468 579.051 226.061 578.311 L226.061 573.612 Q228.144 574.746 230.366 575.301 Q232.588 575.857 235.065 575.857 Q239.07 575.857 241.408 573.75 Q243.746 571.644 243.746 568.033 Q243.746 564.422 241.408 562.315 Q239.07 560.209 235.065 560.209 Q233.19 560.209 231.315 560.626 Q229.463 561.042 227.519 561.922 L227.519 544.561 Z\" fill=\"#000000\" fill-rule=\"evenodd\" fill-opacity=\"1\" /><path clip-path=\"url(#clip700)\" d=\"M100.76 240.943 Q97.1493 240.943 95.3206 244.508 Q93.515 248.049 93.515 255.179 Q93.515 262.285 95.3206 265.85 Q97.1493 269.392 100.76 269.392 Q104.395 269.392 106.2 265.85 Q108.029 262.285 108.029 255.179 Q108.029 248.049 106.2 244.508 Q104.395 240.943 100.76 240.943 M100.76 237.239 Q106.571 237.239 109.626 241.845 Q112.705 246.429 112.705 255.179 Q112.705 263.906 109.626 268.512 Q106.571 273.095 100.76 273.095 Q94.9502 273.095 91.8715 268.512 Q88.816 263.906 88.816 255.179 Q88.816 246.429 91.8715 241.845 Q94.9502 237.239 100.76 237.239 Z\" fill=\"#000000\" fill-rule=\"evenodd\" fill-opacity=\"1\" /><path clip-path=\"url(#clip700)\" d=\"M120.922 266.544 L125.807 266.544 L125.807 272.424 L120.922 272.424 L120.922 266.544 Z\" fill=\"#000000\" fill-rule=\"evenodd\" fill-opacity=\"1\" /><path clip-path=\"url(#clip700)\" d=\"M145.992 240.943 Q142.381 240.943 140.552 244.508 Q138.746 248.049 138.746 255.179 Q138.746 262.285 140.552 265.85 Q142.381 269.392 145.992 269.392 Q149.626 269.392 151.431 265.85 Q153.26 262.285 153.26 255.179 Q153.26 248.049 151.431 244.508 Q149.626 240.943 145.992 240.943 M145.992 237.239 Q151.802 237.239 154.857 241.845 Q157.936 246.429 157.936 255.179 Q157.936 263.906 154.857 268.512 Q151.802 273.095 145.992 273.095 Q140.181 273.095 137.103 268.512 Q134.047 263.906 134.047 255.179 Q134.047 246.429 137.103 241.845 Q140.181 237.239 145.992 237.239 Z\" fill=\"#000000\" fill-rule=\"evenodd\" fill-opacity=\"1\" /><path clip-path=\"url(#clip700)\" d=\"M176.153 240.943 Q172.542 240.943 170.714 244.508 Q168.908 248.049 168.908 255.179 Q168.908 262.285 170.714 265.85 Q172.542 269.392 176.153 269.392 Q179.788 269.392 181.593 265.85 Q183.422 262.285 183.422 255.179 Q183.422 248.049 181.593 244.508 Q179.788 240.943 176.153 240.943 M176.153 237.239 Q181.964 237.239 185.019 241.845 Q188.098 246.429 188.098 255.179 Q188.098 263.906 185.019 268.512 Q181.964 273.095 176.153 273.095 Q170.343 273.095 167.265 268.512 Q164.209 263.906 164.209 255.179 Q164.209 246.429 167.265 241.845 Q170.343 237.239 176.153 237.239 Z\" fill=\"#000000\" fill-rule=\"evenodd\" fill-opacity=\"1\" /><path clip-path=\"url(#clip700)\" d=\"M196.362 237.864 L214.718 237.864 L214.718 241.799 L200.644 241.799 L200.644 250.271 Q201.663 249.924 202.681 249.762 Q203.7 249.577 204.718 249.577 Q210.505 249.577 213.885 252.748 Q217.264 255.919 217.264 261.336 Q217.264 266.915 213.792 270.017 Q210.32 273.095 204.001 273.095 Q201.825 273.095 199.556 272.725 Q197.311 272.355 194.903 271.614 L194.903 266.915 Q196.987 268.049 199.209 268.605 Q201.431 269.16 203.908 269.16 Q207.913 269.16 210.251 267.054 Q212.588 264.947 212.588 261.336 Q212.588 257.725 210.251 255.619 Q207.913 253.512 203.908 253.512 Q202.033 253.512 200.158 253.929 Q198.306 254.345 196.362 255.225 L196.362 237.864 Z\" fill=\"#000000\" fill-rule=\"evenodd\" fill-opacity=\"1\" /><path clip-path=\"url(#clip700)\" d=\"M236.477 240.943 Q232.866 240.943 231.037 244.508 Q229.232 248.049 229.232 255.179 Q229.232 262.285 231.037 265.85 Q232.866 269.392 236.477 269.392 Q240.111 269.392 241.917 265.85 Q243.746 262.285 243.746 255.179 Q243.746 248.049 241.917 244.508 Q240.111 240.943 236.477 240.943 M236.477 237.239 Q242.287 237.239 245.343 241.845 Q248.422 246.429 248.422 255.179 Q248.422 263.906 245.343 268.512 Q242.287 273.095 236.477 273.095 Q230.667 273.095 227.588 268.512 Q224.533 263.906 224.533 255.179 Q224.533 246.429 227.588 241.845 Q230.667 237.239 236.477 237.239 Z\" fill=\"#000000\" fill-rule=\"evenodd\" fill-opacity=\"1\" /><polyline clip-path=\"url(#clip702)\" style=\"stroke:#009af9; stroke-linecap:round; stroke-linejoin:round; stroke-width:4; stroke-opacity:1; fill:none\" points=\"\n",
       "  342.959,554.465 382.781,610.46 422.603,709.632 462.424,925.344 502.246,1151.12 542.067,1295.53 581.889,1317.56 621.711,1136.14 661.532,1108.57 701.354,1201.77 \n",
       "  741.175,1248.98 780.997,1387.11 820.819,1414.36 860.64,1408.12 900.462,1419.26 940.283,1427.79 980.105,1388.02 1019.93,1445.72 1059.75,1395.69 1099.57,1367.06 \n",
       "  1139.39,1273.86 1179.21,1197.36 1219.03,1165.06 1258.86,1175.73 1298.68,1150.25 1338.5,1067.6 1378.32,1032.6 1418.14,1016.02 1457.96,935.111 1497.79,840.531 \n",
       "  1537.61,762.358 1577.43,612.573 1617.25,571.314 1657.07,500.198 1696.89,511.374 1736.72,559.497 1776.54,509.828 1816.36,321.57 1856.18,185.239 1896,137.927 \n",
       "  1935.82,129.839 1975.65,87.9763 2015.47,217.402 2055.29,346.076 2095.11,404.685 2134.93,503.068 2174.75,538.774 2214.57,550.727 2254.4,613.516 2294.22,613.236 \n",
       "  \n",
       "  \"/>\n",
       "<polyline clip-path=\"url(#clip702)\" style=\"stroke:#e26f46; stroke-linecap:round; stroke-linejoin:round; stroke-width:4; stroke-opacity:1; fill:none\" points=\"\n",
       "  342.959,859.562 382.781,873.641 422.603,866.611 462.424,875.325 502.246,868.182 542.067,878.388 581.889,871.477 621.711,877.349 661.532,877.966 701.354,873.511 \n",
       "  741.175,860.165 780.997,862.26 820.819,872.727 860.64,875.205 900.462,869.442 940.283,873.37 980.105,863.697 1019.93,866.881 1059.75,862.758 1099.57,864.658 \n",
       "  1139.39,868.007 1179.21,870.39 1219.03,879.126 1258.86,874.237 1298.68,869.74 1338.5,869.503 1378.32,870.355 1418.14,863.732 1457.96,871.217 1497.79,873.106 \n",
       "  1537.61,864.986 1577.43,875.246 1617.25,865.484 1657.07,874.151 1696.89,872.416 1736.72,866.71 1776.54,867.055 1816.36,867.136 1856.18,858.379 1896,868.861 \n",
       "  1935.82,869.268 1975.65,873.827 2015.47,869.45 2055.29,862.12 2095.11,857.81 2134.93,861.809 2174.75,872.117 2214.57,882.799 2254.4,870.347 2294.22,871.704 \n",
       "  \n",
       "  \"/>\n",
       "<path clip-path=\"url(#clip700)\" d=\"\n",
       "M2001.57 250.738 L2283.81 250.738 L2283.81 95.2176 L2001.57 95.2176  Z\n",
       "  \" fill=\"#ffffff\" fill-rule=\"evenodd\" fill-opacity=\"1\"/>\n",
       "<polyline clip-path=\"url(#clip700)\" style=\"stroke:#000000; stroke-linecap:round; stroke-linejoin:round; stroke-width:4; stroke-opacity:1; fill:none\" points=\"\n",
       "  2001.57,250.738 2283.81,250.738 2283.81,95.2176 2001.57,95.2176 2001.57,250.738 \n",
       "  \"/>\n",
       "<polyline clip-path=\"url(#clip700)\" style=\"stroke:#009af9; stroke-linecap:round; stroke-linejoin:round; stroke-width:4; stroke-opacity:1; fill:none\" points=\"\n",
       "  2024.55,147.058 2162.44,147.058 \n",
       "  \"/>\n",
       "<path clip-path=\"url(#clip700)\" d=\"M2199.26 166.745 Q2197.46 171.375 2195.74 172.787 Q2194.03 174.199 2191.16 174.199 L2187.76 174.199 L2187.76 170.634 L2190.26 170.634 Q2192.02 170.634 2192.99 169.8 Q2193.96 168.967 2195.14 165.865 L2195.9 163.921 L2185.42 138.412 L2189.93 138.412 L2198.03 158.689 L2206.14 138.412 L2210.65 138.412 L2199.26 166.745 Z\" fill=\"#000000\" fill-rule=\"evenodd\" fill-opacity=\"1\" /><path clip-path=\"url(#clip700)\" d=\"M2217.94 160.402 L2225.58 160.402 L2225.58 134.037 L2217.27 135.703 L2217.27 131.444 L2225.53 129.778 L2230.21 129.778 L2230.21 160.402 L2237.85 160.402 L2237.85 164.338 L2217.94 164.338 L2217.94 160.402 Z\" fill=\"#000000\" fill-rule=\"evenodd\" fill-opacity=\"1\" /><polyline clip-path=\"url(#clip700)\" style=\"stroke:#e26f46; stroke-linecap:round; stroke-linejoin:round; stroke-width:4; stroke-opacity:1; fill:none\" points=\"\n",
       "  2024.55,198.898 2162.44,198.898 \n",
       "  \"/>\n",
       "<path clip-path=\"url(#clip700)\" d=\"M2199.26 218.585 Q2197.46 223.215 2195.74 224.627 Q2194.03 226.039 2191.16 226.039 L2187.76 226.039 L2187.76 222.474 L2190.26 222.474 Q2192.02 222.474 2192.99 221.64 Q2193.96 220.807 2195.14 217.705 L2195.9 215.761 L2185.42 190.252 L2189.93 190.252 L2198.03 210.529 L2206.14 190.252 L2210.65 190.252 L2199.26 218.585 Z\" fill=\"#000000\" fill-rule=\"evenodd\" fill-opacity=\"1\" /><path clip-path=\"url(#clip700)\" d=\"M2221.16 212.242 L2237.48 212.242 L2237.48 216.178 L2215.53 216.178 L2215.53 212.242 Q2218.2 209.488 2222.78 204.858 Q2227.39 200.205 2228.57 198.863 Q2230.81 196.34 2231.69 194.604 Q2232.59 192.844 2232.59 191.155 Q2232.59 188.4 2230.65 186.664 Q2228.73 184.928 2225.63 184.928 Q2223.43 184.928 2220.97 185.692 Q2218.54 186.455 2215.77 188.006 L2215.77 183.284 Q2218.59 182.15 2221.04 181.571 Q2223.5 180.993 2225.53 180.993 Q2230.9 180.993 2234.1 183.678 Q2237.29 186.363 2237.29 190.854 Q2237.29 192.983 2236.48 194.905 Q2235.7 196.803 2233.59 199.395 Q2233.01 200.067 2229.91 203.284 Q2226.81 206.479 2221.16 212.242 Z\" fill=\"#000000\" fill-rule=\"evenodd\" fill-opacity=\"1\" /></svg>\n"
      ]
     },
     "metadata": {},
     "output_type": "display_data"
    }
   ],
   "source": [
    "plot(Ej[1,:,50])\n",
    "plot!(Bj[:,50])"
   ]
  },
  {
   "cell_type": "code",
   "execution_count": 28,
   "metadata": {},
   "outputs": [
    {
     "data": {
      "image/png": "[encoded data removed]",
      "image/svg+xml": [
       "<?xml version=\"1.0\" encoding=\"utf-8\"?>\n",
       "<svg xmlns=\"http://www.w3.org/2000/svg\" xmlns:xlink=\"http://www.w3.org/1999/xlink\" width=\"600\" height=\"400\" viewBox=\"0 0 2400 1600\">\n",
       "<defs>\n",
       "  <clipPath id=\"clip740\">\n",
       "    <rect x=\"0\" y=\"0\" width=\"2400\" height=\"1600\"/>\n",
       "  </clipPath>\n",
       "</defs>\n",
       "<path clip-path=\"url(#clip740)\" d=\"\n",
       "M0 1600 L2400 1600 L2400 0 L0 0  Z\n",
       "  \" fill=\"#ffffff\" fill-rule=\"evenodd\" fill-opacity=\"1\"/>\n",
       "<defs>\n",
       "  <clipPath id=\"clip741\">\n",
       "    <rect x=\"480\" y=\"0\" width=\"1681\" height=\"1600\"/>\n",
       "  </clipPath>\n",
       "</defs>\n",
       "<path clip-path=\"url(#clip740)\" d=\"\n",
       "M254.422 1486.45 L2352.76 1486.45 L2352.76 47.2441 L254.422 47.2441  Z\n",
       "  \" fill=\"#ffffff\" fill-rule=\"evenodd\" fill-opacity=\"1\"/>\n",
       "<defs>\n",
       "  <clipPath id=\"clip742\">\n",
       "    <rect x=\"254\" y=\"47\" width=\"2099\" height=\"1440\"/>\n",
       "  </clipPath>\n",
       "</defs>\n",
       "<polyline clip-path=\"url(#clip742)\" style=\"stroke:#000000; stroke-linecap:round; stroke-linejoin:round; stroke-width:2; stroke-opacity:0.1; fill:none\" points=\"\n",
       "  273.409,1486.45 273.409,47.2441 \n",
       "  \"/>\n",
       "<polyline clip-path=\"url(#clip742)\" style=\"stroke:#000000; stroke-linecap:round; stroke-linejoin:round; stroke-width:2; stroke-opacity:0.1; fill:none\" points=\"\n",
       "  677.401,1486.45 677.401,47.2441 \n",
       "  \"/>\n",
       "<polyline clip-path=\"url(#clip742)\" style=\"stroke:#000000; stroke-linecap:round; stroke-linejoin:round; stroke-width:2; stroke-opacity:0.1; fill:none\" points=\"\n",
       "  1081.39,1486.45 1081.39,47.2441 \n",
       "  \"/>\n",
       "<polyline clip-path=\"url(#clip742)\" style=\"stroke:#000000; stroke-linecap:round; stroke-linejoin:round; stroke-width:2; stroke-opacity:0.1; fill:none\" points=\"\n",
       "  1485.39,1486.45 1485.39,47.2441 \n",
       "  \"/>\n",
       "<polyline clip-path=\"url(#clip742)\" style=\"stroke:#000000; stroke-linecap:round; stroke-linejoin:round; stroke-width:2; stroke-opacity:0.1; fill:none\" points=\"\n",
       "  1889.38,1486.45 1889.38,47.2441 \n",
       "  \"/>\n",
       "<polyline clip-path=\"url(#clip742)\" style=\"stroke:#000000; stroke-linecap:round; stroke-linejoin:round; stroke-width:2; stroke-opacity:0.1; fill:none\" points=\"\n",
       "  2293.37,1486.45 2293.37,47.2441 \n",
       "  \"/>\n",
       "<polyline clip-path=\"url(#clip740)\" style=\"stroke:#000000; stroke-linecap:round; stroke-linejoin:round; stroke-width:4; stroke-opacity:1; fill:none\" points=\"\n",
       "  254.422,1486.45 2352.76,1486.45 \n",
       "  \"/>\n",
       "<polyline clip-path=\"url(#clip740)\" style=\"stroke:#000000; stroke-linecap:round; stroke-linejoin:round; stroke-width:4; stroke-opacity:1; fill:none\" points=\"\n",
       "  273.409,1486.45 273.409,1467.55 \n",
       "  \"/>\n",
       "<polyline clip-path=\"url(#clip740)\" style=\"stroke:#000000; stroke-linecap:round; stroke-linejoin:round; stroke-width:4; stroke-opacity:1; fill:none\" points=\"\n",
       "  677.401,1486.45 677.401,1467.55 \n",
       "  \"/>\n",
       "<polyline clip-path=\"url(#clip740)\" style=\"stroke:#000000; stroke-linecap:round; stroke-linejoin:round; stroke-width:4; stroke-opacity:1; fill:none\" points=\"\n",
       "  1081.39,1486.45 1081.39,1467.55 \n",
       "  \"/>\n",
       "<polyline clip-path=\"url(#clip740)\" style=\"stroke:#000000; stroke-linecap:round; stroke-linejoin:round; stroke-width:4; stroke-opacity:1; fill:none\" points=\"\n",
       "  1485.39,1486.45 1485.39,1467.55 \n",
       "  \"/>\n",
       "<polyline clip-path=\"url(#clip740)\" style=\"stroke:#000000; stroke-linecap:round; stroke-linejoin:round; stroke-width:4; stroke-opacity:1; fill:none\" points=\"\n",
       "  1889.38,1486.45 1889.38,1467.55 \n",
       "  \"/>\n",
       "<polyline clip-path=\"url(#clip740)\" style=\"stroke:#000000; stroke-linecap:round; stroke-linejoin:round; stroke-width:4; stroke-opacity:1; fill:none\" points=\"\n",
       "  2293.37,1486.45 2293.37,1467.55 \n",
       "  \"/>\n",
       "<path clip-path=\"url(#clip740)\" d=\"M273.409 1517.37 Q269.798 1517.37 267.97 1520.93 Q266.164 1524.47 266.164 1531.6 Q266.164 1538.71 267.97 1542.27 Q269.798 1545.82 273.409 1545.82 Q277.044 1545.82 278.849 1542.27 Q280.678 1538.71 280.678 1531.6 Q280.678 1524.47 278.849 1520.93 Q277.044 1517.37 273.409 1517.37 M273.409 1513.66 Q279.22 1513.66 282.275 1518.27 Q285.354 1522.85 285.354 1531.6 Q285.354 1540.33 282.275 1544.94 Q279.22 1549.52 273.409 1549.52 Q267.599 1549.52 264.521 1544.94 Q261.465 1540.33 261.465 1531.6 Q261.465 1522.85 264.521 1518.27 Q267.599 1513.66 273.409 1513.66 Z\" fill=\"#000000\" fill-rule=\"evenodd\" fill-opacity=\"1\" /><path clip-path=\"url(#clip740)\" d=\"M652.089 1544.91 L659.728 1544.91 L659.728 1518.55 L651.418 1520.21 L651.418 1515.95 L659.682 1514.29 L664.357 1514.29 L664.357 1544.91 L671.996 1544.91 L671.996 1548.85 L652.089 1548.85 L652.089 1544.91 Z\" fill=\"#000000\" fill-rule=\"evenodd\" fill-opacity=\"1\" /><path clip-path=\"url(#clip740)\" d=\"M691.441 1517.37 Q687.83 1517.37 686.001 1520.93 Q684.195 1524.47 684.195 1531.6 Q684.195 1538.71 686.001 1542.27 Q687.83 1545.82 691.441 1545.82 Q695.075 1545.82 696.88 1542.27 Q698.709 1538.71 698.709 1531.6 Q698.709 1524.47 696.88 1520.93 Q695.075 1517.37 691.441 1517.37 M691.441 1513.66 Q697.251 1513.66 700.306 1518.27 Q703.385 1522.85 703.385 1531.6 Q703.385 1540.33 700.306 1544.94 Q697.251 1549.52 691.441 1549.52 Q685.63 1549.52 682.552 1544.94 Q679.496 1540.33 679.496 1531.6 Q679.496 1522.85 682.552 1518.27 Q685.63 1513.66 691.441 1513.66 Z\" fill=\"#000000\" fill-rule=\"evenodd\" fill-opacity=\"1\" /><path clip-path=\"url(#clip740)\" d=\"M1060.17 1544.91 L1076.49 1544.91 L1076.49 1548.85 L1054.54 1548.85 L1054.54 1544.91 Q1057.2 1542.16 1061.79 1537.53 Q1066.39 1532.88 1067.57 1531.53 Q1069.82 1529.01 1070.7 1527.27 Q1071.6 1525.51 1071.6 1523.82 Q1071.6 1521.07 1069.66 1519.33 Q1067.74 1517.6 1064.63 1517.6 Q1062.44 1517.6 1059.98 1518.36 Q1057.55 1519.13 1054.77 1520.68 L1054.77 1515.95 Q1057.6 1514.82 1060.05 1514.24 Q1062.5 1513.66 1064.54 1513.66 Q1069.91 1513.66 1073.11 1516.35 Q1076.3 1519.03 1076.3 1523.52 Q1076.3 1525.65 1075.49 1527.57 Q1074.7 1529.47 1072.6 1532.07 Q1072.02 1532.74 1068.92 1535.95 Q1065.81 1539.15 1060.17 1544.91 Z\" fill=\"#000000\" fill-rule=\"evenodd\" fill-opacity=\"1\" /><path clip-path=\"url(#clip740)\" d=\"M1096.3 1517.37 Q1092.69 1517.37 1090.86 1520.93 Q1089.06 1524.47 1089.06 1531.6 Q1089.06 1538.71 1090.86 1542.27 Q1092.69 1545.82 1096.3 1545.82 Q1099.93 1545.82 1101.74 1542.27 Q1103.57 1538.71 1103.57 1531.6 Q1103.57 1524.47 1101.74 1520.93 Q1099.93 1517.37 1096.3 1517.37 M1096.3 1513.66 Q1102.11 1513.66 1105.17 1518.27 Q1108.24 1522.85 1108.24 1531.6 Q1108.24 1540.33 1105.17 1544.94 Q1102.11 1549.52 1096.3 1549.52 Q1090.49 1549.52 1087.41 1544.94 Q1084.36 1540.33 1084.36 1531.6 Q1084.36 1522.85 1087.41 1518.27 Q1090.49 1513.66 1096.3 1513.66 Z\" fill=\"#000000\" fill-rule=\"evenodd\" fill-opacity=\"1\" /><path clip-path=\"url(#clip740)\" d=\"M1474.23 1530.21 Q1477.58 1530.93 1479.46 1533.2 Q1481.36 1535.47 1481.36 1538.8 Q1481.36 1543.92 1477.84 1546.72 Q1474.32 1549.52 1467.84 1549.52 Q1465.66 1549.52 1463.35 1549.08 Q1461.06 1548.66 1458.6 1547.81 L1458.6 1543.29 Q1460.55 1544.43 1462.86 1545.01 Q1465.18 1545.58 1467.7 1545.58 Q1472.1 1545.58 1474.39 1543.85 Q1476.7 1542.11 1476.7 1538.8 Q1476.7 1535.75 1474.55 1534.03 Q1472.42 1532.3 1468.6 1532.3 L1464.58 1532.3 L1464.58 1528.45 L1468.79 1528.45 Q1472.24 1528.45 1474.07 1527.09 Q1475.89 1525.7 1475.89 1523.11 Q1475.89 1520.45 1474 1519.03 Q1472.12 1517.6 1468.6 1517.6 Q1466.68 1517.6 1464.48 1518.01 Q1462.28 1518.43 1459.64 1519.31 L1459.64 1515.14 Q1462.31 1514.4 1464.62 1514.03 Q1466.96 1513.66 1469.02 1513.66 Q1474.34 1513.66 1477.45 1516.09 Q1480.55 1518.5 1480.55 1522.62 Q1480.55 1525.49 1478.9 1527.48 Q1477.26 1529.45 1474.23 1530.21 Z\" fill=\"#000000\" fill-rule=\"evenodd\" fill-opacity=\"1\" /><path clip-path=\"url(#clip740)\" d=\"M1500.22 1517.37 Q1496.61 1517.37 1494.78 1520.93 Q1492.98 1524.47 1492.98 1531.6 Q1492.98 1538.71 1494.78 1542.27 Q1496.61 1545.82 1500.22 1545.82 Q1503.86 1545.82 1505.66 1542.27 Q1507.49 1538.71 1507.49 1531.6 Q1507.49 1524.47 1505.66 1520.93 Q1503.86 1517.37 1500.22 1517.37 M1500.22 1513.66 Q1506.03 1513.66 1509.09 1518.27 Q1512.17 1522.85 1512.17 1531.6 Q1512.17 1540.33 1509.09 1544.94 Q1506.03 1549.52 1500.22 1549.52 Q1494.41 1549.52 1491.33 1544.94 Q1488.28 1540.33 1488.28 1531.6 Q1488.28 1522.85 1491.33 1518.27 Q1494.41 1513.66 1500.22 1513.66 Z\" fill=\"#000000\" fill-rule=\"evenodd\" fill-opacity=\"1\" /><path clip-path=\"url(#clip740)\" d=\"M1877.55 1518.36 L1865.74 1536.81 L1877.55 1536.81 L1877.55 1518.36 M1876.32 1514.29 L1882.2 1514.29 L1882.2 1536.81 L1887.13 1536.81 L1887.13 1540.7 L1882.2 1540.7 L1882.2 1548.85 L1877.55 1548.85 L1877.55 1540.7 L1861.95 1540.7 L1861.95 1536.19 L1876.32 1514.29 Z\" fill=\"#000000\" fill-rule=\"evenodd\" fill-opacity=\"1\" /><path clip-path=\"url(#clip740)\" d=\"M1904.86 1517.37 Q1901.25 1517.37 1899.42 1520.93 Q1897.62 1524.47 1897.62 1531.6 Q1897.62 1538.71 1899.42 1542.27 Q1901.25 1545.82 1904.86 1545.82 Q1908.5 1545.82 1910.3 1542.27 Q1912.13 1538.71 1912.13 1531.6 Q1912.13 1524.47 1910.3 1520.93 Q1908.5 1517.37 1904.86 1517.37 M1904.86 1513.66 Q1910.67 1513.66 1913.73 1518.27 Q1916.81 1522.85 1916.81 1531.6 Q1916.81 1540.33 1913.73 1544.94 Q1910.67 1549.52 1904.86 1549.52 Q1899.05 1549.52 1895.97 1544.94 Q1892.92 1540.33 1892.92 1531.6 Q1892.92 1522.85 1895.97 1518.27 Q1899.05 1513.66 1904.86 1513.66 Z\" fill=\"#000000\" fill-rule=\"evenodd\" fill-opacity=\"1\" /><path clip-path=\"url(#clip740)\" d=\"M2268.07 1514.29 L2286.42 1514.29 L2286.42 1518.22 L2272.35 1518.22 L2272.35 1526.7 Q2273.37 1526.35 2274.39 1526.19 Q2275.41 1526 2276.42 1526 Q2282.21 1526 2285.59 1529.17 Q2288.97 1532.34 2288.97 1537.76 Q2288.97 1543.34 2285.5 1546.44 Q2282.03 1549.52 2275.71 1549.52 Q2273.53 1549.52 2271.26 1549.15 Q2269.02 1548.78 2266.61 1548.04 L2266.61 1543.34 Q2268.69 1544.47 2270.92 1545.03 Q2273.14 1545.58 2275.61 1545.58 Q2279.62 1545.58 2281.96 1543.48 Q2284.3 1541.37 2284.3 1537.76 Q2284.3 1534.15 2281.96 1532.04 Q2279.62 1529.94 2275.61 1529.94 Q2273.74 1529.94 2271.86 1530.35 Q2270.01 1530.77 2268.07 1531.65 L2268.07 1514.29 Z\" fill=\"#000000\" fill-rule=\"evenodd\" fill-opacity=\"1\" /><path clip-path=\"url(#clip740)\" d=\"M2308.18 1517.37 Q2304.57 1517.37 2302.74 1520.93 Q2300.94 1524.47 2300.94 1531.6 Q2300.94 1538.71 2302.74 1542.27 Q2304.57 1545.82 2308.18 1545.82 Q2311.82 1545.82 2313.62 1542.27 Q2315.45 1538.71 2315.45 1531.6 Q2315.45 1524.47 2313.62 1520.93 Q2311.82 1517.37 2308.18 1517.37 M2308.18 1513.66 Q2313.99 1513.66 2317.05 1518.27 Q2320.13 1522.85 2320.13 1531.6 Q2320.13 1540.33 2317.05 1544.94 Q2313.99 1549.52 2308.18 1549.52 Q2302.37 1549.52 2299.29 1544.94 Q2296.24 1540.33 2296.24 1531.6 Q2296.24 1522.85 2299.29 1518.27 Q2302.37 1513.66 2308.18 1513.66 Z\" fill=\"#000000\" fill-rule=\"evenodd\" fill-opacity=\"1\" /><polyline clip-path=\"url(#clip742)\" style=\"stroke:#000000; stroke-linecap:round; stroke-linejoin:round; stroke-width:2; stroke-opacity:0.1; fill:none\" points=\"\n",
       "  254.422,1349.85 2352.76,1349.85 \n",
       "  \"/>\n",
       "<polyline clip-path=\"url(#clip742)\" style=\"stroke:#000000; stroke-linecap:round; stroke-linejoin:round; stroke-width:2; stroke-opacity:0.1; fill:none\" points=\"\n",
       "  254.422,1083.48 2352.76,1083.48 \n",
       "  \"/>\n",
       "<polyline clip-path=\"url(#clip742)\" style=\"stroke:#000000; stroke-linecap:round; stroke-linejoin:round; stroke-width:2; stroke-opacity:0.1; fill:none\" points=\"\n",
       "  254.422,817.105 2352.76,817.105 \n",
       "  \"/>\n",
       "<polyline clip-path=\"url(#clip742)\" style=\"stroke:#000000; stroke-linecap:round; stroke-linejoin:round; stroke-width:2; stroke-opacity:0.1; fill:none\" points=\"\n",
       "  254.422,550.733 2352.76,550.733 \n",
       "  \"/>\n",
       "<polyline clip-path=\"url(#clip742)\" style=\"stroke:#000000; stroke-linecap:round; stroke-linejoin:round; stroke-width:2; stroke-opacity:0.1; fill:none\" points=\"\n",
       "  254.422,284.361 2352.76,284.361 \n",
       "  \"/>\n",
       "<polyline clip-path=\"url(#clip740)\" style=\"stroke:#000000; stroke-linecap:round; stroke-linejoin:round; stroke-width:4; stroke-opacity:1; fill:none\" points=\"\n",
       "  254.422,1486.45 254.422,47.2441 \n",
       "  \"/>\n",
       "<polyline clip-path=\"url(#clip740)\" style=\"stroke:#000000; stroke-linecap:round; stroke-linejoin:round; stroke-width:4; stroke-opacity:1; fill:none\" points=\"\n",
       "  254.422,1349.85 273.319,1349.85 \n",
       "  \"/>\n",
       "<polyline clip-path=\"url(#clip740)\" style=\"stroke:#000000; stroke-linecap:round; stroke-linejoin:round; stroke-width:4; stroke-opacity:1; fill:none\" points=\"\n",
       "  254.422,1083.48 273.319,1083.48 \n",
       "  \"/>\n",
       "<polyline clip-path=\"url(#clip740)\" style=\"stroke:#000000; stroke-linecap:round; stroke-linejoin:round; stroke-width:4; stroke-opacity:1; fill:none\" points=\"\n",
       "  254.422,817.105 273.319,817.105 \n",
       "  \"/>\n",
       "<polyline clip-path=\"url(#clip740)\" style=\"stroke:#000000; stroke-linecap:round; stroke-linejoin:round; stroke-width:4; stroke-opacity:1; fill:none\" points=\"\n",
       "  254.422,550.733 273.319,550.733 \n",
       "  \"/>\n",
       "<polyline clip-path=\"url(#clip740)\" style=\"stroke:#000000; stroke-linecap:round; stroke-linejoin:round; stroke-width:4; stroke-opacity:1; fill:none\" points=\"\n",
       "  254.422,284.361 273.319,284.361 \n",
       "  \"/>\n",
       "<path clip-path=\"url(#clip740)\" d=\"M50.9921 1350.3 L80.6679 1350.3 L80.6679 1354.24 L50.9921 1354.24 L50.9921 1350.3 Z\" fill=\"#000000\" fill-rule=\"evenodd\" fill-opacity=\"1\" /><path clip-path=\"url(#clip740)\" d=\"M100.76 1335.65 Q97.1493 1335.65 95.3206 1339.21 Q93.515 1342.76 93.515 1349.88 Q93.515 1356.99 95.3206 1360.56 Q97.1493 1364.1 100.76 1364.1 Q104.395 1364.1 106.2 1360.56 Q108.029 1356.99 108.029 1349.88 Q108.029 1342.76 106.2 1339.21 Q104.395 1335.65 100.76 1335.65 M100.76 1331.95 Q106.571 1331.95 109.626 1336.55 Q112.705 1341.13 112.705 1349.88 Q112.705 1358.61 109.626 1363.22 Q106.571 1367.8 100.76 1367.8 Q94.9502 1367.8 91.8715 1363.22 Q88.816 1358.61 88.816 1349.88 Q88.816 1341.13 91.8715 1336.55 Q94.9502 1331.95 100.76 1331.95 Z\" fill=\"#000000\" fill-rule=\"evenodd\" fill-opacity=\"1\" /><path clip-path=\"url(#clip740)\" d=\"M120.922 1361.25 L125.807 1361.25 L125.807 1367.13 L120.922 1367.13 L120.922 1361.25 Z\" fill=\"#000000\" fill-rule=\"evenodd\" fill-opacity=\"1\" /><path clip-path=\"url(#clip740)\" d=\"M145.992 1335.65 Q142.381 1335.65 140.552 1339.21 Q138.746 1342.76 138.746 1349.88 Q138.746 1356.99 140.552 1360.56 Q142.381 1364.1 145.992 1364.1 Q149.626 1364.1 151.431 1360.56 Q153.26 1356.99 153.26 1349.88 Q153.26 1342.76 151.431 1339.21 Q149.626 1335.65 145.992 1335.65 M145.992 1331.95 Q151.802 1331.95 154.857 1336.55 Q157.936 1341.13 157.936 1349.88 Q157.936 1358.61 154.857 1363.22 Q151.802 1367.8 145.992 1367.8 Q140.181 1367.8 137.103 1363.22 Q134.047 1358.61 134.047 1349.88 Q134.047 1341.13 137.103 1336.55 Q140.181 1331.95 145.992 1331.95 Z\" fill=\"#000000\" fill-rule=\"evenodd\" fill-opacity=\"1\" /><path clip-path=\"url(#clip740)\" d=\"M176.153 1335.65 Q172.542 1335.65 170.714 1339.21 Q168.908 1342.76 168.908 1349.88 Q168.908 1356.99 170.714 1360.56 Q172.542 1364.1 176.153 1364.1 Q179.788 1364.1 181.593 1360.56 Q183.422 1356.99 183.422 1349.88 Q183.422 1342.76 181.593 1339.21 Q179.788 1335.65 176.153 1335.65 M176.153 1331.95 Q181.964 1331.95 185.019 1336.55 Q188.098 1341.13 188.098 1349.88 Q188.098 1358.61 185.019 1363.22 Q181.964 1367.8 176.153 1367.8 Q170.343 1367.8 167.265 1363.22 Q164.209 1358.61 164.209 1349.88 Q164.209 1341.13 167.265 1336.55 Q170.343 1331.95 176.153 1331.95 Z\" fill=\"#000000\" fill-rule=\"evenodd\" fill-opacity=\"1\" /><path clip-path=\"url(#clip740)\" d=\"M206.894 1347.99 Q203.746 1347.99 201.894 1350.14 Q200.065 1352.29 200.065 1356.04 Q200.065 1359.77 201.894 1361.95 Q203.746 1364.1 206.894 1364.1 Q210.042 1364.1 211.871 1361.95 Q213.723 1359.77 213.723 1356.04 Q213.723 1352.29 211.871 1350.14 Q210.042 1347.99 206.894 1347.99 M216.176 1333.33 L216.176 1337.59 Q214.417 1336.76 212.612 1336.32 Q210.829 1335.88 209.07 1335.88 Q204.44 1335.88 201.987 1339.01 Q199.556 1342.13 199.209 1348.45 Q200.575 1346.44 202.635 1345.37 Q204.695 1344.28 207.172 1344.28 Q212.38 1344.28 215.389 1347.45 Q218.422 1350.6 218.422 1356.04 Q218.422 1361.37 215.274 1364.58 Q212.126 1367.8 206.894 1367.8 Q200.899 1367.8 197.727 1363.22 Q194.556 1358.61 194.556 1349.88 Q194.556 1341.69 198.445 1336.83 Q202.334 1331.95 208.885 1331.95 Q210.644 1331.95 212.426 1332.29 Q214.232 1332.64 216.176 1333.33 Z\" fill=\"#000000\" fill-rule=\"evenodd\" fill-opacity=\"1\" /><path clip-path=\"url(#clip740)\" d=\"M51.8023 1083.93 L81.4781 1083.93 L81.4781 1087.86 L51.8023 1087.86 L51.8023 1083.93 Z\" fill=\"#000000\" fill-rule=\"evenodd\" fill-opacity=\"1\" /><path clip-path=\"url(#clip740)\" d=\"M101.571 1069.28 Q97.9595 1069.28 96.1308 1072.84 Q94.3252 1076.38 94.3252 1083.51 Q94.3252 1090.62 96.1308 1094.18 Q97.9595 1097.73 101.571 1097.73 Q105.205 1097.73 107.01 1094.18 Q108.839 1090.62 108.839 1083.51 Q108.839 1076.38 107.01 1072.84 Q105.205 1069.28 101.571 1069.28 M101.571 1065.57 Q107.381 1065.57 110.436 1070.18 Q113.515 1074.76 113.515 1083.51 Q113.515 1092.24 110.436 1096.85 Q107.381 1101.43 101.571 1101.43 Q95.7604 1101.43 92.6817 1096.85 Q89.6262 1092.24 89.6262 1083.51 Q89.6262 1074.76 92.6817 1070.18 Q95.7604 1065.57 101.571 1065.57 Z\" fill=\"#000000\" fill-rule=\"evenodd\" fill-opacity=\"1\" /><path clip-path=\"url(#clip740)\" d=\"M121.732 1094.88 L126.617 1094.88 L126.617 1100.76 L121.732 1100.76 L121.732 1094.88 Z\" fill=\"#000000\" fill-rule=\"evenodd\" fill-opacity=\"1\" /><path clip-path=\"url(#clip740)\" d=\"M146.802 1069.28 Q143.191 1069.28 141.362 1072.84 Q139.556 1076.38 139.556 1083.51 Q139.556 1090.62 141.362 1094.18 Q143.191 1097.73 146.802 1097.73 Q150.436 1097.73 152.242 1094.18 Q154.07 1090.62 154.07 1083.51 Q154.07 1076.38 152.242 1072.84 Q150.436 1069.28 146.802 1069.28 M146.802 1065.57 Q152.612 1065.57 155.667 1070.18 Q158.746 1074.76 158.746 1083.51 Q158.746 1092.24 155.667 1096.85 Q152.612 1101.43 146.802 1101.43 Q140.992 1101.43 137.913 1096.85 Q134.857 1092.24 134.857 1083.51 Q134.857 1074.76 137.913 1070.18 Q140.992 1065.57 146.802 1065.57 Z\" fill=\"#000000\" fill-rule=\"evenodd\" fill-opacity=\"1\" /><path clip-path=\"url(#clip740)\" d=\"M176.964 1069.28 Q173.353 1069.28 171.524 1072.84 Q169.718 1076.38 169.718 1083.51 Q169.718 1090.62 171.524 1094.18 Q173.353 1097.73 176.964 1097.73 Q180.598 1097.73 182.403 1094.18 Q184.232 1090.62 184.232 1083.51 Q184.232 1076.38 182.403 1072.84 Q180.598 1069.28 176.964 1069.28 M176.964 1065.57 Q182.774 1065.57 185.829 1070.18 Q188.908 1074.76 188.908 1083.51 Q188.908 1092.24 185.829 1096.85 Q182.774 1101.43 176.964 1101.43 Q171.154 1101.43 168.075 1096.85 Q165.019 1092.24 165.019 1083.51 Q165.019 1074.76 168.075 1070.18 Q171.154 1065.57 176.964 1065.57 Z\" fill=\"#000000\" fill-rule=\"evenodd\" fill-opacity=\"1\" /><path clip-path=\"url(#clip740)\" d=\"M211.292 1082.12 Q214.649 1082.84 216.524 1085.11 Q218.422 1087.38 218.422 1090.71 Q218.422 1095.83 214.903 1098.63 Q211.385 1101.43 204.903 1101.43 Q202.727 1101.43 200.413 1100.99 Q198.121 1100.57 195.667 1099.72 L195.667 1095.2 Q197.612 1096.34 199.927 1096.92 Q202.241 1097.49 204.764 1097.49 Q209.163 1097.49 211.454 1095.76 Q213.769 1094.02 213.769 1090.71 Q213.769 1087.66 211.616 1085.94 Q209.487 1084.21 205.667 1084.21 L201.639 1084.21 L201.639 1080.36 L205.852 1080.36 Q209.301 1080.36 211.13 1079 Q212.959 1077.61 212.959 1075.02 Q212.959 1072.36 211.061 1070.94 Q209.186 1069.51 205.667 1069.51 Q203.746 1069.51 201.547 1069.92 Q199.348 1070.34 196.709 1071.22 L196.709 1067.05 Q199.371 1066.31 201.686 1065.94 Q204.024 1065.57 206.084 1065.57 Q211.408 1065.57 214.51 1068 Q217.612 1070.41 217.612 1074.53 Q217.612 1077.4 215.968 1079.39 Q214.325 1081.36 211.292 1082.12 Z\" fill=\"#000000\" fill-rule=\"evenodd\" fill-opacity=\"1\" /><path clip-path=\"url(#clip740)\" d=\"M100.922 802.904 Q97.3113 802.904 95.4826 806.469 Q93.6771 810.011 93.6771 817.14 Q93.6771 824.247 95.4826 827.811 Q97.3113 831.353 100.922 831.353 Q104.557 831.353 106.362 827.811 Q108.191 824.247 108.191 817.14 Q108.191 810.011 106.362 806.469 Q104.557 802.904 100.922 802.904 M100.922 799.2 Q106.733 799.2 109.788 803.807 Q112.867 808.39 112.867 817.14 Q112.867 825.867 109.788 830.473 Q106.733 835.057 100.922 835.057 Q95.1123 835.057 92.0336 830.473 Q88.978 825.867 88.978 817.14 Q88.978 808.39 92.0336 803.807 Q95.1123 799.2 100.922 799.2 Z\" fill=\"#000000\" fill-rule=\"evenodd\" fill-opacity=\"1\" /><path clip-path=\"url(#clip740)\" d=\"M121.084 828.506 L125.969 828.506 L125.969 834.385 L121.084 834.385 L121.084 828.506 Z\" fill=\"#000000\" fill-rule=\"evenodd\" fill-opacity=\"1\" /><path clip-path=\"url(#clip740)\" d=\"M146.154 802.904 Q142.543 802.904 140.714 806.469 Q138.908 810.011 138.908 817.14 Q138.908 824.247 140.714 827.811 Q142.543 831.353 146.154 831.353 Q149.788 831.353 151.593 827.811 Q153.422 824.247 153.422 817.14 Q153.422 810.011 151.593 806.469 Q149.788 802.904 146.154 802.904 M146.154 799.2 Q151.964 799.2 155.019 803.807 Q158.098 808.39 158.098 817.14 Q158.098 825.867 155.019 830.473 Q151.964 835.057 146.154 835.057 Q140.343 835.057 137.265 830.473 Q134.209 825.867 134.209 817.14 Q134.209 808.39 137.265 803.807 Q140.343 799.2 146.154 799.2 Z\" fill=\"#000000\" fill-rule=\"evenodd\" fill-opacity=\"1\" /><path clip-path=\"url(#clip740)\" d=\"M176.316 802.904 Q172.704 802.904 170.876 806.469 Q169.07 810.011 169.07 817.14 Q169.07 824.247 170.876 827.811 Q172.704 831.353 176.316 831.353 Q179.95 831.353 181.755 827.811 Q183.584 824.247 183.584 817.14 Q183.584 810.011 181.755 806.469 Q179.95 802.904 176.316 802.904 M176.316 799.2 Q182.126 799.2 185.181 803.807 Q188.26 808.39 188.26 817.14 Q188.26 825.867 185.181 830.473 Q182.126 835.057 176.316 835.057 Q170.505 835.057 167.427 830.473 Q164.371 825.867 164.371 817.14 Q164.371 808.39 167.427 803.807 Q170.505 799.2 176.316 799.2 Z\" fill=\"#000000\" fill-rule=\"evenodd\" fill-opacity=\"1\" /><path clip-path=\"url(#clip740)\" d=\"M206.477 802.904 Q202.866 802.904 201.038 806.469 Q199.232 810.011 199.232 817.14 Q199.232 824.247 201.038 827.811 Q202.866 831.353 206.477 831.353 Q210.112 831.353 211.917 827.811 Q213.746 824.247 213.746 817.14 Q213.746 810.011 211.917 806.469 Q210.112 802.904 206.477 802.904 M206.477 799.2 Q212.288 799.2 215.343 803.807 Q218.422 808.39 218.422 817.14 Q218.422 825.867 215.343 830.473 Q212.288 835.057 206.477 835.057 Q200.667 835.057 197.589 830.473 Q194.533 825.867 194.533 817.14 Q194.533 808.39 197.589 803.807 Q200.667 799.2 206.477 799.2 Z\" fill=\"#000000\" fill-rule=\"evenodd\" fill-opacity=\"1\" /><path clip-path=\"url(#clip740)\" d=\"M101.571 536.532 Q97.9595 536.532 96.1308 540.096 Q94.3252 543.638 94.3252 550.768 Q94.3252 557.874 96.1308 561.439 Q97.9595 564.981 101.571 564.981 Q105.205 564.981 107.01 561.439 Q108.839 557.874 108.839 550.768 Q108.839 543.638 107.01 540.096 Q105.205 536.532 101.571 536.532 M101.571 532.828 Q107.381 532.828 110.436 537.434 Q113.515 542.018 113.515 550.768 Q113.515 559.494 110.436 564.101 Q107.381 568.684 101.571 568.684 Q95.7604 568.684 92.6817 564.101 Q89.6262 559.494 89.6262 550.768 Q89.6262 542.018 92.6817 537.434 Q95.7604 532.828 101.571 532.828 Z\" fill=\"#000000\" fill-rule=\"evenodd\" fill-opacity=\"1\" /><path clip-path=\"url(#clip740)\" d=\"M121.732 562.133 L126.617 562.133 L126.617 568.013 L121.732 568.013 L121.732 562.133 Z\" fill=\"#000000\" fill-rule=\"evenodd\" fill-opacity=\"1\" /><path clip-path=\"url(#clip740)\" d=\"M146.802 536.532 Q143.191 536.532 141.362 540.096 Q139.556 543.638 139.556 550.768 Q139.556 557.874 141.362 561.439 Q143.191 564.981 146.802 564.981 Q150.436 564.981 152.242 561.439 Q154.07 557.874 154.07 550.768 Q154.07 543.638 152.242 540.096 Q150.436 536.532 146.802 536.532 M146.802 532.828 Q152.612 532.828 155.667 537.434 Q158.746 542.018 158.746 550.768 Q158.746 559.494 155.667 564.101 Q152.612 568.684 146.802 568.684 Q140.992 568.684 137.913 564.101 Q134.857 559.494 134.857 550.768 Q134.857 542.018 137.913 537.434 Q140.992 532.828 146.802 532.828 Z\" fill=\"#000000\" fill-rule=\"evenodd\" fill-opacity=\"1\" /><path clip-path=\"url(#clip740)\" d=\"M176.964 536.532 Q173.353 536.532 171.524 540.096 Q169.718 543.638 169.718 550.768 Q169.718 557.874 171.524 561.439 Q173.353 564.981 176.964 564.981 Q180.598 564.981 182.403 561.439 Q184.232 557.874 184.232 550.768 Q184.232 543.638 182.403 540.096 Q180.598 536.532 176.964 536.532 M176.964 532.828 Q182.774 532.828 185.829 537.434 Q188.908 542.018 188.908 550.768 Q188.908 559.494 185.829 564.101 Q182.774 568.684 176.964 568.684 Q171.154 568.684 168.075 564.101 Q165.019 559.494 165.019 550.768 Q165.019 542.018 168.075 537.434 Q171.154 532.828 176.964 532.828 Z\" fill=\"#000000\" fill-rule=\"evenodd\" fill-opacity=\"1\" /><path clip-path=\"url(#clip740)\" d=\"M211.292 549.379 Q214.649 550.096 216.524 552.365 Q218.422 554.633 218.422 557.967 Q218.422 563.082 214.903 565.883 Q211.385 568.684 204.903 568.684 Q202.727 568.684 200.413 568.244 Q198.121 567.828 195.667 566.971 L195.667 562.457 Q197.612 563.592 199.927 564.17 Q202.241 564.749 204.764 564.749 Q209.163 564.749 211.454 563.013 Q213.769 561.277 213.769 557.967 Q213.769 554.911 211.616 553.198 Q209.487 551.462 205.667 551.462 L201.639 551.462 L201.639 547.62 L205.852 547.62 Q209.301 547.62 211.13 546.254 Q212.959 544.865 212.959 542.272 Q212.959 539.61 211.061 538.198 Q209.186 536.763 205.667 536.763 Q203.746 536.763 201.547 537.18 Q199.348 537.596 196.709 538.476 L196.709 534.309 Q199.371 533.569 201.686 533.198 Q204.024 532.828 206.084 532.828 Q211.408 532.828 214.51 535.259 Q217.612 537.666 217.612 541.786 Q217.612 544.657 215.968 546.647 Q214.325 548.615 211.292 549.379 Z\" fill=\"#000000\" fill-rule=\"evenodd\" fill-opacity=\"1\" /><path clip-path=\"url(#clip740)\" d=\"M100.76 270.159 Q97.1493 270.159 95.3206 273.724 Q93.515 277.266 93.515 284.395 Q93.515 291.502 95.3206 295.067 Q97.1493 298.608 100.76 298.608 Q104.395 298.608 106.2 295.067 Q108.029 291.502 108.029 284.395 Q108.029 277.266 106.2 273.724 Q104.395 270.159 100.76 270.159 M100.76 266.456 Q106.571 266.456 109.626 271.062 Q112.705 275.645 112.705 284.395 Q112.705 293.122 109.626 297.729 Q106.571 302.312 100.76 302.312 Q94.9502 302.312 91.8715 297.729 Q88.816 293.122 88.816 284.395 Q88.816 275.645 91.8715 271.062 Q94.9502 266.456 100.76 266.456 Z\" fill=\"#000000\" fill-rule=\"evenodd\" fill-opacity=\"1\" /><path clip-path=\"url(#clip740)\" d=\"M120.922 295.761 L125.807 295.761 L125.807 301.641 L120.922 301.641 L120.922 295.761 Z\" fill=\"#000000\" fill-rule=\"evenodd\" fill-opacity=\"1\" /><path clip-path=\"url(#clip740)\" d=\"M145.992 270.159 Q142.381 270.159 140.552 273.724 Q138.746 277.266 138.746 284.395 Q138.746 291.502 140.552 295.067 Q142.381 298.608 145.992 298.608 Q149.626 298.608 151.431 295.067 Q153.26 291.502 153.26 284.395 Q153.26 277.266 151.431 273.724 Q149.626 270.159 145.992 270.159 M145.992 266.456 Q151.802 266.456 154.857 271.062 Q157.936 275.645 157.936 284.395 Q157.936 293.122 154.857 297.729 Q151.802 302.312 145.992 302.312 Q140.181 302.312 137.103 297.729 Q134.047 293.122 134.047 284.395 Q134.047 275.645 137.103 271.062 Q140.181 266.456 145.992 266.456 Z\" fill=\"#000000\" fill-rule=\"evenodd\" fill-opacity=\"1\" /><path clip-path=\"url(#clip740)\" d=\"M176.153 270.159 Q172.542 270.159 170.714 273.724 Q168.908 277.266 168.908 284.395 Q168.908 291.502 170.714 295.067 Q172.542 298.608 176.153 298.608 Q179.788 298.608 181.593 295.067 Q183.422 291.502 183.422 284.395 Q183.422 277.266 181.593 273.724 Q179.788 270.159 176.153 270.159 M176.153 266.456 Q181.964 266.456 185.019 271.062 Q188.098 275.645 188.098 284.395 Q188.098 293.122 185.019 297.729 Q181.964 302.312 176.153 302.312 Q170.343 302.312 167.265 297.729 Q164.209 293.122 164.209 284.395 Q164.209 275.645 167.265 271.062 Q170.343 266.456 176.153 266.456 Z\" fill=\"#000000\" fill-rule=\"evenodd\" fill-opacity=\"1\" /><path clip-path=\"url(#clip740)\" d=\"M206.894 282.497 Q203.746 282.497 201.894 284.65 Q200.065 286.803 200.065 290.553 Q200.065 294.279 201.894 296.455 Q203.746 298.608 206.894 298.608 Q210.042 298.608 211.871 296.455 Q213.723 294.279 213.723 290.553 Q213.723 286.803 211.871 284.65 Q210.042 282.497 206.894 282.497 M216.176 267.844 L216.176 272.104 Q214.417 271.27 212.612 270.831 Q210.829 270.391 209.07 270.391 Q204.44 270.391 201.987 273.516 Q199.556 276.641 199.209 282.96 Q200.575 280.946 202.635 279.881 Q204.695 278.793 207.172 278.793 Q212.38 278.793 215.389 281.965 Q218.422 285.113 218.422 290.553 Q218.422 295.877 215.274 299.094 Q212.126 302.312 206.894 302.312 Q200.899 302.312 197.727 297.729 Q194.556 293.122 194.556 284.395 Q194.556 276.201 198.445 271.34 Q202.334 266.456 208.885 266.456 Q210.644 266.456 212.426 266.803 Q214.232 267.15 216.176 267.844 Z\" fill=\"#000000\" fill-rule=\"evenodd\" fill-opacity=\"1\" /><polyline clip-path=\"url(#clip742)\" style=\"stroke:#009af9; stroke-linecap:round; stroke-linejoin:round; stroke-width:4; stroke-opacity:1; fill:none\" points=\"\n",
       "  313.809,1073.65 354.208,1101.36 394.607,1205.41 435.006,1280.48 475.405,1292.44 515.805,1345.91 556.204,1396.26 596.603,1348.57 637.002,1307.48 677.401,1317.85 \n",
       "  717.801,1433.1 758.2,1445.72 798.599,1406.07 838.998,1432.79 879.397,1394.68 919.797,1330.72 960.196,1195.89 1000.59,1027.8 1040.99,955.975 1081.39,980.881 \n",
       "  1121.79,934.445 1162.19,791.672 1202.59,700.034 1242.99,596.085 1283.39,512.805 1323.79,502.679 1364.19,538.004 1404.59,589.267 1444.99,454.965 1485.39,360.33 \n",
       "  1525.78,334.006 1566.18,335.112 1606.58,315.821 1646.98,258.654 1687.38,266.551 1727.78,312.857 1768.18,373.128 1808.58,334.447 1848.98,189.196 1889.38,93.2573 \n",
       "  1929.78,176.378 1970.18,244.366 2010.57,327.107 2050.97,456.355 2091.37,563.772 2131.77,746.164 2172.17,914.653 2212.57,1063.33 2252.97,1165.82 2293.37,1131 \n",
       "  \n",
       "  \"/>\n",
       "<polyline clip-path=\"url(#clip742)\" style=\"stroke:#e26f46; stroke-linecap:round; stroke-linejoin:round; stroke-width:4; stroke-opacity:1; fill:none\" points=\"\n",
       "  313.809,1076.3 354.208,1092.21 394.607,1178.3 435.006,1238.72 475.405,1273.59 515.805,1346.15 556.204,1395.04 596.603,1369.09 637.002,1305.11 677.401,1314.63 \n",
       "  717.801,1421.61 758.2,1427.53 798.599,1407.93 838.998,1440.34 879.397,1390.24 919.797,1338.17 960.196,1214.71 1000.59,1034.18 1040.99,952.496 1081.39,965.789 \n",
       "  1121.79,943.362 1162.19,792.024 1202.59,688.433 1242.99,594.367 1283.39,520.961 1323.79,536.928 1364.19,581.264 1404.59,586.97 1444.99,435.745 1485.39,351.265 \n",
       "  1525.78,352.443 1566.18,330.902 1606.58,313.842 1646.98,273.052 1687.38,278.194 1727.78,325.225 1768.18,371.738 1808.58,326.776 1848.98,186.157 1889.38,90.9093 \n",
       "  1929.78,180.081 1970.18,241.517 2010.57,318.031 2050.97,460.276 2091.37,579.044 2131.77,749.712 2172.17,924.346 2212.57,1053.79 2252.97,1145.94 2293.37,1135.25 \n",
       "  \n",
       "  \"/>\n",
       "<polyline clip-path=\"url(#clip742)\" style=\"stroke:#3da44d; stroke-linecap:round; stroke-linejoin:round; stroke-width:4; stroke-opacity:1; fill:none\" points=\"\n",
       "  313.809,1088.26 354.208,1087.34 394.607,1155.81 435.006,1209.21 475.405,1270.5 515.805,1336.99 556.204,1381.09 596.603,1372.91 637.002,1306.33 677.401,1318.79 \n",
       "  717.801,1409.9 758.2,1400.8 798.599,1400.98 838.998,1440.21 879.397,1380.19 919.797,1339.28 960.196,1229.88 1000.59,1063.56 1040.99,954.916 1081.39,947.324 \n",
       "  1121.79,924.69 1162.19,792.692 1202.59,690.473 1242.99,598.28 1283.39,532.811 1323.79,569.245 1364.19,606.221 1404.59,578.18 1444.99,431.266 1485.39,363.784 \n",
       "  1525.78,366.179 1566.18,323.455 1606.58,309.745 1646.98,292.435 1687.38,294.481 1727.78,344.411 1768.18,372.32 1808.58,308.767 1848.98,178.563 1889.38,87.9763 \n",
       "  1929.78,181.288 1970.18,240.285 2010.57,318.269 2050.97,461.323 2091.37,603.892 2131.77,757.475 2172.17,927.387 2212.57,1046.12 2252.97,1130.81 2293.37,1145.81 \n",
       "  \n",
       "  \"/>\n",
       "<polyline clip-path=\"url(#clip742)\" style=\"stroke:#c271d2; stroke-linecap:round; stroke-linejoin:round; stroke-width:4; stroke-opacity:1; fill:none\" points=\"\n",
       "  313.809,1072.14 354.208,1084.49 394.607,1132.78 435.006,1175.96 475.405,1260.95 515.805,1320.73 556.204,1353.31 596.603,1368.91 637.002,1309.67 677.401,1317.92 \n",
       "  717.801,1394.77 758.2,1359.64 798.599,1378.05 838.998,1411.48 879.397,1367.95 919.797,1322.36 960.196,1227.31 1000.59,1083.83 1040.99,960.616 1081.39,928.084 \n",
       "  1121.79,909.297 1162.19,806.867 1202.59,691.647 1242.99,605.57 1283.39,552.092 1323.79,603.148 1364.19,630.744 1404.59,570.733 1444.99,433.873 1485.39,391.62 \n",
       "  1525.78,369.334 1566.18,322.37 1606.58,317.79 1646.98,321.171 1687.38,314.64 1727.78,378.198 1768.18,380.386 1808.58,299.271 1848.98,175.135 1889.38,97.288 \n",
       "  1929.78,195.787 1970.18,245.304 2010.57,321.365 2050.97,464.02 2091.37,619.482 2131.77,759.564 2172.17,926.509 2212.57,1031.8 2252.97,1096.9 2293.37,1125.83 \n",
       "  \n",
       "  \"/>\n",
       "<polyline clip-path=\"url(#clip742)\" style=\"stroke:#ac8d18; stroke-linecap:round; stroke-linejoin:round; stroke-width:4; stroke-opacity:1; fill:none\" points=\"\n",
       "  313.809,1046.78 354.208,1075.68 394.607,1111.13 435.006,1147.33 475.405,1244.28 515.805,1292.86 556.204,1318.29 596.603,1359.58 637.002,1296.57 677.401,1308.52 \n",
       "  717.801,1368.63 758.2,1317.65 798.599,1336.99 838.998,1374.07 879.397,1355.18 919.797,1309.09 960.196,1222.98 1000.59,1107.59 1040.99,964.504 1081.39,905.446 \n",
       "  1121.79,875.145 1162.19,812.586 1202.59,696.439 1242.99,623.964 1283.39,578.694 1323.79,624.914 1364.19,641.846 1404.59,559.084 1444.99,457.651 1485.39,422.168 \n",
       "  1525.78,381.023 1566.18,325.53 1606.58,332.169 1646.98,334.341 1687.38,352.51 1727.78,420.118 1768.18,398.512 1808.58,302.87 1848.98,185.803 1889.38,128.127 \n",
       "  1929.78,220.759 1970.18,264.864 2010.57,340.682 2050.97,478.829 2091.37,646.149 2131.77,771.141 2172.17,935.762 2212.57,1023.35 2252.97,1072.29 2293.37,1089.47 \n",
       "  \n",
       "  \"/>\n",
       "<polyline clip-path=\"url(#clip742)\" style=\"stroke:#00a9ad; stroke-linecap:round; stroke-linejoin:round; stroke-width:4; stroke-opacity:1; fill:none\" points=\"\n",
       "  313.809,1012.59 354.208,1058.43 394.607,1099.49 435.006,1126.89 475.405,1225.09 515.805,1257.16 556.204,1287.06 596.603,1348.1 637.002,1300.83 677.401,1302.75 \n",
       "  717.801,1343.37 758.2,1277.77 798.599,1293.34 838.998,1325.54 879.397,1332.06 919.797,1292.01 960.196,1216.98 1000.59,1125.28 1040.99,969.374 1081.39,886.143 \n",
       "  1121.79,860.91 1162.19,821.647 1202.59,706.773 1242.99,652.586 1283.39,613.313 1323.79,641.445 1364.19,646.507 1404.59,554.023 1444.99,491.819 1485.39,459.545 \n",
       "  1525.78,391.151 1566.18,351.402 1606.58,352.531 1646.98,357.175 1687.38,401.475 1727.78,468.824 1768.18,421.946 1808.58,314.493 1848.98,200.656 1889.38,173.025 \n",
       "  1929.78,247.604 1970.18,302.468 2010.57,360.281 2050.97,491.38 2091.37,658.239 2131.77,777.475 2172.17,920.769 2212.57,1015.94 2252.97,1042.14 2293.37,1046.61 \n",
       "  \n",
       "  \"/>\n",
       "<polyline clip-path=\"url(#clip742)\" style=\"stroke:#ed5d92; stroke-linecap:round; stroke-linejoin:round; stroke-width:4; stroke-opacity:1; fill:none\" points=\"\n",
       "  313.809,985.098 354.208,1037.34 394.607,1082.08 435.006,1111.17 475.405,1196.65 515.805,1216.57 556.204,1244.66 596.603,1323.76 637.002,1280.29 677.401,1279.44 \n",
       "  717.801,1303.83 758.2,1236.08 798.599,1240.09 838.998,1267.77 879.397,1300.59 919.797,1286.14 960.196,1214.13 1000.59,1142.97 1040.99,972.478 1081.39,875.483 \n",
       "  1121.79,848.072 1162.19,828.392 1202.59,720.058 1242.99,682.443 1283.39,648.441 1323.79,655.917 1364.19,647.496 1404.59,556.532 1444.99,529.964 1485.39,498.93 \n",
       "  1525.78,410.621 1566.18,385.313 1606.58,363.906 1646.98,365.912 1687.38,459.638 1727.78,510.087 1768.18,437.192 1808.58,323.631 1848.98,224.403 1889.38,213.851 \n",
       "  1929.78,285.026 1970.18,354.209 2010.57,395.173 2050.97,511.68 2091.37,668.313 2131.77,777.119 2172.17,917.323 2212.57,1021.03 2252.97,1021.67 2293.37,1007.89 \n",
       "  \n",
       "  \"/>\n",
       "<polyline clip-path=\"url(#clip742)\" style=\"stroke:#c68125; stroke-linecap:round; stroke-linejoin:round; stroke-width:4; stroke-opacity:1; fill:none\" points=\"\n",
       "  313.809,959.949 354.208,1006.49 394.607,1066.45 435.006,1101.21 475.405,1171.09 515.805,1175.22 556.204,1203.07 596.603,1302 637.002,1270.9 677.401,1261.97 \n",
       "  717.801,1252.88 758.2,1188.93 798.599,1182.35 838.998,1213.67 879.397,1257.22 919.797,1278.5 960.196,1201.25 1000.59,1143.04 1040.99,966.134 1081.39,856.665 \n",
       "  1121.79,830.482 1162.19,833.334 1202.59,739.681 1242.99,700.358 1283.39,674.854 1323.79,672.064 1364.19,640.247 1404.59,555.489 1444.99,573.34 1485.39,535.249 \n",
       "  1525.78,443.06 1566.18,426.194 1606.58,380.867 1646.98,382.321 1687.38,510.851 1727.78,548.052 1768.18,463.839 1808.58,344.569 1848.98,269.738 1889.38,255.835 \n",
       "  1929.78,325.869 1970.18,395.92 2010.57,421.938 2050.97,522.004 2091.37,676.704 2131.77,767.572 2172.17,904.556 2212.57,1017.93 2252.97,996.17 2293.37,964.837 \n",
       "  \n",
       "  \"/>\n",
       "<polyline clip-path=\"url(#clip742)\" style=\"stroke:#00a98d; stroke-linecap:round; stroke-linejoin:round; stroke-width:4; stroke-opacity:1; fill:none\" points=\"\n",
       "  313.809,938.397 354.208,970.685 394.607,1029.72 435.006,1084.58 475.405,1129.92 515.805,1112.57 556.204,1157.45 596.603,1258.34 637.002,1248.71 677.401,1230.77 \n",
       "  717.801,1207.13 758.2,1143.63 798.599,1131.69 838.998,1156.72 879.397,1216.98 919.797,1263.45 960.196,1198.09 1000.59,1139.23 1040.99,961.506 1081.39,849.989 \n",
       "  1121.79,824.423 1162.19,847.774 1202.59,772.278 1242.99,713.359 1283.39,697.312 1323.79,694.454 1364.19,636.162 1404.59,560.624 1444.99,607.779 1485.39,575.599 \n",
       "  1525.78,481.748 1566.18,471.725 1606.58,398.408 1646.98,410.66 1687.38,555.727 1727.78,587.165 1768.18,491.092 1808.58,373.765 1848.98,318.933 1889.38,308.962 \n",
       "  1929.78,369.433 1970.18,436.636 2010.57,455.937 2050.97,535.759 2091.37,672.708 2131.77,752.286 2172.17,886.69 2212.57,1011.3 2252.97,966.298 2293.37,929.083 \n",
       "  \n",
       "  \"/>\n",
       "<polyline clip-path=\"url(#clip742)\" style=\"stroke:#8e971d; stroke-linecap:round; stroke-linejoin:round; stroke-width:4; stroke-opacity:1; fill:none\" points=\"\n",
       "  313.809,926.028 354.208,940.239 394.607,992.017 435.006,1078.45 475.405,1086.9 515.805,1051.96 556.204,1106.4 596.603,1215 637.002,1231.12 677.401,1198.38 \n",
       "  717.801,1155.3 758.2,1090.71 798.599,1071.26 838.998,1107.23 879.397,1179.91 919.797,1237.98 960.196,1186.08 1000.59,1129.08 1040.99,941.728 1081.39,844.97 \n",
       "  1121.79,806.217 1162.19,855.266 1202.59,793.808 1242.99,726.207 1283.39,718.222 1323.79,717.572 1364.19,632.388 1404.59,569.743 1444.99,649.416 1485.39,611.314 \n",
       "  1525.78,539.473 1566.18,511.128 1606.58,439.669 1646.98,449.713 1687.38,600.793 1727.78,620.245 1768.18,527.985 1808.58,410.715 1848.98,384.706 1889.38,370.646 \n",
       "  1929.78,434.599 1970.18,482.506 2010.57,499.227 2050.97,566.507 2091.37,669.407 2131.77,742.907 2172.17,873.638 2212.57,1000.26 2252.97,945.423 2293.37,899.89 \n",
       "  \n",
       "  \"/>\n",
       "<polyline clip-path=\"url(#clip742)\" style=\"stroke:#00a8cb; stroke-linecap:round; stroke-linejoin:round; stroke-width:4; stroke-opacity:1; fill:none\" points=\"\n",
       "  313.809,912.86 354.208,896.376 394.607,944.775 435.006,1055.15 475.405,1046.01 515.805,984.314 556.204,1057.93 596.603,1163.86 637.002,1203.14 677.401,1154.82 \n",
       "  717.801,1094.86 758.2,1025.6 798.599,1001.01 838.998,1051.45 879.397,1138.46 919.797,1202.92 960.196,1168.17 1000.59,1101.16 1040.99,917.448 1081.39,834.668 \n",
       "  1121.79,807.586 1162.19,864.911 1202.59,819.622 1242.99,742.275 1283.39,742.299 1323.79,734.917 1364.19,636.156 1404.59,584.873 1444.99,680.87 1485.39,645.89 \n",
       "  1525.78,596.573 1566.18,556.46 1606.58,499.621 1646.98,514.566 1687.38,645.55 1727.78,662.314 1768.18,577.284 1808.58,463.34 1848.98,443.317 1889.38,448.74 \n",
       "  1929.78,502.453 1970.18,522.93 2010.57,543.105 2050.97,600.154 2091.37,662.512 2131.77,736.101 2172.17,861.761 2212.57,978.297 2252.97,920.889 2293.37,871.705 \n",
       "  \n",
       "  \"/>\n",
       "<path clip-path=\"url(#clip740)\" d=\"\n",
       "M1965.84 717.298 L2282.81 717.298 L2282.81 95.2176 L1965.84 95.2176  Z\n",
       "  \" fill=\"#ffffff\" fill-rule=\"evenodd\" fill-opacity=\"1\"/>\n",
       "<polyline clip-path=\"url(#clip740)\" style=\"stroke:#000000; stroke-linecap:round; stroke-linejoin:round; stroke-width:4; stroke-opacity:1; fill:none\" points=\"\n",
       "  1965.84,717.298 2282.81,717.298 2282.81,95.2176 1965.84,95.2176 1965.84,717.298 \n",
       "  \"/>\n",
       "<polyline clip-path=\"url(#clip740)\" style=\"stroke:#009af9; stroke-linecap:round; stroke-linejoin:round; stroke-width:4; stroke-opacity:1; fill:none\" points=\"\n",
       "  1989.16,147.058 2129.05,147.058 \n",
       "  \"/>\n",
       "<path clip-path=\"url(#clip740)\" d=\"M2166.21 166.745 Q2164.4 171.375 2162.69 172.787 Q2160.97 174.199 2158.1 174.199 L2154.7 174.199 L2154.7 170.634 L2157.2 170.634 Q2158.96 170.634 2159.93 169.8 Q2160.9 168.967 2162.08 165.865 L2162.85 163.921 L2152.36 138.412 L2156.88 138.412 L2164.98 158.689 L2173.08 138.412 L2177.59 138.412 L2166.21 166.745 Z\" fill=\"#000000\" fill-rule=\"evenodd\" fill-opacity=\"1\" /><path clip-path=\"url(#clip740)\" d=\"M2184.89 160.402 L2192.52 160.402 L2192.52 134.037 L2184.21 135.703 L2184.21 131.444 L2192.48 129.778 L2197.15 129.778 L2197.15 160.402 L2204.79 160.402 L2204.79 164.338 L2184.89 164.338 L2184.89 160.402 Z\" fill=\"#000000\" fill-rule=\"evenodd\" fill-opacity=\"1\" /><polyline clip-path=\"url(#clip740)\" style=\"stroke:#e26f46; stroke-linecap:round; stroke-linejoin:round; stroke-width:4; stroke-opacity:1; fill:none\" points=\"\n",
       "  1989.16,198.898 2129.05,198.898 \n",
       "  \"/>\n",
       "<path clip-path=\"url(#clip740)\" d=\"M2166.21 218.585 Q2164.4 223.215 2162.69 224.627 Q2160.97 226.039 2158.1 226.039 L2154.7 226.039 L2154.7 222.474 L2157.2 222.474 Q2158.96 222.474 2159.93 221.64 Q2160.9 220.807 2162.08 217.705 L2162.85 215.761 L2152.36 190.252 L2156.88 190.252 L2164.98 210.529 L2173.08 190.252 L2177.59 190.252 L2166.21 218.585 Z\" fill=\"#000000\" fill-rule=\"evenodd\" fill-opacity=\"1\" /><path clip-path=\"url(#clip740)\" d=\"M2188.1 212.242 L2204.42 212.242 L2204.42 216.178 L2182.48 216.178 L2182.48 212.242 Q2185.14 209.488 2189.72 204.858 Q2194.33 200.205 2195.51 198.863 Q2197.76 196.34 2198.64 194.604 Q2199.54 192.844 2199.54 191.155 Q2199.54 188.4 2197.59 186.664 Q2195.67 184.928 2192.57 184.928 Q2190.37 184.928 2187.92 185.692 Q2185.49 186.455 2182.71 188.006 L2182.71 183.284 Q2185.53 182.15 2187.99 181.571 Q2190.44 180.993 2192.48 180.993 Q2197.85 180.993 2201.04 183.678 Q2204.24 186.363 2204.24 190.854 Q2204.24 192.983 2203.43 194.905 Q2202.64 196.803 2200.53 199.395 Q2199.96 200.067 2196.85 203.284 Q2193.75 206.479 2188.1 212.242 Z\" fill=\"#000000\" fill-rule=\"evenodd\" fill-opacity=\"1\" /><polyline clip-path=\"url(#clip740)\" style=\"stroke:#3da44d; stroke-linecap:round; stroke-linejoin:round; stroke-width:4; stroke-opacity:1; fill:none\" points=\"\n",
       "  1989.16,250.738 2129.05,250.738 \n",
       "  \"/>\n",
       "<path clip-path=\"url(#clip740)\" d=\"M2166.21 270.425 Q2164.4 275.055 2162.69 276.467 Q2160.97 277.879 2158.1 277.879 L2154.7 277.879 L2154.7 274.314 L2157.2 274.314 Q2158.96 274.314 2159.93 273.48 Q2160.9 272.647 2162.08 269.545 L2162.85 267.601 L2152.36 242.092 L2156.88 242.092 L2164.98 262.369 L2173.08 242.092 L2177.59 242.092 L2166.21 270.425 Z\" fill=\"#000000\" fill-rule=\"evenodd\" fill-opacity=\"1\" /><path clip-path=\"url(#clip740)\" d=\"M2198.24 249.383 Q2201.6 250.101 2203.47 252.369 Q2205.37 254.638 2205.37 257.971 Q2205.37 263.087 2201.85 265.888 Q2198.33 268.689 2191.85 268.689 Q2189.68 268.689 2187.36 268.249 Q2185.07 267.832 2182.62 266.976 L2182.62 262.462 Q2184.56 263.596 2186.88 264.175 Q2189.19 264.754 2191.71 264.754 Q2196.11 264.754 2198.4 263.018 Q2200.72 261.281 2200.72 257.971 Q2200.72 254.916 2198.57 253.203 Q2196.44 251.467 2192.62 251.467 L2188.59 251.467 L2188.59 247.624 L2192.8 247.624 Q2196.25 247.624 2198.08 246.258 Q2199.91 244.87 2199.91 242.277 Q2199.91 239.615 2198.01 238.203 Q2196.14 236.768 2192.62 236.768 Q2190.7 236.768 2188.5 237.184 Q2186.3 237.601 2183.66 238.481 L2183.66 234.314 Q2186.32 233.573 2188.64 233.203 Q2190.97 232.833 2193.03 232.833 Q2198.36 232.833 2201.46 235.263 Q2204.56 237.67 2204.56 241.791 Q2204.56 244.661 2202.92 246.652 Q2201.27 248.62 2198.24 249.383 Z\" fill=\"#000000\" fill-rule=\"evenodd\" fill-opacity=\"1\" /><polyline clip-path=\"url(#clip740)\" style=\"stroke:#c271d2; stroke-linecap:round; stroke-linejoin:round; stroke-width:4; stroke-opacity:1; fill:none\" points=\"\n",
       "  1989.16,302.578 2129.05,302.578 \n",
       "  \"/>\n",
       "<path clip-path=\"url(#clip740)\" d=\"M2166.21 322.265 Q2164.4 326.895 2162.69 328.307 Q2160.97 329.719 2158.1 329.719 L2154.7 329.719 L2154.7 326.154 L2157.2 326.154 Q2158.96 326.154 2159.93 325.32 Q2160.9 324.487 2162.08 321.385 L2162.85 319.441 L2152.36 293.932 L2156.88 293.932 L2164.98 314.209 L2173.08 293.932 L2177.59 293.932 L2166.21 322.265 Z\" fill=\"#000000\" fill-rule=\"evenodd\" fill-opacity=\"1\" /><path clip-path=\"url(#clip740)\" d=\"M2196.92 289.372 L2185.12 307.821 L2196.92 307.821 L2196.92 289.372 M2195.7 285.298 L2201.58 285.298 L2201.58 307.821 L2206.51 307.821 L2206.51 311.709 L2201.58 311.709 L2201.58 319.858 L2196.92 319.858 L2196.92 311.709 L2181.32 311.709 L2181.32 307.196 L2195.7 285.298 Z\" fill=\"#000000\" fill-rule=\"evenodd\" fill-opacity=\"1\" /><polyline clip-path=\"url(#clip740)\" style=\"stroke:#ac8d18; stroke-linecap:round; stroke-linejoin:round; stroke-width:4; stroke-opacity:1; fill:none\" points=\"\n",
       "  1989.16,354.418 2129.05,354.418 \n",
       "  \"/>\n",
       "<path clip-path=\"url(#clip740)\" d=\"M2166.21 374.105 Q2164.4 378.735 2162.69 380.147 Q2160.97 381.559 2158.1 381.559 L2154.7 381.559 L2154.7 377.994 L2157.2 377.994 Q2158.96 377.994 2159.93 377.16 Q2160.9 376.327 2162.08 373.225 L2162.85 371.281 L2152.36 345.772 L2156.88 345.772 L2164.98 366.049 L2173.08 345.772 L2177.59 345.772 L2166.21 374.105 Z\" fill=\"#000000\" fill-rule=\"evenodd\" fill-opacity=\"1\" /><path clip-path=\"url(#clip740)\" d=\"M2184.12 337.138 L2202.48 337.138 L2202.48 341.073 L2188.4 341.073 L2188.4 349.545 Q2189.42 349.198 2190.44 349.036 Q2191.46 348.85 2192.48 348.85 Q2198.27 348.85 2201.64 352.022 Q2205.02 355.193 2205.02 360.61 Q2205.02 366.188 2201.55 369.29 Q2198.08 372.369 2191.76 372.369 Q2189.58 372.369 2187.32 371.998 Q2185.07 371.628 2182.66 370.887 L2182.66 366.188 Q2184.75 367.323 2186.97 367.878 Q2189.19 368.434 2191.67 368.434 Q2195.67 368.434 2198.01 366.327 Q2200.35 364.221 2200.35 360.61 Q2200.35 356.999 2198.01 354.892 Q2195.67 352.786 2191.67 352.786 Q2189.79 352.786 2187.92 353.202 Q2186.07 353.619 2184.12 354.499 L2184.12 337.138 Z\" fill=\"#000000\" fill-rule=\"evenodd\" fill-opacity=\"1\" /><polyline clip-path=\"url(#clip740)\" style=\"stroke:#00a9ad; stroke-linecap:round; stroke-linejoin:round; stroke-width:4; stroke-opacity:1; fill:none\" points=\"\n",
       "  1989.16,406.258 2129.05,406.258 \n",
       "  \"/>\n",
       "<path clip-path=\"url(#clip740)\" d=\"M2166.21 425.945 Q2164.4 430.575 2162.69 431.987 Q2160.97 433.399 2158.1 433.399 L2154.7 433.399 L2154.7 429.834 L2157.2 429.834 Q2158.96 429.834 2159.93 429 Q2160.9 428.167 2162.08 425.065 L2162.85 423.121 L2152.36 397.612 L2156.88 397.612 L2164.98 417.889 L2173.08 397.612 L2177.59 397.612 L2166.21 425.945 Z\" fill=\"#000000\" fill-rule=\"evenodd\" fill-opacity=\"1\" /><path clip-path=\"url(#clip740)\" d=\"M2194.65 404.394 Q2191.51 404.394 2189.65 406.547 Q2187.83 408.7 2187.83 412.45 Q2187.83 416.176 2189.65 418.352 Q2191.51 420.505 2194.65 420.505 Q2197.8 420.505 2199.63 418.352 Q2201.48 416.176 2201.48 412.45 Q2201.48 408.7 2199.63 406.547 Q2197.8 404.394 2194.65 404.394 M2203.94 389.741 L2203.94 394.001 Q2202.18 393.167 2200.37 392.728 Q2198.59 392.288 2196.83 392.288 Q2192.2 392.288 2189.75 395.413 Q2187.32 398.538 2186.97 404.857 Q2188.33 402.843 2190.39 401.778 Q2192.46 400.69 2194.93 400.69 Q2200.14 400.69 2203.15 403.862 Q2206.18 407.01 2206.18 412.45 Q2206.18 417.774 2203.03 420.991 Q2199.89 424.209 2194.65 424.209 Q2188.66 424.209 2185.49 419.626 Q2182.32 415.019 2182.32 406.292 Q2182.32 398.098 2186.21 393.237 Q2190.09 388.353 2196.64 388.353 Q2198.4 388.353 2200.19 388.7 Q2201.99 389.047 2203.94 389.741 Z\" fill=\"#000000\" fill-rule=\"evenodd\" fill-opacity=\"1\" /><polyline clip-path=\"url(#clip740)\" style=\"stroke:#ed5d92; stroke-linecap:round; stroke-linejoin:round; stroke-width:4; stroke-opacity:1; fill:none\" points=\"\n",
       "  1989.16,458.098 2129.05,458.098 \n",
       "  \"/>\n",
       "<path clip-path=\"url(#clip740)\" d=\"M2166.21 477.785 Q2164.4 482.415 2162.69 483.827 Q2160.97 485.239 2158.1 485.239 L2154.7 485.239 L2154.7 481.674 L2157.2 481.674 Q2158.96 481.674 2159.93 480.84 Q2160.9 480.007 2162.08 476.905 L2162.85 474.961 L2152.36 449.452 L2156.88 449.452 L2164.98 469.729 L2173.08 449.452 L2177.59 449.452 L2166.21 477.785 Z\" fill=\"#000000\" fill-rule=\"evenodd\" fill-opacity=\"1\" /><path clip-path=\"url(#clip740)\" d=\"M2182.9 440.818 L2205.12 440.818 L2205.12 442.808 L2192.57 475.378 L2187.69 475.378 L2199.49 444.753 L2182.9 444.753 L2182.9 440.818 Z\" fill=\"#000000\" fill-rule=\"evenodd\" fill-opacity=\"1\" /><polyline clip-path=\"url(#clip740)\" style=\"stroke:#c68125; stroke-linecap:round; stroke-linejoin:round; stroke-width:4; stroke-opacity:1; fill:none\" points=\"\n",
       "  1989.16,509.938 2129.05,509.938 \n",
       "  \"/>\n",
       "<path clip-path=\"url(#clip740)\" d=\"M2166.21 529.625 Q2164.4 534.255 2162.69 535.667 Q2160.97 537.079 2158.1 537.079 L2154.7 537.079 L2154.7 533.514 L2157.2 533.514 Q2158.96 533.514 2159.93 532.68 Q2160.9 531.847 2162.08 528.745 L2162.85 526.801 L2152.36 501.292 L2156.88 501.292 L2164.98 521.569 L2173.08 501.292 L2177.59 501.292 L2166.21 529.625 Z\" fill=\"#000000\" fill-rule=\"evenodd\" fill-opacity=\"1\" /><path clip-path=\"url(#clip740)\" d=\"M2194.08 510.806 Q2190.74 510.806 2188.82 512.588 Q2186.92 514.37 2186.92 517.495 Q2186.92 520.62 2188.82 522.403 Q2190.74 524.185 2194.08 524.185 Q2197.41 524.185 2199.33 522.403 Q2201.25 520.597 2201.25 517.495 Q2201.25 514.37 2199.33 512.588 Q2197.43 510.806 2194.08 510.806 M2189.4 508.815 Q2186.39 508.074 2184.7 506.014 Q2183.03 503.954 2183.03 500.991 Q2183.03 496.847 2185.97 494.44 Q2188.94 492.033 2194.08 492.033 Q2199.24 492.033 2202.18 494.44 Q2205.12 496.847 2205.12 500.991 Q2205.12 503.954 2203.43 506.014 Q2201.76 508.074 2198.77 508.815 Q2202.15 509.602 2204.03 511.894 Q2205.93 514.185 2205.93 517.495 Q2205.93 522.519 2202.85 525.204 Q2199.79 527.889 2194.08 527.889 Q2188.36 527.889 2185.28 525.204 Q2182.22 522.519 2182.22 517.495 Q2182.22 514.185 2184.12 511.894 Q2186.02 509.602 2189.4 508.815 M2187.69 501.431 Q2187.69 504.116 2189.35 505.62 Q2191.04 507.125 2194.08 507.125 Q2197.08 507.125 2198.77 505.62 Q2200.49 504.116 2200.49 501.431 Q2200.49 498.745 2198.77 497.241 Q2197.08 495.736 2194.08 495.736 Q2191.04 495.736 2189.35 497.241 Q2187.69 498.745 2187.69 501.431 Z\" fill=\"#000000\" fill-rule=\"evenodd\" fill-opacity=\"1\" /><polyline clip-path=\"url(#clip740)\" style=\"stroke:#00a98d; stroke-linecap:round; stroke-linejoin:round; stroke-width:4; stroke-opacity:1; fill:none\" points=\"\n",
       "  1989.16,561.778 2129.05,561.778 \n",
       "  \"/>\n",
       "<path clip-path=\"url(#clip740)\" d=\"M2166.21 581.465 Q2164.4 586.095 2162.69 587.507 Q2160.97 588.919 2158.1 588.919 L2154.7 588.919 L2154.7 585.354 L2157.2 585.354 Q2158.96 585.354 2159.93 584.52 Q2160.9 583.687 2162.08 580.585 L2162.85 578.641 L2152.36 553.132 L2156.88 553.132 L2164.98 573.409 L2173.08 553.132 L2177.59 553.132 L2166.21 581.465 Z\" fill=\"#000000\" fill-rule=\"evenodd\" fill-opacity=\"1\" /><path clip-path=\"url(#clip740)\" d=\"M2184.21 578.34 L2184.21 574.081 Q2185.97 574.914 2187.78 575.354 Q2189.58 575.794 2191.32 575.794 Q2195.95 575.794 2198.38 572.692 Q2200.83 569.567 2201.18 563.224 Q2199.84 565.215 2197.78 566.28 Q2195.72 567.345 2193.22 567.345 Q2188.03 567.345 2185 564.22 Q2181.99 561.072 2181.99 555.632 Q2181.99 550.308 2185.14 547.09 Q2188.29 543.873 2193.52 543.873 Q2199.52 543.873 2202.66 548.479 Q2205.83 553.062 2205.83 561.812 Q2205.83 569.984 2201.95 574.868 Q2198.08 579.729 2191.53 579.729 Q2189.77 579.729 2187.96 579.382 Q2186.16 579.034 2184.21 578.34 M2193.52 563.687 Q2196.67 563.687 2198.5 561.534 Q2200.35 559.382 2200.35 555.632 Q2200.35 551.905 2198.5 549.752 Q2196.67 547.576 2193.52 547.576 Q2190.37 547.576 2188.52 549.752 Q2186.69 551.905 2186.69 555.632 Q2186.69 559.382 2188.52 561.534 Q2190.37 563.687 2193.52 563.687 Z\" fill=\"#000000\" fill-rule=\"evenodd\" fill-opacity=\"1\" /><polyline clip-path=\"url(#clip740)\" style=\"stroke:#8e971d; stroke-linecap:round; stroke-linejoin:round; stroke-width:4; stroke-opacity:1; fill:none\" points=\"\n",
       "  1989.16,613.618 2129.05,613.618 \n",
       "  \"/>\n",
       "<path clip-path=\"url(#clip740)\" d=\"M2166.21 633.305 Q2164.4 637.935 2162.69 639.347 Q2160.97 640.759 2158.1 640.759 L2154.7 640.759 L2154.7 637.194 L2157.2 637.194 Q2158.96 637.194 2159.93 636.36 Q2160.9 635.527 2162.08 632.425 L2162.85 630.481 L2152.36 604.972 L2156.88 604.972 L2164.98 625.249 L2173.08 604.972 L2177.59 604.972 L2166.21 633.305 Z\" fill=\"#000000\" fill-rule=\"evenodd\" fill-opacity=\"1\" /><path clip-path=\"url(#clip740)\" d=\"M2184.89 626.962 L2192.52 626.962 L2192.52 600.597 L2184.21 602.263 L2184.21 598.004 L2192.48 596.338 L2197.15 596.338 L2197.15 626.962 L2204.79 626.962 L2204.79 630.898 L2184.89 630.898 L2184.89 626.962 Z\" fill=\"#000000\" fill-rule=\"evenodd\" fill-opacity=\"1\" /><path clip-path=\"url(#clip740)\" d=\"M2224.24 599.416 Q2220.63 599.416 2218.8 602.981 Q2216.99 606.523 2216.99 613.652 Q2216.99 620.759 2218.8 624.324 Q2220.63 627.865 2224.24 627.865 Q2227.87 627.865 2229.68 624.324 Q2231.51 620.759 2231.51 613.652 Q2231.51 606.523 2229.68 602.981 Q2227.87 599.416 2224.24 599.416 M2224.24 595.713 Q2230.05 595.713 2233.1 600.319 Q2236.18 604.902 2236.18 613.652 Q2236.18 622.379 2233.1 626.986 Q2230.05 631.569 2224.24 631.569 Q2218.43 631.569 2215.35 626.986 Q2212.29 622.379 2212.29 613.652 Q2212.29 604.902 2215.35 600.319 Q2218.43 595.713 2224.24 595.713 Z\" fill=\"#000000\" fill-rule=\"evenodd\" fill-opacity=\"1\" /><polyline clip-path=\"url(#clip740)\" style=\"stroke:#00a8cb; stroke-linecap:round; stroke-linejoin:round; stroke-width:4; stroke-opacity:1; fill:none\" points=\"\n",
       "  1989.16,665.458 2129.05,665.458 \n",
       "  \"/>\n",
       "<path clip-path=\"url(#clip740)\" d=\"M2166.21 685.145 Q2164.4 689.775 2162.69 691.187 Q2160.97 692.599 2158.1 692.599 L2154.7 692.599 L2154.7 689.034 L2157.2 689.034 Q2158.96 689.034 2159.93 688.2 Q2160.9 687.367 2162.08 684.265 L2162.85 682.321 L2152.36 656.812 L2156.88 656.812 L2164.98 677.089 L2173.08 656.812 L2177.59 656.812 L2166.21 685.145 Z\" fill=\"#000000\" fill-rule=\"evenodd\" fill-opacity=\"1\" /><path clip-path=\"url(#clip740)\" d=\"M2184.89 678.802 L2192.52 678.802 L2192.52 652.437 L2184.21 654.103 L2184.21 649.844 L2192.48 648.178 L2197.15 648.178 L2197.15 678.802 L2204.79 678.802 L2204.79 682.738 L2184.89 682.738 L2184.89 678.802 Z\" fill=\"#000000\" fill-rule=\"evenodd\" fill-opacity=\"1\" /><path clip-path=\"url(#clip740)\" d=\"M2215.05 678.802 L2222.69 678.802 L2222.69 652.437 L2214.38 654.103 L2214.38 649.844 L2222.64 648.178 L2227.32 648.178 L2227.32 678.802 L2234.95 678.802 L2234.95 682.738 L2215.05 682.738 L2215.05 678.802 Z\" fill=\"#000000\" fill-rule=\"evenodd\" fill-opacity=\"1\" /></svg>\n"
      ],
      "text/html": [
       "<?xml version=\"1.0\" encoding=\"utf-8\"?>\n",
       "<svg xmlns=\"http://www.w3.org/2000/svg\" xmlns:xlink=\"http://www.w3.org/1999/xlink\" width=\"600\" height=\"400\" viewBox=\"0 0 2400 1600\">\n",
       "<defs>\n",
       "  <clipPath id=\"clip790\">\n",
       "    <rect x=\"0\" y=\"0\" width=\"2400\" height=\"1600\"/>\n",
       "  </clipPath>\n",
       "</defs>\n",
       "<path clip-path=\"url(#clip790)\" d=\"\n",
       "M0 1600 L2400 1600 L2400 0 L0 0  Z\n",
       "  \" fill=\"#ffffff\" fill-rule=\"evenodd\" fill-opacity=\"1\"/>\n",
       "<defs>\n",
       "  <clipPath id=\"clip791\">\n",
       "    <rect x=\"480\" y=\"0\" width=\"1681\" height=\"1600\"/>\n",
       "  </clipPath>\n",
       "</defs>\n",
       "<path clip-path=\"url(#clip790)\" d=\"\n",
       "M254.422 1486.45 L2352.76 1486.45 L2352.76 47.2441 L254.422 47.2441  Z\n",
       "  \" fill=\"#ffffff\" fill-rule=\"evenodd\" fill-opacity=\"1\"/>\n",
       "<defs>\n",
       "  <clipPath id=\"clip792\">\n",
       "    <rect x=\"254\" y=\"47\" width=\"2099\" height=\"1440\"/>\n",
       "  </clipPath>\n",
       "</defs>\n",
       "<polyline clip-path=\"url(#clip792)\" style=\"stroke:#000000; stroke-linecap:round; stroke-linejoin:round; stroke-width:2; stroke-opacity:0.1; fill:none\" points=\"\n",
       "  273.409,1486.45 273.409,47.2441 \n",
       "  \"/>\n",
       "<polyline clip-path=\"url(#clip792)\" style=\"stroke:#000000; stroke-linecap:round; stroke-linejoin:round; stroke-width:2; stroke-opacity:0.1; fill:none\" points=\"\n",
       "  677.401,1486.45 677.401,47.2441 \n",
       "  \"/>\n",
       "<polyline clip-path=\"url(#clip792)\" style=\"stroke:#000000; stroke-linecap:round; stroke-linejoin:round; stroke-width:2; stroke-opacity:0.1; fill:none\" points=\"\n",
       "  1081.39,1486.45 1081.39,47.2441 \n",
       "  \"/>\n",
       "<polyline clip-path=\"url(#clip792)\" style=\"stroke:#000000; stroke-linecap:round; stroke-linejoin:round; stroke-width:2; stroke-opacity:0.1; fill:none\" points=\"\n",
       "  1485.39,1486.45 1485.39,47.2441 \n",
       "  \"/>\n",
       "<polyline clip-path=\"url(#clip792)\" style=\"stroke:#000000; stroke-linecap:round; stroke-linejoin:round; stroke-width:2; stroke-opacity:0.1; fill:none\" points=\"\n",
       "  1889.38,1486.45 1889.38,47.2441 \n",
       "  \"/>\n",
       "<polyline clip-path=\"url(#clip792)\" style=\"stroke:#000000; stroke-linecap:round; stroke-linejoin:round; stroke-width:2; stroke-opacity:0.1; fill:none\" points=\"\n",
       "  2293.37,1486.45 2293.37,47.2441 \n",
       "  \"/>\n",
       "<polyline clip-path=\"url(#clip790)\" style=\"stroke:#000000; stroke-linecap:round; stroke-linejoin:round; stroke-width:4; stroke-opacity:1; fill:none\" points=\"\n",
       "  254.422,1486.45 2352.76,1486.45 \n",
       "  \"/>\n",
       "<polyline clip-path=\"url(#clip790)\" style=\"stroke:#000000; stroke-linecap:round; stroke-linejoin:round; stroke-width:4; stroke-opacity:1; fill:none\" points=\"\n",
       "  273.409,1486.45 273.409,1467.55 \n",
       "  \"/>\n",
       "<polyline clip-path=\"url(#clip790)\" style=\"stroke:#000000; stroke-linecap:round; stroke-linejoin:round; stroke-width:4; stroke-opacity:1; fill:none\" points=\"\n",
       "  677.401,1486.45 677.401,1467.55 \n",
       "  \"/>\n",
       "<polyline clip-path=\"url(#clip790)\" style=\"stroke:#000000; stroke-linecap:round; stroke-linejoin:round; stroke-width:4; stroke-opacity:1; fill:none\" points=\"\n",
       "  1081.39,1486.45 1081.39,1467.55 \n",
       "  \"/>\n",
       "<polyline clip-path=\"url(#clip790)\" style=\"stroke:#000000; stroke-linecap:round; stroke-linejoin:round; stroke-width:4; stroke-opacity:1; fill:none\" points=\"\n",
       "  1485.39,1486.45 1485.39,1467.55 \n",
       "  \"/>\n",
       "<polyline clip-path=\"url(#clip790)\" style=\"stroke:#000000; stroke-linecap:round; stroke-linejoin:round; stroke-width:4; stroke-opacity:1; fill:none\" points=\"\n",
       "  1889.38,1486.45 1889.38,1467.55 \n",
       "  \"/>\n",
       "<polyline clip-path=\"url(#clip790)\" style=\"stroke:#000000; stroke-linecap:round; stroke-linejoin:round; stroke-width:4; stroke-opacity:1; fill:none\" points=\"\n",
       "  2293.37,1486.45 2293.37,1467.55 \n",
       "  \"/>\n",
       "<path clip-path=\"url(#clip790)\" d=\"M273.409 1517.37 Q269.798 1517.37 267.97 1520.93 Q266.164 1524.47 266.164 1531.6 Q266.164 1538.71 267.97 1542.27 Q269.798 1545.82 273.409 1545.82 Q277.044 1545.82 278.849 1542.27 Q280.678 1538.71 280.678 1531.6 Q280.678 1524.47 278.849 1520.93 Q277.044 1517.37 273.409 1517.37 M273.409 1513.66 Q279.22 1513.66 282.275 1518.27 Q285.354 1522.85 285.354 1531.6 Q285.354 1540.33 282.275 1544.94 Q279.22 1549.52 273.409 1549.52 Q267.599 1549.52 264.521 1544.94 Q261.465 1540.33 261.465 1531.6 Q261.465 1522.85 264.521 1518.27 Q267.599 1513.66 273.409 1513.66 Z\" fill=\"#000000\" fill-rule=\"evenodd\" fill-opacity=\"1\" /><path clip-path=\"url(#clip790)\" d=\"M652.089 1544.91 L659.728 1544.91 L659.728 1518.55 L651.418 1520.21 L651.418 1515.95 L659.682 1514.29 L664.357 1514.29 L664.357 1544.91 L671.996 1544.91 L671.996 1548.85 L652.089 1548.85 L652.089 1544.91 Z\" fill=\"#000000\" fill-rule=\"evenodd\" fill-opacity=\"1\" /><path clip-path=\"url(#clip790)\" d=\"M691.441 1517.37 Q687.83 1517.37 686.001 1520.93 Q684.195 1524.47 684.195 1531.6 Q684.195 1538.71 686.001 1542.27 Q687.83 1545.82 691.441 1545.82 Q695.075 1545.82 696.88 1542.27 Q698.709 1538.71 698.709 1531.6 Q698.709 1524.47 696.88 1520.93 Q695.075 1517.37 691.441 1517.37 M691.441 1513.66 Q697.251 1513.66 700.306 1518.27 Q703.385 1522.85 703.385 1531.6 Q703.385 1540.33 700.306 1544.94 Q697.251 1549.52 691.441 1549.52 Q685.63 1549.52 682.552 1544.94 Q679.496 1540.33 679.496 1531.6 Q679.496 1522.85 682.552 1518.27 Q685.63 1513.66 691.441 1513.66 Z\" fill=\"#000000\" fill-rule=\"evenodd\" fill-opacity=\"1\" /><path clip-path=\"url(#clip790)\" d=\"M1060.17 1544.91 L1076.49 1544.91 L1076.49 1548.85 L1054.54 1548.85 L1054.54 1544.91 Q1057.2 1542.16 1061.79 1537.53 Q1066.39 1532.88 1067.57 1531.53 Q1069.82 1529.01 1070.7 1527.27 Q1071.6 1525.51 1071.6 1523.82 Q1071.6 1521.07 1069.66 1519.33 Q1067.74 1517.6 1064.63 1517.6 Q1062.44 1517.6 1059.98 1518.36 Q1057.55 1519.13 1054.77 1520.68 L1054.77 1515.95 Q1057.6 1514.82 1060.05 1514.24 Q1062.5 1513.66 1064.54 1513.66 Q1069.91 1513.66 1073.11 1516.35 Q1076.3 1519.03 1076.3 1523.52 Q1076.3 1525.65 1075.49 1527.57 Q1074.7 1529.47 1072.6 1532.07 Q1072.02 1532.74 1068.92 1535.95 Q1065.81 1539.15 1060.17 1544.91 Z\" fill=\"#000000\" fill-rule=\"evenodd\" fill-opacity=\"1\" /><path clip-path=\"url(#clip790)\" d=\"M1096.3 1517.37 Q1092.69 1517.37 1090.86 1520.93 Q1089.06 1524.47 1089.06 1531.6 Q1089.06 1538.71 1090.86 1542.27 Q1092.69 1545.82 1096.3 1545.82 Q1099.93 1545.82 1101.74 1542.27 Q1103.57 1538.71 1103.57 1531.6 Q1103.57 1524.47 1101.74 1520.93 Q1099.93 1517.37 1096.3 1517.37 M1096.3 1513.66 Q1102.11 1513.66 1105.17 1518.27 Q1108.24 1522.85 1108.24 1531.6 Q1108.24 1540.33 1105.17 1544.94 Q1102.11 1549.52 1096.3 1549.52 Q1090.49 1549.52 1087.41 1544.94 Q1084.36 1540.33 1084.36 1531.6 Q1084.36 1522.85 1087.41 1518.27 Q1090.49 1513.66 1096.3 1513.66 Z\" fill=\"#000000\" fill-rule=\"evenodd\" fill-opacity=\"1\" /><path clip-path=\"url(#clip790)\" d=\"M1474.23 1530.21 Q1477.58 1530.93 1479.46 1533.2 Q1481.36 1535.47 1481.36 1538.8 Q1481.36 1543.92 1477.84 1546.72 Q1474.32 1549.52 1467.84 1549.52 Q1465.66 1549.52 1463.35 1549.08 Q1461.06 1548.66 1458.6 1547.81 L1458.6 1543.29 Q1460.55 1544.43 1462.86 1545.01 Q1465.18 1545.58 1467.7 1545.58 Q1472.1 1545.58 1474.39 1543.85 Q1476.7 1542.11 1476.7 1538.8 Q1476.7 1535.75 1474.55 1534.03 Q1472.42 1532.3 1468.6 1532.3 L1464.58 1532.3 L1464.58 1528.45 L1468.79 1528.45 Q1472.24 1528.45 1474.07 1527.09 Q1475.89 1525.7 1475.89 1523.11 Q1475.89 1520.45 1474 1519.03 Q1472.12 1517.6 1468.6 1517.6 Q1466.68 1517.6 1464.48 1518.01 Q1462.28 1518.43 1459.64 1519.31 L1459.64 1515.14 Q1462.31 1514.4 1464.62 1514.03 Q1466.96 1513.66 1469.02 1513.66 Q1474.34 1513.66 1477.45 1516.09 Q1480.55 1518.5 1480.55 1522.62 Q1480.55 1525.49 1478.9 1527.48 Q1477.26 1529.45 1474.23 1530.21 Z\" fill=\"#000000\" fill-rule=\"evenodd\" fill-opacity=\"1\" /><path clip-path=\"url(#clip790)\" d=\"M1500.22 1517.37 Q1496.61 1517.37 1494.78 1520.93 Q1492.98 1524.47 1492.98 1531.6 Q1492.98 1538.71 1494.78 1542.27 Q1496.61 1545.82 1500.22 1545.82 Q1503.86 1545.82 1505.66 1542.27 Q1507.49 1538.71 1507.49 1531.6 Q1507.49 1524.47 1505.66 1520.93 Q1503.86 1517.37 1500.22 1517.37 M1500.22 1513.66 Q1506.03 1513.66 1509.09 1518.27 Q1512.17 1522.85 1512.17 1531.6 Q1512.17 1540.33 1509.09 1544.94 Q1506.03 1549.52 1500.22 1549.52 Q1494.41 1549.52 1491.33 1544.94 Q1488.28 1540.33 1488.28 1531.6 Q1488.28 1522.85 1491.33 1518.27 Q1494.41 1513.66 1500.22 1513.66 Z\" fill=\"#000000\" fill-rule=\"evenodd\" fill-opacity=\"1\" /><path clip-path=\"url(#clip790)\" d=\"M1877.55 1518.36 L1865.74 1536.81 L1877.55 1536.81 L1877.55 1518.36 M1876.32 1514.29 L1882.2 1514.29 L1882.2 1536.81 L1887.13 1536.81 L1887.13 1540.7 L1882.2 1540.7 L1882.2 1548.85 L1877.55 1548.85 L1877.55 1540.7 L1861.95 1540.7 L1861.95 1536.19 L1876.32 1514.29 Z\" fill=\"#000000\" fill-rule=\"evenodd\" fill-opacity=\"1\" /><path clip-path=\"url(#clip790)\" d=\"M1904.86 1517.37 Q1901.25 1517.37 1899.42 1520.93 Q1897.62 1524.47 1897.62 1531.6 Q1897.62 1538.71 1899.42 1542.27 Q1901.25 1545.82 1904.86 1545.82 Q1908.5 1545.82 1910.3 1542.27 Q1912.13 1538.71 1912.13 1531.6 Q1912.13 1524.47 1910.3 1520.93 Q1908.5 1517.37 1904.86 1517.37 M1904.86 1513.66 Q1910.67 1513.66 1913.73 1518.27 Q1916.81 1522.85 1916.81 1531.6 Q1916.81 1540.33 1913.73 1544.94 Q1910.67 1549.52 1904.86 1549.52 Q1899.05 1549.52 1895.97 1544.94 Q1892.92 1540.33 1892.92 1531.6 Q1892.92 1522.85 1895.97 1518.27 Q1899.05 1513.66 1904.86 1513.66 Z\" fill=\"#000000\" fill-rule=\"evenodd\" fill-opacity=\"1\" /><path clip-path=\"url(#clip790)\" d=\"M2268.07 1514.29 L2286.42 1514.29 L2286.42 1518.22 L2272.35 1518.22 L2272.35 1526.7 Q2273.37 1526.35 2274.39 1526.19 Q2275.41 1526 2276.42 1526 Q2282.21 1526 2285.59 1529.17 Q2288.97 1532.34 2288.97 1537.76 Q2288.97 1543.34 2285.5 1546.44 Q2282.03 1549.52 2275.71 1549.52 Q2273.53 1549.52 2271.26 1549.15 Q2269.02 1548.78 2266.61 1548.04 L2266.61 1543.34 Q2268.69 1544.47 2270.92 1545.03 Q2273.14 1545.58 2275.61 1545.58 Q2279.62 1545.58 2281.96 1543.48 Q2284.3 1541.37 2284.3 1537.76 Q2284.3 1534.15 2281.96 1532.04 Q2279.62 1529.94 2275.61 1529.94 Q2273.74 1529.94 2271.86 1530.35 Q2270.01 1530.77 2268.07 1531.65 L2268.07 1514.29 Z\" fill=\"#000000\" fill-rule=\"evenodd\" fill-opacity=\"1\" /><path clip-path=\"url(#clip790)\" d=\"M2308.18 1517.37 Q2304.57 1517.37 2302.74 1520.93 Q2300.94 1524.47 2300.94 1531.6 Q2300.94 1538.71 2302.74 1542.27 Q2304.57 1545.82 2308.18 1545.82 Q2311.82 1545.82 2313.62 1542.27 Q2315.45 1538.71 2315.45 1531.6 Q2315.45 1524.47 2313.62 1520.93 Q2311.82 1517.37 2308.18 1517.37 M2308.18 1513.66 Q2313.99 1513.66 2317.05 1518.27 Q2320.13 1522.85 2320.13 1531.6 Q2320.13 1540.33 2317.05 1544.94 Q2313.99 1549.52 2308.18 1549.52 Q2302.37 1549.52 2299.29 1544.94 Q2296.24 1540.33 2296.24 1531.6 Q2296.24 1522.85 2299.29 1518.27 Q2302.37 1513.66 2308.18 1513.66 Z\" fill=\"#000000\" fill-rule=\"evenodd\" fill-opacity=\"1\" /><polyline clip-path=\"url(#clip792)\" style=\"stroke:#000000; stroke-linecap:round; stroke-linejoin:round; stroke-width:2; stroke-opacity:0.1; fill:none\" points=\"\n",
       "  254.422,1349.85 2352.76,1349.85 \n",
       "  \"/>\n",
       "<polyline clip-path=\"url(#clip792)\" style=\"stroke:#000000; stroke-linecap:round; stroke-linejoin:round; stroke-width:2; stroke-opacity:0.1; fill:none\" points=\"\n",
       "  254.422,1083.48 2352.76,1083.48 \n",
       "  \"/>\n",
       "<polyline clip-path=\"url(#clip792)\" style=\"stroke:#000000; stroke-linecap:round; stroke-linejoin:round; stroke-width:2; stroke-opacity:0.1; fill:none\" points=\"\n",
       "  254.422,817.105 2352.76,817.105 \n",
       "  \"/>\n",
       "<polyline clip-path=\"url(#clip792)\" style=\"stroke:#000000; stroke-linecap:round; stroke-linejoin:round; stroke-width:2; stroke-opacity:0.1; fill:none\" points=\"\n",
       "  254.422,550.733 2352.76,550.733 \n",
       "  \"/>\n",
       "<polyline clip-path=\"url(#clip792)\" style=\"stroke:#000000; stroke-linecap:round; stroke-linejoin:round; stroke-width:2; stroke-opacity:0.1; fill:none\" points=\"\n",
       "  254.422,284.361 2352.76,284.361 \n",
       "  \"/>\n",
       "<polyline clip-path=\"url(#clip790)\" style=\"stroke:#000000; stroke-linecap:round; stroke-linejoin:round; stroke-width:4; stroke-opacity:1; fill:none\" points=\"\n",
       "  254.422,1486.45 254.422,47.2441 \n",
       "  \"/>\n",
       "<polyline clip-path=\"url(#clip790)\" style=\"stroke:#000000; stroke-linecap:round; stroke-linejoin:round; stroke-width:4; stroke-opacity:1; fill:none\" points=\"\n",
       "  254.422,1349.85 273.319,1349.85 \n",
       "  \"/>\n",
       "<polyline clip-path=\"url(#clip790)\" style=\"stroke:#000000; stroke-linecap:round; stroke-linejoin:round; stroke-width:4; stroke-opacity:1; fill:none\" points=\"\n",
       "  254.422,1083.48 273.319,1083.48 \n",
       "  \"/>\n",
       "<polyline clip-path=\"url(#clip790)\" style=\"stroke:#000000; stroke-linecap:round; stroke-linejoin:round; stroke-width:4; stroke-opacity:1; fill:none\" points=\"\n",
       "  254.422,817.105 273.319,817.105 \n",
       "  \"/>\n",
       "<polyline clip-path=\"url(#clip790)\" style=\"stroke:#000000; stroke-linecap:round; stroke-linejoin:round; stroke-width:4; stroke-opacity:1; fill:none\" points=\"\n",
       "  254.422,550.733 273.319,550.733 \n",
       "  \"/>\n",
       "<polyline clip-path=\"url(#clip790)\" style=\"stroke:#000000; stroke-linecap:round; stroke-linejoin:round; stroke-width:4; stroke-opacity:1; fill:none\" points=\"\n",
       "  254.422,284.361 273.319,284.361 \n",
       "  \"/>\n",
       "<path clip-path=\"url(#clip790)\" d=\"M50.9921 1350.3 L80.6679 1350.3 L80.6679 1354.24 L50.9921 1354.24 L50.9921 1350.3 Z\" fill=\"#000000\" fill-rule=\"evenodd\" fill-opacity=\"1\" /><path clip-path=\"url(#clip790)\" d=\"M100.76 1335.65 Q97.1493 1335.65 95.3206 1339.21 Q93.515 1342.76 93.515 1349.88 Q93.515 1356.99 95.3206 1360.56 Q97.1493 1364.1 100.76 1364.1 Q104.395 1364.1 106.2 1360.56 Q108.029 1356.99 108.029 1349.88 Q108.029 1342.76 106.2 1339.21 Q104.395 1335.65 100.76 1335.65 M100.76 1331.95 Q106.571 1331.95 109.626 1336.55 Q112.705 1341.13 112.705 1349.88 Q112.705 1358.61 109.626 1363.22 Q106.571 1367.8 100.76 1367.8 Q94.9502 1367.8 91.8715 1363.22 Q88.816 1358.61 88.816 1349.88 Q88.816 1341.13 91.8715 1336.55 Q94.9502 1331.95 100.76 1331.95 Z\" fill=\"#000000\" fill-rule=\"evenodd\" fill-opacity=\"1\" /><path clip-path=\"url(#clip790)\" d=\"M120.922 1361.25 L125.807 1361.25 L125.807 1367.13 L120.922 1367.13 L120.922 1361.25 Z\" fill=\"#000000\" fill-rule=\"evenodd\" fill-opacity=\"1\" /><path clip-path=\"url(#clip790)\" d=\"M145.992 1335.65 Q142.381 1335.65 140.552 1339.21 Q138.746 1342.76 138.746 1349.88 Q138.746 1356.99 140.552 1360.56 Q142.381 1364.1 145.992 1364.1 Q149.626 1364.1 151.431 1360.56 Q153.26 1356.99 153.26 1349.88 Q153.26 1342.76 151.431 1339.21 Q149.626 1335.65 145.992 1335.65 M145.992 1331.95 Q151.802 1331.95 154.857 1336.55 Q157.936 1341.13 157.936 1349.88 Q157.936 1358.61 154.857 1363.22 Q151.802 1367.8 145.992 1367.8 Q140.181 1367.8 137.103 1363.22 Q134.047 1358.61 134.047 1349.88 Q134.047 1341.13 137.103 1336.55 Q140.181 1331.95 145.992 1331.95 Z\" fill=\"#000000\" fill-rule=\"evenodd\" fill-opacity=\"1\" /><path clip-path=\"url(#clip790)\" d=\"M176.153 1335.65 Q172.542 1335.65 170.714 1339.21 Q168.908 1342.76 168.908 1349.88 Q168.908 1356.99 170.714 1360.56 Q172.542 1364.1 176.153 1364.1 Q179.788 1364.1 181.593 1360.56 Q183.422 1356.99 183.422 1349.88 Q183.422 1342.76 181.593 1339.21 Q179.788 1335.65 176.153 1335.65 M176.153 1331.95 Q181.964 1331.95 185.019 1336.55 Q188.098 1341.13 188.098 1349.88 Q188.098 1358.61 185.019 1363.22 Q181.964 1367.8 176.153 1367.8 Q170.343 1367.8 167.265 1363.22 Q164.209 1358.61 164.209 1349.88 Q164.209 1341.13 167.265 1336.55 Q170.343 1331.95 176.153 1331.95 Z\" fill=\"#000000\" fill-rule=\"evenodd\" fill-opacity=\"1\" /><path clip-path=\"url(#clip790)\" d=\"M206.894 1347.99 Q203.746 1347.99 201.894 1350.14 Q200.065 1352.29 200.065 1356.04 Q200.065 1359.77 201.894 1361.95 Q203.746 1364.1 206.894 1364.1 Q210.042 1364.1 211.871 1361.95 Q213.723 1359.77 213.723 1356.04 Q213.723 1352.29 211.871 1350.14 Q210.042 1347.99 206.894 1347.99 M216.176 1333.33 L216.176 1337.59 Q214.417 1336.76 212.612 1336.32 Q210.829 1335.88 209.07 1335.88 Q204.44 1335.88 201.987 1339.01 Q199.556 1342.13 199.209 1348.45 Q200.575 1346.44 202.635 1345.37 Q204.695 1344.28 207.172 1344.28 Q212.38 1344.28 215.389 1347.45 Q218.422 1350.6 218.422 1356.04 Q218.422 1361.37 215.274 1364.58 Q212.126 1367.8 206.894 1367.8 Q200.899 1367.8 197.727 1363.22 Q194.556 1358.61 194.556 1349.88 Q194.556 1341.69 198.445 1336.83 Q202.334 1331.95 208.885 1331.95 Q210.644 1331.95 212.426 1332.29 Q214.232 1332.64 216.176 1333.33 Z\" fill=\"#000000\" fill-rule=\"evenodd\" fill-opacity=\"1\" /><path clip-path=\"url(#clip790)\" d=\"M51.8023 1083.93 L81.4781 1083.93 L81.4781 1087.86 L51.8023 1087.86 L51.8023 1083.93 Z\" fill=\"#000000\" fill-rule=\"evenodd\" fill-opacity=\"1\" /><path clip-path=\"url(#clip790)\" d=\"M101.571 1069.28 Q97.9595 1069.28 96.1308 1072.84 Q94.3252 1076.38 94.3252 1083.51 Q94.3252 1090.62 96.1308 1094.18 Q97.9595 1097.73 101.571 1097.73 Q105.205 1097.73 107.01 1094.18 Q108.839 1090.62 108.839 1083.51 Q108.839 1076.38 107.01 1072.84 Q105.205 1069.28 101.571 1069.28 M101.571 1065.57 Q107.381 1065.57 110.436 1070.18 Q113.515 1074.76 113.515 1083.51 Q113.515 1092.24 110.436 1096.85 Q107.381 1101.43 101.571 1101.43 Q95.7604 1101.43 92.6817 1096.85 Q89.6262 1092.24 89.6262 1083.51 Q89.6262 1074.76 92.6817 1070.18 Q95.7604 1065.57 101.571 1065.57 Z\" fill=\"#000000\" fill-rule=\"evenodd\" fill-opacity=\"1\" /><path clip-path=\"url(#clip790)\" d=\"M121.732 1094.88 L126.617 1094.88 L126.617 1100.76 L121.732 1100.76 L121.732 1094.88 Z\" fill=\"#000000\" fill-rule=\"evenodd\" fill-opacity=\"1\" /><path clip-path=\"url(#clip790)\" d=\"M146.802 1069.28 Q143.191 1069.28 141.362 1072.84 Q139.556 1076.38 139.556 1083.51 Q139.556 1090.62 141.362 1094.18 Q143.191 1097.73 146.802 1097.73 Q150.436 1097.73 152.242 1094.18 Q154.07 1090.62 154.07 1083.51 Q154.07 1076.38 152.242 1072.84 Q150.436 1069.28 146.802 1069.28 M146.802 1065.57 Q152.612 1065.57 155.667 1070.18 Q158.746 1074.76 158.746 1083.51 Q158.746 1092.24 155.667 1096.85 Q152.612 1101.43 146.802 1101.43 Q140.992 1101.43 137.913 1096.85 Q134.857 1092.24 134.857 1083.51 Q134.857 1074.76 137.913 1070.18 Q140.992 1065.57 146.802 1065.57 Z\" fill=\"#000000\" fill-rule=\"evenodd\" fill-opacity=\"1\" /><path clip-path=\"url(#clip790)\" d=\"M176.964 1069.28 Q173.353 1069.28 171.524 1072.84 Q169.718 1076.38 169.718 1083.51 Q169.718 1090.62 171.524 1094.18 Q173.353 1097.73 176.964 1097.73 Q180.598 1097.73 182.403 1094.18 Q184.232 1090.62 184.232 1083.51 Q184.232 1076.38 182.403 1072.84 Q180.598 1069.28 176.964 1069.28 M176.964 1065.57 Q182.774 1065.57 185.829 1070.18 Q188.908 1074.76 188.908 1083.51 Q188.908 1092.24 185.829 1096.85 Q182.774 1101.43 176.964 1101.43 Q171.154 1101.43 168.075 1096.85 Q165.019 1092.24 165.019 1083.51 Q165.019 1074.76 168.075 1070.18 Q171.154 1065.57 176.964 1065.57 Z\" fill=\"#000000\" fill-rule=\"evenodd\" fill-opacity=\"1\" /><path clip-path=\"url(#clip790)\" d=\"M211.292 1082.12 Q214.649 1082.84 216.524 1085.11 Q218.422 1087.38 218.422 1090.71 Q218.422 1095.83 214.903 1098.63 Q211.385 1101.43 204.903 1101.43 Q202.727 1101.43 200.413 1100.99 Q198.121 1100.57 195.667 1099.72 L195.667 1095.2 Q197.612 1096.34 199.927 1096.92 Q202.241 1097.49 204.764 1097.49 Q209.163 1097.49 211.454 1095.76 Q213.769 1094.02 213.769 1090.71 Q213.769 1087.66 211.616 1085.94 Q209.487 1084.21 205.667 1084.21 L201.639 1084.21 L201.639 1080.36 L205.852 1080.36 Q209.301 1080.36 211.13 1079 Q212.959 1077.61 212.959 1075.02 Q212.959 1072.36 211.061 1070.94 Q209.186 1069.51 205.667 1069.51 Q203.746 1069.51 201.547 1069.92 Q199.348 1070.34 196.709 1071.22 L196.709 1067.05 Q199.371 1066.31 201.686 1065.94 Q204.024 1065.57 206.084 1065.57 Q211.408 1065.57 214.51 1068 Q217.612 1070.41 217.612 1074.53 Q217.612 1077.4 215.968 1079.39 Q214.325 1081.36 211.292 1082.12 Z\" fill=\"#000000\" fill-rule=\"evenodd\" fill-opacity=\"1\" /><path clip-path=\"url(#clip790)\" d=\"M100.922 802.904 Q97.3113 802.904 95.4826 806.469 Q93.6771 810.011 93.6771 817.14 Q93.6771 824.247 95.4826 827.811 Q97.3113 831.353 100.922 831.353 Q104.557 831.353 106.362 827.811 Q108.191 824.247 108.191 817.14 Q108.191 810.011 106.362 806.469 Q104.557 802.904 100.922 802.904 M100.922 799.2 Q106.733 799.2 109.788 803.807 Q112.867 808.39 112.867 817.14 Q112.867 825.867 109.788 830.473 Q106.733 835.057 100.922 835.057 Q95.1123 835.057 92.0336 830.473 Q88.978 825.867 88.978 817.14 Q88.978 808.39 92.0336 803.807 Q95.1123 799.2 100.922 799.2 Z\" fill=\"#000000\" fill-rule=\"evenodd\" fill-opacity=\"1\" /><path clip-path=\"url(#clip790)\" d=\"M121.084 828.506 L125.969 828.506 L125.969 834.385 L121.084 834.385 L121.084 828.506 Z\" fill=\"#000000\" fill-rule=\"evenodd\" fill-opacity=\"1\" /><path clip-path=\"url(#clip790)\" d=\"M146.154 802.904 Q142.543 802.904 140.714 806.469 Q138.908 810.011 138.908 817.14 Q138.908 824.247 140.714 827.811 Q142.543 831.353 146.154 831.353 Q149.788 831.353 151.593 827.811 Q153.422 824.247 153.422 817.14 Q153.422 810.011 151.593 806.469 Q149.788 802.904 146.154 802.904 M146.154 799.2 Q151.964 799.2 155.019 803.807 Q158.098 808.39 158.098 817.14 Q158.098 825.867 155.019 830.473 Q151.964 835.057 146.154 835.057 Q140.343 835.057 137.265 830.473 Q134.209 825.867 134.209 817.14 Q134.209 808.39 137.265 803.807 Q140.343 799.2 146.154 799.2 Z\" fill=\"#000000\" fill-rule=\"evenodd\" fill-opacity=\"1\" /><path clip-path=\"url(#clip790)\" d=\"M176.316 802.904 Q172.704 802.904 170.876 806.469 Q169.07 810.011 169.07 817.14 Q169.07 824.247 170.876 827.811 Q172.704 831.353 176.316 831.353 Q179.95 831.353 181.755 827.811 Q183.584 824.247 183.584 817.14 Q183.584 810.011 181.755 806.469 Q179.95 802.904 176.316 802.904 M176.316 799.2 Q182.126 799.2 185.181 803.807 Q188.26 808.39 188.26 817.14 Q188.26 825.867 185.181 830.473 Q182.126 835.057 176.316 835.057 Q170.505 835.057 167.427 830.473 Q164.371 825.867 164.371 817.14 Q164.371 808.39 167.427 803.807 Q170.505 799.2 176.316 799.2 Z\" fill=\"#000000\" fill-rule=\"evenodd\" fill-opacity=\"1\" /><path clip-path=\"url(#clip790)\" d=\"M206.477 802.904 Q202.866 802.904 201.038 806.469 Q199.232 810.011 199.232 817.14 Q199.232 824.247 201.038 827.811 Q202.866 831.353 206.477 831.353 Q210.112 831.353 211.917 827.811 Q213.746 824.247 213.746 817.14 Q213.746 810.011 211.917 806.469 Q210.112 802.904 206.477 802.904 M206.477 799.2 Q212.288 799.2 215.343 803.807 Q218.422 808.39 218.422 817.14 Q218.422 825.867 215.343 830.473 Q212.288 835.057 206.477 835.057 Q200.667 835.057 197.589 830.473 Q194.533 825.867 194.533 817.14 Q194.533 808.39 197.589 803.807 Q200.667 799.2 206.477 799.2 Z\" fill=\"#000000\" fill-rule=\"evenodd\" fill-opacity=\"1\" /><path clip-path=\"url(#clip790)\" d=\"M101.571 536.532 Q97.9595 536.532 96.1308 540.096 Q94.3252 543.638 94.3252 550.768 Q94.3252 557.874 96.1308 561.439 Q97.9595 564.981 101.571 564.981 Q105.205 564.981 107.01 561.439 Q108.839 557.874 108.839 550.768 Q108.839 543.638 107.01 540.096 Q105.205 536.532 101.571 536.532 M101.571 532.828 Q107.381 532.828 110.436 537.434 Q113.515 542.018 113.515 550.768 Q113.515 559.494 110.436 564.101 Q107.381 568.684 101.571 568.684 Q95.7604 568.684 92.6817 564.101 Q89.6262 559.494 89.6262 550.768 Q89.6262 542.018 92.6817 537.434 Q95.7604 532.828 101.571 532.828 Z\" fill=\"#000000\" fill-rule=\"evenodd\" fill-opacity=\"1\" /><path clip-path=\"url(#clip790)\" d=\"M121.732 562.133 L126.617 562.133 L126.617 568.013 L121.732 568.013 L121.732 562.133 Z\" fill=\"#000000\" fill-rule=\"evenodd\" fill-opacity=\"1\" /><path clip-path=\"url(#clip790)\" d=\"M146.802 536.532 Q143.191 536.532 141.362 540.096 Q139.556 543.638 139.556 550.768 Q139.556 557.874 141.362 561.439 Q143.191 564.981 146.802 564.981 Q150.436 564.981 152.242 561.439 Q154.07 557.874 154.07 550.768 Q154.07 543.638 152.242 540.096 Q150.436 536.532 146.802 536.532 M146.802 532.828 Q152.612 532.828 155.667 537.434 Q158.746 542.018 158.746 550.768 Q158.746 559.494 155.667 564.101 Q152.612 568.684 146.802 568.684 Q140.992 568.684 137.913 564.101 Q134.857 559.494 134.857 550.768 Q134.857 542.018 137.913 537.434 Q140.992 532.828 146.802 532.828 Z\" fill=\"#000000\" fill-rule=\"evenodd\" fill-opacity=\"1\" /><path clip-path=\"url(#clip790)\" d=\"M176.964 536.532 Q173.353 536.532 171.524 540.096 Q169.718 543.638 169.718 550.768 Q169.718 557.874 171.524 561.439 Q173.353 564.981 176.964 564.981 Q180.598 564.981 182.403 561.439 Q184.232 557.874 184.232 550.768 Q184.232 543.638 182.403 540.096 Q180.598 536.532 176.964 536.532 M176.964 532.828 Q182.774 532.828 185.829 537.434 Q188.908 542.018 188.908 550.768 Q188.908 559.494 185.829 564.101 Q182.774 568.684 176.964 568.684 Q171.154 568.684 168.075 564.101 Q165.019 559.494 165.019 550.768 Q165.019 542.018 168.075 537.434 Q171.154 532.828 176.964 532.828 Z\" fill=\"#000000\" fill-rule=\"evenodd\" fill-opacity=\"1\" /><path clip-path=\"url(#clip790)\" d=\"M211.292 549.379 Q214.649 550.096 216.524 552.365 Q218.422 554.633 218.422 557.967 Q218.422 563.082 214.903 565.883 Q211.385 568.684 204.903 568.684 Q202.727 568.684 200.413 568.244 Q198.121 567.828 195.667 566.971 L195.667 562.457 Q197.612 563.592 199.927 564.17 Q202.241 564.749 204.764 564.749 Q209.163 564.749 211.454 563.013 Q213.769 561.277 213.769 557.967 Q213.769 554.911 211.616 553.198 Q209.487 551.462 205.667 551.462 L201.639 551.462 L201.639 547.62 L205.852 547.62 Q209.301 547.62 211.13 546.254 Q212.959 544.865 212.959 542.272 Q212.959 539.61 211.061 538.198 Q209.186 536.763 205.667 536.763 Q203.746 536.763 201.547 537.18 Q199.348 537.596 196.709 538.476 L196.709 534.309 Q199.371 533.569 201.686 533.198 Q204.024 532.828 206.084 532.828 Q211.408 532.828 214.51 535.259 Q217.612 537.666 217.612 541.786 Q217.612 544.657 215.968 546.647 Q214.325 548.615 211.292 549.379 Z\" fill=\"#000000\" fill-rule=\"evenodd\" fill-opacity=\"1\" /><path clip-path=\"url(#clip790)\" d=\"M100.76 270.159 Q97.1493 270.159 95.3206 273.724 Q93.515 277.266 93.515 284.395 Q93.515 291.502 95.3206 295.067 Q97.1493 298.608 100.76 298.608 Q104.395 298.608 106.2 295.067 Q108.029 291.502 108.029 284.395 Q108.029 277.266 106.2 273.724 Q104.395 270.159 100.76 270.159 M100.76 266.456 Q106.571 266.456 109.626 271.062 Q112.705 275.645 112.705 284.395 Q112.705 293.122 109.626 297.729 Q106.571 302.312 100.76 302.312 Q94.9502 302.312 91.8715 297.729 Q88.816 293.122 88.816 284.395 Q88.816 275.645 91.8715 271.062 Q94.9502 266.456 100.76 266.456 Z\" fill=\"#000000\" fill-rule=\"evenodd\" fill-opacity=\"1\" /><path clip-path=\"url(#clip790)\" d=\"M120.922 295.761 L125.807 295.761 L125.807 301.641 L120.922 301.641 L120.922 295.761 Z\" fill=\"#000000\" fill-rule=\"evenodd\" fill-opacity=\"1\" /><path clip-path=\"url(#clip790)\" d=\"M145.992 270.159 Q142.381 270.159 140.552 273.724 Q138.746 277.266 138.746 284.395 Q138.746 291.502 140.552 295.067 Q142.381 298.608 145.992 298.608 Q149.626 298.608 151.431 295.067 Q153.26 291.502 153.26 284.395 Q153.26 277.266 151.431 273.724 Q149.626 270.159 145.992 270.159 M145.992 266.456 Q151.802 266.456 154.857 271.062 Q157.936 275.645 157.936 284.395 Q157.936 293.122 154.857 297.729 Q151.802 302.312 145.992 302.312 Q140.181 302.312 137.103 297.729 Q134.047 293.122 134.047 284.395 Q134.047 275.645 137.103 271.062 Q140.181 266.456 145.992 266.456 Z\" fill=\"#000000\" fill-rule=\"evenodd\" fill-opacity=\"1\" /><path clip-path=\"url(#clip790)\" d=\"M176.153 270.159 Q172.542 270.159 170.714 273.724 Q168.908 277.266 168.908 284.395 Q168.908 291.502 170.714 295.067 Q172.542 298.608 176.153 298.608 Q179.788 298.608 181.593 295.067 Q183.422 291.502 183.422 284.395 Q183.422 277.266 181.593 273.724 Q179.788 270.159 176.153 270.159 M176.153 266.456 Q181.964 266.456 185.019 271.062 Q188.098 275.645 188.098 284.395 Q188.098 293.122 185.019 297.729 Q181.964 302.312 176.153 302.312 Q170.343 302.312 167.265 297.729 Q164.209 293.122 164.209 284.395 Q164.209 275.645 167.265 271.062 Q170.343 266.456 176.153 266.456 Z\" fill=\"#000000\" fill-rule=\"evenodd\" fill-opacity=\"1\" /><path clip-path=\"url(#clip790)\" d=\"M206.894 282.497 Q203.746 282.497 201.894 284.65 Q200.065 286.803 200.065 290.553 Q200.065 294.279 201.894 296.455 Q203.746 298.608 206.894 298.608 Q210.042 298.608 211.871 296.455 Q213.723 294.279 213.723 290.553 Q213.723 286.803 211.871 284.65 Q210.042 282.497 206.894 282.497 M216.176 267.844 L216.176 272.104 Q214.417 271.27 212.612 270.831 Q210.829 270.391 209.07 270.391 Q204.44 270.391 201.987 273.516 Q199.556 276.641 199.209 282.96 Q200.575 280.946 202.635 279.881 Q204.695 278.793 207.172 278.793 Q212.38 278.793 215.389 281.965 Q218.422 285.113 218.422 290.553 Q218.422 295.877 215.274 299.094 Q212.126 302.312 206.894 302.312 Q200.899 302.312 197.727 297.729 Q194.556 293.122 194.556 284.395 Q194.556 276.201 198.445 271.34 Q202.334 266.456 208.885 266.456 Q210.644 266.456 212.426 266.803 Q214.232 267.15 216.176 267.844 Z\" fill=\"#000000\" fill-rule=\"evenodd\" fill-opacity=\"1\" /><polyline clip-path=\"url(#clip792)\" style=\"stroke:#009af9; stroke-linecap:round; stroke-linejoin:round; stroke-width:4; stroke-opacity:1; fill:none\" points=\"\n",
       "  313.809,1073.65 354.208,1101.36 394.607,1205.41 435.006,1280.48 475.405,1292.44 515.805,1345.91 556.204,1396.26 596.603,1348.57 637.002,1307.48 677.401,1317.85 \n",
       "  717.801,1433.1 758.2,1445.72 798.599,1406.07 838.998,1432.79 879.397,1394.68 919.797,1330.72 960.196,1195.89 1000.59,1027.8 1040.99,955.975 1081.39,980.881 \n",
       "  1121.79,934.445 1162.19,791.672 1202.59,700.034 1242.99,596.085 1283.39,512.805 1323.79,502.679 1364.19,538.004 1404.59,589.267 1444.99,454.965 1485.39,360.33 \n",
       "  1525.78,334.006 1566.18,335.112 1606.58,315.821 1646.98,258.654 1687.38,266.551 1727.78,312.857 1768.18,373.128 1808.58,334.447 1848.98,189.196 1889.38,93.2573 \n",
       "  1929.78,176.378 1970.18,244.366 2010.57,327.107 2050.97,456.355 2091.37,563.772 2131.77,746.164 2172.17,914.653 2212.57,1063.33 2252.97,1165.82 2293.37,1131 \n",
       "  \n",
       "  \"/>\n",
       "<polyline clip-path=\"url(#clip792)\" style=\"stroke:#e26f46; stroke-linecap:round; stroke-linejoin:round; stroke-width:4; stroke-opacity:1; fill:none\" points=\"\n",
       "  313.809,1076.3 354.208,1092.21 394.607,1178.3 435.006,1238.72 475.405,1273.59 515.805,1346.15 556.204,1395.04 596.603,1369.09 637.002,1305.11 677.401,1314.63 \n",
       "  717.801,1421.61 758.2,1427.53 798.599,1407.93 838.998,1440.34 879.397,1390.24 919.797,1338.17 960.196,1214.71 1000.59,1034.18 1040.99,952.496 1081.39,965.789 \n",
       "  1121.79,943.362 1162.19,792.024 1202.59,688.433 1242.99,594.367 1283.39,520.961 1323.79,536.928 1364.19,581.264 1404.59,586.97 1444.99,435.745 1485.39,351.265 \n",
       "  1525.78,352.443 1566.18,330.902 1606.58,313.842 1646.98,273.052 1687.38,278.194 1727.78,325.225 1768.18,371.738 1808.58,326.776 1848.98,186.157 1889.38,90.9093 \n",
       "  1929.78,180.081 1970.18,241.517 2010.57,318.031 2050.97,460.276 2091.37,579.044 2131.77,749.712 2172.17,924.346 2212.57,1053.79 2252.97,1145.94 2293.37,1135.25 \n",
       "  \n",
       "  \"/>\n",
       "<polyline clip-path=\"url(#clip792)\" style=\"stroke:#3da44d; stroke-linecap:round; stroke-linejoin:round; stroke-width:4; stroke-opacity:1; fill:none\" points=\"\n",
       "  313.809,1088.26 354.208,1087.34 394.607,1155.81 435.006,1209.21 475.405,1270.5 515.805,1336.99 556.204,1381.09 596.603,1372.91 637.002,1306.33 677.401,1318.79 \n",
       "  717.801,1409.9 758.2,1400.8 798.599,1400.98 838.998,1440.21 879.397,1380.19 919.797,1339.28 960.196,1229.88 1000.59,1063.56 1040.99,954.916 1081.39,947.324 \n",
       "  1121.79,924.69 1162.19,792.692 1202.59,690.473 1242.99,598.28 1283.39,532.811 1323.79,569.245 1364.19,606.221 1404.59,578.18 1444.99,431.266 1485.39,363.784 \n",
       "  1525.78,366.179 1566.18,323.455 1606.58,309.745 1646.98,292.435 1687.38,294.481 1727.78,344.411 1768.18,372.32 1808.58,308.767 1848.98,178.563 1889.38,87.9763 \n",
       "  1929.78,181.288 1970.18,240.285 2010.57,318.269 2050.97,461.323 2091.37,603.892 2131.77,757.475 2172.17,927.387 2212.57,1046.12 2252.97,1130.81 2293.37,1145.81 \n",
       "  \n",
       "  \"/>\n",
       "<polyline clip-path=\"url(#clip792)\" style=\"stroke:#c271d2; stroke-linecap:round; stroke-linejoin:round; stroke-width:4; stroke-opacity:1; fill:none\" points=\"\n",
       "  313.809,1072.14 354.208,1084.49 394.607,1132.78 435.006,1175.96 475.405,1260.95 515.805,1320.73 556.204,1353.31 596.603,1368.91 637.002,1309.67 677.401,1317.92 \n",
       "  717.801,1394.77 758.2,1359.64 798.599,1378.05 838.998,1411.48 879.397,1367.95 919.797,1322.36 960.196,1227.31 1000.59,1083.83 1040.99,960.616 1081.39,928.084 \n",
       "  1121.79,909.297 1162.19,806.867 1202.59,691.647 1242.99,605.57 1283.39,552.092 1323.79,603.148 1364.19,630.744 1404.59,570.733 1444.99,433.873 1485.39,391.62 \n",
       "  1525.78,369.334 1566.18,322.37 1606.58,317.79 1646.98,321.171 1687.38,314.64 1727.78,378.198 1768.18,380.386 1808.58,299.271 1848.98,175.135 1889.38,97.288 \n",
       "  1929.78,195.787 1970.18,245.304 2010.57,321.365 2050.97,464.02 2091.37,619.482 2131.77,759.564 2172.17,926.509 2212.57,1031.8 2252.97,1096.9 2293.37,1125.83 \n",
       "  \n",
       "  \"/>\n",
       "<polyline clip-path=\"url(#clip792)\" style=\"stroke:#ac8d18; stroke-linecap:round; stroke-linejoin:round; stroke-width:4; stroke-opacity:1; fill:none\" points=\"\n",
       "  313.809,1046.78 354.208,1075.68 394.607,1111.13 435.006,1147.33 475.405,1244.28 515.805,1292.86 556.204,1318.29 596.603,1359.58 637.002,1296.57 677.401,1308.52 \n",
       "  717.801,1368.63 758.2,1317.65 798.599,1336.99 838.998,1374.07 879.397,1355.18 919.797,1309.09 960.196,1222.98 1000.59,1107.59 1040.99,964.504 1081.39,905.446 \n",
       "  1121.79,875.145 1162.19,812.586 1202.59,696.439 1242.99,623.964 1283.39,578.694 1323.79,624.914 1364.19,641.846 1404.59,559.084 1444.99,457.651 1485.39,422.168 \n",
       "  1525.78,381.023 1566.18,325.53 1606.58,332.169 1646.98,334.341 1687.38,352.51 1727.78,420.118 1768.18,398.512 1808.58,302.87 1848.98,185.803 1889.38,128.127 \n",
       "  1929.78,220.759 1970.18,264.864 2010.57,340.682 2050.97,478.829 2091.37,646.149 2131.77,771.141 2172.17,935.762 2212.57,1023.35 2252.97,1072.29 2293.37,1089.47 \n",
       "  \n",
       "  \"/>\n",
       "<polyline clip-path=\"url(#clip792)\" style=\"stroke:#00a9ad; stroke-linecap:round; stroke-linejoin:round; stroke-width:4; stroke-opacity:1; fill:none\" points=\"\n",
       "  313.809,1012.59 354.208,1058.43 394.607,1099.49 435.006,1126.89 475.405,1225.09 515.805,1257.16 556.204,1287.06 596.603,1348.1 637.002,1300.83 677.401,1302.75 \n",
       "  717.801,1343.37 758.2,1277.77 798.599,1293.34 838.998,1325.54 879.397,1332.06 919.797,1292.01 960.196,1216.98 1000.59,1125.28 1040.99,969.374 1081.39,886.143 \n",
       "  1121.79,860.91 1162.19,821.647 1202.59,706.773 1242.99,652.586 1283.39,613.313 1323.79,641.445 1364.19,646.507 1404.59,554.023 1444.99,491.819 1485.39,459.545 \n",
       "  1525.78,391.151 1566.18,351.402 1606.58,352.531 1646.98,357.175 1687.38,401.475 1727.78,468.824 1768.18,421.946 1808.58,314.493 1848.98,200.656 1889.38,173.025 \n",
       "  1929.78,247.604 1970.18,302.468 2010.57,360.281 2050.97,491.38 2091.37,658.239 2131.77,777.475 2172.17,920.769 2212.57,1015.94 2252.97,1042.14 2293.37,1046.61 \n",
       "  \n",
       "  \"/>\n",
       "<polyline clip-path=\"url(#clip792)\" style=\"stroke:#ed5d92; stroke-linecap:round; stroke-linejoin:round; stroke-width:4; stroke-opacity:1; fill:none\" points=\"\n",
       "  313.809,985.098 354.208,1037.34 394.607,1082.08 435.006,1111.17 475.405,1196.65 515.805,1216.57 556.204,1244.66 596.603,1323.76 637.002,1280.29 677.401,1279.44 \n",
       "  717.801,1303.83 758.2,1236.08 798.599,1240.09 838.998,1267.77 879.397,1300.59 919.797,1286.14 960.196,1214.13 1000.59,1142.97 1040.99,972.478 1081.39,875.483 \n",
       "  1121.79,848.072 1162.19,828.392 1202.59,720.058 1242.99,682.443 1283.39,648.441 1323.79,655.917 1364.19,647.496 1404.59,556.532 1444.99,529.964 1485.39,498.93 \n",
       "  1525.78,410.621 1566.18,385.313 1606.58,363.906 1646.98,365.912 1687.38,459.638 1727.78,510.087 1768.18,437.192 1808.58,323.631 1848.98,224.403 1889.38,213.851 \n",
       "  1929.78,285.026 1970.18,354.209 2010.57,395.173 2050.97,511.68 2091.37,668.313 2131.77,777.119 2172.17,917.323 2212.57,1021.03 2252.97,1021.67 2293.37,1007.89 \n",
       "  \n",
       "  \"/>\n",
       "<polyline clip-path=\"url(#clip792)\" style=\"stroke:#c68125; stroke-linecap:round; stroke-linejoin:round; stroke-width:4; stroke-opacity:1; fill:none\" points=\"\n",
       "  313.809,959.949 354.208,1006.49 394.607,1066.45 435.006,1101.21 475.405,1171.09 515.805,1175.22 556.204,1203.07 596.603,1302 637.002,1270.9 677.401,1261.97 \n",
       "  717.801,1252.88 758.2,1188.93 798.599,1182.35 838.998,1213.67 879.397,1257.22 919.797,1278.5 960.196,1201.25 1000.59,1143.04 1040.99,966.134 1081.39,856.665 \n",
       "  1121.79,830.482 1162.19,833.334 1202.59,739.681 1242.99,700.358 1283.39,674.854 1323.79,672.064 1364.19,640.247 1404.59,555.489 1444.99,573.34 1485.39,535.249 \n",
       "  1525.78,443.06 1566.18,426.194 1606.58,380.867 1646.98,382.321 1687.38,510.851 1727.78,548.052 1768.18,463.839 1808.58,344.569 1848.98,269.738 1889.38,255.835 \n",
       "  1929.78,325.869 1970.18,395.92 2010.57,421.938 2050.97,522.004 2091.37,676.704 2131.77,767.572 2172.17,904.556 2212.57,1017.93 2252.97,996.17 2293.37,964.837 \n",
       "  \n",
       "  \"/>\n",
       "<polyline clip-path=\"url(#clip792)\" style=\"stroke:#00a98d; stroke-linecap:round; stroke-linejoin:round; stroke-width:4; stroke-opacity:1; fill:none\" points=\"\n",
       "  313.809,938.397 354.208,970.685 394.607,1029.72 435.006,1084.58 475.405,1129.92 515.805,1112.57 556.204,1157.45 596.603,1258.34 637.002,1248.71 677.401,1230.77 \n",
       "  717.801,1207.13 758.2,1143.63 798.599,1131.69 838.998,1156.72 879.397,1216.98 919.797,1263.45 960.196,1198.09 1000.59,1139.23 1040.99,961.506 1081.39,849.989 \n",
       "  1121.79,824.423 1162.19,847.774 1202.59,772.278 1242.99,713.359 1283.39,697.312 1323.79,694.454 1364.19,636.162 1404.59,560.624 1444.99,607.779 1485.39,575.599 \n",
       "  1525.78,481.748 1566.18,471.725 1606.58,398.408 1646.98,410.66 1687.38,555.727 1727.78,587.165 1768.18,491.092 1808.58,373.765 1848.98,318.933 1889.38,308.962 \n",
       "  1929.78,369.433 1970.18,436.636 2010.57,455.937 2050.97,535.759 2091.37,672.708 2131.77,752.286 2172.17,886.69 2212.57,1011.3 2252.97,966.298 2293.37,929.083 \n",
       "  \n",
       "  \"/>\n",
       "<polyline clip-path=\"url(#clip792)\" style=\"stroke:#8e971d; stroke-linecap:round; stroke-linejoin:round; stroke-width:4; stroke-opacity:1; fill:none\" points=\"\n",
       "  313.809,926.028 354.208,940.239 394.607,992.017 435.006,1078.45 475.405,1086.9 515.805,1051.96 556.204,1106.4 596.603,1215 637.002,1231.12 677.401,1198.38 \n",
       "  717.801,1155.3 758.2,1090.71 798.599,1071.26 838.998,1107.23 879.397,1179.91 919.797,1237.98 960.196,1186.08 1000.59,1129.08 1040.99,941.728 1081.39,844.97 \n",
       "  1121.79,806.217 1162.19,855.266 1202.59,793.808 1242.99,726.207 1283.39,718.222 1323.79,717.572 1364.19,632.388 1404.59,569.743 1444.99,649.416 1485.39,611.314 \n",
       "  1525.78,539.473 1566.18,511.128 1606.58,439.669 1646.98,449.713 1687.38,600.793 1727.78,620.245 1768.18,527.985 1808.58,410.715 1848.98,384.706 1889.38,370.646 \n",
       "  1929.78,434.599 1970.18,482.506 2010.57,499.227 2050.97,566.507 2091.37,669.407 2131.77,742.907 2172.17,873.638 2212.57,1000.26 2252.97,945.423 2293.37,899.89 \n",
       "  \n",
       "  \"/>\n",
       "<polyline clip-path=\"url(#clip792)\" style=\"stroke:#00a8cb; stroke-linecap:round; stroke-linejoin:round; stroke-width:4; stroke-opacity:1; fill:none\" points=\"\n",
       "  313.809,912.86 354.208,896.376 394.607,944.775 435.006,1055.15 475.405,1046.01 515.805,984.314 556.204,1057.93 596.603,1163.86 637.002,1203.14 677.401,1154.82 \n",
       "  717.801,1094.86 758.2,1025.6 798.599,1001.01 838.998,1051.45 879.397,1138.46 919.797,1202.92 960.196,1168.17 1000.59,1101.16 1040.99,917.448 1081.39,834.668 \n",
       "  1121.79,807.586 1162.19,864.911 1202.59,819.622 1242.99,742.275 1283.39,742.299 1323.79,734.917 1364.19,636.156 1404.59,584.873 1444.99,680.87 1485.39,645.89 \n",
       "  1525.78,596.573 1566.18,556.46 1606.58,499.621 1646.98,514.566 1687.38,645.55 1727.78,662.314 1768.18,577.284 1808.58,463.34 1848.98,443.317 1889.38,448.74 \n",
       "  1929.78,502.453 1970.18,522.93 2010.57,543.105 2050.97,600.154 2091.37,662.512 2131.77,736.101 2172.17,861.761 2212.57,978.297 2252.97,920.889 2293.37,871.705 \n",
       "  \n",
       "  \"/>\n",
       "<path clip-path=\"url(#clip790)\" d=\"\n",
       "M1965.84 717.298 L2282.81 717.298 L2282.81 95.2176 L1965.84 95.2176  Z\n",
       "  \" fill=\"#ffffff\" fill-rule=\"evenodd\" fill-opacity=\"1\"/>\n",
       "<polyline clip-path=\"url(#clip790)\" style=\"stroke:#000000; stroke-linecap:round; stroke-linejoin:round; stroke-width:4; stroke-opacity:1; fill:none\" points=\"\n",
       "  1965.84,717.298 2282.81,717.298 2282.81,95.2176 1965.84,95.2176 1965.84,717.298 \n",
       "  \"/>\n",
       "<polyline clip-path=\"url(#clip790)\" style=\"stroke:#009af9; stroke-linecap:round; stroke-linejoin:round; stroke-width:4; stroke-opacity:1; fill:none\" points=\"\n",
       "  1989.16,147.058 2129.05,147.058 \n",
       "  \"/>\n",
       "<path clip-path=\"url(#clip790)\" d=\"M2166.21 166.745 Q2164.4 171.375 2162.69 172.787 Q2160.97 174.199 2158.1 174.199 L2154.7 174.199 L2154.7 170.634 L2157.2 170.634 Q2158.96 170.634 2159.93 169.8 Q2160.9 168.967 2162.08 165.865 L2162.85 163.921 L2152.36 138.412 L2156.88 138.412 L2164.98 158.689 L2173.08 138.412 L2177.59 138.412 L2166.21 166.745 Z\" fill=\"#000000\" fill-rule=\"evenodd\" fill-opacity=\"1\" /><path clip-path=\"url(#clip790)\" d=\"M2184.89 160.402 L2192.52 160.402 L2192.52 134.037 L2184.21 135.703 L2184.21 131.444 L2192.48 129.778 L2197.15 129.778 L2197.15 160.402 L2204.79 160.402 L2204.79 164.338 L2184.89 164.338 L2184.89 160.402 Z\" fill=\"#000000\" fill-rule=\"evenodd\" fill-opacity=\"1\" /><polyline clip-path=\"url(#clip790)\" style=\"stroke:#e26f46; stroke-linecap:round; stroke-linejoin:round; stroke-width:4; stroke-opacity:1; fill:none\" points=\"\n",
       "  1989.16,198.898 2129.05,198.898 \n",
       "  \"/>\n",
       "<path clip-path=\"url(#clip790)\" d=\"M2166.21 218.585 Q2164.4 223.215 2162.69 224.627 Q2160.97 226.039 2158.1 226.039 L2154.7 226.039 L2154.7 222.474 L2157.2 222.474 Q2158.96 222.474 2159.93 221.64 Q2160.9 220.807 2162.08 217.705 L2162.85 215.761 L2152.36 190.252 L2156.88 190.252 L2164.98 210.529 L2173.08 190.252 L2177.59 190.252 L2166.21 218.585 Z\" fill=\"#000000\" fill-rule=\"evenodd\" fill-opacity=\"1\" /><path clip-path=\"url(#clip790)\" d=\"M2188.1 212.242 L2204.42 212.242 L2204.42 216.178 L2182.48 216.178 L2182.48 212.242 Q2185.14 209.488 2189.72 204.858 Q2194.33 200.205 2195.51 198.863 Q2197.76 196.34 2198.64 194.604 Q2199.54 192.844 2199.54 191.155 Q2199.54 188.4 2197.59 186.664 Q2195.67 184.928 2192.57 184.928 Q2190.37 184.928 2187.92 185.692 Q2185.49 186.455 2182.71 188.006 L2182.71 183.284 Q2185.53 182.15 2187.99 181.571 Q2190.44 180.993 2192.48 180.993 Q2197.85 180.993 2201.04 183.678 Q2204.24 186.363 2204.24 190.854 Q2204.24 192.983 2203.43 194.905 Q2202.64 196.803 2200.53 199.395 Q2199.96 200.067 2196.85 203.284 Q2193.75 206.479 2188.1 212.242 Z\" fill=\"#000000\" fill-rule=\"evenodd\" fill-opacity=\"1\" /><polyline clip-path=\"url(#clip790)\" style=\"stroke:#3da44d; stroke-linecap:round; stroke-linejoin:round; stroke-width:4; stroke-opacity:1; fill:none\" points=\"\n",
       "  1989.16,250.738 2129.05,250.738 \n",
       "  \"/>\n",
       "<path clip-path=\"url(#clip790)\" d=\"M2166.21 270.425 Q2164.4 275.055 2162.69 276.467 Q2160.97 277.879 2158.1 277.879 L2154.7 277.879 L2154.7 274.314 L2157.2 274.314 Q2158.96 274.314 2159.93 273.48 Q2160.9 272.647 2162.08 269.545 L2162.85 267.601 L2152.36 242.092 L2156.88 242.092 L2164.98 262.369 L2173.08 242.092 L2177.59 242.092 L2166.21 270.425 Z\" fill=\"#000000\" fill-rule=\"evenodd\" fill-opacity=\"1\" /><path clip-path=\"url(#clip790)\" d=\"M2198.24 249.383 Q2201.6 250.101 2203.47 252.369 Q2205.37 254.638 2205.37 257.971 Q2205.37 263.087 2201.85 265.888 Q2198.33 268.689 2191.85 268.689 Q2189.68 268.689 2187.36 268.249 Q2185.07 267.832 2182.62 266.976 L2182.62 262.462 Q2184.56 263.596 2186.88 264.175 Q2189.19 264.754 2191.71 264.754 Q2196.11 264.754 2198.4 263.018 Q2200.72 261.281 2200.72 257.971 Q2200.72 254.916 2198.57 253.203 Q2196.44 251.467 2192.62 251.467 L2188.59 251.467 L2188.59 247.624 L2192.8 247.624 Q2196.25 247.624 2198.08 246.258 Q2199.91 244.87 2199.91 242.277 Q2199.91 239.615 2198.01 238.203 Q2196.14 236.768 2192.62 236.768 Q2190.7 236.768 2188.5 237.184 Q2186.3 237.601 2183.66 238.481 L2183.66 234.314 Q2186.32 233.573 2188.64 233.203 Q2190.97 232.833 2193.03 232.833 Q2198.36 232.833 2201.46 235.263 Q2204.56 237.67 2204.56 241.791 Q2204.56 244.661 2202.92 246.652 Q2201.27 248.62 2198.24 249.383 Z\" fill=\"#000000\" fill-rule=\"evenodd\" fill-opacity=\"1\" /><polyline clip-path=\"url(#clip790)\" style=\"stroke:#c271d2; stroke-linecap:round; stroke-linejoin:round; stroke-width:4; stroke-opacity:1; fill:none\" points=\"\n",
       "  1989.16,302.578 2129.05,302.578 \n",
       "  \"/>\n",
       "<path clip-path=\"url(#clip790)\" d=\"M2166.21 322.265 Q2164.4 326.895 2162.69 328.307 Q2160.97 329.719 2158.1 329.719 L2154.7 329.719 L2154.7 326.154 L2157.2 326.154 Q2158.96 326.154 2159.93 325.32 Q2160.9 324.487 2162.08 321.385 L2162.85 319.441 L2152.36 293.932 L2156.88 293.932 L2164.98 314.209 L2173.08 293.932 L2177.59 293.932 L2166.21 322.265 Z\" fill=\"#000000\" fill-rule=\"evenodd\" fill-opacity=\"1\" /><path clip-path=\"url(#clip790)\" d=\"M2196.92 289.372 L2185.12 307.821 L2196.92 307.821 L2196.92 289.372 M2195.7 285.298 L2201.58 285.298 L2201.58 307.821 L2206.51 307.821 L2206.51 311.709 L2201.58 311.709 L2201.58 319.858 L2196.92 319.858 L2196.92 311.709 L2181.32 311.709 L2181.32 307.196 L2195.7 285.298 Z\" fill=\"#000000\" fill-rule=\"evenodd\" fill-opacity=\"1\" /><polyline clip-path=\"url(#clip790)\" style=\"stroke:#ac8d18; stroke-linecap:round; stroke-linejoin:round; stroke-width:4; stroke-opacity:1; fill:none\" points=\"\n",
       "  1989.16,354.418 2129.05,354.418 \n",
       "  \"/>\n",
       "<path clip-path=\"url(#clip790)\" d=\"M2166.21 374.105 Q2164.4 378.735 2162.69 380.147 Q2160.97 381.559 2158.1 381.559 L2154.7 381.559 L2154.7 377.994 L2157.2 377.994 Q2158.96 377.994 2159.93 377.16 Q2160.9 376.327 2162.08 373.225 L2162.85 371.281 L2152.36 345.772 L2156.88 345.772 L2164.98 366.049 L2173.08 345.772 L2177.59 345.772 L2166.21 374.105 Z\" fill=\"#000000\" fill-rule=\"evenodd\" fill-opacity=\"1\" /><path clip-path=\"url(#clip790)\" d=\"M2184.12 337.138 L2202.48 337.138 L2202.48 341.073 L2188.4 341.073 L2188.4 349.545 Q2189.42 349.198 2190.44 349.036 Q2191.46 348.85 2192.48 348.85 Q2198.27 348.85 2201.64 352.022 Q2205.02 355.193 2205.02 360.61 Q2205.02 366.188 2201.55 369.29 Q2198.08 372.369 2191.76 372.369 Q2189.58 372.369 2187.32 371.998 Q2185.07 371.628 2182.66 370.887 L2182.66 366.188 Q2184.75 367.323 2186.97 367.878 Q2189.19 368.434 2191.67 368.434 Q2195.67 368.434 2198.01 366.327 Q2200.35 364.221 2200.35 360.61 Q2200.35 356.999 2198.01 354.892 Q2195.67 352.786 2191.67 352.786 Q2189.79 352.786 2187.92 353.202 Q2186.07 353.619 2184.12 354.499 L2184.12 337.138 Z\" fill=\"#000000\" fill-rule=\"evenodd\" fill-opacity=\"1\" /><polyline clip-path=\"url(#clip790)\" style=\"stroke:#00a9ad; stroke-linecap:round; stroke-linejoin:round; stroke-width:4; stroke-opacity:1; fill:none\" points=\"\n",
       "  1989.16,406.258 2129.05,406.258 \n",
       "  \"/>\n",
       "<path clip-path=\"url(#clip790)\" d=\"M2166.21 425.945 Q2164.4 430.575 2162.69 431.987 Q2160.97 433.399 2158.1 433.399 L2154.7 433.399 L2154.7 429.834 L2157.2 429.834 Q2158.96 429.834 2159.93 429 Q2160.9 428.167 2162.08 425.065 L2162.85 423.121 L2152.36 397.612 L2156.88 397.612 L2164.98 417.889 L2173.08 397.612 L2177.59 397.612 L2166.21 425.945 Z\" fill=\"#000000\" fill-rule=\"evenodd\" fill-opacity=\"1\" /><path clip-path=\"url(#clip790)\" d=\"M2194.65 404.394 Q2191.51 404.394 2189.65 406.547 Q2187.83 408.7 2187.83 412.45 Q2187.83 416.176 2189.65 418.352 Q2191.51 420.505 2194.65 420.505 Q2197.8 420.505 2199.63 418.352 Q2201.48 416.176 2201.48 412.45 Q2201.48 408.7 2199.63 406.547 Q2197.8 404.394 2194.65 404.394 M2203.94 389.741 L2203.94 394.001 Q2202.18 393.167 2200.37 392.728 Q2198.59 392.288 2196.83 392.288 Q2192.2 392.288 2189.75 395.413 Q2187.32 398.538 2186.97 404.857 Q2188.33 402.843 2190.39 401.778 Q2192.46 400.69 2194.93 400.69 Q2200.14 400.69 2203.15 403.862 Q2206.18 407.01 2206.18 412.45 Q2206.18 417.774 2203.03 420.991 Q2199.89 424.209 2194.65 424.209 Q2188.66 424.209 2185.49 419.626 Q2182.32 415.019 2182.32 406.292 Q2182.32 398.098 2186.21 393.237 Q2190.09 388.353 2196.64 388.353 Q2198.4 388.353 2200.19 388.7 Q2201.99 389.047 2203.94 389.741 Z\" fill=\"#000000\" fill-rule=\"evenodd\" fill-opacity=\"1\" /><polyline clip-path=\"url(#clip790)\" style=\"stroke:#ed5d92; stroke-linecap:round; stroke-linejoin:round; stroke-width:4; stroke-opacity:1; fill:none\" points=\"\n",
       "  1989.16,458.098 2129.05,458.098 \n",
       "  \"/>\n",
       "<path clip-path=\"url(#clip790)\" d=\"M2166.21 477.785 Q2164.4 482.415 2162.69 483.827 Q2160.97 485.239 2158.1 485.239 L2154.7 485.239 L2154.7 481.674 L2157.2 481.674 Q2158.96 481.674 2159.93 480.84 Q2160.9 480.007 2162.08 476.905 L2162.85 474.961 L2152.36 449.452 L2156.88 449.452 L2164.98 469.729 L2173.08 449.452 L2177.59 449.452 L2166.21 477.785 Z\" fill=\"#000000\" fill-rule=\"evenodd\" fill-opacity=\"1\" /><path clip-path=\"url(#clip790)\" d=\"M2182.9 440.818 L2205.12 440.818 L2205.12 442.808 L2192.57 475.378 L2187.69 475.378 L2199.49 444.753 L2182.9 444.753 L2182.9 440.818 Z\" fill=\"#000000\" fill-rule=\"evenodd\" fill-opacity=\"1\" /><polyline clip-path=\"url(#clip790)\" style=\"stroke:#c68125; stroke-linecap:round; stroke-linejoin:round; stroke-width:4; stroke-opacity:1; fill:none\" points=\"\n",
       "  1989.16,509.938 2129.05,509.938 \n",
       "  \"/>\n",
       "<path clip-path=\"url(#clip790)\" d=\"M2166.21 529.625 Q2164.4 534.255 2162.69 535.667 Q2160.97 537.079 2158.1 537.079 L2154.7 537.079 L2154.7 533.514 L2157.2 533.514 Q2158.96 533.514 2159.93 532.68 Q2160.9 531.847 2162.08 528.745 L2162.85 526.801 L2152.36 501.292 L2156.88 501.292 L2164.98 521.569 L2173.08 501.292 L2177.59 501.292 L2166.21 529.625 Z\" fill=\"#000000\" fill-rule=\"evenodd\" fill-opacity=\"1\" /><path clip-path=\"url(#clip790)\" d=\"M2194.08 510.806 Q2190.74 510.806 2188.82 512.588 Q2186.92 514.37 2186.92 517.495 Q2186.92 520.62 2188.82 522.403 Q2190.74 524.185 2194.08 524.185 Q2197.41 524.185 2199.33 522.403 Q2201.25 520.597 2201.25 517.495 Q2201.25 514.37 2199.33 512.588 Q2197.43 510.806 2194.08 510.806 M2189.4 508.815 Q2186.39 508.074 2184.7 506.014 Q2183.03 503.954 2183.03 500.991 Q2183.03 496.847 2185.97 494.44 Q2188.94 492.033 2194.08 492.033 Q2199.24 492.033 2202.18 494.44 Q2205.12 496.847 2205.12 500.991 Q2205.12 503.954 2203.43 506.014 Q2201.76 508.074 2198.77 508.815 Q2202.15 509.602 2204.03 511.894 Q2205.93 514.185 2205.93 517.495 Q2205.93 522.519 2202.85 525.204 Q2199.79 527.889 2194.08 527.889 Q2188.36 527.889 2185.28 525.204 Q2182.22 522.519 2182.22 517.495 Q2182.22 514.185 2184.12 511.894 Q2186.02 509.602 2189.4 508.815 M2187.69 501.431 Q2187.69 504.116 2189.35 505.62 Q2191.04 507.125 2194.08 507.125 Q2197.08 507.125 2198.77 505.62 Q2200.49 504.116 2200.49 501.431 Q2200.49 498.745 2198.77 497.241 Q2197.08 495.736 2194.08 495.736 Q2191.04 495.736 2189.35 497.241 Q2187.69 498.745 2187.69 501.431 Z\" fill=\"#000000\" fill-rule=\"evenodd\" fill-opacity=\"1\" /><polyline clip-path=\"url(#clip790)\" style=\"stroke:#00a98d; stroke-linecap:round; stroke-linejoin:round; stroke-width:4; stroke-opacity:1; fill:none\" points=\"\n",
       "  1989.16,561.778 2129.05,561.778 \n",
       "  \"/>\n",
       "<path clip-path=\"url(#clip790)\" d=\"M2166.21 581.465 Q2164.4 586.095 2162.69 587.507 Q2160.97 588.919 2158.1 588.919 L2154.7 588.919 L2154.7 585.354 L2157.2 585.354 Q2158.96 585.354 2159.93 584.52 Q2160.9 583.687 2162.08 580.585 L2162.85 578.641 L2152.36 553.132 L2156.88 553.132 L2164.98 573.409 L2173.08 553.132 L2177.59 553.132 L2166.21 581.465 Z\" fill=\"#000000\" fill-rule=\"evenodd\" fill-opacity=\"1\" /><path clip-path=\"url(#clip790)\" d=\"M2184.21 578.34 L2184.21 574.081 Q2185.97 574.914 2187.78 575.354 Q2189.58 575.794 2191.32 575.794 Q2195.95 575.794 2198.38 572.692 Q2200.83 569.567 2201.18 563.224 Q2199.84 565.215 2197.78 566.28 Q2195.72 567.345 2193.22 567.345 Q2188.03 567.345 2185 564.22 Q2181.99 561.072 2181.99 555.632 Q2181.99 550.308 2185.14 547.09 Q2188.29 543.873 2193.52 543.873 Q2199.52 543.873 2202.66 548.479 Q2205.83 553.062 2205.83 561.812 Q2205.83 569.984 2201.95 574.868 Q2198.08 579.729 2191.53 579.729 Q2189.77 579.729 2187.96 579.382 Q2186.16 579.034 2184.21 578.34 M2193.52 563.687 Q2196.67 563.687 2198.5 561.534 Q2200.35 559.382 2200.35 555.632 Q2200.35 551.905 2198.5 549.752 Q2196.67 547.576 2193.52 547.576 Q2190.37 547.576 2188.52 549.752 Q2186.69 551.905 2186.69 555.632 Q2186.69 559.382 2188.52 561.534 Q2190.37 563.687 2193.52 563.687 Z\" fill=\"#000000\" fill-rule=\"evenodd\" fill-opacity=\"1\" /><polyline clip-path=\"url(#clip790)\" style=\"stroke:#8e971d; stroke-linecap:round; stroke-linejoin:round; stroke-width:4; stroke-opacity:1; fill:none\" points=\"\n",
       "  1989.16,613.618 2129.05,613.618 \n",
       "  \"/>\n",
       "<path clip-path=\"url(#clip790)\" d=\"M2166.21 633.305 Q2164.4 637.935 2162.69 639.347 Q2160.97 640.759 2158.1 640.759 L2154.7 640.759 L2154.7 637.194 L2157.2 637.194 Q2158.96 637.194 2159.93 636.36 Q2160.9 635.527 2162.08 632.425 L2162.85 630.481 L2152.36 604.972 L2156.88 604.972 L2164.98 625.249 L2173.08 604.972 L2177.59 604.972 L2166.21 633.305 Z\" fill=\"#000000\" fill-rule=\"evenodd\" fill-opacity=\"1\" /><path clip-path=\"url(#clip790)\" d=\"M2184.89 626.962 L2192.52 626.962 L2192.52 600.597 L2184.21 602.263 L2184.21 598.004 L2192.48 596.338 L2197.15 596.338 L2197.15 626.962 L2204.79 626.962 L2204.79 630.898 L2184.89 630.898 L2184.89 626.962 Z\" fill=\"#000000\" fill-rule=\"evenodd\" fill-opacity=\"1\" /><path clip-path=\"url(#clip790)\" d=\"M2224.24 599.416 Q2220.63 599.416 2218.8 602.981 Q2216.99 606.523 2216.99 613.652 Q2216.99 620.759 2218.8 624.324 Q2220.63 627.865 2224.24 627.865 Q2227.87 627.865 2229.68 624.324 Q2231.51 620.759 2231.51 613.652 Q2231.51 606.523 2229.68 602.981 Q2227.87 599.416 2224.24 599.416 M2224.24 595.713 Q2230.05 595.713 2233.1 600.319 Q2236.18 604.902 2236.18 613.652 Q2236.18 622.379 2233.1 626.986 Q2230.05 631.569 2224.24 631.569 Q2218.43 631.569 2215.35 626.986 Q2212.29 622.379 2212.29 613.652 Q2212.29 604.902 2215.35 600.319 Q2218.43 595.713 2224.24 595.713 Z\" fill=\"#000000\" fill-rule=\"evenodd\" fill-opacity=\"1\" /><polyline clip-path=\"url(#clip790)\" style=\"stroke:#00a8cb; stroke-linecap:round; stroke-linejoin:round; stroke-width:4; stroke-opacity:1; fill:none\" points=\"\n",
       "  1989.16,665.458 2129.05,665.458 \n",
       "  \"/>\n",
       "<path clip-path=\"url(#clip790)\" d=\"M2166.21 685.145 Q2164.4 689.775 2162.69 691.187 Q2160.97 692.599 2158.1 692.599 L2154.7 692.599 L2154.7 689.034 L2157.2 689.034 Q2158.96 689.034 2159.93 688.2 Q2160.9 687.367 2162.08 684.265 L2162.85 682.321 L2152.36 656.812 L2156.88 656.812 L2164.98 677.089 L2173.08 656.812 L2177.59 656.812 L2166.21 685.145 Z\" fill=\"#000000\" fill-rule=\"evenodd\" fill-opacity=\"1\" /><path clip-path=\"url(#clip790)\" d=\"M2184.89 678.802 L2192.52 678.802 L2192.52 652.437 L2184.21 654.103 L2184.21 649.844 L2192.48 648.178 L2197.15 648.178 L2197.15 678.802 L2204.79 678.802 L2204.79 682.738 L2184.89 682.738 L2184.89 678.802 Z\" fill=\"#000000\" fill-rule=\"evenodd\" fill-opacity=\"1\" /><path clip-path=\"url(#clip790)\" d=\"M2215.05 678.802 L2222.69 678.802 L2222.69 652.437 L2214.38 654.103 L2214.38 649.844 L2222.64 648.178 L2227.32 648.178 L2227.32 678.802 L2234.95 678.802 L2234.95 682.738 L2215.05 682.738 L2215.05 678.802 Z\" fill=\"#000000\" fill-rule=\"evenodd\" fill-opacity=\"1\" /></svg>\n"
      ]
     },
     "metadata": {},
     "output_type": "display_data"
    }
   ],
   "source": [
    "l = 1\n",
    "P = 5\n",
    "plot()\n",
    "for j in 1:M_g\n",
    "    Fuj = view(par[j,:],4N+1:4N+3*prod(J))\n",
    "    Fj = reshape(Fuj,3,J...)\n",
    "    Ej = Fj[1:2,:,:]\n",
    "    plot!(Ej[l,:,P])\n",
    "end\n",
    "plot!()"
   ]
  },
  {
   "cell_type": "code",
   "execution_count": null,
   "metadata": {},
   "outputs": [],
   "source": [
    "norm(par[1,4N+1:4N+3*prod(J)] - par[11,4N+1:4N+3*prod(J)])/norm(par[1,4N+1:4N+3*prod(J)])"
   ]
  },
  {
   "attachments": {},
   "cell_type": "markdown",
   "metadata": {},
   "source": [
    "### Constraint cheking"
   ]
  },
  {
   "cell_type": "code",
   "execution_count": 29,
   "metadata": {},
   "outputs": [
    {
     "name": "stdout",
     "output_type": "stream",
     "text": [
      "sum(ρf) = 1.2656542480726785e-13\n",
      "norm(Ej) = 0.20461714279148274\n"
     ]
    },
    {
     "data": {
      "text/plain": [
       "0.20461714279148274"
      ]
     },
     "metadata": {},
     "output_type": "display_data"
    }
   ],
   "source": [
    "j = M_g\n",
    "par_grid = (N, Box_x, J, 5)\n",
    "\n",
    "nf = get_density_2D_trans(Val(order), Box_x, par[j,1:4N])\n",
    "\n",
    "Ef = Array{Float64,3}(undef,(2,J...))\n",
    "#ρf = nf.-1.0/prod(J)\n",
    "ρf = nf .-1.0\n",
    "@show sum(ρf)\n",
    "get_E!(Ef,ρf,Box_x);\n",
    "\n",
    "Fuj = view(par[j,:],4N+1:4N+3*prod(J))\n",
    "Fj = reshape(Fuj,3,J...)\n",
    "#F = view(u[4N+1:end],3,J...)\n",
    "Ej = Fj[1:2,:,:]\n",
    "@show(norm(Ej))"
   ]
  },
  {
   "attachments": {},
   "cell_type": "markdown",
   "metadata": {},
   "source": [
    "#### They do not coincide because there are waves starting. But the weak form of the constraints is satisfied, as we shall see below."
   ]
  },
  {
   "cell_type": "code",
   "execution_count": 30,
   "metadata": {},
   "outputs": [
    {
     "data": {
      "text/plain": [
       "50×50 Matrix{Float64}:\n",
       "  0.0961378    0.0492489   -0.0454426  …   0.0192322    0.0406658\n",
       "  0.0406499   -0.0619132   -0.10197        0.144072     0.0914799\n",
       "  0.0756475    0.00789405  -0.0171397      0.227192     0.174359\n",
       "  0.225687     0.18653      0.147327       0.138912     0.202896\n",
       "  0.135077     0.0919686    0.0106769      0.162988     0.16335\n",
       "  0.0476512   -0.0340518    0.0102556  …   0.168724     0.104492\n",
       " -0.0354755   -0.0479694    0.0604733      0.0749452   -0.0537414\n",
       " -0.00947663  -0.0345016   -0.0552178      0.0726922   -0.052555\n",
       "  0.0704719    0.0103107   -0.0295081      0.117352     0.059534\n",
       "  0.130401    -0.0320051   -0.0210468      0.044648     0.0957285\n",
       "  ⋮                                    ⋱               \n",
       "  0.0841842    0.0308501    0.0528884     -0.122158     0.0592075\n",
       "  0.134348     0.0675133    0.0494496      0.0258728    0.117692\n",
       " -0.0024413    0.0418371    0.105931       0.0430203    0.0206555\n",
       "  0.0362102    0.0377142    0.0929717      0.0586212    0.0780293\n",
       "  0.098518     0.0600123    0.050271   …   0.0262707    0.0499183\n",
       "  0.0321533    0.0668952    0.0849775      0.00407555  -0.0268222\n",
       "  0.0244336    0.0687235    0.0603635      0.0470204    0.0218411\n",
       "  0.0629117    0.032236    -0.0401231      0.00200052   0.038063\n",
       "  0.0382754    0.0245607   -0.0617079     -0.0433265    0.00154186"
      ]
     },
     "metadata": {},
     "output_type": "display_data"
    }
   ],
   "source": [
    "nf = get_density_2D_trans(Val(order), Box_x, par[M_g,1:4N])\n",
    "ρf = nf .-1.0"
   ]
  },
  {
   "cell_type": "code",
   "execution_count": 31,
   "metadata": {},
   "outputs": [
    {
     "name": "stdout",
     "output_type": "stream",
     "text": [
      "x0 = [0.32969919486272725, 0.26452192722422696]\n"
     ]
    },
    {
     "data": {
      "text/plain": [
       "(-2.341113497148892, -2.341113689365376, 8.210472004671153e-8)"
      ]
     },
     "metadata": {},
     "output_type": "display_data"
    }
   ],
   "source": [
    "#include(\"aux_functions/aux_functions_E-B.jl\")\n",
    "x0=[Box_x[1] + (Box_x[2]-Box_x[1])*rand(), Box_x[3] + (Box_x[4]-Box_x[3])*rand()]\n",
    "@show x0\n",
    "pars = (x0, 0.2, 6)\n",
    "constraint_test(Ej, ρf, J, Box_x, ϕ_test, ∇ϕ_test, pars)"
   ]
  },
  {
   "cell_type": "code",
   "execution_count": 32,
   "metadata": {},
   "outputs": [
    {
     "name": "stdout",
     "output_type": "stream",
     "text": [
      "Max = err = 2.1421790775331244e-5\n",
      "x0 = [0.6123031393112527, 0.2876340850876762]\n",
      "Max = err = 6.043185983595699e-5\n",
      "x0 = [0.0974641830325117, 0.6536280385138715]\n",
      "Max = err = 0.0004229484460221743\n",
      "x0 = [0.7672984267092792, 0.04332191486269432]\n"
     ]
    },
    {
     "name": "stdout",
     "output_type": "stream",
     "text": [
      "Max = err = 0.0005823529745473095\n",
      "x0 = [0.9673271319565444, 0.3133019213914562]\n",
      "Err / M = 5.068094539117116e-5\n",
      "Max = 0.0005823529745473095\n"
     ]
    }
   ],
   "source": [
    "Err = 0.0\n",
    "Max = 0.0\n",
    "M = 100\n",
    "for i in 1:M\n",
    "    x0=[Box_x[1] + (Box_x[2]-Box_x[1])*rand(), Box_x[3] + (Box_x[4]-Box_x[3])*rand()]\n",
    "    pars = (x0, 0.2, 6)\n",
    "    div, rho, err = constraint_test(Ej, ρf, J, Box_x, ϕ_test, ∇ϕ_test, pars)\n",
    "    Err = Err + abs(err)\n",
    "    if err > Max\n",
    "        @show Max = err\n",
    "        @show x0\n",
    "    end\n",
    "    \n",
    "end\n",
    "@show Err/M\n",
    "@show Max;"
   ]
  }
 ],
 "metadata": {
  "kernelspec": {
   "display_name": "Julia 1.8.1",
   "language": "julia",
   "name": "julia-1.8"
  },
  "language_info": {
   "file_extension": ".jl",
   "mimetype": "application/julia",
   "name": "julia",
   "version": "1.8.1"
  }
 },
 "nbformat": 4,
 "nbformat_minor": 4
}
