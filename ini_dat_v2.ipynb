{
 "cells": [
  {
   "cell_type": "markdown",
   "metadata": {},
   "source": [
    "## Play-ground to make initial data distributions."
   ]
  },
  {
   "cell_type": "code",
   "execution_count": null,
   "metadata": {},
   "outputs": [],
   "source": [
    "#import Pkg; Pkg.add(\"FileIO\")\n",
    "using Distributions\n",
    "using Plots\n",
    "using FileIO\n",
    "using JLD2\n",
    "using LaTeXStrings\n",
    "#Pkg.instantiate()"
   ]
  },
  {
   "cell_type": "code",
   "execution_count": null,
   "metadata": {},
   "outputs": [],
   "source": [
    "include(\"inidat_aux_functions.jl\")"
   ]
  },
  {
   "cell_type": "code",
   "execution_count": null,
   "metadata": {},
   "outputs": [],
   "source": [
    "N = 40_000\n",
    "v = zeros(N)\n",
    "vb = 5\n",
    "for i in 1:N\n",
    "    v[i] = distribution_stream(vb)\n",
    "end"
   ]
  },
  {
   "cell_type": "code",
   "execution_count": null,
   "metadata": {},
   "outputs": [],
   "source": [
    "histogram(v, bins=:scott, weights=repeat(1:80, outer=500))"
   ]
  },
  {
   "cell_type": "markdown",
   "metadata": {},
   "source": [
    "At first sigth they look very similar...."
   ]
  },
  {
   "cell_type": "markdown",
   "metadata": {},
   "source": [
    "We now make and save some distributions to use as standard ones."
   ]
  },
  {
   "cell_type": "markdown",
   "metadata": {},
   "source": [
    "## Thermal Distributions\n",
    "\n",
    "$$\n",
    "f(x,v) = \\frac{N}{L} \\frac{1}{\\sqrt{2\\pi \\theta}} e^{-\\frac{v^2}{2\\theta}}\n",
    "$$\n",
    "\n",
    "Thus, $\\theta = \\sigma^2$ is the variance of the distribution.\n",
    "\n",
    "### Relativistic version\n",
    "\n",
    "$$\n",
    "f(x,p) = \\frac{N}{L} \\frac{1}{\\sqrt{2\\pi \\theta}} e^{\\frac{1 - \\sqrt{1+\\frac{p^2}{m^2}}}{2\\theta}}\n",
    "$$"
   ]
  },
  {
   "cell_type": "code",
   "execution_count": null,
   "metadata": {},
   "outputs": [],
   "source": [
    "#save(\"Initial_Distributions/par_dis_L5_N8_5_theta01.jld2\", \"par_dis\", u)\n",
    "#save(\"Initial_Distributions/par_dis_L5_N2_5_theta001.jld2\", \"par_dis\", u)\n",
    "#save(\"Initial_Distributions/par_dis_L5_N2_5_theta0001.jld2\", \"par_dis\", u)\n",
    "#save(\"Initial_Distributions/par_dis_L5_N2_5_theta00001.jld2\", \"par_dis\", u)\n"
   ]
  },
  {
   "cell_type": "markdown",
   "metadata": {},
   "source": [
    "## Landau Damping ##\n",
    "\n",
    "The initial distribution is: \n",
    "\n",
    "$$\n",
    "f(x,v,\\alpha, k, \\theta) = \\frac{1}{\\sqrt{2\\pi \\theta}} e^{-\\frac{v^2}{2\\theta}} (1 + \\alpha cos(kx) )\n",
    "$$\n",
    "\n",
    "Since it is a product we can split into two distributions one for the position and one for the velocity.\n",
    "The one for the velocity we already have, so we need to make only the random sampling of the spatial one. \n",
    "\n",
    "Some definitions $\\hat{k} = k / k_D = k * \\sqrt{\\theta}$ Or $k = \\hat{k} / \\sqrt{\\theta}$ \n",
    "\n",
    "In these simulations, $\\theta = 10^{-3}$ $\\sqrt{\\theta} = 0.03162$\n",
    "\n",
    "Thus to $\\hat{k} = 0.01$ corresponds a $\\lambda = 2\\pi * \\sqrt{\\theta} / \\hat{k} = 19.869$\n",
    "\n",
    "For $\\hat{k} = 0.40$ corresponds a $\\lambda = 0.497$\n",
    "\n",
    "For the first case an $L = 2 \\lambda = 39.738$ is used and $J = 1761*2 = 3522$, $dx = L/J = 0.0112$\n",
    "\n",
    "For the second $L=15*\\lambda = 7.455$ is used and $J = 62 * 15 = 930$, $dx = 0.0080$"
   ]
  },
  {
   "cell_type": "markdown",
   "metadata": {},
   "source": []
  },
  {
   "cell_type": "markdown",
   "metadata": {},
   "source": [
    "### Relativistic version\n",
    "\n",
    "For the relativistic version we use the distribution (for momentum)\n",
    "\n",
    "$$\n",
    "f(p) = \\frac{1}{4\\pi m^3 c^3 \\theta K^2(1/\\theta)} e^{(1-\\gamma) / \\theta} \\;\\;\\;\\; \\gamma = \\sqrt{1+p^2}\n",
    "$$"
   ]
  },
  {
   "cell_type": "code",
   "execution_count": null,
   "metadata": {},
   "outputs": [],
   "source": [
    "Plots.plot(u -> f_p_rel(u,(0.001,1))\n",
    ", xscale=:log10, yscale=:log10, xlim=(0.0001,1), ylim=(1e-10,1e1)\n",
    ", label=L\"\\theta = 0.001\")\n",
    "Plots.plot!(u -> f_p_rel(u,(10.,1))\n",
    ", xscale=:log10, yscale=:log10, xlim=(0.0001,200)\n",
    ", label=L\"\\theta = 10.0\")"
   ]
  },
  {
   "cell_type": "code",
   "execution_count": null,
   "metadata": {},
   "outputs": [],
   "source": [
    "damped = false\n",
    "undamped_s = false\n",
    "undamped_l = false\n",
    "vlasov_exp_200 = false\n",
    "vlasov_exp_40 = false\n",
    "#damped = true\n",
    "undamped_s = true\n",
    "\n",
    "#vlasov_exp_200 = true\n",
    "#vlasov_exp_40 = true\n",
    "\n",
    "N_exp = 6\n",
    "N = 8*10^(N_exp)\n",
    "\n",
    "data_name = \"par_dis_landau_norm_norel_\"\n",
    "\n",
    "if undamped_l\n",
    "    L= 39.738 \n",
    "    #m = 20 # \n",
    "    m = 2\n",
    "    data_name = data_name * \"undamped_l_$(m)_\"\n",
    "elseif undamped_s\n",
    "    L= 4 \n",
    "    #m = 20 # \n",
    "    m = 2 # this corresponds to a k approx 0.1\n",
    "    data_name = data_name * \"undamped_s_$(m)_\"\n",
    "elseif damped\n",
    "    L = 7.455\n",
    "    m = 15 # 12, 15, 19\n",
    "    data_name = data_name * \"damped_$(m)_\"\n",
    "elseif vlasov_exp_200\n",
    "    L = 200.\n",
    "    #m = 2\n",
    "    m = 10\n",
    "    data_name = data_name * \"vla_200_$(m)_\"\n",
    "elseif vlasov_exp_40\n",
    "    L = 40.\n",
    "    m = 2\n",
    "    data_name = data_name * \"vla_40_$(m)_\"\n",
    "end\n",
    "\n",
    "\n",
    "k = 2π*m/L # this here is k, not \\hat{k}\n",
    "alpha_exp = 2\n",
    "α = 10.0^(-alpha_exp) # 0.1 0.001\n",
    "\n",
    "exp_Theta = 3\n",
    "θ = 10.0^(-exp_Theta)\n",
    "\n",
    "interval_x = (0.0,L)\n",
    "p_max = sqrt((1+10*θ)^2-1) \n",
    "interval_p = (0, p_max) # swe then antisymmetrize to get the negative values.\n",
    "par_f_x = (α, m, L)\n",
    "par_f_p_1 = (θ,1) #to compute the norm of f_p\n",
    "par_init = (N,)\n",
    "norm = norm_f_p_rel(f_p_rel,par_f_p_1,20000,p_max)\n",
    "par_f_p = (θ,norm)\n",
    "\n",
    "data_name = data_name * \"alp$(alpha_exp)_8$(N_exp)_Th$(exp_Theta)\"\n",
    "\n",
    "#build_initial_data(data_name::String, par_init, f_x, f_x_max, par_f_x, interval_x, f_p_rel, f_p_rel_max, par_f_p, interval_p);\n",
    "build_initial_data(data_name::String, par_init, f_x, f_x_max, par_f_x, interval_x, f_p, f_p_max, par_f_p, interval_p);"
   ]
  },
  {
   "cell_type": "code",
   "execution_count": null,
   "metadata": {},
   "outputs": [],
   "source": [
    "par_dis, run_name, pars, par_f_x, par_f_p = retrieve_initial_data(\"Initial_Distributions/\" * data_name * \".jld2\")\n",
    "\n",
    "@show run_name, pars, par_f_x, par_f_p"
   ]
  },
  {
   "cell_type": "code",
   "execution_count": null,
   "metadata": {},
   "outputs": [],
   "source": [
    "histogram(par_dis[N+1:2N], label=\"momentum distribution\")"
   ]
  },
  {
   "cell_type": "code",
   "execution_count": null,
   "metadata": {},
   "outputs": [],
   "source": [
    "histogram(par_dis[1:N], label=\"space distribution\")"
   ]
  },
  {
   "cell_type": "code",
   "execution_count": null,
   "metadata": {},
   "outputs": [],
   "source": []
  }
 ],
 "metadata": {
  "kernelspec": {
   "display_name": "Julia 1.8.1",
   "language": "julia",
   "name": "julia-1.8"
  },
  "language_info": {
   "file_extension": ".jl",
   "mimetype": "application/julia",
   "name": "julia",
   "version": "1.8.1"
  }
 },
 "nbformat": 4,
 "nbformat_minor": 4
}
