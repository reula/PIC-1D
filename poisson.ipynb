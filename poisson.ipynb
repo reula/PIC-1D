{
 "cells": [
  {
   "cell_type": "markdown",
   "metadata": {},
   "source": [
    "## This is the Maxwell part of the system, how to compute the density and then the potential, to finally compute the electric field."
   ]
  },
  {
   "cell_type": "code",
   "execution_count": null,
   "metadata": {},
   "outputs": [],
   "source": [
    "using Plots\n",
    "using FFTW\n",
    "FFTW.set_provider!(\"mkl\")\n",
    "using LinearAlgebra\n"
   ]
  },
  {
   "cell_type": "code",
   "execution_count": null,
   "metadata": {},
   "outputs": [],
   "source": [
    "include(\"aux_functions.jl\")"
   ]
  },
  {
   "cell_type": "markdown",
   "metadata": {},
   "source": [
    "We try a density and compute the potential. Then check it is working"
   ]
  },
  {
   "cell_type": "code",
   "execution_count": null,
   "metadata": {},
   "outputs": [],
   "source": [
    "J = 128\n",
    "L = 3.\n",
    "dx = L/J\n",
    "κ = 2π/L\n",
    "x = [dx*(i-1) for i in 1:J]\n",
    "ω = 5\n",
    "v = sin.(κ*ω*x) + 3. * cos.(κ*4*ω*x)\n",
    "ϕe = -(κ *ω )^(-2)*(sin.(κ*ω*x) + 3.0/4/4 * cos.(κ*4*ω*x))\n",
    "u = zeros(J)\n",
    "ϕ = get_ϕ!(u,v,κ);\n",
    "ϕ_D = get_ϕ_D!(u,v,(0.0,L))"
   ]
  },
  {
   "cell_type": "code",
   "execution_count": null,
   "metadata": {},
   "outputs": [],
   "source": [
    "plot(x,ϕ_D)\n",
    "plot!(x,ϕe ,ls=:dash)"
   ]
  },
  {
   "cell_type": "code",
   "execution_count": null,
   "metadata": {},
   "outputs": [],
   "source": [
    "plot(x, ϕ_D - ϕe)"
   ]
  },
  {
   "cell_type": "markdown",
   "metadata": {},
   "source": [
    "Finally we check that the Electric field is computed correctly."
   ]
  },
  {
   "cell_type": "code",
   "execution_count": null,
   "metadata": {},
   "outputs": [],
   "source": [
    "E = zeros(J)\n",
    "Electric!(ϕ, E, dx)\n",
    "plot(x,E)"
   ]
  },
  {
   "attachments": {},
   "cell_type": "markdown",
   "metadata": {},
   "source": [
    "### 2D check"
   ]
  },
  {
   "cell_type": "code",
   "execution_count": null,
   "metadata": {},
   "outputs": [],
   "source": [
    "include(\"aux_functions.jl\")\n",
    "\n",
    "J = (200,100)\n",
    "Box = (0.0,1.0,0.0,2.0)\n",
    "x = Box[1]:0.01:Box[2]\n",
    "y = Box[3]:0.01:Box[4]\n",
    "\n",
    "ρ = Array{Float64,2}(undef,J)\n",
    "\n",
    "Box_array = [i for i in Box]\n",
    "κ = 2π./(Box_array[2:2:end] - Box_array[1:2:end-1])\n",
    "\n",
    "dx = (Box_array[2:2:end] - Box_array[1:2:end-1])./(J)\n",
    "\n",
    "x = [Box[1] + (i-1)*dx[1]*(Box[2]-Box[1]) for i in 1:J[1]]\n",
    "y = [Box[3] + (i-1)*dx[2]*(Box[4]-Box[3]) for i in 1:J[2]]\n",
    "\n",
    "@show κ\n",
    "@show k = [2,2].*κ\n",
    "\n",
    "@show k'*k\n",
    "\n",
    "#ρ = sin.(k[1]*x) * sin.(k[2]*y)'\n",
    "\n",
    "for i in 1:J[1]\n",
    "    for j in 1:J[2]\n",
    "        ρ[i,j] = sin(k[1]*(i-1)*dx[1])*sin(k[2]*(j-1)*dx[2])\n",
    "        #ρ[i,j] = sin(k[1]*(i-1)*dx[1])\n",
    "        #ρ[i,j] = sin(k[2]*(j-1)*dx[2])\n",
    "    end\n",
    "end\n",
    "\n",
    "ϕe = similar(ρ)\n",
    "\n",
    "for i in 1:J[1]\n",
    "    for j in 1:J[2]\n",
    "        ρ[i,j] = sin(k[1]*(i-1)*dx[1])*sin(k[2]*(j-1)*dx[2])\n",
    "        #ρ[i,j] = sin(k[1]*(i-1)*dx[1])\n",
    "        #ϕe[i,j] = -k[2]^(-2)*sin(k[2]*(j-1)*dx[2])\n",
    "        ϕe[i,j] = -(k[1]^2 + k[2]^2)^(-1)*sin(k[1]*(i-1)*dx[1])*sin(k[2]*(j-1)*dx[2])\n",
    "    end\n",
    "end\n",
    "\n",
    "ϕ = similar(ρ)\n",
    "\n",
    "#plot_matrix(ρ)\n",
    "\n",
    "surface(y[1:end],x[1:end],ρ)\n",
    "\n",
    "#plot(x,ρ[:,25])\n",
    "#length(x)"
   ]
  },
  {
   "cell_type": "code",
   "execution_count": null,
   "metadata": {},
   "outputs": [],
   "source": [
    "include(\"aux_functions.jl\")\n",
    "get_ϕ_D!(ϕ, ρ, Box)\n",
    "\n",
    "#plot_matrix(ϕ)\n",
    "\n",
    "surface(y,x,ϕ-ϕe)\n",
    "#surface!(y,x,ϕe)\n",
    "#plot(y,ϕ[45,:])\n",
    "#plot!(y,ϕe[45,:], ls=:dash)"
   ]
  },
  {
   "cell_type": "code",
   "execution_count": null,
   "metadata": {},
   "outputs": [],
   "source": [
    "maximum(ϕ)*(k'*k)"
   ]
  },
  {
   "cell_type": "code",
   "execution_count": null,
   "metadata": {},
   "outputs": [],
   "source": [
    "norm(ϕ - ϕe)"
   ]
  },
  {
   "attachments": {},
   "cell_type": "markdown",
   "metadata": {},
   "source": [
    "### D = 3 Check"
   ]
  },
  {
   "cell_type": "code",
   "execution_count": null,
   "metadata": {},
   "outputs": [],
   "source": [
    "include(\"aux_functions.jl\")\n",
    "\n",
    "J = (200,100,300)\n",
    "Box = (0.0,1.0,0.0,2.0,1.0,4.0)\n",
    "\n",
    "ρ = Array{Float64,3}(undef,J)\n",
    "\n",
    "Box_array = [i for i in Box]\n",
    "κ = 2π./(Box_array[2:2:end] - Box_array[1:2:end-1])\n",
    "\n",
    "@show dx = (Box_array[2:2:end] - Box_array[1:2:end-1])./(J)\n",
    "\n",
    "x = [Box[1] + (i-1)*dx[1]*(Box[2]-Box[1]) for i in 1:J[1]]\n",
    "y = [Box[3] + (i-1)*dx[2]*(Box[4]-Box[3]) for i in 1:J[2]]\n",
    "z = [Box[5] + (i-1)*dx[3]*(Box[6]-Box[5]) for i in 1:J[3]]\n",
    "\n",
    "@show κ\n",
    "@show kv = [2,2,4].*κ\n",
    "\n",
    "@show kv'*kv\n",
    "\n",
    "#ρ = sin.(k[1]*x) * sin.(k[2]*y)'\n",
    "\n",
    "for i in 1:J[1]\n",
    "    for j in 1:J[2]\n",
    "        for k in 1:J[3]\n",
    "            ρ[i,j,k] = sin(kv[1]*(i-1)*dx[1])*sin(kv[2]*(j-1)*dx[2])*sin(kv[3]*(k-1)*dx[3])\n",
    "        end\n",
    "        #ρ[i,j] = sin(k[1]*(i-1)*dx[1])\n",
    "        #ρ[i,j] = sin(k[2]*(j-1)*dx[2])\n",
    "    end\n",
    "end\n",
    "\n",
    "ϕe = similar(ρ)\n",
    "\n",
    "for i in 1:J[1]\n",
    "    for j in 1:J[2]\n",
    "        for k in 1:J[3]\n",
    "            ϕe[i,j,k] = -(kv[1]^2 + kv[2]^2 + kv[3]^2)^(-1)*sin(kv[1]*(i-1)*dx[1])*sin(kv[2]*(j-1)*dx[2])*sin(kv[3]*(k-1)*dx[3])\n",
    "        end\n",
    "    end\n",
    "end\n",
    "\n",
    "\n",
    "\n",
    "#plot_matrix(ρ)\n",
    "\n",
    "surface(y,x,ρ[:,:,50])\n",
    "\n",
    "#plot(x,ρ[:,25,30])\n",
    "#length(x)"
   ]
  },
  {
   "cell_type": "code",
   "execution_count": null,
   "metadata": {},
   "outputs": [],
   "source": [
    "ϕ = similar(ρ);\n",
    "get_ϕ_D!(ϕ, ρ, Box);"
   ]
  },
  {
   "cell_type": "code",
   "execution_count": null,
   "metadata": {},
   "outputs": [],
   "source": [
    "norm(ϕ - ϕe)"
   ]
  },
  {
   "cell_type": "code",
   "execution_count": null,
   "metadata": {},
   "outputs": [],
   "source": [
    "surface(y,x,(ϕ-ϕe)[:,:,50])"
   ]
  },
  {
   "attachments": {},
   "cell_type": "markdown",
   "metadata": {},
   "source": [
    "## Checking getting E in one go"
   ]
  },
  {
   "attachments": {},
   "cell_type": "markdown",
   "metadata": {},
   "source": [
    "### 1D"
   ]
  },
  {
   "cell_type": "code",
   "execution_count": null,
   "metadata": {},
   "outputs": [],
   "source": [
    "include(\"aux_functions.jl\")\n",
    "J = 128\n",
    "L = 3.\n",
    "dx = L/J\n",
    "κ = 2π/L\n",
    "x = [dx*(i-1) for i in 1:J]\n",
    "ω = 5\n",
    "ρ = sin.(κ*ω*x) + 3. * cos.(κ*4*ω*x)\n",
    "Ee = (κ *ω )^(-2)*(κ*ω*cos.(κ*ω*x) - 3.0/4/4*κ*ω*4 * sin.(κ*4*ω*x))\n",
    "E = zeros(J)\n",
    "E = get_E!(E,ρ,(0.0,L))"
   ]
  },
  {
   "cell_type": "code",
   "execution_count": null,
   "metadata": {},
   "outputs": [],
   "source": [
    "#plot(E-Ee)\n",
    "plot(E)"
   ]
  },
  {
   "attachments": {},
   "cell_type": "markdown",
   "metadata": {},
   "source": [
    "### D = 2"
   ]
  },
  {
   "cell_type": "code",
   "execution_count": null,
   "metadata": {},
   "outputs": [],
   "source": [
    "include(\"aux_functions.jl\")\n",
    "\n",
    "J = (200,100)\n",
    "Box = (0.0,1.0,0.0,2.0)\n",
    "x = Box[1]:0.01:Box[2]\n",
    "y = Box[3]:0.01:Box[4]\n",
    "\n",
    "ρ = Array{Float64,2}(undef,J)\n",
    "\n",
    "Box_array = [i for i in Box]\n",
    "κ = 2π./(Box_array[2:2:end] - Box_array[1:2:end-1])\n",
    "\n",
    "dx = (Box_array[2:2:end] - Box_array[1:2:end-1])./(J)\n",
    "\n",
    "x = [Box[1] + (i-1)*dx[1]*(Box[2]-Box[1]) for i in 1:J[1]]\n",
    "y = [Box[3] + (i-1)*dx[2]*(Box[4]-Box[3]) for i in 1:J[2]]\n",
    "\n",
    "@show κ\n",
    "@show k = [2,2].*κ\n",
    "\n",
    "@show k'*k\n",
    "\n",
    "#ρ = sin.(k[1]*x) * sin.(k[2]*y)'\n",
    "\n",
    "for i in 1:J[1]\n",
    "    for j in 1:J[2]\n",
    "        ρ[i,j] = sin(k[1]*(i-1)*dx[1])*sin(k[2]*(j-1)*dx[2])\n",
    "        #ρ[i,j] = sin(k[1]*(i-1)*dx[1])\n",
    "        #ρ[i,j] = sin(k[2]*(j-1)*dx[2])\n",
    "    end\n",
    "end\n",
    "\n",
    "Ee = Array{Float64,3}(undef,(2,J...))\n",
    "\n",
    "for i in 1:J[1]\n",
    "    for j in 1:J[2]\n",
    "        Ee[1,i,j] = k[1]*(k[1]^2 + k[2]^2)^(-1)*cos(k[1]*(i-1)*dx[1])*sin(k[2]*(j-1)*dx[2])\n",
    "        Ee[2,i,j] = k[2]*(k[1]^2 + k[2]^2)^(-1)*sin(k[1]*(i-1)*dx[1])*cos(k[2]*(j-1)*dx[2])\n",
    "    end\n",
    "end\n",
    "\n",
    "E = Array{Float64,3}(undef,(2,J...))\n",
    "\n",
    "#plot_matrix(ρ)\n",
    "\n",
    "#surface(y[1:end],x[1:end],ρ)\n",
    "\n",
    "#plot(x,ρ[:,25])\n",
    "#length(x)"
   ]
  },
  {
   "cell_type": "code",
   "execution_count": null,
   "metadata": {},
   "outputs": [],
   "source": [
    "get_E!(E,ρ,Box)"
   ]
  },
  {
   "cell_type": "code",
   "execution_count": null,
   "metadata": {},
   "outputs": [],
   "source": [
    "norm(E-Ee)"
   ]
  },
  {
   "cell_type": "code",
   "execution_count": null,
   "metadata": {},
   "outputs": [],
   "source": [
    "surface(E[1,:,:])"
   ]
  },
  {
   "cell_type": "markdown",
   "metadata": {},
   "source": []
  }
 ],
 "metadata": {
  "kernelspec": {
   "display_name": "Julia 1.8.1",
   "language": "julia",
   "name": "julia-1.8"
  },
  "language_info": {
   "file_extension": ".jl",
   "mimetype": "application/julia",
   "name": "julia",
   "version": "1.8.1"
  },
  "orig_nbformat": 4
 },
 "nbformat": 4,
 "nbformat_minor": 2
}
