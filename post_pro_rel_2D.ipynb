{
 "cells": [
  {
   "attachments": {},
   "cell_type": "markdown",
   "metadata": {},
   "source": [
    "## Clean version of post_pro_landau_rel for D=2\n",
    "\n",
    "We use it and then move the results to Notes_log."
   ]
  },
  {
   "cell_type": "code",
   "execution_count": 1,
   "metadata": {},
   "outputs": [],
   "source": [
    "#using DifferentialEquations\n",
    "using Plots\n",
    "using Statistics\n",
    "using FFTW\n",
    "FFTW.set_provider!(\"mkl\")\n",
    "#import Pkg; Pkg.add(\"FileIO\")\n",
    "using FileIO\n",
    "using JLD2\n",
    "using Base.Threads\n",
    "using Distributions\n",
    "using LaTeXStrings\n",
    "using Printf\n",
    "using LsqFit"
   ]
  },
  {
   "cell_type": "code",
   "execution_count": 2,
   "metadata": {},
   "outputs": [
    {
     "data": {
      "text/plain": [
       "plot_matrix"
      ]
     },
     "metadata": {},
     "output_type": "display_data"
    }
   ],
   "source": [
    "include(\"aux_functions/aux_functions.jl\")"
   ]
  },
  {
   "cell_type": "code",
   "execution_count": 3,
   "metadata": {},
   "outputs": [
    {
     "data": {
      "text/plain": [
       "true"
      ]
     },
     "metadata": {},
     "output_type": "display_data"
    }
   ],
   "source": [
    "outputs = false # detailed output (no longer used)\n",
    "average_outputs =false\n",
    "full_outputs = true\n",
    "animation = false # to run animations\n",
    "phase_space_show = false #show phase space diagrams\n",
    "phase_space_show = true\n",
    "remote_server = false # if run in remote as a script avoid all plots \n",
    "save_plots = true # put true is you want so save your plots.\n",
    "plots = true"
   ]
  },
  {
   "cell_type": "markdown",
   "metadata": {},
   "source": [
    "We first introduce the name of the file with the data and retrieve the metadata."
   ]
  },
  {
   "cell_type": "code",
   "execution_count": 4,
   "metadata": {},
   "outputs": [
    {
     "data": {
      "text/plain": [
       "\"Results/par_dis_rel_weibel_Ax_25_alp8_N5_Th3_B0_0__full.jld2\""
      ]
     },
     "metadata": {},
     "output_type": "display_data"
    }
   ],
   "source": [
    "#file_name = \"Results/norel_norm_undamped_rel_t400_L4_N85_n2_J80_M16001_o5_Th3_alp2_ave.jld2\"\n",
    "#file_name = \"Results/norel_norm_undamped_rel_t400_L4_N86_n2_J80_M16001_o5_Th3_alp2_ave.jld2\"\n",
    "#file_name = \"Results/norel_norm_undamped_rel_t400_L39.738_N86_n2_J3522_M16001_o5_Th3_alp2_ave.jld2\"\n",
    "#file_name = \"Results/norel_norm_damped_rel_t40_L7.455_N85_n15_J930_M16001_o4_Th3_alp2_ave.jld2\"\n",
    "file_name = \"Results/par_dis_rel_weibel_Ax_25_alp8_N5_Th3_B0_0__full.jld2\""
   ]
  },
  {
   "cell_type": "code",
   "execution_count": 5,
   "metadata": {},
   "outputs": [
    {
     "name": "stdout",
     "output_type": "stream",
     "text": [
      "run_name = \"par_dis_rel_weibel_Ax_25_alp8_N5_Th3_B0_0_\"\n",
      "par_grid = "
     ]
    },
    {
     "name": "stdout",
     "output_type": "stream",
     "text": [
      "(100000, (50, 50), (0.0, 1.0, 0.0, 1.0), 5)\n"
     ]
    },
    {
     "name": "stdout",
     "output_type": "stream",
     "text": [
      "par_evolv = (0.0, 10.0, 1001, 11, 0.01)\n",
      "par_f = "
     ]
    },
    {
     "name": "stdout",
     "output_type": "stream",
     "text": [
      "(0.001, 0.025, 25)\n",
      "(N, J, Box_x, order) = par_grid = (100000, (50, 50), (0.0, 1.0, 0.0, 1.0), 5)\n",
      "(t_i, t_f, M, M_g, dt) = par_evolv = (0.0, 10.0, 1001, 11, 0.01)\n"
     ]
    },
    {
     "data": {
      "text/plain": [
       "4"
      ]
     },
     "metadata": {},
     "output_type": "display_data"
    }
   ],
   "source": [
    "data, run_name, par_grid, par_evolv, par_f, n0, xs, t_series = retrieve_meta_data_D(file_name)\n",
    "@show run_name\n",
    "@show par_grid\n",
    "@show par_evolv\n",
    "@show par_f\n",
    "@show (N, J, Box_x, order) = par_grid\n",
    "@show (t_i, t_f, M, M_g, dt) = par_evolv\n",
    "#@show (θ, nm, k) = par_f\n",
    "\n",
    "dT = dt*(M-1)/(M_g-1)\n",
    "\n",
    "\n",
    "#freqs_space = L*rfftfreq(J, 1/dx)\n",
    "\n",
    "M_last = 4 #M_g  # number of last data point saved. Otherwise use M_g\n",
    "#freqs_time = fftshift(rfftfreq(M_last, 1/dT))\n",
    "#freqs_time = rfftfreq(M_last, 1/dT)*2*π;"
   ]
  },
  {
   "cell_type": "code",
   "execution_count": 6,
   "metadata": {},
   "outputs": [],
   "source": [
    "if false\n",
    "f_test(t) = sin(2*π*5*t)\n",
    "F_test = rfft(f_test.(t_series))\n",
    "freqs_time_test = (rfftfreq(M_g, 1/dT));\n",
    "Plots.scatter(freqs_time_test, (abs.(F_test)))\n",
    "end"
   ]
  },
  {
   "attachments": {},
   "cell_type": "markdown",
   "metadata": {},
   "source": [
    "We can have data written out in full o in averaged format: In each case we use different functions. Data written in full has a `\"full.jld2\"` at the end, otherwise a `\"ave.jld2\"` is used.\n",
    "\n",
    "For the full case we use:\n",
    "\n",
    "```\n",
    "v = retrieve_data_D(data, par_grid, par_evolv);\n",
    "```\n",
    "```\n",
    "Energy_K, Energy_E, EField_T, p_T, Q_T, S_T, T = get_averages_threads_D(v,par_grid,par_evolv, par_f);\n",
    "```\n",
    "\n",
    "For the averaged case we use:\n",
    "\n",
    "```\n",
    "M_last = 1601 # number of iterations already completed. \n",
    "\n",
    "n_t, S_t, Efield_t, averages = retrieve_average_data_D(data, par_grid, par_evolv;M_last=M_last);\n",
    "\n",
    "Energy_E,  Energy_K, EField_T, p_T, Q_T, S_T, T = averages;\n",
    "```\n",
    "\n"
   ]
  },
  {
   "cell_type": "code",
   "execution_count": 7,
   "metadata": {},
   "outputs": [
    {
     "ename": "MethodError",
     "evalue": "MethodError: no method matching retrieve_data_D(::Dict{String, Any}, ::Tuple{Int64, Tuple{Int64, Int64}, NTuple{4, Float64}, Int64}, ::Tuple{Float64, Float64, Int64, Int64, Float64}; M_last=7)\nClosest candidates are:\n  retrieve_data_D(::Any, ::Any, ::Any) at ~/Julia/PIC/PIC-1D/aux_functions/aux_functions_IO.jl:288 got unsupported keyword argument \"M_last\"",
     "output_type": "error",
     "traceback": [
      "MethodError: no method matching retrieve_data_D(::Dict{String, Any}, ::Tuple{Int64, Tuple{Int64, Int64}, NTuple{4, Float64}, Int64}, ::Tuple{Float64, Float64, Int64, Int64, Float64}; M_last=7)\n",
      "Closest candidates are:\n",
      "  retrieve_data_D(::Any, ::Any, ::Any) at ~/Julia/PIC/PIC-1D/aux_functions/aux_functions_IO.jl:288 got unsupported keyword argument \"M_last\"\n",
      "\n",
      "Stacktrace:\n",
      " [1] top-level scope\n",
      "   @ ~/Julia/PIC/PIC-1D/post_pro_rel_2D.ipynb:8"
     ]
    }
   ],
   "source": [
    "M_last = 7\n",
    "if average_outputs\n",
    "n_t, S_t, Efield_t, averages = retrieve_average_data_D(data, par_grid, par_evolv;M_last=M_last);\n",
    "\n",
    "Energy_E,  Energy_K, EField_T, p_T, Q_T, S_T, T = averages;\n",
    "\n",
    "elseif full_outputs\n",
    "    v = retrieve_data_D(data, par_grid, par_evolv;M_last=M_last);\n",
    "end"
   ]
  },
  {
   "cell_type": "code",
   "execution_count": null,
   "metadata": {},
   "outputs": [],
   "source": [
    "\n",
    "plot_averages(averages, t_series[1:M_last], N, run_name, save_plots)"
   ]
  },
  {
   "cell_type": "code",
   "execution_count": null,
   "metadata": {},
   "outputs": [],
   "source": [
    "C_i = 0.060145630933730654 + 0.31190415932386045im\n",
    "\n",
    "Plots.scatter(t_series[1:M_last],E_mode[1:M_last], markersize=1)\n",
    "@. model_mode(x,p) = abs(real((p[1]+im*p[2])*exp(im*(p[3]+im*p[4])*x)))\n",
    "N_i = 10\n",
    "N_f = M_last\n",
    "pm = [real.(C_i); imag.(C_i);1.1; 0.10]\n",
    "#model_mode(2,pm)\n",
    "fit_E_mode = curve_fit(model_mode, t_series[N_i:N_f], E_mode[N_i:N_f], pm);\n",
    "plot!(t_series[N_i:N_f], model_mode(t_series[N_i:N_f],fit_E_mode.param))\n",
    "#fit_E_mode.param\n",
    "if save_plots\n",
    "    png(\"Images/\" * run_name * \"_single_mode_fit.png\")\n",
    "end"
   ]
  },
  {
   "cell_type": "code",
   "execution_count": null,
   "metadata": {},
   "outputs": [],
   "source": [
    "fit_E_mode.param"
   ]
  },
  {
   "cell_type": "markdown",
   "metadata": {},
   "source": [
    "#### Energy fit "
   ]
  },
  {
   "cell_type": "code",
   "execution_count": null,
   "metadata": {},
   "outputs": [],
   "source": [
    "plot_energies(Energy_K, Energy_E, t_series[1:M_last], run_name, save_plots)"
   ]
  },
  {
   "cell_type": "code",
   "execution_count": null,
   "metadata": {},
   "outputs": [],
   "source": [
    "@. model_e1(x,p) =  p[1] + p[2]*cos(p[3]*x + p[4])*exp(-p[5]*x) + p[6]*cos(p[7]*x + p[8])*exp(-p[9]*x)\n",
    "@. model_e2(x,p) = p[1] + p[2]*(cos(p[3]*x + p[4])^2 - p[6])*exp(-p[5]*x)\n",
    "@. model_e3(x,p) = p[1] + (p[2]*cos(p[3]*x + p[4])*exp(-p[5]*x) + p[6]*cos(p[7]*x + p[8])*exp(-p[9]*x))^2\n",
    "\n",
    "pe_1 = [0.00001; 0.0001; 2; 0; 0.002; 0.00001; 2; 0; 0.0]\n",
    "pe_2 = [0.0001; -0.0001; 1; 0; 0.000; 0.5]\n",
    "\n",
    "#pe = [0.001; 0.001; 2.03; 2; 0.002; 0.001; 3.0; 0.0; 0.0]\n",
    "#pe = [0.01; -0.01; 1; 0; 0.002; 0.0]\n",
    "pe_3 = [0.00001; 0.001; 1.0; 2; 0.000; 0.001; 1.002; 0.0; 0.000]\n",
    "#pe_3 = fit_e.param\n",
    "fit_e, plt = energy_fit(t_series, Energy_E, model_e2, pe_2, 10, M_last, run_name, save_plots, yscale=:identity)\n",
    "plt "
   ]
  },
  {
   "cell_type": "code",
   "execution_count": null,
   "metadata": {},
   "outputs": [],
   "source": [
    "fit_e.param"
   ]
  },
  {
   "cell_type": "markdown",
   "metadata": {},
   "source": [
    "#### Temperature Fit"
   ]
  },
  {
   "cell_type": "code",
   "execution_count": null,
   "metadata": {},
   "outputs": [],
   "source": [
    "N_i = 1\n",
    "N_f = M_last\n",
    "p_tl001 = [0.001; 0.001; 2.02; 0; 0.0; 0.; 2.0; 0; 0]\n",
    "fit_T_1, plt = temperature_fit(t_series, T, p_tl001, N_i, N_f, run_name, save_plots)\n",
    "plt"
   ]
  },
  {
   "cell_type": "code",
   "execution_count": null,
   "metadata": {},
   "outputs": [],
   "source": [
    "#model_tl001(x,p) = p[1] + p[2]*cos(p[3]*x + p[4])*exp(-p[5]*x) + p[6]*cos(p[7]*x + p[8])*exp(-p[9]*x)\n",
    "fit_T_1.param"
   ]
  },
  {
   "cell_type": "code",
   "execution_count": null,
   "metadata": {},
   "outputs": [],
   "source": [
    "ΔT = T .- sum(T)/length(T)\n",
    "T_F = rfft(ΔT)\n",
    "Plots.scatter(freqs_time,abs.((T_F)), title = \" Temperature Spectrum\", label=\"abs.(T_F)\",legend=:topleft\n",
    ", xticks=1.9:0.05:2.3, xlim=(1.9,2.3)\n",
    ")\n",
    "#=\n",
    "Plots.scatter(abs.((T_F)), title = \"Spectrum\", label=\"abs.(T_F)\",legend=:topleft\n",
    "    , xticks=100:1:200, xlim=(120,140)\n",
    "    )\n",
    "    =#\n",
    "\n",
    "    if save_plots\n",
    "        png(\"Images/\" * run_name * \"_temperature_spectrum.png\")\n",
    "    end"
   ]
  },
  {
   "cell_type": "code",
   "execution_count": null,
   "metadata": {},
   "outputs": [],
   "source": [
    "plot(ΔT)"
   ]
  },
  {
   "cell_type": "code",
   "execution_count": null,
   "metadata": {},
   "outputs": [],
   "source": [
    "N_i = 1\n",
    "N_f = M_last\n",
    "p_tl001 = [0.00; 0.001; 2.02; 0; 0.0; 0.; 2.0; 0; 0]\n",
    "fit_ΔT_1, plt = temperature_fit(t_series, T, p_tl001, N_i, N_f, run_name, save_plots)\n",
    "plt"
   ]
  },
  {
   "cell_type": "code",
   "execution_count": null,
   "metadata": {},
   "outputs": [],
   "source": [
    "fit_ΔT_1.param"
   ]
  },
  {
   "cell_type": "markdown",
   "metadata": {},
   "source": [
    "#### Density study"
   ]
  },
  {
   "cell_type": "code",
   "execution_count": null,
   "metadata": {},
   "outputs": [],
   "source": [
    "plot(n_t[:,M_last])"
   ]
  },
  {
   "cell_type": "code",
   "execution_count": null,
   "metadata": {},
   "outputs": [],
   "source": [
    "n_F = rfft(n_t[:,M_last].-1); # we take out the background\n",
    "#n_F = rfft(n_t[:,1].-1); # we take out the background"
   ]
  },
  {
   "cell_type": "code",
   "execution_count": null,
   "metadata": {},
   "outputs": [],
   "source": [
    "Plots.scatter(freqs_space,abs.((n_F)), title = \"Density Spectrum\", label=\"abs.(n_F)\",legend=:topleft\n",
    "    , xticks=0:0.2:6\n",
    "    , xlim=(0,6)\n",
    "    )\n",
    "    #recall that it is shifted one position to the right, so the frequency is 20."
   ]
  },
  {
   "cell_type": "code",
   "execution_count": null,
   "metadata": {},
   "outputs": [],
   "source": [
    "3/2*0.1^2"
   ]
  },
  {
   "cell_type": "code",
   "execution_count": null,
   "metadata": {},
   "outputs": [],
   "source": [
    "2.012904971545909/2"
   ]
  },
  {
   "cell_type": "code",
   "execution_count": null,
   "metadata": {},
   "outputs": [],
   "source": [
    "2.0033087748744984/2\n",
    "\n"
   ]
  },
  {
   "cell_type": "code",
   "execution_count": null,
   "metadata": {},
   "outputs": [],
   "source": []
  }
 ],
 "metadata": {
  "kernelspec": {
   "display_name": "Julia 1.8.1",
   "language": "julia",
   "name": "julia-1.8"
  },
  "language_info": {
   "file_extension": ".jl",
   "mimetype": "application/julia",
   "name": "julia",
   "version": "1.8.1"
  },
  "orig_nbformat": 4
 },
 "nbformat": 4,
 "nbformat_minor": 2
}
