{
 "cells": [
  {
   "cell_type": "markdown",
   "metadata": {},
   "source": [
    "## The theory for these notebooks/codes\n",
    "\n",
    "\n",
    "Here we compute a 1D version of PIC. We mostly follows the paper: *SHARP: A SPATIALLY HIGHER-ORDER, RELATIVISTIC PARTICLE-IN-CELL CODE*, arXiv:1702.04732v2\n",
    "\n",
    "**But we change several things:**\n",
    "\n",
    "1. The integration is done with RK4.\n",
    "2. The electric field is integrated along the simulation and the constraint is checked afterwards.\n",
    "   \n",
    "\n",
    "**Initial data sets** We tried several different initial data sets:\n",
    "\n",
    "1. Thermal distributions.\n",
    "2. Counter streaming distributions.\n",
    "3. Landau: it corresponds to particles in a thermal bath with a given temperature and a spatial distribution given by a cosine function over a background.\n",
    "\n",
    "The distribution is (relativistic version, we also had some non-relativistic code and the corresponding distributions.):\n",
    "\n",
    "$$\n",
    "f(x,v) = \\frac{N}{L} \\frac{1}{\\sqrt{2\\pi\\theta}} e^{\\frac{1 - \\sqrt{1 + p^2}}{\\theta}}(1 + \\alpha cos(kx))\n",
    "$$\n",
    "\n",
    "We shall use $\\theta = 0.001$, $\\alpha = 0.001$ (some with $\\alpha = 0.1$ for fun).\n",
    "\n",
    "The normalization factors are not important because we then normalize the momentums of the distribution.\n",
    "\n",
    "\n"
   ]
  },
  {
   "cell_type": "markdown",
   "metadata": {},
   "source": [
    "We have some extra quantities that are proper of the plasma:\n",
    "\n",
    "The plasma frequency and the Debye temperature:\n",
    "\n",
    "The plasma frequency is adjusted so that it is unit in with respect to the time units \n",
    "taken, space it taken so that the speed of light is one. Taking $\\epsilon_0 = 1$,\n",
    "$$\n",
    "\\omega_p^2 = \\frac{m_e}{e^2 N_e} = 1\n",
    "$$\n",
    "\n",
    "This implies (since we take $e=1$, $q=1$) that the background density is $N_e=1$.\n",
    "Thus, we need to rescale densities and currents dividing by $n_0 = N/L$\n",
    "\n",
    "Similarly we rescale the electric field with $\\sqrt{N_e m_e}$, and space so that $c=1$.\n",
    "\n",
    "In the paper they say the temperature is set to $\\theta_D = dx^2$. \n",
    "This I don't understand yet. I will call it $\\theta_h = dx^2$. \n",
    "Correspondingly there is a wavelength, $\\lambda_D= dx$, which I will call $\\lambda_h$.\n",
    "\n",
    "There is also another temperature which seems to be relevant, that is the Poisson temperature, which is relevant to see the degree of Poisson noice of the superparticles. \n",
    "This is given by,\n",
    "\n",
    "$$\n",
    "\\theta_P  \\approx \\theta_h \\frac{J^2}{12N} \\approx \\frac{L^2}{J^2}\\frac{J^2}{12N} = \\frac{L^2}{12N}\n",
    "$$\n",
    "\n",
    "Below this value, temperatures are not well defined.\n"
   ]
  },
  {
   "cell_type": "markdown",
   "metadata": {},
   "source": []
  },
  {
   "cell_type": "markdown",
   "metadata": {},
   "source": [
    "Some definitions $\\hat{k} = k / k_D := k * \\sqrt{\\theta}$ Or $k := \\hat{k} / \\sqrt{\\theta}$ \n",
    "\n",
    "In these simulations, $\\theta = 10^{-3}$, that is, $\\hat{k} =\\sqrt{\\theta} = 0.03162$\n",
    "\n",
    "Thus to $\\hat{k} = 0.01$ corresponds a $\\lambda = 2\\pi * \\sqrt{\\theta} / \\hat{k} = 19.869$\n",
    "\n",
    "For $\\hat{k} = 0.40$ corresponds a $\\lambda = 0.497$\n",
    "\n",
    "For the first case an $L = 2 \\lambda = 39.738$ is used and $J = 1761*2 = 3522$, $dx = L/J = 0.0112$\n",
    "\n",
    "For the second $L=15*\\lambda = 7.455$ is used and $J = 62 * 15 = 930$, $dx = 0.0080$"
   ]
  },
  {
   "cell_type": "markdown",
   "metadata": {},
   "source": []
  },
  {
   "cell_type": "markdown",
   "metadata": {},
   "source": [
    "### The equations:\n",
    "\n",
    "For the particles we have:\n",
    "\n",
    "\\begin{array}{cc}\n",
    "    \\frac{dp}{dt} &= e E(x) \\\\\n",
    "    \\frac{dx}{dt} &= v = \\frac{\\frac{p}{m}}{\\sqrt{1+\\frac{p}{m}^2}}\n",
    "\\end{array}\n"
   ]
  },
  {
   "cell_type": "markdown",
   "metadata": {},
   "source": [
    "For the electric field we have,\n",
    "\n",
    "$$\n",
    "\\frac{dE}{dt} = -eS\n",
    "$$\n",
    "\n",
    "Plus the constraint:\n",
    "\n",
    "$$\n",
    "\\partial_x E = n\n",
    "$$\n",
    "\n",
    "Where $(n,S)$ are the density and current (properly normalized).\n",
    "\n",
    "\n",
    "We recall that:\n",
    "\n",
    "$$\n",
    "n(x) = \\frac{1}{m_e}\\int_p f(x,p) dp \n",
    "$$\n",
    "\n",
    "and that,\n",
    "\n",
    "$$\n",
    "S(x) = \\frac{1}{m_e}\\int_p f(x,p) v(p) dp \n",
    "$$\n"
   ]
  },
  {
   "cell_type": "markdown",
   "metadata": {},
   "source": [
    "### Landau frequencies\n",
    "\n",
    "For small $\\hat{k}$ we can use the approximations: \n",
    "\n",
    "$$\n",
    "\\omega_r = 1 + 3/2 \\hat{k}^2, \\;\\;\\;\\;\\;\\;\\;\\; \\omega_i = -\\sqrt{\\frac{\\pi}{8}} \\frac{1}{\\hat{k}^3} e^{-\\frac{1}{\\hat{k}^2} - \\frac{3}{2}} \n",
    "$$\n",
    "\n",
    "for $\\hat{k}=0.01$ we get,\n",
    "\n",
    "$$\n",
    "\\omega = 1.00015 + i*0.0\n",
    "$$\n",
    "\n",
    "for $\\hat{k} = 0.4$ we get, (this is from the paper for this value of $\\hat{k}$ is too big for the approximation to be valid).\n",
    "\n",
    "$$\n",
    "\\omega = 1.28506 - i*0.06613\n",
    "$$"
   ]
  },
  {
   "cell_type": "code",
   "execution_count": 3,
   "metadata": {},
   "outputs": [
    {
     "name": "stdout",
     "output_type": "stream",
     "text": [
      "approx_omega(0.01) = 1.00015 - 0.0im\n",
      "approx_omega(0.4) = 1.24 - 0.09599265198249836im\n"
     ]
    }
   ],
   "source": [
    "function approx_omega(k)\n",
    "    return 1 + 3*k^2/2 - im*(sqrt(π/8)/k^3*exp(-1/2/k^2 - 3/2))\n",
    "end\n",
    "\n",
    "@show approx_omega(0.01)\n",
    "@show approx_omega(0.4); # this value is not correct because the approximation does not hold."
   ]
  },
  {
   "cell_type": "markdown",
   "metadata": {},
   "source": [
    "### Numerical scheme:\n",
    "\n",
    "In the numerical approximation for the evolution we compute the electric field at fixed grid points, $\\{x_j = dx*(j-1)\\}, j=1\\ldots J$ $dx = L/J$ and then interpolate to the particle point to get the force. For this we use the scheme, using the weight functions from the paper above and their averaged method. For computing the time derivative of the electric field, we compute the current using the shape/weight functions. \n",
    "\n",
    "The initial data for the particles is choosen random acording to the distribution functions considered. The initial electric field is computed solving the constraints, having previously calculated the initial density.\n"
   ]
  },
  {
   "cell_type": "markdown",
   "metadata": {},
   "source": []
  }
 ],
 "metadata": {
  "kernelspec": {
   "display_name": "Julia 1.7.2",
   "language": "julia",
   "name": "julia-1.7"
  },
  "language_info": {
   "file_extension": ".jl",
   "mimetype": "application/julia",
   "name": "julia",
   "version": "1.7.2"
  },
  "orig_nbformat": 4
 },
 "nbformat": 4,
 "nbformat_minor": 2
}
