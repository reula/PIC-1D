{
 "cells": [
  {
   "cell_type": "code",
   "execution_count": null,
   "id": "946f768f-d445-4301-908b-5cb5f476f9e7",
   "metadata": {},
   "outputs": [],
   "source": [
    "#using DifferentialEquations\n",
    "using Plots\n",
    "using Statistics\n",
    "using FFTW\n",
    "FFTW.set_provider!(\"mkl\")\n",
    "#import Pkg; Pkg.add(\"FileIO\")\n",
    "using FileIO\n",
    "using JLD2\n",
    "using Base.Threads\n",
    "using Distributions\n",
    "using LaTeXStrings\n",
    "using Printf\n",
    "using LsqFit"
   ]
  },
  {
   "cell_type": "code",
   "execution_count": null,
   "id": "f3f16615-9947-49bf-a727-b011c87779d1",
   "metadata": {},
   "outputs": [],
   "source": [
    "include(\"aux_functions.jl\")"
   ]
  },
  {
   "cell_type": "markdown",
   "id": "7243562b",
   "metadata": {},
   "source": [
    "#### Primero hacemos el caso undamped\n",
    "\n",
    "## A esto hay que cambiarlo todo!"
   ]
  },
  {
   "cell_type": "code",
   "execution_count": null,
   "id": "3395ef72",
   "metadata": {},
   "outputs": [],
   "source": [
    "run_name = \"landau_big_8_5t100_L39.738_N8_5_J3522_M1001_o5_T3\"\n",
    "#run_name = \"landau_big_8_5t100_L39.738_N2_5_J3522_M1001_o5_T3\"\n",
    "(p, Energy_E, Energy_K, E_f, n_F, S_F, E_T, v_T, S_T, D_T, T) = load(\"Results/\" * run_name * \"results.jld2\", \"p\", \"Energy_E\", \"Energy_K\", \"E_f\", \"n_F\",  \"S_F\", \"E_T\", \"v_T\", \"S_T\", \"D_T\", \"T\");\n",
    "\n",
    "p\n",
    "length(S_T)"
   ]
  },
  {
   "cell_type": "code",
   "execution_count": null,
   "id": "a09ba7fc-6379-4b03-94bb-bfeeb2ba9ef6",
   "metadata": {},
   "outputs": [],
   "source": [
    "@show (L, N, J, κ, dx, order) = p\n",
    "\n",
    "exp_Theta = 3 #this can be read from run_name\n",
    "exp_t = 2 #this can be read from run_name\n",
    "θ = 10.0^(-exp_Theta)\n",
    "t = 0.0\n",
    "t_f = 10.0^(exp_t)\n",
    "M = 1001 #this can be read from run_name\n",
    "M_g = 1000 + 1 #number of outputs, starting from the initial data\n",
    "dt = t_f / (M-1)\n",
    "t_i = 0.0\n",
    "\n",
    "x = [dx*(i-1) for i in 1:J] ;\n",
    "\n",
    "println(\"t_f = $(t_f), M = $M, dt = $(dt), exp_Theta = $(exp_Theta)\")\n",
    "\n",
    "animation = false\n"
   ]
  },
  {
   "cell_type": "code",
   "execution_count": null,
   "id": "ea323aec-cd50-4658-9cbf-6fddba8b5e42",
   "metadata": {},
   "outputs": [],
   "source": [
    "#save(run_name * \"results.jld2\", Dict(\"p\" => p, \"Energy_E\" => Energy_E, \"Energy_K\" => Energy_K, \"E_f\" => u[2N+1:end], \"n_F\" => n_F, \"S_F\" => S_F, \"E_T\"=> E_T, \"v_T\" => v_T, \"S_T\" => S_T, \"D_T\" => D_T, \"T\" => T))"
   ]
  },
  {
   "cell_type": "code",
   "execution_count": null,
   "id": "7fae33fb-1d91-43a1-946c-628c5dbcccca",
   "metadata": {},
   "outputs": [],
   "source": [
    "plot(abs.(Energy_K[2:end] .- Energy_K[1]), title = \"Energy conservation (order = $(order))\", label = \"Kinetic Energy\"\n",
    "#, legend = :outertopright\n",
    ", legend = :bottomright)\n",
    "plot!(abs.(Energy_E[2:end] .- Energy_E[1]), label = \"|Electric Energy|\")\n",
    "plot!(abs.(Energy_K[2:end]  + Energy_E[2:end] .- (Energy_K[1]+Energy_E[1])) ./ (Energy_K[1]+Energy_E[1]) \n",
    ", yscale=:log10\n",
    "#, xscale=:log10\n",
    ", label = \"Total Energy / Initial Energy -1 \")\n",
    "#png(run_name * \"energy_conservation\")"
   ]
  },
  {
   "cell_type": "code",
   "execution_count": null,
   "id": "1a8c33e7-2a3c-461a-9a7e-3b8001d0ead6",
   "metadata": {},
   "outputs": [],
   "source": [
    "abs.(Energy_K[end]  + Energy_E[end] .- (Energy_K[1]+Energy_E[1])) ./ (Energy_K[1]+Energy_E[1])"
   ]
  },
  {
   "cell_type": "code",
   "execution_count": null,
   "id": "914c1571-42df-4613-929e-a20da7a18df6",
   "metadata": {},
   "outputs": [],
   "source": [
    "plot(T, label= \"θ\", title = \"Temperature = var\", legend = false)\n",
    "\n",
    "#png(run_name * \"temperature\")"
   ]
  },
  {
   "cell_type": "code",
   "execution_count": null,
   "id": "f855d575-7627-4a84-9dc4-364b8702e154",
   "metadata": {},
   "outputs": [],
   "source": [
    "T[end]\n",
    "#length(T)"
   ]
  },
  {
   "cell_type": "code",
   "execution_count": null,
   "id": "994b3261",
   "metadata": {},
   "outputs": [],
   "source": [
    "t_series = [dt*(i-1)*(M-1)/(M_g-1) for i in 1:M_g];"
   ]
  },
  {
   "cell_type": "markdown",
   "id": "fee8c1a4",
   "metadata": {},
   "source": [
    "Since we are fitting the temperature and that is like the velocity square we need to approximate it with the square of a wave."
   ]
  },
  {
   "cell_type": "code",
   "execution_count": null,
   "id": "934e1b83",
   "metadata": {},
   "outputs": [],
   "source": [
    "p0 = [0.1, 60., 1.0, 0.0] #, 0.0, 0.0]\n",
    "@. model(x, p) = p[1] + p[2]*cos(x*p[3] + p[4])^2 #*cos(x*p[5] + p[6])"
   ]
  },
  {
   "cell_type": "code",
   "execution_count": null,
   "id": "a21b17f3",
   "metadata": {},
   "outputs": [],
   "source": [
    "fit = curve_fit(model, t_series, Energy_E, p0);\n",
    "fit.param"
   ]
  },
  {
   "cell_type": "markdown",
   "id": "b49fc86a",
   "metadata": {},
   "source": [
    "For these parámeters the fit is:\n",
    "\n",
    "`[1.0009490930490625\n",
    " 67.82701283760936\n",
    "  1.0002810154957107\n",
    "  0.00019119530305159043]`\n"
   ]
  },
  {
   "cell_type": "code",
   "execution_count": null,
   "id": "39957bab",
   "metadata": {},
   "outputs": [],
   "source": [
    "cov = estimate_covar(fit)\n",
    "\n",
    "#sqrt(Diagonal(cov))\n",
    "\n",
    "#margin_of_error = margin_error(fit, 0.1)\n",
    "\n",
    "\n",
    "#confidence_intervals = confidence_interval(fit, 0.1)"
   ]
  },
  {
   "cell_type": "markdown",
   "id": "119a3574",
   "metadata": {},
   "source": [
    "The cov matrix is:\n",
    " \n",
    " `2.20767e-15  -2.94447e-15   7.41979e-17  -1.00864e-14\n",
    " -2.94447e-15   5.90124e-15   4.20125e-17  -1.29548e-14\n",
    "  7.41979e-17   4.20125e-17   8.49937e-13  -8.49403e-11\n",
    " -1.00864e-14  -1.29548e-14  -8.49403e-11   1.13183e-8`"
   ]
  },
  {
   "cell_type": "code",
   "execution_count": null,
   "id": "dbe1ca79",
   "metadata": {},
   "outputs": [],
   "source": [
    "#plot(t_series, T, label= \"θ\", title = \"Temperature = var\", legend = false)\n",
    "plot(t_series, Energy_E, label= \"θ\", title = \"Electric Energy\", legend = false)\n",
    "#scatter!(t_series, model(t_series, fit.param), markersize = 1)\n",
    "plot!(t_series, model(t_series, fit.param),ls=:dash)"
   ]
  },
  {
   "cell_type": "code",
   "execution_count": null,
   "id": "adeacefd-e660-41b2-abbb-fba27c38d465",
   "metadata": {},
   "outputs": [],
   "source": [
    "E_F = zeros(J)\n",
    "ϕ_F = zeros(J)\n",
    "#n_F = zeros(J)\n",
    "#get_density!(u, n_F, p)\n",
    "n0 = N/L\n",
    "get_ϕ!(ϕ_F, n_F/n0 .+ 1, κ)\n",
    "#get_ϕ!(ϕ_F, n_F .- n0, κ)\n",
    "get_E_from_ϕ!(ϕ_F,E_F,dx)\n",
    "plot(x,E_f, label = \"dynamical\", title=\"Electric Field with order = $(order)\")\n",
    "plot!(x,E_F,label=\"from constraint\", ls=:dash)\n",
    "#t_f = 40\n",
    "#png(run_name * \"E\")"
   ]
  },
  {
   "cell_type": "code",
   "execution_count": null,
   "id": "1ee09cc3-d4fc-48dc-8655-399447cb7f19",
   "metadata": {},
   "outputs": [],
   "source": [
    "plot(layout=(2,2), title=\"order = $(order)\")\n",
    "plot!(subplot=1,E_T,title=\"Total Electric Field (order = $(order))\")\n",
    "plot!(subplot=2,v_T./N, title=\"Total velocity (order = $(order))\")\n",
    "plot!(subplot=3,D_T,title = \"Total density (order = $(order))\")\n",
    "plot!(subplot=4,S_T,title = \"Total Current (order = $(order))\")\n",
    "#png(run_name * \"totals\")"
   ]
  },
  {
   "cell_type": "markdown",
   "id": "da2d4b8a",
   "metadata": {},
   "source": [
    "### Ahora chequeamos con damping ###"
   ]
  },
  {
   "cell_type": "code",
   "execution_count": null,
   "id": "0302177f",
   "metadata": {},
   "outputs": [],
   "source": [
    "\n",
    "file_name = \"Results/landau_damped_rel_t40_L7.455_N8_4_J930_M1601_o5_T3.jld2\"\n",
    "\n",
    "\n",
    "\n",
    "data = load(file_name);\n",
    "run_name = data[\"run_name\"]\n",
    "par_grid = data[\"par_grid\"]\n",
    "par_evolv = data[\"par_evolv\"]\n",
    "par_f = data[\"p_Ini\"]\n",
    "@show (N, L, J, dx, order) = par_grid\n",
    "@show (t_i, t_f, M, M_g, dt) = par_evolv\n",
    "@show (θ, nm, κ) = par_f\n",
    "\n",
    "n0 = N/L\n",
    "\n",
    "x = [(i-1)*dx for i in 1:J]\n",
    "\n",
    "dT = dt * (M-1) / (M_g-1)\n",
    "\n",
    "t_series = [(i-1)*dT for i in 1:M_g]\n",
    "\n",
    "#M_g = 501 \n",
    "\n"
   ]
  },
  {
   "cell_type": "code",
   "execution_count": null,
   "id": "e2ec12e9",
   "metadata": {},
   "outputs": [],
   "source": [
    "\n",
    "\n",
    "\n",
    "v = zeros(2N+J,M_g)\n",
    "\n",
    "for j in 1:M_g\n",
    "    tiempo = @sprintf(\"%05d\", j)\n",
    "    v[:,j] = data[\"u/u_$tiempo\"]\n",
    "end\n",
    "\n",
    "#run = Dict(\"p\"=>p, \"Energy_E\"=>Energy_E, \"Energy_K\"=>Energy_K, \"E_f\"=>E_f, \"n_F\"=>n_F,  \"S_F\"=>S_F, \"E_T\"=>E_T, \"v_T\"=>v_T, \"S_T\"=>S_T, \"D_T\"=>D_T, \"T\"=>T)\n",
    "\n",
    "#(p, Energy_E, Energy_K, E_f, n_F, S_F, E_T, v_T, S_T, D_T, T)\n",
    "#p, Energy_E, Energy_K, E_f, n_F, S_F, E_T, v_T, S_T, D_T, T) = load(\"Results/landau_damped_t200_L7.455_N8_4_J930_M2001_o5_T3th20_results.jld2\", \"p\", \"Energy_E\", \"Energy_K\", \"E_f\", \"n_F\",  \"S_F\", \"E_T\", \"v_T\", \"S_T\", \"D_T\", \"T\");\n",
    "\n",
    "#(p, Energy_E, Energy_K, E_f, n_F, S_F, E_T, v_T, S_T, D_T, T) = load(\"Results/landau_dumped_t100_L7.455_N2_5_J930_M1001_o5_T3th1_results.jld2\", \"p\", \"Energy_E\", \"Energy_K\", \"E_f\", \"n_F\",  \"S_F\", \"E_T\", \"v_T\", \"S_T\", \"D_T\", \"T\");\n",
    "#data_d  = load(\"Results/landau_damped_t400_L7.455_N8_4_J930_M16001_o5_T3th4_results.jld2\", \"p\", \"Energy_E\", \"Energy_K\", \"E_f\", \"n_F\",  \"S_F\", \"E_T\", \"v_T\", \"S_T\", \"D_T\", \"T\");\n"
   ]
  },
  {
   "cell_type": "code",
   "execution_count": null,
   "id": "6680be60",
   "metadata": {},
   "outputs": [],
   "source": [
    "#(L, N, J, κ, dx, order) = data_d[\"p\"]\n",
    "\n",
    "exp_Theta = 3 #this can be read from run_name\n",
    "exp_t = 2 #this can be read from run_name\n",
    "θ = 10.0^(-exp_Theta)\n",
    "t = 0.0\n",
    "e = 1\n",
    "m = 1\n",
    "\n",
    "animation = false\n",
    "plots = true\n"
   ]
  },
  {
   "cell_type": "code",
   "execution_count": null,
   "id": "ea717a13",
   "metadata": {},
   "outputs": [],
   "source": [
    "v[2N+1:end,1]\n",
    "x"
   ]
  },
  {
   "cell_type": "code",
   "execution_count": null,
   "id": "b04e953b",
   "metadata": {},
   "outputs": [],
   "source": [
    "if plots \n",
    "    ofset = 0.001\n",
    "    plt = plot(label=\"Electric Field\", legend=false)\n",
    "    for j in 1:5:M_g\n",
    "        plt = plot!(x,1e0*v[2N+1:end,j].+ofset*j)\n",
    "    end\n",
    "    plt\n",
    "    #png(\"electric_field_\" * run_name)\n",
    "end"
   ]
  },
  {
   "cell_type": "code",
   "execution_count": null,
   "id": "ce347a36",
   "metadata": {},
   "outputs": [],
   "source": [
    "ρ_f = zeros(J)\n",
    "E_f = zeros(J)\n",
    "E_i = v[2N+1:end,1]\n",
    "ϕ_f = zeros(J)\n",
    "S_f = zeros(J)\n",
    "\n",
    "j = M_g\n",
    "\n",
    "p = (L, N, J, κ, dx, order)\n",
    "get_density!(v[:,j], ρ_f, p)\n",
    "get_ϕ!(ϕ_f, ρ_f/n0 .+ 1, κ)\n",
    "get_E_from_ϕ!(ϕ_f,E_f,dx)\n",
    "\n",
    "if plots\n",
    "    plot(x,E_f,label=\"from final density\", ls=:dash, lw=2)\n",
    "    plot!(x,E_i,label=\"E_initial\")\n",
    "    plot!(x,v[2N+1:end,j], label=\"E_final\"\n",
    "    )\n",
    "\n",
    "    png(\"Efield_th$(nthreads())_\" * run_name)\n",
    "end\n"
   ]
  },
  {
   "cell_type": "code",
   "execution_count": null,
   "id": "33c9d632",
   "metadata": {},
   "outputs": [],
   "source": [
    "Energy_K = zeros(M_g)\n",
    "Energy_E = zeros(M_g)\n",
    "EField_T = zeros(M_g)\n",
    "p_T = zeros(M_g)\n",
    "Q_T = zeros(M_g)\n",
    "S_T = zeros(M_g)\n",
    "E_E = 0.0\n",
    "E_K = zeros(J)\n",
    "P = zeros(J)\n",
    "ρ = zeros(J)\n",
    "S = zeros(J)\n",
    "\n",
    "for j in 1:M_g\n",
    "    (Energy_K[j],Energy_E[j]) = get_energy_rel(v[:,j],(L,N,J))\n",
    "    EField_T[j] = sum(v[2N+1:end,j])*dx\n",
    "    #p_T[j] = sum(get_momentum!(v[:,j],P,(Nx, dx, Np, dp)))*dx\n",
    "    get_density!(v[:,j], ρ, p)\n",
    "    get_current_rel!(v[:,j], S, p)\n",
    "    Q_T[j] = get_total_charge(ρ,(J, dx))\n",
    "    S_T[j] = sum(S)/N/Q_T[j]\n",
    "end"
   ]
  },
  {
   "cell_type": "code",
   "execution_count": null,
   "id": "d078460a",
   "metadata": {},
   "outputs": [],
   "source": [
    "if plots \n",
    "    factor = 200\n",
    "    plot(layout=(2,2), size=(800,600))\n",
    "    plot!(subplot=1, (Energy_K[1:end] .- Energy_K[1]), label=\"Energy_K\")\n",
    "    plot!(subplot=1, (Energy_E[1:end] .- Energy_E[1]), label=\"Energy_E\")\n",
    "    #plot!(subplot=1, Energy_K, label=\"Energy_K\")\n",
    "    #plot!(subplot=1, Energy_E[1:400], label=\"Energy_E\")\n",
    "    plot!(subplot=2, (Energy_K + Energy_E) ./ (Energy_K[1] + Energy_E[1]) .- 1, label=\"Total Energy\")\n",
    "    plot!(subplot=3, Q_T/N .- 1, label=\"charge\")\n",
    "    plot!(subplot=4, S_T, label=\"Total Current\")\n",
    "\n",
    "    #png(\"total_conf_\" * run_name)\n",
    "end"
   ]
  },
  {
   "cell_type": "code",
   "execution_count": null,
   "id": "830e4ce2",
   "metadata": {},
   "outputs": [],
   "source": [
    "\n",
    "\n",
    "plot(abs.(Energy_K[2:end] .- Energy_K[1]), title = \"Energy conservation (order = $(order))\", label = \"Kinetic Energy\"\n",
    "#, legend = :outertopright\n",
    ", legend = :bottomright, ls=:dash)\n",
    "plot!(abs.(Energy_E[2:end] .- Energy_E[1]), label = \"|Electric Energy|\", ls=:dot)\n",
    "plot!(abs.(Energy_K[2:end]  + Energy_E[2:end] .- (Energy_K[1]+Energy_E[1])) ./ (Energy_K[1] + Energy_E[1])\n",
    ", yscale=:log10\n",
    "#, xscale=:log10\n",
    ", label = \"Total Energy / Initial Energy -1 \")\n",
    "#png(run_name * \"energy_conservation\")"
   ]
  },
  {
   "cell_type": "code",
   "execution_count": null,
   "id": "2c713b4e",
   "metadata": {},
   "outputs": [],
   "source": [
    "T = [var(v[N+1:2N,j]) for j in 1:M_g]\n",
    "\n",
    "plot(t_series,T, label= \"θ\", title = \"Temperature = var\", legend = false)"
   ]
  },
  {
   "cell_type": "code",
   "execution_count": null,
   "id": "ece19691",
   "metadata": {},
   "outputs": [],
   "source": [
    "p0 = [0.001, 0.005, 1.0, -π/2, 0.000, 0.0, 0.0]\n",
    "@. model_0(x, p) = p[1] + (p[2]*cos(x*p[3] + p[4]))^2 #*cos(x*p[5] + p[6])\n",
    "@. model_1(x, p) = p[1] + (p[2]*cos(x*p[3] + p[4]) + p[5]*cos(x*p[6] + p[7]))^2 #*cos(x*p[5] + p[6])"
   ]
  },
  {
   "cell_type": "code",
   "execution_count": null,
   "id": "9e733ed3",
   "metadata": {},
   "outputs": [],
   "source": [
    "fit_0 = curve_fit(model_0, t_series, T, p0);\n",
    "fit_0.param"
   ]
  },
  {
   "cell_type": "code",
   "execution_count": null,
   "id": "1dee4a66",
   "metadata": {},
   "outputs": [],
   "source": [
    "fit_1 = curve_fit(model_1, t_series, T, p0);\n",
    "fit_1.param"
   ]
  },
  {
   "cell_type": "code",
   "execution_count": null,
   "id": "24fe9e51",
   "metadata": {},
   "outputs": [],
   "source": [
    "Plots.scatter(t_series, T, label= \"θ\", title = \"Temperature = var\", legend = false)\n",
    "plot!(t_series, model_0(t_series, fit_0.param), markersize = 1)\n",
    "plot!(t_series, model_0(t_series, fit_0.param), markersize = 1)"
   ]
  },
  {
   "cell_type": "code",
   "execution_count": null,
   "id": "342a8ffe",
   "metadata": {},
   "outputs": [],
   "source": [
    "cov = estimate_covar(fit)"
   ]
  },
  {
   "cell_type": "code",
   "execution_count": null,
   "id": "6aa752c2",
   "metadata": {},
   "outputs": [],
   "source": [
    "#plot(t_series, (T .- fit.param[1]).*exp.(-fit.param[5] .* t_series))\n",
    "plot(t_series, Ttf.*exp.(0.0020769924816417553.* t_series))"
   ]
  },
  {
   "cell_type": "code",
   "execution_count": null,
   "id": "e3b0c807",
   "metadata": {},
   "outputs": [],
   "source": [
    "Tft = T .- sum(T)/length(T)\n",
    "#Th = rfft(Ttf.*exp.(0.0020769924816417553.* t_series))\n",
    "Th = rfft(Ttf)\n",
    "Plots.scatter(real.(Th)\n",
    "    ,xlim=(0,80)\n",
    "    #,ylim=(-0.01,0.01)\n",
    "    ,label=false\n",
    "    )"
   ]
  },
  {
   "cell_type": "code",
   "execution_count": null,
   "id": "fc2d8d76",
   "metadata": {},
   "outputs": [],
   "source": [
    "Plots.scatter(imag.(Th)\n",
    "    ,xlim=(0,80)\n",
    "    )"
   ]
  },
  {
   "cell_type": "markdown",
   "id": "49194da8",
   "metadata": {},
   "source": [
    "#### The Electric Energy"
   ]
  },
  {
   "cell_type": "code",
   "execution_count": null,
   "id": "64bcb8c3",
   "metadata": {},
   "outputs": [],
   "source": [
    "a = 1.5; b = 1.00184\n",
    "Plots.scatter(t_series,data_d[\"Energy_E\"], markersize=0.1, legend=false)\n",
    "plot!(t_series,a * cos.(b*t_series).^2, ls=:dash\n",
    ", markersize = 0.2\n",
    ", xlims=(200,400)\n",
    ")"
   ]
  },
  {
   "cell_type": "markdown",
   "id": "6d3b3f6e",
   "metadata": {},
   "source": [
    "La frecuencia parece estar en $\\omega = 1.00184$"
   ]
  },
  {
   "cell_type": "code",
   "execution_count": null,
   "id": "b54cddd2",
   "metadata": {},
   "outputs": [],
   "source": [
    "E_F = zeros(J)\n",
    "ϕ_F = zeros(J)\n",
    "#n_F = zeros(J)\n",
    "#get_density!(u, n_F, p)\n",
    "n0 = N/L\n",
    "get_ϕ!(ϕ_F, data_d[\"n_F\"]/n0 .+ 1, κ)\n",
    "#get_ϕ!(ϕ_F, n_F .- n0, κ)\n",
    "get_E_from_ϕ!(ϕ_F,E_F,dx)\n",
    "plot(x,data_d[\"E_f\"], label = \"dynamical\", title=\"Electric Field with order = $(order)\")\n",
    "plot!(x,E_F,label=\"from constraint\", ls=:dash)\n",
    "#t_f = 40\n",
    "#png(run_name * \"E\")"
   ]
  },
  {
   "cell_type": "code",
   "execution_count": null,
   "id": "2c5bcffc",
   "metadata": {},
   "outputs": [],
   "source": [
    "plot(layout=(2,2), title=\"order = $(order)\")\n",
    "plot!(subplot=1,t_series,data_d[\"E_T\"],title=\"Total Electric Field (order = $(order))\")\n",
    "plot!(subplot=2,t_series,data_d[\"v_T\"]./N, title=\"Total velocity (order = $(order))\")\n",
    "plot!(subplot=3,t_series,data_d[\"D_T\"],title = \"Total density (order = $(order))\")\n",
    "plot!(subplot=4,t_series,data_d[\"S_T\"],title = \"Total Current (order = $(order))\")\n",
    "#png(run_name * \"totals\")\n"
   ]
  },
  {
   "cell_type": "code",
   "execution_count": null,
   "id": "c5afc56c",
   "metadata": {},
   "outputs": [],
   "source": [
    "plot(data_d[\"S_F\"])"
   ]
  },
  {
   "cell_type": "code",
   "execution_count": null,
   "id": "d7f3751c",
   "metadata": {},
   "outputs": [],
   "source": []
  }
 ],
 "metadata": {
  "kernelspec": {
   "display_name": "Julia 1.7.2",
   "language": "julia",
   "name": "julia-1.7"
  },
  "language_info": {
   "file_extension": ".jl",
   "mimetype": "application/julia",
   "name": "julia",
   "version": "1.7.2"
  }
 },
 "nbformat": 4,
 "nbformat_minor": 5
}
