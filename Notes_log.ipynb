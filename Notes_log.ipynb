{
 "cells": [
  {
   "cell_type": "markdown",
   "metadata": {},
   "source": [
    "## Notes on different runs (so that we can erase them after getting the data)"
   ]
  },
  {
   "cell_type": "markdown",
   "metadata": {},
   "source": [
    "### Run: (processed in post_pro_landau_rel)\n",
    "\n",
    "landau_damped_rel_t400_L7.455_N8_5_J930_M16001_o5_T3\n",
    "\n",
    "(N, L, J, dx, order) = par_grid = (800000, 7.455, 930, 0.008016129032258065, 5)\n",
    "\n",
    "(t_i, t_f, M, M_g, dt) = par_evolv = (0.0, 400.0, 16001, 1601, 0.025)\n",
    "\n",
    "(θ, nm, κ) = par_f = (0.001, 15, 0.8428149305405213)\n",
    "\n",
    "![The total run plots are:](Images/landau_damped_rel_t400_L7.455_N8_4_J930_M16001_o5_T3_total_run.png)"
   ]
  },
  {
   "cell_type": "markdown",
   "metadata": {},
   "source": [
    "\n",
    "\n",
    "The electric field is preserving the constraint very well:\n",
    "![electric field constraint preservation](Images/Efield_th1_landau_damped_rel_t400_L7.455_N8_4_J930_M16001_o5_T3.png)"
   ]
  },
  {
   "cell_type": "markdown",
   "metadata": {},
   "source": [
    "### Temperature decay and oscillation: \n",
    "\n",
    "If we approximate like `p[1] + (p[2]*cos(x*p[3] + p[4]))^2`\n",
    "we get the values (with no decay): \n",
    "\n",
    "p = [0.0010013354356785864; 0.0013022885624546037; 1.002764628087659; -1.5324483387857684]\n",
    "\n",
    "fitting with ` p[1] + (p[2]*cos(x*p[3] + p[4]) + p[5]*cos(x*p[6] + p[7]))*exp(-p[8]*x)`\n",
    "we get, \n",
    "\n",
    "p = [0.0010021838741618213; 1.2444250813938006e-6; 2.0055161553588188; -3.0625410242253617; -1.2886397169576128e-9; -6.689277532196627; 0.7713562064904245; 0.00205542799597902]\n",
    "\n",
    "The plots are: ![Temperature](Images/landau_damped_rel_t400_L7.455_N8_4_J930_M16001_o5_T3temperature.png)\n",
    "![Fit](Images/landau_damped_rel_t400_L7.455_N8_4_J930_M16001_o5_T3temperature_fit.png)\n",
    "\n",
    "The frequency is very well resolved as can be seen in keeping the phase until the end.\n",
    "![close_up](Images/landau_damped_rel_t400_L7.455_N8_4_J930_M16001_o5_T3temperature_fit_closeup.png)"
   ]
  },
  {
   "cell_type": "markdown",
   "metadata": {},
   "source": [
    "### Energy conservation and oscillation:\n",
    "\n",
    "The energy conserves very well: \n",
    "\n",
    "![energy](Images/landau_damped_rel_t400_L7.455_N8_4_J930_M16001_o5_T3energy_conservation.png)\n",
    "\n",
    "We see that there is an oscilation and a decay.\n",
    "\n",
    "The best fit is:\n",
    "\n",
    "`model_e(x,p) = p[1] + p[2]*cos(p[3]*x + p[4])*exp(-p[5]*x)`\n",
    "\n",
    "p=[0.5606537060026092; 0.49778981399129474; 2.0055161888078645; 0.07904506666366974; 0.002055624138662095]\n",
    "\n",
    "![energy fit](Images/landau_damped_rel_t400_L7.455_N8_4_J930_M16001_o5_T3_energy_fit.png)"
   ]
  },
  {
   "cell_type": "markdown",
   "metadata": {},
   "source": []
  }
 ],
 "metadata": {
  "kernelspec": {
   "display_name": "Python 3 (ipykernel)",
   "language": "python",
   "name": "python3"
  },
  "language_info": {
   "codemirror_mode": {
    "name": "ipython",
    "version": 3
   },
   "file_extension": ".py",
   "mimetype": "text/x-python",
   "name": "python",
   "nbconvert_exporter": "python",
   "pygments_lexer": "ipython3",
   "version": "3.10.5"
  }
 },
 "nbformat": 4,
 "nbformat_minor": 2
}
