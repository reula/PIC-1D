{
 "cells": [
  {
   "cell_type": "markdown",
   "metadata": {},
   "source": [
    "## Notes on different runs (so that we can erase them after getting the data)"
   ]
  },
  {
   "cell_type": "markdown",
   "metadata": {},
   "source": [
    "### Run: (processed in post_pro_landau_rel)\n",
    "\n",
    "landau_damped_rel_t400_L7.455_N8_5_J930_M16001_o5_T3\n",
    "\n",
    "(N, L, J, dx, order) = par_grid = (800000, 7.455, 930, 0.008016129032258065, 5)\n",
    "\n",
    "(t_i, t_f, M, M_g, dt) = par_evolv = (0.0, 400.0, 16001, 1601, 0.025)\n",
    "\n",
    "(θ, nm, κ) = par_f = (0.001, 15, 0.8428149305405213)\n",
    "\n",
    "![The total run plots are:](Images/landau_damped_rel_t400_L7.455_N8_4_J930_M16001_o5_T3_total_run.png)"
   ]
  },
  {
   "cell_type": "markdown",
   "metadata": {},
   "source": [
    "\n",
    "\n",
    "The electric field is preserving the constraint very well:\n",
    "![electric field constraint preservation](Images/Efield_th1_landau_damped_rel_t400_L7.455_N8_4_J930_M16001_o5_T3.png)"
   ]
  },
  {
   "cell_type": "markdown",
   "metadata": {},
   "source": [
    "### Temperature decay and oscillation: \n",
    "\n",
    "If we approximate like `p[1] + (p[2]*cos(x*p[3] + p[4]))^2`\n",
    "we get the values (with no decay): \n",
    "\n",
    "`p = [0.0010013354356785864; 0.0013022885624546037; 1.002764628087659; -1.5324483387857684]`\n",
    "\n",
    "fitting with ` p[1] + (p[2]*cos(x*p[3] + p[4]) + p[5]*cos(x*p[6] + p[7]))*exp(-p[8]*x)`\n",
    "we get, \n",
    "\n",
    "`p = [0.0010021838741618213; 1.2444250813938006e-6; 2.0055161553588188; -3.0625410242253617; -1.2886397169576128e-9; -6.689277532196627; 0.7713562064904245; 0.00205542799597902]`\n",
    "\n",
    "The plots are: ![Temperature](Images/landau_damped_rel_t400_L7.455_N8_4_J930_M16001_o5_T3temperature.png)\n",
    "![Fit](Images/landau_damped_rel_t400_L7.455_N8_4_J930_M16001_o5_T3temperature_fit.png)\n",
    "\n",
    "The frequency is very well resolved as can be seen in keeping the phase until the end.\n",
    "![close_up](Images/landau_damped_rel_t400_L7.455_N8_4_J930_M16001_o5_T3temperature_fit_closeup.png)"
   ]
  },
  {
   "cell_type": "markdown",
   "metadata": {},
   "source": [
    "### Energy conservation and oscillation:\n",
    "\n",
    "The energy conserves very well: \n",
    "\n",
    "![energy](Images/landau_damped_rel_t400_L7.455_N8_4_J930_M16001_o5_T3energy_conservation.png)\n",
    "\n",
    "We see that there is an oscilation and a decay.\n",
    "\n",
    "The best fit is:\n",
    "\n",
    "`model_e(x,p) = p[1] + p[2]*cos(p[3]*x + p[4])*exp(-p[5]*x)`\n",
    "\n",
    "p=[0.5606537060026092; 0.49778981399129474; 2.0055161888078645; 0.07904506666366974; 0.002055624138662095]\n",
    "\n",
    "![energy fit](Images/landau_damped_rel_t400_L7.455_N8_4_J930_M16001_o5_T3_energy_fit.png)"
   ]
  },
  {
   "cell_type": "markdown",
   "metadata": {},
   "source": []
  },
  {
   "cell_type": "markdown",
   "metadata": {},
   "source": [
    "### Run: (procesed in post_pro_landau_rel)\n",
    "\n",
    "Results/landau_undamped_rel_t400_L39.738_N8_5_J3522_M16001_o5_T3.jld2\n",
    "\n",
    "(N, L, J, dx, order) = par_grid = (800000, 39.738, 3522, 0.011282793867120954, 5)\n",
    "\n",
    "(t_i, t_f, M, M_g, dt) = par_evolv = (0.0, 400.0, 16001, 1601, 0.025)\n",
    "\n",
    "(θ, nm, κ) = par_f = (0.001, 2, 0.1581152878146758)"
   ]
  },
  {
   "cell_type": "markdown",
   "metadata": {},
   "source": [
    "The runs totals are: \n",
    "\n",
    "![totals](Images/landau_undamped_rel_t400_L39.738_N8_5_J3522_M16001_o5_T3totals.png)\n",
    "![totals_run](Images/landau_undamped_rel_t400_L39.738_N8_5_J3522_M16001_o5_T3_total_run.png)"
   ]
  },
  {
   "cell_type": "markdown",
   "metadata": {},
   "source": [
    "Energy conservation: \n",
    "\n",
    "![Energy Conservation](Images/landau_undamped_rel_t400_L39.738_N8_5_J3522_M16001_o5_T3energy_conservation.png)"
   ]
  },
  {
   "cell_type": "markdown",
   "metadata": {},
   "source": [
    "Electric field constraint preservation: \n",
    "\n",
    "![E field](Images/landau_undamped_rel_t400_L39.738_N8_5_J3522_M16001_o5_T3_Efield.png)"
   ]
  },
  {
   "cell_type": "markdown",
   "metadata": {},
   "source": [
    "### Temperature decay and oscillation: \n",
    "\n",
    "`model_0(x, p) = p[1] + (p[2]*cos(x*p[3] + p[4]))^2 #*cos(x*p[5] + p[6])`\n",
    "\n",
    "`model_1(x, p) = p[1] + (p[2]*cos(x*p[3] + p[4]) + p[5]*cos(x*p[6] + p[7]))*exp(-p[8]*x) `\n",
    "```\n",
    "fit_0.param = [0.001007354886155606, 0.0216300760225535, 1.0001508566854613, -1.565118557783245, 0.0, 0.0, 0.0, 0.0]\n",
    "\n",
    "fit_1.param = [0.0012412828584880112, 0.00023796873377946573, 2.0003017769436253, -3.130230918830748, -5.962679036088655e-8, 1.8368799474143611, -12.583027997028989, 8.592356025796617e-5]\n",
    "```\n",
    "the covariance matrix is:\n",
    "```\n",
    "  1.59964e-16   7.73171e-20   4.80805e-18  …  -4.34828e-11  -6.28588e-18\n",
    "  7.73171e-20   1.30736e-15  -8.00566e-17     -1.5984e-9     2.07588e-14\n",
    "  4.80805e-18  -8.00566e-17   4.37826e-13      5.15245e-9   -1.47624e-15\n",
    " -4.00236e-15   1.77467e-14  -8.66332e-11     -6.97892e-7    3.20792e-13\n",
    " -6.64452e-21  -4.57842e-18   6.12568e-17     -1.37193e-11  -1.57557e-16\n",
    "  2.18637e-13   7.10395e-12  -3.82772e-11  …  -0.00139114    1.46547e-10\n",
    " -4.34828e-11  -1.5984e-9     5.15245e-9       0.368424     -2.98673e-8\n",
    " -6.28588e-18   2.07588e-14  -1.47624e-15     -2.98673e-8    4.41547e-13\n",
    " ```"
   ]
  },
  {
   "cell_type": "markdown",
   "metadata": {},
   "source": [
    "![Temperature fit close up](Images/landau_undamped_rel_t400_L39.738_N8_5_J3522_M16001_o5_T3temperature_fit_closeup.png)"
   ]
  },
  {
   "cell_type": "markdown",
   "metadata": {},
   "source": [
    "#### Energy oscillations"
   ]
  },
  {
   "cell_type": "markdown",
   "metadata": {},
   "source": [
    "```\n",
    "model_e1(x,p) = p[1] + p[2]*cos(p[3]*x + p[4])*exp(-p[5]*x)\n",
    "model_e2(x,p) = p[1] + p[2]*(cos(p[3]*x + p[4])^2-p[6])*exp(-p[5]*x)\n",
    "\n",
    "fit_energy_1.param = [95.73615051994099, -95.18728980926593, 2.0003017886406385, -9.413425289249613, 8.589899926849228e-5]\n",
    "fit_energy_2.param = [91.92303995394462, 190.37384140193987, 1.000150871489842, 0.00568108201092423, 8.587574278741954e-5, 0.479624427338075]\n",
    "```"
   ]
  },
  {
   "cell_type": "markdown",
   "metadata": {},
   "source": [
    "![Energy oscillations fit](Images/landau_undamped_rel_t400_L39.738_N8_5_J3522_M16001_o5_T3_energy_fit.png)"
   ]
  },
  {
   "cell_type": "markdown",
   "metadata": {},
   "source": []
  }
 ],
 "metadata": {
  "kernelspec": {
   "display_name": "Julia 1.7.2",
   "language": "julia",
   "name": "julia-1.7"
  },
  "language_info": {
   "codemirror_mode": {
    "name": "ipython",
    "version": 3
   },
   "file_extension": ".py",
   "mimetype": "text/x-python",
   "name": "julia",
   "nbconvert_exporter": "python",
   "pygments_lexer": "ipython3",
   "version": "3.10.5"
  }
 },
 "nbformat": 4,
 "nbformat_minor": 2
}
