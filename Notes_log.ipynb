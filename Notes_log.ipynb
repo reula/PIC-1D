{
 "cells": [
  {
   "cell_type": "markdown",
   "metadata": {},
   "source": [
    "## Notes on different runs (so that we can erase them after getting the data)"
   ]
  },
  {
   "cell_type": "markdown",
   "metadata": {},
   "source": [
    "### Run: (processed in post_pro_landau_rel)\n",
    "\n",
    "landau_damped_rel_t400_L7.455_N8_5_J930_M16001_o5_T3\n",
    "\n",
    "(N, L, J, dx, order) = par_grid = (800000, 7.455, 930, 0.008016129032258065, 5)\n",
    "\n",
    "(t_i, t_f, M, M_g, dt) = par_evolv = (0.0, 400.0, 16001, 1601, 0.025)\n",
    "\n",
    "(θ, nm, κ) = par_f = (0.001, 15, 0.8428149305405213)\n",
    "\n",
    "![The total run plots are:](Images/landau_damped_rel_t400_L7.455_N8_4_J930_M16001_o5_T3_total_run.png)"
   ]
  },
  {
   "cell_type": "markdown",
   "metadata": {},
   "source": [
    "\n",
    "\n",
    "The electric field is preserving the constraint very well:\n",
    "![electric field constraint preservation](Images/Efield_th1_landau_damped_rel_t400_L7.455_N8_4_J930_M16001_o5_T3.png)"
   ]
  },
  {
   "cell_type": "markdown",
   "metadata": {},
   "source": [
    "### Temperature decay and oscillation: \n",
    "\n",
    "If we approximate like `p[1] + (p[2]*cos(x*p[3] + p[4]))^2`\n",
    "we get the values (with no decay): \n",
    "\n",
    "`p = [0.0010013354356785864; 0.0013022885624546037; 1.002764628087659; -1.5324483387857684]`\n",
    "\n",
    "fitting with ` p[1] + (p[2]*cos(x*p[3] + p[4]) + p[5]*cos(x*p[6] + p[7]))*exp(-p[8]*x)`\n",
    "we get, \n",
    "\n",
    "`p = [0.0010021838741618213; 1.2444250813938006e-6; 2.0055161553588188; -3.0625410242253617; -1.2886397169576128e-9; -6.689277532196627; 0.7713562064904245; 0.00205542799597902]`\n",
    "\n",
    "The plots are: ![Temperature](Images/landau_damped_rel_t400_L7.455_N8_4_J930_M16001_o5_T3temperature.png)\n",
    "![Fit](Images/landau_damped_rel_t400_L7.455_N8_4_J930_M16001_o5_T3temperature_fit.png)\n",
    "\n",
    "The frequency is very well resolved as can be seen in keeping the phase until the end.\n",
    "![close_up](Images/landau_damped_rel_t400_L7.455_N8_4_J930_M16001_o5_T3temperature_fit_closeup.png)"
   ]
  },
  {
   "cell_type": "markdown",
   "metadata": {},
   "source": [
    "### Energy conservation and oscillation:\n",
    "\n",
    "The energy conserves very well: \n",
    "\n",
    "![energy](Images/landau_damped_rel_t400_L7.455_N8_4_J930_M16001_o5_T3energy_conservation.png)\n",
    "\n",
    "We see that there is an oscilation and a decay.\n",
    "\n",
    "The best fit is:\n",
    "\n",
    "`model_e(x,p) = p[1] + p[2]*cos(p[3]*x + p[4])*exp(-p[5]*x)`\n",
    "\n",
    "p=[0.5606537060026092; 0.49778981399129474; 2.0055161888078645; 0.07904506666366974; 0.002055624138662095]\n",
    "\n",
    "![energy fit](Images/landau_damped_rel_t400_L7.455_N8_4_J930_M16001_o5_T3_energy_fit.png)"
   ]
  },
  {
   "cell_type": "markdown",
   "metadata": {},
   "source": [
    "Here we get: $\\omega = 1.0027 + i*0.001$\n",
    "\n",
    "While the theory sais:\n",
    "\n",
    "$$\n",
    "\\omega = 1.28506 - i*0.06613\n",
    "$$"
   ]
  },
  {
   "cell_type": "code",
   "execution_count": 1,
   "metadata": {},
   "outputs": [
    {
     "data": {
      "text/plain": [
       "1.002758"
      ]
     },
     "execution_count": 1,
     "metadata": {},
     "output_type": "execute_result"
    }
   ],
   "source": [
    "2.005516/2\n"
   ]
  },
  {
   "cell_type": "markdown",
   "metadata": {},
   "source": [
    "# New RUN"
   ]
  },
  {
   "cell_type": "markdown",
   "metadata": {},
   "source": [
    "### Run: (procesed in post_pro_landau_rel)\n",
    "\n",
    "Results/landau_undamped_rel_t400_L39.738_N8_5_J3522_M16001_o5_T3.jld2\n",
    "\n",
    "(N, L, J, dx, order) = par_grid = (800000, 39.738, 3522, 0.011282793867120954, 5)\n",
    "\n",
    "(t_i, t_f, M, M_g, dt) = par_evolv = (0.0, 400.0, 16001, 1601, 0.025)\n",
    "\n",
    "(θ, nm, κ) = par_f = (0.001, 2, 0.1581152878146758)"
   ]
  },
  {
   "cell_type": "markdown",
   "metadata": {},
   "source": [
    "The runs totals are: \n",
    "\n",
    "![totals](Images/landau_undamped_rel_t400_L39.738_N8_5_J3522_M16001_o5_T3totals.png)\n",
    "![totals_run](Images/landau_undamped_rel_t400_L39.738_N8_5_J3522_M16001_o5_T3_total_run.png)"
   ]
  },
  {
   "cell_type": "markdown",
   "metadata": {},
   "source": [
    "Energy conservation: \n",
    "\n",
    "![Energy Conservation](Images/landau_undamped_rel_t400_L39.738_N8_5_J3522_M16001_o5_T3energy_conservation.png)"
   ]
  },
  {
   "cell_type": "markdown",
   "metadata": {},
   "source": [
    "Electric field constraint preservation: \n",
    "\n",
    "![E field](Images/landau_undamped_rel_t400_L39.738_N8_5_J3522_M16001_o5_T3_Efield.png)"
   ]
  },
  {
   "cell_type": "markdown",
   "metadata": {},
   "source": [
    "### Temperature decay and oscillation: \n",
    "\n",
    "`model_0(x, p) = p[1] + (p[2]*cos(x*p[3] + p[4]))^2 #*cos(x*p[5] + p[6])`\n",
    "\n",
    "`model_1(x, p) = p[1] + (p[2]*cos(x*p[3] + p[4]) + p[5]*cos(x*p[6] + p[7]))*exp(-p[8]*x) `\n",
    "```\n",
    "fit_0.param = [0.001007354886155606, 0.0216300760225535, 1.0001508566854613, -1.565118557783245, 0.0, 0.0, 0.0, 0.0]\n",
    "\n",
    "fit_1.param = [0.0012412828584880112, 0.00023796873377946573, 2.0003017769436253, -3.130230918830748, -5.962679036088655e-8, 1.8368799474143611, -12.583027997028989, 8.592356025796617e-5]\n",
    "```\n",
    "the covariance matrix is:\n",
    "```\n",
    "  1.59964e-16   7.73171e-20   4.80805e-18  …  -4.34828e-11  -6.28588e-18\n",
    "  7.73171e-20   1.30736e-15  -8.00566e-17     -1.5984e-9     2.07588e-14\n",
    "  4.80805e-18  -8.00566e-17   4.37826e-13      5.15245e-9   -1.47624e-15\n",
    " -4.00236e-15   1.77467e-14  -8.66332e-11     -6.97892e-7    3.20792e-13\n",
    " -6.64452e-21  -4.57842e-18   6.12568e-17     -1.37193e-11  -1.57557e-16\n",
    "  2.18637e-13   7.10395e-12  -3.82772e-11  …  -0.00139114    1.46547e-10\n",
    " -4.34828e-11  -1.5984e-9     5.15245e-9       0.368424     -2.98673e-8\n",
    " -6.28588e-18   2.07588e-14  -1.47624e-15     -2.98673e-8    4.41547e-13\n",
    " ```"
   ]
  },
  {
   "cell_type": "markdown",
   "metadata": {},
   "source": [
    "![Temperature fit close up](Images/landau_undamped_rel_t400_L39.738_N8_5_J3522_M16001_o5_T3temperature_fit_closeup.png)"
   ]
  },
  {
   "cell_type": "markdown",
   "metadata": {},
   "source": [
    "#### Energy oscillations"
   ]
  },
  {
   "cell_type": "markdown",
   "metadata": {},
   "source": [
    "```\n",
    "model_e1(x,p) = p[1] + p[2]*cos(p[3]*x + p[4])*exp(-p[5]*x)\n",
    "model_e2(x,p) = p[1] + p[2]*(cos(p[3]*x + p[4])^2-p[6])*exp(-p[5]*x)\n",
    "\n",
    "fit_energy_1.param = [95.73615051994099, -95.18728980926593, 2.0003017886406385, -9.413425289249613, 8.589899926849228e-5]\n",
    "fit_energy_2.param = [91.92303995394462, 190.37384140193987, 1.000150871489842, 0.00568108201092423, 8.587574278741954e-5, 0.479624427338075]\n",
    "```"
   ]
  },
  {
   "cell_type": "markdown",
   "metadata": {},
   "source": [
    "![Energy oscillations fit](Images/landau_undamped_rel_t400_L39.738_N8_5_J3522_M16001_o5_T3_energy_fit.png)"
   ]
  },
  {
   "cell_type": "markdown",
   "metadata": {},
   "source": [
    "We see that (with t_f = 400) the frequency is around: `1.00015` and the decay is around `8.589e-5`. **These numbers are good!**"
   ]
  },
  {
   "cell_type": "markdown",
   "metadata": {},
   "source": [
    "# New RUN"
   ]
  },
  {
   "cell_type": "markdown",
   "metadata": {},
   "source": [
    "### Run: \n",
    "\n",
    "### Small Perturbations Tests\n",
    "\n",
    "#### Run ltd_landau_try_rel_t100_L40_N8_5_J400_M2001_o5_T3_alp3.jld2\n",
    "\n",
    "```\n",
    "run_name = \"ltd_landau_vla40_rel_t100_L40_N8_5_J400_M2001_o5_T3_alp3\"\n",
    "(N, L, J, dx, order) = par_grid = (800000, 40, 400, 0.1, 5)\n",
    "(t_i, t_f, M, M_g, dt) = par_evolv = (0.0, 100.0, 2001, 2001, 0.05)\n",
    "(θ, nm, κ) = par_f = (0.001, 2, 0.15707963267948966)\n",
    "```\n",
    "\n",
    "![The total run plots are:](Images/ltd_landau_vla40_rel_t100_L40_N8_5_J400_M2001_o5_T3_alp3_totals.png)"
   ]
  },
  {
   "cell_type": "markdown",
   "metadata": {},
   "source": [
    "![total_run](Images/ltd_landau_vla40_rel_t100_L40_N8_5_J400_M2001_o5_T3_alp3_total_run.png)"
   ]
  },
  {
   "cell_type": "markdown",
   "metadata": {},
   "source": [
    "![Electric field constraint](Images/ltd_landau_vla40_rel_t100_L40_N8_5_J400_M2001_o5_T3_alp3_Efield.png)"
   ]
  },
  {
   "cell_type": "markdown",
   "metadata": {},
   "source": [
    "![Energy conservation](Images/ltd_landau_vla40_rel_t100_L40_N8_5_J400_M2001_o5_T3_alp3energy_conservation.png)"
   ]
  },
  {
   "cell_type": "markdown",
   "metadata": {},
   "source": [
    "```\n",
    "@. model_tl001_s(x,p) = p[1] + p[2]*cos(p[3]*x + p[4])*exp(-p[5]*x)\n",
    "0.0010169145793037712\n",
    " -1.4471995558024292e-5\n",
    "  1.9957563551314361\n",
    " -0.06704844805009498\n",
    "  0.002614952416680316\n",
    "```\n",
    "\n",
    "\n",
    "\n",
    "![Temperature fit](Images/ltd_landau_vla40_rel_t100_L40_N8_5_J400_M2001_o5_T3_alp3temperature_fit.png)"
   ]
  },
  {
   "cell_type": "markdown",
   "metadata": {},
   "source": [
    "### Temperature frequency should be larger than 1...."
   ]
  },
  {
   "cell_type": "markdown",
   "metadata": {},
   "source": [
    "### Energy Fit:\n",
    "\n",
    "```\n",
    "@. energy_fit(x,p) = p[1] + p[2]*cos(p[3]*x + p[4])*exp(-p[5]*x)\n",
    "6.183062965886603\n",
    " -5.778044295565694\n",
    "  1.9957567296053738\n",
    "  6.216118491327009\n",
    "  0.002609670014932032\n",
    "```\n",
    "\n",
    "![Energy Fit](Images/ltd_landau_vla40_rel_t100_L40_N8_5_J400_M2001_o5_T3_alp3energy_fit.png)"
   ]
  },
  {
   "cell_type": "markdown",
   "metadata": {},
   "source": [
    "![Energy fits](Images/ltd_landau_vla40_rel_t100_L40_N8_5_J400_M2001_o5_T3_alp3_energy_fit.png)"
   ]
  },
  {
   "cell_type": "markdown",
   "metadata": {},
   "source": [
    "### Conclusions: \n",
    "\n",
    "$2\\omega_r = 1.9957$, $\\omega_i = 0.0026$\n",
    "We observe a decay which shouldn't be present, and also a frequency which is a bit smaller that what it should be. Don't know why. Note that for this run `dt = 0.05`. Is it too big? "
   ]
  },
  {
   "cell_type": "markdown",
   "metadata": {},
   "source": [
    "## NEW RUN\n",
    "\n",
    "#### RUN: par_dis_landau_rel_vla_200_10_alp3_85_Th3.jld2\n",
    "\n",
    "This is a run which should be the the same as the one before, but with a longer base same wave-length.\n",
    "\n"
   ]
  },
  {
   "cell_type": "markdown",
   "metadata": {},
   "source": [
    "```\n",
    "run_name = \"par_dis_landau_rel_vla_200_10_alp3_85_Th3\"\n",
    "(N, L, J, dx, order) = par_grid = (800000, 200, 2000, 0.1, 5)\n",
    "(t_i, t_f, M, M_g, dt) = par_evolv = (0.0, 100.0, 2001, 2001, 0.05)\n",
    "(θ, nm, κ) = par_f = (0.001, 10, 0.031415926535897934)\n",
    "(0.001, 10, 0.031415926535897934)\n",
    "```"
   ]
  },
  {
   "cell_type": "markdown",
   "metadata": {},
   "source": [
    "Totals\n",
    "\n",
    "![Totals](Images/par_dis_landau_rel_vla_200_10_alp3_85_Th3_totals.png)"
   ]
  },
  {
   "cell_type": "markdown",
   "metadata": {},
   "source": [
    "![totals_run](Images/par_dis_landau_rel_vla_200_10_alp3_85_Th3_total_run.png)"
   ]
  },
  {
   "cell_type": "markdown",
   "metadata": {},
   "source": [
    "![Constraint](Images/par_dis_landau_rel_vla_200_10_alp3_85_Th3_Efield.png)"
   ]
  },
  {
   "cell_type": "markdown",
   "metadata": {},
   "source": [
    "![Energy Fit](Images/par_dis_landau_rel_vla_200_10_alp3_85_Th3_energy_fit.png)"
   ]
  },
  {
   "cell_type": "markdown",
   "metadata": {},
   "source": [
    "```\n",
    "@. model_e1(x,p) = p[1] + p[2]*cos(p[3]*x + p[4])*exp(-p[5]*x)\n",
    "@. model_e2(x,p) = p[1] + p[2]*(cos(p[3]*x + p[4])^2-p[6])*exp(-p[5]*x)\n",
    "\n",
    "fit_energy_2.param\n",
    "\n",
    "224.8623441277075\n",
    "483.28896879703115\n",
    "0.9984429793912936\n",
    "-0.004630306960615698\n",
    "0.00034292373293318146\n",
    "0.4638517910442254\n",
    "```\n",
    "\n",
    "**We observe no decay in this case, and the frequency remains too low.**"
   ]
  },
  {
   "cell_type": "markdown",
   "metadata": {},
   "source": [
    "![Temperature fit](Images/par_dis_landau_rel_vla_200_10_alp3_85_Th3temperature_fit.png)"
   ]
  },
  {
   "cell_type": "markdown",
   "metadata": {},
   "source": [
    "```\n",
    "@. model_tl001(x,p) = p[1] + p[2]*cos(p[3]*x + p[4])*exp(-p[5]*x) + p[6]*cos(p[7]*x + p[8])*exp(-p[9]*x)\n",
    "p_tl001 = [1.; 6.; 2; 0; 0.1; 0; 1.; 0; 0]\n",
    "fit_tl001 = curve_fit(model_tl001, t_series[1:end], T[1:end], p_tl001)\n",
    "@. model_tl001_s(x,p) = p[1] + p[2]*cos(p[3]*x + p[4])*exp(-p[5]*x)\n",
    "p_tl001_s = [0.001; 6; 2; 0; 0.0]\n",
    "fit_tl001_s = curve_fit(model_tl001_s, t_series[1:end], T[1:end], p_tl001_s)\n",
    "\n",
    "fit_tl001_s.param\n",
    "\n",
    "0.0016107531034206827\n",
    "-0.0006053756746313588\n",
    "1.9968849745205268\n",
    "-0.009148923454707894\n",
    "0.0003394560972560252\n",
    "```\n",
    "\n",
    "**Same observation: still some decay and frequency similar to the previous simulation, that is, a little smaller than it should be.**  Here `dt = 0.05`. So, identical with the previous simulation.\n"
   ]
  },
  {
   "cell_type": "markdown",
   "metadata": {},
   "source": []
  },
  {
   "cell_type": "markdown",
   "metadata": {},
   "source": [
    "## New RUN\n",
    "\n",
    "#### run_name par_dis_landau_rel_undamped_2_alp3_165_Th3.jld2\n",
    "\n",
    "```\n",
    "run_name = \"par_dis_landau_rel_undamped_2_alp3_165_Th3\"\n",
    "(N, L, J, dx, order) = par_grid = (800000, 39.738, 3522, 0.011282793867120954, 5)\n",
    "(t_i, t_f, M, M_g, dt) = par_evolv = (0.0, 100.0, 4001, 401, 0.025)\n",
    "(θ, nm, κ) = par_f = (0.001, 2, 0.1581152878146758)\n",
    "```\n",
    "\n",
    "We tried both, with threads and without them.\n",
    "\n",
    "We got: \n",
    "\n",
    "$2\\omega_r = 1.9989391125705074$\n",
    "\n",
    "$\\omega_i = 0.0009321533959686548$\n",
    "\n",
    "Still a bit larger the decay and the frequency still smaller than one. \n",
    "Don't know what is going on. \n",
    "\n"
   ]
  },
  {
   "cell_type": "markdown",
   "metadata": {},
   "source": []
  },
  {
   "cell_type": "markdown",
   "metadata": {},
   "source": [
    "### Testing frequencies\n",
    "\n",
    "Now we are going to test with dumping to see whether the frequency in this case is correct. \n",
    "Recall that in this case the difference in frequency is rather big. On the other hand, it seems that there are many modes, so this is not totally full proof test.\n"
   ]
  },
  {
   "cell_type": "markdown",
   "metadata": {},
   "source": []
  }
 ],
 "metadata": {
  "kernelspec": {
   "display_name": "Julia 1.7.2",
   "language": "julia",
   "name": "julia-1.7"
  },
  "language_info": {
   "file_extension": ".jl",
   "mimetype": "application/julia",
   "name": "julia",
   "version": "1.7.2"
  }
 },
 "nbformat": 4,
 "nbformat_minor": 2
}
