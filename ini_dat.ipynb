{
 "cells": [
  {
   "cell_type": "markdown",
   "metadata": {},
   "source": [
    "## Play-ground to make initial data distributions."
   ]
  },
  {
   "cell_type": "code",
   "execution_count": 2,
   "metadata": {},
   "outputs": [],
   "source": [
    "#import Pkg; Pkg.add(\"FileIO\")\n",
    "using Distributions\n",
    "using Plots\n",
    "using FileIO\n",
    "using JLD2\n",
    "using LaTeXStrings\n",
    "#Pkg.instantiate()"
   ]
  },
  {
   "cell_type": "markdown",
   "metadata": {},
   "source": [
    "### This is a Maxwellinan distribution (3D) centered around v=0 and with m/kT = 1"
   ]
  },
  {
   "cell_type": "code",
   "execution_count": null,
   "metadata": {},
   "outputs": [],
   "source": [
    "d  = LocationScale(0.0,1.,Chi(3))\n",
    "data = rand(d,20000);\n",
    "histogram(data)"
   ]
  },
  {
   "cell_type": "markdown",
   "metadata": {},
   "source": [
    "The 1D distribution for $\\frac{m}{kT} = 1$ is just the normal distribution centered at both $\\pm v_p$. With $\\sigma = 1$.\n"
   ]
  },
  {
   "cell_type": "code",
   "execution_count": null,
   "metadata": {},
   "outputs": [],
   "source": [
    "N = 40000\n",
    "vb = -10\n",
    "\n",
    "data_n = [rand(Normal(-vb,1),N÷2); rand(Normal(vb,1),N÷2)]  #.+ rand(Normal(-1,1),20000)\n",
    "histogram(data_n, bins=:scott, weights=repeat(1:80, outer=500))"
   ]
  },
  {
   "cell_type": "markdown",
   "metadata": {},
   "source": [
    "### This is the distribution on the course, just to check that it is the same... \n",
    "\n",
    "I should apply some statistics here and check different momenta :-)"
   ]
  },
  {
   "cell_type": "code",
   "execution_count": null,
   "metadata": {},
   "outputs": [],
   "source": [
    "\"\"\"The following routine returns a random velocity distributed on a double Maxwellian distribution function \n",
    "corresponding to two counter-streaming beams. The algorithm used to achieve this is called the rejection method, \n",
    "and will be discussed later in this course.\n",
    "\n",
    "  // Function to distribute electron velocities randomly so as \n",
    "  // to generate two counter propagating warm beams of thermal\n",
    "  // velocities unity and mean velocities +/- vb.\n",
    "  // Uses rejection method.\n",
    "\"\"\"\n",
    "function distribution_stream(vb)\n",
    "  #Generate random v value\n",
    "  fmax = 0.5 * (1. + exp(-2.0 * vb * vb));\n",
    "  vmin = - 5.0 * vb;\n",
    "  vmax = + 5.0 * vb;\n",
    "  v = vmin + (vmax - vmin) * (rand());\n",
    "\n",
    "  #  Accept/reject value\n",
    "  f = 0.5 * (exp(-(v - vb) * (v - vb) / 2.0) + exp(-(v + vb) * (v + vb) / 2.0))\n",
    "  x = fmax * rand()\n",
    "  if (x > f) return distribution_stream(vb)\n",
    "  else return v\n",
    "  end\n",
    "end"
   ]
  },
  {
   "cell_type": "code",
   "execution_count": null,
   "metadata": {},
   "outputs": [],
   "source": [
    "v = zeros(N)\n",
    "for i in 1:N\n",
    "    v[i] = distribution_stream(vb)\n",
    "end"
   ]
  },
  {
   "cell_type": "code",
   "execution_count": null,
   "metadata": {},
   "outputs": [],
   "source": [
    "histogram(v, bins=:scott, weights=repeat(1:80, outer=500))"
   ]
  },
  {
   "cell_type": "markdown",
   "metadata": {},
   "source": [
    "At first sigth they look very similar...."
   ]
  },
  {
   "cell_type": "markdown",
   "metadata": {},
   "source": [
    "We now make and save some distributions to use as standard ones."
   ]
  },
  {
   "cell_type": "code",
   "execution_count": null,
   "metadata": {},
   "outputs": [],
   "source": [
    "L = 100 #length of integration region\n",
    "#N = 200000\n",
    "N = 80000 #even number\n",
    "vb = 3\n",
    "\n",
    "r = L*rand(N);\n",
    "vp = rand(Normal(vb,1),N÷2);\n",
    "u = [r; -vp; vp];\n",
    "\n",
    "#save(\"Initial_Distributions/par_dis_L100_N8_5_vp_3.jld2\", \"par_dis\", u)"
   ]
  },
  {
   "cell_type": "markdown",
   "metadata": {},
   "source": [
    "## Thermal Distributions\n",
    "\n",
    "$$\n",
    "f(x,v) = \\frac{N}{L} \\frac{1}{\\sqrt{2\\pi \\theta}} e^{-\\frac{v^2}{2\\theta}}\n",
    "$$\n",
    "\n",
    "Thus, $\\theta = \\sigma^2$ is the variance of the distribution.\n",
    "\n",
    "### Relativistic version\n",
    "\n",
    "$$\n",
    "f(x,v) = \\frac{N}{L} \\frac{1}{\\sqrt{2\\pi \\theta}} e^{-\\frac{v^2}{2\\theta}}\n",
    "$$"
   ]
  },
  {
   "cell_type": "code",
   "execution_count": null,
   "metadata": {},
   "outputs": [],
   "source": [
    "L = 5 #length of integration region\n",
    "#N = 200000\n",
    "N = 80000 #even number\n",
    "θ = 0.01\n",
    "\n",
    "r = L*rand(N);\n",
    "vp = rand(Normal(0,sqrt(θ)),N);\n",
    "u = [r; vp];"
   ]
  },
  {
   "cell_type": "code",
   "execution_count": null,
   "metadata": {},
   "outputs": [],
   "source": [
    "mean(vp)\n",
    "var(vp)"
   ]
  },
  {
   "cell_type": "code",
   "execution_count": null,
   "metadata": {},
   "outputs": [],
   "source": [
    "histogram(vp)"
   ]
  },
  {
   "cell_type": "code",
   "execution_count": null,
   "metadata": {},
   "outputs": [],
   "source": [
    "save(\"Initial_Distributions/par_dis_L5_N8_5_theta01.jld2\", \"par_dis\", u)\n",
    "#save(\"Initial_Distributions/par_dis_L5_N2_5_theta001.jld2\", \"par_dis\", u)\n",
    "#save(\"Initial_Distributions/par_dis_L5_N2_5_theta0001.jld2\", \"par_dis\", u)\n",
    "#save(\"Initial_Distributions/par_dis_L5_N2_5_theta00001.jld2\", \"par_dis\", u)\n"
   ]
  },
  {
   "cell_type": "markdown",
   "metadata": {},
   "source": [
    "## Landau Damping ##\n",
    "\n",
    "The initial distribution is: \n",
    "\n",
    "$$\n",
    "f(x,v,\\alpha, k, \\theta) = \\frac{1}{\\sqrt{2\\pi \\theta}} e^{-\\frac{v^2}{2\\theta}} (1 + \\alpha cos(kx) )\n",
    "$$\n",
    "\n",
    "Since it is a product we can split into two distributions one for the position and one for the velocity.\n",
    "The one for the velocity we already have, so we need to make only the random sampling of the spatial one. \n",
    "\n",
    "Some definitions $\\hat{k} = k / k_D = k * \\sqrt{\\theta}$ Or $k = \\hat{k} / \\sqrt{\\theta}$ \n",
    "\n",
    "In these simulations, $\\theta = 10^{-3}$ $\\sqrt{\\theta} = 0.03162$\n",
    "\n",
    "Thus to $\\hat{k} = 0.01$ corresponds a $\\lambda = 2\\pi * \\sqrt{\\theta} / \\hat{k} = 19.869$\n",
    "\n",
    "For $\\hat{k} = 0.40$ corresponds a $\\lambda = 0.497$\n",
    "\n",
    "For the first case an $L = 2 \\lambda = 39.738$ is used and $J = 1761*2 = 3522$, $dx = L/J = 0.0112$\n",
    "\n",
    "For the second $L=15*\\lambda = 7.455$ is used and $J = 62 * 15 = 930$, $dx = 0.0080$"
   ]
  },
  {
   "cell_type": "code",
   "execution_count": null,
   "metadata": {},
   "outputs": [],
   "source": [
    "7.455 / (62 * 15)"
   ]
  },
  {
   "cell_type": "markdown",
   "metadata": {},
   "source": []
  },
  {
   "cell_type": "code",
   "execution_count": 3,
   "metadata": {},
   "outputs": [
    {
     "data": {
      "text/plain": [
       "random_sampling_from_distribution"
      ]
     },
     "execution_count": 3,
     "metadata": {},
     "output_type": "execute_result"
    }
   ],
   "source": [
    "\"\"\"The following routine returns a random sample according to a given distribution function.\n",
    " The algorithm used to achieve this is called the rejection method.\n",
    " f is the distribution function and p are its parameters. We need also\n",
    " f_max which is a function of p, and the interval of the sampling region\n",
    " int = (x_min,x_max)\n",
    "\"\"\"\n",
    "function random_sampling_from_distribution(f,f_max,p,interval)\n",
    "  (x_max,x_min) = interval\n",
    "  fmax = f_max(p)\n",
    "  x = x_min + (x_max - x_min) * (rand());\n",
    "  #  Accept/reject value\n",
    "  f_v = f(x,p)\n",
    "  x_t = fmax * rand()\n",
    "  if (x_t > f_v) return random_sampling_from_distribution(f,f_max,p,interval)\n",
    "  else return x\n",
    "  end\n",
    "end"
   ]
  },
  {
   "cell_type": "code",
   "execution_count": 4,
   "metadata": {},
   "outputs": [],
   "source": [
    "damped = false\n",
    "undamped = false\n",
    "damped = true\n",
    "#undamped = true\n",
    "\n",
    "#N = 8_000_000\n",
    "N = 800_000\n",
    "#N = 80_000\n",
    "\n",
    "if undamped\n",
    "    L= 39.738 \n",
    "    nm = 2\n",
    "elseif damped\n",
    "    L = 7.455\n",
    "    nm = 15 # 12, 15, 19\n",
    "end\n",
    "\n",
    "k = 2π*nm/L # this here is k, not \\hat{k}\n",
    "α = 0.01 # 0.01\n",
    "θ = 0.001 # 0.001\n",
    "p = (α, k)\n",
    "\n",
    "function f(x,p) \n",
    "    α, k = p\n",
    "    return 1 + α *cos(k*x)\n",
    "end\n",
    "\n",
    "function f_max(p)\n",
    "    α, k = p\n",
    "    return 1+α\n",
    "end\n",
    "\n",
    "interval = (0., L)\n",
    "r = zeros(N)\n",
    "for i in 1:N\n",
    "    r[i] = random_sampling_from_distribution(f,f_max,p,interval)\n",
    "end"
   ]
  },
  {
   "cell_type": "markdown",
   "metadata": {},
   "source": []
  },
  {
   "cell_type": "code",
   "execution_count": null,
   "metadata": {},
   "outputs": [],
   "source": [
    "using GR\n",
    "Plots.histogram(r\n",
    "#, bins=:scott\n",
    ", bins = 300\n",
    "#, weights=repeat(1:80, outer=1000)\n",
    ",label = false\n",
    ")"
   ]
  },
  {
   "cell_type": "code",
   "execution_count": null,
   "metadata": {},
   "outputs": [],
   "source": [
    "vp = rand(Normal(0,sqrt(θ)),N);\n",
    "u = [r; vp];"
   ]
  },
  {
   "cell_type": "code",
   "execution_count": null,
   "metadata": {},
   "outputs": [],
   "source": [
    "#save(\"Initial_Distributions/par_dis_L40_N8_5_theta001_m1_am2.jld2\", \"par_dis\", u)\n",
    "#save(\"Initial_Distributions/par_dis_L40_N8_5_theta001_m2_am2.jld2\", \"par_dis\", u)\n",
    "#save(\"Initial_Distributions/par_dis_L40_N8_5_theta001_m4_am1.jld2\", \"par_dis\", u)\n",
    "#save(\"Initial_Distributions/par_dis_L40_N8_5_theta001_m4_am2.jld2\", \"par_dis\", u)\n",
    "#save(\"Initial_Distributions/par_dis_nodumping.jld2\", \"par_dis\", u)\n",
    "if damped \n",
    "    #save(\"Initial_Distributions/par_dis_8_4_damping.jld2\", \"par_dis\", u)\n",
    "    #save(\"Initial_Distributions/par_dis_8_5_damping.jld2\", \"par_dis\", u)\n",
    "    #save(\"Initial_Distributions/par_dis_8_5_abig_damping.jld2\", \"par_dis\", u)\n",
    "elseif undamped\n",
    "    #save(\"Initial_Distributions/par_dis_8_5_undamping.jld2\", \"par_dis\", u)\n",
    "    #save(\"Initial_Distributions/par_dis_8_5_abig_undamping.jld2\", \"par_dis\", u)\n",
    "end"
   ]
  },
  {
   "cell_type": "code",
   "execution_count": null,
   "metadata": {},
   "outputs": [],
   "source": [
    "N = 10^6\n",
    "θ = 0.001\n",
    "vp = rand(Normal(0,sqrt(θ)),N);\n",
    "var(vp)"
   ]
  },
  {
   "cell_type": "markdown",
   "metadata": {},
   "source": [
    "### Relativistic version\n",
    "\n",
    "For the relativistic version we use the distribution (for momentum)\n",
    "\n",
    "$$\n",
    "f(p) = \\frac{1}{4\\pi m^3 c^3 \\theta K^2(1/\\theta)} e^{(1-\\gamma) / \\theta} \\;\\;\\;\\; \\gamma = \\sqrt{1+p^2}\n",
    "$$"
   ]
  },
  {
   "cell_type": "code",
   "execution_count": 5,
   "metadata": {},
   "outputs": [
    {
     "data": {
      "image/svg+xml": "<?xml version=\"1.0\" encoding=\"utf-8\"?>\n<svg xmlns=\"http://www.w3.org/2000/svg\" xmlns:xlink=\"http://www.w3.org/1999/xlink\" width=\"600\" height=\"400\" viewBox=\"0 0 2400 1600\">\n<defs>\n  <clipPath id=\"clip380\">\n    <rect x=\"0\" y=\"0\" width=\"2400\" height=\"1600\"/>\n  </clipPath>\n</defs>\n<path clip-path=\"url(#clip380)\" d=\"\nM0 1600 L2400 1600 L2400 0 L0 0  Z\n  \" fill=\"#ffffff\" fill-rule=\"evenodd\" fill-opacity=\"1\"/>\n<defs>\n  <clipPath id=\"clip381\">\n    <rect x=\"480\" y=\"0\" width=\"1681\" height=\"1600\"/>\n  </clipPath>\n</defs>\n<path clip-path=\"url(#clip380)\" d=\"\nM189.496 1474.16 L2352.76 1474.16 L2352.76 47.2441 L189.496 47.2441  Z\n  \" fill=\"#ffffff\" fill-rule=\"evenodd\" fill-opacity=\"1\"/>\n<defs>\n  <clipPath id=\"clip382\">\n    <rect x=\"189\" y=\"47\" width=\"2164\" height=\"1428\"/>\n  </clipPath>\n</defs>\n<polyline clip-path=\"url(#clip382)\" style=\"stroke:#000000; stroke-linecap:butt; stroke-linejoin:round; stroke-width:2; stroke-opacity:0.1; fill:none\" points=\"\n  189.496,1474.16 189.496,47.2441 \n  \"/>\n<polyline clip-path=\"url(#clip382)\" style=\"stroke:#000000; stroke-linecap:butt; stroke-linejoin:round; stroke-width:2; stroke-opacity:0.1; fill:none\" points=\"\n  550.039,1474.16 550.039,47.2441 \n  \"/>\n<polyline clip-path=\"url(#clip382)\" style=\"stroke:#000000; stroke-linecap:butt; stroke-linejoin:round; stroke-width:2; stroke-opacity:0.1; fill:none\" points=\"\n  910.583,1474.16 910.583,47.2441 \n  \"/>\n<polyline clip-path=\"url(#clip382)\" style=\"stroke:#000000; stroke-linecap:butt; stroke-linejoin:round; stroke-width:2; stroke-opacity:0.1; fill:none\" points=\"\n  1271.13,1474.16 1271.13,47.2441 \n  \"/>\n<polyline clip-path=\"url(#clip382)\" style=\"stroke:#000000; stroke-linecap:butt; stroke-linejoin:round; stroke-width:2; stroke-opacity:0.1; fill:none\" points=\"\n  1631.67,1474.16 1631.67,47.2441 \n  \"/>\n<polyline clip-path=\"url(#clip382)\" style=\"stroke:#000000; stroke-linecap:butt; stroke-linejoin:round; stroke-width:2; stroke-opacity:0.1; fill:none\" points=\"\n  1992.21,1474.16 1992.21,47.2441 \n  \"/>\n<polyline clip-path=\"url(#clip382)\" style=\"stroke:#000000; stroke-linecap:butt; stroke-linejoin:round; stroke-width:2; stroke-opacity:0.1; fill:none\" points=\"\n  2352.76,1474.16 2352.76,47.2441 \n  \"/>\n<polyline clip-path=\"url(#clip380)\" style=\"stroke:#000000; stroke-linecap:butt; stroke-linejoin:round; stroke-width:4; stroke-opacity:1; fill:none\" points=\"\n  189.496,1474.16 2352.76,1474.16 \n  \"/>\n<polyline clip-path=\"url(#clip380)\" style=\"stroke:#000000; stroke-linecap:butt; stroke-linejoin:round; stroke-width:4; stroke-opacity:1; fill:none\" points=\"\n  189.496,1474.16 189.496,1455.27 \n  \"/>\n<polyline clip-path=\"url(#clip380)\" style=\"stroke:#000000; stroke-linecap:butt; stroke-linejoin:round; stroke-width:4; stroke-opacity:1; fill:none\" points=\"\n  550.039,1474.16 550.039,1455.27 \n  \"/>\n<polyline clip-path=\"url(#clip380)\" style=\"stroke:#000000; stroke-linecap:butt; stroke-linejoin:round; stroke-width:4; stroke-opacity:1; fill:none\" points=\"\n  910.583,1474.16 910.583,1455.27 \n  \"/>\n<polyline clip-path=\"url(#clip380)\" style=\"stroke:#000000; stroke-linecap:butt; stroke-linejoin:round; stroke-width:4; stroke-opacity:1; fill:none\" points=\"\n  1271.13,1474.16 1271.13,1455.27 \n  \"/>\n<polyline clip-path=\"url(#clip380)\" style=\"stroke:#000000; stroke-linecap:butt; stroke-linejoin:round; stroke-width:4; stroke-opacity:1; fill:none\" points=\"\n  1631.67,1474.16 1631.67,1455.27 \n  \"/>\n<polyline clip-path=\"url(#clip380)\" style=\"stroke:#000000; stroke-linecap:butt; stroke-linejoin:round; stroke-width:4; stroke-opacity:1; fill:none\" points=\"\n  1992.21,1474.16 1992.21,1455.27 \n  \"/>\n<polyline clip-path=\"url(#clip380)\" style=\"stroke:#000000; stroke-linecap:butt; stroke-linejoin:round; stroke-width:4; stroke-opacity:1; fill:none\" points=\"\n  2352.76,1474.16 2352.76,1455.27 \n  \"/>\n<path clip-path=\"url(#clip380)\" d=\"M138.915 1548.29 L146.554 1548.29 L146.554 1521.92 L138.244 1523.59 L138.244 1519.33 L146.508 1517.66 L151.184 1517.66 L151.184 1548.29 L158.823 1548.29 L158.823 1552.22 L138.915 1552.22 L138.915 1548.29 Z\" fill=\"#000000\" fill-rule=\"evenodd\" fill-opacity=\"1\" /><path clip-path=\"url(#clip380)\" d=\"M178.267 1520.74 Q174.656 1520.74 172.827 1524.31 Q171.022 1527.85 171.022 1534.98 Q171.022 1542.09 172.827 1545.65 Q174.656 1549.19 178.267 1549.19 Q181.901 1549.19 183.707 1545.65 Q185.535 1542.09 185.535 1534.98 Q185.535 1527.85 183.707 1524.31 Q181.901 1520.74 178.267 1520.74 M178.267 1517.04 Q184.077 1517.04 187.133 1521.65 Q190.211 1526.23 190.211 1534.98 Q190.211 1543.71 187.133 1548.31 Q184.077 1552.9 178.267 1552.9 Q172.457 1552.9 169.378 1548.31 Q166.323 1543.71 166.323 1534.98 Q166.323 1526.23 169.378 1521.65 Q172.457 1517.04 178.267 1517.04 Z\" fill=\"#000000\" fill-rule=\"evenodd\" fill-opacity=\"1\" /><path clip-path=\"url(#clip380)\" d=\"M190.211 1511.14 L214.323 1511.14 L214.323 1514.34 L190.211 1514.34 L190.211 1511.14 Z\" fill=\"#000000\" fill-rule=\"evenodd\" fill-opacity=\"1\" /><path clip-path=\"url(#clip380)\" d=\"M232.961 1500.04 L223.369 1515.03 L232.961 1515.03 L232.961 1500.04 M231.965 1496.73 L236.742 1496.73 L236.742 1515.03 L240.748 1515.03 L240.748 1518.19 L236.742 1518.19 L236.742 1524.81 L232.961 1524.81 L232.961 1518.19 L220.285 1518.19 L220.285 1514.53 L231.965 1496.73 Z\" fill=\"#000000\" fill-rule=\"evenodd\" fill-opacity=\"1\" /><path clip-path=\"url(#clip380)\" d=\"M499.919 1548.29 L507.558 1548.29 L507.558 1521.92 L499.248 1523.59 L499.248 1519.33 L507.512 1517.66 L512.188 1517.66 L512.188 1548.29 L519.827 1548.29 L519.827 1552.22 L499.919 1552.22 L499.919 1548.29 Z\" fill=\"#000000\" fill-rule=\"evenodd\" fill-opacity=\"1\" /><path clip-path=\"url(#clip380)\" d=\"M539.271 1520.74 Q535.66 1520.74 533.831 1524.31 Q532.026 1527.85 532.026 1534.98 Q532.026 1542.09 533.831 1545.65 Q535.66 1549.19 539.271 1549.19 Q542.905 1549.19 544.711 1545.65 Q546.54 1542.09 546.54 1534.98 Q546.54 1527.85 544.711 1524.31 Q542.905 1520.74 539.271 1520.74 M539.271 1517.04 Q545.081 1517.04 548.137 1521.65 Q551.215 1526.23 551.215 1534.98 Q551.215 1543.71 548.137 1548.31 Q545.081 1552.9 539.271 1552.9 Q533.461 1552.9 530.382 1548.31 Q527.327 1543.71 527.327 1534.98 Q527.327 1526.23 530.382 1521.65 Q533.461 1517.04 539.271 1517.04 Z\" fill=\"#000000\" fill-rule=\"evenodd\" fill-opacity=\"1\" /><path clip-path=\"url(#clip380)\" d=\"M551.215 1511.14 L575.327 1511.14 L575.327 1514.34 L551.215 1514.34 L551.215 1511.14 Z\" fill=\"#000000\" fill-rule=\"evenodd\" fill-opacity=\"1\" /><path clip-path=\"url(#clip380)\" d=\"M595.038 1509.67 Q597.765 1510.26 599.288 1512.1 Q600.83 1513.94 600.83 1516.65 Q600.83 1520.81 597.972 1523.08 Q595.113 1525.36 589.847 1525.36 Q588.079 1525.36 586.198 1525 Q584.336 1524.66 582.342 1523.97 L582.342 1520.3 Q583.922 1521.22 585.803 1521.69 Q587.684 1522.16 589.734 1522.16 Q593.307 1522.16 595.169 1520.75 Q597.05 1519.34 597.05 1516.65 Q597.05 1514.17 595.301 1512.78 Q593.571 1511.37 590.467 1511.37 L587.195 1511.37 L587.195 1508.24 L590.618 1508.24 Q593.42 1508.24 594.906 1507.13 Q596.392 1506.01 596.392 1503.9 Q596.392 1501.74 594.849 1500.59 Q593.326 1499.42 590.467 1499.42 Q588.906 1499.42 587.119 1499.76 Q585.333 1500.1 583.189 1500.82 L583.189 1497.43 Q585.352 1496.83 587.232 1496.53 Q589.132 1496.23 590.806 1496.23 Q595.132 1496.23 597.652 1498.2 Q600.172 1500.16 600.172 1503.51 Q600.172 1505.84 598.837 1507.45 Q597.501 1509.05 595.038 1509.67 Z\" fill=\"#000000\" fill-rule=\"evenodd\" fill-opacity=\"1\" /><path clip-path=\"url(#clip380)\" d=\"M860.848 1548.29 L868.487 1548.29 L868.487 1521.92 L860.177 1523.59 L860.177 1519.33 L868.441 1517.66 L873.117 1517.66 L873.117 1548.29 L880.756 1548.29 L880.756 1552.22 L860.848 1552.22 L860.848 1548.29 Z\" fill=\"#000000\" fill-rule=\"evenodd\" fill-opacity=\"1\" /><path clip-path=\"url(#clip380)\" d=\"M900.2 1520.74 Q896.589 1520.74 894.76 1524.31 Q892.955 1527.85 892.955 1534.98 Q892.955 1542.09 894.76 1545.65 Q896.589 1549.19 900.2 1549.19 Q903.834 1549.19 905.64 1545.65 Q907.468 1542.09 907.468 1534.98 Q907.468 1527.85 905.64 1524.31 Q903.834 1520.74 900.2 1520.74 M900.2 1517.04 Q906.01 1517.04 909.066 1521.65 Q912.144 1526.23 912.144 1534.98 Q912.144 1543.71 909.066 1548.31 Q906.01 1552.9 900.2 1552.9 Q894.39 1552.9 891.311 1548.31 Q888.256 1543.71 888.256 1534.98 Q888.256 1526.23 891.311 1521.65 Q894.39 1517.04 900.2 1517.04 Z\" fill=\"#000000\" fill-rule=\"evenodd\" fill-opacity=\"1\" /><path clip-path=\"url(#clip380)\" d=\"M912.144 1511.14 L936.256 1511.14 L936.256 1514.34 L912.144 1514.34 L912.144 1511.14 Z\" fill=\"#000000\" fill-rule=\"evenodd\" fill-opacity=\"1\" /><path clip-path=\"url(#clip380)\" d=\"M947.729 1521.62 L960.988 1521.62 L960.988 1524.81 L943.158 1524.81 L943.158 1521.62 Q945.321 1519.38 949.045 1515.62 Q952.788 1511.84 953.747 1510.75 Q955.571 1508.7 956.286 1507.29 Q957.02 1505.86 957.02 1504.48 Q957.02 1502.24 955.44 1500.83 Q953.879 1499.42 951.359 1499.42 Q949.572 1499.42 947.578 1500.04 Q945.603 1500.67 943.346 1501.93 L943.346 1498.09 Q945.641 1497.17 947.635 1496.7 Q949.628 1496.23 951.283 1496.23 Q955.647 1496.23 958.242 1498.41 Q960.838 1500.59 960.838 1504.24 Q960.838 1505.97 960.179 1507.53 Q959.54 1509.07 957.828 1511.18 Q957.358 1511.72 954.838 1514.34 Q952.318 1516.93 947.729 1521.62 Z\" fill=\"#000000\" fill-rule=\"evenodd\" fill-opacity=\"1\" /><path clip-path=\"url(#clip380)\" d=\"M1221.24 1548.29 L1228.88 1548.29 L1228.88 1521.92 L1220.57 1523.59 L1220.57 1519.33 L1228.83 1517.66 L1233.51 1517.66 L1233.51 1548.29 L1241.15 1548.29 L1241.15 1552.22 L1221.24 1552.22 L1221.24 1548.29 Z\" fill=\"#000000\" fill-rule=\"evenodd\" fill-opacity=\"1\" /><path clip-path=\"url(#clip380)\" d=\"M1260.59 1520.74 Q1256.98 1520.74 1255.15 1524.31 Q1253.35 1527.85 1253.35 1534.98 Q1253.35 1542.09 1255.15 1545.65 Q1256.98 1549.19 1260.59 1549.19 Q1264.23 1549.19 1266.03 1545.65 Q1267.86 1542.09 1267.86 1534.98 Q1267.86 1527.85 1266.03 1524.31 Q1264.23 1520.74 1260.59 1520.74 M1260.59 1517.04 Q1266.4 1517.04 1269.46 1521.65 Q1272.54 1526.23 1272.54 1534.98 Q1272.54 1543.71 1269.46 1548.31 Q1266.4 1552.9 1260.59 1552.9 Q1254.78 1552.9 1251.7 1548.31 Q1248.65 1543.71 1248.65 1534.98 Q1248.65 1526.23 1251.7 1521.65 Q1254.78 1517.04 1260.59 1517.04 Z\" fill=\"#000000\" fill-rule=\"evenodd\" fill-opacity=\"1\" /><path clip-path=\"url(#clip380)\" d=\"M1272.54 1511.14 L1296.65 1511.14 L1296.65 1514.34 L1272.54 1514.34 L1272.54 1511.14 Z\" fill=\"#000000\" fill-rule=\"evenodd\" fill-opacity=\"1\" /><path clip-path=\"url(#clip380)\" d=\"M1305.51 1521.62 L1311.71 1521.62 L1311.71 1500.19 L1304.96 1501.55 L1304.96 1498.09 L1311.68 1496.73 L1315.48 1496.73 L1315.48 1521.62 L1321.68 1521.62 L1321.68 1524.81 L1305.51 1524.81 L1305.51 1521.62 Z\" fill=\"#000000\" fill-rule=\"evenodd\" fill-opacity=\"1\" /><path clip-path=\"url(#clip380)\" d=\"M1596.65 1548.29 L1604.29 1548.29 L1604.29 1521.92 L1595.98 1523.59 L1595.98 1519.33 L1604.24 1517.66 L1608.92 1517.66 L1608.92 1548.29 L1616.56 1548.29 L1616.56 1552.22 L1596.65 1552.22 L1596.65 1548.29 Z\" fill=\"#000000\" fill-rule=\"evenodd\" fill-opacity=\"1\" /><path clip-path=\"url(#clip380)\" d=\"M1636 1520.74 Q1632.39 1520.74 1630.56 1524.31 Q1628.76 1527.85 1628.76 1534.98 Q1628.76 1542.09 1630.56 1545.65 Q1632.39 1549.19 1636 1549.19 Q1639.64 1549.19 1641.44 1545.65 Q1643.27 1542.09 1643.27 1534.98 Q1643.27 1527.85 1641.44 1524.31 Q1639.64 1520.74 1636 1520.74 M1636 1517.04 Q1641.81 1517.04 1644.87 1521.65 Q1647.95 1526.23 1647.95 1534.98 Q1647.95 1543.71 1644.87 1548.31 Q1641.81 1552.9 1636 1552.9 Q1630.19 1552.9 1627.11 1548.31 Q1624.06 1543.71 1624.06 1534.98 Q1624.06 1526.23 1627.11 1521.65 Q1630.19 1517.04 1636 1517.04 Z\" fill=\"#000000\" fill-rule=\"evenodd\" fill-opacity=\"1\" /><path clip-path=\"url(#clip380)\" d=\"M1657.65 1499.24 Q1654.72 1499.24 1653.23 1502.13 Q1651.77 1505.01 1651.77 1510.8 Q1651.77 1516.58 1653.23 1519.47 Q1654.72 1522.35 1657.65 1522.35 Q1660.61 1522.35 1662.07 1519.47 Q1663.56 1516.58 1663.56 1510.8 Q1663.56 1505.01 1662.07 1502.13 Q1660.61 1499.24 1657.65 1499.24 M1657.65 1496.23 Q1662.37 1496.23 1664.86 1499.97 Q1667.36 1503.69 1667.36 1510.8 Q1667.36 1517.89 1664.86 1521.64 Q1662.37 1525.36 1657.65 1525.36 Q1652.93 1525.36 1650.43 1521.64 Q1647.95 1517.89 1647.95 1510.8 Q1647.95 1503.69 1650.43 1499.97 Q1652.93 1496.23 1657.65 1496.23 Z\" fill=\"#000000\" fill-rule=\"evenodd\" fill-opacity=\"1\" /><path clip-path=\"url(#clip380)\" d=\"M1958.54 1548.29 L1966.18 1548.29 L1966.18 1521.92 L1957.87 1523.59 L1957.87 1519.33 L1966.13 1517.66 L1970.81 1517.66 L1970.81 1548.29 L1978.45 1548.29 L1978.45 1552.22 L1958.54 1552.22 L1958.54 1548.29 Z\" fill=\"#000000\" fill-rule=\"evenodd\" fill-opacity=\"1\" /><path clip-path=\"url(#clip380)\" d=\"M1997.89 1520.74 Q1994.28 1520.74 1992.45 1524.31 Q1990.65 1527.85 1990.65 1534.98 Q1990.65 1542.09 1992.45 1545.65 Q1994.28 1549.19 1997.89 1549.19 Q2001.53 1549.19 2003.33 1545.65 Q2005.16 1542.09 2005.16 1534.98 Q2005.16 1527.85 2003.33 1524.31 Q2001.53 1520.74 1997.89 1520.74 M1997.89 1517.04 Q2003.7 1517.04 2006.76 1521.65 Q2009.84 1526.23 2009.84 1534.98 Q2009.84 1543.71 2006.76 1548.31 Q2003.7 1552.9 1997.89 1552.9 Q1992.08 1552.9 1989 1548.31 Q1985.95 1543.71 1985.95 1534.98 Q1985.95 1526.23 1989 1521.65 Q1992.08 1517.04 1997.89 1517.04 Z\" fill=\"#000000\" fill-rule=\"evenodd\" fill-opacity=\"1\" /><path clip-path=\"url(#clip380)\" d=\"M2010.38 1521.62 L2016.59 1521.62 L2016.59 1500.19 L2009.84 1501.55 L2009.84 1498.09 L2016.55 1496.73 L2020.35 1496.73 L2020.35 1521.62 L2026.56 1521.62 L2026.56 1524.81 L2010.38 1524.81 L2010.38 1521.62 Z\" fill=\"#000000\" fill-rule=\"evenodd\" fill-opacity=\"1\" /><path clip-path=\"url(#clip380)\" d=\"M2318.53 1548.29 L2326.17 1548.29 L2326.17 1521.92 L2317.86 1523.59 L2317.86 1519.33 L2326.12 1517.66 L2330.8 1517.66 L2330.8 1548.29 L2338.44 1548.29 L2338.44 1552.22 L2318.53 1552.22 L2318.53 1548.29 Z\" fill=\"#000000\" fill-rule=\"evenodd\" fill-opacity=\"1\" /><path clip-path=\"url(#clip380)\" d=\"M2357.88 1520.74 Q2354.27 1520.74 2352.44 1524.31 Q2350.63 1527.85 2350.63 1534.98 Q2350.63 1542.09 2352.44 1545.65 Q2354.27 1549.19 2357.88 1549.19 Q2361.51 1549.19 2363.32 1545.65 Q2365.15 1542.09 2365.15 1534.98 Q2365.15 1527.85 2363.32 1524.31 Q2361.51 1520.74 2357.88 1520.74 M2357.88 1517.04 Q2363.69 1517.04 2366.75 1521.65 Q2369.82 1526.23 2369.82 1534.98 Q2369.82 1543.71 2366.75 1548.31 Q2363.69 1552.9 2357.88 1552.9 Q2352.07 1552.9 2348.99 1548.31 Q2345.94 1543.71 2345.94 1534.98 Q2345.94 1526.23 2348.99 1521.65 Q2352.07 1517.04 2357.88 1517.04 Z\" fill=\"#000000\" fill-rule=\"evenodd\" fill-opacity=\"1\" /><path clip-path=\"url(#clip380)\" d=\"M2374.39 1521.62 L2387.65 1521.62 L2387.65 1524.81 L2369.82 1524.81 L2369.82 1521.62 Q2371.99 1519.38 2375.71 1515.62 Q2379.45 1511.84 2380.41 1510.75 Q2382.24 1508.7 2382.95 1507.29 Q2383.69 1505.86 2383.69 1504.48 Q2383.69 1502.24 2382.11 1500.83 Q2380.55 1499.42 2378.02 1499.42 Q2376.24 1499.42 2374.24 1500.04 Q2372.27 1500.67 2370.01 1501.93 L2370.01 1498.09 Q2372.31 1497.17 2374.3 1496.7 Q2376.29 1496.23 2377.95 1496.23 Q2382.31 1496.23 2384.91 1498.41 Q2387.5 1500.59 2387.5 1504.24 Q2387.5 1505.97 2386.85 1507.53 Q2386.21 1509.07 2384.49 1511.18 Q2384.02 1511.72 2381.5 1514.34 Q2378.98 1516.93 2374.39 1521.62 Z\" fill=\"#000000\" fill-rule=\"evenodd\" fill-opacity=\"1\" /><polyline clip-path=\"url(#clip382)\" style=\"stroke:#000000; stroke-linecap:butt; stroke-linejoin:round; stroke-width:2; stroke-opacity:0.1; fill:none\" points=\"\n  189.496,1339.94 2352.76,1339.94 \n  \"/>\n<polyline clip-path=\"url(#clip382)\" style=\"stroke:#000000; stroke-linecap:butt; stroke-linejoin:round; stroke-width:2; stroke-opacity:0.1; fill:none\" points=\"\n  189.496,1026.86 2352.76,1026.86 \n  \"/>\n<polyline clip-path=\"url(#clip382)\" style=\"stroke:#000000; stroke-linecap:butt; stroke-linejoin:round; stroke-width:2; stroke-opacity:0.1; fill:none\" points=\"\n  189.496,713.785 2352.76,713.785 \n  \"/>\n<polyline clip-path=\"url(#clip382)\" style=\"stroke:#000000; stroke-linecap:butt; stroke-linejoin:round; stroke-width:2; stroke-opacity:0.1; fill:none\" points=\"\n  189.496,400.707 2352.76,400.707 \n  \"/>\n<polyline clip-path=\"url(#clip382)\" style=\"stroke:#000000; stroke-linecap:butt; stroke-linejoin:round; stroke-width:2; stroke-opacity:0.1; fill:none\" points=\"\n  189.496,87.6286 2352.76,87.6286 \n  \"/>\n<polyline clip-path=\"url(#clip380)\" style=\"stroke:#000000; stroke-linecap:butt; stroke-linejoin:round; stroke-width:4; stroke-opacity:1; fill:none\" points=\"\n  189.496,1474.16 189.496,47.2441 \n  \"/>\n<polyline clip-path=\"url(#clip380)\" style=\"stroke:#000000; stroke-linecap:butt; stroke-linejoin:round; stroke-width:4; stroke-opacity:1; fill:none\" points=\"\n  189.496,1339.94 208.394,1339.94 \n  \"/>\n<polyline clip-path=\"url(#clip380)\" style=\"stroke:#000000; stroke-linecap:butt; stroke-linejoin:round; stroke-width:4; stroke-opacity:1; fill:none\" points=\"\n  189.496,1026.86 208.394,1026.86 \n  \"/>\n<polyline clip-path=\"url(#clip380)\" style=\"stroke:#000000; stroke-linecap:butt; stroke-linejoin:round; stroke-width:4; stroke-opacity:1; fill:none\" points=\"\n  189.496,713.785 208.394,713.785 \n  \"/>\n<polyline clip-path=\"url(#clip380)\" style=\"stroke:#000000; stroke-linecap:butt; stroke-linejoin:round; stroke-width:4; stroke-opacity:1; fill:none\" points=\"\n  189.496,400.707 208.394,400.707 \n  \"/>\n<polyline clip-path=\"url(#clip380)\" style=\"stroke:#000000; stroke-linecap:butt; stroke-linejoin:round; stroke-width:4; stroke-opacity:1; fill:none\" points=\"\n  189.496,87.6286 208.394,87.6286 \n  \"/>\n<path clip-path=\"url(#clip380)\" d=\"M51.6634 1359.73 L59.3023 1359.73 L59.3023 1333.37 L50.9921 1335.03 L50.9921 1330.77 L59.256 1329.11 L63.9319 1329.11 L63.9319 1359.73 L71.5707 1359.73 L71.5707 1363.67 L51.6634 1363.67 L51.6634 1359.73 Z\" fill=\"#000000\" fill-rule=\"evenodd\" fill-opacity=\"1\" /><path clip-path=\"url(#clip380)\" d=\"M91.0151 1332.19 Q87.404 1332.19 85.5753 1335.75 Q83.7697 1339.29 83.7697 1346.42 Q83.7697 1353.53 85.5753 1357.09 Q87.404 1360.64 91.0151 1360.64 Q94.6493 1360.64 96.4548 1357.09 Q98.2835 1353.53 98.2835 1346.42 Q98.2835 1339.29 96.4548 1335.75 Q94.6493 1332.19 91.0151 1332.19 M91.0151 1328.48 Q96.8252 1328.48 99.8808 1333.09 Q102.959 1337.67 102.959 1346.42 Q102.959 1355.15 99.8808 1359.76 Q96.8252 1364.34 91.0151 1364.34 Q85.2049 1364.34 82.1262 1359.76 Q79.0707 1355.15 79.0707 1346.42 Q79.0707 1337.67 82.1262 1333.09 Q85.2049 1328.48 91.0151 1328.48 Z\" fill=\"#000000\" fill-rule=\"evenodd\" fill-opacity=\"1\" /><path clip-path=\"url(#clip380)\" d=\"M102.959 1322.58 L127.071 1322.58 L127.071 1325.78 L102.959 1325.78 L102.959 1322.58 Z\" fill=\"#000000\" fill-rule=\"evenodd\" fill-opacity=\"1\" /><path clip-path=\"url(#clip380)\" d=\"M145.71 1311.49 L136.118 1326.48 L145.71 1326.48 L145.71 1311.49 M144.713 1308.18 L149.49 1308.18 L149.49 1326.48 L153.496 1326.48 L153.496 1329.64 L149.49 1329.64 L149.49 1336.26 L145.71 1336.26 L145.71 1329.64 L133.033 1329.64 L133.033 1325.97 L144.713 1308.18 Z\" fill=\"#000000\" fill-rule=\"evenodd\" fill-opacity=\"1\" /><path clip-path=\"url(#clip380)\" d=\"M52.585 1046.65 L60.2238 1046.65 L60.2238 1020.29 L51.9137 1021.96 L51.9137 1017.7 L60.1776 1016.03 L64.8535 1016.03 L64.8535 1046.65 L72.4923 1046.65 L72.4923 1050.59 L52.585 1050.59 L52.585 1046.65 Z\" fill=\"#000000\" fill-rule=\"evenodd\" fill-opacity=\"1\" /><path clip-path=\"url(#clip380)\" d=\"M91.9366 1019.11 Q88.3255 1019.11 86.4969 1022.67 Q84.6913 1026.22 84.6913 1033.34 Q84.6913 1040.45 86.4969 1044.02 Q88.3255 1047.56 91.9366 1047.56 Q95.5709 1047.56 97.3764 1044.02 Q99.2051 1040.45 99.2051 1033.34 Q99.2051 1026.22 97.3764 1022.67 Q95.5709 1019.11 91.9366 1019.11 M91.9366 1015.41 Q97.7468 1015.41 100.802 1020.01 Q103.881 1024.59 103.881 1033.34 Q103.881 1042.07 100.802 1046.68 Q97.7468 1051.26 91.9366 1051.26 Q86.1265 1051.26 83.0478 1046.68 Q79.9923 1042.07 79.9923 1033.34 Q79.9923 1024.59 83.0478 1020.01 Q86.1265 1015.41 91.9366 1015.41 Z\" fill=\"#000000\" fill-rule=\"evenodd\" fill-opacity=\"1\" /><path clip-path=\"url(#clip380)\" d=\"M103.881 1009.51 L127.993 1009.51 L127.993 1012.7 L103.881 1012.7 L103.881 1009.51 Z\" fill=\"#000000\" fill-rule=\"evenodd\" fill-opacity=\"1\" /><path clip-path=\"url(#clip380)\" d=\"M147.703 1008.04 Q150.43 1008.62 151.954 1010.47 Q153.496 1012.31 153.496 1015.02 Q153.496 1019.17 150.637 1021.45 Q147.778 1023.73 142.512 1023.73 Q140.744 1023.73 138.863 1023.37 Q137.002 1023.03 135.008 1022.33 L135.008 1018.67 Q136.588 1019.59 138.469 1020.06 Q140.349 1020.53 142.399 1020.53 Q145.973 1020.53 147.835 1019.12 Q149.716 1017.71 149.716 1015.02 Q149.716 1012.53 147.966 1011.14 Q146.236 1009.73 143.133 1009.73 L139.86 1009.73 L139.86 1006.61 L143.283 1006.61 Q146.086 1006.61 147.571 1005.5 Q149.057 1004.37 149.057 1002.27 Q149.057 1000.1 147.515 998.955 Q145.992 997.789 143.133 997.789 Q141.572 997.789 139.785 998.128 Q137.998 998.466 135.854 999.181 L135.854 995.796 Q138.017 995.194 139.898 994.893 Q141.797 994.592 143.471 994.592 Q147.797 994.592 150.317 996.567 Q152.838 998.523 152.838 1001.87 Q152.838 1004.2 151.502 1005.82 Q150.167 1007.42 147.703 1008.04 Z\" fill=\"#000000\" fill-rule=\"evenodd\" fill-opacity=\"1\" /><path clip-path=\"url(#clip380)\" d=\"M53.3561 733.577 L60.995 733.577 L60.995 707.211 L52.6848 708.878 L52.6848 704.619 L60.9487 702.952 L65.6246 702.952 L65.6246 733.577 L73.2634 733.577 L73.2634 737.512 L53.3561 737.512 L53.3561 733.577 Z\" fill=\"#000000\" fill-rule=\"evenodd\" fill-opacity=\"1\" /><path clip-path=\"url(#clip380)\" d=\"M92.7078 706.031 Q89.0967 706.031 87.268 709.596 Q85.4624 713.137 85.4624 720.267 Q85.4624 727.373 87.268 730.938 Q89.0967 734.48 92.7078 734.48 Q96.342 734.48 98.1475 730.938 Q99.9762 727.373 99.9762 720.267 Q99.9762 713.137 98.1475 709.596 Q96.342 706.031 92.7078 706.031 M92.7078 702.327 Q98.5179 702.327 101.573 706.934 Q104.652 711.517 104.652 720.267 Q104.652 728.994 101.573 733.6 Q98.5179 738.183 92.7078 738.183 Q86.8976 738.183 83.8189 733.6 Q80.7634 728.994 80.7634 720.267 Q80.7634 711.517 83.8189 706.934 Q86.8976 702.327 92.7078 702.327 Z\" fill=\"#000000\" fill-rule=\"evenodd\" fill-opacity=\"1\" /><path clip-path=\"url(#clip380)\" d=\"M104.652 696.429 L128.764 696.429 L128.764 699.626 L104.652 699.626 L104.652 696.429 Z\" fill=\"#000000\" fill-rule=\"evenodd\" fill-opacity=\"1\" /><path clip-path=\"url(#clip380)\" d=\"M140.236 706.904 L153.496 706.904 L153.496 710.102 L135.666 710.102 L135.666 706.904 Q137.829 704.666 141.553 700.905 Q145.296 697.124 146.255 696.034 Q148.079 693.984 148.794 692.573 Q149.527 691.144 149.527 689.771 Q149.527 687.532 147.948 686.122 Q146.387 684.711 143.866 684.711 Q142.08 684.711 140.086 685.332 Q138.111 685.953 135.854 687.213 L135.854 683.376 Q138.149 682.454 140.142 681.984 Q142.136 681.514 143.791 681.514 Q148.155 681.514 150.75 683.696 Q153.345 685.877 153.345 689.526 Q153.345 691.256 152.687 692.817 Q152.048 694.36 150.336 696.466 Q149.866 697.012 147.346 699.626 Q144.826 702.221 140.236 706.904 Z\" fill=\"#000000\" fill-rule=\"evenodd\" fill-opacity=\"1\" /><path clip-path=\"url(#clip380)\" d=\"M53.0552 420.499 L60.694 420.499 L60.694 394.133 L52.3839 395.8 L52.3839 391.541 L60.6477 389.874 L65.3236 389.874 L65.3236 420.499 L72.9625 420.499 L72.9625 424.434 L53.0552 424.434 L53.0552 420.499 Z\" fill=\"#000000\" fill-rule=\"evenodd\" fill-opacity=\"1\" /><path clip-path=\"url(#clip380)\" d=\"M92.4068 392.953 Q88.7957 392.953 86.967 396.518 Q85.1615 400.059 85.1615 407.189 Q85.1615 414.295 86.967 417.86 Q88.7957 421.402 92.4068 421.402 Q96.0411 421.402 97.8466 417.86 Q99.6753 414.295 99.6753 407.189 Q99.6753 400.059 97.8466 396.518 Q96.0411 392.953 92.4068 392.953 M92.4068 389.249 Q98.217 389.249 101.273 393.856 Q104.351 398.439 104.351 407.189 Q104.351 415.916 101.273 420.522 Q98.217 425.105 92.4068 425.105 Q86.5967 425.105 83.518 420.522 Q80.4625 415.916 80.4625 407.189 Q80.4625 398.439 83.518 393.856 Q86.5967 389.249 92.4068 389.249 Z\" fill=\"#000000\" fill-rule=\"evenodd\" fill-opacity=\"1\" /><path clip-path=\"url(#clip380)\" d=\"M104.351 383.351 L128.463 383.351 L128.463 386.548 L104.351 386.548 L104.351 383.351 Z\" fill=\"#000000\" fill-rule=\"evenodd\" fill-opacity=\"1\" /><path clip-path=\"url(#clip380)\" d=\"M137.321 393.826 L143.528 393.826 L143.528 372.404 L136.776 373.759 L136.776 370.298 L143.49 368.944 L147.289 368.944 L147.289 393.826 L153.496 393.826 L153.496 397.024 L137.321 397.024 L137.321 393.826 Z\" fill=\"#000000\" fill-rule=\"evenodd\" fill-opacity=\"1\" /><path clip-path=\"url(#clip380)\" d=\"M82.7903 107.421 L90.4291 107.421 L90.4291 81.0555 L82.119 82.7221 L82.119 78.4629 L90.3828 76.7962 L95.0587 76.7962 L95.0587 107.421 L102.698 107.421 L102.698 111.356 L82.7903 111.356 L82.7903 107.421 Z\" fill=\"#000000\" fill-rule=\"evenodd\" fill-opacity=\"1\" /><path clip-path=\"url(#clip380)\" d=\"M122.142 79.8749 Q118.531 79.8749 116.702 83.4397 Q114.897 86.9814 114.897 94.111 Q114.897 101.217 116.702 104.782 Q118.531 108.324 122.142 108.324 Q125.776 108.324 127.582 104.782 Q129.41 101.217 129.41 94.111 Q129.41 86.9814 127.582 83.4397 Q125.776 79.8749 122.142 79.8749 M122.142 76.1712 Q127.952 76.1712 131.008 80.7777 Q134.086 85.361 134.086 94.111 Q134.086 102.838 131.008 107.444 Q127.952 112.028 122.142 112.028 Q116.332 112.028 113.253 107.444 Q110.198 102.838 110.198 94.111 Q110.198 85.361 113.253 80.7777 Q116.332 76.1712 122.142 76.1712 Z\" fill=\"#000000\" fill-rule=\"evenodd\" fill-opacity=\"1\" /><path clip-path=\"url(#clip380)\" d=\"M143.791 58.3673 Q140.857 58.3673 139.371 61.2637 Q137.904 64.1413 137.904 69.9341 Q137.904 75.708 139.371 78.6044 Q140.857 81.482 143.791 81.482 Q146.744 81.482 148.211 78.6044 Q149.697 75.708 149.697 69.9341 Q149.697 64.1413 148.211 61.2637 Q146.744 58.3673 143.791 58.3673 M143.791 55.358 Q148.512 55.358 150.994 59.1008 Q153.496 62.8247 153.496 69.9341 Q153.496 77.0246 150.994 80.7673 Q148.512 84.4913 143.791 84.4913 Q139.07 84.4913 136.569 80.7673 Q134.086 77.0246 134.086 69.9341 Q134.086 62.8247 136.569 59.1008 Q139.07 55.358 143.791 55.358 Z\" fill=\"#000000\" fill-rule=\"evenodd\" fill-opacity=\"1\" /><polyline clip-path=\"url(#clip382)\" style=\"stroke:#009af9; stroke-linecap:butt; stroke-linejoin:round; stroke-width:4; stroke-opacity:1; fill:none\" points=\"\n  189.496,87.6286 203.58,87.6286 333.807,87.6287 412.068,87.6288 478.236,87.6289 550.114,87.6293 616.379,87.6302 687.422,87.6326 769.732,87.6399 842.88,87.6573 \n  907.024,87.6936 976.958,87.7873 1047.31,88.0184 1125.09,88.6809 1199.09,90.3351 1237.57,92.05 1276.04,94.8486 1308.43,98.5332 1340.82,104.087 1380.36,114.795 \n  1419.9,132.359 1438.49,144.104 1457.07,158.857 1475.66,177.347 1494.24,200.456 1509.13,223.008 1524.02,249.837 1538.9,281.666 1553.79,319.311 1561.23,340.596 \n  1568.68,363.683 1576.12,388.703 1583.57,415.79 1591.01,445.086 1598.45,476.737 1605.9,510.897 1613.34,547.724 1617.92,571.791 1622.5,596.97 1627.09,623.302 \n  1631.67,650.827 \n  \"/>\n<polyline clip-path=\"url(#clip382)\" style=\"stroke:#e26f46; stroke-linecap:butt; stroke-linejoin:round; stroke-width:4; stroke-opacity:1; fill:none\" points=\"\n  189.496,87.6286 210.622,87.6286 405.962,87.6286 523.354,87.6286 622.607,87.6287 730.423,87.6287 829.821,87.6289 936.385,87.6296 1059.85,87.6332 1169.57,87.6472 \n  1265.79,87.692 1370.69,87.869 1476.21,88.532 1592.88,91.2807 1703.89,99.5257 1761.61,108.044 1819.32,121.109 1867.9,136.985 1916.48,158.955 1946.14,176.247 \n  1975.79,197.216 2005.45,222.616 2035.1,253.362 2062.98,288.123 2090.86,329.689 2118.74,379.38 2146.61,438.775 2168.95,494.612 2191.28,559.019 2213.61,633.306 \n  2235.94,718.988 2258.27,817.81 2280.6,931.785 2291.77,995.167 2302.93,1063.24 2314.1,1136.34 2325.26,1214.84 2332.14,1266.03 2339.01,1319.51 2345.88,1375.39 \n  2352.76,1433.78 \n  \"/>\n<path clip-path=\"url(#clip380)\" d=\"\nM1875.98 250.328 L2280.65 250.328 L2280.65 94.8081 L1875.98 94.8081  Z\n  \" fill=\"#ffffff\" fill-rule=\"evenodd\" fill-opacity=\"1\"/>\n<polyline clip-path=\"url(#clip380)\" style=\"stroke:#000000; stroke-linecap:butt; stroke-linejoin:round; stroke-width:4; stroke-opacity:1; fill:none\" points=\"\n  1875.98,250.328 2280.65,250.328 2280.65,94.8081 1875.98,94.8081 1875.98,250.328 \n  \"/>\n<polyline clip-path=\"url(#clip380)\" style=\"stroke:#009af9; stroke-linecap:butt; stroke-linejoin:round; stroke-width:4; stroke-opacity:1; fill:none\" points=\"\n  1899.98,146.648 2043.98,146.648 \n  \"/>\n<path clip-path=\"url(#clip380)\" d=\"M2087.8 145.794 Q2087.8 149.729 2086.53 154.156 Q2085.29 158.56 2083.32 162.12 Q2081.36 165.657 2078.78 167.999 Q2076.2 170.318 2073.74 170.318 Q2072.17 170.318 2071 169.451 Q2069.85 168.561 2069.22 167.085 Q2068.59 165.586 2068.29 163.947 Q2067.98 162.284 2067.98 160.48 Q2067.98 157.787 2068.57 154.859 Q2069.15 151.908 2070.14 149.237 Q2071.12 146.544 2072.5 144.108 Q2073.88 141.649 2075.41 139.868 Q2076.95 138.065 2078.69 137.011 Q2080.42 135.957 2082.03 135.957 Q2083.21 135.957 2084.14 136.472 Q2085.1 136.964 2085.71 137.831 Q2086.32 138.674 2086.74 139.681 Q2087.19 140.688 2087.4 141.859 Q2087.61 143.007 2087.7 143.967 Q2087.8 144.904 2087.8 145.794 M2084.63 142.82 Q2084.63 141.625 2084.54 140.735 Q2084.45 139.822 2084.19 138.908 Q2083.93 137.995 2083.37 137.503 Q2082.83 137.011 2081.99 137.011 Q2079.53 137.011 2076.76 142.047 Q2075.87 143.616 2075.08 145.747 Q2074.28 147.879 2074 148.886 Q2073.72 149.893 2073.06 152.376 L2083.09 152.376 Q2084.63 145.982 2084.63 142.82 M2082.67 153.898 L2072.69 153.898 Q2071.14 159.754 2071.14 163.408 Q2071.14 166.593 2071.8 167.928 Q2072.48 169.24 2073.74 169.24 Q2075.2 169.24 2076.55 167.788 Q2077.91 166.312 2079.29 163.642 Q2081.12 160.176 2082.67 153.898 Z\" fill=\"#000000\" fill-rule=\"evenodd\" fill-opacity=\"1\" /><path clip-path=\"url(#clip380)\" d=\"M2103.55 162.494 Q2103.6 161.909 2104.51 161.909 L2133.91 161.909 Q2135.29 161.909 2135.31 162.448 Q2135.31 163.033 2134 163.01 L2104.84 163.01 Q2103.55 163.033 2103.55 162.494 M2103.55 153.126 Q2103.55 152.54 2104.56 152.563 L2133.86 152.563 Q2135.29 152.563 2135.31 153.126 Q2135.31 153.664 2134.09 153.664 L2104.51 153.664 Q2103.55 153.664 2103.55 153.126 Z\" fill=\"#000000\" fill-rule=\"evenodd\" fill-opacity=\"1\" /><path clip-path=\"url(#clip380)\" d=\"M2153.8 154.437 Q2153.8 147.387 2155.58 143.546 Q2158.07 137.831 2163.92 137.831 Q2165.16 137.831 2166.45 138.182 Q2167.76 138.51 2169.4 139.798 Q2171.07 141.086 2172.07 143.194 Q2173.99 147.27 2173.99 154.437 Q2173.99 161.44 2172.21 165.258 Q2169.61 170.833 2163.87 170.833 Q2161.72 170.833 2159.52 169.732 Q2157.34 168.631 2155.96 165.984 Q2153.8 162.026 2153.8 154.437 M2157.79 153.852 Q2157.79 161.089 2158.3 163.97 Q2158.89 167.085 2160.48 168.444 Q2162.09 169.779 2163.87 169.779 Q2165.8 169.779 2167.39 168.35 Q2169 166.898 2169.5 163.783 Q2170.03 160.714 2170.01 153.852 Q2170.01 147.176 2169.54 144.506 Q2168.91 141.391 2167.22 140.149 Q2165.56 138.885 2163.87 138.885 Q2163.24 138.885 2162.56 139.072 Q2161.91 139.259 2160.95 139.798 Q2159.99 140.337 2159.24 141.672 Q2158.51 143.007 2158.16 145.021 Q2157.79 147.621 2157.79 153.852 Z\" fill=\"#000000\" fill-rule=\"evenodd\" fill-opacity=\"1\" /><path clip-path=\"url(#clip380)\" d=\"M2178.28 169.006 Q2177.55 168.233 2177.55 167.226 Q2177.55 166.219 2178.28 165.493 Q2179.01 164.743 2180.11 164.743 Q2181.16 164.743 2181.86 165.446 Q2182.59 166.125 2182.59 167.249 Q2182.59 168.35 2181.82 169.076 Q2181.07 169.779 2180.11 169.779 Q2179.01 169.779 2178.28 169.006 Z\" fill=\"#000000\" fill-rule=\"evenodd\" fill-opacity=\"1\" /><path clip-path=\"url(#clip380)\" d=\"M2185.88 142.398 L2185.88 140.899 Q2191.64 140.899 2194.61 137.831 Q2195.43 137.831 2195.57 138.018 Q2195.71 138.205 2195.71 139.072 L2195.71 165.984 Q2195.71 167.413 2196.42 167.858 Q2197.12 168.303 2200.19 168.303 L2201.71 168.303 L2201.71 169.779 Q2200.02 169.638 2193.93 169.638 Q2187.84 169.638 2186.18 169.779 L2186.18 168.303 L2187.7 168.303 Q2190.72 168.303 2191.45 167.882 Q2192.18 167.437 2192.18 165.984 L2192.18 141.133 Q2189.67 142.398 2185.88 142.398 Z\" fill=\"#000000\" fill-rule=\"evenodd\" fill-opacity=\"1\" /><polyline clip-path=\"url(#clip380)\" style=\"stroke:#e26f46; stroke-linecap:butt; stroke-linejoin:round; stroke-width:4; stroke-opacity:1; fill:none\" points=\"\n  1899.98,198.488 2043.98,198.488 \n  \"/>\n<path clip-path=\"url(#clip380)\" d=\"M2087.8 197.634 Q2087.8 201.569 2086.53 205.996 Q2085.29 210.4 2083.32 213.96 Q2081.36 217.497 2078.78 219.839 Q2076.2 222.158 2073.74 222.158 Q2072.17 222.158 2071 221.291 Q2069.85 220.401 2069.22 218.925 Q2068.59 217.426 2068.29 215.787 Q2067.98 214.124 2067.98 212.32 Q2067.98 209.627 2068.57 206.699 Q2069.15 203.748 2070.14 201.077 Q2071.12 198.384 2072.5 195.948 Q2073.88 193.489 2075.41 191.708 Q2076.95 189.905 2078.69 188.851 Q2080.42 187.797 2082.03 187.797 Q2083.21 187.797 2084.14 188.312 Q2085.1 188.804 2085.71 189.671 Q2086.32 190.514 2086.74 191.521 Q2087.19 192.528 2087.4 193.699 Q2087.61 194.847 2087.7 195.807 Q2087.8 196.744 2087.8 197.634 M2084.63 194.66 Q2084.63 193.465 2084.54 192.575 Q2084.45 191.662 2084.19 190.748 Q2083.93 189.835 2083.37 189.343 Q2082.83 188.851 2081.99 188.851 Q2079.53 188.851 2076.76 193.887 Q2075.87 195.456 2075.08 197.587 Q2074.28 199.719 2074 200.726 Q2073.72 201.733 2073.06 204.216 L2083.09 204.216 Q2084.63 197.822 2084.63 194.66 M2082.67 205.738 L2072.69 205.738 Q2071.14 211.594 2071.14 215.248 Q2071.14 218.433 2071.8 219.768 Q2072.48 221.08 2073.74 221.08 Q2075.2 221.08 2076.55 219.628 Q2077.91 218.152 2079.29 215.482 Q2081.12 212.016 2082.67 205.738 Z\" fill=\"#000000\" fill-rule=\"evenodd\" fill-opacity=\"1\" /><path clip-path=\"url(#clip380)\" d=\"M2103.55 214.334 Q2103.6 213.749 2104.51 213.749 L2133.91 213.749 Q2135.29 213.749 2135.31 214.288 Q2135.31 214.873 2134 214.85 L2104.84 214.85 Q2103.55 214.873 2103.55 214.334 M2103.55 204.966 Q2103.55 204.38 2104.56 204.403 L2133.86 204.403 Q2135.29 204.403 2135.31 204.966 Q2135.31 205.504 2134.09 205.504 L2104.51 205.504 Q2103.55 205.504 2103.55 204.966 Z\" fill=\"#000000\" fill-rule=\"evenodd\" fill-opacity=\"1\" /><path clip-path=\"url(#clip380)\" d=\"M2153.8 194.238 L2153.8 192.739 Q2159.57 192.739 2162.54 189.671 Q2163.36 189.671 2163.5 189.858 Q2163.64 190.045 2163.64 190.912 L2163.64 217.824 Q2163.64 219.253 2164.34 219.698 Q2165.05 220.143 2168.11 220.143 L2169.64 220.143 L2169.64 221.619 Q2167.95 221.478 2161.86 221.478 Q2155.77 221.478 2154.11 221.619 L2154.11 220.143 L2155.63 220.143 Q2158.65 220.143 2159.38 219.722 Q2160.1 219.277 2160.1 217.824 L2160.1 192.973 Q2157.6 194.238 2153.8 194.238 Z\" fill=\"#000000\" fill-rule=\"evenodd\" fill-opacity=\"1\" /><path clip-path=\"url(#clip380)\" d=\"M2171.95 206.277 Q2171.95 199.227 2173.73 195.386 Q2176.21 189.671 2182.07 189.671 Q2183.31 189.671 2184.6 190.022 Q2185.91 190.35 2187.55 191.638 Q2189.21 192.926 2190.22 195.034 Q2192.14 199.11 2192.14 206.277 Q2192.14 213.28 2190.36 217.098 Q2187.76 222.673 2182.02 222.673 Q2179.87 222.673 2177.67 221.572 Q2175.49 220.471 2174.11 217.824 Q2171.95 213.866 2171.95 206.277 M2175.93 205.692 Q2175.93 212.929 2176.45 215.81 Q2177.03 218.925 2178.63 220.284 Q2180.24 221.619 2182.02 221.619 Q2183.94 221.619 2185.54 220.19 Q2187.15 218.738 2187.64 215.623 Q2188.18 212.554 2188.16 205.692 Q2188.16 199.016 2187.69 196.346 Q2187.06 193.231 2185.37 191.989 Q2183.71 190.725 2182.02 190.725 Q2181.39 190.725 2180.71 190.912 Q2180.05 191.099 2179.09 191.638 Q2178.13 192.177 2177.38 193.512 Q2176.66 194.847 2176.31 196.861 Q2175.93 199.461 2175.93 205.692 Z\" fill=\"#000000\" fill-rule=\"evenodd\" fill-opacity=\"1\" /><path clip-path=\"url(#clip380)\" d=\"M2196.43 220.846 Q2195.7 220.073 2195.7 219.066 Q2195.7 218.059 2196.43 217.333 Q2197.15 216.583 2198.25 216.583 Q2199.31 216.583 2200.01 217.286 Q2200.74 217.965 2200.74 219.089 Q2200.74 220.19 2199.96 220.916 Q2199.21 221.619 2198.25 221.619 Q2197.15 221.619 2196.43 220.846 Z\" fill=\"#000000\" fill-rule=\"evenodd\" fill-opacity=\"1\" /><path clip-path=\"url(#clip380)\" d=\"M2208.9 206.277 Q2208.9 199.227 2210.68 195.386 Q2213.16 189.671 2219.02 189.671 Q2220.26 189.671 2221.55 190.022 Q2222.86 190.35 2224.5 191.638 Q2226.16 192.926 2227.17 195.034 Q2229.09 199.11 2229.09 206.277 Q2229.09 213.28 2227.31 217.098 Q2224.71 222.673 2218.97 222.673 Q2216.81 222.673 2214.61 221.572 Q2212.43 220.471 2211.05 217.824 Q2208.9 213.866 2208.9 206.277 M2212.88 205.692 Q2212.88 212.929 2213.39 215.81 Q2213.98 218.925 2215.57 220.284 Q2217.19 221.619 2218.97 221.619 Q2220.89 221.619 2222.48 220.19 Q2224.1 218.738 2224.59 215.623 Q2225.13 212.554 2225.11 205.692 Q2225.11 199.016 2224.64 196.346 Q2224 193.231 2222.32 191.989 Q2220.66 190.725 2218.97 190.725 Q2218.34 190.725 2217.66 190.912 Q2217 191.099 2216.04 191.638 Q2215.08 192.177 2214.33 193.512 Q2213.61 194.847 2213.25 196.861 Q2212.88 199.461 2212.88 205.692 Z\" fill=\"#000000\" fill-rule=\"evenodd\" fill-opacity=\"1\" /></svg>\n"
     },
     "execution_count": 5,
     "metadata": {},
     "output_type": "execute_result"
    }
   ],
   "source": [
    "#f_r(p,θ) = exp((1 - sqrt(1+p^2))/θ) \n",
    "f_r(p,θ) = exp((1 - sqrt(1+p^2))/θ) \n",
    "f_r_max(θ) = 1\n",
    "Plots.plot(u -> f_r(u,0.1)\n",
    ", xscale=:log10, yscale=:log10, xlim=(0.0001,1)\n",
    ", label=L\"\\theta = 0.1\")\n",
    "Plots.plot!(u -> f_r(u,10.)\n",
    ", xscale=:log10, yscale=:log10, xlim=(0.0001,100)\n",
    ", label=L\"\\theta = 10.0\")"
   ]
  },
  {
   "cell_type": "markdown",
   "metadata": {},
   "source": [
    "### Relativistic distributions\n",
    "\n",
    "#### Small momentum\n",
    "\n",
    "If $p$ is small we have,\n",
    "\n",
    "$$\n",
    "\\frac{(1 - \\sqrt{1 + p^2})}{\\theta} \\approx -\\frac{1}{2}\\frac{p^2}{\\theta}\n",
    "$$\n",
    "\n",
    "Therefore, for small $p$ we need to take an interval of about $p = \\sqrt{10*2*\\theta}$\n",
    "\n",
    "If $p$ is larger than 1, then,\n",
    "\n",
    "$$\n",
    "\\frac{(1 - \\sqrt{1 + p^2})}{\\theta} \\approx -\\frac{p}{\\theta}\n",
    "$$\n",
    "\n",
    "Thus, in this case we need to take an interval of about $p = 1 + 10*\\theta$"
   ]
  },
  {
   "cell_type": "code",
   "execution_count": 6,
   "metadata": {},
   "outputs": [],
   "source": [
    "damped = false\n",
    "undamped = false\n",
    "damped = true\n",
    "#undamped = true\n",
    "\n",
    "#N = 8_000_000\n",
    "N = 800_000\n",
    "#N = 80_000\n",
    "\n",
    "if undamped\n",
    "    L= 39.738 \n",
    "    m = 2\n",
    "elseif damped\n",
    "    L = 7.455\n",
    "    m = 15 # 12, 15, 19\n",
    "end\n",
    "\n",
    "k = 2π*m/L # this here is k, not \\hat{k}\n",
    "α = 0.01 # 0.01\n",
    "θ = 0.001 # 0.001\n",
    "par_init = (α, k)\n",
    "\n",
    "function f(x,par_init) \n",
    "    α, k = par_init\n",
    "    return 1 + α *cos(k*x)\n",
    "end\n",
    "\n",
    "function f_max(par_init)\n",
    "    α, k = par_init\n",
    "    return 1+α\n",
    "end\n",
    "\n",
    "interval = (0., L)\n",
    "r = zeros(N)\n",
    "for i in 1:N\n",
    "    r[i] = random_sampling_from_distribution(f,f_max,par_init,interval)\n",
    "end\n",
    "\n",
    "p_max = 1 + 10*θ\n",
    "#p_max = sqrt(20*θ)\n",
    "int = (0, p_max)\n",
    "vp = zeros(N÷2)\n",
    "\n",
    "par_r = θ \n",
    "\n",
    "for i in 1:N÷2\n",
    "    vp[i] = random_sampling_from_distribution(f_r,f_r_max,par_r,int)\n",
    "end\n",
    "u = [r; vp; -vp];"
   ]
  },
  {
   "cell_type": "code",
   "execution_count": null,
   "metadata": {},
   "outputs": [],
   "source": [
    "histogram([vp;-vp])"
   ]
  },
  {
   "cell_type": "code",
   "execution_count": 7,
   "metadata": {},
   "outputs": [],
   "source": [
    "if damped \n",
    "    #save(\"Initial_Distributions/par_dis_8_4_damped_rel.jld2\", \"par_dis\", u)\n",
    "    save(\"Initial_Distributions/par_dis_8_5_damped_rel.jld2\", \"par_dis\", u)\n",
    "    #save(\"Initial_Distributions/par_dis_8_6_damped_rel.jld2\", \"par_dis\", u)\n",
    "    #save(\"Initial_Distributions/par_dis_8_5_abig_damped_rel.jld2\", \"par_dis\", u)\n",
    "elseif undamped\n",
    "    #save(\"Initial_Distributions/par_dis_8_6_undamped_rel.jld2\", \"par_dis\", u)\n",
    "    #save(\"Initial_Distributions/par_dis_8_6_abig_undamped_rel.jld2\", \"par_dis\", u)\n",
    "end"
   ]
  }
 ],
 "metadata": {
  "kernelspec": {
   "display_name": "Julia 1.7.2",
   "language": "julia",
   "name": "julia-1.7"
  },
  "language_info": {
   "file_extension": ".jl",
   "mimetype": "application/julia",
   "name": "julia",
   "version": "1.7.2"
  }
 },
 "nbformat": 4,
 "nbformat_minor": 4
}
