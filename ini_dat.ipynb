{
 "cells": [
  {
   "cell_type": "markdown",
   "metadata": {},
   "source": [
    "## Play-ground to make initial data distributions."
   ]
  },
  {
   "cell_type": "code",
   "execution_count": null,
   "metadata": {},
   "outputs": [],
   "source": [
    "#import Pkg; Pkg.add(\"FileIO\")\n",
    "using Distributions\n",
    "using Plots\n",
    "using FileIO\n",
    "using JLD2\n",
    "using LaTeXStrings\n",
    "#Pkg.instantiate()"
   ]
  },
  {
   "cell_type": "markdown",
   "metadata": {},
   "source": [
    "### This is a Maxwellinan distribution (3D) centered around v=0 and with m/kT = 1"
   ]
  },
  {
   "cell_type": "code",
   "execution_count": null,
   "metadata": {},
   "outputs": [],
   "source": [
    "d  = LocationScale(0.0,1.,Chi(3))\n",
    "data = rand(d,20000);\n",
    "histogram(data)"
   ]
  },
  {
   "cell_type": "markdown",
   "metadata": {},
   "source": [
    "The 1D distribution for $\\frac{m}{kT} = 1$ is just the normal distribution centered at both $\\pm v_p$. With $\\sigma = 1$.\n"
   ]
  },
  {
   "cell_type": "code",
   "execution_count": null,
   "metadata": {},
   "outputs": [],
   "source": [
    "N = 40000\n",
    "vb = -10\n",
    "\n",
    "data_n = [rand(Normal(-vb,1),N÷2); rand(Normal(vb,1),N÷2)]  #.+ rand(Normal(-1,1),20000)\n",
    "histogram(data_n, bins=:scott, weights=repeat(1:80, outer=500))"
   ]
  },
  {
   "cell_type": "markdown",
   "metadata": {},
   "source": [
    "### This is the distribution on the course, just to check that it is the same... \n",
    "\n",
    "I should apply some statistics here and check different momenta :-)"
   ]
  },
  {
   "cell_type": "code",
   "execution_count": null,
   "metadata": {},
   "outputs": [],
   "source": [
    "\"\"\"The following routine returns a random velocity distributed on a double Maxwellian distribution function \n",
    "corresponding to two counter-streaming beams. The algorithm used to achieve this is called the rejection method, \n",
    "and will be discussed later in this course.\n",
    "\n",
    "  // Function to distribute electron velocities randomly so as \n",
    "  // to generate two counter propagating warm beams of thermal\n",
    "  // velocities unity and mean velocities +/- vb.\n",
    "  // Uses rejection method.\n",
    "\"\"\"\n",
    "function distribution_stream(vb)\n",
    "  #Generate random v value\n",
    "  fmax = 0.5 * (1. + exp(-2.0 * vb * vb));\n",
    "  vmin = - 5.0 * vb;\n",
    "  vmax = + 5.0 * vb;\n",
    "  v = vmin + (vmax - vmin) * (rand());\n",
    "\n",
    "  #  Accept/reject value\n",
    "  f = 0.5 * (exp(-(v - vb) * (v - vb) / 2.0) + exp(-(v + vb) * (v + vb) / 2.0))\n",
    "  x = fmax * rand()\n",
    "  if (x > f) return distribution_stream(vb)\n",
    "  else return v\n",
    "  end\n",
    "end"
   ]
  },
  {
   "cell_type": "code",
   "execution_count": null,
   "metadata": {},
   "outputs": [],
   "source": [
    "v = zeros(N)\n",
    "for i in 1:N\n",
    "    v[i] = distribution_stream(vb)\n",
    "end"
   ]
  },
  {
   "cell_type": "code",
   "execution_count": null,
   "metadata": {},
   "outputs": [],
   "source": [
    "histogram(v, bins=:scott, weights=repeat(1:80, outer=500))"
   ]
  },
  {
   "cell_type": "markdown",
   "metadata": {},
   "source": [
    "At first sigth they look very similar...."
   ]
  },
  {
   "cell_type": "markdown",
   "metadata": {},
   "source": [
    "We now make and save some distributions to use as standard ones."
   ]
  },
  {
   "cell_type": "code",
   "execution_count": null,
   "metadata": {},
   "outputs": [],
   "source": [
    "L = 100 #length of integration region\n",
    "#N = 200000\n",
    "N = 80000 #even number\n",
    "vb = 3\n",
    "\n",
    "r = L*rand(N);\n",
    "vp = rand(Normal(vb,1),N÷2);\n",
    "u = [r; -vp; vp];\n",
    "\n",
    "#save(\"Initial_Distributions/par_dis_L100_N8_5_vp_3.jld2\", \"par_dis\", u)"
   ]
  },
  {
   "cell_type": "markdown",
   "metadata": {},
   "source": [
    "## Thermal Distributions\n",
    "\n",
    "$$\n",
    "f(x,v) = \\frac{N}{L} \\frac{1}{\\sqrt{2\\pi \\theta}} e^{-\\frac{v^2}{2\\theta}}\n",
    "$$\n",
    "\n",
    "Thus, $\\theta = \\sigma^2$ is the variance of the distribution.\n",
    "\n",
    "### Relativistic version\n",
    "\n",
    "$$\n",
    "f(x,v) = \\frac{N}{L} \\frac{1}{\\sqrt{2\\pi \\theta}} e^{-\\frac{v^2}{2\\theta}}\n",
    "$$"
   ]
  },
  {
   "cell_type": "code",
   "execution_count": null,
   "metadata": {},
   "outputs": [],
   "source": [
    "L = 5 #length of integration region\n",
    "#N = 200000\n",
    "N = 80000 #even number\n",
    "θ = 0.01\n",
    "\n",
    "r = L*rand(N);\n",
    "vp = rand(Normal(0,sqrt(θ)),N);\n",
    "u = [r; vp];"
   ]
  },
  {
   "cell_type": "code",
   "execution_count": null,
   "metadata": {},
   "outputs": [],
   "source": [
    "mean(vp)\n",
    "var(vp)"
   ]
  },
  {
   "cell_type": "code",
   "execution_count": null,
   "metadata": {},
   "outputs": [],
   "source": [
    "histogram(vp)"
   ]
  },
  {
   "cell_type": "code",
   "execution_count": null,
   "metadata": {},
   "outputs": [],
   "source": [
    "save(\"Initial_Distributions/par_dis_L5_N8_5_theta01.jld2\", \"par_dis\", u)\n",
    "#save(\"Initial_Distributions/par_dis_L5_N2_5_theta001.jld2\", \"par_dis\", u)\n",
    "#save(\"Initial_Distributions/par_dis_L5_N2_5_theta0001.jld2\", \"par_dis\", u)\n",
    "#save(\"Initial_Distributions/par_dis_L5_N2_5_theta00001.jld2\", \"par_dis\", u)\n"
   ]
  },
  {
   "cell_type": "markdown",
   "metadata": {},
   "source": [
    "## Landau Damping ##\n",
    "\n",
    "The initial distribution is: \n",
    "\n",
    "$$\n",
    "f(x,v,\\alpha, k, \\theta) = \\frac{1}{\\sqrt{2\\pi \\theta}} e^{-\\frac{v^2}{2\\theta}} (1 + \\alpha cos(kx) )\n",
    "$$\n",
    "\n",
    "Since it is a product we can split into two distributions one for the position and one for the velocity.\n",
    "The one for the velocity we already have, so we need to make only the random sampling of the spatial one. \n",
    "\n",
    "Some definitions $\\hat{k} = k / k_D = k * \\sqrt{\\theta}$ Or $k = \\hat{k} / \\sqrt{\\theta}$ \n",
    "\n",
    "In these simulations, $\\theta = 10^{-3}$ $\\sqrt{\\theta} = 0.03162$\n",
    "\n",
    "Thus to $\\hat{k} = 0.01$ corresponds a $\\lambda = 2\\pi * \\sqrt{\\theta} / \\hat{k} = 19.869$\n",
    "\n",
    "For $\\hat{k} = 0.40$ corresponds a $\\lambda = 0.497$\n",
    "\n",
    "For the first case an $L = 2 \\lambda = 39.738$ is used and $J = 1761*2 = 3522$, $dx = L/J = 0.0112$\n",
    "\n",
    "For the second $L=15*\\lambda = 7.455$ is used and $J = 62 * 15 = 930$, $dx = 0.0080$"
   ]
  },
  {
   "cell_type": "code",
   "execution_count": null,
   "metadata": {},
   "outputs": [],
   "source": [
    "7.455 / (62 * 15)"
   ]
  },
  {
   "cell_type": "markdown",
   "metadata": {},
   "source": []
  },
  {
   "cell_type": "code",
   "execution_count": null,
   "metadata": {},
   "outputs": [],
   "source": [
    "\"\"\"The following routine returns a random sample according to a given distribution function.\n",
    " The algorithm used to achieve this is called the rejection method.\n",
    " f is the distribution function and p are its parameters. We need also\n",
    " f_max which is a function of p, and the interval of the sampling region\n",
    " int = (x_min,x_max)\n",
    "\"\"\"\n",
    "function random_sampling_from_distribution(f,f_max,p,interval)\n",
    "  (x_max,x_min) = interval\n",
    "  fmax = f_max(p)\n",
    "  x = x_min + (x_max - x_min) * (rand());\n",
    "  #  Accept/reject value\n",
    "  f_v = f(x,p)\n",
    "  x_t = fmax * rand()\n",
    "  if (x_t > f_v) return random_sampling_from_distribution(f,f_max,p,interval)\n",
    "  else return x\n",
    "  end\n",
    "end"
   ]
  },
  {
   "cell_type": "code",
   "execution_count": null,
   "metadata": {},
   "outputs": [],
   "source": [
    "damped = false\n",
    "undamped = false\n",
    "damped = true\n",
    "#undamped = true\n",
    "\n",
    "#N = 8_000_000\n",
    "N = 800_000\n",
    "N = 80_000\n",
    "\n",
    "if undamped\n",
    "    L= 39.738 \n",
    "    nm = 2\n",
    "elseif damped\n",
    "    L = 7.455\n",
    "    nm = 15 # 12, 15, 19\n",
    "end\n",
    "\n",
    "k = 2π*nm/L # this here is k, not \\hat{k}\n",
    "α = 0.01 # 0.01\n",
    "θ = 0.001 # 0.001\n",
    "p = (α, k)\n",
    "\n",
    "function f(x,p) \n",
    "    α, k = p\n",
    "    return 1 + α *cos(k*x)\n",
    "end\n",
    "\n",
    "function f_max(p)\n",
    "    α, k = p\n",
    "    return 1+α\n",
    "end\n",
    "\n",
    "interval = (0., L)\n",
    "r = zeros(N)\n",
    "for i in 1:N\n",
    "    r[i] = random_sampling_from_distribution(f,f_max,p,interval)\n",
    "end"
   ]
  },
  {
   "cell_type": "markdown",
   "metadata": {},
   "source": []
  },
  {
   "cell_type": "code",
   "execution_count": null,
   "metadata": {},
   "outputs": [],
   "source": [
    "using GR\n",
    "Plots.histogram(r\n",
    "#, bins=:scott\n",
    ", bins = 300\n",
    "#, weights=repeat(1:80, outer=1000)\n",
    ",label = false\n",
    ")"
   ]
  },
  {
   "cell_type": "code",
   "execution_count": null,
   "metadata": {},
   "outputs": [],
   "source": [
    "vp = rand(Normal(0,sqrt(θ)),N);\n",
    "u = [r; vp];"
   ]
  },
  {
   "cell_type": "code",
   "execution_count": null,
   "metadata": {},
   "outputs": [],
   "source": [
    "#save(\"Initial_Distributions/par_dis_L40_N8_5_theta001_m1_am2.jld2\", \"par_dis\", u)\n",
    "#save(\"Initial_Distributions/par_dis_L40_N8_5_theta001_m2_am2.jld2\", \"par_dis\", u)\n",
    "#save(\"Initial_Distributions/par_dis_L40_N8_5_theta001_m4_am1.jld2\", \"par_dis\", u)\n",
    "#save(\"Initial_Distributions/par_dis_L40_N8_5_theta001_m4_am2.jld2\", \"par_dis\", u)\n",
    "#save(\"Initial_Distributions/par_dis_nodumping.jld2\", \"par_dis\", u)\n",
    "if damped \n",
    "    #save(\"Initial_Distributions/par_dis_8_4_damping.jld2\", \"par_dis\", u)\n",
    "    #save(\"Initial_Distributions/par_dis_8_5_damping.jld2\", \"par_dis\", u)\n",
    "    #save(\"Initial_Distributions/par_dis_8_5_abig_damping.jld2\", \"par_dis\", u)\n",
    "elseif undamped\n",
    "    #save(\"Initial_Distributions/par_dis_8_5_undamping.jld2\", \"par_dis\", u)\n",
    "    #save(\"Initial_Distributions/par_dis_8_5_abig_undamping.jld2\", \"par_dis\", u)\n",
    "end"
   ]
  },
  {
   "cell_type": "code",
   "execution_count": null,
   "metadata": {},
   "outputs": [],
   "source": [
    "N = 10^6\n",
    "θ = 0.001\n",
    "vp = rand(Normal(0,sqrt(θ)),N);\n",
    "var(vp)"
   ]
  },
  {
   "cell_type": "markdown",
   "metadata": {},
   "source": [
    "### Relativistic version\n",
    "\n",
    "For the relativistic version we use the distribution (for momentum)\n",
    "\n",
    "$$\n",
    "f(p) = \\frac{1}{4\\pi m^3 c^3 \\theta K^2(1/\\theta)} e^{(1-\\gamma) / \\theta} \\;\\;\\;\\; \\gamma = \\sqrt{1+p^2}\n",
    "$$"
   ]
  },
  {
   "cell_type": "code",
   "execution_count": null,
   "metadata": {},
   "outputs": [],
   "source": [
    "#f_r(p,θ) = exp((1 - sqrt(1+p^2))/θ) \n",
    "f_r(p,θ) = exp((1 - sqrt(1+p^2))/θ) \n",
    "f_r_max(θ) = 1\n",
    "Plots.plot(u -> f_r(u,0.1)\n",
    ", xscale=:log10, yscale=:log10, xlim=(0.0001,1)\n",
    ", label=L\"\\theta = 0.1\")\n",
    "Plots.plot!(u -> f_r(u,10.)\n",
    ", xscale=:log10, yscale=:log10, xlim=(0.0001,100)\n",
    ", label=L\"\\theta = 10.0\")"
   ]
  },
  {
   "cell_type": "markdown",
   "metadata": {},
   "source": [
    "### Relativistic distributions\n",
    "\n",
    "#### Small momentum\n",
    "\n",
    "If $p$ is small we have,\n",
    "\n",
    "$$\n",
    "\\frac{(1 - \\sqrt{1 + p^2})}{\\theta} \\approx -\\frac{1}{2}\\frac{p^2}{\\theta}\n",
    "$$\n",
    "\n",
    "Therefore, for small $p$ we need to take an interval of about $p = \\sqrt{10*2*\\theta}$\n",
    "\n",
    "If $p$ is larger than 1, then,\n",
    "\n",
    "$$\n",
    "\\frac{(1 - \\sqrt{1 + p^2})}{\\theta} \\approx -\\frac{p}{\\theta}\n",
    "$$\n",
    "\n",
    "Thus, in this case we need to take an interval of about $p = 1 + 10*\\theta$"
   ]
  },
  {
   "cell_type": "code",
   "execution_count": null,
   "metadata": {},
   "outputs": [],
   "source": [
    "damped = false\n",
    "undamped = false\n",
    "damped = true\n",
    "#undamped = true\n",
    "\n",
    "#N = 8_000_000\n",
    "#N = 800_000\n",
    "N = 80_000\n",
    "\n",
    "if undamped\n",
    "    L= 39.738 \n",
    "    m = 2\n",
    "elseif damped\n",
    "    L = 7.455\n",
    "    m = 15 # 12, 15, 19\n",
    "end\n",
    "\n",
    "k = 2π*m/L # this here is k, not \\hat{k}\n",
    "α = 0.01 # 0.01\n",
    "θ = 0.001 # 0.001\n",
    "par_init = (α, k)\n",
    "\n",
    "function f(x,par_init) \n",
    "    α, k = par_init\n",
    "    return 1 + α *cos(k*x)\n",
    "end\n",
    "\n",
    "function f_max(par_init)\n",
    "    α, k = par_init\n",
    "    return 1+α\n",
    "end\n",
    "\n",
    "interval = (0., L)\n",
    "r = zeros(N)\n",
    "for i in 1:N\n",
    "    r[i] = random_sampling_from_distribution(f,f_max,par_init,interval)\n",
    "end\n",
    "\n",
    "p_max = 1 + 10*θ\n",
    "#p_max = sqrt(20*θ)\n",
    "int = (0, p_max)\n",
    "vp = zeros(N÷2)\n",
    "\n",
    "par_r = θ \n",
    "\n",
    "for i in 1:N÷2\n",
    "    vp[i] = random_sampling_from_distribution(f_r,f_r_max,par_r,int)\n",
    "end\n",
    "u = [r; vp; -vp];"
   ]
  },
  {
   "cell_type": "code",
   "execution_count": null,
   "metadata": {},
   "outputs": [],
   "source": [
    "histogram([vp;-vp])"
   ]
  },
  {
   "cell_type": "code",
   "execution_count": null,
   "metadata": {},
   "outputs": [],
   "source": [
    "if damped \n",
    "    save(\"Initial_Distributions/par_dis_8_4_damped_rel.jld2\", \"par_dis\", u)\n",
    "    #save(\"Initial_Distributions/par_dis_8_5_damped_rel.jld2\", \"par_dis\", u)\n",
    "    #save(\"Initial_Distributions/par_dis_8_6_damped_rel.jld2\", \"par_dis\", u)\n",
    "    #save(\"Initial_Distributions/par_dis_8_5_abig_damped_rel.jld2\", \"par_dis\", u)\n",
    "elseif undamped\n",
    "    #save(\"Initial_Distributions/par_dis_8_6_undamped_rel.jld2\", \"par_dis\", u)\n",
    "    #save(\"Initial_Distributions/par_dis_8_6_abig_undamped_rel.jld2\", \"par_dis\", u)\n",
    "end"
   ]
  }
 ],
 "metadata": {
  "kernelspec": {
   "display_name": "Julia 1.7.2",
   "language": "julia",
   "name": "julia-1.7"
  },
  "language_info": {
   "file_extension": ".jl",
   "mimetype": "application/julia",
   "name": "julia",
   "version": "1.7.2"
  }
 },
 "nbformat": 4,
 "nbformat_minor": 4
}
