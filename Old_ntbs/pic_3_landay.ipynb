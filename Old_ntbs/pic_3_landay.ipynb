{
 "cells": [
  {
   "cell_type": "markdown",
   "metadata": {},
   "source": [
    "## 1D PIC (evolution_version) Landau Damping\n",
    "\n",
    "Here we compute the 1D version of PIC. \n",
    "The initial distribution we use corresponds to a particles in a thermal bath with a given temperature and a spatial distribution given by a cosine function over a background.\n",
    "The distribution is:\n",
    "\n",
    "$$\n",
    "f(x,v) = \\frac{N}{L} \\frac{1}{\\sqrt{2\\pi\\theta}} e^{-\\frac{v^2}{2\\theta}}(1 + \\alpha cos(kx))\n",
    "$$\n",
    "\n",
    "We shall use $\\theta = 0.001$, $\\alpha = 0.01$ (some with $\\alpha = 0.1$ for fun)."
   ]
  },
  {
   "cell_type": "code",
   "execution_count": null,
   "metadata": {},
   "outputs": [],
   "source": [
    "#using DifferentialEquations\n",
    "using Plots\n",
    "using Statistics\n",
    "using FFTW\n",
    "FFTW.set_provider!(\"mkl\")\n",
    "#import Pkg; Pkg.add(\"FileIO\")\n",
    "using FileIO\n",
    "using Base.Threads\n",
    "using Distributions\n",
    "#Pkg; Pkg.add(\"DistributedArrays\")\n",
    "println(\"nthreads = $(nthreads())\")"
   ]
  },
  {
   "cell_type": "markdown",
   "metadata": {},
   "source": [
    "Helper functions are defined in this file."
   ]
  },
  {
   "cell_type": "code",
   "execution_count": null,
   "metadata": {},
   "outputs": [],
   "source": [
    "include(\"aux_functions.jl\")"
   ]
  },
  {
   "cell_type": "code",
   "execution_count": null,
   "metadata": {},
   "outputs": [],
   "source": [
    "undamped = false\n",
    "damped = false\n",
    "#undamped = true\n",
    "damped = true"
   ]
  },
  {
   "cell_type": "code",
   "execution_count": null,
   "metadata": {},
   "outputs": [],
   "source": [
    "if undamped\n",
    "    run_name = \"landau_undamped_\"\n",
    "    const L = 39.738 \n",
    "    const J = 3522\n",
    "elseif damped\n",
    "    run_name = \"landau_damped_\"\n",
    "    const L = 7.455\n",
    "    const J = 930\n",
    "end\n",
    "order = 5\n",
    "#const N = 80_000\n",
    "const N = 800_000\n",
    "#const N = 8_000_000\n",
    "exp_Theta = 3\n",
    "exp_t = 2\n",
    "θ = 10.0^(-exp_Theta)\n",
    "t = 0.0\n",
    "t_f = 4*10.0^(exp_t)\n",
    "M = 16001\n",
    "M_g = 16000 + 1 #number of outputs, starting from the initial data\n",
    "dt = t_f / (M-1)\n",
    "t_i = 0.0\n",
    "#M = convert(Int64,t_f/dt)\n",
    "#M=1\n",
    "const κ = 2π/L # for Fourier Transform\n",
    "dx = L/J\n",
    "x = [dx*(i-1) for i in 1:J] ;\n",
    "p = (L, N, J, κ, dx, order)\n",
    "\n",
    "println(\"t_f = $(t_f), M = $M, dt = $(dt), exp_Theta = $(exp_Theta)\")\n",
    "\n",
    "animation = false\n",
    "phase_space_show = false\n",
    "\n",
    "run_name = run_name * \"t$(convert(Int,t_f))_L$(L)_N8_5_J$(J)_M$(M)_o$(order)_T$(exp_Theta)\"\n",
    "println(run_name)\n",
    "\n",
    "        \n",
    "#test_parameters(M, M_g, dt, 0.0, t_f)"
   ]
  },
  {
   "cell_type": "markdown",
   "metadata": {},
   "source": [
    "We have some extra quantities that are proper of the plasma:\n",
    "\n",
    "The plasma frequency and the Debye temperature:\n",
    "\n",
    "The plasma frequency is adjusted so that it is unit in with respect to the time units \n",
    "taken, space it taken so that the speed of light is one. \n",
    "$$\n",
    "\\omega_p^2 = 1\n",
    "$$\n",
    "\n",
    "This implies that the background density is $N/L$\n",
    "\n",
    "In the paper they say the temperature is set to $\\theta_D = dx^2$. \n",
    "\n",
    "This I don't understand yet.\n",
    "\n",
    "$$\n",
    "\\lambda_D^2 := \\frac{\\epsilon_0 \\theta_D L}{e^2 N_e} = \\frac{\\theta_D L}{N_e}\n",
    "$$\n",
    "\n",
    "If we set $\\lambda_D = dx$ then, \n",
    "\n",
    "$$\n",
    "\\theta_D = \\frac{N_e dx^2}{L} = \\frac{N_e L}{J^2}\n",
    "$$\n",
    "\n",
    "For N = 20000, L = 5, J = 50, $\\theta_D = 20000 * 5 / 2500 = 400$ ????\n",
    "\n",
    "I think that actually we set the density to one, so that $\\frac{N_e}{L} = 1$ irrestective on how many particles we take. \n",
    "That way $\\theta_D = \\lambda_D^2$\n",
    "\n"
   ]
  },
  {
   "cell_type": "markdown",
   "metadata": {},
   "source": [
    "## Code parameters:\n",
    "\n",
    "$\\hat{k} = \\frac{k}{\\sqrt{\\theta}}$\n",
    "\n",
    "### Undamped\n",
    "Thus, for $L = 39.738$, $J = 3522$, $\\theta = 0.001$, $m = 2$ (second mode)\n",
    "\n",
    "we have: $dx = 0.01128$, $k=\\frac{4\\pi}{L} = 0.3162305 $, $\\hat{k} = 4*π /  39.738  * \\sqrt{0.001} = 0.010000$\n",
    "\n",
    "For this case the frequency should be: $\\omega = 1.00015$\n",
    "\n",
    "\n",
    "### Damped\n",
    "Thus, for $L= 7.455$, $J = 930$, $\\theta = 0.001$, $m = 15$\n",
    "\n",
    "we have: $dx = 0.008$, $k=\\frac{15*2\\pi}{L} = 12.642 $, $\\hat{k} = k  * \\sqrt{0.001} = 0.399$\n",
    "\n",
    "For this case the frequency should be: $\\omega = 1.2855 - i 0.06613$\n"
   ]
  },
  {
   "cell_type": "code",
   "execution_count": null,
   "metadata": {},
   "outputs": [],
   "source": [
    "0.497 / 62\n",
    "7.455 / 930\n",
    "#15*0.497/930\n",
    "15 * 2 * π / 7.455 #* sqrt(0.001)\n",
    "\n",
    "3*0.399^2/2"
   ]
  },
  {
   "cell_type": "markdown",
   "metadata": {},
   "source": [
    "We build the initial data:"
   ]
  },
  {
   "cell_type": "code",
   "execution_count": null,
   "metadata": {},
   "outputs": [],
   "source": [
    "E = zeros(J)\n",
    "ϕ = zeros(J)\n",
    "n = zeros(J) #charge density\n",
    "S = zeros(J) #carge current\n",
    "du = zeros(2*N+J); # contains r, v and E\n"
   ]
  },
  {
   "cell_type": "code",
   "execution_count": null,
   "metadata": {},
   "outputs": [],
   "source": [
    "if undamped\n",
    "    #par_dis = load(\"Initial_Distributions/par_dis_8_5_abig_undamping.jld2\", \"par_dis\");\n",
    "    #par_dis = load(\"Initial_Distributions/par_dis_8_5_undamping.jld2\", \"par_dis\");\n",
    "elseif damped\n",
    "    #par_dis = load(\"Initial_Distributions/par_dis_8_5_abig_damping.jld2\", \"par_dis\");\n",
    "    par_dis = load(\"Initial_Distributions/par_dis_8_5_damping.jld2\", \"par_dis\");\n",
    "    #par_dis = load(\"Initial_Distributions/par_dis_8_4_damping.jld2\", \"par_dis\");\n",
    "    #par_dis = load(\"Initial_Distributions/par_dis_8_6_damping.jld2\", \"par_dis\");\n",
    "end\n",
    "\n",
    "#length(par_dis)\n",
    "@assert length(par_dis) ÷ 2 == N"
   ]
  },
  {
   "cell_type": "markdown",
   "metadata": {},
   "source": [
    "With the particle distribution we construct the initial data for the electric field. For that first we compute de density, using different types of particles (order)."
   ]
  },
  {
   "cell_type": "code",
   "execution_count": null,
   "metadata": {},
   "outputs": [],
   "source": [
    "@time get_density!(par_dis, n, p)\n",
    "n0 = N/L\n",
    "#get_ϕ!(ϕ, -n/n0 .+ 1., κ) # chenge the sign here to make it consistent with charge conservation and the time derivative of E\n",
    "@time get_ϕ!(ϕ, n/n0 .- 1., κ)\n",
    "@time get_E_from_ϕ!(ϕ,E,dx)\n",
    "u = [par_dis;E];\n",
    "length(u)"
   ]
  },
  {
   "cell_type": "markdown",
   "metadata": {},
   "source": [
    "### What follows are characterizations of the initial data properties."
   ]
  },
  {
   "cell_type": "code",
   "execution_count": null,
   "metadata": {},
   "outputs": [],
   "source": [
    "@time get_current!(u, S, p)\n",
    "\n",
    "println(maximum(u[1:N]))\n",
    "println(minimum(u[1:N]))\n",
    "\n",
    "@time Coordinate_test(u[1:N],L)\n",
    "\n",
    "println(\"n_total = $(sum(n .- n0))\")\n",
    "println(\"v_total = $(sum(u[N+1:2N]))\")\n",
    "println(\"E_total = $(sum(E))\")\n",
    "\n",
    "println(\"S_total = $(sum(S))\")"
   ]
  },
  {
   "cell_type": "markdown",
   "metadata": {},
   "source": [
    "Compute the initial density, potential and electric field."
   ]
  },
  {
   "cell_type": "code",
   "execution_count": null,
   "metadata": {},
   "outputs": [],
   "source": [
    "plot(layout=(2,2))\n",
    "plot!(subplot=1,x,n/n0, title = \"density\", legend = :false)\n",
    "plot!(subplot=2,x,ϕ, title = \"potential\", legend = :false)\n",
    "plot!(subplot=3,x,E, title = \"Electric Field\", legend = :false)\n",
    "plot!(subplot=4,x,S, title = \"Current\", legend = :false)"
   ]
  },
  {
   "cell_type": "markdown",
   "metadata": {},
   "source": [
    "Check the histograms for the initial positions and velocities."
   ]
  },
  {
   "cell_type": "code",
   "execution_count": null,
   "metadata": {},
   "outputs": [],
   "source": [
    "plot(layout=(2,2))\n",
    "histogram!(subplot=1,u[1:N], title = \"density\", legend = :false, bins = 300)\n",
    "histogram!(subplot=2,u[N+1:2*N], title = \"velocity\", legend = :false)\n",
    "\n",
    "histogram!(subplot=3,S, title = \"current\", legend = :false)"
   ]
  },
  {
   "cell_type": "code",
   "execution_count": null,
   "metadata": {},
   "outputs": [],
   "source": [
    "if phase_space_show\n",
    "Plots.scatter(u[1:N],u[N+1:2N]\n",
    ", thickness_scaling = 0.3\n",
    ", markersize = 0.3\n",
    ", title = \"phase-space\", legend =:false)\n",
    "end"
   ]
  },
  {
   "cell_type": "markdown",
   "metadata": {},
   "source": [
    "## TIME Evolution: \n",
    "\n",
    "Now we make the time evolution:\n",
    "\n",
    "1. we define parameters and vectors where to upload data to study the time evolution: Kinetic Energy, Electric field Energy, Total Electric field, total velocity (momentum), total density, total charge current.\n",
    "\n",
    "2. we save a vector with the particle phase space, this can be a lot of memory!"
   ]
  },
  {
   "cell_type": "code",
   "execution_count": null,
   "metadata": {},
   "outputs": [],
   "source": [
    "if nthreads() > 1\n",
    "TS = zeros(J, nthreads())\n",
    "p_RHSC = (N, J, L, dx, order, n, S, du, get_density!, get_current_threads!, Interpolate_2, TS) ;\n",
    "else\n",
    "p_RHSC = (N, J, L, dx, order, n, S, du, get_density!, get_current!, Interpolate_2) ;\n",
    "end\n",
    "\n",
    "Energy_K = zeros(M_g)\n",
    "Energy_E = zeros(M_g)\n",
    "E_T = zeros(M_g)\n",
    "v_T = zeros(M_g)\n",
    "D_T = zeros(M_g)\n",
    "S_T = zeros(M_g)\n",
    "T = zeros(M_g)\n",
    "if animation\n",
    "par = zeros(M_g,2N)\n",
    "end\n",
    "Energy_K[1], Energy_E[1]  = get_energy(u,(L, N, J))\n",
    "E_T[1] = sum(u[2N+1:end])\n",
    "v_T[1] = sum(u[N+1:2N])\n",
    "get_density!(u, n, p)\n",
    "get_current!(u, S, p)\n",
    "D_T[1] = sum(n)/n0/J - 1\n",
    "S_T[1] = sum(S)/n0/J\n",
    "T[1] = var(u[N+1:2N])\n",
    "if animation\n",
    "par[1,:] = u[1:2N]\n",
    "end\n",
    "\n",
    "\n",
    "\n",
    "t = 0.0\n",
    "j = 1\n"
   ]
  },
  {
   "cell_type": "code",
   "execution_count": null,
   "metadata": {},
   "outputs": [],
   "source": [
    "\n",
    "for k in 2:M\n",
    "  RK4_Step!(RHSC,u,t,dt,p_RHSC)\n",
    "  global u = [make_periodic!(u[1:N],L); u[N+1:end]]\n",
    "  #filter_constant!(u[2N+1:end])\n",
    "  global t = t + dt\n",
    "  if (k-1) % (M÷(M_g-1)) == 0\n",
    "    j = (k-1)÷(M÷(M_g-1))+1\n",
    "    #scatter(plt, u[1:N], u[N+1:2*N])\n",
    "    Energy_K[j], Energy_E[j] = get_energy(u,(L, N, J))\n",
    "    E_T[j] = sum(u[2N+1:end])\n",
    "    v_T[j] = sum(u[N+1:2N])\n",
    "    get_density!(u, n, p)\n",
    "    get_current!(u, S, p)\n",
    "    D_T[j] = sum(n)/n0/J - 1\n",
    "    S_T[j] = sum(S)/n0/J\n",
    "    T[j] = var(u[N+1:2N])\n",
    "    println(\"j = $j , t = $t, k = $k, nthreads = $(nthreads())\")\n",
    "    if animation\n",
    "    par[j,:] = u[1:2N]\n",
    "    end\n",
    "  end\n",
    "end"
   ]
  },
  {
   "cell_type": "markdown",
   "metadata": {},
   "source": [
    "Saving the results"
   ]
  },
  {
   "cell_type": "code",
   "execution_count": null,
   "metadata": {},
   "outputs": [],
   "source": [
    "n_F = zeros(J)\n",
    "S_F = zeros(J)\n",
    "get_density!(u, n_F, p)\n",
    "get_current!(u, S_F, p)\n",
    "run = Dict(\"run_name\" => run_name, \"p\" => p, \"Energy_E\" => Energy_E, \"Energy_K\" => Energy_K, \"E_f\" => u[2N+1:end], \"n_F\" => n_F, \"S_F\" => S_F, \"E_T\"=> E_T, \"v_T\" => v_T, \"S_T\" => S_T, \"D_T\" => D_T, \"T\" => T)\n",
    "save(run_name * \"th$(nthreads())_results.jld2\", run)"
   ]
  },
  {
   "cell_type": "markdown",
   "metadata": {},
   "source": [
    "## Studying the solutions: "
   ]
  },
  {
   "cell_type": "markdown",
   "metadata": {},
   "source": [
    "### Energy:"
   ]
  },
  {
   "cell_type": "code",
   "execution_count": null,
   "metadata": {},
   "outputs": [],
   "source": [
    "plot(abs.(Energy_K[2:end] .- Energy_K[1]), title = \"Energy conservation\", label = \"Kinetic Energy\"\n",
    "#, legend = :outertopright\n",
    ", legend = :bottomright)\n",
    "plot!(abs.(Energy_E[2:end] .- Energy_E[1]), label = \"|Electric Energy|\")\n",
    "plot!(abs.(Energy_K[2:end]  + Energy_E[2:end] .- (Energy_K[1]+Energy_E[1])) ./ (Energy_K[1]+Energy_E[1]) , yscale=:log10\n",
    "#, xscale=:log10\n",
    ", label = \"Total Energy / Initial Energy -1 \")\n",
    "#png(run_name * \"energy_conservation\")"
   ]
  },
  {
   "cell_type": "code",
   "execution_count": null,
   "metadata": {},
   "outputs": [],
   "source": [
    "abs.(Energy_K[end]  + Energy_E[end] .- (Energy_K[1]+Energy_E[1])) ./ (Energy_K[1]+Energy_E[1])"
   ]
  },
  {
   "cell_type": "code",
   "execution_count": null,
   "metadata": {},
   "outputs": [],
   "source": [
    "#ω = 1\n",
    "#tv = [dt*(i-1) for i in 1:M]\n",
    "plot(T, label= \"θ\", title = \"Temperature = var\", legend = false)\n",
    "#plot!(sin.(ω*tv))\n",
    "#png(run_name * \"temperature\")"
   ]
  },
  {
   "cell_type": "markdown",
   "metadata": {},
   "source": [
    "34 peaks in T = 100, so $\\omega = 0.34$"
   ]
  },
  {
   "cell_type": "code",
   "execution_count": null,
   "metadata": {},
   "outputs": [],
   "source": [
    "Th = rfft(T)\n",
    "plot(real.(Th))\n",
    "argmin(real.(Th))*t_f/length(T) * sqrt(θ)\n",
    "#length(T)"
   ]
  },
  {
   "cell_type": "code",
   "execution_count": null,
   "metadata": {},
   "outputs": [],
   "source": [
    "T[end]"
   ]
  },
  {
   "cell_type": "markdown",
   "metadata": {},
   "source": [
    "We save the data:"
   ]
  },
  {
   "cell_type": "markdown",
   "metadata": {},
   "source": [
    "| time | order | energy | theta |\n",
    "|------|-------|--------|-------|\n",
    "|  40  |  1    | 7.4e-7 | 0.009978|\n",
    "|  40  |  3    | 7.9e-8 | 0.009979 |\n",
    "|  40  |  5    | 1.1e-7 | 0.009979 |\n",
    "|  4000|  1    | 7.6e-5 | 0.009978 |\n",
    "|  4000|  3    | 7.2e-6 | 0.010086 |\n",
    "|  4000|  5    | 1.0e-5 | 0.010031 |\n",
    "|  4e6 |  1    | 0.0360 | 0.010119 |\n"
   ]
  },
  {
   "cell_type": "markdown",
   "metadata": {},
   "source": [
    "## Total Quantities"
   ]
  },
  {
   "cell_type": "code",
   "execution_count": null,
   "metadata": {},
   "outputs": [],
   "source": [
    "plot(layout=(2,2))\n",
    "plot!(subplot=1,E_T,title=\"Total Electric Field\")\n",
    "plot!(subplot=2,v_T./N, title=\"Total velocity\")\n",
    "plot!(subplot=3,D_T,title = \"Total density\")\n",
    "plot!(subplot=4,S_T,title = \"Total Current\")\n",
    "#png(run_name * \"totals\")"
   ]
  },
  {
   "cell_type": "code",
   "execution_count": null,
   "metadata": {},
   "outputs": [],
   "source": [
    "E_F = zeros(J)\n",
    "ϕ_F = zeros(J)\n",
    "n_F = zeros(J)\n",
    "get_density!(u, n_F, p)\n",
    "n0 = N/L\n",
    "get_ϕ!(ϕ_F, n_F/n0 .+ 1, κ)\n",
    "#get_ϕ!(ϕ_F, n_F .- n0, κ)\n",
    "get_E_from_ϕ!(ϕ_F,E_F,dx)\n",
    "plot(x,u[2N+1:end], label = \"dynamical\", title=\"Electric Field with order = $(order)\")\n",
    "plot!(x,E_F,label=\"from constraint\", ls=:dash)\n",
    "#t_f = 40\n",
    "#png(run_name * \"E\")"
   ]
  },
  {
   "cell_type": "code",
   "execution_count": null,
   "metadata": {},
   "outputs": [],
   "source": [
    "println(\"averaged total E field = $(sum(E_F))\")\n",
    "println(\"E_total = $(sum(u[2N+1:end])/J)\")\n",
    "println(\"Total velocity = $(sum(u[N+1:2N])/N)\")\n",
    "println(\"Total Charge = $(sum(n_F .- n0))\")\n",
    "println(\"Final Energy = $(get_energy(u,(L, N, J)))\")\n",
    "get_current!(u, S, p)\n",
    "println(\"Total_current = $(sum(S)/J)\")"
   ]
  },
  {
   "cell_type": "code",
   "execution_count": null,
   "metadata": {},
   "outputs": [],
   "source": [
    "plot(x,u[2N+1:end]-E_F, label = \"difference\", title=\"Electric Field\")\n",
    "#png(run_name * \"electric_diff\")"
   ]
  },
  {
   "cell_type": "code",
   "execution_count": null,
   "metadata": {},
   "outputs": [],
   "source": [
    "if phase_space_show\n",
    "Plots.scatter(u[1:N],u[N+1:2N]\n",
    "#, thickness_scaling = 0.3\n",
    ", markersize = 0.3\n",
    ", title = \"phase-space\", legend =:false)\n",
    "#png(run_name * \"ps\")\n",
    "end"
   ]
  },
  {
   "cell_type": "code",
   "execution_count": null,
   "metadata": {},
   "outputs": [],
   "source": [
    "if animation\n",
    "    anim = @animate for i = 1:M_g\n",
    "        Plots.scatter(par[i,1:N], par[i,N+1:2N]\n",
    "        , markersize = 0.3\n",
    "        , title = \"phase-space\"\n",
    "        , legend=false\n",
    "        , ylim = (-0.3,0.3)\n",
    "        , xlim = (0,5)\n",
    "        )\n",
    "    end\n",
    " \n",
    "    gif(anim, run_name * \"ps_fps5.gif\", fps = 5)\n",
    "end"
   ]
  },
  {
   "cell_type": "code",
   "execution_count": null,
   "metadata": {},
   "outputs": [],
   "source": [
    "#load(\"Results/\" * run_name * \"results.jld2\", \"S_F\")"
   ]
  },
  {
   "cell_type": "code",
   "execution_count": null,
   "metadata": {},
   "outputs": [],
   "source": [
    "#(p, Energy_E, Energy_K, E_f, n_F, S_F, E_T, v_T, S_T, D_T, T) = load(\"Results/\" * run_name * \"results.jld2\", \"p\", \"Energy_E\", \"Energy_K\", \"E_f\", \"n_F\",  \"S_F\", \"E_T\", \"v_T\", \"S_T\", \"D_T\", \"T\");\n"
   ]
  },
  {
   "cell_type": "code",
   "execution_count": null,
   "metadata": {},
   "outputs": [],
   "source": [
    "using LsqFit"
   ]
  },
  {
   "cell_type": "code",
   "execution_count": null,
   "metadata": {},
   "outputs": [],
   "source": []
  }
 ],
 "metadata": {
  "kernelspec": {
   "display_name": "Julia 1.7.2",
   "language": "julia",
   "name": "julia-1.7"
  },
  "language_info": {
   "file_extension": ".jl",
   "mimetype": "application/julia",
   "name": "julia",
   "version": "1.7.2"
  }
 },
 "nbformat": 4,
 "nbformat_minor": 4
}
