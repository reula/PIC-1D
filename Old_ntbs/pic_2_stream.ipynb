{
 "cells": [
  {
   "cell_type": "markdown",
   "metadata": {},
   "source": [
    "## 1D PIC (evolution_version) two-stream instabilities\n",
    "\n",
    "Here we compute the 1D version of PIC. The distribution we use corresponds to a particle current going in both directions with the same mean density and opposite velocities. This configuration generates an instibility and we observe it. \n",
    "\n",
    "The Electric field is computed from Maxwell's equations (the time derivative of E is used), starting with an initial data for E using $\\nabla \\cdot \\vec{E} = \\rho$ (computing the potential and taking the derivative). "
   ]
  },
  {
   "cell_type": "code",
   "execution_count": null,
   "metadata": {},
   "outputs": [],
   "source": [
    "#using DifferentialEquations\n",
    "using Plots\n",
    "using Statistics\n",
    "using FFTW\n",
    "FFTW.set_provider!(\"mkl\")\n",
    "import Pkg; Pkg.add(\"FileIO\")\n",
    "using FileIO\n",
    "using Distributions \n"
   ]
  },
  {
   "cell_type": "markdown",
   "metadata": {},
   "source": [
    "Helper functions are defined in this file."
   ]
  },
  {
   "cell_type": "code",
   "execution_count": null,
   "metadata": {},
   "outputs": [],
   "source": [
    "include(\"aux_functions.jl\")"
   ]
  },
  {
   "cell_type": "markdown",
   "metadata": {},
   "source": [
    "### Parameters\n",
    "\n",
    "    L;               Domain of solution 0 <= x <= L (in Debye lengths)\n",
    "    N;               Number of electrons\n",
    "    J;               Number of grid points\n",
    "    vb;              Beam velocity\n",
    "    dt;              Time-step (in inverse plasma frequencies)\n",
    "    t_f;             Simulation run from t = 0. to t = t_f\n",
    "    order;           smoothnes of the particle shape function\n"
   ]
  },
  {
   "cell_type": "code",
   "execution_count": null,
   "metadata": {},
   "outputs": [],
   "source": [
    "const order = 2\n",
    "const L = 100\n",
    "#N = 200000\n",
    "#N = 80000\n",
    "#N = 40000\n",
    "const N = 20000\n",
    "#J = 2048\n",
    "#J = 1024\n",
    "const J = 128\n",
    "#J = 254\n",
    "#J = 512\n",
    "vb = 3\n",
    "dt = 0.1\n",
    "t = 0.0\n",
    "t_f = 40.0\n",
    "M = 401\n",
    "M_g = 20 + 1 #number of outputs, starting from the initial data\n",
    "dt = t_f / (M-1)\n",
    "t_i = 0.0\n",
    "#M = convert(Int64,t_f/dt)\n",
    "#M=1\n",
    "κ = 2π/L # for Fourier Transform\n",
    "dx = L/J\n",
    "x = [dx*(i-1) for i in 1:J] ;\n",
    "p = (L, N, J, κ, dx, order)"
   ]
  },
  {
   "cell_type": "markdown",
   "metadata": {},
   "source": [
    "### Produce the intial data"
   ]
  },
  {
   "cell_type": "markdown",
   "metadata": {},
   "source": [
    "The 1D distribution for $\\frac{m}{kT} = 1$ is just the normal distribution centered at both $\\pm v_p$. With $\\sigma = 1$.\n",
    "\n",
    "**Important** the velocity distribution must be symmetrical, otherwise the resulting $v_{total}$ and $S_{total}$ do not vanish to a degree that causes problems."
   ]
  },
  {
   "cell_type": "code",
   "execution_count": null,
   "metadata": {},
   "outputs": [],
   "source": [
    "E = zeros(J)\n",
    "ϕ = zeros(J)\n",
    "n = zeros(J) #charge density\n",
    "S = zeros(J) #carge current\n",
    "du = zeros(2*N+J); # contains r, v and E\n"
   ]
  },
  {
   "cell_type": "markdown",
   "metadata": {},
   "source": [
    "We take some distributions and fix them to use several times for initial data. We can do here, uncommenting the lines below, or we can do in the Initial_Distributions notebook. We preffer the second way so that we can try the same distribution with different simulation parameters."
   ]
  },
  {
   "cell_type": "code",
   "execution_count": null,
   "metadata": {},
   "outputs": [],
   "source": [
    "#r = L*rand(N);\n",
    "#vp = rand(Normal(vb,1),N÷2);\n",
    "#par_dis = [r; -vp; vp];"
   ]
  },
  {
   "cell_type": "code",
   "execution_count": null,
   "metadata": {},
   "outputs": [],
   "source": [
    "#u0 = copy(u); # make a copy of the initial data so as to use it several times.\n",
    "par_dis = load(\"Initial_Distributions/par_dis_L100_N2_5_vp_3.jld2\", \"par_dis\");\n",
    "#par_dis = load(\"Initial_Distributions/par_dis_L100_N4_5_vp_3.jld2\", \"par_dis\");\n",
    "#par_dis = load(\"Initial_Distributions/par_dis_L100_N8_5_vp_3.jld2\", \"par_dis\");\n",
    "\n",
    "@assert length(par_dis) ÷ 2 == N\n"
   ]
  },
  {
   "cell_type": "markdown",
   "metadata": {},
   "source": [
    "With the particle distribution we construct the initial data for the electric field. For that first we compute de density, using different types of particles (order)."
   ]
  },
  {
   "cell_type": "code",
   "execution_count": null,
   "metadata": {},
   "outputs": [],
   "source": [
    "\n",
    "get_density!(par_dis, n, p)\n",
    "n0 = N/L\n",
    "#get_ϕ!(ϕ, -n/n0 .+ 1., κ) # chenge the sign here to make it consistent with charge conservation and the time derivative of E\n",
    "get_ϕ!(ϕ, n/n0 .- 1., κ)\n",
    "get_E_from_ϕ!(ϕ,E,dx)\n",
    "u = [par_dis;E];\n",
    "length(u)"
   ]
  },
  {
   "cell_type": "markdown",
   "metadata": {},
   "source": [
    "### What follows are characterizations of the initial data properties."
   ]
  },
  {
   "cell_type": "code",
   "execution_count": null,
   "metadata": {},
   "outputs": [],
   "source": [
    "\n",
    "get_current!(u, S, p)\n",
    "\n",
    "Coordinate_test(u[1:N],L)\n",
    "\n",
    "println(\"n_total = $(sum(n .- n0))\")\n",
    "println(\"v_total = $(sum(u[N+1:2N]))\")\n",
    "println(\"E_total = $(sum(E))\")\n",
    "\n",
    "println(\"S_total = $(sum(S))\")\n"
   ]
  },
  {
   "cell_type": "code",
   "execution_count": null,
   "metadata": {},
   "outputs": [],
   "source": [
    "#plt = scatter(u[1:N],u[N+1:2N], thickness_scaling = 0.3\n",
    "#, markersize = 0.3\n",
    "#, title = \"phase-space\", legend =:false)\n",
    "#png(\"t00_$(J)_2_4\")"
   ]
  },
  {
   "cell_type": "markdown",
   "metadata": {},
   "source": [
    "Initialize some of the intermediate fields we need."
   ]
  },
  {
   "cell_type": "markdown",
   "metadata": {},
   "source": [
    "Compute the initial density, potential and electric field."
   ]
  },
  {
   "cell_type": "code",
   "execution_count": null,
   "metadata": {},
   "outputs": [],
   "source": [
    "plot(layout=(2,2))\n",
    "plot!(subplot=1,x,n/n0, title = \"density\", legend = :false)\n",
    "plot!(subplot=2,x,ϕ, title = \"potential\", legend = :false)\n",
    "plot!(subplot=3,x,E, title = \"Electric Field\", legend = :false)"
   ]
  },
  {
   "cell_type": "markdown",
   "metadata": {},
   "source": [
    "Find the correspondig potential"
   ]
  },
  {
   "cell_type": "markdown",
   "metadata": {},
   "source": [
    "Check the histograms for the initial positions and velocities."
   ]
  },
  {
   "cell_type": "code",
   "execution_count": null,
   "metadata": {},
   "outputs": [],
   "source": [
    "plot(layout=(2,2))\n",
    "histogram!(subplot=1,u[1:N], title = \"density\", legend = :false)\n",
    "histogram!(subplot=2,u[N+1:2*N], title = \"velocity\", legend = :false)\n",
    "get_current!(u, S, p)\n",
    "histogram!(subplot=3,S, title = \"current\", legend = :false)"
   ]
  },
  {
   "cell_type": "markdown",
   "metadata": {},
   "source": [
    "## TIME Evolution: \n",
    "\n",
    "Now we make the time evolution:\n",
    "\n",
    "1. we define parameters and vectors where to upload data to study the time evolution: Kinetic Energy, Electric field Energy, Total Electric field, total velocity (momentum), total density, total charge current.\n",
    "\n",
    "2. we save a vector with the particle phase space, this can be a lot of memory!\n"
   ]
  },
  {
   "cell_type": "code",
   "execution_count": null,
   "metadata": {},
   "outputs": [],
   "source": [
    "#u = u0\n",
    "p_RHSC = (N, J, L, dx, order, n, S, du, get_density!, get_current!, Interpolate_2) ;\n",
    "\n",
    "\n",
    "Energy_K = zeros(M_g)\n",
    "Energy_E = zeros(M_g)\n",
    "E_T = zeros(M_g)\n",
    "v_T = zeros(M_g)\n",
    "D_T = zeros(M_g)\n",
    "S_T = zeros(M_g)\n",
    "T = zeros(M_g)\n",
    "par = zeros(M_g,2N)\n",
    "Energy_K[1], Energy_E[1]  = get_energy(u,(L, N, J))\n",
    "E_T[1] = sum(u[2N+1:end])\n",
    "v_T[1] = sum(u[N+1:2N])\n",
    "get_density!(u, n, p)\n",
    "get_current!(u, S, p)\n",
    "D_T[1] = sum(n)/n0/J - 1\n",
    "S_T[1] = sum(S)/n0/J\n",
    "T[1] = var(u[N+1:2N])\n",
    "par[1,:] = u[1:2N];\n",
    "\n"
   ]
  },
  {
   "cell_type": "code",
   "execution_count": null,
   "metadata": {},
   "outputs": [],
   "source": [
    "\n",
    "\n",
    "t = 0.0\n",
    "j = 1\n",
    "for k in 2:(M+1)\n",
    "  RK4_Step!(RHSC,u,t,dt,p_RHSC)\n",
    "  u = [make_periodic!(u[1:N],L); u[N+1:end]]\n",
    "  filter_constant!(u[2N+1:end])\n",
    "  t = t + dt\n",
    "  if (k-1) % (M÷(M_g-1)) == 0\n",
    "    j = j+1\n",
    "    #scatter(plt, u[1:N], u[N+1:2*N])\n",
    "    Energy_K[j], Energy_E[j] = get_energy(u,(L, N, J))\n",
    "    E_T[j] = sum(u[2N+1:end])\n",
    "    v_T[j] = sum(u[N+1:2N])\n",
    "    get_density!(u, n, p)\n",
    "    get_current!(u, S, p)\n",
    "    D_T[j] = sum(n)/n0/J - 1\n",
    "    S_T[j] = sum(S)/n0/J\n",
    "    T[j] = var(u[N+1:2N])\n",
    "    println(\"j = $j , t = $t, k = $k\")\n",
    "    par[j,:] = u[1:2N]\n",
    "  end\n",
    "end"
   ]
  },
  {
   "cell_type": "markdown",
   "metadata": {},
   "source": [
    "## Studying the solutions: "
   ]
  },
  {
   "cell_type": "markdown",
   "metadata": {},
   "source": [
    "### Energy:"
   ]
  },
  {
   "cell_type": "code",
   "execution_count": null,
   "metadata": {},
   "outputs": [],
   "source": [
    "plot(abs.(Energy_K[2:end] .- Energy_K[1]), title = \"Energy conservation\", label = \"Kinetic Energy\")\n",
    "plot!(abs.(Energy_E[2:end] .- Energy_E[1]), label = \"|Electric Energy|\")\n",
    "plot!(abs.(Energy_K[2:end]  + Energy_E[2:end] .- (Energy_K[1]+Energy_E[1])) ./ (Energy_K[1]+Energy_E[1]) , yscale=:log10, label = \"Total Energy / Initial Energy -1 \")\n",
    "#png(\"energy_conservation_T$(t_f)_8_5_$(J)_o$(order)\")"
   ]
  },
  {
   "cell_type": "code",
   "execution_count": null,
   "metadata": {},
   "outputs": [],
   "source": [
    "DEdE = abs.(Energy_K[end]  + Energy_E[end] .- (Energy_K[1]+Energy_E[1])) ./ (Energy_K[1]+Energy_E[1])\n",
    "println(\"Energy change = $(DEdE)\")"
   ]
  },
  {
   "cell_type": "markdown",
   "metadata": {},
   "source": [
    "### Temperature"
   ]
  },
  {
   "cell_type": "code",
   "execution_count": null,
   "metadata": {},
   "outputs": [],
   "source": [
    "plot(T)"
   ]
  },
  {
   "cell_type": "code",
   "execution_count": null,
   "metadata": {},
   "outputs": [],
   "source": [
    "println(\"Final temperature = $(T[end])\")"
   ]
  },
  {
   "cell_type": "markdown",
   "metadata": {},
   "source": [
    "## Total Quantities"
   ]
  },
  {
   "cell_type": "code",
   "execution_count": null,
   "metadata": {},
   "outputs": [],
   "source": [
    "plot(layout=(2,2))\n",
    "plot!(subplot=1,E_T,title=\"Total Electric Field\")\n",
    "plot!(subplot=2,v_T./N, title=\"Total velocity\")\n",
    "plot!(subplot=3,D_T,title = \"Total density\")\n",
    "plot!(subplot=4,S_T,title = \"Total Current\")\n"
   ]
  },
  {
   "cell_type": "code",
   "execution_count": null,
   "metadata": {},
   "outputs": [],
   "source": [
    "E_F = zeros(J)\n",
    "ϕ_F = zeros(J)\n",
    "n_F = zeros(J)\n",
    "get_density!(u, n_F, p)\n",
    "n0 = N/L\n",
    "get_ϕ!(ϕ_F, n_F/n0 .+ 1, κ)\n",
    "#get_ϕ!(ϕ_F, n_F .- n0, κ)\n",
    "get_E_from_ϕ!(ϕ_F,E_F,dx)\n",
    "println(\"averaged total E field = $(sum(E_F))\")\n",
    "println(\"E_total = $(sum(u[2N+1:end])/J)\")\n",
    "println(\"Total velocity = $(sum(u[N+1:2N])/N)\")\n",
    "println(\"Total Charge = $(sum(n_F .- n0))\")\n",
    "println(\"Final Energy = $(get_energy(u,(L, N, J)))\")\n",
    "get_current!(u, S, p)\n",
    "println(\"Total_current = $(sum(S)/J)\")"
   ]
  },
  {
   "cell_type": "markdown",
   "metadata": {},
   "source": [
    "|t_f = 40, Interpolation_1  | |\n",
    "|--------------------------|--|\n",
    "|averaged total E field | -9.159339953157541e-16 |\n",
    "|E_total  |-0.0003034171290374146 |\n",
    "|Total velocity | 0.00012033529851105414 |\n",
    "|Total Charge | -1.4495071809506044e-12 |\n",
    "|Final Energy | (95666.07007308169, 4633.002504126332) |\n",
    "|Total_current | 0.024067059702236576 |\n",
    "|Constraint | 0.010031818096308 |\n",
    "|Energy change | 1.7402810260691252e-5 |\n",
    "|Final temperature | 9.572090738530141 |\n",
    "\n",
    "\n",
    "|t_f = 40, Interpolation_2  | |\n",
    "|--------------------------|--|\n",
    "|averaged total E field | 7.494005416219807e-16 |\n",
    "|E_total | -0.00030310449062972825 |\n",
    "|Total velocity | 0.00015129620185743987 |\n",
    "|Total Charge | -1.8758328224066645e-12 |\n",
    "|Final Energy | (95722.30031857773, 4591.237628590617) |\n",
    "|Total_current | 0.030259240371492278 |\n",
    "|Constraint | 0.009790360640070031 |\n",
    "|Energy change | 0.0001650026355367839  |\n",
    "|Final temperature | 9.577702463840646 |\n",
    "\n",
    "\n",
    "We don't see much change among both interpolation schemes."
   ]
  },
  {
   "cell_type": "markdown",
   "metadata": {},
   "source": [
    "### Statistical quantities"
   ]
  },
  {
   "cell_type": "code",
   "execution_count": null,
   "metadata": {},
   "outputs": [],
   "source": [
    "get_density!(u,n,p)\n",
    "get_current!(u,S,p)\n",
    "plot(layout=(2,2))\n",
    "plot!(subplot=1,x,n*L/N .- 1, title = \"density\", legend =:false)\n",
    "plot!(subplot=2,x,S*L/N, title = \"current\", legend =:false)\n",
    "histogram!(subplot=3,u[1:N], title = \"density\", legend =:false)\n",
    "histogram!(subplot=4,u[N+1:2N], title = \"velocity\", legend =:false)"
   ]
  },
  {
   "cell_type": "markdown",
   "metadata": {},
   "source": [
    "### Final Particle Configuration"
   ]
  },
  {
   "cell_type": "code",
   "execution_count": null,
   "metadata": {},
   "outputs": [],
   "source": [
    "scatter(u[1:N],u[N+1:2N]\n",
    "#, thickness_scaling = 0.3\n",
    ", markersize = 0.3\n",
    ", title = \"phase-space\", legend =:false)\n",
    "#png(\"t40_256_4_5_o$(order)_ps\")"
   ]
  },
  {
   "cell_type": "markdown",
   "metadata": {},
   "source": [
    "### Constraint propagation:\n",
    "\n",
    "We now look at constraint propagation. We compute the electric field from the constraint and compare with the one from the evolution."
   ]
  },
  {
   "cell_type": "code",
   "execution_count": null,
   "metadata": {},
   "outputs": [],
   "source": [
    "\n",
    "plot(x,u[2N+1:end], label = \"dynamical\", title=\"Electric Field with order = $(order)\")\n",
    "plot!(x,E_F,label=\"from constraint\", ls=:dash)\n",
    "#t_f = 40\n",
    "#png(\"t$(t_f)_$(J)_8_5_o$(order)_E\")\n"
   ]
  },
  {
   "cell_type": "code",
   "execution_count": null,
   "metadata": {},
   "outputs": [],
   "source": [
    "plot(x,u[2N+1:end]-E_F, label = \"difference\", title=\"Electric Field\")\n",
    "#png(\"electric_diff_t$(t_f)_$(J)_8_5_o$(order)\")"
   ]
  },
  {
   "cell_type": "code",
   "execution_count": null,
   "metadata": {},
   "outputs": [],
   "source": [
    "constraint = sum(abs.(u[2N+1:end]-E_F))/J\n",
    "println(\"Constraint = $(constraint)\")"
   ]
  },
  {
   "cell_type": "markdown",
   "metadata": {},
   "source": [
    "$|E_d - E_c|/J$ \n",
    "\n",
    "|  order |  N     |  J  | t |  constraint    | $\\Delta E$ / E  |\n",
    "|--------|--------|-----|----|-------|-----------------|\n",
    "|     1  | $8\\; 10^5$ |  512| 20 | 0.036849  |   $10^{-3}$|\n",
    "|  2 | $8 \\;10^5$  |  512| 20  |0.023689   | 0.000494  |\n",
    "|  3 |  $8 \\;10^5$ | 512| 20   | 0.016713  | 0.0003277  |\n",
    "|  4 | $8 \\;10^5$  |  512| 20  | 0.01221  | 0.0002313  |\n",
    "|  5 | $8 \\;10^5$  | 512| 20   | 0.00915  |  0.000170745 |\n",
    "|  5 | $8 \\;10^5$  | 512| 40   |  0.015966 |  0.000231 |\n",
    "|  5 | $4 \\;10^5$  |  256 | 40  | 0.00359  | 5.25e-5 |\n",
    "|  5 | $8 \\;10^5$  | 256  | 40  | 0.00255  | 2.48e-5|\n",
    "|   |   |   |   |   |\n"
   ]
  },
  {
   "cell_type": "markdown",
   "metadata": {},
   "source": [
    "### TVD\n",
    "\n",
    "We next study who rought is the solution. This is important to compute the derivatives of the electric and magnetic fields for doing full 3-D evolution."
   ]
  },
  {
   "cell_type": "code",
   "execution_count": null,
   "metadata": {},
   "outputs": [],
   "source": [
    "sum(abs.(u[2N+2:end] - u[2N+1:end-1]))"
   ]
  },
  {
   "cell_type": "markdown",
   "metadata": {},
   "source": [
    "TVD: \n",
    "\n",
    "L = 100, J = 512\n",
    "\n",
    "N = 40000 \n",
    "\n",
    "1. for order = 2 we get: 36.531276883274664\n",
    "2. for order = 5 we get: 18.208051437913298\n",
    "3. order = 5, J = 256: 13.13132\n",
    "\n",
    "N = 80000\n",
    "\n",
    "1. for order = 2 we get: 27.96514399036865\n",
    "2. for order = 5 we get: 15.360813711818896\n",
    "3. order = 5, 265, 12.078546053176117\n"
   ]
  },
  {
   "cell_type": "markdown",
   "metadata": {},
   "source": [
    "### For animations"
   ]
  },
  {
   "cell_type": "markdown",
   "metadata": {},
   "source": []
  },
  {
   "cell_type": "code",
   "execution_count": null,
   "metadata": {},
   "outputs": [],
   "source": [
    "anim = @animate for i = 1:M_g\n",
    "    scatter(par[i,1:N], par[i,N+1:2N]\n",
    "    , markersize = 0.3\n",
    "    , title = \"phase-space\"\n",
    "    , legend=false\n",
    "    , ylim = (-6,6)\n",
    "    , xlim = (0,100)\n",
    "    )\n",
    "end\n",
    " \n",
    "gif(anim, \"particles_8_5_256_40_fps5.gif\", fps = 5)"
   ]
  }
 ],
 "metadata": {
  "kernelspec": {
   "display_name": "Julia 1.8.1",
   "language": "julia",
   "name": "julia-1.8"
  },
  "language_info": {
   "file_extension": ".jl",
   "mimetype": "application/julia",
   "name": "julia",
   "version": "1.8.1"
  },
  "orig_nbformat": 4
 },
 "nbformat": 4,
 "nbformat_minor": 2
}
