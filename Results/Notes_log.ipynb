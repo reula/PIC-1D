{
 "cells": [
  {
   "cell_type": "markdown",
   "metadata": {},
   "source": [
    "## Notes on different runs (so that we can erase them after getting the data)"
   ]
  },
  {
   "cell_type": "markdown",
   "metadata": {},
   "source": [
    "### Run: (processed in post_pro_landau_rel)\n",
    "\n",
    "landau_damped_rel_t400_L7.455_N8_5_J930_M16001_o5_T3\n",
    "\n",
    "(N, L, J, dx, order) = par_grid = (800000, 7.455, 930, 0.008016129032258065, 5)\n",
    "\n",
    "(t_i, t_f, M, M_g, dt) = par_evolv = (0.0, 400.0, 16001, 1601, 0.025)\n",
    "\n",
    "(θ, nm, κ) = par_f = (0.001, 15, 0.8428149305405213)\n",
    "\n",
    "The electric field is preserving the constraint very well:\n",
    "![electric field constraint preservation](Images/Efield_th1_landau_damped_rel_t400_L7.455_N8_4_J930_M16001_o5_T3.png)"
   ]
  },
  {
   "cell_type": "markdown",
   "metadata": {},
   "source": []
  }
 ],
 "metadata": {
  "language_info": {
   "name": "python"
  },
  "orig_nbformat": 4
 },
 "nbformat": 4,
 "nbformat_minor": 2
}
